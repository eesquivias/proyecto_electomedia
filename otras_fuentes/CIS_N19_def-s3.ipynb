{
 "cells": [
  {
   "cell_type": "markdown",
   "metadata": {
    "id": "8f3TUCujVDS2"
   },
   "source": [
    "# Pronóstico de voto según el CIS"
   ]
  },
  {
   "cell_type": "markdown",
   "metadata": {
    "id": "PaeUj_moVEx6"
   },
   "source": [
    "En este cuaderno estudiamos el macrosondeo electoral del CIS previo a las elecciones de noviembre de 2019. Esencialmente, entrenaremos un modelo a partir de aquellos encuestados que declararon un intención de voto explícitamente, y, con ello, interamos estimar el de aquellos que no lo declararon.\n",
    "\n",
    "Una vez tengamos la estimación, agregaremos los datos para dar una estimación de lo que podría haber estimado el CIS. Por comodidad, y ya que se trata de un ejercicio teórico, nos centramos en una única provinvia, Málaga.\n",
    "\n",
    "El CIS del que hablamos sobrevaloró al PSOE y Cs en 3-4 puntos, e infravaloró al PP y a Vox en 3 y 7 puntos, respectivamente. Veremos que la estimación que hacemos para Málaga siguió la misma línea.\n",
    "\n",
    "Comenzamos cargando las librerias necesarias, así como los microdatos del sondeo, que el CIS las suministra en formato spss."
   ]
  },
  {
   "cell_type": "markdown",
   "metadata": {
    "id": "8pj4mjsfqD7R"
   },
   "source": [
    "## Preprocesado"
   ]
  },
  {
   "cell_type": "code",
   "execution_count": 1,
   "metadata": {
    "executionInfo": {
     "elapsed": 242,
     "status": "ok",
     "timestamp": 1630923898257,
     "user": {
      "displayName": "Guillermo Barrio",
      "photoUrl": "",
      "userId": "06925154007558381895"
     },
     "user_tz": -120
    },
    "id": "oiWrcQJ1ufQt"
   },
   "outputs": [],
   "source": [
    "import pandas as pd\n",
    "import numpy as np"
   ]
  },
  {
   "cell_type": "code",
   "execution_count": 2,
   "metadata": {
    "executionInfo": {
     "elapsed": 248,
     "status": "ok",
     "timestamp": 1630923900742,
     "user": {
      "displayName": "Guillermo Barrio",
      "photoUrl": "",
      "userId": "06925154007558381895"
     },
     "user_tz": -120
    },
    "id": "YG-bcFUd5-39"
   },
   "outputs": [],
   "source": [
    "import matplotlib.pyplot as plt\n",
    "from matplotlib.colors import ListedColormap\n",
    "%matplotlib inline\n",
    "\n",
    "cm = plt.cm.RdBu\n",
    "cm_bright = ListedColormap(['#FF0000', '#0000FF'])\n",
    "\n",
    "import warnings\n",
    "warnings.filterwarnings('ignore')"
   ]
  },
  {
   "cell_type": "code",
   "execution_count": 3,
   "metadata": {
    "colab": {
     "base_uri": "https://localhost:8080/"
    },
    "executionInfo": {
     "elapsed": 3844,
     "status": "ok",
     "timestamp": 1630923906949,
     "user": {
      "displayName": "Guillermo Barrio",
      "photoUrl": "",
      "userId": "06925154007558381895"
     },
     "user_tz": -120
    },
    "id": "ciec9ShLuojY",
    "outputId": "be953fb2-a4fd-4803-9688-81f835f97525"
   },
   "outputs": [
    {
     "name": "stdout",
     "output_type": "stream",
     "text": [
      "Requirement already satisfied: pyreadstat in c:\\users\\evaes\\anaconda3\\lib\\site-packages (1.1.2)\n",
      "Requirement already satisfied: pandas>0.24.0 in c:\\users\\evaes\\anaconda3\\lib\\site-packages (from pyreadstat) (1.0.5)\n",
      "Requirement already satisfied: python-dateutil>=2.6.1 in c:\\users\\evaes\\anaconda3\\lib\\site-packages (from pandas>0.24.0->pyreadstat) (2.8.1)\n",
      "Requirement already satisfied: numpy>=1.13.3 in c:\\users\\evaes\\anaconda3\\lib\\site-packages (from pandas>0.24.0->pyreadstat) (1.18.5)\n",
      "Requirement already satisfied: pytz>=2017.2 in c:\\users\\evaes\\anaconda3\\lib\\site-packages (from pandas>0.24.0->pyreadstat) (2020.1)\n",
      "Requirement already satisfied: six>=1.5 in c:\\users\\evaes\\anaconda3\\lib\\site-packages (from python-dateutil>=2.6.1->pandas>0.24.0->pyreadstat) (1.15.0)\n"
     ]
    },
    {
     "name": "stderr",
     "output_type": "stream",
     "text": [
      "WARNING: You are using pip version 21.1.3; however, version 21.2.4 is available.\n",
      "You should consider upgrading via the 'c:\\users\\evaes\\anaconda3\\python.exe -m pip install --upgrade pip' command.\n"
     ]
    }
   ],
   "source": [
    "!pip install pyreadstat"
   ]
  },
  {
   "cell_type": "code",
   "execution_count": 4,
   "metadata": {
    "executionInfo": {
     "elapsed": 224,
     "status": "ok",
     "timestamp": 1630923908841,
     "user": {
      "displayName": "Guillermo Barrio",
      "photoUrl": "",
      "userId": "06925154007558381895"
     },
     "user_tz": -120
    },
    "id": "jYTnScFVvGmJ"
   },
   "outputs": [],
   "source": [
    "import pyreadstat"
   ]
  },
  {
   "cell_type": "code",
   "execution_count": 5,
   "metadata": {},
   "outputs": [
    {
     "name": "stdout",
     "output_type": "stream",
     "text": [
      "Requirement already satisfied: boto3 in c:\\users\\evaes\\anaconda3\\lib\\site-packages (1.18.27)\n",
      "Requirement already satisfied: s3transfer<0.6.0,>=0.5.0 in c:\\users\\evaes\\anaconda3\\lib\\site-packages (from boto3) (0.5.0)\n",
      "Requirement already satisfied: jmespath<1.0.0,>=0.7.1 in c:\\users\\evaes\\anaconda3\\lib\\site-packages (from boto3) (0.10.0)\n",
      "Requirement already satisfied: botocore<1.22.0,>=1.21.27 in c:\\users\\evaes\\anaconda3\\lib\\site-packages (from boto3) (1.21.27)\n",
      "Requirement already satisfied: python-dateutil<3.0.0,>=2.1 in c:\\users\\evaes\\anaconda3\\lib\\site-packages (from botocore<1.22.0,>=1.21.27->boto3) (2.8.1)\n",
      "Requirement already satisfied: urllib3<1.27,>=1.25.4 in c:\\users\\evaes\\anaconda3\\lib\\site-packages (from botocore<1.22.0,>=1.21.27->boto3) (1.25.9)\n",
      "Requirement already satisfied: six>=1.5 in c:\\users\\evaes\\anaconda3\\lib\\site-packages (from python-dateutil<3.0.0,>=2.1->botocore<1.22.0,>=1.21.27->boto3) (1.15.0)\n"
     ]
    },
    {
     "name": "stderr",
     "output_type": "stream",
     "text": [
      "WARNING: You are using pip version 21.1.3; however, version 21.2.4 is available.\n",
      "You should consider upgrading via the 'c:\\users\\evaes\\anaconda3\\python.exe -m pip install --upgrade pip' command.\n"
     ]
    }
   ],
   "source": [
    "#la primera vez...\n",
    "!pip install boto3 "
   ]
  },
  {
   "cell_type": "code",
   "execution_count": 6,
   "metadata": {},
   "outputs": [],
   "source": [
    "import boto3\n",
    "\n",
    "BUCKET_NAME = 'electomedia' \n",
    "\n",
    "# sustituir por credenciales de acceso. \n",
    "s3 = boto3.resource('s3', aws_access_key_id = 'xxxxxxxxxx', \n",
    "                          aws_secret_access_key= 'xxxxxxxxxxxxxxx')"
   ]
  },
  {
   "cell_type": "code",
   "execution_count": 7,
   "metadata": {},
   "outputs": [],
   "source": [
    "import botocore.exceptions\n",
    "\n",
    "KEY = 'EstimacionOtrasFuentes/CIS_N19.sav' \n",
    "\n",
    "try:\n",
    "    s3.Bucket(BUCKET_NAME).download_file(KEY, 'CIS_N19.sav')\n",
    "except botocore.exceptions.ClientError as e:\n",
    "    if e.response['Error']['Code'] == \"404\":\n",
    "    print(\"The object does not exist.\")\n",
    "    else:\n",
    "    raise"
   ]
  },
  {
   "cell_type": "code",
   "execution_count": 8,
   "metadata": {
    "executionInfo": {
     "elapsed": 1821,
     "status": "ok",
     "timestamp": 1630929561921,
     "user": {
      "displayName": "Guillermo Barrio",
      "photoUrl": "",
      "userId": "06925154007558381895"
     },
     "user_tz": -120
    },
    "id": "Vx7yEUDiuogq"
   },
   "outputs": [],
   "source": [
    "cis = pd.read_spss('CIS_N19.sav')"
   ]
  },
  {
   "cell_type": "code",
   "execution_count": 9,
   "metadata": {
    "colab": {
     "base_uri": "https://localhost:8080/",
     "height": 678
    },
    "executionInfo": {
     "elapsed": 275,
     "status": "ok",
     "timestamp": 1630929563859,
     "user": {
      "displayName": "Guillermo Barrio",
      "photoUrl": "",
      "userId": "06925154007558381895"
     },
     "user_tz": -120
    },
    "id": "NW9WB9BouoeK",
    "outputId": "57091faf-9864-4d31-8496-ca8fbb49d52f"
   },
   "outputs": [
    {
     "data": {
      "text/html": [
       "<div>\n",
       "<style scoped>\n",
       "    .dataframe tbody tr th:only-of-type {\n",
       "        vertical-align: middle;\n",
       "    }\n",
       "\n",
       "    .dataframe tbody tr th {\n",
       "        vertical-align: top;\n",
       "    }\n",
       "\n",
       "    .dataframe thead th {\n",
       "        text-align: right;\n",
       "    }\n",
       "</style>\n",
       "<table border=\"1\" class=\"dataframe\">\n",
       "  <thead>\n",
       "    <tr style=\"text-align: right;\">\n",
       "      <th></th>\n",
       "      <th>ESTU</th>\n",
       "      <th>CUES</th>\n",
       "      <th>CCAA</th>\n",
       "      <th>PROV</th>\n",
       "      <th>MUN</th>\n",
       "      <th>TAMUNI</th>\n",
       "      <th>CAPITAL</th>\n",
       "      <th>DISTR</th>\n",
       "      <th>SECCION</th>\n",
       "      <th>ENTREV</th>\n",
       "      <th>...</th>\n",
       "      <th>VOTOSIMG</th>\n",
       "      <th>P9BR</th>\n",
       "      <th>P13R</th>\n",
       "      <th>P14R</th>\n",
       "      <th>P15R</th>\n",
       "      <th>P17AR</th>\n",
       "      <th>RECUERDO</th>\n",
       "      <th>ESTUDIOS</th>\n",
       "      <th>PESO</th>\n",
       "      <th>PESOCCAA</th>\n",
       "    </tr>\n",
       "  </thead>\n",
       "  <tbody>\n",
       "    <tr>\n",
       "      <th>0</th>\n",
       "      <td>3263.0</td>\n",
       "      <td>1.0</td>\n",
       "      <td>País Vasco</td>\n",
       "      <td>Araba/Álava</td>\n",
       "      <td>Burgos / Vitoria-Gasteiz</td>\n",
       "      <td>100.001 a 400.000 habitantes</td>\n",
       "      <td>Capital de CC.AA.</td>\n",
       "      <td>Anonimizado</td>\n",
       "      <td>Anonimizado</td>\n",
       "      <td>Anonimizado</td>\n",
       "      <td>...</td>\n",
       "      <td>PSOE</td>\n",
       "      <td>NaN</td>\n",
       "      <td>PSOE</td>\n",
       "      <td>N.S.</td>\n",
       "      <td>PSOE</td>\n",
       "      <td>PSOE</td>\n",
       "      <td>PSOE</td>\n",
       "      <td>Secundaria 1ª etapa</td>\n",
       "      <td>0.52587</td>\n",
       "      <td>0.5208</td>\n",
       "    </tr>\n",
       "    <tr>\n",
       "      <th>1</th>\n",
       "      <td>3263.0</td>\n",
       "      <td>2.0</td>\n",
       "      <td>País Vasco</td>\n",
       "      <td>Araba/Álava</td>\n",
       "      <td>Burgos / Vitoria-Gasteiz</td>\n",
       "      <td>100.001 a 400.000 habitantes</td>\n",
       "      <td>Capital de CC.AA.</td>\n",
       "      <td>Anonimizado</td>\n",
       "      <td>Anonimizado</td>\n",
       "      <td>Anonimizado</td>\n",
       "      <td>...</td>\n",
       "      <td>No sabe todavía</td>\n",
       "      <td>NaN</td>\n",
       "      <td>EH Bildu</td>\n",
       "      <td>PSOE</td>\n",
       "      <td>Unidas Podemos</td>\n",
       "      <td>EH Bildu</td>\n",
       "      <td>EH Bildu</td>\n",
       "      <td>Superiores</td>\n",
       "      <td>0.52587</td>\n",
       "      <td>0.5208</td>\n",
       "    </tr>\n",
       "    <tr>\n",
       "      <th>2</th>\n",
       "      <td>3263.0</td>\n",
       "      <td>3.0</td>\n",
       "      <td>País Vasco</td>\n",
       "      <td>Araba/Álava</td>\n",
       "      <td>Burgos / Vitoria-Gasteiz</td>\n",
       "      <td>100.001 a 400.000 habitantes</td>\n",
       "      <td>Capital de CC.AA.</td>\n",
       "      <td>Anonimizado</td>\n",
       "      <td>Anonimizado</td>\n",
       "      <td>Anonimizado</td>\n",
       "      <td>...</td>\n",
       "      <td>PP</td>\n",
       "      <td>No votaría</td>\n",
       "      <td>PP</td>\n",
       "      <td>PSOE</td>\n",
       "      <td>N.C.</td>\n",
       "      <td>NaN</td>\n",
       "      <td>No votó</td>\n",
       "      <td>Primaria</td>\n",
       "      <td>0.52587</td>\n",
       "      <td>0.5208</td>\n",
       "    </tr>\n",
       "    <tr>\n",
       "      <th>3</th>\n",
       "      <td>3263.0</td>\n",
       "      <td>4.0</td>\n",
       "      <td>País Vasco</td>\n",
       "      <td>Araba/Álava</td>\n",
       "      <td>Burgos / Vitoria-Gasteiz</td>\n",
       "      <td>100.001 a 400.000 habitantes</td>\n",
       "      <td>Capital de CC.AA.</td>\n",
       "      <td>Anonimizado</td>\n",
       "      <td>Anonimizado</td>\n",
       "      <td>Anonimizado</td>\n",
       "      <td>...</td>\n",
       "      <td>En blanco</td>\n",
       "      <td>NaN</td>\n",
       "      <td>Ninguno</td>\n",
       "      <td>N.S.</td>\n",
       "      <td>N.S.</td>\n",
       "      <td>N.C.</td>\n",
       "      <td>N.C.</td>\n",
       "      <td>Superiores</td>\n",
       "      <td>0.52587</td>\n",
       "      <td>0.5208</td>\n",
       "    </tr>\n",
       "    <tr>\n",
       "      <th>4</th>\n",
       "      <td>3263.0</td>\n",
       "      <td>5.0</td>\n",
       "      <td>País Vasco</td>\n",
       "      <td>Araba/Álava</td>\n",
       "      <td>Burgos / Vitoria-Gasteiz</td>\n",
       "      <td>100.001 a 400.000 habitantes</td>\n",
       "      <td>Capital de CC.AA.</td>\n",
       "      <td>Anonimizado</td>\n",
       "      <td>Anonimizado</td>\n",
       "      <td>Anonimizado</td>\n",
       "      <td>...</td>\n",
       "      <td>N.C.</td>\n",
       "      <td>NaN</td>\n",
       "      <td>Unidas Podemos</td>\n",
       "      <td>PSOE</td>\n",
       "      <td>EH Bildu</td>\n",
       "      <td>N.C.</td>\n",
       "      <td>N.C.</td>\n",
       "      <td>Superiores</td>\n",
       "      <td>0.52587</td>\n",
       "      <td>0.5208</td>\n",
       "    </tr>\n",
       "  </tbody>\n",
       "</table>\n",
       "<p>5 rows × 146 columns</p>\n",
       "</div>"
      ],
      "text/plain": [
       "     ESTU  CUES        CCAA         PROV                       MUN  \\\n",
       "0  3263.0   1.0  País Vasco  Araba/Álava  Burgos / Vitoria-Gasteiz   \n",
       "1  3263.0   2.0  País Vasco  Araba/Álava  Burgos / Vitoria-Gasteiz   \n",
       "2  3263.0   3.0  País Vasco  Araba/Álava  Burgos / Vitoria-Gasteiz   \n",
       "3  3263.0   4.0  País Vasco  Araba/Álava  Burgos / Vitoria-Gasteiz   \n",
       "4  3263.0   5.0  País Vasco  Araba/Álava  Burgos / Vitoria-Gasteiz   \n",
       "\n",
       "                         TAMUNI            CAPITAL        DISTR      SECCION  \\\n",
       "0  100.001 a 400.000 habitantes  Capital de CC.AA.  Anonimizado  Anonimizado   \n",
       "1  100.001 a 400.000 habitantes  Capital de CC.AA.  Anonimizado  Anonimizado   \n",
       "2  100.001 a 400.000 habitantes  Capital de CC.AA.  Anonimizado  Anonimizado   \n",
       "3  100.001 a 400.000 habitantes  Capital de CC.AA.  Anonimizado  Anonimizado   \n",
       "4  100.001 a 400.000 habitantes  Capital de CC.AA.  Anonimizado  Anonimizado   \n",
       "\n",
       "        ENTREV  ...         VOTOSIMG        P9BR            P13R  P14R  \\\n",
       "0  Anonimizado  ...             PSOE         NaN            PSOE  N.S.   \n",
       "1  Anonimizado  ...  No sabe todavía         NaN        EH Bildu  PSOE   \n",
       "2  Anonimizado  ...               PP  No votaría              PP  PSOE   \n",
       "3  Anonimizado  ...        En blanco         NaN         Ninguno  N.S.   \n",
       "4  Anonimizado  ...             N.C.         NaN  Unidas Podemos  PSOE   \n",
       "\n",
       "             P15R     P17AR  RECUERDO             ESTUDIOS     PESO PESOCCAA  \n",
       "0            PSOE      PSOE      PSOE  Secundaria 1ª etapa  0.52587   0.5208  \n",
       "1  Unidas Podemos  EH Bildu  EH Bildu           Superiores  0.52587   0.5208  \n",
       "2            N.C.       NaN   No votó             Primaria  0.52587   0.5208  \n",
       "3            N.S.      N.C.      N.C.           Superiores  0.52587   0.5208  \n",
       "4        EH Bildu      N.C.      N.C.           Superiores  0.52587   0.5208  \n",
       "\n",
       "[5 rows x 146 columns]"
      ]
     },
     "execution_count": 9,
     "metadata": {},
     "output_type": "execute_result"
    }
   ],
   "source": [
    "cis.head()"
   ]
  },
  {
   "cell_type": "markdown",
   "metadata": {
    "id": "YWUt9jp6WlXG"
   },
   "source": [
    "Vemos que tenemos 146 filas; sin duda, no todas serán imprescindibles. El número de encuestas fue de algo más de 17 mil."
   ]
  },
  {
   "cell_type": "code",
   "execution_count": 10,
   "metadata": {
    "colab": {
     "base_uri": "https://localhost:8080/"
    },
    "executionInfo": {
     "elapsed": 226,
     "status": "ok",
     "timestamp": 1630929567993,
     "user": {
      "displayName": "Guillermo Barrio",
      "photoUrl": "",
      "userId": "06925154007558381895"
     },
     "user_tz": -120
    },
    "id": "7go9SppBuobQ",
    "outputId": "e7c57882-8f75-4267-bcdd-21ebbdff1763"
   },
   "outputs": [
    {
     "data": {
      "text/plain": [
       "(17650, 146)"
      ]
     },
     "execution_count": 10,
     "metadata": {},
     "output_type": "execute_result"
    }
   ],
   "source": [
    "cis.shape"
   ]
  },
  {
   "cell_type": "code",
   "execution_count": 11,
   "metadata": {
    "executionInfo": {
     "elapsed": 328,
     "status": "ok",
     "timestamp": 1630929569786,
     "user": {
      "displayName": "Guillermo Barrio",
      "photoUrl": "",
      "userId": "06925154007558381895"
     },
     "user_tz": -120
    },
    "id": "xdUKqevzuoYp"
   },
   "outputs": [],
   "source": [
    "cols = cis.columns"
   ]
  },
  {
   "cell_type": "code",
   "execution_count": 12,
   "metadata": {
    "colab": {
     "base_uri": "https://localhost:8080/"
    },
    "executionInfo": {
     "elapsed": 8,
     "status": "ok",
     "timestamp": 1630929571817,
     "user": {
      "displayName": "Guillermo Barrio",
      "photoUrl": "",
      "userId": "06925154007558381895"
     },
     "user_tz": -120
    },
    "id": "bJGY69_OuoVw",
    "outputId": "ac57662a-9f11-4a10-a024-a0f5a9a14a83"
   },
   "outputs": [
    {
     "data": {
      "text/plain": [
       "Index(['ESTU', 'CUES', 'CCAA', 'PROV', 'MUN', 'TAMUNI', 'CAPITAL', 'DISTR',\n",
       "       'SECCION', 'ENTREV',\n",
       "       ...\n",
       "       'VOTOSIMG', 'P9BR', 'P13R', 'P14R', 'P15R', 'P17AR', 'RECUERDO',\n",
       "       'ESTUDIOS', 'PESO', 'PESOCCAA'],\n",
       "      dtype='object', length=146)"
      ]
     },
     "execution_count": 12,
     "metadata": {},
     "output_type": "execute_result"
    }
   ],
   "source": [
    "cols"
   ]
  },
  {
   "cell_type": "code",
   "execution_count": null,
   "metadata": {
    "id": "ezqCV9lPuoS5"
   },
   "outputs": [],
   "source": []
  },
  {
   "cell_type": "markdown",
   "metadata": {
    "id": "a2NpbWfRWxmG"
   },
   "source": [
    "Como hemos indicado, nos centraremos en la provincia de Málaga."
   ]
  },
  {
   "cell_type": "code",
   "execution_count": 13,
   "metadata": {
    "executionInfo": {
     "elapsed": 237,
     "status": "ok",
     "timestamp": 1630929574133,
     "user": {
      "displayName": "Guillermo Barrio",
      "photoUrl": "",
      "userId": "06925154007558381895"
     },
     "user_tz": -120
    },
    "id": "nBlugnWCuoQJ"
   },
   "outputs": [],
   "source": [
    "cis_malaga = cis.loc[cis['PROV'] == 'Málaga']"
   ]
  },
  {
   "cell_type": "code",
   "execution_count": 14,
   "metadata": {
    "colab": {
     "base_uri": "https://localhost:8080/",
     "height": 1000
    },
    "executionInfo": {
     "elapsed": 782,
     "status": "ok",
     "timestamp": 1630929576710,
     "user": {
      "displayName": "Guillermo Barrio",
      "photoUrl": "",
      "userId": "06925154007558381895"
     },
     "user_tz": -120
    },
    "id": "5eern3xzuoNY",
    "outputId": "368cf923-1735-4487-a0c7-d4b55364d4dd"
   },
   "outputs": [
    {
     "data": {
      "text/html": [
       "<div>\n",
       "<style scoped>\n",
       "    .dataframe tbody tr th:only-of-type {\n",
       "        vertical-align: middle;\n",
       "    }\n",
       "\n",
       "    .dataframe tbody tr th {\n",
       "        vertical-align: top;\n",
       "    }\n",
       "\n",
       "    .dataframe thead th {\n",
       "        text-align: right;\n",
       "    }\n",
       "</style>\n",
       "<table border=\"1\" class=\"dataframe\">\n",
       "  <thead>\n",
       "    <tr style=\"text-align: right;\">\n",
       "      <th></th>\n",
       "      <th>ESTU</th>\n",
       "      <th>CUES</th>\n",
       "      <th>CCAA</th>\n",
       "      <th>PROV</th>\n",
       "      <th>MUN</th>\n",
       "      <th>TAMUNI</th>\n",
       "      <th>CAPITAL</th>\n",
       "      <th>DISTR</th>\n",
       "      <th>SECCION</th>\n",
       "      <th>ENTREV</th>\n",
       "      <th>...</th>\n",
       "      <th>VOTOSIMG</th>\n",
       "      <th>P9BR</th>\n",
       "      <th>P13R</th>\n",
       "      <th>P14R</th>\n",
       "      <th>P15R</th>\n",
       "      <th>P17AR</th>\n",
       "      <th>RECUERDO</th>\n",
       "      <th>ESTUDIOS</th>\n",
       "      <th>PESO</th>\n",
       "      <th>PESOCCAA</th>\n",
       "    </tr>\n",
       "  </thead>\n",
       "  <tbody>\n",
       "    <tr>\n",
       "      <th>9768</th>\n",
       "      <td>3263.0</td>\n",
       "      <td>9980.0</td>\n",
       "      <td>Andalucía</td>\n",
       "      <td>Málaga</td>\n",
       "      <td>Donostia/San Sebastián / Marbella</td>\n",
       "      <td>100.001 a 400.000 habitantes</td>\n",
       "      <td>Otros municipios</td>\n",
       "      <td>Anonimizado</td>\n",
       "      <td>Anonimizado</td>\n",
       "      <td>Anonimizado</td>\n",
       "      <td>...</td>\n",
       "      <td>Unidas Podemos</td>\n",
       "      <td>Unidas Podemos</td>\n",
       "      <td>IU</td>\n",
       "      <td>PSOE</td>\n",
       "      <td>Unidas Podemos</td>\n",
       "      <td>Unidas Podemos</td>\n",
       "      <td>Unidas Podemos</td>\n",
       "      <td>Secundaria 2ª etapa</td>\n",
       "      <td>1.19808</td>\n",
       "      <td>1.129</td>\n",
       "    </tr>\n",
       "    <tr>\n",
       "      <th>9769</th>\n",
       "      <td>3263.0</td>\n",
       "      <td>9981.0</td>\n",
       "      <td>Andalucía</td>\n",
       "      <td>Málaga</td>\n",
       "      <td>Donostia/San Sebastián / Marbella</td>\n",
       "      <td>100.001 a 400.000 habitantes</td>\n",
       "      <td>Otros municipios</td>\n",
       "      <td>Anonimizado</td>\n",
       "      <td>Anonimizado</td>\n",
       "      <td>Anonimizado</td>\n",
       "      <td>...</td>\n",
       "      <td>PSOE</td>\n",
       "      <td>N.S.</td>\n",
       "      <td>PSOE</td>\n",
       "      <td>PSOE</td>\n",
       "      <td>PSOE</td>\n",
       "      <td>PSOE</td>\n",
       "      <td>PSOE</td>\n",
       "      <td>Sin estudios</td>\n",
       "      <td>1.19808</td>\n",
       "      <td>1.129</td>\n",
       "    </tr>\n",
       "    <tr>\n",
       "      <th>9770</th>\n",
       "      <td>3263.0</td>\n",
       "      <td>9982.0</td>\n",
       "      <td>Andalucía</td>\n",
       "      <td>Málaga</td>\n",
       "      <td>Donostia/San Sebastián / Marbella</td>\n",
       "      <td>100.001 a 400.000 habitantes</td>\n",
       "      <td>Otros municipios</td>\n",
       "      <td>Anonimizado</td>\n",
       "      <td>Anonimizado</td>\n",
       "      <td>Anonimizado</td>\n",
       "      <td>...</td>\n",
       "      <td>PSOE</td>\n",
       "      <td>PP</td>\n",
       "      <td>PSOE</td>\n",
       "      <td>PSOE</td>\n",
       "      <td>PSOE</td>\n",
       "      <td>PSOE</td>\n",
       "      <td>PSOE</td>\n",
       "      <td>Secundaria 1ª etapa</td>\n",
       "      <td>1.19808</td>\n",
       "      <td>1.129</td>\n",
       "    </tr>\n",
       "    <tr>\n",
       "      <th>9771</th>\n",
       "      <td>3263.0</td>\n",
       "      <td>9983.0</td>\n",
       "      <td>Andalucía</td>\n",
       "      <td>Málaga</td>\n",
       "      <td>Donostia/San Sebastián / Marbella</td>\n",
       "      <td>100.001 a 400.000 habitantes</td>\n",
       "      <td>Otros municipios</td>\n",
       "      <td>Anonimizado</td>\n",
       "      <td>Anonimizado</td>\n",
       "      <td>Anonimizado</td>\n",
       "      <td>...</td>\n",
       "      <td>VOX</td>\n",
       "      <td>PSOE</td>\n",
       "      <td>PSOE</td>\n",
       "      <td>PSOE</td>\n",
       "      <td>VOX</td>\n",
       "      <td>PSOE</td>\n",
       "      <td>PSOE</td>\n",
       "      <td>F.P.</td>\n",
       "      <td>1.19808</td>\n",
       "      <td>1.129</td>\n",
       "    </tr>\n",
       "    <tr>\n",
       "      <th>9772</th>\n",
       "      <td>3263.0</td>\n",
       "      <td>9984.0</td>\n",
       "      <td>Andalucía</td>\n",
       "      <td>Málaga</td>\n",
       "      <td>Donostia/San Sebastián / Marbella</td>\n",
       "      <td>100.001 a 400.000 habitantes</td>\n",
       "      <td>Otros municipios</td>\n",
       "      <td>Anonimizado</td>\n",
       "      <td>Anonimizado</td>\n",
       "      <td>Anonimizado</td>\n",
       "      <td>...</td>\n",
       "      <td>PSOE</td>\n",
       "      <td>No votaría</td>\n",
       "      <td>PSOE</td>\n",
       "      <td>PSOE</td>\n",
       "      <td>PSOE</td>\n",
       "      <td>PSOE</td>\n",
       "      <td>PSOE</td>\n",
       "      <td>Secundaria 1ª etapa</td>\n",
       "      <td>1.19808</td>\n",
       "      <td>1.129</td>\n",
       "    </tr>\n",
       "    <tr>\n",
       "      <th>...</th>\n",
       "      <td>...</td>\n",
       "      <td>...</td>\n",
       "      <td>...</td>\n",
       "      <td>...</td>\n",
       "      <td>...</td>\n",
       "      <td>...</td>\n",
       "      <td>...</td>\n",
       "      <td>...</td>\n",
       "      <td>...</td>\n",
       "      <td>...</td>\n",
       "      <td>...</td>\n",
       "      <td>...</td>\n",
       "      <td>...</td>\n",
       "      <td>...</td>\n",
       "      <td>...</td>\n",
       "      <td>...</td>\n",
       "      <td>...</td>\n",
       "      <td>...</td>\n",
       "      <td>...</td>\n",
       "      <td>...</td>\n",
       "      <td>...</td>\n",
       "    </tr>\n",
       "    <tr>\n",
       "      <th>10246</th>\n",
       "      <td>3263.0</td>\n",
       "      <td>10458.0</td>\n",
       "      <td>Andalucía</td>\n",
       "      <td>Málaga</td>\n",
       "      <td>Málaga</td>\n",
       "      <td>400.001 a 1.000.000 habitantes</td>\n",
       "      <td>Capital de provincia</td>\n",
       "      <td>Anonimizado</td>\n",
       "      <td>Anonimizado</td>\n",
       "      <td>Anonimizado</td>\n",
       "      <td>...</td>\n",
       "      <td>PP</td>\n",
       "      <td>VOX</td>\n",
       "      <td>PP</td>\n",
       "      <td>PSOE</td>\n",
       "      <td>PP</td>\n",
       "      <td>VOX</td>\n",
       "      <td>VOX</td>\n",
       "      <td>Secundaria 1ª etapa</td>\n",
       "      <td>1.19808</td>\n",
       "      <td>1.129</td>\n",
       "    </tr>\n",
       "    <tr>\n",
       "      <th>10247</th>\n",
       "      <td>3263.0</td>\n",
       "      <td>10459.0</td>\n",
       "      <td>Andalucía</td>\n",
       "      <td>Málaga</td>\n",
       "      <td>Málaga</td>\n",
       "      <td>400.001 a 1.000.000 habitantes</td>\n",
       "      <td>Capital de provincia</td>\n",
       "      <td>Anonimizado</td>\n",
       "      <td>Anonimizado</td>\n",
       "      <td>Anonimizado</td>\n",
       "      <td>...</td>\n",
       "      <td>PSOE</td>\n",
       "      <td>En blanco</td>\n",
       "      <td>PSOE</td>\n",
       "      <td>PSOE</td>\n",
       "      <td>PSOE</td>\n",
       "      <td>PSOE</td>\n",
       "      <td>PSOE</td>\n",
       "      <td>Secundaria 1ª etapa</td>\n",
       "      <td>1.19808</td>\n",
       "      <td>1.129</td>\n",
       "    </tr>\n",
       "    <tr>\n",
       "      <th>10248</th>\n",
       "      <td>3263.0</td>\n",
       "      <td>10460.0</td>\n",
       "      <td>Andalucía</td>\n",
       "      <td>Málaga</td>\n",
       "      <td>Málaga</td>\n",
       "      <td>400.001 a 1.000.000 habitantes</td>\n",
       "      <td>Capital de provincia</td>\n",
       "      <td>Anonimizado</td>\n",
       "      <td>Anonimizado</td>\n",
       "      <td>Anonimizado</td>\n",
       "      <td>...</td>\n",
       "      <td>No votaría</td>\n",
       "      <td>NaN</td>\n",
       "      <td>Ciudadanos</td>\n",
       "      <td>PSOE</td>\n",
       "      <td>Ciudadanos</td>\n",
       "      <td>Ciudadanos</td>\n",
       "      <td>C's</td>\n",
       "      <td>Primaria</td>\n",
       "      <td>1.19808</td>\n",
       "      <td>1.129</td>\n",
       "    </tr>\n",
       "    <tr>\n",
       "      <th>10249</th>\n",
       "      <td>3263.0</td>\n",
       "      <td>10461.0</td>\n",
       "      <td>Andalucía</td>\n",
       "      <td>Málaga</td>\n",
       "      <td>Málaga</td>\n",
       "      <td>400.001 a 1.000.000 habitantes</td>\n",
       "      <td>Capital de provincia</td>\n",
       "      <td>Anonimizado</td>\n",
       "      <td>Anonimizado</td>\n",
       "      <td>Anonimizado</td>\n",
       "      <td>...</td>\n",
       "      <td>En blanco</td>\n",
       "      <td>NaN</td>\n",
       "      <td>Ninguno</td>\n",
       "      <td>PSOE</td>\n",
       "      <td>Ninguno</td>\n",
       "      <td>En blanco</td>\n",
       "      <td>En blanco</td>\n",
       "      <td>Superiores</td>\n",
       "      <td>1.19808</td>\n",
       "      <td>1.129</td>\n",
       "    </tr>\n",
       "    <tr>\n",
       "      <th>10250</th>\n",
       "      <td>3263.0</td>\n",
       "      <td>10462.0</td>\n",
       "      <td>Andalucía</td>\n",
       "      <td>Málaga</td>\n",
       "      <td>Málaga</td>\n",
       "      <td>400.001 a 1.000.000 habitantes</td>\n",
       "      <td>Capital de provincia</td>\n",
       "      <td>Anonimizado</td>\n",
       "      <td>Anonimizado</td>\n",
       "      <td>Anonimizado</td>\n",
       "      <td>...</td>\n",
       "      <td>No votaría</td>\n",
       "      <td>NaN</td>\n",
       "      <td>Ninguno</td>\n",
       "      <td>N.S.</td>\n",
       "      <td>Ninguno</td>\n",
       "      <td>NaN</td>\n",
       "      <td>No votó</td>\n",
       "      <td>Primaria</td>\n",
       "      <td>1.19808</td>\n",
       "      <td>1.129</td>\n",
       "    </tr>\n",
       "  </tbody>\n",
       "</table>\n",
       "<p>483 rows × 146 columns</p>\n",
       "</div>"
      ],
      "text/plain": [
       "         ESTU     CUES       CCAA    PROV                                MUN  \\\n",
       "9768   3263.0   9980.0  Andalucía  Málaga  Donostia/San Sebastián / Marbella   \n",
       "9769   3263.0   9981.0  Andalucía  Málaga  Donostia/San Sebastián / Marbella   \n",
       "9770   3263.0   9982.0  Andalucía  Málaga  Donostia/San Sebastián / Marbella   \n",
       "9771   3263.0   9983.0  Andalucía  Málaga  Donostia/San Sebastián / Marbella   \n",
       "9772   3263.0   9984.0  Andalucía  Málaga  Donostia/San Sebastián / Marbella   \n",
       "...       ...      ...        ...     ...                                ...   \n",
       "10246  3263.0  10458.0  Andalucía  Málaga                             Málaga   \n",
       "10247  3263.0  10459.0  Andalucía  Málaga                             Málaga   \n",
       "10248  3263.0  10460.0  Andalucía  Málaga                             Málaga   \n",
       "10249  3263.0  10461.0  Andalucía  Málaga                             Málaga   \n",
       "10250  3263.0  10462.0  Andalucía  Málaga                             Málaga   \n",
       "\n",
       "                               TAMUNI               CAPITAL        DISTR  \\\n",
       "9768     100.001 a 400.000 habitantes      Otros municipios  Anonimizado   \n",
       "9769     100.001 a 400.000 habitantes      Otros municipios  Anonimizado   \n",
       "9770     100.001 a 400.000 habitantes      Otros municipios  Anonimizado   \n",
       "9771     100.001 a 400.000 habitantes      Otros municipios  Anonimizado   \n",
       "9772     100.001 a 400.000 habitantes      Otros municipios  Anonimizado   \n",
       "...                               ...                   ...          ...   \n",
       "10246  400.001 a 1.000.000 habitantes  Capital de provincia  Anonimizado   \n",
       "10247  400.001 a 1.000.000 habitantes  Capital de provincia  Anonimizado   \n",
       "10248  400.001 a 1.000.000 habitantes  Capital de provincia  Anonimizado   \n",
       "10249  400.001 a 1.000.000 habitantes  Capital de provincia  Anonimizado   \n",
       "10250  400.001 a 1.000.000 habitantes  Capital de provincia  Anonimizado   \n",
       "\n",
       "           SECCION       ENTREV  ...        VOTOSIMG            P9BR  \\\n",
       "9768   Anonimizado  Anonimizado  ...  Unidas Podemos  Unidas Podemos   \n",
       "9769   Anonimizado  Anonimizado  ...            PSOE            N.S.   \n",
       "9770   Anonimizado  Anonimizado  ...            PSOE              PP   \n",
       "9771   Anonimizado  Anonimizado  ...             VOX            PSOE   \n",
       "9772   Anonimizado  Anonimizado  ...            PSOE      No votaría   \n",
       "...            ...          ...  ...             ...             ...   \n",
       "10246  Anonimizado  Anonimizado  ...              PP             VOX   \n",
       "10247  Anonimizado  Anonimizado  ...            PSOE       En blanco   \n",
       "10248  Anonimizado  Anonimizado  ...      No votaría             NaN   \n",
       "10249  Anonimizado  Anonimizado  ...       En blanco             NaN   \n",
       "10250  Anonimizado  Anonimizado  ...      No votaría             NaN   \n",
       "\n",
       "             P13R  P14R            P15R           P17AR        RECUERDO  \\\n",
       "9768           IU  PSOE  Unidas Podemos  Unidas Podemos  Unidas Podemos   \n",
       "9769         PSOE  PSOE            PSOE            PSOE            PSOE   \n",
       "9770         PSOE  PSOE            PSOE            PSOE            PSOE   \n",
       "9771         PSOE  PSOE             VOX            PSOE            PSOE   \n",
       "9772         PSOE  PSOE            PSOE            PSOE            PSOE   \n",
       "...           ...   ...             ...             ...             ...   \n",
       "10246          PP  PSOE              PP             VOX             VOX   \n",
       "10247        PSOE  PSOE            PSOE            PSOE            PSOE   \n",
       "10248  Ciudadanos  PSOE      Ciudadanos      Ciudadanos             C's   \n",
       "10249     Ninguno  PSOE         Ninguno       En blanco       En blanco   \n",
       "10250     Ninguno  N.S.         Ninguno             NaN         No votó   \n",
       "\n",
       "                  ESTUDIOS     PESO PESOCCAA  \n",
       "9768   Secundaria 2ª etapa  1.19808    1.129  \n",
       "9769          Sin estudios  1.19808    1.129  \n",
       "9770   Secundaria 1ª etapa  1.19808    1.129  \n",
       "9771                  F.P.  1.19808    1.129  \n",
       "9772   Secundaria 1ª etapa  1.19808    1.129  \n",
       "...                    ...      ...      ...  \n",
       "10246  Secundaria 1ª etapa  1.19808    1.129  \n",
       "10247  Secundaria 1ª etapa  1.19808    1.129  \n",
       "10248             Primaria  1.19808    1.129  \n",
       "10249           Superiores  1.19808    1.129  \n",
       "10250             Primaria  1.19808    1.129  \n",
       "\n",
       "[483 rows x 146 columns]"
      ]
     },
     "execution_count": 14,
     "metadata": {},
     "output_type": "execute_result"
    }
   ],
   "source": [
    "cis_malaga"
   ]
  },
  {
   "cell_type": "code",
   "execution_count": null,
   "metadata": {
    "id": "d1vXIyGhuoKh"
   },
   "outputs": [],
   "source": []
  },
  {
   "cell_type": "markdown",
   "metadata": {
    "id": "LqbQD7W7W5wu"
   },
   "source": [
    "El CIS nombra las columnas mediante una serie de códigos alfanuméricos. Iremos desgranando su significado a lo largo del cuaderno."
   ]
  },
  {
   "cell_type": "code",
   "execution_count": 15,
   "metadata": {
    "colab": {
     "base_uri": "https://localhost:8080/"
    },
    "executionInfo": {
     "elapsed": 248,
     "status": "ok",
     "timestamp": 1630929581112,
     "user": {
      "displayName": "Guillermo Barrio",
      "photoUrl": "",
      "userId": "06925154007558381895"
     },
     "user_tz": -120
    },
    "id": "zke9-SFiuoHg",
    "outputId": "86d7c4a3-068c-4d2e-9fa2-bb183a9fc76a"
   },
   "outputs": [
    {
     "data": {
      "text/plain": [
       "Mun.<=100.000 hab. no capitales de CA o provincia    259\n",
       "Málaga                                               187\n",
       "Donostia/San Sebastián / Marbella                     37\n",
       "Ávila / Barcelona                                      0\n",
       "Cáceres                                                0\n",
       "                                                    ... \n",
       "Mérida                                                 0\n",
       "Mataró                                                 0\n",
       "Lugo                                                   0\n",
       "Lleida / Palencia                                      0\n",
       "Albacete                                               0\n",
       "Name: MUN, Length: 64, dtype: int64"
      ]
     },
     "execution_count": 15,
     "metadata": {},
     "output_type": "execute_result"
    }
   ],
   "source": [
    "cis_malaga['MUN'].value_counts()"
   ]
  },
  {
   "cell_type": "code",
   "execution_count": null,
   "metadata": {
    "id": "2FzfczKruoFF"
   },
   "outputs": [],
   "source": []
  },
  {
   "cell_type": "markdown",
   "metadata": {
    "id": "2BFV2bJXXFBs"
   },
   "source": [
    "La columna P9 es la varable objetivo, representa la intención de voto de los encuestados, que vemos que prefieren al PSOE."
   ]
  },
  {
   "cell_type": "code",
   "execution_count": 16,
   "metadata": {
    "colab": {
     "base_uri": "https://localhost:8080/"
    },
    "executionInfo": {
     "elapsed": 246,
     "status": "ok",
     "timestamp": 1630929583467,
     "user": {
      "displayName": "Guillermo Barrio",
      "photoUrl": "",
      "userId": "06925154007558381895"
     },
     "user_tz": -120
    },
    "id": "Se9MeqlKuoB6",
    "outputId": "773449c4-09a9-458c-f337-03e3389e1845"
   },
   "outputs": [
    {
     "data": {
      "text/plain": [
       "PSOE                                       130\n",
       "No votará                                   68\n",
       "No lo tiene decidido aún                    58\n",
       "PP                                          55\n",
       "Ciudadanos                                  37\n",
       "VOX                                         34\n",
       "Unidas Podemos                              33\n",
       "N.C.                                        25\n",
       "Voto blanco                                 16\n",
       "N.S.                                        12\n",
       "IU                                           7\n",
       "Más País                                     3\n",
       "Voto nulo                                    3\n",
       "PACMA                                        1\n",
       "Podemos                                      1\n",
       "PRC (Partido Regionalista de Cantabria)      0\n",
       "Falange Española de las JONS                 0\n",
       "BNG (Bloque Nacionalista Galego)             0\n",
       "CC-PNC                                       0\n",
       "CUP                                          0\n",
       "UPyD                                         0\n",
       "Coalición por Melilla                        0\n",
       "Compromís                                    0\n",
       "EAJ-PNV                                      0\n",
       "EH Bildu                                     0\n",
       "EQUO                                         0\n",
       "ERC                                          0\n",
       "En Comú Podem                                0\n",
       "En Marea                                     0\n",
       "Geroa Bai                                    0\n",
       "PCPE                                         0\n",
       "UPN                                          0\n",
       "JxCat                                        0\n",
       "Los Verdes                                   0\n",
       "MÉS (PSM-Entesa)                             0\n",
       "UPL                                          0\n",
       "Teruel Existe                                0\n",
       "Poble Lliure                                 0\n",
       "Partido Libertario                           0\n",
       "Nueva Canarias                               0\n",
       "Otro partido                                 0\n",
       "PAR                                          0\n",
       "Actúa                                        0\n",
       "Name: P9, dtype: int64"
      ]
     },
     "execution_count": 16,
     "metadata": {},
     "output_type": "execute_result"
    }
   ],
   "source": [
    "cis_malaga['P9'].value_counts()"
   ]
  },
  {
   "cell_type": "code",
   "execution_count": 17,
   "metadata": {
    "colab": {
     "base_uri": "https://localhost:8080/"
    },
    "executionInfo": {
     "elapsed": 8,
     "status": "ok",
     "timestamp": 1630929586320,
     "user": {
      "displayName": "Guillermo Barrio",
      "photoUrl": "",
      "userId": "06925154007558381895"
     },
     "user_tz": -120
    },
    "id": "BCtDzyNw0RLz",
    "outputId": "8d702fe8-4963-4ac1-97e9-5ff3b840710b"
   },
   "outputs": [
    {
     "data": {
      "text/plain": [
       "483"
      ]
     },
     "execution_count": 17,
     "metadata": {},
     "output_type": "execute_result"
    }
   ],
   "source": [
    "cis_malaga['P9'].value_counts().sum()"
   ]
  },
  {
   "cell_type": "markdown",
   "metadata": {
    "id": "YOG91GUAXTAo"
   },
   "source": [
    "La variable P17A representa el recuerdo del voto en las elecciones de abril de 19, las anteriores."
   ]
  },
  {
   "cell_type": "code",
   "execution_count": 18,
   "metadata": {
    "colab": {
     "base_uri": "https://localhost:8080/"
    },
    "executionInfo": {
     "elapsed": 481,
     "status": "ok",
     "timestamp": 1630929588253,
     "user": {
      "displayName": "Guillermo Barrio",
      "photoUrl": "",
      "userId": "06925154007558381895"
     },
     "user_tz": -120
    },
    "id": "LC3sAlhw0RHP",
    "outputId": "3b3302f4-d971-4814-9c22-a77bca4bfd8d"
   },
   "outputs": [
    {
     "data": {
      "text/plain": [
       "403"
      ]
     },
     "execution_count": 18,
     "metadata": {},
     "output_type": "execute_result"
    }
   ],
   "source": [
    "cis_malaga['P17A'].value_counts().sum()"
   ]
  },
  {
   "cell_type": "code",
   "execution_count": 19,
   "metadata": {
    "colab": {
     "base_uri": "https://localhost:8080/"
    },
    "executionInfo": {
     "elapsed": 239,
     "status": "ok",
     "timestamp": 1630929590485,
     "user": {
      "displayName": "Guillermo Barrio",
      "photoUrl": "",
      "userId": "06925154007558381895"
     },
     "user_tz": -120
    },
    "id": "5ZKU0fbP0REP",
    "outputId": "63c5b1b0-2bdc-4014-a9bf-5fa52ba7f4af"
   },
   "outputs": [
    {
     "data": {
      "text/plain": [
       "PSOE                                       161\n",
       "PP                                          65\n",
       "Ciudadanos                                  56\n",
       "Unidas Podemos                              50\n",
       "VOX                                         31\n",
       "N.C.                                        18\n",
       "En blanco                                   12\n",
       "No recuerda                                  5\n",
       "Otros partidos                               3\n",
       "Voto nulo                                    2\n",
       "EH Bildu                                     0\n",
       "CC-PNC                                       0\n",
       "Compromís                                    0\n",
       "EAJ-PNV                                      0\n",
       "JxCat                                        0\n",
       "ERC                                          0\n",
       "En Comú Podem                                0\n",
       "PRC (Partido Regionalista de Cantabria)      0\n",
       "UPN (Navarra Suma)                           0\n",
       "BNG (Bloque Nacionalista Galego)             0\n",
       "Name: P17A, dtype: int64"
      ]
     },
     "execution_count": 19,
     "metadata": {},
     "output_type": "execute_result"
    }
   ],
   "source": [
    "cis_malaga['P17A'].value_counts()"
   ]
  },
  {
   "cell_type": "code",
   "execution_count": null,
   "metadata": {
    "id": "iHNHaFjXpZfS"
   },
   "outputs": [],
   "source": []
  },
  {
   "cell_type": "markdown",
   "metadata": {
    "id": "e6qhv05EXcX2"
   },
   "source": [
    "La P13 es otra columna importante, la de qué partido es más cercano a las ideas del encuestado."
   ]
  },
  {
   "cell_type": "code",
   "execution_count": 20,
   "metadata": {
    "colab": {
     "base_uri": "https://localhost:8080/"
    },
    "executionInfo": {
     "elapsed": 8,
     "status": "ok",
     "timestamp": 1630929592705,
     "user": {
      "displayName": "Guillermo Barrio",
      "photoUrl": "",
      "userId": "06925154007558381895"
     },
     "user_tz": -120
    },
    "id": "NkTSV1PX0RA_",
    "outputId": "d7e5f3fc-f032-4eba-f08e-3bf0da4c5769"
   },
   "outputs": [
    {
     "data": {
      "text/plain": [
       "PSOE                                       154\n",
       "Ninguno                                     93\n",
       "PP                                          65\n",
       "Ciudadanos                                  49\n",
       "Unidas Podemos                              39\n",
       "VOX                                         32\n",
       "IU                                          21\n",
       "N.C.                                        12\n",
       "N.S.                                        12\n",
       "PACMA                                        2\n",
       "Más País                                     2\n",
       "Podemos                                      2\n",
       "PRC (Partido Regionalista de Cantabria)      0\n",
       "FAC (Foro Asturias)                          0\n",
       "BNG (Bloque Nacionalista Galego)             0\n",
       "CC-PNC                                       0\n",
       "CUP                                          0\n",
       "UPyD                                         0\n",
       "Coalición por Melilla                        0\n",
       "Compromís                                    0\n",
       "EAJ-PNV                                      0\n",
       "EH Bildu                                     0\n",
       "EQUO                                         0\n",
       "ERC                                          0\n",
       "En Comú Podem                                0\n",
       "En Marea                                     0\n",
       "Falange Española de las JONS                 0\n",
       "PCPE                                         0\n",
       "Geroa Bai                                    0\n",
       "UPN                                          0\n",
       "JxCat                                        0\n",
       "Los Verdes                                   0\n",
       "MÉS (PSM-Entesa)                             0\n",
       "UPL                                          0\n",
       "Som Valencians                               0\n",
       "Poble Lliure                                 0\n",
       "Nueva Canarias                               0\n",
       "Otro partido                                 0\n",
       "Partido Libertario                           0\n",
       "PAR                                          0\n",
       "Actúa                                        0\n",
       "Name: P13, dtype: int64"
      ]
     },
     "execution_count": 20,
     "metadata": {},
     "output_type": "execute_result"
    }
   ],
   "source": [
    "cis_malaga['P13'].value_counts()"
   ]
  },
  {
   "cell_type": "markdown",
   "metadata": {
    "id": "9M2OXiIVXmRv"
   },
   "source": [
    "Ahora pasasmo a la codificación de los partidos. Nos apoyamos en el hecho que todos guardan una relación ideológica que se puede representar, por ejemplo, como yendo de 0 a 100 según pensemos que tal partido está a la izquierda o derecha. Para otras respuestas tomamos el valor medio, 50."
   ]
  },
  {
   "cell_type": "code",
   "execution_count": 21,
   "metadata": {
    "executionInfo": {
     "elapsed": 236,
     "status": "ok",
     "timestamp": 1630929595385,
     "user": {
      "displayName": "Guillermo Barrio",
      "photoUrl": "",
      "userId": "06925154007558381895"
     },
     "user_tz": -120
    },
    "id": "J6EK-vVU0Q9v"
   },
   "outputs": [],
   "source": [
    "cod_partidos = {'Unidas Podemos' : 0,\n",
    "                'Podemos' : 0,\n",
    "                'IU' : 5, \n",
    "                'Más País' : 15,\n",
    "                'PSOE' : 30,\n",
    "                'Ciudadanos' : 60,\n",
    "                'Ninguno' : 50,\n",
    "                'N.C.' : 50,\n",
    "                'N.S.' : 50,\n",
    "                'PP' : 65,\n",
    "                'VOX' : 100,\n",
    "                'Otro' : 50}"
   ]
  },
  {
   "cell_type": "markdown",
   "metadata": {
    "id": "htLaQQZ4X-om"
   },
   "source": [
    "En el caso de la columna P9 nos adaptamos a las respuestas dadas. Paradójicamente, una serie de encuestados contestó IU, que no se presentaba. Ajustaremos este resultado al final del cuaderno cuando estimemos el resultado de las elecciones en Málaga."
   ]
  },
  {
   "cell_type": "code",
   "execution_count": 22,
   "metadata": {
    "executionInfo": {
     "elapsed": 268,
     "status": "ok",
     "timestamp": 1630929597318,
     "user": {
      "displayName": "Guillermo Barrio",
      "photoUrl": "",
      "userId": "06925154007558381895"
     },
     "user_tz": -120
    },
    "id": "Qo8tA6uz3MC5"
   },
   "outputs": [],
   "source": [
    "cod_partidos_P9 = {'Unidas Podemos' : 0,\n",
    "                'Podemos' : 0,\n",
    "                'IU' : 5, \n",
    "                'Más País' : 15,\n",
    "                'PSOE' : 30,\n",
    "                'Ciudadanos' : 60,\n",
    "                'No votará' : 50,\n",
    "                'PP' : 70,\n",
    "                'VOX' : 100}"
   ]
  },
  {
   "cell_type": "code",
   "execution_count": null,
   "metadata": {
    "id": "vqxWopAeIRhI"
   },
   "outputs": [],
   "source": []
  },
  {
   "cell_type": "code",
   "execution_count": null,
   "metadata": {
    "id": "VVGBJu6bIRIH"
   },
   "outputs": [],
   "source": []
  },
  {
   "cell_type": "markdown",
   "metadata": {
    "id": "-strMeYuYU-8"
   },
   "source": [
    "Otra seríe de columanas importantes son las probabilidades de votar a tal o cual partido."
   ]
  },
  {
   "cell_type": "code",
   "execution_count": 23,
   "metadata": {
    "colab": {
     "base_uri": "https://localhost:8080/"
    },
    "executionInfo": {
     "elapsed": 250,
     "status": "ok",
     "timestamp": 1630929600003,
     "user": {
      "displayName": "Guillermo Barrio",
      "photoUrl": "",
      "userId": "06925154007558381895"
     },
     "user_tz": -120
    },
    "id": "FBBcEkfi3L_x",
    "outputId": "5aec10f2-d61f-4abf-fe99-a048d0f1fc71"
   },
   "outputs": [
    {
     "data": {
      "text/plain": [
       "0 Con toda seguridad, no lo votaría nunca    224\n",
       "10 Con toda seguridad, lo votaría siempre     71\n",
       "5.0                                           42\n",
       "8.0                                           30\n",
       "4.0                                           24\n",
       "2.0                                           17\n",
       "7.0                                           16\n",
       "9.0                                           14\n",
       "6.0                                           13\n",
       "3.0                                           13\n",
       "1.0                                           13\n",
       "N.C.                                           4\n",
       "N.S.                                           2\n",
       "Name: P1201, dtype: int64"
      ]
     },
     "execution_count": 23,
     "metadata": {},
     "output_type": "execute_result"
    }
   ],
   "source": [
    "cis_malaga['P1201'].value_counts()"
   ]
  },
  {
   "cell_type": "code",
   "execution_count": 24,
   "metadata": {
    "colab": {
     "base_uri": "https://localhost:8080/"
    },
    "executionInfo": {
     "elapsed": 258,
     "status": "ok",
     "timestamp": 1630929602961,
     "user": {
      "displayName": "Guillermo Barrio",
      "photoUrl": "",
      "userId": "06925154007558381895"
     },
     "user_tz": -120
    },
    "id": "PVrcOS0G3urC",
    "outputId": "46c0abbd-1e43-4350-9d9a-56ab38f9d07a"
   },
   "outputs": [
    {
     "data": {
      "text/plain": [
       "[0 Con toda seguridad, no lo votaría nunca, 10 Con toda seguridad, lo votaría siempre, 9, 5, 3, ..., 7, 2, N.C., 1, N.S.]\n",
       "Length: 13\n",
       "Categories (13, object): [0 Con toda seguridad, no lo votaría nunca, 10 Con toda seguridad, lo votaría siempre, 9, 5, ..., 2, N.C., 1, N.S.]"
      ]
     },
     "execution_count": 24,
     "metadata": {},
     "output_type": "execute_result"
    }
   ],
   "source": [
    "cis_malaga['P1201'].unique()"
   ]
  },
  {
   "cell_type": "code",
   "execution_count": 25,
   "metadata": {
    "colab": {
     "base_uri": "https://localhost:8080/"
    },
    "executionInfo": {
     "elapsed": 239,
     "status": "ok",
     "timestamp": 1630929604970,
     "user": {
      "displayName": "Guillermo Barrio",
      "photoUrl": "",
      "userId": "06925154007558381895"
     },
     "user_tz": -120
    },
    "id": "9CjHyaQZsa0_",
    "outputId": "7f7a6e71-13b6-49b8-c98b-768d26349dd8"
   },
   "outputs": [
    {
     "data": {
      "text/plain": [
       "array(['0 Con toda seguridad, no lo votaría nunca',\n",
       "       '10 Con toda seguridad, lo votaría siempre', 9.0, 5.0, 3.0, 8.0,\n",
       "       4.0, 6.0, 7.0, 2.0, 'N.C.', 1.0, 'N.S.'], dtype=object)"
      ]
     },
     "execution_count": 25,
     "metadata": {},
     "output_type": "execute_result"
    }
   ],
   "source": [
    "cis_malaga['P1201'].astype('object').unique()"
   ]
  },
  {
   "cell_type": "markdown",
   "metadata": {
    "id": "5No4P4WSYjGx"
   },
   "source": [
    "Para este tipo de columnas lo que hacemos es preparar un diccionario para mapear las columnas, sustituyendo las filas con 0 o 10 por su valor numérico. Para el resto de respuestas respetamos el valor dado."
   ]
  },
  {
   "cell_type": "code",
   "execution_count": 26,
   "metadata": {
    "executionInfo": {
     "elapsed": 224,
     "status": "ok",
     "timestamp": 1630929607132,
     "user": {
      "displayName": "Guillermo Barrio",
      "photoUrl": "",
      "userId": "06925154007558381895"
     },
     "user_tz": -120
    },
    "id": "5rwdHhHI3L85"
   },
   "outputs": [],
   "source": [
    "cod_probs = {'0 Con toda seguridad, no lo votaría nunca' : 0,\n",
    "             1 : 1,\n",
    "             2 : 2,\n",
    "             3 : 3,\n",
    "             4 : 4,\n",
    "             5 : 5,\n",
    "             6 : 6,\n",
    "             7 : 7,\n",
    "             8 : 8,\n",
    "             9 : 9,\n",
    "             '10 Con toda seguridad, lo votaría siempre' : 10,\n",
    "             'N.C.' : 3,\n",
    "             'N.S.' : 3}"
   ]
  },
  {
   "cell_type": "code",
   "execution_count": null,
   "metadata": {
    "id": "-QwcxLIF3L5y"
   },
   "outputs": [],
   "source": []
  },
  {
   "cell_type": "code",
   "execution_count": 27,
   "metadata": {
    "colab": {
     "base_uri": "https://localhost:8080/"
    },
    "executionInfo": {
     "elapsed": 394,
     "status": "ok",
     "timestamp": 1630929609558,
     "user": {
      "displayName": "Guillermo Barrio",
      "photoUrl": "",
      "userId": "06925154007558381895"
     },
     "user_tz": -120
    },
    "id": "WqFj44_x3L2R",
    "outputId": "966b4610-79d2-47b7-9490-3419c191f780"
   },
   "outputs": [
    {
     "data": {
      "text/plain": [
       "0 Con toda seguridad, no lo votaría nunca    224\n",
       "10 Con toda seguridad, lo votaría siempre     71\n",
       "5.0                                           42\n",
       "8.0                                           30\n",
       "4.0                                           24\n",
       "2.0                                           17\n",
       "7.0                                           16\n",
       "9.0                                           14\n",
       "6.0                                           13\n",
       "3.0                                           13\n",
       "1.0                                           13\n",
       "N.C.                                           4\n",
       "N.S.                                           2\n",
       "Name: P1201, dtype: int64"
      ]
     },
     "execution_count": 27,
     "metadata": {},
     "output_type": "execute_result"
    }
   ],
   "source": [
    "cis_malaga['P1201'].astype('object').value_counts()"
   ]
  },
  {
   "cell_type": "code",
   "execution_count": null,
   "metadata": {
    "id": "PbkiT6zg3LzK"
   },
   "outputs": [],
   "source": []
  },
  {
   "cell_type": "code",
   "execution_count": 28,
   "metadata": {
    "colab": {
     "base_uri": "https://localhost:8080/"
    },
    "executionInfo": {
     "elapsed": 9,
     "status": "ok",
     "timestamp": 1630929611889,
     "user": {
      "displayName": "Guillermo Barrio",
      "photoUrl": "",
      "userId": "06925154007558381895"
     },
     "user_tz": -120
    },
    "id": "HRWk5fHa5N5y",
    "outputId": "ef336dd8-d24c-4fdf-c9db-3f843e67f791"
   },
   "outputs": [
    {
     "data": {
      "text/plain": [
       "array([4.0, 7.0, 5.0, 8.0, 6.0, '1 Muy mal', '10 Muy bien', 3.0, 2.0,\n",
       "       'N.S.', 'N.C.', 9.0], dtype=object)"
      ]
     },
     "execution_count": 28,
     "metadata": {},
     "output_type": "execute_result"
    }
   ],
   "source": [
    "cis_malaga['P1001'].astype('object').unique()"
   ]
  },
  {
   "cell_type": "code",
   "execution_count": null,
   "metadata": {
    "id": "fjjRIdib5N2r"
   },
   "outputs": [],
   "source": []
  },
  {
   "cell_type": "markdown",
   "metadata": {
    "id": "3B5GAA-hY4Wi"
   },
   "source": [
    "Algo parecido ocurre con las columnas de los políticos nacionales, en escala de 1 a 10 en esta ocasión. Preparamos también un mapeo."
   ]
  },
  {
   "cell_type": "code",
   "execution_count": 29,
   "metadata": {
    "executionInfo": {
     "elapsed": 2,
     "status": "ok",
     "timestamp": 1630929614512,
     "user": {
      "displayName": "Guillermo Barrio",
      "photoUrl": "",
      "userId": "06925154007558381895"
     },
     "user_tz": -120
    },
    "id": "L-MqyvGN5N0J"
   },
   "outputs": [],
   "source": [
    "cod_valoracion =  {'1 Muy mal' : 1,\n",
    "              2 : 2,\n",
    "              3 : 3,\n",
    "              4 : 4,\n",
    "              5 : 5,\n",
    "              6 : 6,\n",
    "              7 : 7,\n",
    "              8 : 8,\n",
    "              9 : 9,\n",
    "             '10 Muy bien' : 10,\n",
    "             'N.C.' : 3,\n",
    "             'N.S.' : 3}"
   ]
  },
  {
   "cell_type": "code",
   "execution_count": null,
   "metadata": {
    "id": "WQAtJMGc5Nxn"
   },
   "outputs": [],
   "source": []
  },
  {
   "cell_type": "markdown",
   "metadata": {
    "id": "g26NY2sSZHiw"
   },
   "source": [
    "La columna P9A es el partido por el que se siente mayor simpatía, lo cual es importante."
   ]
  },
  {
   "cell_type": "code",
   "execution_count": 30,
   "metadata": {
    "colab": {
     "base_uri": "https://localhost:8080/"
    },
    "executionInfo": {
     "elapsed": 232,
     "status": "ok",
     "timestamp": 1630929617269,
     "user": {
      "displayName": "Guillermo Barrio",
      "photoUrl": "",
      "userId": "06925154007558381895"
     },
     "user_tz": -120
    },
    "id": "7kRqy1aZ5Nvn",
    "outputId": "b04a67f6-033e-4c0e-e7eb-0c516d07baa6"
   },
   "outputs": [
    {
     "data": {
      "text/plain": [
       "Ninguno                                    130\n",
       "PSOE                                        13\n",
       "Ciudadanos                                   9\n",
       "PP                                           7\n",
       "N.S.                                         7\n",
       "N.C.                                         6\n",
       "IU                                           3\n",
       "Podemos                                      3\n",
       "Unidas Podemos                               2\n",
       "PACMA                                        1\n",
       "VOX                                          1\n",
       "Compromís                                    0\n",
       "EAJ-PNV                                      0\n",
       "EH Bildu                                     0\n",
       "En blanco                                    0\n",
       "EQUO                                         0\n",
       "ERC                                          0\n",
       "CUP                                          0\n",
       "CC-PNC                                       0\n",
       "En Comú Podem                                0\n",
       "En Marea                                     0\n",
       "Más País                                     0\n",
       "Geroa Bai                                    0\n",
       "JxCat                                        0\n",
       "MÉS (PSM-Entesa)                             0\n",
       "Otro partido                                 0\n",
       "PAR                                          0\n",
       "PR+                                          0\n",
       "PRC (Partido Regionalista de Cantabria)      0\n",
       "Partido Libertario                           0\n",
       "Poble Lliure                                 0\n",
       "Som Valencians                               0\n",
       "UPN                                          0\n",
       "BNG (Bloque Nacionalista Galego)             0\n",
       "Name: P9A, dtype: int64"
      ]
     },
     "execution_count": 30,
     "metadata": {},
     "output_type": "execute_result"
    }
   ],
   "source": [
    "cis_malaga['P9A'].value_counts()"
   ]
  },
  {
   "cell_type": "code",
   "execution_count": null,
   "metadata": {
    "id": "f2BL1J4Y5Nsr"
   },
   "outputs": [],
   "source": []
  },
  {
   "cell_type": "markdown",
   "metadata": {
    "id": "hlf6bUsyZY9h"
   },
   "source": [
    "Vemos que la mayor parte de las columnas son de tipo category. Nos convendrá pasarla a objeto antes de mapear."
   ]
  },
  {
   "cell_type": "code",
   "execution_count": 31,
   "metadata": {
    "colab": {
     "base_uri": "https://localhost:8080/"
    },
    "executionInfo": {
     "elapsed": 393,
     "status": "ok",
     "timestamp": 1630929628725,
     "user": {
      "displayName": "Guillermo Barrio",
      "photoUrl": "",
      "userId": "06925154007558381895"
     },
     "user_tz": -120
    },
    "id": "4TRmXOLE5Nkb",
    "outputId": "3ad4b4ea-db8c-4458-8e0b-49a388930022"
   },
   "outputs": [
    {
     "data": {
      "text/plain": [
       "ESTU         float64\n",
       "CUES         float64\n",
       "CCAA        category\n",
       "PROV        category\n",
       "MUN         category\n",
       "              ...   \n",
       "P17AR       category\n",
       "RECUERDO    category\n",
       "ESTUDIOS    category\n",
       "PESO         float64\n",
       "PESOCCAA     float64\n",
       "Length: 146, dtype: object"
      ]
     },
     "execution_count": 31,
     "metadata": {},
     "output_type": "execute_result"
    }
   ],
   "source": [
    "cis_malaga.dtypes"
   ]
  },
  {
   "cell_type": "markdown",
   "metadata": {
    "id": "4MFA2apGZlBA"
   },
   "source": [
    "Debemos escoger aquellas columnas que nos parecen más importantes. Se trata de aquellas que, como hemos visto, tienen que ver con valoraciones políticas, recuerdo de voto, interés por la política, ubicación ideológica, así como unos breves datos del encuestado como son su edad, nivel de estudios, etc..\n",
    "\n",
    "Otras preguntas como qué emisora de radio suele escuchar nos han parecido, al menos en principio, prescindibles."
   ]
  },
  {
   "cell_type": "code",
   "execution_count": 32,
   "metadata": {
    "executionInfo": {
     "elapsed": 263,
     "status": "ok",
     "timestamp": 1630929636676,
     "user": {
      "displayName": "Guillermo Barrio",
      "photoUrl": "",
      "userId": "06925154007558381895"
     },
     "user_tz": -120
    },
    "id": "qnFbUSyQ5Nhj"
   },
   "outputs": [],
   "source": [
    "list_cols = ['TAMUNI', 'CAPITAL', 'P1', 'P2', 'P3', 'P4', 'P601', 'P701', 'P8', 'P8A', 'P8B01', 'P8B02', 'P9', 'P9A', 'P1001', 'P1002', 'P1003', 'P1004', 'P1005', 'P1006',\n",
    "             'P11', 'P1201', 'P1202', 'P1203', 'P1204', 'P1205', 'P1206', 'P13', 'P14', 'P15', 'P17A', 'P18', 'P1901', 'P1902', 'P1903', 'P1904', 'P1905', 'P1906', 'P23', 'P24', 'P25',\n",
    "             'P25A', 'P26', 'P27']"
   ]
  },
  {
   "cell_type": "markdown",
   "metadata": {
    "id": "W3U5A5mMahhx"
   },
   "source": [
    "Nos quedamos pues con 44 columnas."
   ]
  },
  {
   "cell_type": "code",
   "execution_count": 33,
   "metadata": {
    "colab": {
     "base_uri": "https://localhost:8080/"
    },
    "executionInfo": {
     "elapsed": 227,
     "status": "ok",
     "timestamp": 1630929638477,
     "user": {
      "displayName": "Guillermo Barrio",
      "photoUrl": "",
      "userId": "06925154007558381895"
     },
     "user_tz": -120
    },
    "id": "BXzIzNBkbsJh",
    "outputId": "0203dd2a-e2fc-425d-f44d-5742937fc4a3"
   },
   "outputs": [
    {
     "data": {
      "text/plain": [
       "44"
      ]
     },
     "execution_count": 33,
     "metadata": {},
     "output_type": "execute_result"
    }
   ],
   "source": [
    "len(list_cols)"
   ]
  },
  {
   "cell_type": "code",
   "execution_count": 34,
   "metadata": {
    "executionInfo": {
     "elapsed": 232,
     "status": "ok",
     "timestamp": 1630929641045,
     "user": {
      "displayName": "Guillermo Barrio",
      "photoUrl": "",
      "userId": "06925154007558381895"
     },
     "user_tz": -120
    },
    "id": "ea5Ir_SHbsGf"
   },
   "outputs": [],
   "source": [
    "cis_malaga = cis_malaga[list_cols]"
   ]
  },
  {
   "cell_type": "code",
   "execution_count": 35,
   "metadata": {
    "colab": {
     "base_uri": "https://localhost:8080/",
     "height": 1000
    },
    "executionInfo": {
     "elapsed": 298,
     "status": "ok",
     "timestamp": 1630929642988,
     "user": {
      "displayName": "Guillermo Barrio",
      "photoUrl": "",
      "userId": "06925154007558381895"
     },
     "user_tz": -120
    },
    "id": "Bvm0Pn9pbsDf",
    "outputId": "0f1a26ef-270e-46b9-db23-ae0f57d43780"
   },
   "outputs": [
    {
     "data": {
      "text/html": [
       "<div>\n",
       "<style scoped>\n",
       "    .dataframe tbody tr th:only-of-type {\n",
       "        vertical-align: middle;\n",
       "    }\n",
       "\n",
       "    .dataframe tbody tr th {\n",
       "        vertical-align: top;\n",
       "    }\n",
       "\n",
       "    .dataframe thead th {\n",
       "        text-align: right;\n",
       "    }\n",
       "</style>\n",
       "<table border=\"1\" class=\"dataframe\">\n",
       "  <thead>\n",
       "    <tr style=\"text-align: right;\">\n",
       "      <th></th>\n",
       "      <th>TAMUNI</th>\n",
       "      <th>CAPITAL</th>\n",
       "      <th>P1</th>\n",
       "      <th>P2</th>\n",
       "      <th>P3</th>\n",
       "      <th>P4</th>\n",
       "      <th>P601</th>\n",
       "      <th>P701</th>\n",
       "      <th>P8</th>\n",
       "      <th>P8A</th>\n",
       "      <th>...</th>\n",
       "      <th>P1903</th>\n",
       "      <th>P1904</th>\n",
       "      <th>P1905</th>\n",
       "      <th>P1906</th>\n",
       "      <th>P23</th>\n",
       "      <th>P24</th>\n",
       "      <th>P25</th>\n",
       "      <th>P25A</th>\n",
       "      <th>P26</th>\n",
       "      <th>P27</th>\n",
       "    </tr>\n",
       "  </thead>\n",
       "  <tbody>\n",
       "    <tr>\n",
       "      <th>9768</th>\n",
       "      <td>100.001 a 400.000 habitantes</td>\n",
       "      <td>Otros municipios</td>\n",
       "      <td>Bastante</td>\n",
       "      <td>Habitualmente</td>\n",
       "      <td>Muy mala</td>\n",
       "      <td>Regular</td>\n",
       "      <td>La corrupción y el fraude</td>\n",
       "      <td>Los problemas relacionados con la calidad del ...</td>\n",
       "      <td>Sí, con toda seguridad</td>\n",
       "      <td>Sí, lo tiene decidido</td>\n",
       "      <td>...</td>\n",
       "      <td>8</td>\n",
       "      <td>1 Izquierda</td>\n",
       "      <td>1 Izquierda</td>\n",
       "      <td>10 Derecha</td>\n",
       "      <td>Mujer</td>\n",
       "      <td>24</td>\n",
       "      <td>Sí, ha ido a la escuela</td>\n",
       "      <td>Bachillerato/COU/PREU (Bachillerato Superior, ...</td>\n",
       "      <td>Trabaja</td>\n",
       "      <td>Ateo/a</td>\n",
       "    </tr>\n",
       "    <tr>\n",
       "      <th>9769</th>\n",
       "      <td>100.001 a 400.000 habitantes</td>\n",
       "      <td>Otros municipios</td>\n",
       "      <td>Bastante</td>\n",
       "      <td>De vez en cuando</td>\n",
       "      <td>Mala</td>\n",
       "      <td>Regular</td>\n",
       "      <td>Los/as políticos/as en general, los partidos y...</td>\n",
       "      <td>La sanidad</td>\n",
       "      <td>Sí, con toda seguridad</td>\n",
       "      <td>Sí, lo tiene decidido</td>\n",
       "      <td>...</td>\n",
       "      <td>7</td>\n",
       "      <td>2</td>\n",
       "      <td>1 Izquierda</td>\n",
       "      <td>10 Derecha</td>\n",
       "      <td>Hombre</td>\n",
       "      <td>84</td>\n",
       "      <td>No, pero sabe leer y escribir</td>\n",
       "      <td>NaN</td>\n",
       "      <td>Jubilado/a o pensionista (anteriormente ha tra...</td>\n",
       "      <td>Católico/a no practicante</td>\n",
       "    </tr>\n",
       "    <tr>\n",
       "      <th>9770</th>\n",
       "      <td>100.001 a 400.000 habitantes</td>\n",
       "      <td>Otros municipios</td>\n",
       "      <td>Nada</td>\n",
       "      <td>Nunca o casi nunca</td>\n",
       "      <td>Muy mala</td>\n",
       "      <td>Mala</td>\n",
       "      <td>La corrupción y el fraude</td>\n",
       "      <td>El paro</td>\n",
       "      <td>Sí, con toda seguridad</td>\n",
       "      <td>No, no lo ha decidido aún</td>\n",
       "      <td>...</td>\n",
       "      <td>5</td>\n",
       "      <td>1 Izquierda</td>\n",
       "      <td>1 Izquierda</td>\n",
       "      <td>10 Derecha</td>\n",
       "      <td>Mujer</td>\n",
       "      <td>45</td>\n",
       "      <td>Sí, ha ido a la escuela</td>\n",
       "      <td>Secundaria (Bachillerato Elemental, EGB comple...</td>\n",
       "      <td>Parado/a y ha trabajado antes</td>\n",
       "      <td>Católico/a no practicante</td>\n",
       "    </tr>\n",
       "    <tr>\n",
       "      <th>9771</th>\n",
       "      <td>100.001 a 400.000 habitantes</td>\n",
       "      <td>Otros municipios</td>\n",
       "      <td>Poco</td>\n",
       "      <td>De vez en cuando</td>\n",
       "      <td>Mala</td>\n",
       "      <td>Mala</td>\n",
       "      <td>El paro</td>\n",
       "      <td>Ninguno</td>\n",
       "      <td>Sí, con toda seguridad</td>\n",
       "      <td>Sí, lo tiene decidido</td>\n",
       "      <td>...</td>\n",
       "      <td>5</td>\n",
       "      <td>2</td>\n",
       "      <td>2</td>\n",
       "      <td>7</td>\n",
       "      <td>Hombre</td>\n",
       "      <td>34</td>\n",
       "      <td>Sí, ha ido a la escuela</td>\n",
       "      <td>Formación Profesional de Grado Superior (FP II)</td>\n",
       "      <td>Trabaja</td>\n",
       "      <td>Católico/a no practicante</td>\n",
       "    </tr>\n",
       "    <tr>\n",
       "      <th>9772</th>\n",
       "      <td>100.001 a 400.000 habitantes</td>\n",
       "      <td>Otros municipios</td>\n",
       "      <td>Poco</td>\n",
       "      <td>De vez en cuando</td>\n",
       "      <td>Muy mala</td>\n",
       "      <td>Mala</td>\n",
       "      <td>La educación</td>\n",
       "      <td>El paro</td>\n",
       "      <td>Sí, con toda seguridad</td>\n",
       "      <td>Sí, lo tiene decidido</td>\n",
       "      <td>...</td>\n",
       "      <td>6</td>\n",
       "      <td>3</td>\n",
       "      <td>2</td>\n",
       "      <td>9</td>\n",
       "      <td>Mujer</td>\n",
       "      <td>48</td>\n",
       "      <td>Sí, ha ido a la escuela</td>\n",
       "      <td>Secundaria (Bachillerato Elemental, EGB comple...</td>\n",
       "      <td>Parado/a y ha trabajado antes</td>\n",
       "      <td>Católico/a no practicante</td>\n",
       "    </tr>\n",
       "    <tr>\n",
       "      <th>...</th>\n",
       "      <td>...</td>\n",
       "      <td>...</td>\n",
       "      <td>...</td>\n",
       "      <td>...</td>\n",
       "      <td>...</td>\n",
       "      <td>...</td>\n",
       "      <td>...</td>\n",
       "      <td>...</td>\n",
       "      <td>...</td>\n",
       "      <td>...</td>\n",
       "      <td>...</td>\n",
       "      <td>...</td>\n",
       "      <td>...</td>\n",
       "      <td>...</td>\n",
       "      <td>...</td>\n",
       "      <td>...</td>\n",
       "      <td>...</td>\n",
       "      <td>...</td>\n",
       "      <td>...</td>\n",
       "      <td>...</td>\n",
       "      <td>...</td>\n",
       "    </tr>\n",
       "    <tr>\n",
       "      <th>10246</th>\n",
       "      <td>400.001 a 1.000.000 habitantes</td>\n",
       "      <td>Capital de provincia</td>\n",
       "      <td>Poco</td>\n",
       "      <td>De vez en cuando</td>\n",
       "      <td>Mala</td>\n",
       "      <td>Regular</td>\n",
       "      <td>La falta de acuerdos. Situación política. Ines...</td>\n",
       "      <td>Los problemas de índole económica</td>\n",
       "      <td>Sí, con toda seguridad</td>\n",
       "      <td>Sí, lo tiene decidido</td>\n",
       "      <td>...</td>\n",
       "      <td>7</td>\n",
       "      <td>2</td>\n",
       "      <td>3</td>\n",
       "      <td>8</td>\n",
       "      <td>Hombre</td>\n",
       "      <td>34</td>\n",
       "      <td>Sí, ha ido a la escuela</td>\n",
       "      <td>Secundaria (Bachillerato Elemental, EGB comple...</td>\n",
       "      <td>Trabaja</td>\n",
       "      <td>Católico/a no practicante</td>\n",
       "    </tr>\n",
       "    <tr>\n",
       "      <th>10247</th>\n",
       "      <td>400.001 a 1.000.000 habitantes</td>\n",
       "      <td>Capital de provincia</td>\n",
       "      <td>Nada</td>\n",
       "      <td>Rara vez</td>\n",
       "      <td>Mala</td>\n",
       "      <td>Regular</td>\n",
       "      <td>La corrupción y el fraude</td>\n",
       "      <td>El paro</td>\n",
       "      <td>Sí, con toda seguridad</td>\n",
       "      <td>Sí, lo tiene decidido</td>\n",
       "      <td>...</td>\n",
       "      <td>7</td>\n",
       "      <td>2</td>\n",
       "      <td>2</td>\n",
       "      <td>10 Derecha</td>\n",
       "      <td>Mujer</td>\n",
       "      <td>41</td>\n",
       "      <td>Sí, ha ido a la escuela</td>\n",
       "      <td>Secundaria (Bachillerato Elemental, EGB comple...</td>\n",
       "      <td>Parado/a y ha trabajado antes</td>\n",
       "      <td>Católico/a no practicante</td>\n",
       "    </tr>\n",
       "    <tr>\n",
       "      <th>10248</th>\n",
       "      <td>400.001 a 1.000.000 habitantes</td>\n",
       "      <td>Capital de provincia</td>\n",
       "      <td>Nada</td>\n",
       "      <td>De vez en cuando</td>\n",
       "      <td>Muy mala</td>\n",
       "      <td>Muy mala</td>\n",
       "      <td>Independencia de Cataluña</td>\n",
       "      <td>Los problemas relacionados con la calidad del ...</td>\n",
       "      <td>Sí, con toda seguridad</td>\n",
       "      <td>No, no lo ha decidido aún</td>\n",
       "      <td>...</td>\n",
       "      <td>6</td>\n",
       "      <td>3</td>\n",
       "      <td>4</td>\n",
       "      <td>9</td>\n",
       "      <td>Mujer</td>\n",
       "      <td>57</td>\n",
       "      <td>Sí, ha ido a la escuela</td>\n",
       "      <td>Primaria (enseñanza primaria o hasta 5º de EGB)</td>\n",
       "      <td>Trabaja</td>\n",
       "      <td>Católico/a no practicante</td>\n",
       "    </tr>\n",
       "    <tr>\n",
       "      <th>10249</th>\n",
       "      <td>400.001 a 1.000.000 habitantes</td>\n",
       "      <td>Capital de provincia</td>\n",
       "      <td>Bastante</td>\n",
       "      <td>De vez en cuando</td>\n",
       "      <td>Muy mala</td>\n",
       "      <td>Muy mala</td>\n",
       "      <td>Los/as políticos/as en general, los partidos y...</td>\n",
       "      <td>El paro</td>\n",
       "      <td>Sí, con toda seguridad</td>\n",
       "      <td>Sí, lo tiene decidido</td>\n",
       "      <td>...</td>\n",
       "      <td>7</td>\n",
       "      <td>1 Izquierda</td>\n",
       "      <td>3</td>\n",
       "      <td>8</td>\n",
       "      <td>Hombre</td>\n",
       "      <td>40</td>\n",
       "      <td>Sí, ha ido a la escuela</td>\n",
       "      <td>Universitarios superiores (licenciatura, grado...</td>\n",
       "      <td>Trabaja</td>\n",
       "      <td>Católico/a no practicante</td>\n",
       "    </tr>\n",
       "    <tr>\n",
       "      <th>10250</th>\n",
       "      <td>400.001 a 1.000.000 habitantes</td>\n",
       "      <td>Capital de provincia</td>\n",
       "      <td>Poco</td>\n",
       "      <td>Rara vez</td>\n",
       "      <td>Muy mala</td>\n",
       "      <td>Muy mala</td>\n",
       "      <td>Los/as políticos/as en general, los partidos y...</td>\n",
       "      <td>Las pensiones</td>\n",
       "      <td>Sí, con toda seguridad</td>\n",
       "      <td>No, no lo ha decidido aún</td>\n",
       "      <td>...</td>\n",
       "      <td>N.S.</td>\n",
       "      <td>N.S.</td>\n",
       "      <td>N.S.</td>\n",
       "      <td>10 Derecha</td>\n",
       "      <td>Mujer</td>\n",
       "      <td>71</td>\n",
       "      <td>Sí, ha ido a la escuela</td>\n",
       "      <td>Primaria (enseñanza primaria o hasta 5º de EGB)</td>\n",
       "      <td>Pensionista (anteriormente no ha trabajado)</td>\n",
       "      <td>Católico/a no practicante</td>\n",
       "    </tr>\n",
       "  </tbody>\n",
       "</table>\n",
       "<p>483 rows × 44 columns</p>\n",
       "</div>"
      ],
      "text/plain": [
       "                               TAMUNI               CAPITAL        P1  \\\n",
       "9768     100.001 a 400.000 habitantes      Otros municipios  Bastante   \n",
       "9769     100.001 a 400.000 habitantes      Otros municipios  Bastante   \n",
       "9770     100.001 a 400.000 habitantes      Otros municipios      Nada   \n",
       "9771     100.001 a 400.000 habitantes      Otros municipios      Poco   \n",
       "9772     100.001 a 400.000 habitantes      Otros municipios      Poco   \n",
       "...                               ...                   ...       ...   \n",
       "10246  400.001 a 1.000.000 habitantes  Capital de provincia      Poco   \n",
       "10247  400.001 a 1.000.000 habitantes  Capital de provincia      Nada   \n",
       "10248  400.001 a 1.000.000 habitantes  Capital de provincia      Nada   \n",
       "10249  400.001 a 1.000.000 habitantes  Capital de provincia  Bastante   \n",
       "10250  400.001 a 1.000.000 habitantes  Capital de provincia      Poco   \n",
       "\n",
       "                       P2        P3        P4  \\\n",
       "9768        Habitualmente  Muy mala   Regular   \n",
       "9769     De vez en cuando      Mala   Regular   \n",
       "9770   Nunca o casi nunca  Muy mala      Mala   \n",
       "9771     De vez en cuando      Mala      Mala   \n",
       "9772     De vez en cuando  Muy mala      Mala   \n",
       "...                   ...       ...       ...   \n",
       "10246    De vez en cuando      Mala   Regular   \n",
       "10247            Rara vez      Mala   Regular   \n",
       "10248    De vez en cuando  Muy mala  Muy mala   \n",
       "10249    De vez en cuando  Muy mala  Muy mala   \n",
       "10250            Rara vez  Muy mala  Muy mala   \n",
       "\n",
       "                                                    P601  \\\n",
       "9768                           La corrupción y el fraude   \n",
       "9769   Los/as políticos/as en general, los partidos y...   \n",
       "9770                           La corrupción y el fraude   \n",
       "9771                                             El paro   \n",
       "9772                                        La educación   \n",
       "...                                                  ...   \n",
       "10246  La falta de acuerdos. Situación política. Ines...   \n",
       "10247                          La corrupción y el fraude   \n",
       "10248                          Independencia de Cataluña   \n",
       "10249  Los/as políticos/as en general, los partidos y...   \n",
       "10250  Los/as políticos/as en general, los partidos y...   \n",
       "\n",
       "                                                    P701  \\\n",
       "9768   Los problemas relacionados con la calidad del ...   \n",
       "9769                                          La sanidad   \n",
       "9770                                             El paro   \n",
       "9771                                             Ninguno   \n",
       "9772                                             El paro   \n",
       "...                                                  ...   \n",
       "10246                  Los problemas de índole económica   \n",
       "10247                                            El paro   \n",
       "10248  Los problemas relacionados con la calidad del ...   \n",
       "10249                                            El paro   \n",
       "10250                                      Las pensiones   \n",
       "\n",
       "                           P8                        P8A  ... P1903  \\\n",
       "9768   Sí, con toda seguridad      Sí, lo tiene decidido  ...     8   \n",
       "9769   Sí, con toda seguridad      Sí, lo tiene decidido  ...     7   \n",
       "9770   Sí, con toda seguridad  No, no lo ha decidido aún  ...     5   \n",
       "9771   Sí, con toda seguridad      Sí, lo tiene decidido  ...     5   \n",
       "9772   Sí, con toda seguridad      Sí, lo tiene decidido  ...     6   \n",
       "...                       ...                        ...  ...   ...   \n",
       "10246  Sí, con toda seguridad      Sí, lo tiene decidido  ...     7   \n",
       "10247  Sí, con toda seguridad      Sí, lo tiene decidido  ...     7   \n",
       "10248  Sí, con toda seguridad  No, no lo ha decidido aún  ...     6   \n",
       "10249  Sí, con toda seguridad      Sí, lo tiene decidido  ...     7   \n",
       "10250  Sí, con toda seguridad  No, no lo ha decidido aún  ...  N.S.   \n",
       "\n",
       "             P1904        P1905       P1906     P23 P24  \\\n",
       "9768   1 Izquierda  1 Izquierda  10 Derecha   Mujer  24   \n",
       "9769             2  1 Izquierda  10 Derecha  Hombre  84   \n",
       "9770   1 Izquierda  1 Izquierda  10 Derecha   Mujer  45   \n",
       "9771             2            2           7  Hombre  34   \n",
       "9772             3            2           9   Mujer  48   \n",
       "...            ...          ...         ...     ...  ..   \n",
       "10246            2            3           8  Hombre  34   \n",
       "10247            2            2  10 Derecha   Mujer  41   \n",
       "10248            3            4           9   Mujer  57   \n",
       "10249  1 Izquierda            3           8  Hombre  40   \n",
       "10250         N.S.         N.S.  10 Derecha   Mujer  71   \n",
       "\n",
       "                                 P25  \\\n",
       "9768         Sí, ha ido a la escuela   \n",
       "9769   No, pero sabe leer y escribir   \n",
       "9770         Sí, ha ido a la escuela   \n",
       "9771         Sí, ha ido a la escuela   \n",
       "9772         Sí, ha ido a la escuela   \n",
       "...                              ...   \n",
       "10246        Sí, ha ido a la escuela   \n",
       "10247        Sí, ha ido a la escuela   \n",
       "10248        Sí, ha ido a la escuela   \n",
       "10249        Sí, ha ido a la escuela   \n",
       "10250        Sí, ha ido a la escuela   \n",
       "\n",
       "                                                    P25A  \\\n",
       "9768   Bachillerato/COU/PREU (Bachillerato Superior, ...   \n",
       "9769                                                 NaN   \n",
       "9770   Secundaria (Bachillerato Elemental, EGB comple...   \n",
       "9771     Formación Profesional de Grado Superior (FP II)   \n",
       "9772   Secundaria (Bachillerato Elemental, EGB comple...   \n",
       "...                                                  ...   \n",
       "10246  Secundaria (Bachillerato Elemental, EGB comple...   \n",
       "10247  Secundaria (Bachillerato Elemental, EGB comple...   \n",
       "10248    Primaria (enseñanza primaria o hasta 5º de EGB)   \n",
       "10249  Universitarios superiores (licenciatura, grado...   \n",
       "10250    Primaria (enseñanza primaria o hasta 5º de EGB)   \n",
       "\n",
       "                                                     P26  \\\n",
       "9768                                             Trabaja   \n",
       "9769   Jubilado/a o pensionista (anteriormente ha tra...   \n",
       "9770                       Parado/a y ha trabajado antes   \n",
       "9771                                             Trabaja   \n",
       "9772                       Parado/a y ha trabajado antes   \n",
       "...                                                  ...   \n",
       "10246                                            Trabaja   \n",
       "10247                      Parado/a y ha trabajado antes   \n",
       "10248                                            Trabaja   \n",
       "10249                                            Trabaja   \n",
       "10250        Pensionista (anteriormente no ha trabajado)   \n",
       "\n",
       "                             P27  \n",
       "9768                      Ateo/a  \n",
       "9769   Católico/a no practicante  \n",
       "9770   Católico/a no practicante  \n",
       "9771   Católico/a no practicante  \n",
       "9772   Católico/a no practicante  \n",
       "...                          ...  \n",
       "10246  Católico/a no practicante  \n",
       "10247  Católico/a no practicante  \n",
       "10248  Católico/a no practicante  \n",
       "10249  Católico/a no practicante  \n",
       "10250  Católico/a no practicante  \n",
       "\n",
       "[483 rows x 44 columns]"
      ]
     },
     "execution_count": 35,
     "metadata": {},
     "output_type": "execute_result"
    }
   ],
   "source": [
    "cis_malaga"
   ]
  },
  {
   "cell_type": "code",
   "execution_count": null,
   "metadata": {
    "id": "erpLBvWCbsAP"
   },
   "outputs": [],
   "source": []
  },
  {
   "cell_type": "markdown",
   "metadata": {
    "id": "Dxogp_mnapFo"
   },
   "source": [
    "Todas las columnas son de tipo category, por el momento, antes de proceder a los mapeos."
   ]
  },
  {
   "cell_type": "code",
   "execution_count": 36,
   "metadata": {
    "colab": {
     "base_uri": "https://localhost:8080/"
    },
    "executionInfo": {
     "elapsed": 223,
     "status": "ok",
     "timestamp": 1630929646421,
     "user": {
      "displayName": "Guillermo Barrio",
      "photoUrl": "",
      "userId": "06925154007558381895"
     },
     "user_tz": -120
    },
    "id": "1HAYdJJJbr9C",
    "outputId": "801c8663-9e38-47cb-9064-b68424683cb1"
   },
   "outputs": [
    {
     "data": {
      "text/plain": [
       "TAMUNI     category\n",
       "CAPITAL    category\n",
       "P1         category\n",
       "P2         category\n",
       "P3         category\n",
       "P4         category\n",
       "P601       category\n",
       "P701       category\n",
       "P8         category\n",
       "P8A        category\n",
       "P8B01      category\n",
       "P8B02      category\n",
       "P9         category\n",
       "P9A        category\n",
       "P1001      category\n",
       "P1002      category\n",
       "P1003      category\n",
       "P1004      category\n",
       "P1005      category\n",
       "P1006      category\n",
       "P11        category\n",
       "P1201      category\n",
       "P1202      category\n",
       "P1203      category\n",
       "P1204      category\n",
       "P1205      category\n",
       "P1206      category\n",
       "P13        category\n",
       "P14        category\n",
       "P15        category\n",
       "P17A       category\n",
       "P18        category\n",
       "P1901      category\n",
       "P1902      category\n",
       "P1903      category\n",
       "P1904      category\n",
       "P1905      category\n",
       "P1906      category\n",
       "P23        category\n",
       "P24        category\n",
       "P25        category\n",
       "P25A       category\n",
       "P26        category\n",
       "P27        category\n",
       "dtype: object"
      ]
     },
     "execution_count": 36,
     "metadata": {},
     "output_type": "execute_result"
    }
   ],
   "source": [
    "cis_malaga.dtypes"
   ]
  },
  {
   "cell_type": "code",
   "execution_count": null,
   "metadata": {
    "id": "XmRHG4mhbr2I"
   },
   "outputs": [],
   "source": []
  },
  {
   "cell_type": "markdown",
   "metadata": {
    "id": "YNyo-u4Lay_L"
   },
   "source": [
    "Hacemos un repaso de las columas elegidas. Vemos que las P8B01 y 02, sobre los partidos entre los que se duda, tienen pocos datos, por lo que las eliminaremos."
   ]
  },
  {
   "cell_type": "code",
   "execution_count": 37,
   "metadata": {
    "executionInfo": {
     "elapsed": 265,
     "status": "ok",
     "timestamp": 1630929659300,
     "user": {
      "displayName": "Guillermo Barrio",
      "photoUrl": "",
      "userId": "06925154007558381895"
     },
     "user_tz": -120
    },
    "id": "bV94YDT1e4bj"
   },
   "outputs": [],
   "source": [
    "cols_partidos = ['P8B01', 'P8B02', 'P9A', 'P13', 'P14', 'P15', 'P17A']"
   ]
  },
  {
   "cell_type": "code",
   "execution_count": 38,
   "metadata": {
    "colab": {
     "base_uri": "https://localhost:8080/"
    },
    "executionInfo": {
     "elapsed": 255,
     "status": "ok",
     "timestamp": 1630929662859,
     "user": {
      "displayName": "Guillermo Barrio",
      "photoUrl": "",
      "userId": "06925154007558381895"
     },
     "user_tz": -120
    },
    "id": "msC8jvuge4Ye",
    "outputId": "bebe9201-e9ae-4bff-aa6c-fadf4a088df5"
   },
   "outputs": [
    {
     "data": {
      "text/plain": [
       "103"
      ]
     },
     "execution_count": 38,
     "metadata": {},
     "output_type": "execute_result"
    }
   ],
   "source": [
    "cis_malaga['P8B02'].value_counts().sum()"
   ]
  },
  {
   "cell_type": "code",
   "execution_count": 39,
   "metadata": {
    "colab": {
     "base_uri": "https://localhost:8080/"
    },
    "executionInfo": {
     "elapsed": 345,
     "status": "ok",
     "timestamp": 1630929665188,
     "user": {
      "displayName": "Guillermo Barrio",
      "photoUrl": "",
      "userId": "06925154007558381895"
     },
     "user_tz": -120
    },
    "id": "D3y4P429e4Uo",
    "outputId": "0fa4fe85-1f5c-4dcf-b021-49caa68cbdf1"
   },
   "outputs": [
    {
     "data": {
      "text/plain": [
       "103"
      ]
     },
     "execution_count": 39,
     "metadata": {},
     "output_type": "execute_result"
    }
   ],
   "source": [
    "cis_malaga['P8B01'].value_counts().sum()"
   ]
  },
  {
   "cell_type": "code",
   "execution_count": 40,
   "metadata": {
    "colab": {
     "base_uri": "https://localhost:8080/"
    },
    "executionInfo": {
     "elapsed": 259,
     "status": "ok",
     "timestamp": 1630929666971,
     "user": {
      "displayName": "Guillermo Barrio",
      "photoUrl": "",
      "userId": "06925154007558381895"
     },
     "user_tz": -120
    },
    "id": "SCwhKSm6e4Rs",
    "outputId": "e2ac887a-6d80-49e3-92f3-21d5d89e4534"
   },
   "outputs": [
    {
     "data": {
      "text/plain": [
       "483"
      ]
     },
     "execution_count": 40,
     "metadata": {},
     "output_type": "execute_result"
    }
   ],
   "source": [
    "cis_malaga['P9'].value_counts().sum()"
   ]
  },
  {
   "cell_type": "code",
   "execution_count": 41,
   "metadata": {
    "colab": {
     "base_uri": "https://localhost:8080/"
    },
    "executionInfo": {
     "elapsed": 345,
     "status": "ok",
     "timestamp": 1630929668641,
     "user": {
      "displayName": "Guillermo Barrio",
      "photoUrl": "",
      "userId": "06925154007558381895"
     },
     "user_tz": -120
    },
    "id": "b5qgJnyve4K_",
    "outputId": "dd1d93ff-343a-431e-8262-4bb9727d5db4"
   },
   "outputs": [
    {
     "data": {
      "text/plain": [
       "182"
      ]
     },
     "execution_count": 41,
     "metadata": {},
     "output_type": "execute_result"
    }
   ],
   "source": [
    "cis_malaga['P9A'].value_counts().sum()"
   ]
  },
  {
   "cell_type": "code",
   "execution_count": 42,
   "metadata": {
    "colab": {
     "base_uri": "https://localhost:8080/"
    },
    "executionInfo": {
     "elapsed": 230,
     "status": "ok",
     "timestamp": 1630929678524,
     "user": {
      "displayName": "Guillermo Barrio",
      "photoUrl": "",
      "userId": "06925154007558381895"
     },
     "user_tz": -120
    },
    "id": "_hmyBukW7TlO",
    "outputId": "2d226ac7-e901-4df4-88de-cfcb60756788"
   },
   "outputs": [
    {
     "data": {
      "text/plain": [
       "403"
      ]
     },
     "execution_count": 42,
     "metadata": {},
     "output_type": "execute_result"
    }
   ],
   "source": [
    "cis_malaga['P17A'].value_counts().sum()"
   ]
  },
  {
   "cell_type": "code",
   "execution_count": 43,
   "metadata": {
    "executionInfo": {
     "elapsed": 241,
     "status": "ok",
     "timestamp": 1630929694721,
     "user": {
      "displayName": "Guillermo Barrio",
      "photoUrl": "",
      "userId": "06925154007558381895"
     },
     "user_tz": -120
    },
    "id": "AKIN2S5N7ThV"
   },
   "outputs": [],
   "source": [
    "cols_partidos_aj = ['P9A', 'P13', 'P14', 'P15', 'P17A']"
   ]
  },
  {
   "cell_type": "code",
   "execution_count": null,
   "metadata": {
    "id": "lsc2co-77Td2"
   },
   "outputs": [],
   "source": []
  },
  {
   "cell_type": "code",
   "execution_count": 44,
   "metadata": {
    "executionInfo": {
     "elapsed": 3,
     "status": "ok",
     "timestamp": 1630929697745,
     "user": {
      "displayName": "Guillermo Barrio",
      "photoUrl": "",
      "userId": "06925154007558381895"
     },
     "user_tz": -120
    },
    "id": "ocALiIDxg-ol"
   },
   "outputs": [],
   "source": [
    "cis_malaga = cis_malaga.drop(['P8B01', 'P8B02'], axis = 1)"
   ]
  },
  {
   "cell_type": "code",
   "execution_count": 45,
   "metadata": {
    "colab": {
     "base_uri": "https://localhost:8080/"
    },
    "executionInfo": {
     "elapsed": 233,
     "status": "ok",
     "timestamp": 1630929699899,
     "user": {
      "displayName": "Guillermo Barrio",
      "photoUrl": "",
      "userId": "06925154007558381895"
     },
     "user_tz": -120
    },
    "id": "4rNnC_AAg-lO",
    "outputId": "38595227-f096-4b2d-e426-57c6472b67cc"
   },
   "outputs": [
    {
     "data": {
      "text/plain": [
       "(483, 42)"
      ]
     },
     "execution_count": 45,
     "metadata": {},
     "output_type": "execute_result"
    }
   ],
   "source": [
    "cis_malaga.shape"
   ]
  },
  {
   "cell_type": "markdown",
   "metadata": {
    "id": "qdwoNhoubEck"
   },
   "source": [
    "Repasamos de nuevo la columna P9, la intención directa de voto."
   ]
  },
  {
   "cell_type": "code",
   "execution_count": 46,
   "metadata": {
    "colab": {
     "base_uri": "https://localhost:8080/"
    },
    "executionInfo": {
     "elapsed": 8,
     "status": "ok",
     "timestamp": 1630929702432,
     "user": {
      "displayName": "Guillermo Barrio",
      "photoUrl": "",
      "userId": "06925154007558381895"
     },
     "user_tz": -120
    },
    "id": "w9qCxbF6g-iW",
    "outputId": "21e570ae-106a-4fc5-8f1a-6e7c3ee266d9"
   },
   "outputs": [
    {
     "data": {
      "text/plain": [
       "483"
      ]
     },
     "execution_count": 46,
     "metadata": {},
     "output_type": "execute_result"
    }
   ],
   "source": [
    "cis_malaga['P9'].value_counts().sum()"
   ]
  },
  {
   "cell_type": "code",
   "execution_count": 47,
   "metadata": {
    "colab": {
     "base_uri": "https://localhost:8080/"
    },
    "executionInfo": {
     "elapsed": 242,
     "status": "ok",
     "timestamp": 1630929705116,
     "user": {
      "displayName": "Guillermo Barrio",
      "photoUrl": "",
      "userId": "06925154007558381895"
     },
     "user_tz": -120
    },
    "id": "0ZjISR9itFj0",
    "outputId": "fc072751-95ab-4261-d96f-7d6076160be6"
   },
   "outputs": [
    {
     "data": {
      "text/plain": [
       "PSOE                                       130\n",
       "No votará                                   68\n",
       "No lo tiene decidido aún                    58\n",
       "PP                                          55\n",
       "Ciudadanos                                  37\n",
       "VOX                                         34\n",
       "Unidas Podemos                              33\n",
       "N.C.                                        25\n",
       "Voto blanco                                 16\n",
       "N.S.                                        12\n",
       "IU                                           7\n",
       "Más País                                     3\n",
       "Voto nulo                                    3\n",
       "PACMA                                        1\n",
       "Podemos                                      1\n",
       "PRC (Partido Regionalista de Cantabria)      0\n",
       "Falange Española de las JONS                 0\n",
       "BNG (Bloque Nacionalista Galego)             0\n",
       "CC-PNC                                       0\n",
       "CUP                                          0\n",
       "UPyD                                         0\n",
       "Coalición por Melilla                        0\n",
       "Compromís                                    0\n",
       "EAJ-PNV                                      0\n",
       "EH Bildu                                     0\n",
       "EQUO                                         0\n",
       "ERC                                          0\n",
       "En Comú Podem                                0\n",
       "En Marea                                     0\n",
       "Geroa Bai                                    0\n",
       "PCPE                                         0\n",
       "UPN                                          0\n",
       "JxCat                                        0\n",
       "Los Verdes                                   0\n",
       "MÉS (PSM-Entesa)                             0\n",
       "UPL                                          0\n",
       "Teruel Existe                                0\n",
       "Poble Lliure                                 0\n",
       "Partido Libertario                           0\n",
       "Nueva Canarias                               0\n",
       "Otro partido                                 0\n",
       "PAR                                          0\n",
       "Actúa                                        0\n",
       "Name: P9, dtype: int64"
      ]
     },
     "execution_count": 47,
     "metadata": {},
     "output_type": "execute_result"
    }
   ],
   "source": [
    "cis_malaga['P9'].value_counts()"
   ]
  },
  {
   "cell_type": "code",
   "execution_count": null,
   "metadata": {
    "id": "XOONSlGKJ9c2"
   },
   "outputs": [],
   "source": []
  },
  {
   "cell_type": "markdown",
   "metadata": {
    "id": "nX20igi3bMp9"
   },
   "source": [
    "Llevamos a cabo el primer mapeo, el de la columna P9. \n",
    "\n",
    "Creemos que este tipo de mapeos, que tienen solo en cuenta la columna afectada y no ninguan otra, no afectan a la división posterior entre train y test."
   ]
  },
  {
   "cell_type": "code",
   "execution_count": 48,
   "metadata": {
    "executionInfo": {
     "elapsed": 488,
     "status": "ok",
     "timestamp": 1630929709858,
     "user": {
      "displayName": "Guillermo Barrio",
      "photoUrl": "",
      "userId": "06925154007558381895"
     },
     "user_tz": -120
    },
    "id": "rlF91lEKJ9Xe"
   },
   "outputs": [],
   "source": [
    "cis_malaga['P9'] = cis_malaga['P9'].astype('object').map(cod_partidos_P9)"
   ]
  },
  {
   "cell_type": "code",
   "execution_count": null,
   "metadata": {
    "id": "_K5yfU8TJ9MW"
   },
   "outputs": [],
   "source": []
  },
  {
   "cell_type": "markdown",
   "metadata": {
    "id": "uzdHSbSNbi8o"
   },
   "source": [
    "Mapeamos los códigos de los partidos con el diccionario antes descrito."
   ]
  },
  {
   "cell_type": "code",
   "execution_count": 49,
   "metadata": {
    "executionInfo": {
     "elapsed": 218,
     "status": "ok",
     "timestamp": 1630929712121,
     "user": {
      "displayName": "Guillermo Barrio",
      "photoUrl": "",
      "userId": "06925154007558381895"
     },
     "user_tz": -120
    },
    "id": "vW37xkKyg-fV"
   },
   "outputs": [],
   "source": [
    "for col in cols_partidos_aj:\n",
    "\n",
    "  cis_malaga[col] = cis_malaga[col].astype('object').map(cod_partidos)"
   ]
  },
  {
   "cell_type": "code",
   "execution_count": 50,
   "metadata": {
    "colab": {
     "base_uri": "https://localhost:8080/"
    },
    "executionInfo": {
     "elapsed": 8,
     "status": "ok",
     "timestamp": 1630929714595,
     "user": {
      "displayName": "Guillermo Barrio",
      "photoUrl": "",
      "userId": "06925154007558381895"
     },
     "user_tz": -120
    },
    "id": "URZfrGBUhhKO",
    "outputId": "e1aaeac2-550d-4205-eb8a-76d4c5ce3c39"
   },
   "outputs": [
    {
     "data": {
      "text/plain": [
       "368"
      ]
     },
     "execution_count": 50,
     "metadata": {},
     "output_type": "execute_result"
    }
   ],
   "source": [
    "cis_malaga['P9'].value_counts().sum()"
   ]
  },
  {
   "cell_type": "code",
   "execution_count": 51,
   "metadata": {
    "colab": {
     "base_uri": "https://localhost:8080/"
    },
    "executionInfo": {
     "elapsed": 295,
     "status": "ok",
     "timestamp": 1630929716721,
     "user": {
      "displayName": "Guillermo Barrio",
      "photoUrl": "",
      "userId": "06925154007558381895"
     },
     "user_tz": -120
    },
    "id": "8JuNaaOQHciX",
    "outputId": "2ca4635b-7bfb-4c69-bff1-a01fecd0f285"
   },
   "outputs": [
    {
     "data": {
      "text/plain": [
       "30.0     130\n",
       "50.0      68\n",
       "70.0      55\n",
       "60.0      37\n",
       "0.0       34\n",
       "100.0     34\n",
       "5.0        7\n",
       "15.0       3\n",
       "Name: P9, dtype: int64"
      ]
     },
     "execution_count": 51,
     "metadata": {},
     "output_type": "execute_result"
    }
   ],
   "source": [
    "cis_malaga['P9'].value_counts()"
   ]
  },
  {
   "cell_type": "code",
   "execution_count": null,
   "metadata": {
    "id": "VgAAfE7-hhGC"
   },
   "outputs": [],
   "source": []
  },
  {
   "cell_type": "markdown",
   "metadata": {
    "id": "RUDxGKBnbwRZ"
   },
   "source": [
    "Vemos el resultado de los mapeos en la P13, partido más cercano a las ideas del encuestado."
   ]
  },
  {
   "cell_type": "code",
   "execution_count": 52,
   "metadata": {
    "colab": {
     "base_uri": "https://localhost:8080/"
    },
    "executionInfo": {
     "elapsed": 291,
     "status": "ok",
     "timestamp": 1630929722808,
     "user": {
      "displayName": "Guillermo Barrio",
      "photoUrl": "",
      "userId": "06925154007558381895"
     },
     "user_tz": -120
    },
    "id": "EkeCZfUUhg_n",
    "outputId": "5c4d80ad-73b8-476d-fd84-20c06e713831"
   },
   "outputs": [
    {
     "data": {
      "text/plain": [
       "481"
      ]
     },
     "execution_count": 52,
     "metadata": {},
     "output_type": "execute_result"
    }
   ],
   "source": [
    "cis_malaga['P13'].value_counts().sum()"
   ]
  },
  {
   "cell_type": "code",
   "execution_count": 53,
   "metadata": {
    "colab": {
     "base_uri": "https://localhost:8080/"
    },
    "executionInfo": {
     "elapsed": 232,
     "status": "ok",
     "timestamp": 1630929725018,
     "user": {
      "displayName": "Guillermo Barrio",
      "photoUrl": "",
      "userId": "06925154007558381895"
     },
     "user_tz": -120
    },
    "id": "XqHbn05Jhg8Z",
    "outputId": "aefab346-15b5-40e6-c216-1c8c67046ae7"
   },
   "outputs": [
    {
     "data": {
      "text/plain": [
       "30.0     154\n",
       "50.0     117\n",
       "65.0      65\n",
       "60.0      49\n",
       "0.0       41\n",
       "100.0     32\n",
       "5.0       21\n",
       "15.0       2\n",
       "Name: P13, dtype: int64"
      ]
     },
     "execution_count": 53,
     "metadata": {},
     "output_type": "execute_result"
    }
   ],
   "source": [
    "cis_malaga['P13'].value_counts()"
   ]
  },
  {
   "cell_type": "code",
   "execution_count": null,
   "metadata": {
    "id": "2oScn4hgg-cF"
   },
   "outputs": [],
   "source": []
  },
  {
   "cell_type": "code",
   "execution_count": 54,
   "metadata": {
    "colab": {
     "base_uri": "https://localhost:8080/"
    },
    "executionInfo": {
     "elapsed": 8,
     "status": "ok",
     "timestamp": 1630929727356,
     "user": {
      "displayName": "Guillermo Barrio",
      "photoUrl": "",
      "userId": "06925154007558381895"
     },
     "user_tz": -120
    },
    "id": "-JYEMWS4g-VG",
    "outputId": "1f485617-2bf4-4a73-8321-fc0c6f7e81ae"
   },
   "outputs": [
    {
     "data": {
      "text/plain": [
       "TAMUNI     category\n",
       "CAPITAL    category\n",
       "P1         category\n",
       "P2         category\n",
       "P3         category\n",
       "P4         category\n",
       "P601       category\n",
       "P701       category\n",
       "P8         category\n",
       "P8A        category\n",
       "P9          float64\n",
       "P9A         float64\n",
       "P1001      category\n",
       "P1002      category\n",
       "P1003      category\n",
       "P1004      category\n",
       "P1005      category\n",
       "P1006      category\n",
       "P11        category\n",
       "P1201      category\n",
       "P1202      category\n",
       "P1203      category\n",
       "P1204      category\n",
       "P1205      category\n",
       "P1206      category\n",
       "P13         float64\n",
       "P14           int64\n",
       "P15         float64\n",
       "P17A        float64\n",
       "P18        category\n",
       "P1901      category\n",
       "P1902      category\n",
       "P1903      category\n",
       "P1904      category\n",
       "P1905      category\n",
       "P1906      category\n",
       "P23        category\n",
       "P24        category\n",
       "P25        category\n",
       "P25A       category\n",
       "P26        category\n",
       "P27        category\n",
       "dtype: object"
      ]
     },
     "execution_count": 54,
     "metadata": {},
     "output_type": "execute_result"
    }
   ],
   "source": [
    "cis_malaga.dtypes"
   ]
  },
  {
   "cell_type": "code",
   "execution_count": null,
   "metadata": {
    "id": "vvu-HnDKixhk"
   },
   "outputs": [],
   "source": []
  },
  {
   "cell_type": "markdown",
   "metadata": {
    "id": "KtT6jUMRcA8s"
   },
   "source": [
    "Vemos, en nuestra opinión, que será más sencillo pasar los yipos category a objeto antes de hacer los mapeos."
   ]
  },
  {
   "cell_type": "code",
   "execution_count": 55,
   "metadata": {
    "colab": {
     "base_uri": "https://localhost:8080/"
    },
    "executionInfo": {
     "elapsed": 235,
     "status": "ok",
     "timestamp": 1630929731662,
     "user": {
      "displayName": "Guillermo Barrio",
      "photoUrl": "",
      "userId": "06925154007558381895"
     },
     "user_tz": -120
    },
    "id": "dIfmSVYEixeQ",
    "outputId": "dc4a3197-c1fc-459e-9444-0ca6ad89f4b9"
   },
   "outputs": [
    {
     "data": {
      "text/plain": [
       "1 Muy mal      127\n",
       "5.0             79\n",
       "4.0             60\n",
       "7.0             52\n",
       "6.0             42\n",
       "3.0             41\n",
       "8.0             30\n",
       "2.0             25\n",
       "10 Muy bien     14\n",
       "9.0             10\n",
       "N.C.             2\n",
       "N.S.             1\n",
       "No conoce        0\n",
       "Name: P1001, dtype: int64"
      ]
     },
     "execution_count": 55,
     "metadata": {},
     "output_type": "execute_result"
    }
   ],
   "source": [
    "cis_malaga['P1001'].value_counts()"
   ]
  },
  {
   "cell_type": "code",
   "execution_count": 56,
   "metadata": {
    "colab": {
     "base_uri": "https://localhost:8080/"
    },
    "executionInfo": {
     "elapsed": 234,
     "status": "ok",
     "timestamp": 1630929733741,
     "user": {
      "displayName": "Guillermo Barrio",
      "photoUrl": "",
      "userId": "06925154007558381895"
     },
     "user_tz": -120
    },
    "id": "tTWng7z2uBDj",
    "outputId": "723de083-961b-404f-df02-2a99610eb86f"
   },
   "outputs": [
    {
     "data": {
      "text/plain": [
       "1 Muy mal      127\n",
       "5.0             79\n",
       "4.0             60\n",
       "7.0             52\n",
       "6.0             42\n",
       "3.0             41\n",
       "8.0             30\n",
       "2.0             25\n",
       "10 Muy bien     14\n",
       "9.0             10\n",
       "N.C.             2\n",
       "N.S.             1\n",
       "Name: P1001, dtype: int64"
      ]
     },
     "execution_count": 56,
     "metadata": {},
     "output_type": "execute_result"
    }
   ],
   "source": [
    "cis_malaga['P1001'].astype('object').value_counts()"
   ]
  },
  {
   "cell_type": "code",
   "execution_count": null,
   "metadata": {
    "id": "8P4zIxJbixbq"
   },
   "outputs": [],
   "source": []
  },
  {
   "cell_type": "code",
   "execution_count": 57,
   "metadata": {
    "colab": {
     "base_uri": "https://localhost:8080/"
    },
    "executionInfo": {
     "elapsed": 421,
     "status": "ok",
     "timestamp": 1630929736036,
     "user": {
      "displayName": "Guillermo Barrio",
      "photoUrl": "",
      "userId": "06925154007558381895"
     },
     "user_tz": -120
    },
    "id": "aU-zifLUkjgi",
    "outputId": "f4109a14-11e2-43cf-e29d-03fda7430089"
   },
   "outputs": [
    {
     "data": {
      "text/plain": [
       "0 Con toda seguridad, no lo votaría nunca    224\n",
       "10 Con toda seguridad, lo votaría siempre     71\n",
       "5.0                                           42\n",
       "8.0                                           30\n",
       "4.0                                           24\n",
       "2.0                                           17\n",
       "7.0                                           16\n",
       "9.0                                           14\n",
       "6.0                                           13\n",
       "3.0                                           13\n",
       "1.0                                           13\n",
       "N.C.                                           4\n",
       "N.S.                                           2\n",
       "Name: P1201, dtype: int64"
      ]
     },
     "execution_count": 57,
     "metadata": {},
     "output_type": "execute_result"
    }
   ],
   "source": [
    "cis_malaga['P1201'].value_counts()"
   ]
  },
  {
   "cell_type": "code",
   "execution_count": null,
   "metadata": {
    "id": "CkU-1nVSkjcp"
   },
   "outputs": [],
   "source": []
  },
  {
   "cell_type": "markdown",
   "metadata": {
    "id": "UfAbOOyUcJdk"
   },
   "source": [
    "Agrupamos las columnas para los que aplicaremos mapeos: aquellos con valoraciones de políticos, y aquellas con probabilidades de voto a partidos."
   ]
  },
  {
   "cell_type": "code",
   "execution_count": 58,
   "metadata": {
    "executionInfo": {
     "elapsed": 2,
     "status": "ok",
     "timestamp": 1630929738510,
     "user": {
      "displayName": "Guillermo Barrio",
      "photoUrl": "",
      "userId": "06925154007558381895"
     },
     "user_tz": -120
    },
    "id": "z1MN-WpAixY3"
   },
   "outputs": [],
   "source": [
    "cols_valoración = ['P1001', 'P1002', 'P1003', 'P1004', 'P1005', 'P1006']"
   ]
  },
  {
   "cell_type": "code",
   "execution_count": 59,
   "metadata": {
    "executionInfo": {
     "elapsed": 226,
     "status": "ok",
     "timestamp": 1630929740554,
     "user": {
      "displayName": "Guillermo Barrio",
      "photoUrl": "",
      "userId": "06925154007558381895"
     },
     "user_tz": -120
    },
    "id": "0EkngxmileFC"
   },
   "outputs": [],
   "source": [
    "cols_prob = ['P1201', 'P1202', 'P1203', 'P1204', 'P1205', 'P1206']"
   ]
  },
  {
   "cell_type": "code",
   "execution_count": null,
   "metadata": {
    "id": "6m23UexBixT7"
   },
   "outputs": [],
   "source": []
  },
  {
   "cell_type": "markdown",
   "metadata": {
    "id": "GhsajftrcXOq"
   },
   "source": [
    "Ahora tenemos que ver las columnas 190x, que son aquellas de ubicación ideológica de cada uno de los partidos a ojos del encuestado. Preparamos un diccionario para su mapeo también."
   ]
  },
  {
   "cell_type": "code",
   "execution_count": 60,
   "metadata": {
    "colab": {
     "base_uri": "https://localhost:8080/"
    },
    "executionInfo": {
     "elapsed": 233,
     "status": "ok",
     "timestamp": 1630929742505,
     "user": {
      "displayName": "Guillermo Barrio",
      "photoUrl": "",
      "userId": "06925154007558381895"
     },
     "user_tz": -120
    },
    "id": "mro9pAPMixQP",
    "outputId": "90c02f8b-3e5e-4729-dfd9-fd34aa8aa9e9"
   },
   "outputs": [
    {
     "data": {
      "text/plain": [
       "4.0            183\n",
       "3.0            136\n",
       "5.0             66\n",
       "2.0             34\n",
       "1 Izquierda     30\n",
       "N.S.            22\n",
       "N.C.             8\n",
       "6.0              4\n",
       "Name: P1901, dtype: int64"
      ]
     },
     "execution_count": 60,
     "metadata": {},
     "output_type": "execute_result"
    }
   ],
   "source": [
    "cis_malaga['P1901'].astype('object').value_counts()"
   ]
  },
  {
   "cell_type": "code",
   "execution_count": 61,
   "metadata": {
    "colab": {
     "base_uri": "https://localhost:8080/"
    },
    "executionInfo": {
     "elapsed": 224,
     "status": "ok",
     "timestamp": 1630929745633,
     "user": {
      "displayName": "Guillermo Barrio",
      "photoUrl": "",
      "userId": "06925154007558381895"
     },
     "user_tz": -120
    },
    "id": "ixNhbKf5lFDU",
    "outputId": "bd612538-71d7-42e6-c003-ddb42050673a"
   },
   "outputs": [
    {
     "data": {
      "text/plain": [
       "array([5.0, 3.0, 4.0, 2.0, 'N.C.', 'N.S.', 6.0, '1 Izquierda'],\n",
       "      dtype=object)"
      ]
     },
     "execution_count": 61,
     "metadata": {},
     "output_type": "execute_result"
    }
   ],
   "source": [
    "cis_malaga['P1901'].astype('object').unique()"
   ]
  },
  {
   "cell_type": "code",
   "execution_count": 62,
   "metadata": {
    "executionInfo": {
     "elapsed": 2,
     "status": "ok",
     "timestamp": 1630929747103,
     "user": {
      "displayName": "Guillermo Barrio",
      "photoUrl": "",
      "userId": "06925154007558381895"
     },
     "user_tz": -120
    },
    "id": "EGMzv6l1lFAZ"
   },
   "outputs": [],
   "source": [
    "cod_ubicación =  {'1 Izquierda' : 1,\n",
    "              2 : 2,\n",
    "              3 : 3,\n",
    "              4 : 4,\n",
    "              5 : 5,\n",
    "              6 : 6,\n",
    "              7 : 7,\n",
    "              8 : 8,\n",
    "              9 : 9,\n",
    "             '10 Derecha' : 10,\n",
    "             'N.C.' : 5,\n",
    "             'N.S.' : 5}"
   ]
  },
  {
   "cell_type": "code",
   "execution_count": 63,
   "metadata": {
    "colab": {
     "base_uri": "https://localhost:8080/"
    },
    "executionInfo": {
     "elapsed": 227,
     "status": "ok",
     "timestamp": 1630929749978,
     "user": {
      "displayName": "Guillermo Barrio",
      "photoUrl": "",
      "userId": "06925154007558381895"
     },
     "user_tz": -120
    },
    "id": "XU4f_ISqlE92",
    "outputId": "4f68c06e-78b8-4f6f-8aa7-a3ed2c51a501"
   },
   "outputs": [
    {
     "data": {
      "text/plain": [
       "4    183\n",
       "3    136\n",
       "5     96\n",
       "2     34\n",
       "1     30\n",
       "6      4\n",
       "Name: P1901, dtype: int64"
      ]
     },
     "execution_count": 63,
     "metadata": {},
     "output_type": "execute_result"
    }
   ],
   "source": [
    "cis_malaga['P1901'].astype('object').map(cod_ubicación).value_counts()"
   ]
  },
  {
   "cell_type": "markdown",
   "metadata": {
    "id": "A_d1t9qTclgu"
   },
   "source": [
    "Repasamos que las columnas 190x tienen los mismos elementos para evitar problemas, cosa que es el caso."
   ]
  },
  {
   "cell_type": "code",
   "execution_count": 64,
   "metadata": {
    "colab": {
     "base_uri": "https://localhost:8080/"
    },
    "executionInfo": {
     "elapsed": 352,
     "status": "ok",
     "timestamp": 1630929753158,
     "user": {
      "displayName": "Guillermo Barrio",
      "photoUrl": "",
      "userId": "06925154007558381895"
     },
     "user_tz": -120
    },
    "id": "rcpqr_mGuX-g",
    "outputId": "9b98b8cd-b1ba-4fa6-df2f-72d31fb37660"
   },
   "outputs": [
    {
     "data": {
      "text/plain": [
       "array([9.0, 8.0, 6.0, 7.0, 'N.C.', 'N.S.', 5.0, '10 Derecha'],\n",
       "      dtype=object)"
      ]
     },
     "execution_count": 64,
     "metadata": {},
     "output_type": "execute_result"
    }
   ],
   "source": [
    "cis_malaga['P1902'].astype('object').unique()"
   ]
  },
  {
   "cell_type": "code",
   "execution_count": 65,
   "metadata": {
    "colab": {
     "base_uri": "https://localhost:8080/"
    },
    "executionInfo": {
     "elapsed": 242,
     "status": "ok",
     "timestamp": 1630929754756,
     "user": {
      "displayName": "Guillermo Barrio",
      "photoUrl": "",
      "userId": "06925154007558381895"
     },
     "user_tz": -120
    },
    "id": "v8LPF075vFmP",
    "outputId": "a621d1ae-cbfd-4f73-864c-4c435483a348"
   },
   "outputs": [
    {
     "data": {
      "text/plain": [
       "array([8.0, 7.0, 5.0, 6.0, 'N.S.', 'N.C.', 4.0, '10 Derecha', 9.0],\n",
       "      dtype=object)"
      ]
     },
     "execution_count": 65,
     "metadata": {},
     "output_type": "execute_result"
    }
   ],
   "source": [
    "cis_malaga['P1903'].astype('object').unique()"
   ]
  },
  {
   "cell_type": "code",
   "execution_count": 66,
   "metadata": {
    "colab": {
     "base_uri": "https://localhost:8080/"
    },
    "executionInfo": {
     "elapsed": 266,
     "status": "ok",
     "timestamp": 1630929757236,
     "user": {
      "displayName": "Guillermo Barrio",
      "photoUrl": "",
      "userId": "06925154007558381895"
     },
     "user_tz": -120
    },
    "id": "FBWq3TR-vFjX",
    "outputId": "f95d7ddd-2e26-44d8-8ae2-ed8d50009cea"
   },
   "outputs": [
    {
     "data": {
      "text/plain": [
       "array(['1 Izquierda', 2.0, 3.0, 'N.S.', 'N.C.', 4.0], dtype=object)"
      ]
     },
     "execution_count": 66,
     "metadata": {},
     "output_type": "execute_result"
    }
   ],
   "source": [
    "cis_malaga['P1904'].astype('object').unique()"
   ]
  },
  {
   "cell_type": "code",
   "execution_count": 67,
   "metadata": {
    "colab": {
     "base_uri": "https://localhost:8080/"
    },
    "executionInfo": {
     "elapsed": 241,
     "status": "ok",
     "timestamp": 1630929832343,
     "user": {
      "displayName": "Guillermo Barrio",
      "photoUrl": "",
      "userId": "06925154007558381895"
     },
     "user_tz": -120
    },
    "id": "HsDt06-vvFgl",
    "outputId": "8f03be70-8881-471f-8646-84afb374164e"
   },
   "outputs": [
    {
     "data": {
      "text/plain": [
       "array(['1 Izquierda', 2.0, 'N.C.', 'N.S.', 8.0, 3.0, 4.0, 5.0],\n",
       "      dtype=object)"
      ]
     },
     "execution_count": 67,
     "metadata": {},
     "output_type": "execute_result"
    }
   ],
   "source": [
    "cis_malaga['P1905'].astype('object').unique()"
   ]
  },
  {
   "cell_type": "code",
   "execution_count": 68,
   "metadata": {
    "colab": {
     "base_uri": "https://localhost:8080/"
    },
    "executionInfo": {
     "elapsed": 224,
     "status": "ok",
     "timestamp": 1630929834269,
     "user": {
      "displayName": "Guillermo Barrio",
      "photoUrl": "",
      "userId": "06925154007558381895"
     },
     "user_tz": -120
    },
    "id": "u5iHDyFlvFdv",
    "outputId": "6df8c9fa-2114-4d4e-9f23-cffab3e9f1fa"
   },
   "outputs": [
    {
     "data": {
      "text/plain": [
       "array(['10 Derecha', 7.0, 9.0, 8.0, 'N.C.', 'N.S.', 6.0, 4.0,\n",
       "       '1 Izquierda'], dtype=object)"
      ]
     },
     "execution_count": 68,
     "metadata": {},
     "output_type": "execute_result"
    }
   ],
   "source": [
    "cis_malaga['P1906'].astype('object').unique()"
   ]
  },
  {
   "cell_type": "code",
   "execution_count": null,
   "metadata": {
    "id": "d7ftET0wvFa9"
   },
   "outputs": [],
   "source": []
  },
  {
   "cell_type": "markdown",
   "metadata": {
    "id": "G_ls-AT4cxEU"
   },
   "source": [
    "Agrupamos en otra lista las columnas de ubicación."
   ]
  },
  {
   "cell_type": "code",
   "execution_count": 69,
   "metadata": {
    "executionInfo": {
     "elapsed": 237,
     "status": "ok",
     "timestamp": 1630929838016,
     "user": {
      "displayName": "Guillermo Barrio",
      "photoUrl": "",
      "userId": "06925154007558381895"
     },
     "user_tz": -120
    },
    "id": "GrLkJomplE7W"
   },
   "outputs": [],
   "source": [
    "cols_ubicación = ['P1901', 'P1902', 'P1903', 'P1904', 'P1905', 'P1906']"
   ]
  },
  {
   "cell_type": "code",
   "execution_count": null,
   "metadata": {
    "id": "cb4XvGxvcv78"
   },
   "outputs": [],
   "source": []
  },
  {
   "cell_type": "markdown",
   "metadata": {
    "id": "GI-iYQg3c4EM"
   },
   "source": [
    "Continuamos pues con los mapeos, en este caso los de valoraciones."
   ]
  },
  {
   "cell_type": "code",
   "execution_count": 70,
   "metadata": {
    "executionInfo": {
     "elapsed": 279,
     "status": "ok",
     "timestamp": 1630929842358,
     "user": {
      "displayName": "Guillermo Barrio",
      "photoUrl": "",
      "userId": "06925154007558381895"
     },
     "user_tz": -120
    },
    "id": "VB88fZr4lE4K"
   },
   "outputs": [],
   "source": [
    "for col in cols_valoración:\n",
    "\n",
    "  cis_malaga[col] = cis_malaga[col].astype('object').map(cod_valoracion, na_action='ignore')"
   ]
  },
  {
   "cell_type": "code",
   "execution_count": 71,
   "metadata": {
    "colab": {
     "base_uri": "https://localhost:8080/"
    },
    "executionInfo": {
     "elapsed": 235,
     "status": "ok",
     "timestamp": 1630929844113,
     "user": {
      "displayName": "Guillermo Barrio",
      "photoUrl": "",
      "userId": "06925154007558381895"
     },
     "user_tz": -120
    },
    "id": "b8Smt5n0vYeb",
    "outputId": "194403e8-6aa7-4cf8-b50e-d2fe3fa1e829"
   },
   "outputs": [
    {
     "data": {
      "text/plain": [
       "1     239\n",
       "3      59\n",
       "2      48\n",
       "4      44\n",
       "5      33\n",
       "6      30\n",
       "7      14\n",
       "8       8\n",
       "10      6\n",
       "9       2\n",
       "Name: P1004, dtype: int64"
      ]
     },
     "execution_count": 71,
     "metadata": {},
     "output_type": "execute_result"
    }
   ],
   "source": [
    "cis_malaga['P1004'].value_counts()"
   ]
  },
  {
   "cell_type": "code",
   "execution_count": null,
   "metadata": {
    "id": "hL5rrtAUvYXJ"
   },
   "outputs": [],
   "source": []
  },
  {
   "cell_type": "code",
   "execution_count": null,
   "metadata": {
    "id": "LnwaohG1vYSz"
   },
   "outputs": [],
   "source": []
  },
  {
   "cell_type": "markdown",
   "metadata": {
    "id": "RUyYUn9oc-o1"
   },
   "source": [
    "Mapeos de probabilidades de voto a partidos:"
   ]
  },
  {
   "cell_type": "code",
   "execution_count": 72,
   "metadata": {
    "executionInfo": {
     "elapsed": 242,
     "status": "ok",
     "timestamp": 1630929846950,
     "user": {
      "displayName": "Guillermo Barrio",
      "photoUrl": "",
      "userId": "06925154007558381895"
     },
     "user_tz": -120
    },
    "id": "Ssziuur9lE1b"
   },
   "outputs": [],
   "source": [
    "for col in cols_prob:\n",
    "\n",
    "  cis_malaga[col] = cis_malaga[col].astype('object').map(cod_probs, na_action='ignore')"
   ]
  },
  {
   "cell_type": "code",
   "execution_count": 73,
   "metadata": {
    "colab": {
     "base_uri": "https://localhost:8080/"
    },
    "executionInfo": {
     "elapsed": 230,
     "status": "ok",
     "timestamp": 1630929849076,
     "user": {
      "displayName": "Guillermo Barrio",
      "photoUrl": "",
      "userId": "06925154007558381895"
     },
     "user_tz": -120
    },
    "id": "vSv2mQjcxf7P",
    "outputId": "f2304c41-a64a-4f39-ead3-177e4d45ca9d"
   },
   "outputs": [
    {
     "data": {
      "text/plain": [
       "0     355\n",
       "1      30\n",
       "5      14\n",
       "4      13\n",
       "2      13\n",
       "10     12\n",
       "8      12\n",
       "6      11\n",
       "3      11\n",
       "9       6\n",
       "7       6\n",
       "Name: P1204, dtype: int64"
      ]
     },
     "execution_count": 73,
     "metadata": {},
     "output_type": "execute_result"
    }
   ],
   "source": [
    "cis_malaga['P1204'].value_counts()"
   ]
  },
  {
   "cell_type": "markdown",
   "metadata": {
    "id": "EYYMNsaPdGAf"
   },
   "source": [
    "Y finalmente mapeo de ubicaciones ideológicas de los partidos."
   ]
  },
  {
   "cell_type": "code",
   "execution_count": 74,
   "metadata": {
    "executionInfo": {
     "elapsed": 222,
     "status": "ok",
     "timestamp": 1630929851073,
     "user": {
      "displayName": "Guillermo Barrio",
      "photoUrl": "",
      "userId": "06925154007558381895"
     },
     "user_tz": -120
    },
    "id": "M5YM0ffPlEya"
   },
   "outputs": [],
   "source": [
    "for col in cols_ubicación:\n",
    "\n",
    "  cis_malaga[col] = cis_malaga[col].astype('object').map(cod_ubicación, na_action='ignore')"
   ]
  },
  {
   "cell_type": "code",
   "execution_count": 75,
   "metadata": {
    "colab": {
     "base_uri": "https://localhost:8080/"
    },
    "executionInfo": {
     "elapsed": 229,
     "status": "ok",
     "timestamp": 1630929853100,
     "user": {
      "displayName": "Guillermo Barrio",
      "photoUrl": "",
      "userId": "06925154007558381895"
     },
     "user_tz": -120
    },
    "id": "hLuhtif1mx3t",
    "outputId": "e9f2c21c-957e-4485-fdd6-eceeba79e820"
   },
   "outputs": [
    {
     "data": {
      "text/plain": [
       "1    171\n",
       "2    121\n",
       "3    120\n",
       "5     52\n",
       "4     19\n",
       "Name: P1904, dtype: int64"
      ]
     },
     "execution_count": 75,
     "metadata": {},
     "output_type": "execute_result"
    }
   ],
   "source": [
    "cis_malaga['P1904'].value_counts()"
   ]
  },
  {
   "cell_type": "code",
   "execution_count": 76,
   "metadata": {
    "colab": {
     "base_uri": "https://localhost:8080/"
    },
    "executionInfo": {
     "elapsed": 228,
     "status": "ok",
     "timestamp": 1630929855933,
     "user": {
      "displayName": "Guillermo Barrio",
      "photoUrl": "",
      "userId": "06925154007558381895"
     },
     "user_tz": -120
    },
    "id": "Csorg29pmxy8",
    "outputId": "d32c44ab-10c4-4e86-812f-e94e3d3c7f4d"
   },
   "outputs": [
    {
     "data": {
      "text/plain": [
       "TAMUNI     category\n",
       "CAPITAL    category\n",
       "P1         category\n",
       "P2         category\n",
       "P3         category\n",
       "P4         category\n",
       "P601       category\n",
       "P701       category\n",
       "P8         category\n",
       "P8A        category\n",
       "P9          float64\n",
       "P9A         float64\n",
       "P1001         int64\n",
       "P1002       float64\n",
       "P1003         int64\n",
       "P1004         int64\n",
       "P1005       float64\n",
       "P1006       float64\n",
       "P11        category\n",
       "P1201         int64\n",
       "P1202         int64\n",
       "P1203         int64\n",
       "P1204         int64\n",
       "P1205         int64\n",
       "P1206         int64\n",
       "P13         float64\n",
       "P14           int64\n",
       "P15         float64\n",
       "P17A        float64\n",
       "P18        category\n",
       "P1901         int64\n",
       "P1902         int64\n",
       "P1903         int64\n",
       "P1904         int64\n",
       "P1905         int64\n",
       "P1906         int64\n",
       "P23        category\n",
       "P24        category\n",
       "P25        category\n",
       "P25A       category\n",
       "P26        category\n",
       "P27        category\n",
       "dtype: object"
      ]
     },
     "execution_count": 76,
     "metadata": {},
     "output_type": "execute_result"
    }
   ],
   "source": [
    "cis_malaga.dtypes"
   ]
  },
  {
   "cell_type": "code",
   "execution_count": null,
   "metadata": {
    "id": "RdcozeLhnJwf"
   },
   "outputs": [],
   "source": []
  },
  {
   "cell_type": "markdown",
   "metadata": {
    "id": "CrgS65pHdQ7L"
   },
   "source": [
    "Quedan un par de columnas importantes por mapear. La primera es la P11, la de probabilidad de votar en las elecciones. La preparamos para mapear."
   ]
  },
  {
   "cell_type": "code",
   "execution_count": 77,
   "metadata": {
    "colab": {
     "base_uri": "https://localhost:8080/"
    },
    "executionInfo": {
     "elapsed": 239,
     "status": "ok",
     "timestamp": 1630929859752,
     "user": {
      "displayName": "Guillermo Barrio",
      "photoUrl": "",
      "userId": "06925154007558381895"
     },
     "user_tz": -120
    },
    "id": "GaHy2npanJqX",
    "outputId": "1efe1d61-758a-432c-b4a7-211b8931150c"
   },
   "outputs": [
    {
     "data": {
      "text/plain": [
       "10 Con toda seguridad, irá a votar      262\n",
       "0 Con toda seguridad, no irá a votar     65\n",
       "9.0                                      53\n",
       "8.0                                      35\n",
       "7.0                                      25\n",
       "5.0                                      15\n",
       "2.0                                       8\n",
       "6.0                                       6\n",
       "3.0                                       5\n",
       "4.0                                       4\n",
       "1.0                                       3\n",
       "N.C.                                      2\n",
       "N.S.                                      0\n",
       "Name: P11, dtype: int64"
      ]
     },
     "execution_count": 77,
     "metadata": {},
     "output_type": "execute_result"
    }
   ],
   "source": [
    "cis_malaga['P11'].value_counts()"
   ]
  },
  {
   "cell_type": "code",
   "execution_count": 78,
   "metadata": {
    "colab": {
     "base_uri": "https://localhost:8080/"
    },
    "executionInfo": {
     "elapsed": 221,
     "status": "ok",
     "timestamp": 1630929862080,
     "user": {
      "displayName": "Guillermo Barrio",
      "photoUrl": "",
      "userId": "06925154007558381895"
     },
     "user_tz": -120
    },
    "id": "EA-4lJSDx4Cz",
    "outputId": "7cab8eab-f73e-4260-d7f6-30b11f8bda34"
   },
   "outputs": [
    {
     "data": {
      "text/plain": [
       "array(['10 Con toda seguridad, irá a votar', 4.0, 7.0,\n",
       "       '0 Con toda seguridad, no irá a votar', 2.0, 9.0, 3.0, 'N.C.', 8.0,\n",
       "       5.0, 1.0, 6.0], dtype=object)"
      ]
     },
     "execution_count": 78,
     "metadata": {},
     "output_type": "execute_result"
    }
   ],
   "source": [
    "cis_malaga['P11'].astype('object').unique()"
   ]
  },
  {
   "cell_type": "code",
   "execution_count": 79,
   "metadata": {
    "executionInfo": {
     "elapsed": 224,
     "status": "ok",
     "timestamp": 1630929863799,
     "user": {
      "displayName": "Guillermo Barrio",
      "photoUrl": "",
      "userId": "06925154007558381895"
     },
     "user_tz": -120
    },
    "id": "sLqQl_sEoDp5"
   },
   "outputs": [],
   "source": [
    "cod_prob_votar =  {'0 Con toda seguridad, no irá a votar' : 0, \n",
    "              1 : 1,\n",
    "              2 : 2,\n",
    "              3 : 3,\n",
    "              4 : 4,\n",
    "              5 : 5,\n",
    "              6 : 6,\n",
    "              7 : 7,\n",
    "              8 : 8,\n",
    "              9 : 9,\n",
    "             '10 Con toda seguridad, irá a votar' : 10,\n",
    "             'N.C.' : 5,\n",
    "             'N.S.' : 5}"
   ]
  },
  {
   "cell_type": "code",
   "execution_count": null,
   "metadata": {
    "id": "7EpIDiqSoDlF"
   },
   "outputs": [],
   "source": []
  },
  {
   "cell_type": "code",
   "execution_count": 80,
   "metadata": {
    "executionInfo": {
     "elapsed": 233,
     "status": "ok",
     "timestamp": 1630929866190,
     "user": {
      "displayName": "Guillermo Barrio",
      "photoUrl": "",
      "userId": "06925154007558381895"
     },
     "user_tz": -120
    },
    "id": "s9wr3ftmn3sM"
   },
   "outputs": [],
   "source": [
    "cis_malaga['P11'] = cis_malaga['P11'].astype('object').map(cod_prob_votar, na_action='ignore')"
   ]
  },
  {
   "cell_type": "code",
   "execution_count": 81,
   "metadata": {
    "colab": {
     "base_uri": "https://localhost:8080/"
    },
    "executionInfo": {
     "elapsed": 238,
     "status": "ok",
     "timestamp": 1630929867770,
     "user": {
      "displayName": "Guillermo Barrio",
      "photoUrl": "",
      "userId": "06925154007558381895"
     },
     "user_tz": -120
    },
    "id": "iqq6gS5En3nt",
    "outputId": "e4e5f5d0-9771-47fd-f48f-b0e9b4d61ead"
   },
   "outputs": [
    {
     "data": {
      "text/plain": [
       "10    262\n",
       "0      65\n",
       "9      53\n",
       "8      35\n",
       "7      25\n",
       "5      17\n",
       "2       8\n",
       "6       6\n",
       "3       5\n",
       "4       4\n",
       "1       3\n",
       "Name: P11, dtype: int64"
      ]
     },
     "execution_count": 81,
     "metadata": {},
     "output_type": "execute_result"
    }
   ],
   "source": [
    "cis_malaga['P11'].value_counts()"
   ]
  },
  {
   "cell_type": "code",
   "execution_count": null,
   "metadata": {
    "id": "86oewuPnn3dU"
   },
   "outputs": [],
   "source": []
  },
  {
   "cell_type": "markdown",
   "metadata": {
    "id": "MfnUh74DdwQ9"
   },
   "source": [
    "Otra columna importante es la autoubicación ideológica del encuestado, que la preparamos para mapear también."
   ]
  },
  {
   "cell_type": "code",
   "execution_count": 82,
   "metadata": {
    "colab": {
     "base_uri": "https://localhost:8080/"
    },
    "executionInfo": {
     "elapsed": 225,
     "status": "ok",
     "timestamp": 1630929870116,
     "user": {
      "displayName": "Guillermo Barrio",
      "photoUrl": "",
      "userId": "06925154007558381895"
     },
     "user_tz": -120
    },
    "id": "juXTP6Vfmxpl",
    "outputId": "20468faf-9554-499c-b711-7df1af551c55"
   },
   "outputs": [
    {
     "data": {
      "text/plain": [
       "3.0            105\n",
       "5.0            102\n",
       "4.0             77\n",
       "7.0             46\n",
       "6.0             44\n",
       "2.0             34\n",
       "8.0             25\n",
       "N.C.            17\n",
       "N.S.            16\n",
       "1 Izquierda      9\n",
       "9.0              5\n",
       "10 Derecha       3\n",
       "Name: P18, dtype: int64"
      ]
     },
     "execution_count": 82,
     "metadata": {},
     "output_type": "execute_result"
    }
   ],
   "source": [
    "cis_malaga['P18'].value_counts()"
   ]
  },
  {
   "cell_type": "code",
   "execution_count": null,
   "metadata": {
    "id": "7Nez5sBllEvS"
   },
   "outputs": [],
   "source": []
  },
  {
   "cell_type": "code",
   "execution_count": 83,
   "metadata": {
    "executionInfo": {
     "elapsed": 3,
     "status": "ok",
     "timestamp": 1630929872078,
     "user": {
      "displayName": "Guillermo Barrio",
      "photoUrl": "",
      "userId": "06925154007558381895"
     },
     "user_tz": -120
    },
    "id": "zBHJx52IotfB"
   },
   "outputs": [],
   "source": [
    "cis_malaga['P18'] = cis_malaga['P18'].astype('object').map(cod_ubicación, na_action='ignore')"
   ]
  },
  {
   "cell_type": "code",
   "execution_count": 84,
   "metadata": {
    "colab": {
     "base_uri": "https://localhost:8080/"
    },
    "executionInfo": {
     "elapsed": 224,
     "status": "ok",
     "timestamp": 1630929874274,
     "user": {
      "displayName": "Guillermo Barrio",
      "photoUrl": "",
      "userId": "06925154007558381895"
     },
     "user_tz": -120
    },
    "id": "533EH6Wdyn4u",
    "outputId": "6a5b9e1a-84db-4961-a658-47ef308efb99"
   },
   "outputs": [
    {
     "data": {
      "text/plain": [
       "5     135\n",
       "3     105\n",
       "4      77\n",
       "7      46\n",
       "6      44\n",
       "2      34\n",
       "8      25\n",
       "1       9\n",
       "9       5\n",
       "10      3\n",
       "Name: P18, dtype: int64"
      ]
     },
     "execution_count": 84,
     "metadata": {},
     "output_type": "execute_result"
    }
   ],
   "source": [
    "cis_malaga['P18'].value_counts()"
   ]
  },
  {
   "cell_type": "markdown",
   "metadata": {
    "id": "5qvFQiFoeAMB"
   },
   "source": [
    "Ya tenemos mapeados todas las columnas que hemos podido llevar a cabo antes de la separación train y test."
   ]
  },
  {
   "cell_type": "code",
   "execution_count": 85,
   "metadata": {
    "colab": {
     "base_uri": "https://localhost:8080/"
    },
    "executionInfo": {
     "elapsed": 8,
     "status": "ok",
     "timestamp": 1630929876497,
     "user": {
      "displayName": "Guillermo Barrio",
      "photoUrl": "",
      "userId": "06925154007558381895"
     },
     "user_tz": -120
    },
    "id": "73UlVKGTota0",
    "outputId": "2fd292bd-6456-4280-866c-2a645b4dd389"
   },
   "outputs": [
    {
     "data": {
      "text/plain": [
       "TAMUNI     category\n",
       "CAPITAL    category\n",
       "P1         category\n",
       "P2         category\n",
       "P3         category\n",
       "P4         category\n",
       "P601       category\n",
       "P701       category\n",
       "P8         category\n",
       "P8A        category\n",
       "P9          float64\n",
       "P9A         float64\n",
       "P1001         int64\n",
       "P1002       float64\n",
       "P1003         int64\n",
       "P1004         int64\n",
       "P1005       float64\n",
       "P1006       float64\n",
       "P11           int64\n",
       "P1201         int64\n",
       "P1202         int64\n",
       "P1203         int64\n",
       "P1204         int64\n",
       "P1205         int64\n",
       "P1206         int64\n",
       "P13         float64\n",
       "P14           int64\n",
       "P15         float64\n",
       "P17A        float64\n",
       "P18           int64\n",
       "P1901         int64\n",
       "P1902         int64\n",
       "P1903         int64\n",
       "P1904         int64\n",
       "P1905         int64\n",
       "P1906         int64\n",
       "P23        category\n",
       "P24        category\n",
       "P25        category\n",
       "P25A       category\n",
       "P26        category\n",
       "P27        category\n",
       "dtype: object"
      ]
     },
     "execution_count": 85,
     "metadata": {},
     "output_type": "execute_result"
    }
   ],
   "source": [
    "cis_malaga.dtypes"
   ]
  },
  {
   "cell_type": "markdown",
   "metadata": {
    "id": "WOsy_l8ceM6b"
   },
   "source": [
    "Hacemos un describe. Casi todas las columnas tienen rellenos sus registos, con pocos nan."
   ]
  },
  {
   "cell_type": "code",
   "execution_count": 86,
   "metadata": {
    "colab": {
     "base_uri": "https://localhost:8080/",
     "height": 317
    },
    "executionInfo": {
     "elapsed": 371,
     "status": "ok",
     "timestamp": 1630929891285,
     "user": {
      "displayName": "Guillermo Barrio",
      "photoUrl": "",
      "userId": "06925154007558381895"
     },
     "user_tz": -120
    },
    "id": "c7oCrAwDpwBO",
    "outputId": "88576aa5-d189-4994-88e9-f2ceb136e06e"
   },
   "outputs": [
    {
     "data": {
      "text/html": [
       "<div>\n",
       "<style scoped>\n",
       "    .dataframe tbody tr th:only-of-type {\n",
       "        vertical-align: middle;\n",
       "    }\n",
       "\n",
       "    .dataframe tbody tr th {\n",
       "        vertical-align: top;\n",
       "    }\n",
       "\n",
       "    .dataframe thead th {\n",
       "        text-align: right;\n",
       "    }\n",
       "</style>\n",
       "<table border=\"1\" class=\"dataframe\">\n",
       "  <thead>\n",
       "    <tr style=\"text-align: right;\">\n",
       "      <th></th>\n",
       "      <th>P9</th>\n",
       "      <th>P9A</th>\n",
       "      <th>P1001</th>\n",
       "      <th>P1002</th>\n",
       "      <th>P1003</th>\n",
       "      <th>P1004</th>\n",
       "      <th>P1005</th>\n",
       "      <th>P1006</th>\n",
       "      <th>P11</th>\n",
       "      <th>P1201</th>\n",
       "      <th>...</th>\n",
       "      <th>P14</th>\n",
       "      <th>P15</th>\n",
       "      <th>P17A</th>\n",
       "      <th>P18</th>\n",
       "      <th>P1901</th>\n",
       "      <th>P1902</th>\n",
       "      <th>P1903</th>\n",
       "      <th>P1904</th>\n",
       "      <th>P1905</th>\n",
       "      <th>P1906</th>\n",
       "    </tr>\n",
       "  </thead>\n",
       "  <tbody>\n",
       "    <tr>\n",
       "      <th>count</th>\n",
       "      <td>368.000000</td>\n",
       "      <td>181.000000</td>\n",
       "      <td>483.000000</td>\n",
       "      <td>482.000000</td>\n",
       "      <td>483.000000</td>\n",
       "      <td>483.000000</td>\n",
       "      <td>446.000000</td>\n",
       "      <td>473.000000</td>\n",
       "      <td>483.000000</td>\n",
       "      <td>483.000000</td>\n",
       "      <td>...</td>\n",
       "      <td>483.000000</td>\n",
       "      <td>478.000000</td>\n",
       "      <td>381.00000</td>\n",
       "      <td>483.000000</td>\n",
       "      <td>483.000000</td>\n",
       "      <td>483.000000</td>\n",
       "      <td>483.000000</td>\n",
       "      <td>483.000000</td>\n",
       "      <td>483.000000</td>\n",
       "      <td>483.000000</td>\n",
       "    </tr>\n",
       "    <tr>\n",
       "      <th>mean</th>\n",
       "      <td>45.788043</td>\n",
       "      <td>47.790055</td>\n",
       "      <td>4.202899</td>\n",
       "      <td>3.261411</td>\n",
       "      <td>3.465839</td>\n",
       "      <td>2.635611</td>\n",
       "      <td>3.020179</td>\n",
       "      <td>2.490486</td>\n",
       "      <td>7.708075</td>\n",
       "      <td>3.469979</td>\n",
       "      <td>...</td>\n",
       "      <td>35.817805</td>\n",
       "      <td>45.251046</td>\n",
       "      <td>43.08399</td>\n",
       "      <td>4.629400</td>\n",
       "      <td>3.606625</td>\n",
       "      <td>7.482402</td>\n",
       "      <td>6.024845</td>\n",
       "      <td>2.296066</td>\n",
       "      <td>2.412008</td>\n",
       "      <td>8.679089</td>\n",
       "    </tr>\n",
       "    <tr>\n",
       "      <th>std</th>\n",
       "      <td>26.566531</td>\n",
       "      <td>12.442316</td>\n",
       "      <td>2.583107</td>\n",
       "      <td>2.164283</td>\n",
       "      <td>2.268395</td>\n",
       "      <td>2.124676</td>\n",
       "      <td>2.305255</td>\n",
       "      <td>2.371354</td>\n",
       "      <td>3.541643</td>\n",
       "      <td>3.885369</td>\n",
       "      <td>...</td>\n",
       "      <td>11.820929</td>\n",
       "      <td>24.109719</td>\n",
       "      <td>26.60141</td>\n",
       "      <td>1.757416</td>\n",
       "      <td>1.096258</td>\n",
       "      <td>1.174240</td>\n",
       "      <td>1.046335</td>\n",
       "      <td>1.282392</td>\n",
       "      <td>1.306710</td>\n",
       "      <td>1.576052</td>\n",
       "    </tr>\n",
       "    <tr>\n",
       "      <th>min</th>\n",
       "      <td>0.000000</td>\n",
       "      <td>0.000000</td>\n",
       "      <td>1.000000</td>\n",
       "      <td>1.000000</td>\n",
       "      <td>1.000000</td>\n",
       "      <td>1.000000</td>\n",
       "      <td>1.000000</td>\n",
       "      <td>1.000000</td>\n",
       "      <td>0.000000</td>\n",
       "      <td>0.000000</td>\n",
       "      <td>...</td>\n",
       "      <td>0.000000</td>\n",
       "      <td>0.000000</td>\n",
       "      <td>0.00000</td>\n",
       "      <td>1.000000</td>\n",
       "      <td>1.000000</td>\n",
       "      <td>5.000000</td>\n",
       "      <td>4.000000</td>\n",
       "      <td>1.000000</td>\n",
       "      <td>1.000000</td>\n",
       "      <td>1.000000</td>\n",
       "    </tr>\n",
       "    <tr>\n",
       "      <th>25%</th>\n",
       "      <td>30.000000</td>\n",
       "      <td>50.000000</td>\n",
       "      <td>1.000000</td>\n",
       "      <td>1.000000</td>\n",
       "      <td>1.000000</td>\n",
       "      <td>1.000000</td>\n",
       "      <td>1.000000</td>\n",
       "      <td>1.000000</td>\n",
       "      <td>7.000000</td>\n",
       "      <td>0.000000</td>\n",
       "      <td>...</td>\n",
       "      <td>30.000000</td>\n",
       "      <td>30.000000</td>\n",
       "      <td>30.00000</td>\n",
       "      <td>3.000000</td>\n",
       "      <td>3.000000</td>\n",
       "      <td>7.000000</td>\n",
       "      <td>5.000000</td>\n",
       "      <td>1.000000</td>\n",
       "      <td>1.000000</td>\n",
       "      <td>8.000000</td>\n",
       "    </tr>\n",
       "    <tr>\n",
       "      <th>50%</th>\n",
       "      <td>50.000000</td>\n",
       "      <td>50.000000</td>\n",
       "      <td>4.000000</td>\n",
       "      <td>3.000000</td>\n",
       "      <td>3.000000</td>\n",
       "      <td>2.000000</td>\n",
       "      <td>2.000000</td>\n",
       "      <td>1.000000</td>\n",
       "      <td>10.000000</td>\n",
       "      <td>2.000000</td>\n",
       "      <td>...</td>\n",
       "      <td>30.000000</td>\n",
       "      <td>50.000000</td>\n",
       "      <td>30.00000</td>\n",
       "      <td>5.000000</td>\n",
       "      <td>4.000000</td>\n",
       "      <td>8.000000</td>\n",
       "      <td>6.000000</td>\n",
       "      <td>2.000000</td>\n",
       "      <td>2.000000</td>\n",
       "      <td>9.000000</td>\n",
       "    </tr>\n",
       "    <tr>\n",
       "      <th>75%</th>\n",
       "      <td>60.000000</td>\n",
       "      <td>50.000000</td>\n",
       "      <td>6.000000</td>\n",
       "      <td>5.000000</td>\n",
       "      <td>5.000000</td>\n",
       "      <td>4.000000</td>\n",
       "      <td>5.000000</td>\n",
       "      <td>3.000000</td>\n",
       "      <td>10.000000</td>\n",
       "      <td>7.000000</td>\n",
       "      <td>...</td>\n",
       "      <td>30.000000</td>\n",
       "      <td>60.000000</td>\n",
       "      <td>65.00000</td>\n",
       "      <td>6.000000</td>\n",
       "      <td>4.000000</td>\n",
       "      <td>8.000000</td>\n",
       "      <td>7.000000</td>\n",
       "      <td>3.000000</td>\n",
       "      <td>3.000000</td>\n",
       "      <td>10.000000</td>\n",
       "    </tr>\n",
       "    <tr>\n",
       "      <th>max</th>\n",
       "      <td>100.000000</td>\n",
       "      <td>100.000000</td>\n",
       "      <td>10.000000</td>\n",
       "      <td>10.000000</td>\n",
       "      <td>10.000000</td>\n",
       "      <td>10.000000</td>\n",
       "      <td>10.000000</td>\n",
       "      <td>10.000000</td>\n",
       "      <td>10.000000</td>\n",
       "      <td>10.000000</td>\n",
       "      <td>...</td>\n",
       "      <td>100.000000</td>\n",
       "      <td>100.000000</td>\n",
       "      <td>100.00000</td>\n",
       "      <td>10.000000</td>\n",
       "      <td>6.000000</td>\n",
       "      <td>10.000000</td>\n",
       "      <td>10.000000</td>\n",
       "      <td>5.000000</td>\n",
       "      <td>8.000000</td>\n",
       "      <td>10.000000</td>\n",
       "    </tr>\n",
       "  </tbody>\n",
       "</table>\n",
       "<p>8 rows × 26 columns</p>\n",
       "</div>"
      ],
      "text/plain": [
       "               P9         P9A       P1001       P1002       P1003       P1004  \\\n",
       "count  368.000000  181.000000  483.000000  482.000000  483.000000  483.000000   \n",
       "mean    45.788043   47.790055    4.202899    3.261411    3.465839    2.635611   \n",
       "std     26.566531   12.442316    2.583107    2.164283    2.268395    2.124676   \n",
       "min      0.000000    0.000000    1.000000    1.000000    1.000000    1.000000   \n",
       "25%     30.000000   50.000000    1.000000    1.000000    1.000000    1.000000   \n",
       "50%     50.000000   50.000000    4.000000    3.000000    3.000000    2.000000   \n",
       "75%     60.000000   50.000000    6.000000    5.000000    5.000000    4.000000   \n",
       "max    100.000000  100.000000   10.000000   10.000000   10.000000   10.000000   \n",
       "\n",
       "            P1005       P1006         P11       P1201  ...         P14  \\\n",
       "count  446.000000  473.000000  483.000000  483.000000  ...  483.000000   \n",
       "mean     3.020179    2.490486    7.708075    3.469979  ...   35.817805   \n",
       "std      2.305255    2.371354    3.541643    3.885369  ...   11.820929   \n",
       "min      1.000000    1.000000    0.000000    0.000000  ...    0.000000   \n",
       "25%      1.000000    1.000000    7.000000    0.000000  ...   30.000000   \n",
       "50%      2.000000    1.000000   10.000000    2.000000  ...   30.000000   \n",
       "75%      5.000000    3.000000   10.000000    7.000000  ...   30.000000   \n",
       "max     10.000000   10.000000   10.000000   10.000000  ...  100.000000   \n",
       "\n",
       "              P15       P17A         P18       P1901       P1902       P1903  \\\n",
       "count  478.000000  381.00000  483.000000  483.000000  483.000000  483.000000   \n",
       "mean    45.251046   43.08399    4.629400    3.606625    7.482402    6.024845   \n",
       "std     24.109719   26.60141    1.757416    1.096258    1.174240    1.046335   \n",
       "min      0.000000    0.00000    1.000000    1.000000    5.000000    4.000000   \n",
       "25%     30.000000   30.00000    3.000000    3.000000    7.000000    5.000000   \n",
       "50%     50.000000   30.00000    5.000000    4.000000    8.000000    6.000000   \n",
       "75%     60.000000   65.00000    6.000000    4.000000    8.000000    7.000000   \n",
       "max    100.000000  100.00000   10.000000    6.000000   10.000000   10.000000   \n",
       "\n",
       "            P1904       P1905       P1906  \n",
       "count  483.000000  483.000000  483.000000  \n",
       "mean     2.296066    2.412008    8.679089  \n",
       "std      1.282392    1.306710    1.576052  \n",
       "min      1.000000    1.000000    1.000000  \n",
       "25%      1.000000    1.000000    8.000000  \n",
       "50%      2.000000    2.000000    9.000000  \n",
       "75%      3.000000    3.000000   10.000000  \n",
       "max      5.000000    8.000000   10.000000  \n",
       "\n",
       "[8 rows x 26 columns]"
      ]
     },
     "execution_count": 86,
     "metadata": {},
     "output_type": "execute_result"
    }
   ],
   "source": [
    "cis_malaga.describe()"
   ]
  },
  {
   "cell_type": "code",
   "execution_count": null,
   "metadata": {
    "id": "ijx7qsTUqer1"
   },
   "outputs": [],
   "source": []
  },
  {
   "cell_type": "markdown",
   "metadata": {
    "id": "-MT2vC9FeU5B"
   },
   "source": [
    "Ahora viene un paso importante: nos quedamos para modelizar el voto con aquellos registros que declaran su voto, es decir, la columna no es nan.\n",
    "\n",
    "Hay que recordar que explicitar que no se votará es un registro válido.\n",
    "\n",
    "Para aquellos registros que no tengan declarado su voto, éste se estimará en producción, es decir, cuando tengamos el modelo entrenado y verificado con el test."
   ]
  },
  {
   "cell_type": "code",
   "execution_count": 87,
   "metadata": {
    "executionInfo": {
     "elapsed": 281,
     "status": "ok",
     "timestamp": 1630929896487,
     "user": {
      "displayName": "Guillermo Barrio",
      "photoUrl": "",
      "userId": "06925154007558381895"
     },
     "user_tz": -120
    },
    "id": "GmznShyxzGtt"
   },
   "outputs": [],
   "source": [
    "cis_malaga_modelo = cis_malaga[cis_malaga['P9'].notna()]"
   ]
  },
  {
   "cell_type": "code",
   "execution_count": 88,
   "metadata": {
    "colab": {
     "base_uri": "https://localhost:8080/"
    },
    "executionInfo": {
     "elapsed": 244,
     "status": "ok",
     "timestamp": 1630929898478,
     "user": {
      "displayName": "Guillermo Barrio",
      "photoUrl": "",
      "userId": "06925154007558381895"
     },
     "user_tz": -120
    },
    "id": "niGqdFKDrica",
    "outputId": "4ac0dc7d-6cee-4ede-df60-6cae36cbd977"
   },
   "outputs": [
    {
     "data": {
      "text/plain": [
       "(368, 42)"
      ]
     },
     "execution_count": 88,
     "metadata": {},
     "output_type": "execute_result"
    }
   ],
   "source": [
    "cis_malaga_modelo.shape"
   ]
  },
  {
   "cell_type": "code",
   "execution_count": null,
   "metadata": {
    "id": "-12vGjcVriZq"
   },
   "outputs": [],
   "source": []
  },
  {
   "cell_type": "markdown",
   "metadata": {
    "id": "LexFZxyOqO2r"
   },
   "source": [
    "##Set de Train"
   ]
  },
  {
   "cell_type": "markdown",
   "metadata": {
    "id": "JZAx6sfLe02H"
   },
   "source": [
    "Llevamos a cabo el train test split, y como de costumbre nos quedamos solo con el train."
   ]
  },
  {
   "cell_type": "code",
   "execution_count": 89,
   "metadata": {
    "colab": {
     "base_uri": "https://localhost:8080/"
    },
    "executionInfo": {
     "elapsed": 246,
     "status": "ok",
     "timestamp": 1630929917800,
     "user": {
      "displayName": "Guillermo Barrio",
      "photoUrl": "",
      "userId": "06925154007558381895"
     },
     "user_tz": -120
    },
    "id": "yAiK178lriWX",
    "outputId": "7b653c4b-d83b-4056-8b09-fc5438bc11d2"
   },
   "outputs": [
    {
     "name": "stdout",
     "output_type": "stream",
     "text": [
      "Dimensiones del dataset de training: (294, 42)\n",
      "Dimensiones del dataset de test: (74, 42)\n"
     ]
    }
   ],
   "source": [
    "from sklearn.model_selection import train_test_split\n",
    "\n",
    "train, test = train_test_split(cis_malaga_modelo, test_size=0.2, shuffle=True, random_state=0)\n",
    "\n",
    "print(f'Dimensiones del dataset de training: {train.shape}')\n",
    "print(f'Dimensiones del dataset de test: {test.shape}')\n",
    "\n",
    "# Guardamos\n",
    "train.to_csv('train_cis_malaga_modelo.txt', index=False)\n",
    "test.to_csv('test_cis_malaga_modelo.txt', index=False)\n",
    "\n",
    "# A partir de este momento cargamos el dataset de train y trabajamos ÚNICAMENTE con él. \n",
    "\n",
    "df_train = pd.read_csv('train_cis_malaga_modelo.txt')"
   ]
  },
  {
   "cell_type": "code",
   "execution_count": 90,
   "metadata": {
    "colab": {
     "base_uri": "https://localhost:8080/",
     "height": 966
    },
    "executionInfo": {
     "elapsed": 242,
     "status": "ok",
     "timestamp": 1630929920436,
     "user": {
      "displayName": "Guillermo Barrio",
      "photoUrl": "",
      "userId": "06925154007558381895"
     },
     "user_tz": -120
    },
    "id": "hbIGiLLSsM23",
    "outputId": "26847a02-5f43-4dad-c4fe-656c5a479ee0"
   },
   "outputs": [
    {
     "data": {
      "text/html": [
       "<div>\n",
       "<style scoped>\n",
       "    .dataframe tbody tr th:only-of-type {\n",
       "        vertical-align: middle;\n",
       "    }\n",
       "\n",
       "    .dataframe tbody tr th {\n",
       "        vertical-align: top;\n",
       "    }\n",
       "\n",
       "    .dataframe thead th {\n",
       "        text-align: right;\n",
       "    }\n",
       "</style>\n",
       "<table border=\"1\" class=\"dataframe\">\n",
       "  <thead>\n",
       "    <tr style=\"text-align: right;\">\n",
       "      <th></th>\n",
       "      <th>TAMUNI</th>\n",
       "      <th>CAPITAL</th>\n",
       "      <th>P1</th>\n",
       "      <th>P2</th>\n",
       "      <th>P3</th>\n",
       "      <th>P4</th>\n",
       "      <th>P601</th>\n",
       "      <th>P701</th>\n",
       "      <th>P8</th>\n",
       "      <th>P8A</th>\n",
       "      <th>...</th>\n",
       "      <th>P1903</th>\n",
       "      <th>P1904</th>\n",
       "      <th>P1905</th>\n",
       "      <th>P1906</th>\n",
       "      <th>P23</th>\n",
       "      <th>P24</th>\n",
       "      <th>P25</th>\n",
       "      <th>P25A</th>\n",
       "      <th>P26</th>\n",
       "      <th>P27</th>\n",
       "    </tr>\n",
       "  </thead>\n",
       "  <tbody>\n",
       "    <tr>\n",
       "      <th>0</th>\n",
       "      <td>50.001 a 100.000 habitantes</td>\n",
       "      <td>Otros municipios</td>\n",
       "      <td>Poco</td>\n",
       "      <td>Rara vez</td>\n",
       "      <td>Mala</td>\n",
       "      <td>Mala</td>\n",
       "      <td>La corrupción y el fraude</td>\n",
       "      <td>Las pensiones</td>\n",
       "      <td>Probablemente sí</td>\n",
       "      <td>Sí, lo tiene decidido</td>\n",
       "      <td>...</td>\n",
       "      <td>6</td>\n",
       "      <td>1</td>\n",
       "      <td>1</td>\n",
       "      <td>5</td>\n",
       "      <td>Mujer</td>\n",
       "      <td>72.0</td>\n",
       "      <td>Sí, ha ido a la escuela</td>\n",
       "      <td>Secundaria (Bachillerato Elemental, EGB comple...</td>\n",
       "      <td>Jubilado/a o pensionista (anteriormente ha tra...</td>\n",
       "      <td>Católico/a no practicante</td>\n",
       "    </tr>\n",
       "    <tr>\n",
       "      <th>1</th>\n",
       "      <td>400.001 a 1.000.000 habitantes</td>\n",
       "      <td>Capital de provincia</td>\n",
       "      <td>Bastante</td>\n",
       "      <td>Habitualmente</td>\n",
       "      <td>Mala</td>\n",
       "      <td>Regular</td>\n",
       "      <td>El paro</td>\n",
       "      <td>El paro</td>\n",
       "      <td>Sí, con toda seguridad</td>\n",
       "      <td>Sí, lo tiene decidido</td>\n",
       "      <td>...</td>\n",
       "      <td>6</td>\n",
       "      <td>3</td>\n",
       "      <td>4</td>\n",
       "      <td>9</td>\n",
       "      <td>Hombre</td>\n",
       "      <td>63.0</td>\n",
       "      <td>Sí, ha ido a la escuela</td>\n",
       "      <td>Universitarios medios (diplomatura, Arquitectu...</td>\n",
       "      <td>Jubilado/a o pensionista (anteriormente ha tra...</td>\n",
       "      <td>Católico/a no practicante</td>\n",
       "    </tr>\n",
       "    <tr>\n",
       "      <th>2</th>\n",
       "      <td>10.001 a 50.000 habitantes</td>\n",
       "      <td>Otros municipios</td>\n",
       "      <td>Poco</td>\n",
       "      <td>De vez en cuando</td>\n",
       "      <td>Mala</td>\n",
       "      <td>Regular</td>\n",
       "      <td>El paro</td>\n",
       "      <td>Ninguno</td>\n",
       "      <td>Probablemente sí</td>\n",
       "      <td>No, no lo ha decidido aún</td>\n",
       "      <td>...</td>\n",
       "      <td>5</td>\n",
       "      <td>5</td>\n",
       "      <td>5</td>\n",
       "      <td>5</td>\n",
       "      <td>Mujer</td>\n",
       "      <td>64.0</td>\n",
       "      <td>Sí, ha ido a la escuela</td>\n",
       "      <td>Secundaria (Bachillerato Elemental, EGB comple...</td>\n",
       "      <td>Trabajo doméstico no remunerado</td>\n",
       "      <td>Católico/a no practicante</td>\n",
       "    </tr>\n",
       "    <tr>\n",
       "      <th>3</th>\n",
       "      <td>400.001 a 1.000.000 habitantes</td>\n",
       "      <td>Capital de provincia</td>\n",
       "      <td>Bastante</td>\n",
       "      <td>Habitualmente</td>\n",
       "      <td>Muy mala</td>\n",
       "      <td>Muy mala</td>\n",
       "      <td>El paro</td>\n",
       "      <td>El paro</td>\n",
       "      <td>Sí, con toda seguridad</td>\n",
       "      <td>Sí, lo tiene decidido</td>\n",
       "      <td>...</td>\n",
       "      <td>4</td>\n",
       "      <td>2</td>\n",
       "      <td>3</td>\n",
       "      <td>9</td>\n",
       "      <td>Mujer</td>\n",
       "      <td>54.0</td>\n",
       "      <td>Sí, ha ido a la escuela</td>\n",
       "      <td>Secundaria (Bachillerato Elemental, EGB comple...</td>\n",
       "      <td>Parado/a y ha trabajado antes</td>\n",
       "      <td>Católico/a no practicante</td>\n",
       "    </tr>\n",
       "    <tr>\n",
       "      <th>4</th>\n",
       "      <td>100.001 a 400.000 habitantes</td>\n",
       "      <td>Otros municipios</td>\n",
       "      <td>Bastante</td>\n",
       "      <td>De vez en cuando</td>\n",
       "      <td>Mala</td>\n",
       "      <td>Mala</td>\n",
       "      <td>El paro</td>\n",
       "      <td>N.S.</td>\n",
       "      <td>Sí, con toda seguridad</td>\n",
       "      <td>Sí, lo tiene decidido</td>\n",
       "      <td>...</td>\n",
       "      <td>6</td>\n",
       "      <td>2</td>\n",
       "      <td>2</td>\n",
       "      <td>10</td>\n",
       "      <td>Hombre</td>\n",
       "      <td>48.0</td>\n",
       "      <td>Sí, ha ido a la escuela</td>\n",
       "      <td>Secundaria (Bachillerato Elemental, EGB comple...</td>\n",
       "      <td>Trabaja</td>\n",
       "      <td>Católico/a no practicante</td>\n",
       "    </tr>\n",
       "    <tr>\n",
       "      <th>...</th>\n",
       "      <td>...</td>\n",
       "      <td>...</td>\n",
       "      <td>...</td>\n",
       "      <td>...</td>\n",
       "      <td>...</td>\n",
       "      <td>...</td>\n",
       "      <td>...</td>\n",
       "      <td>...</td>\n",
       "      <td>...</td>\n",
       "      <td>...</td>\n",
       "      <td>...</td>\n",
       "      <td>...</td>\n",
       "      <td>...</td>\n",
       "      <td>...</td>\n",
       "      <td>...</td>\n",
       "      <td>...</td>\n",
       "      <td>...</td>\n",
       "      <td>...</td>\n",
       "      <td>...</td>\n",
       "      <td>...</td>\n",
       "      <td>...</td>\n",
       "    </tr>\n",
       "    <tr>\n",
       "      <th>289</th>\n",
       "      <td>400.001 a 1.000.000 habitantes</td>\n",
       "      <td>Capital de provincia</td>\n",
       "      <td>Poco</td>\n",
       "      <td>Rara vez</td>\n",
       "      <td>Muy mala</td>\n",
       "      <td>Muy mala</td>\n",
       "      <td>El paro</td>\n",
       "      <td>Las pensiones</td>\n",
       "      <td>Sí, con toda seguridad</td>\n",
       "      <td>Sí, lo tiene decidido</td>\n",
       "      <td>...</td>\n",
       "      <td>7</td>\n",
       "      <td>3</td>\n",
       "      <td>3</td>\n",
       "      <td>10</td>\n",
       "      <td>Mujer</td>\n",
       "      <td>75.0</td>\n",
       "      <td>No, pero sabe leer y escribir</td>\n",
       "      <td>NaN</td>\n",
       "      <td>Trabajo doméstico no remunerado</td>\n",
       "      <td>Católico/a no practicante</td>\n",
       "    </tr>\n",
       "    <tr>\n",
       "      <th>290</th>\n",
       "      <td>50.001 a 100.000 habitantes</td>\n",
       "      <td>Otros municipios</td>\n",
       "      <td>Poco</td>\n",
       "      <td>De vez en cuando</td>\n",
       "      <td>Mala</td>\n",
       "      <td>Regular</td>\n",
       "      <td>El paro</td>\n",
       "      <td>Ninguno</td>\n",
       "      <td>Sí, con toda seguridad</td>\n",
       "      <td>Sí, lo tiene decidido</td>\n",
       "      <td>...</td>\n",
       "      <td>6</td>\n",
       "      <td>3</td>\n",
       "      <td>3</td>\n",
       "      <td>8</td>\n",
       "      <td>Mujer</td>\n",
       "      <td>36.0</td>\n",
       "      <td>Sí, ha ido a la escuela</td>\n",
       "      <td>Bachillerato/COU/PREU (Bachillerato Superior, ...</td>\n",
       "      <td>Trabaja</td>\n",
       "      <td>Indiferente, no creyente</td>\n",
       "    </tr>\n",
       "    <tr>\n",
       "      <th>291</th>\n",
       "      <td>400.001 a 1.000.000 habitantes</td>\n",
       "      <td>Capital de provincia</td>\n",
       "      <td>Bastante</td>\n",
       "      <td>De vez en cuando</td>\n",
       "      <td>Mala</td>\n",
       "      <td>Muy mala</td>\n",
       "      <td>Los problemas de índole económica</td>\n",
       "      <td>Los problemas relacionados con la calidad del ...</td>\n",
       "      <td>Sí, con toda seguridad</td>\n",
       "      <td>Sí, lo tiene decidido</td>\n",
       "      <td>...</td>\n",
       "      <td>5</td>\n",
       "      <td>1</td>\n",
       "      <td>2</td>\n",
       "      <td>8</td>\n",
       "      <td>Hombre</td>\n",
       "      <td>50.0</td>\n",
       "      <td>Sí, ha ido a la escuela</td>\n",
       "      <td>Secundaria (Bachillerato Elemental, EGB comple...</td>\n",
       "      <td>Trabaja</td>\n",
       "      <td>Ateo/a</td>\n",
       "    </tr>\n",
       "    <tr>\n",
       "      <th>292</th>\n",
       "      <td>2.001 a 10.000 habitantes</td>\n",
       "      <td>Otros municipios</td>\n",
       "      <td>Poco</td>\n",
       "      <td>De vez en cuando</td>\n",
       "      <td>Muy mala</td>\n",
       "      <td>Mala</td>\n",
       "      <td>La corrupción y el fraude</td>\n",
       "      <td>Los problemas de índole económica</td>\n",
       "      <td>Sí, con toda seguridad</td>\n",
       "      <td>Sí, lo tiene decidido</td>\n",
       "      <td>...</td>\n",
       "      <td>6</td>\n",
       "      <td>2</td>\n",
       "      <td>2</td>\n",
       "      <td>10</td>\n",
       "      <td>Hombre</td>\n",
       "      <td>31.0</td>\n",
       "      <td>Sí, ha ido a la escuela</td>\n",
       "      <td>Universitarios medios (diplomatura, Arquitectu...</td>\n",
       "      <td>Trabaja</td>\n",
       "      <td>Indiferente, no creyente</td>\n",
       "    </tr>\n",
       "    <tr>\n",
       "      <th>293</th>\n",
       "      <td>10.001 a 50.000 habitantes</td>\n",
       "      <td>Otros municipios</td>\n",
       "      <td>Nada</td>\n",
       "      <td>Rara vez</td>\n",
       "      <td>Mala</td>\n",
       "      <td>Regular</td>\n",
       "      <td>La corrupción y el fraude</td>\n",
       "      <td>Los problemas relacionados con la juventud</td>\n",
       "      <td>No, con toda seguridad</td>\n",
       "      <td>NaN</td>\n",
       "      <td>...</td>\n",
       "      <td>6</td>\n",
       "      <td>3</td>\n",
       "      <td>3</td>\n",
       "      <td>9</td>\n",
       "      <td>Hombre</td>\n",
       "      <td>67.0</td>\n",
       "      <td>Sí, ha ido a la escuela</td>\n",
       "      <td>Secundaria (Bachillerato Elemental, EGB comple...</td>\n",
       "      <td>Jubilado/a o pensionista (anteriormente ha tra...</td>\n",
       "      <td>Católico/a no practicante</td>\n",
       "    </tr>\n",
       "  </tbody>\n",
       "</table>\n",
       "<p>294 rows × 42 columns</p>\n",
       "</div>"
      ],
      "text/plain": [
       "                             TAMUNI               CAPITAL        P1  \\\n",
       "0       50.001 a 100.000 habitantes      Otros municipios      Poco   \n",
       "1    400.001 a 1.000.000 habitantes  Capital de provincia  Bastante   \n",
       "2        10.001 a 50.000 habitantes      Otros municipios      Poco   \n",
       "3    400.001 a 1.000.000 habitantes  Capital de provincia  Bastante   \n",
       "4      100.001 a 400.000 habitantes      Otros municipios  Bastante   \n",
       "..                              ...                   ...       ...   \n",
       "289  400.001 a 1.000.000 habitantes  Capital de provincia      Poco   \n",
       "290     50.001 a 100.000 habitantes      Otros municipios      Poco   \n",
       "291  400.001 a 1.000.000 habitantes  Capital de provincia  Bastante   \n",
       "292       2.001 a 10.000 habitantes      Otros municipios      Poco   \n",
       "293      10.001 a 50.000 habitantes      Otros municipios      Nada   \n",
       "\n",
       "                   P2        P3        P4                               P601  \\\n",
       "0            Rara vez      Mala      Mala          La corrupción y el fraude   \n",
       "1       Habitualmente      Mala   Regular                            El paro   \n",
       "2    De vez en cuando      Mala   Regular                            El paro   \n",
       "3       Habitualmente  Muy mala  Muy mala                            El paro   \n",
       "4    De vez en cuando      Mala      Mala                            El paro   \n",
       "..                ...       ...       ...                                ...   \n",
       "289          Rara vez  Muy mala  Muy mala                            El paro   \n",
       "290  De vez en cuando      Mala   Regular                            El paro   \n",
       "291  De vez en cuando      Mala  Muy mala  Los problemas de índole económica   \n",
       "292  De vez en cuando  Muy mala      Mala          La corrupción y el fraude   \n",
       "293          Rara vez      Mala   Regular          La corrupción y el fraude   \n",
       "\n",
       "                                                  P701  \\\n",
       "0                                        Las pensiones   \n",
       "1                                              El paro   \n",
       "2                                              Ninguno   \n",
       "3                                              El paro   \n",
       "4                                                 N.S.   \n",
       "..                                                 ...   \n",
       "289                                      Las pensiones   \n",
       "290                                            Ninguno   \n",
       "291  Los problemas relacionados con la calidad del ...   \n",
       "292                  Los problemas de índole económica   \n",
       "293         Los problemas relacionados con la juventud   \n",
       "\n",
       "                         P8                        P8A  ...  P1903  P1904  \\\n",
       "0          Probablemente sí      Sí, lo tiene decidido  ...      6      1   \n",
       "1    Sí, con toda seguridad      Sí, lo tiene decidido  ...      6      3   \n",
       "2          Probablemente sí  No, no lo ha decidido aún  ...      5      5   \n",
       "3    Sí, con toda seguridad      Sí, lo tiene decidido  ...      4      2   \n",
       "4    Sí, con toda seguridad      Sí, lo tiene decidido  ...      6      2   \n",
       "..                      ...                        ...  ...    ...    ...   \n",
       "289  Sí, con toda seguridad      Sí, lo tiene decidido  ...      7      3   \n",
       "290  Sí, con toda seguridad      Sí, lo tiene decidido  ...      6      3   \n",
       "291  Sí, con toda seguridad      Sí, lo tiene decidido  ...      5      1   \n",
       "292  Sí, con toda seguridad      Sí, lo tiene decidido  ...      6      2   \n",
       "293  No, con toda seguridad                        NaN  ...      6      3   \n",
       "\n",
       "     P1905  P1906     P23   P24                            P25  \\\n",
       "0        1      5   Mujer  72.0        Sí, ha ido a la escuela   \n",
       "1        4      9  Hombre  63.0        Sí, ha ido a la escuela   \n",
       "2        5      5   Mujer  64.0        Sí, ha ido a la escuela   \n",
       "3        3      9   Mujer  54.0        Sí, ha ido a la escuela   \n",
       "4        2     10  Hombre  48.0        Sí, ha ido a la escuela   \n",
       "..     ...    ...     ...   ...                            ...   \n",
       "289      3     10   Mujer  75.0  No, pero sabe leer y escribir   \n",
       "290      3      8   Mujer  36.0        Sí, ha ido a la escuela   \n",
       "291      2      8  Hombre  50.0        Sí, ha ido a la escuela   \n",
       "292      2     10  Hombre  31.0        Sí, ha ido a la escuela   \n",
       "293      3      9  Hombre  67.0        Sí, ha ido a la escuela   \n",
       "\n",
       "                                                  P25A  \\\n",
       "0    Secundaria (Bachillerato Elemental, EGB comple...   \n",
       "1    Universitarios medios (diplomatura, Arquitectu...   \n",
       "2    Secundaria (Bachillerato Elemental, EGB comple...   \n",
       "3    Secundaria (Bachillerato Elemental, EGB comple...   \n",
       "4    Secundaria (Bachillerato Elemental, EGB comple...   \n",
       "..                                                 ...   \n",
       "289                                                NaN   \n",
       "290  Bachillerato/COU/PREU (Bachillerato Superior, ...   \n",
       "291  Secundaria (Bachillerato Elemental, EGB comple...   \n",
       "292  Universitarios medios (diplomatura, Arquitectu...   \n",
       "293  Secundaria (Bachillerato Elemental, EGB comple...   \n",
       "\n",
       "                                                   P26  \\\n",
       "0    Jubilado/a o pensionista (anteriormente ha tra...   \n",
       "1    Jubilado/a o pensionista (anteriormente ha tra...   \n",
       "2                      Trabajo doméstico no remunerado   \n",
       "3                        Parado/a y ha trabajado antes   \n",
       "4                                              Trabaja   \n",
       "..                                                 ...   \n",
       "289                    Trabajo doméstico no remunerado   \n",
       "290                                            Trabaja   \n",
       "291                                            Trabaja   \n",
       "292                                            Trabaja   \n",
       "293  Jubilado/a o pensionista (anteriormente ha tra...   \n",
       "\n",
       "                           P27  \n",
       "0    Católico/a no practicante  \n",
       "1    Católico/a no practicante  \n",
       "2    Católico/a no practicante  \n",
       "3    Católico/a no practicante  \n",
       "4    Católico/a no practicante  \n",
       "..                         ...  \n",
       "289  Católico/a no practicante  \n",
       "290   Indiferente, no creyente  \n",
       "291                     Ateo/a  \n",
       "292   Indiferente, no creyente  \n",
       "293  Católico/a no practicante  \n",
       "\n",
       "[294 rows x 42 columns]"
      ]
     },
     "execution_count": 90,
     "metadata": {},
     "output_type": "execute_result"
    }
   ],
   "source": [
    "df_train"
   ]
  },
  {
   "cell_type": "code",
   "execution_count": null,
   "metadata": {
    "id": "-kNqLjTOsMz9"
   },
   "outputs": [],
   "source": []
  },
  {
   "cell_type": "markdown",
   "metadata": {
    "id": "X_OoIvTUe90F"
   },
   "source": [
    "El primer paso que damos es el rellenar los nan en aquellas columnas que ya son numéricas. Lo hacemos tomando la media de la columna. Son pocos registros a los que se aplica, como hemos visto antes."
   ]
  },
  {
   "cell_type": "code",
   "execution_count": 91,
   "metadata": {
    "executionInfo": {
     "elapsed": 241,
     "status": "ok",
     "timestamp": 1630929942830,
     "user": {
      "displayName": "Guillermo Barrio",
      "photoUrl": "",
      "userId": "06925154007558381895"
     },
     "user_tz": -120
    },
    "id": "OldU5H39sMw-"
   },
   "outputs": [],
   "source": [
    "FillNA_num_mean = ['P9A', 'P13', 'P14', 'P15', 'P17A', 'P1201', 'P1202', 'P1203', 'P1204', 'P1205', 'P1206', 'P1001', 'P1002', 'P1003', 'P1004', 'P1005', 'P1006',\n",
    "                   'P1901', 'P1902', 'P1903', 'P1904', 'P1905', 'P1906']"
   ]
  },
  {
   "cell_type": "code",
   "execution_count": 92,
   "metadata": {
    "executionInfo": {
     "elapsed": 421,
     "status": "ok",
     "timestamp": 1630929945390,
     "user": {
      "displayName": "Guillermo Barrio",
      "photoUrl": "",
      "userId": "06925154007558381895"
     },
     "user_tz": -120
    },
    "id": "jjfC-3UasMuD"
   },
   "outputs": [],
   "source": [
    "for item in FillNA_num_mean:\n",
    "        \n",
    "    df_train[item].fillna(df_train[item].mean(), inplace=True)"
   ]
  },
  {
   "cell_type": "code",
   "execution_count": null,
   "metadata": {
    "id": "zCNpjNyEsMq7"
   },
   "outputs": [],
   "source": []
  },
  {
   "cell_type": "code",
   "execution_count": 93,
   "metadata": {
    "colab": {
     "base_uri": "https://localhost:8080/",
     "height": 317
    },
    "executionInfo": {
     "elapsed": 271,
     "status": "ok",
     "timestamp": 1630929967893,
     "user": {
      "displayName": "Guillermo Barrio",
      "photoUrl": "",
      "userId": "06925154007558381895"
     },
     "user_tz": -120
    },
    "id": "Zyx_O6K9riTb",
    "outputId": "11b5f1d7-539e-443c-8ef5-ab0db6ff227a"
   },
   "outputs": [
    {
     "data": {
      "text/html": [
       "<div>\n",
       "<style scoped>\n",
       "    .dataframe tbody tr th:only-of-type {\n",
       "        vertical-align: middle;\n",
       "    }\n",
       "\n",
       "    .dataframe tbody tr th {\n",
       "        vertical-align: top;\n",
       "    }\n",
       "\n",
       "    .dataframe thead th {\n",
       "        text-align: right;\n",
       "    }\n",
       "</style>\n",
       "<table border=\"1\" class=\"dataframe\">\n",
       "  <thead>\n",
       "    <tr style=\"text-align: right;\">\n",
       "      <th></th>\n",
       "      <th>P9</th>\n",
       "      <th>P9A</th>\n",
       "      <th>P1001</th>\n",
       "      <th>P1002</th>\n",
       "      <th>P1003</th>\n",
       "      <th>P1004</th>\n",
       "      <th>P1005</th>\n",
       "      <th>P1006</th>\n",
       "      <th>P11</th>\n",
       "      <th>P1201</th>\n",
       "      <th>...</th>\n",
       "      <th>P15</th>\n",
       "      <th>P17A</th>\n",
       "      <th>P18</th>\n",
       "      <th>P1901</th>\n",
       "      <th>P1902</th>\n",
       "      <th>P1903</th>\n",
       "      <th>P1904</th>\n",
       "      <th>P1905</th>\n",
       "      <th>P1906</th>\n",
       "      <th>P24</th>\n",
       "    </tr>\n",
       "  </thead>\n",
       "  <tbody>\n",
       "    <tr>\n",
       "      <th>count</th>\n",
       "      <td>294.000000</td>\n",
       "      <td>294.000000</td>\n",
       "      <td>294.000000</td>\n",
       "      <td>294.000000</td>\n",
       "      <td>294.000000</td>\n",
       "      <td>294.000000</td>\n",
       "      <td>294.000000</td>\n",
       "      <td>294.000000</td>\n",
       "      <td>294.000000</td>\n",
       "      <td>294.000000</td>\n",
       "      <td>...</td>\n",
       "      <td>294.000000</td>\n",
       "      <td>294.000000</td>\n",
       "      <td>294.000000</td>\n",
       "      <td>294.000000</td>\n",
       "      <td>294.000000</td>\n",
       "      <td>294.000000</td>\n",
       "      <td>294.000000</td>\n",
       "      <td>294.000000</td>\n",
       "      <td>294.000000</td>\n",
       "      <td>294.000000</td>\n",
       "    </tr>\n",
       "    <tr>\n",
       "      <th>mean</th>\n",
       "      <td>44.948980</td>\n",
       "      <td>48.584906</td>\n",
       "      <td>4.394558</td>\n",
       "      <td>3.248299</td>\n",
       "      <td>3.465986</td>\n",
       "      <td>2.571429</td>\n",
       "      <td>3.152416</td>\n",
       "      <td>2.569930</td>\n",
       "      <td>7.687075</td>\n",
       "      <td>3.697279</td>\n",
       "      <td>...</td>\n",
       "      <td>43.647260</td>\n",
       "      <td>41.898734</td>\n",
       "      <td>4.598639</td>\n",
       "      <td>3.588435</td>\n",
       "      <td>7.482993</td>\n",
       "      <td>6.044218</td>\n",
       "      <td>2.302721</td>\n",
       "      <td>2.360544</td>\n",
       "      <td>8.731293</td>\n",
       "      <td>49.462585</td>\n",
       "    </tr>\n",
       "    <tr>\n",
       "      <th>std</th>\n",
       "      <td>26.581335</td>\n",
       "      <td>5.774153</td>\n",
       "      <td>2.602330</td>\n",
       "      <td>2.183458</td>\n",
       "      <td>2.286001</td>\n",
       "      <td>2.103142</td>\n",
       "      <td>2.315367</td>\n",
       "      <td>2.496483</td>\n",
       "      <td>3.719339</td>\n",
       "      <td>4.191678</td>\n",
       "      <td>...</td>\n",
       "      <td>25.800539</td>\n",
       "      <td>25.671565</td>\n",
       "      <td>1.880962</td>\n",
       "      <td>1.079123</td>\n",
       "      <td>1.116759</td>\n",
       "      <td>1.058728</td>\n",
       "      <td>1.282672</td>\n",
       "      <td>1.292908</td>\n",
       "      <td>1.620867</td>\n",
       "      <td>17.322980</td>\n",
       "    </tr>\n",
       "    <tr>\n",
       "      <th>min</th>\n",
       "      <td>0.000000</td>\n",
       "      <td>0.000000</td>\n",
       "      <td>1.000000</td>\n",
       "      <td>1.000000</td>\n",
       "      <td>1.000000</td>\n",
       "      <td>1.000000</td>\n",
       "      <td>1.000000</td>\n",
       "      <td>1.000000</td>\n",
       "      <td>0.000000</td>\n",
       "      <td>0.000000</td>\n",
       "      <td>...</td>\n",
       "      <td>0.000000</td>\n",
       "      <td>0.000000</td>\n",
       "      <td>1.000000</td>\n",
       "      <td>1.000000</td>\n",
       "      <td>5.000000</td>\n",
       "      <td>4.000000</td>\n",
       "      <td>1.000000</td>\n",
       "      <td>1.000000</td>\n",
       "      <td>1.000000</td>\n",
       "      <td>18.000000</td>\n",
       "    </tr>\n",
       "    <tr>\n",
       "      <th>25%</th>\n",
       "      <td>30.000000</td>\n",
       "      <td>48.584906</td>\n",
       "      <td>2.000000</td>\n",
       "      <td>1.000000</td>\n",
       "      <td>1.000000</td>\n",
       "      <td>1.000000</td>\n",
       "      <td>1.000000</td>\n",
       "      <td>1.000000</td>\n",
       "      <td>7.000000</td>\n",
       "      <td>0.000000</td>\n",
       "      <td>...</td>\n",
       "      <td>30.000000</td>\n",
       "      <td>30.000000</td>\n",
       "      <td>3.000000</td>\n",
       "      <td>3.000000</td>\n",
       "      <td>7.000000</td>\n",
       "      <td>5.000000</td>\n",
       "      <td>1.000000</td>\n",
       "      <td>1.000000</td>\n",
       "      <td>8.000000</td>\n",
       "      <td>35.250000</td>\n",
       "    </tr>\n",
       "    <tr>\n",
       "      <th>50%</th>\n",
       "      <td>50.000000</td>\n",
       "      <td>48.584906</td>\n",
       "      <td>4.000000</td>\n",
       "      <td>3.000000</td>\n",
       "      <td>3.000000</td>\n",
       "      <td>1.000000</td>\n",
       "      <td>3.000000</td>\n",
       "      <td>1.000000</td>\n",
       "      <td>10.000000</td>\n",
       "      <td>1.000000</td>\n",
       "      <td>...</td>\n",
       "      <td>43.647260</td>\n",
       "      <td>41.898734</td>\n",
       "      <td>4.000000</td>\n",
       "      <td>4.000000</td>\n",
       "      <td>8.000000</td>\n",
       "      <td>6.000000</td>\n",
       "      <td>2.000000</td>\n",
       "      <td>2.000000</td>\n",
       "      <td>9.000000</td>\n",
       "      <td>48.000000</td>\n",
       "    </tr>\n",
       "    <tr>\n",
       "      <th>75%</th>\n",
       "      <td>60.000000</td>\n",
       "      <td>48.584906</td>\n",
       "      <td>6.000000</td>\n",
       "      <td>5.000000</td>\n",
       "      <td>5.000000</td>\n",
       "      <td>4.000000</td>\n",
       "      <td>5.000000</td>\n",
       "      <td>4.000000</td>\n",
       "      <td>10.000000</td>\n",
       "      <td>8.000000</td>\n",
       "      <td>...</td>\n",
       "      <td>60.000000</td>\n",
       "      <td>60.000000</td>\n",
       "      <td>6.000000</td>\n",
       "      <td>4.000000</td>\n",
       "      <td>8.000000</td>\n",
       "      <td>7.000000</td>\n",
       "      <td>3.000000</td>\n",
       "      <td>3.000000</td>\n",
       "      <td>10.000000</td>\n",
       "      <td>63.000000</td>\n",
       "    </tr>\n",
       "    <tr>\n",
       "      <th>max</th>\n",
       "      <td>100.000000</td>\n",
       "      <td>100.000000</td>\n",
       "      <td>10.000000</td>\n",
       "      <td>10.000000</td>\n",
       "      <td>10.000000</td>\n",
       "      <td>10.000000</td>\n",
       "      <td>10.000000</td>\n",
       "      <td>10.000000</td>\n",
       "      <td>10.000000</td>\n",
       "      <td>10.000000</td>\n",
       "      <td>...</td>\n",
       "      <td>100.000000</td>\n",
       "      <td>100.000000</td>\n",
       "      <td>10.000000</td>\n",
       "      <td>6.000000</td>\n",
       "      <td>10.000000</td>\n",
       "      <td>10.000000</td>\n",
       "      <td>5.000000</td>\n",
       "      <td>8.000000</td>\n",
       "      <td>10.000000</td>\n",
       "      <td>88.000000</td>\n",
       "    </tr>\n",
       "  </tbody>\n",
       "</table>\n",
       "<p>8 rows × 27 columns</p>\n",
       "</div>"
      ],
      "text/plain": [
       "               P9         P9A       P1001       P1002       P1003       P1004  \\\n",
       "count  294.000000  294.000000  294.000000  294.000000  294.000000  294.000000   \n",
       "mean    44.948980   48.584906    4.394558    3.248299    3.465986    2.571429   \n",
       "std     26.581335    5.774153    2.602330    2.183458    2.286001    2.103142   \n",
       "min      0.000000    0.000000    1.000000    1.000000    1.000000    1.000000   \n",
       "25%     30.000000   48.584906    2.000000    1.000000    1.000000    1.000000   \n",
       "50%     50.000000   48.584906    4.000000    3.000000    3.000000    1.000000   \n",
       "75%     60.000000   48.584906    6.000000    5.000000    5.000000    4.000000   \n",
       "max    100.000000  100.000000   10.000000   10.000000   10.000000   10.000000   \n",
       "\n",
       "            P1005       P1006         P11       P1201  ...         P15  \\\n",
       "count  294.000000  294.000000  294.000000  294.000000  ...  294.000000   \n",
       "mean     3.152416    2.569930    7.687075    3.697279  ...   43.647260   \n",
       "std      2.315367    2.496483    3.719339    4.191678  ...   25.800539   \n",
       "min      1.000000    1.000000    0.000000    0.000000  ...    0.000000   \n",
       "25%      1.000000    1.000000    7.000000    0.000000  ...   30.000000   \n",
       "50%      3.000000    1.000000   10.000000    1.000000  ...   43.647260   \n",
       "75%      5.000000    4.000000   10.000000    8.000000  ...   60.000000   \n",
       "max     10.000000   10.000000   10.000000   10.000000  ...  100.000000   \n",
       "\n",
       "             P17A         P18       P1901       P1902       P1903       P1904  \\\n",
       "count  294.000000  294.000000  294.000000  294.000000  294.000000  294.000000   \n",
       "mean    41.898734    4.598639    3.588435    7.482993    6.044218    2.302721   \n",
       "std     25.671565    1.880962    1.079123    1.116759    1.058728    1.282672   \n",
       "min      0.000000    1.000000    1.000000    5.000000    4.000000    1.000000   \n",
       "25%     30.000000    3.000000    3.000000    7.000000    5.000000    1.000000   \n",
       "50%     41.898734    4.000000    4.000000    8.000000    6.000000    2.000000   \n",
       "75%     60.000000    6.000000    4.000000    8.000000    7.000000    3.000000   \n",
       "max    100.000000   10.000000    6.000000   10.000000   10.000000    5.000000   \n",
       "\n",
       "            P1905       P1906         P24  \n",
       "count  294.000000  294.000000  294.000000  \n",
       "mean     2.360544    8.731293   49.462585  \n",
       "std      1.292908    1.620867   17.322980  \n",
       "min      1.000000    1.000000   18.000000  \n",
       "25%      1.000000    8.000000   35.250000  \n",
       "50%      2.000000    9.000000   48.000000  \n",
       "75%      3.000000   10.000000   63.000000  \n",
       "max      8.000000   10.000000   88.000000  \n",
       "\n",
       "[8 rows x 27 columns]"
      ]
     },
     "execution_count": 93,
     "metadata": {},
     "output_type": "execute_result"
    }
   ],
   "source": [
    "df_train.describe()"
   ]
  },
  {
   "cell_type": "code",
   "execution_count": null,
   "metadata": {
    "id": "JkXrEnQqriOD"
   },
   "outputs": [],
   "source": []
  },
  {
   "cell_type": "markdown",
   "metadata": {
    "id": "EJyKbgowfOyE"
   },
   "source": [
    "Llega la hora de hacer el mapeo con means, y este es donde desde luego hay que haber separado train y test. Tomamos por supuesto las variables categóricas. Guardamos el mapeo a llevar a cabo en el test. Preferimos aplicar un cambio de tipo a object."
   ]
  },
  {
   "cell_type": "code",
   "execution_count": 94,
   "metadata": {
    "executionInfo": {
     "elapsed": 278,
     "status": "ok",
     "timestamp": 1630929975647,
     "user": {
      "displayName": "Guillermo Barrio",
      "photoUrl": "",
      "userId": "06925154007558381895"
     },
     "user_tz": -120
    },
    "id": "JaZh73f_riFJ"
   },
   "outputs": [],
   "source": [
    "categorical = ['TAMUNI', 'CAPITAL', 'P1', 'P2', 'P3', 'P4', 'P601', 'P701', 'P8', 'P8A', 'P23', 'P24', 'P25', 'P25A', 'P26', 'P27']"
   ]
  },
  {
   "cell_type": "code",
   "execution_count": null,
   "metadata": {
    "id": "wDkTNnjjzGp2"
   },
   "outputs": [],
   "source": []
  },
  {
   "cell_type": "code",
   "execution_count": 95,
   "metadata": {
    "executionInfo": {
     "elapsed": 2,
     "status": "ok",
     "timestamp": 1630929978612,
     "user": {
      "displayName": "Guillermo Barrio",
      "photoUrl": "",
      "userId": "06925154007558381895"
     },
     "user_tz": -120
    },
    "id": "B74TamJGutqS"
   },
   "outputs": [],
   "source": [
    "mean_map1 = {}\n",
    "for c in categorical:\n",
    "    \n",
    "    # df_filtered[c].fillna(df_filtered[c].mode()[0], inplace=True)\n",
    "    \n",
    "    mean = df_train.groupby(c)['P9'].mean()\n",
    "    df_train[c] = df_train[c].astype('object').map(mean)    \n",
    "    mean_map1[c] = mean"
   ]
  },
  {
   "cell_type": "code",
   "execution_count": null,
   "metadata": {
    "id": "bmIqsKYPutm7"
   },
   "outputs": [],
   "source": []
  },
  {
   "cell_type": "markdown",
   "metadata": {
    "id": "2Yd9YJziflKA"
   },
   "source": [
    "Ya tenemos todas las columnas pasadas a valores numéricos."
   ]
  },
  {
   "cell_type": "code",
   "execution_count": 96,
   "metadata": {
    "colab": {
     "base_uri": "https://localhost:8080/"
    },
    "executionInfo": {
     "elapsed": 330,
     "status": "ok",
     "timestamp": 1630929982726,
     "user": {
      "displayName": "Guillermo Barrio",
      "photoUrl": "",
      "userId": "06925154007558381895"
     },
     "user_tz": -120
    },
    "id": "DD37BO5HutkE",
    "outputId": "afa27bb5-fc5b-471f-a947-18f7ef8b1d0b"
   },
   "outputs": [
    {
     "data": {
      "text/plain": [
       "TAMUNI     float64\n",
       "CAPITAL    float64\n",
       "P1         float64\n",
       "P2         float64\n",
       "P3         float64\n",
       "P4         float64\n",
       "P601       float64\n",
       "P701       float64\n",
       "P8         float64\n",
       "P8A        float64\n",
       "P9         float64\n",
       "P9A        float64\n",
       "P1001        int64\n",
       "P1002      float64\n",
       "P1003        int64\n",
       "P1004        int64\n",
       "P1005      float64\n",
       "P1006      float64\n",
       "P11          int64\n",
       "P1201        int64\n",
       "P1202        int64\n",
       "P1203        int64\n",
       "P1204        int64\n",
       "P1205        int64\n",
       "P1206        int64\n",
       "P13        float64\n",
       "P14          int64\n",
       "P15        float64\n",
       "P17A       float64\n",
       "P18          int64\n",
       "P1901        int64\n",
       "P1902        int64\n",
       "P1903        int64\n",
       "P1904        int64\n",
       "P1905        int64\n",
       "P1906        int64\n",
       "P23        float64\n",
       "P24        float64\n",
       "P25        float64\n",
       "P25A       float64\n",
       "P26        float64\n",
       "P27        float64\n",
       "dtype: object"
      ]
     },
     "execution_count": 96,
     "metadata": {},
     "output_type": "execute_result"
    }
   ],
   "source": [
    "df_train.dtypes"
   ]
  },
  {
   "cell_type": "code",
   "execution_count": null,
   "metadata": {
    "id": "xFhoVxhXuthN"
   },
   "outputs": [],
   "source": []
  },
  {
   "cell_type": "code",
   "execution_count": 97,
   "metadata": {
    "colab": {
     "base_uri": "https://localhost:8080/",
     "height": 317
    },
    "executionInfo": {
     "elapsed": 1322,
     "status": "ok",
     "timestamp": 1630929989778,
     "user": {
      "displayName": "Guillermo Barrio",
      "photoUrl": "",
      "userId": "06925154007558381895"
     },
     "user_tz": -120
    },
    "id": "eUi4be7OuteW",
    "outputId": "9e33658a-8548-4aaa-f75f-56d3b37fb2d5"
   },
   "outputs": [
    {
     "data": {
      "text/html": [
       "<div>\n",
       "<style scoped>\n",
       "    .dataframe tbody tr th:only-of-type {\n",
       "        vertical-align: middle;\n",
       "    }\n",
       "\n",
       "    .dataframe tbody tr th {\n",
       "        vertical-align: top;\n",
       "    }\n",
       "\n",
       "    .dataframe thead th {\n",
       "        text-align: right;\n",
       "    }\n",
       "</style>\n",
       "<table border=\"1\" class=\"dataframe\">\n",
       "  <thead>\n",
       "    <tr style=\"text-align: right;\">\n",
       "      <th></th>\n",
       "      <th>TAMUNI</th>\n",
       "      <th>CAPITAL</th>\n",
       "      <th>P1</th>\n",
       "      <th>P2</th>\n",
       "      <th>P3</th>\n",
       "      <th>P4</th>\n",
       "      <th>P601</th>\n",
       "      <th>P701</th>\n",
       "      <th>P8</th>\n",
       "      <th>P8A</th>\n",
       "      <th>...</th>\n",
       "      <th>P1903</th>\n",
       "      <th>P1904</th>\n",
       "      <th>P1905</th>\n",
       "      <th>P1906</th>\n",
       "      <th>P23</th>\n",
       "      <th>P24</th>\n",
       "      <th>P25</th>\n",
       "      <th>P25A</th>\n",
       "      <th>P26</th>\n",
       "      <th>P27</th>\n",
       "    </tr>\n",
       "  </thead>\n",
       "  <tbody>\n",
       "    <tr>\n",
       "      <th>count</th>\n",
       "      <td>294.000000</td>\n",
       "      <td>294.000000</td>\n",
       "      <td>294.000000</td>\n",
       "      <td>294.000000</td>\n",
       "      <td>294.000000</td>\n",
       "      <td>294.000000</td>\n",
       "      <td>294.000000</td>\n",
       "      <td>294.000000</td>\n",
       "      <td>294.000000</td>\n",
       "      <td>237.000000</td>\n",
       "      <td>...</td>\n",
       "      <td>294.000000</td>\n",
       "      <td>294.000000</td>\n",
       "      <td>294.000000</td>\n",
       "      <td>294.000000</td>\n",
       "      <td>294.000000</td>\n",
       "      <td>294.000000</td>\n",
       "      <td>294.000000</td>\n",
       "      <td>271.000000</td>\n",
       "      <td>294.000000</td>\n",
       "      <td>294.000000</td>\n",
       "    </tr>\n",
       "    <tr>\n",
       "      <th>mean</th>\n",
       "      <td>44.948980</td>\n",
       "      <td>44.948980</td>\n",
       "      <td>44.948980</td>\n",
       "      <td>44.948980</td>\n",
       "      <td>44.948980</td>\n",
       "      <td>44.948980</td>\n",
       "      <td>44.948980</td>\n",
       "      <td>44.948980</td>\n",
       "      <td>44.948980</td>\n",
       "      <td>44.071730</td>\n",
       "      <td>...</td>\n",
       "      <td>6.044218</td>\n",
       "      <td>2.302721</td>\n",
       "      <td>2.360544</td>\n",
       "      <td>8.731293</td>\n",
       "      <td>44.948980</td>\n",
       "      <td>44.948980</td>\n",
       "      <td>44.948980</td>\n",
       "      <td>45.018450</td>\n",
       "      <td>44.948980</td>\n",
       "      <td>44.948980</td>\n",
       "    </tr>\n",
       "    <tr>\n",
       "      <th>std</th>\n",
       "      <td>6.025471</td>\n",
       "      <td>0.326457</td>\n",
       "      <td>3.084726</td>\n",
       "      <td>1.716649</td>\n",
       "      <td>5.105959</td>\n",
       "      <td>5.432160</td>\n",
       "      <td>9.126271</td>\n",
       "      <td>6.400276</td>\n",
       "      <td>2.714047</td>\n",
       "      <td>1.702924</td>\n",
       "      <td>...</td>\n",
       "      <td>1.058728</td>\n",
       "      <td>1.282672</td>\n",
       "      <td>1.292908</td>\n",
       "      <td>1.620867</td>\n",
       "      <td>0.222939</td>\n",
       "      <td>12.020751</td>\n",
       "      <td>0.885203</td>\n",
       "      <td>8.866721</td>\n",
       "      <td>5.286474</td>\n",
       "      <td>6.129807</td>\n",
       "    </tr>\n",
       "    <tr>\n",
       "      <th>min</th>\n",
       "      <td>29.705882</td>\n",
       "      <td>44.484536</td>\n",
       "      <td>35.600000</td>\n",
       "      <td>42.345679</td>\n",
       "      <td>23.750000</td>\n",
       "      <td>42.304688</td>\n",
       "      <td>17.500000</td>\n",
       "      <td>30.000000</td>\n",
       "      <td>39.218750</td>\n",
       "      <td>39.230769</td>\n",
       "      <td>...</td>\n",
       "      <td>4.000000</td>\n",
       "      <td>1.000000</td>\n",
       "      <td>1.000000</td>\n",
       "      <td>1.000000</td>\n",
       "      <td>44.720280</td>\n",
       "      <td>7.500000</td>\n",
       "      <td>37.500000</td>\n",
       "      <td>17.500000</td>\n",
       "      <td>25.000000</td>\n",
       "      <td>18.333333</td>\n",
       "    </tr>\n",
       "    <tr>\n",
       "      <th>25%</th>\n",
       "      <td>44.484536</td>\n",
       "      <td>44.484536</td>\n",
       "      <td>44.675325</td>\n",
       "      <td>42.345679</td>\n",
       "      <td>44.846939</td>\n",
       "      <td>42.304688</td>\n",
       "      <td>42.014925</td>\n",
       "      <td>43.409091</td>\n",
       "      <td>44.829268</td>\n",
       "      <td>44.668246</td>\n",
       "      <td>...</td>\n",
       "      <td>5.000000</td>\n",
       "      <td>1.000000</td>\n",
       "      <td>1.000000</td>\n",
       "      <td>8.000000</td>\n",
       "      <td>44.720280</td>\n",
       "      <td>38.000000</td>\n",
       "      <td>45.018450</td>\n",
       "      <td>43.385827</td>\n",
       "      <td>42.109375</td>\n",
       "      <td>42.793052</td>\n",
       "    </tr>\n",
       "    <tr>\n",
       "      <th>50%</th>\n",
       "      <td>47.600000</td>\n",
       "      <td>45.177665</td>\n",
       "      <td>45.529412</td>\n",
       "      <td>45.726496</td>\n",
       "      <td>44.846939</td>\n",
       "      <td>43.974359</td>\n",
       "      <td>42.014925</td>\n",
       "      <td>44.629630</td>\n",
       "      <td>44.829268</td>\n",
       "      <td>44.668246</td>\n",
       "      <td>...</td>\n",
       "      <td>6.000000</td>\n",
       "      <td>2.000000</td>\n",
       "      <td>2.000000</td>\n",
       "      <td>9.000000</td>\n",
       "      <td>45.165563</td>\n",
       "      <td>45.000000</td>\n",
       "      <td>45.018450</td>\n",
       "      <td>43.385827</td>\n",
       "      <td>42.735849</td>\n",
       "      <td>45.979899</td>\n",
       "    </tr>\n",
       "    <tr>\n",
       "      <th>75%</th>\n",
       "      <td>48.500000</td>\n",
       "      <td>45.177665</td>\n",
       "      <td>46.745283</td>\n",
       "      <td>45.726496</td>\n",
       "      <td>49.087302</td>\n",
       "      <td>44.347826</td>\n",
       "      <td>47.906977</td>\n",
       "      <td>45.379747</td>\n",
       "      <td>44.829268</td>\n",
       "      <td>44.668246</td>\n",
       "      <td>...</td>\n",
       "      <td>7.000000</td>\n",
       "      <td>3.000000</td>\n",
       "      <td>3.000000</td>\n",
       "      <td>10.000000</td>\n",
       "      <td>45.165563</td>\n",
       "      <td>53.125000</td>\n",
       "      <td>45.018450</td>\n",
       "      <td>49.629630</td>\n",
       "      <td>49.609929</td>\n",
       "      <td>45.979899</td>\n",
       "    </tr>\n",
       "    <tr>\n",
       "      <th>max</th>\n",
       "      <td>49.710145</td>\n",
       "      <td>45.177665</td>\n",
       "      <td>60.000000</td>\n",
       "      <td>47.187500</td>\n",
       "      <td>49.087302</td>\n",
       "      <td>100.000000</td>\n",
       "      <td>100.000000</td>\n",
       "      <td>100.000000</td>\n",
       "      <td>50.000000</td>\n",
       "      <td>44.668246</td>\n",
       "      <td>...</td>\n",
       "      <td>10.000000</td>\n",
       "      <td>5.000000</td>\n",
       "      <td>8.000000</td>\n",
       "      <td>10.000000</td>\n",
       "      <td>45.165563</td>\n",
       "      <td>76.666667</td>\n",
       "      <td>45.526316</td>\n",
       "      <td>65.625000</td>\n",
       "      <td>49.609929</td>\n",
       "      <td>59.523810</td>\n",
       "    </tr>\n",
       "  </tbody>\n",
       "</table>\n",
       "<p>8 rows × 42 columns</p>\n",
       "</div>"
      ],
      "text/plain": [
       "           TAMUNI     CAPITAL          P1          P2          P3          P4  \\\n",
       "count  294.000000  294.000000  294.000000  294.000000  294.000000  294.000000   \n",
       "mean    44.948980   44.948980   44.948980   44.948980   44.948980   44.948980   \n",
       "std      6.025471    0.326457    3.084726    1.716649    5.105959    5.432160   \n",
       "min     29.705882   44.484536   35.600000   42.345679   23.750000   42.304688   \n",
       "25%     44.484536   44.484536   44.675325   42.345679   44.846939   42.304688   \n",
       "50%     47.600000   45.177665   45.529412   45.726496   44.846939   43.974359   \n",
       "75%     48.500000   45.177665   46.745283   45.726496   49.087302   44.347826   \n",
       "max     49.710145   45.177665   60.000000   47.187500   49.087302  100.000000   \n",
       "\n",
       "             P601        P701          P8         P8A  ...       P1903  \\\n",
       "count  294.000000  294.000000  294.000000  237.000000  ...  294.000000   \n",
       "mean    44.948980   44.948980   44.948980   44.071730  ...    6.044218   \n",
       "std      9.126271    6.400276    2.714047    1.702924  ...    1.058728   \n",
       "min     17.500000   30.000000   39.218750   39.230769  ...    4.000000   \n",
       "25%     42.014925   43.409091   44.829268   44.668246  ...    5.000000   \n",
       "50%     42.014925   44.629630   44.829268   44.668246  ...    6.000000   \n",
       "75%     47.906977   45.379747   44.829268   44.668246  ...    7.000000   \n",
       "max    100.000000  100.000000   50.000000   44.668246  ...   10.000000   \n",
       "\n",
       "            P1904       P1905       P1906         P23         P24         P25  \\\n",
       "count  294.000000  294.000000  294.000000  294.000000  294.000000  294.000000   \n",
       "mean     2.302721    2.360544    8.731293   44.948980   44.948980   44.948980   \n",
       "std      1.282672    1.292908    1.620867    0.222939   12.020751    0.885203   \n",
       "min      1.000000    1.000000    1.000000   44.720280    7.500000   37.500000   \n",
       "25%      1.000000    1.000000    8.000000   44.720280   38.000000   45.018450   \n",
       "50%      2.000000    2.000000    9.000000   45.165563   45.000000   45.018450   \n",
       "75%      3.000000    3.000000   10.000000   45.165563   53.125000   45.018450   \n",
       "max      5.000000    8.000000   10.000000   45.165563   76.666667   45.526316   \n",
       "\n",
       "             P25A         P26         P27  \n",
       "count  271.000000  294.000000  294.000000  \n",
       "mean    45.018450   44.948980   44.948980  \n",
       "std      8.866721    5.286474    6.129807  \n",
       "min     17.500000   25.000000   18.333333  \n",
       "25%     43.385827   42.109375   42.793052  \n",
       "50%     43.385827   42.735849   45.979899  \n",
       "75%     49.629630   49.609929   45.979899  \n",
       "max     65.625000   49.609929   59.523810  \n",
       "\n",
       "[8 rows x 42 columns]"
      ]
     },
     "execution_count": 97,
     "metadata": {},
     "output_type": "execute_result"
    }
   ],
   "source": [
    "df_train.describe()"
   ]
  },
  {
   "cell_type": "code",
   "execution_count": null,
   "metadata": {
    "id": "ybm4Lof2utbZ"
   },
   "outputs": [],
   "source": []
  },
  {
   "cell_type": "markdown",
   "metadata": {
    "id": "eHdaW9psfr0o"
   },
   "source": [
    "Quedan por rellenar algunos valores de las columnas que acabamos de mapear, cosa que hacemos sin novedad."
   ]
  },
  {
   "cell_type": "code",
   "execution_count": 98,
   "metadata": {
    "executionInfo": {
     "elapsed": 388,
     "status": "ok",
     "timestamp": 1630929996988,
     "user": {
      "displayName": "Guillermo Barrio",
      "photoUrl": "",
      "userId": "06925154007558381895"
     },
     "user_tz": -120
    },
    "id": "8sID9YaRutX8"
   },
   "outputs": [],
   "source": [
    "for item in categorical:\n",
    "        \n",
    "    df_train[item].fillna(df_train[item].mean(), inplace=True)"
   ]
  },
  {
   "cell_type": "code",
   "execution_count": null,
   "metadata": {
    "id": "fht2ftjnutUF"
   },
   "outputs": [],
   "source": []
  },
  {
   "cell_type": "code",
   "execution_count": 99,
   "metadata": {
    "colab": {
     "base_uri": "https://localhost:8080/",
     "height": 317
    },
    "executionInfo": {
     "elapsed": 236,
     "status": "ok",
     "timestamp": 1630930000052,
     "user": {
      "displayName": "Guillermo Barrio",
      "photoUrl": "",
      "userId": "06925154007558381895"
     },
     "user_tz": -120
    },
    "id": "QB1k2St4utQ5",
    "outputId": "0c57bcda-5c33-4cd7-9cbb-e31e29496dec"
   },
   "outputs": [
    {
     "data": {
      "text/html": [
       "<div>\n",
       "<style scoped>\n",
       "    .dataframe tbody tr th:only-of-type {\n",
       "        vertical-align: middle;\n",
       "    }\n",
       "\n",
       "    .dataframe tbody tr th {\n",
       "        vertical-align: top;\n",
       "    }\n",
       "\n",
       "    .dataframe thead th {\n",
       "        text-align: right;\n",
       "    }\n",
       "</style>\n",
       "<table border=\"1\" class=\"dataframe\">\n",
       "  <thead>\n",
       "    <tr style=\"text-align: right;\">\n",
       "      <th></th>\n",
       "      <th>TAMUNI</th>\n",
       "      <th>CAPITAL</th>\n",
       "      <th>P1</th>\n",
       "      <th>P2</th>\n",
       "      <th>P3</th>\n",
       "      <th>P4</th>\n",
       "      <th>P601</th>\n",
       "      <th>P701</th>\n",
       "      <th>P8</th>\n",
       "      <th>P8A</th>\n",
       "      <th>...</th>\n",
       "      <th>P1903</th>\n",
       "      <th>P1904</th>\n",
       "      <th>P1905</th>\n",
       "      <th>P1906</th>\n",
       "      <th>P23</th>\n",
       "      <th>P24</th>\n",
       "      <th>P25</th>\n",
       "      <th>P25A</th>\n",
       "      <th>P26</th>\n",
       "      <th>P27</th>\n",
       "    </tr>\n",
       "  </thead>\n",
       "  <tbody>\n",
       "    <tr>\n",
       "      <th>count</th>\n",
       "      <td>294.000000</td>\n",
       "      <td>294.000000</td>\n",
       "      <td>294.000000</td>\n",
       "      <td>294.000000</td>\n",
       "      <td>294.000000</td>\n",
       "      <td>294.000000</td>\n",
       "      <td>294.000000</td>\n",
       "      <td>294.000000</td>\n",
       "      <td>294.000000</td>\n",
       "      <td>294.000000</td>\n",
       "      <td>...</td>\n",
       "      <td>294.000000</td>\n",
       "      <td>294.000000</td>\n",
       "      <td>294.000000</td>\n",
       "      <td>294.000000</td>\n",
       "      <td>294.000000</td>\n",
       "      <td>294.000000</td>\n",
       "      <td>294.000000</td>\n",
       "      <td>294.000000</td>\n",
       "      <td>294.000000</td>\n",
       "      <td>294.000000</td>\n",
       "    </tr>\n",
       "    <tr>\n",
       "      <th>mean</th>\n",
       "      <td>44.948980</td>\n",
       "      <td>44.948980</td>\n",
       "      <td>44.948980</td>\n",
       "      <td>44.948980</td>\n",
       "      <td>44.948980</td>\n",
       "      <td>44.948980</td>\n",
       "      <td>44.948980</td>\n",
       "      <td>44.948980</td>\n",
       "      <td>44.948980</td>\n",
       "      <td>44.071730</td>\n",
       "      <td>...</td>\n",
       "      <td>6.044218</td>\n",
       "      <td>2.302721</td>\n",
       "      <td>2.360544</td>\n",
       "      <td>8.731293</td>\n",
       "      <td>44.948980</td>\n",
       "      <td>44.948980</td>\n",
       "      <td>44.948980</td>\n",
       "      <td>45.018450</td>\n",
       "      <td>44.948980</td>\n",
       "      <td>44.948980</td>\n",
       "    </tr>\n",
       "    <tr>\n",
       "      <th>std</th>\n",
       "      <td>6.025471</td>\n",
       "      <td>0.326457</td>\n",
       "      <td>3.084726</td>\n",
       "      <td>1.716649</td>\n",
       "      <td>5.105959</td>\n",
       "      <td>5.432160</td>\n",
       "      <td>9.126271</td>\n",
       "      <td>6.400276</td>\n",
       "      <td>2.714047</td>\n",
       "      <td>1.528331</td>\n",
       "      <td>...</td>\n",
       "      <td>1.058728</td>\n",
       "      <td>1.282672</td>\n",
       "      <td>1.292908</td>\n",
       "      <td>1.620867</td>\n",
       "      <td>0.222939</td>\n",
       "      <td>12.020751</td>\n",
       "      <td>0.885203</td>\n",
       "      <td>8.511598</td>\n",
       "      <td>5.286474</td>\n",
       "      <td>6.129807</td>\n",
       "    </tr>\n",
       "    <tr>\n",
       "      <th>min</th>\n",
       "      <td>29.705882</td>\n",
       "      <td>44.484536</td>\n",
       "      <td>35.600000</td>\n",
       "      <td>42.345679</td>\n",
       "      <td>23.750000</td>\n",
       "      <td>42.304688</td>\n",
       "      <td>17.500000</td>\n",
       "      <td>30.000000</td>\n",
       "      <td>39.218750</td>\n",
       "      <td>39.230769</td>\n",
       "      <td>...</td>\n",
       "      <td>4.000000</td>\n",
       "      <td>1.000000</td>\n",
       "      <td>1.000000</td>\n",
       "      <td>1.000000</td>\n",
       "      <td>44.720280</td>\n",
       "      <td>7.500000</td>\n",
       "      <td>37.500000</td>\n",
       "      <td>17.500000</td>\n",
       "      <td>25.000000</td>\n",
       "      <td>18.333333</td>\n",
       "    </tr>\n",
       "    <tr>\n",
       "      <th>25%</th>\n",
       "      <td>44.484536</td>\n",
       "      <td>44.484536</td>\n",
       "      <td>44.675325</td>\n",
       "      <td>42.345679</td>\n",
       "      <td>44.846939</td>\n",
       "      <td>42.304688</td>\n",
       "      <td>42.014925</td>\n",
       "      <td>43.409091</td>\n",
       "      <td>44.829268</td>\n",
       "      <td>44.071730</td>\n",
       "      <td>...</td>\n",
       "      <td>5.000000</td>\n",
       "      <td>1.000000</td>\n",
       "      <td>1.000000</td>\n",
       "      <td>8.000000</td>\n",
       "      <td>44.720280</td>\n",
       "      <td>38.000000</td>\n",
       "      <td>45.018450</td>\n",
       "      <td>43.385827</td>\n",
       "      <td>42.109375</td>\n",
       "      <td>42.793052</td>\n",
       "    </tr>\n",
       "    <tr>\n",
       "      <th>50%</th>\n",
       "      <td>47.600000</td>\n",
       "      <td>45.177665</td>\n",
       "      <td>45.529412</td>\n",
       "      <td>45.726496</td>\n",
       "      <td>44.846939</td>\n",
       "      <td>43.974359</td>\n",
       "      <td>42.014925</td>\n",
       "      <td>44.629630</td>\n",
       "      <td>44.829268</td>\n",
       "      <td>44.668246</td>\n",
       "      <td>...</td>\n",
       "      <td>6.000000</td>\n",
       "      <td>2.000000</td>\n",
       "      <td>2.000000</td>\n",
       "      <td>9.000000</td>\n",
       "      <td>45.165563</td>\n",
       "      <td>45.000000</td>\n",
       "      <td>45.018450</td>\n",
       "      <td>43.385827</td>\n",
       "      <td>42.735849</td>\n",
       "      <td>45.979899</td>\n",
       "    </tr>\n",
       "    <tr>\n",
       "      <th>75%</th>\n",
       "      <td>48.500000</td>\n",
       "      <td>45.177665</td>\n",
       "      <td>46.745283</td>\n",
       "      <td>45.726496</td>\n",
       "      <td>49.087302</td>\n",
       "      <td>44.347826</td>\n",
       "      <td>47.906977</td>\n",
       "      <td>45.379747</td>\n",
       "      <td>44.829268</td>\n",
       "      <td>44.668246</td>\n",
       "      <td>...</td>\n",
       "      <td>7.000000</td>\n",
       "      <td>3.000000</td>\n",
       "      <td>3.000000</td>\n",
       "      <td>10.000000</td>\n",
       "      <td>45.165563</td>\n",
       "      <td>53.125000</td>\n",
       "      <td>45.018450</td>\n",
       "      <td>49.629630</td>\n",
       "      <td>49.609929</td>\n",
       "      <td>45.979899</td>\n",
       "    </tr>\n",
       "    <tr>\n",
       "      <th>max</th>\n",
       "      <td>49.710145</td>\n",
       "      <td>45.177665</td>\n",
       "      <td>60.000000</td>\n",
       "      <td>47.187500</td>\n",
       "      <td>49.087302</td>\n",
       "      <td>100.000000</td>\n",
       "      <td>100.000000</td>\n",
       "      <td>100.000000</td>\n",
       "      <td>50.000000</td>\n",
       "      <td>44.668246</td>\n",
       "      <td>...</td>\n",
       "      <td>10.000000</td>\n",
       "      <td>5.000000</td>\n",
       "      <td>8.000000</td>\n",
       "      <td>10.000000</td>\n",
       "      <td>45.165563</td>\n",
       "      <td>76.666667</td>\n",
       "      <td>45.526316</td>\n",
       "      <td>65.625000</td>\n",
       "      <td>49.609929</td>\n",
       "      <td>59.523810</td>\n",
       "    </tr>\n",
       "  </tbody>\n",
       "</table>\n",
       "<p>8 rows × 42 columns</p>\n",
       "</div>"
      ],
      "text/plain": [
       "           TAMUNI     CAPITAL          P1          P2          P3          P4  \\\n",
       "count  294.000000  294.000000  294.000000  294.000000  294.000000  294.000000   \n",
       "mean    44.948980   44.948980   44.948980   44.948980   44.948980   44.948980   \n",
       "std      6.025471    0.326457    3.084726    1.716649    5.105959    5.432160   \n",
       "min     29.705882   44.484536   35.600000   42.345679   23.750000   42.304688   \n",
       "25%     44.484536   44.484536   44.675325   42.345679   44.846939   42.304688   \n",
       "50%     47.600000   45.177665   45.529412   45.726496   44.846939   43.974359   \n",
       "75%     48.500000   45.177665   46.745283   45.726496   49.087302   44.347826   \n",
       "max     49.710145   45.177665   60.000000   47.187500   49.087302  100.000000   \n",
       "\n",
       "             P601        P701          P8         P8A  ...       P1903  \\\n",
       "count  294.000000  294.000000  294.000000  294.000000  ...  294.000000   \n",
       "mean    44.948980   44.948980   44.948980   44.071730  ...    6.044218   \n",
       "std      9.126271    6.400276    2.714047    1.528331  ...    1.058728   \n",
       "min     17.500000   30.000000   39.218750   39.230769  ...    4.000000   \n",
       "25%     42.014925   43.409091   44.829268   44.071730  ...    5.000000   \n",
       "50%     42.014925   44.629630   44.829268   44.668246  ...    6.000000   \n",
       "75%     47.906977   45.379747   44.829268   44.668246  ...    7.000000   \n",
       "max    100.000000  100.000000   50.000000   44.668246  ...   10.000000   \n",
       "\n",
       "            P1904       P1905       P1906         P23         P24         P25  \\\n",
       "count  294.000000  294.000000  294.000000  294.000000  294.000000  294.000000   \n",
       "mean     2.302721    2.360544    8.731293   44.948980   44.948980   44.948980   \n",
       "std      1.282672    1.292908    1.620867    0.222939   12.020751    0.885203   \n",
       "min      1.000000    1.000000    1.000000   44.720280    7.500000   37.500000   \n",
       "25%      1.000000    1.000000    8.000000   44.720280   38.000000   45.018450   \n",
       "50%      2.000000    2.000000    9.000000   45.165563   45.000000   45.018450   \n",
       "75%      3.000000    3.000000   10.000000   45.165563   53.125000   45.018450   \n",
       "max      5.000000    8.000000   10.000000   45.165563   76.666667   45.526316   \n",
       "\n",
       "             P25A         P26         P27  \n",
       "count  294.000000  294.000000  294.000000  \n",
       "mean    45.018450   44.948980   44.948980  \n",
       "std      8.511598    5.286474    6.129807  \n",
       "min     17.500000   25.000000   18.333333  \n",
       "25%     43.385827   42.109375   42.793052  \n",
       "50%     43.385827   42.735849   45.979899  \n",
       "75%     49.629630   49.609929   45.979899  \n",
       "max     65.625000   49.609929   59.523810  \n",
       "\n",
       "[8 rows x 42 columns]"
      ]
     },
     "execution_count": 99,
     "metadata": {},
     "output_type": "execute_result"
    }
   ],
   "source": [
    "df_train.describe()"
   ]
  },
  {
   "cell_type": "code",
   "execution_count": null,
   "metadata": {
    "id": "mzLhBWqZutOP"
   },
   "outputs": [],
   "source": []
  },
  {
   "cell_type": "markdown",
   "metadata": {
    "id": "w654tiIuf10x"
   },
   "source": [
    "Podemos ver qué columnas están correlacionadas entre sí. Vemos que las mayores correlaciones se dan en muchos casos con la objetivo, la P9, lo cual es positivo."
   ]
  },
  {
   "cell_type": "code",
   "execution_count": 100,
   "metadata": {
    "colab": {
     "base_uri": "https://localhost:8080/",
     "height": 639
    },
    "executionInfo": {
     "elapsed": 1208,
     "status": "ok",
     "timestamp": 1630930004296,
     "user": {
      "displayName": "Guillermo Barrio",
      "photoUrl": "",
      "userId": "06925154007558381895"
     },
     "user_tz": -120
    },
    "id": "B9dXvlFrutKi",
    "outputId": "6bdd5323-1148-4791-a16c-2d2c0878fddf"
   },
   "outputs": [
    {
     "data": {
      "text/plain": [
       "<matplotlib.axes._subplots.AxesSubplot at 0x16a44061430>"
      ]
     },
     "execution_count": 100,
     "metadata": {},
     "output_type": "execute_result"
    },
    {
     "data": {
      "image/png": "[encoded data removed]",
      "text/plain": [
       "<Figure size 864x720 with 2 Axes>"
      ]
     },
     "metadata": {
      "needs_background": "light"
     },
     "output_type": "display_data"
    }
   ],
   "source": [
    "import seaborn as sns\n",
    "\n",
    "# Compute the correlation matrix\n",
    "corr = np.abs(df_train).corr()\n",
    "\n",
    "# Generate a mask for the upper triangle\n",
    "mask = np.zeros_like(corr, dtype=np.bool)\n",
    "mask[np.triu_indices_from(mask)] = True\n",
    "\n",
    "# Set up the matplotlib figure\n",
    "f, ax = plt.subplots(figsize=(12, 10))\n",
    "\n",
    "# Draw the heatmap with the mask and correct aspect ratio\n",
    "sns.heatmap(corr, mask=mask,vmin = 0.0, vmax=1.0, center=0.5,\n",
    "            linewidths=.1, cmap=\"YlGnBu\", cbar_kws={\"shrink\": .8})"
   ]
  },
  {
   "cell_type": "code",
   "execution_count": null,
   "metadata": {
    "id": "1EK2YftHv2Ok"
   },
   "outputs": [],
   "source": []
  },
  {
   "cell_type": "markdown",
   "metadata": {
    "id": "IH6fEXwNgVxJ"
   },
   "source": [
    "Como estamos ante un problema de clasificación, debemos transformar la variable objetivo, si tiene carácter numérico, en entero."
   ]
  },
  {
   "cell_type": "code",
   "execution_count": 101,
   "metadata": {
    "executionInfo": {
     "elapsed": 238,
     "status": "ok",
     "timestamp": 1630930010306,
     "user": {
      "displayName": "Guillermo Barrio",
      "photoUrl": "",
      "userId": "06925154007558381895"
     },
     "user_tz": -120
    },
    "id": "Du3gzVwLwApF"
   },
   "outputs": [],
   "source": [
    "df_train['P9'] = df_train['P9'].astype('int64')"
   ]
  },
  {
   "cell_type": "markdown",
   "metadata": {
    "id": "J7IyXIz1hVOH"
   },
   "source": [
    "Definimos las matrices X e y del set de train, y con ello ya hemos terminado."
   ]
  },
  {
   "cell_type": "code",
   "execution_count": 102,
   "metadata": {
    "executionInfo": {
     "elapsed": 277,
     "status": "ok",
     "timestamp": 1630930013187,
     "user": {
      "displayName": "Guillermo Barrio",
      "photoUrl": "",
      "userId": "06925154007558381895"
     },
     "user_tz": -120
    },
    "id": "uqUemIBIwAmP"
   },
   "outputs": [],
   "source": [
    "y_train = df_train['P9'].values"
   ]
  },
  {
   "cell_type": "code",
   "execution_count": 103,
   "metadata": {
    "executionInfo": {
     "elapsed": 758,
     "status": "ok",
     "timestamp": 1630930016141,
     "user": {
      "displayName": "Guillermo Barrio",
      "photoUrl": "",
      "userId": "06925154007558381895"
     },
     "user_tz": -120
    },
    "id": "PzkHbYSWwAgv"
   },
   "outputs": [],
   "source": [
    "X_train = df_train.drop(['P9'], axis = 1).values"
   ]
  },
  {
   "cell_type": "code",
   "execution_count": 104,
   "metadata": {
    "colab": {
     "base_uri": "https://localhost:8080/"
    },
    "executionInfo": {
     "elapsed": 403,
     "status": "ok",
     "timestamp": 1630930018496,
     "user": {
      "displayName": "Guillermo Barrio",
      "photoUrl": "",
      "userId": "06925154007558381895"
     },
     "user_tz": -120
    },
    "id": "YQ35e7hwwAdp",
    "outputId": "b1b6fc6d-80a2-4699-adee-1aa79fecf4ac"
   },
   "outputs": [
    {
     "data": {
      "text/plain": [
       "(294,)"
      ]
     },
     "execution_count": 104,
     "metadata": {},
     "output_type": "execute_result"
    }
   ],
   "source": [
    "y_train.shape"
   ]
  },
  {
   "cell_type": "code",
   "execution_count": 105,
   "metadata": {
    "colab": {
     "base_uri": "https://localhost:8080/"
    },
    "executionInfo": {
     "elapsed": 8,
     "status": "ok",
     "timestamp": 1630930020975,
     "user": {
      "displayName": "Guillermo Barrio",
      "photoUrl": "",
      "userId": "06925154007558381895"
     },
     "user_tz": -120
    },
    "id": "RBp3w0LXwAYJ",
    "outputId": "83d63308-8437-49f1-b6c8-0a517ef124a9"
   },
   "outputs": [
    {
     "data": {
      "text/plain": [
       "(294, 41)"
      ]
     },
     "execution_count": 105,
     "metadata": {},
     "output_type": "execute_result"
    }
   ],
   "source": [
    "X_train.shape"
   ]
  },
  {
   "cell_type": "code",
   "execution_count": null,
   "metadata": {
    "id": "xMZgNPUjwAVL"
   },
   "outputs": [],
   "source": []
  },
  {
   "cell_type": "code",
   "execution_count": null,
   "metadata": {
    "id": "x4quSU3Lhfha"
   },
   "outputs": [],
   "source": []
  },
  {
   "cell_type": "markdown",
   "metadata": {
    "id": "Ai5CcaDfqUOv"
   },
   "source": [
    "##Set de Test"
   ]
  },
  {
   "cell_type": "markdown",
   "metadata": {
    "id": "6DNmo_3Mhf7d"
   },
   "source": [
    "Cargamos el set de test sin mayor novedad."
   ]
  },
  {
   "cell_type": "code",
   "execution_count": 106,
   "metadata": {
    "executionInfo": {
     "elapsed": 232,
     "status": "ok",
     "timestamp": 1630930029291,
     "user": {
      "displayName": "Guillermo Barrio",
      "photoUrl": "",
      "userId": "06925154007558381895"
     },
     "user_tz": -120
    },
    "id": "gzQ9ol7SwASZ"
   },
   "outputs": [],
   "source": [
    "df_test = pd.read_csv('test_cis_malaga_modelo.txt')"
   ]
  },
  {
   "cell_type": "code",
   "execution_count": 107,
   "metadata": {
    "colab": {
     "base_uri": "https://localhost:8080/",
     "height": 1000
    },
    "executionInfo": {
     "elapsed": 5,
     "status": "ok",
     "timestamp": 1630930031622,
     "user": {
      "displayName": "Guillermo Barrio",
      "photoUrl": "",
      "userId": "06925154007558381895"
     },
     "user_tz": -120
    },
    "id": "kP8iF--rwAPh",
    "outputId": "6330b807-1728-4634-ff44-18b424be9133"
   },
   "outputs": [
    {
     "data": {
      "text/html": [
       "<div>\n",
       "<style scoped>\n",
       "    .dataframe tbody tr th:only-of-type {\n",
       "        vertical-align: middle;\n",
       "    }\n",
       "\n",
       "    .dataframe tbody tr th {\n",
       "        vertical-align: top;\n",
       "    }\n",
       "\n",
       "    .dataframe thead th {\n",
       "        text-align: right;\n",
       "    }\n",
       "</style>\n",
       "<table border=\"1\" class=\"dataframe\">\n",
       "  <thead>\n",
       "    <tr style=\"text-align: right;\">\n",
       "      <th></th>\n",
       "      <th>TAMUNI</th>\n",
       "      <th>CAPITAL</th>\n",
       "      <th>P1</th>\n",
       "      <th>P2</th>\n",
       "      <th>P3</th>\n",
       "      <th>P4</th>\n",
       "      <th>P601</th>\n",
       "      <th>P701</th>\n",
       "      <th>P8</th>\n",
       "      <th>P8A</th>\n",
       "      <th>...</th>\n",
       "      <th>P1903</th>\n",
       "      <th>P1904</th>\n",
       "      <th>P1905</th>\n",
       "      <th>P1906</th>\n",
       "      <th>P23</th>\n",
       "      <th>P24</th>\n",
       "      <th>P25</th>\n",
       "      <th>P25A</th>\n",
       "      <th>P26</th>\n",
       "      <th>P27</th>\n",
       "    </tr>\n",
       "  </thead>\n",
       "  <tbody>\n",
       "    <tr>\n",
       "      <th>0</th>\n",
       "      <td>400.001 a 1.000.000 habitantes</td>\n",
       "      <td>Capital de provincia</td>\n",
       "      <td>Poco</td>\n",
       "      <td>Nunca o casi nunca</td>\n",
       "      <td>Muy mala</td>\n",
       "      <td>Mala</td>\n",
       "      <td>La falta de acuerdos. Situación política. Ines...</td>\n",
       "      <td>La educación</td>\n",
       "      <td>Sí, con toda seguridad</td>\n",
       "      <td>Sí, lo tiene decidido</td>\n",
       "      <td>...</td>\n",
       "      <td>8</td>\n",
       "      <td>3</td>\n",
       "      <td>3</td>\n",
       "      <td>10</td>\n",
       "      <td>Mujer</td>\n",
       "      <td>55.0</td>\n",
       "      <td>Sí, ha ido a la escuela</td>\n",
       "      <td>Bachillerato/COU/PREU (Bachillerato Superior, ...</td>\n",
       "      <td>Trabajo doméstico no remunerado</td>\n",
       "      <td>Católico/a no practicante</td>\n",
       "    </tr>\n",
       "    <tr>\n",
       "      <th>1</th>\n",
       "      <td>10.001 a 50.000 habitantes</td>\n",
       "      <td>Otros municipios</td>\n",
       "      <td>Nada</td>\n",
       "      <td>Rara vez</td>\n",
       "      <td>Muy mala</td>\n",
       "      <td>Mala</td>\n",
       "      <td>El paro</td>\n",
       "      <td>El paro</td>\n",
       "      <td>No, con toda seguridad</td>\n",
       "      <td>NaN</td>\n",
       "      <td>...</td>\n",
       "      <td>5</td>\n",
       "      <td>5</td>\n",
       "      <td>5</td>\n",
       "      <td>5</td>\n",
       "      <td>Mujer</td>\n",
       "      <td>53.0</td>\n",
       "      <td>Sí, ha ido a la escuela</td>\n",
       "      <td>Secundaria (Bachillerato Elemental, EGB comple...</td>\n",
       "      <td>Parado/a y ha trabajado antes</td>\n",
       "      <td>Indiferente, no creyente</td>\n",
       "    </tr>\n",
       "    <tr>\n",
       "      <th>2</th>\n",
       "      <td>2.001 a 10.000 habitantes</td>\n",
       "      <td>Otros municipios</td>\n",
       "      <td>Poco</td>\n",
       "      <td>De vez en cuando</td>\n",
       "      <td>Mala</td>\n",
       "      <td>Mala</td>\n",
       "      <td>El paro</td>\n",
       "      <td>El paro</td>\n",
       "      <td>Sí, con toda seguridad</td>\n",
       "      <td>Sí, lo tiene decidido</td>\n",
       "      <td>...</td>\n",
       "      <td>6</td>\n",
       "      <td>1</td>\n",
       "      <td>1</td>\n",
       "      <td>8</td>\n",
       "      <td>Hombre</td>\n",
       "      <td>59.0</td>\n",
       "      <td>Sí, ha ido a la escuela</td>\n",
       "      <td>Secundaria (Bachillerato Elemental, EGB comple...</td>\n",
       "      <td>Parado/a y ha trabajado antes</td>\n",
       "      <td>Católico/a no practicante</td>\n",
       "    </tr>\n",
       "    <tr>\n",
       "      <th>3</th>\n",
       "      <td>2.001 a 10.000 habitantes</td>\n",
       "      <td>Otros municipios</td>\n",
       "      <td>Nada</td>\n",
       "      <td>Rara vez</td>\n",
       "      <td>Mala</td>\n",
       "      <td>Muy mala</td>\n",
       "      <td>El paro</td>\n",
       "      <td>N.S.</td>\n",
       "      <td>Probablemente sí</td>\n",
       "      <td>No, no lo ha decidido aún</td>\n",
       "      <td>...</td>\n",
       "      <td>5</td>\n",
       "      <td>5</td>\n",
       "      <td>5</td>\n",
       "      <td>5</td>\n",
       "      <td>Mujer</td>\n",
       "      <td>45.0</td>\n",
       "      <td>Sí, ha ido a la escuela</td>\n",
       "      <td>Secundaria (Bachillerato Elemental, EGB comple...</td>\n",
       "      <td>Trabajo doméstico no remunerado</td>\n",
       "      <td>Católico/a no practicante</td>\n",
       "    </tr>\n",
       "    <tr>\n",
       "      <th>4</th>\n",
       "      <td>10.001 a 50.000 habitantes</td>\n",
       "      <td>Otros municipios</td>\n",
       "      <td>Bastante</td>\n",
       "      <td>De vez en cuando</td>\n",
       "      <td>Muy mala</td>\n",
       "      <td>Muy mala</td>\n",
       "      <td>El Gobierno y partidos o políticos/as concreto...</td>\n",
       "      <td>N.S.</td>\n",
       "      <td>Sí, con toda seguridad</td>\n",
       "      <td>Sí, lo tiene decidido</td>\n",
       "      <td>...</td>\n",
       "      <td>6</td>\n",
       "      <td>1</td>\n",
       "      <td>1</td>\n",
       "      <td>8</td>\n",
       "      <td>Mujer</td>\n",
       "      <td>53.0</td>\n",
       "      <td>Sí, ha ido a la escuela</td>\n",
       "      <td>Secundaria (Bachillerato Elemental, EGB comple...</td>\n",
       "      <td>Parado/a y ha trabajado antes</td>\n",
       "      <td>Católico/a no practicante</td>\n",
       "    </tr>\n",
       "    <tr>\n",
       "      <th>...</th>\n",
       "      <td>...</td>\n",
       "      <td>...</td>\n",
       "      <td>...</td>\n",
       "      <td>...</td>\n",
       "      <td>...</td>\n",
       "      <td>...</td>\n",
       "      <td>...</td>\n",
       "      <td>...</td>\n",
       "      <td>...</td>\n",
       "      <td>...</td>\n",
       "      <td>...</td>\n",
       "      <td>...</td>\n",
       "      <td>...</td>\n",
       "      <td>...</td>\n",
       "      <td>...</td>\n",
       "      <td>...</td>\n",
       "      <td>...</td>\n",
       "      <td>...</td>\n",
       "      <td>...</td>\n",
       "      <td>...</td>\n",
       "      <td>...</td>\n",
       "    </tr>\n",
       "    <tr>\n",
       "      <th>69</th>\n",
       "      <td>50.001 a 100.000 habitantes</td>\n",
       "      <td>Otros municipios</td>\n",
       "      <td>Poco</td>\n",
       "      <td>De vez en cuando</td>\n",
       "      <td>Mala</td>\n",
       "      <td>Mala</td>\n",
       "      <td>El paro</td>\n",
       "      <td>La falta de acuerdos. Situación política. Ines...</td>\n",
       "      <td>Sí, con toda seguridad</td>\n",
       "      <td>Sí, lo tiene decidido</td>\n",
       "      <td>...</td>\n",
       "      <td>6</td>\n",
       "      <td>2</td>\n",
       "      <td>2</td>\n",
       "      <td>9</td>\n",
       "      <td>Mujer</td>\n",
       "      <td>57.0</td>\n",
       "      <td>Sí, ha ido a la escuela</td>\n",
       "      <td>Formación Profesional de Grado Superior (FP II)</td>\n",
       "      <td>Trabaja</td>\n",
       "      <td>Católico/a no practicante</td>\n",
       "    </tr>\n",
       "    <tr>\n",
       "      <th>70</th>\n",
       "      <td>10.001 a 50.000 habitantes</td>\n",
       "      <td>Otros municipios</td>\n",
       "      <td>Poco</td>\n",
       "      <td>Rara vez</td>\n",
       "      <td>Muy mala</td>\n",
       "      <td>Mala</td>\n",
       "      <td>Los/as políticos/as en general, los partidos y...</td>\n",
       "      <td>N.S.</td>\n",
       "      <td>Sí, con toda seguridad</td>\n",
       "      <td>Sí, lo tiene decidido</td>\n",
       "      <td>...</td>\n",
       "      <td>6</td>\n",
       "      <td>2</td>\n",
       "      <td>2</td>\n",
       "      <td>10</td>\n",
       "      <td>Mujer</td>\n",
       "      <td>31.0</td>\n",
       "      <td>Sí, ha ido a la escuela</td>\n",
       "      <td>Secundaria (Bachillerato Elemental, EGB comple...</td>\n",
       "      <td>Trabaja</td>\n",
       "      <td>Católico/a no practicante</td>\n",
       "    </tr>\n",
       "    <tr>\n",
       "      <th>71</th>\n",
       "      <td>10.001 a 50.000 habitantes</td>\n",
       "      <td>Otros municipios</td>\n",
       "      <td>Poco</td>\n",
       "      <td>De vez en cuando</td>\n",
       "      <td>Muy mala</td>\n",
       "      <td>Mala</td>\n",
       "      <td>Los/as políticos/as en general, los partidos y...</td>\n",
       "      <td>Los problemas de índole social</td>\n",
       "      <td>Sí, con toda seguridad</td>\n",
       "      <td>Sí, lo tiene decidido</td>\n",
       "      <td>...</td>\n",
       "      <td>6</td>\n",
       "      <td>3</td>\n",
       "      <td>3</td>\n",
       "      <td>9</td>\n",
       "      <td>Mujer</td>\n",
       "      <td>42.0</td>\n",
       "      <td>Sí, ha ido a la escuela</td>\n",
       "      <td>Formación Profesional de Grado Superior (FP II)</td>\n",
       "      <td>Trabaja</td>\n",
       "      <td>Católico/a no practicante</td>\n",
       "    </tr>\n",
       "    <tr>\n",
       "      <th>72</th>\n",
       "      <td>400.001 a 1.000.000 habitantes</td>\n",
       "      <td>Capital de provincia</td>\n",
       "      <td>Nada</td>\n",
       "      <td>Nunca o casi nunca</td>\n",
       "      <td>Muy mala</td>\n",
       "      <td>Muy mala</td>\n",
       "      <td>La inmigración</td>\n",
       "      <td>Los problemas de índole económica</td>\n",
       "      <td>Probablemente sí</td>\n",
       "      <td>Sí, lo tiene decidido</td>\n",
       "      <td>...</td>\n",
       "      <td>5</td>\n",
       "      <td>3</td>\n",
       "      <td>3</td>\n",
       "      <td>10</td>\n",
       "      <td>Mujer</td>\n",
       "      <td>63.0</td>\n",
       "      <td>No, es analfabeto/a</td>\n",
       "      <td>NaN</td>\n",
       "      <td>Trabajo doméstico no remunerado</td>\n",
       "      <td>Católico/a no practicante</td>\n",
       "    </tr>\n",
       "    <tr>\n",
       "      <th>73</th>\n",
       "      <td>50.001 a 100.000 habitantes</td>\n",
       "      <td>Otros municipios</td>\n",
       "      <td>Nada</td>\n",
       "      <td>Nunca o casi nunca</td>\n",
       "      <td>Mala</td>\n",
       "      <td>Muy mala</td>\n",
       "      <td>El paro</td>\n",
       "      <td>Los problemas de índole económica</td>\n",
       "      <td>Probablemente sí</td>\n",
       "      <td>Sí, lo tiene decidido</td>\n",
       "      <td>...</td>\n",
       "      <td>5</td>\n",
       "      <td>5</td>\n",
       "      <td>5</td>\n",
       "      <td>5</td>\n",
       "      <td>Mujer</td>\n",
       "      <td>66.0</td>\n",
       "      <td>Sí, ha ido a la escuela</td>\n",
       "      <td>Menos de 5 años de escolarización</td>\n",
       "      <td>Trabajo doméstico no remunerado</td>\n",
       "      <td>Católico/a no practicante</td>\n",
       "    </tr>\n",
       "  </tbody>\n",
       "</table>\n",
       "<p>74 rows × 42 columns</p>\n",
       "</div>"
      ],
      "text/plain": [
       "                            TAMUNI               CAPITAL        P1  \\\n",
       "0   400.001 a 1.000.000 habitantes  Capital de provincia      Poco   \n",
       "1       10.001 a 50.000 habitantes      Otros municipios      Nada   \n",
       "2        2.001 a 10.000 habitantes      Otros municipios      Poco   \n",
       "3        2.001 a 10.000 habitantes      Otros municipios      Nada   \n",
       "4       10.001 a 50.000 habitantes      Otros municipios  Bastante   \n",
       "..                             ...                   ...       ...   \n",
       "69     50.001 a 100.000 habitantes      Otros municipios      Poco   \n",
       "70      10.001 a 50.000 habitantes      Otros municipios      Poco   \n",
       "71      10.001 a 50.000 habitantes      Otros municipios      Poco   \n",
       "72  400.001 a 1.000.000 habitantes  Capital de provincia      Nada   \n",
       "73     50.001 a 100.000 habitantes      Otros municipios      Nada   \n",
       "\n",
       "                    P2        P3        P4  \\\n",
       "0   Nunca o casi nunca  Muy mala      Mala   \n",
       "1             Rara vez  Muy mala      Mala   \n",
       "2     De vez en cuando      Mala      Mala   \n",
       "3             Rara vez      Mala  Muy mala   \n",
       "4     De vez en cuando  Muy mala  Muy mala   \n",
       "..                 ...       ...       ...   \n",
       "69    De vez en cuando      Mala      Mala   \n",
       "70            Rara vez  Muy mala      Mala   \n",
       "71    De vez en cuando  Muy mala      Mala   \n",
       "72  Nunca o casi nunca  Muy mala  Muy mala   \n",
       "73  Nunca o casi nunca      Mala  Muy mala   \n",
       "\n",
       "                                                 P601  \\\n",
       "0   La falta de acuerdos. Situación política. Ines...   \n",
       "1                                             El paro   \n",
       "2                                             El paro   \n",
       "3                                             El paro   \n",
       "4   El Gobierno y partidos o políticos/as concreto...   \n",
       "..                                                ...   \n",
       "69                                            El paro   \n",
       "70  Los/as políticos/as en general, los partidos y...   \n",
       "71  Los/as políticos/as en general, los partidos y...   \n",
       "72                                     La inmigración   \n",
       "73                                            El paro   \n",
       "\n",
       "                                                 P701                      P8  \\\n",
       "0                                        La educación  Sí, con toda seguridad   \n",
       "1                                             El paro  No, con toda seguridad   \n",
       "2                                             El paro  Sí, con toda seguridad   \n",
       "3                                                N.S.        Probablemente sí   \n",
       "4                                                N.S.  Sí, con toda seguridad   \n",
       "..                                                ...                     ...   \n",
       "69  La falta de acuerdos. Situación política. Ines...  Sí, con toda seguridad   \n",
       "70                                               N.S.  Sí, con toda seguridad   \n",
       "71                     Los problemas de índole social  Sí, con toda seguridad   \n",
       "72                  Los problemas de índole económica        Probablemente sí   \n",
       "73                  Los problemas de índole económica        Probablemente sí   \n",
       "\n",
       "                          P8A  ...  P1903  P1904  P1905  P1906     P23   P24  \\\n",
       "0       Sí, lo tiene decidido  ...      8      3      3     10   Mujer  55.0   \n",
       "1                         NaN  ...      5      5      5      5   Mujer  53.0   \n",
       "2       Sí, lo tiene decidido  ...      6      1      1      8  Hombre  59.0   \n",
       "3   No, no lo ha decidido aún  ...      5      5      5      5   Mujer  45.0   \n",
       "4       Sí, lo tiene decidido  ...      6      1      1      8   Mujer  53.0   \n",
       "..                        ...  ...    ...    ...    ...    ...     ...   ...   \n",
       "69      Sí, lo tiene decidido  ...      6      2      2      9   Mujer  57.0   \n",
       "70      Sí, lo tiene decidido  ...      6      2      2     10   Mujer  31.0   \n",
       "71      Sí, lo tiene decidido  ...      6      3      3      9   Mujer  42.0   \n",
       "72      Sí, lo tiene decidido  ...      5      3      3     10   Mujer  63.0   \n",
       "73      Sí, lo tiene decidido  ...      5      5      5      5   Mujer  66.0   \n",
       "\n",
       "                        P25  \\\n",
       "0   Sí, ha ido a la escuela   \n",
       "1   Sí, ha ido a la escuela   \n",
       "2   Sí, ha ido a la escuela   \n",
       "3   Sí, ha ido a la escuela   \n",
       "4   Sí, ha ido a la escuela   \n",
       "..                      ...   \n",
       "69  Sí, ha ido a la escuela   \n",
       "70  Sí, ha ido a la escuela   \n",
       "71  Sí, ha ido a la escuela   \n",
       "72      No, es analfabeto/a   \n",
       "73  Sí, ha ido a la escuela   \n",
       "\n",
       "                                                 P25A  \\\n",
       "0   Bachillerato/COU/PREU (Bachillerato Superior, ...   \n",
       "1   Secundaria (Bachillerato Elemental, EGB comple...   \n",
       "2   Secundaria (Bachillerato Elemental, EGB comple...   \n",
       "3   Secundaria (Bachillerato Elemental, EGB comple...   \n",
       "4   Secundaria (Bachillerato Elemental, EGB comple...   \n",
       "..                                                ...   \n",
       "69    Formación Profesional de Grado Superior (FP II)   \n",
       "70  Secundaria (Bachillerato Elemental, EGB comple...   \n",
       "71    Formación Profesional de Grado Superior (FP II)   \n",
       "72                                                NaN   \n",
       "73                  Menos de 5 años de escolarización   \n",
       "\n",
       "                                P26                        P27  \n",
       "0   Trabajo doméstico no remunerado  Católico/a no practicante  \n",
       "1     Parado/a y ha trabajado antes   Indiferente, no creyente  \n",
       "2     Parado/a y ha trabajado antes  Católico/a no practicante  \n",
       "3   Trabajo doméstico no remunerado  Católico/a no practicante  \n",
       "4     Parado/a y ha trabajado antes  Católico/a no practicante  \n",
       "..                              ...                        ...  \n",
       "69                          Trabaja  Católico/a no practicante  \n",
       "70                          Trabaja  Católico/a no practicante  \n",
       "71                          Trabaja  Católico/a no practicante  \n",
       "72  Trabajo doméstico no remunerado  Católico/a no practicante  \n",
       "73  Trabajo doméstico no remunerado  Católico/a no practicante  \n",
       "\n",
       "[74 rows x 42 columns]"
      ]
     },
     "execution_count": 107,
     "metadata": {},
     "output_type": "execute_result"
    }
   ],
   "source": [
    "df_test"
   ]
  },
  {
   "cell_type": "code",
   "execution_count": null,
   "metadata": {
    "id": "Eof3X147wAMt"
   },
   "outputs": [],
   "source": []
  },
  {
   "cell_type": "markdown",
   "metadata": {
    "id": "Xm5oeQg6hrC1"
   },
   "source": [
    "Naturalmente seguimos los mismos pasos que en el train, comenzando con el relleno de los nan de las columnas numéricas."
   ]
  },
  {
   "cell_type": "code",
   "execution_count": 108,
   "metadata": {
    "executionInfo": {
     "elapsed": 435,
     "status": "ok",
     "timestamp": 1630930035669,
     "user": {
      "displayName": "Guillermo Barrio",
      "photoUrl": "",
      "userId": "06925154007558381895"
     },
     "user_tz": -120
    },
    "id": "uE4lIR8BwAJr"
   },
   "outputs": [],
   "source": [
    "for item in FillNA_num_mean:\n",
    "        \n",
    "    df_test[item].fillna(df_test[item].mean(), inplace=True)"
   ]
  },
  {
   "cell_type": "code",
   "execution_count": null,
   "metadata": {
    "id": "Kg_qwnGbwAHE"
   },
   "outputs": [],
   "source": []
  },
  {
   "cell_type": "markdown",
   "metadata": {
    "id": "6RNI0yLPiAJA"
   },
   "source": [
    "Aplicamos el mapeo definido en el set train."
   ]
  },
  {
   "cell_type": "code",
   "execution_count": 109,
   "metadata": {
    "executionInfo": {
     "elapsed": 302,
     "status": "ok",
     "timestamp": 1630930038109,
     "user": {
      "displayName": "Guillermo Barrio",
      "photoUrl": "",
      "userId": "06925154007558381895"
     },
     "user_tz": -120
    },
    "id": "TNhAuwR9wAD2"
   },
   "outputs": [],
   "source": [
    "for c in categorical:\n",
    "    df_test[c] = df_test[c].map(mean_map1[c])"
   ]
  },
  {
   "cell_type": "code",
   "execution_count": null,
   "metadata": {
    "id": "bB9TSz54iEkh"
   },
   "outputs": [],
   "source": []
  },
  {
   "cell_type": "markdown",
   "metadata": {
    "id": "9327pj5TiFQk"
   },
   "source": [
    "Ahora rellenamos los nan de las columnas que acabamos de mapear, igual que en el train."
   ]
  },
  {
   "cell_type": "code",
   "execution_count": 110,
   "metadata": {
    "executionInfo": {
     "elapsed": 222,
     "status": "ok",
     "timestamp": 1630930040358,
     "user": {
      "displayName": "Guillermo Barrio",
      "photoUrl": "",
      "userId": "06925154007558381895"
     },
     "user_tz": -120
    },
    "id": "EbmdtF6Wv2IQ"
   },
   "outputs": [],
   "source": [
    "for item in categorical:\n",
    "        \n",
    "    df_test[item].fillna(df_test[item].mean(), inplace=True)"
   ]
  },
  {
   "cell_type": "code",
   "execution_count": null,
   "metadata": {
    "id": "RYA0xuc5v2FI"
   },
   "outputs": [],
   "source": []
  },
  {
   "cell_type": "code",
   "execution_count": 111,
   "metadata": {
    "colab": {
     "base_uri": "https://localhost:8080/"
    },
    "executionInfo": {
     "elapsed": 9,
     "status": "ok",
     "timestamp": 1630930042401,
     "user": {
      "displayName": "Guillermo Barrio",
      "photoUrl": "",
      "userId": "06925154007558381895"
     },
     "user_tz": -120
    },
    "id": "2rW1U0rxv2Br",
    "outputId": "b7e2a077-64dd-4eb0-a84c-92bb344d3d11"
   },
   "outputs": [
    {
     "data": {
      "text/plain": [
       "TAMUNI     float64\n",
       "CAPITAL    float64\n",
       "P1         float64\n",
       "P2         float64\n",
       "P3         float64\n",
       "P4         float64\n",
       "P601       float64\n",
       "P701       float64\n",
       "P8         float64\n",
       "P8A        float64\n",
       "P9         float64\n",
       "P9A        float64\n",
       "P1001        int64\n",
       "P1002      float64\n",
       "P1003        int64\n",
       "P1004        int64\n",
       "P1005      float64\n",
       "P1006      float64\n",
       "P11          int64\n",
       "P1201        int64\n",
       "P1202        int64\n",
       "P1203        int64\n",
       "P1204        int64\n",
       "P1205        int64\n",
       "P1206        int64\n",
       "P13        float64\n",
       "P14          int64\n",
       "P15        float64\n",
       "P17A       float64\n",
       "P18          int64\n",
       "P1901        int64\n",
       "P1902        int64\n",
       "P1903        int64\n",
       "P1904        int64\n",
       "P1905        int64\n",
       "P1906        int64\n",
       "P23        float64\n",
       "P24        float64\n",
       "P25        float64\n",
       "P25A       float64\n",
       "P26        float64\n",
       "P27        float64\n",
       "dtype: object"
      ]
     },
     "execution_count": 111,
     "metadata": {},
     "output_type": "execute_result"
    }
   ],
   "source": [
    "df_test.dtypes"
   ]
  },
  {
   "cell_type": "code",
   "execution_count": null,
   "metadata": {
    "id": "q3oosMP8x_OM"
   },
   "outputs": [],
   "source": []
  },
  {
   "cell_type": "code",
   "execution_count": 112,
   "metadata": {
    "colab": {
     "base_uri": "https://localhost:8080/",
     "height": 317
    },
    "executionInfo": {
     "elapsed": 235,
     "status": "ok",
     "timestamp": 1630930045319,
     "user": {
      "displayName": "Guillermo Barrio",
      "photoUrl": "",
      "userId": "06925154007558381895"
     },
     "user_tz": -120
    },
    "id": "Re6F75FXx_Lm",
    "outputId": "1a9408c8-8bc2-460d-d4c8-3bec6ec0df49"
   },
   "outputs": [
    {
     "data": {
      "text/html": [
       "<div>\n",
       "<style scoped>\n",
       "    .dataframe tbody tr th:only-of-type {\n",
       "        vertical-align: middle;\n",
       "    }\n",
       "\n",
       "    .dataframe tbody tr th {\n",
       "        vertical-align: top;\n",
       "    }\n",
       "\n",
       "    .dataframe thead th {\n",
       "        text-align: right;\n",
       "    }\n",
       "</style>\n",
       "<table border=\"1\" class=\"dataframe\">\n",
       "  <thead>\n",
       "    <tr style=\"text-align: right;\">\n",
       "      <th></th>\n",
       "      <th>TAMUNI</th>\n",
       "      <th>CAPITAL</th>\n",
       "      <th>P1</th>\n",
       "      <th>P2</th>\n",
       "      <th>P3</th>\n",
       "      <th>P4</th>\n",
       "      <th>P601</th>\n",
       "      <th>P701</th>\n",
       "      <th>P8</th>\n",
       "      <th>P8A</th>\n",
       "      <th>...</th>\n",
       "      <th>P1903</th>\n",
       "      <th>P1904</th>\n",
       "      <th>P1905</th>\n",
       "      <th>P1906</th>\n",
       "      <th>P23</th>\n",
       "      <th>P24</th>\n",
       "      <th>P25</th>\n",
       "      <th>P25A</th>\n",
       "      <th>P26</th>\n",
       "      <th>P27</th>\n",
       "    </tr>\n",
       "  </thead>\n",
       "  <tbody>\n",
       "    <tr>\n",
       "      <th>count</th>\n",
       "      <td>74.000000</td>\n",
       "      <td>74.000000</td>\n",
       "      <td>74.000000</td>\n",
       "      <td>74.000000</td>\n",
       "      <td>74.000000</td>\n",
       "      <td>74.000000</td>\n",
       "      <td>74.000000</td>\n",
       "      <td>74.000000</td>\n",
       "      <td>74.000000</td>\n",
       "      <td>74.000000</td>\n",
       "      <td>...</td>\n",
       "      <td>74.000000</td>\n",
       "      <td>74.000000</td>\n",
       "      <td>74.000000</td>\n",
       "      <td>74.000000</td>\n",
       "      <td>74.000000</td>\n",
       "      <td>74.000000</td>\n",
       "      <td>74.000000</td>\n",
       "      <td>74.000000</td>\n",
       "      <td>74.000000</td>\n",
       "      <td>74.000000</td>\n",
       "    </tr>\n",
       "    <tr>\n",
       "      <th>mean</th>\n",
       "      <td>44.959880</td>\n",
       "      <td>44.980966</td>\n",
       "      <td>45.268079</td>\n",
       "      <td>45.151610</td>\n",
       "      <td>45.569219</td>\n",
       "      <td>45.578973</td>\n",
       "      <td>45.775516</td>\n",
       "      <td>43.520464</td>\n",
       "      <td>44.811252</td>\n",
       "      <td>43.654480</td>\n",
       "      <td>...</td>\n",
       "      <td>5.945946</td>\n",
       "      <td>2.229730</td>\n",
       "      <td>2.297297</td>\n",
       "      <td>8.540541</td>\n",
       "      <td>44.912835</td>\n",
       "      <td>46.410089</td>\n",
       "      <td>44.971754</td>\n",
       "      <td>45.489908</td>\n",
       "      <td>44.568004</td>\n",
       "      <td>45.649779</td>\n",
       "    </tr>\n",
       "    <tr>\n",
       "      <th>std</th>\n",
       "      <td>6.240269</td>\n",
       "      <td>0.314619</td>\n",
       "      <td>2.461718</td>\n",
       "      <td>1.846806</td>\n",
       "      <td>4.377762</td>\n",
       "      <td>3.255109</td>\n",
       "      <td>11.233142</td>\n",
       "      <td>5.414870</td>\n",
       "      <td>3.207786</td>\n",
       "      <td>1.903825</td>\n",
       "      <td>...</td>\n",
       "      <td>1.058454</td>\n",
       "      <td>1.429123</td>\n",
       "      <td>1.487203</td>\n",
       "      <td>1.753190</td>\n",
       "      <td>0.222105</td>\n",
       "      <td>12.629043</td>\n",
       "      <td>0.894650</td>\n",
       "      <td>7.874646</td>\n",
       "      <td>4.585021</td>\n",
       "      <td>6.730530</td>\n",
       "    </tr>\n",
       "    <tr>\n",
       "      <th>min</th>\n",
       "      <td>29.705882</td>\n",
       "      <td>44.484536</td>\n",
       "      <td>35.600000</td>\n",
       "      <td>42.345679</td>\n",
       "      <td>23.750000</td>\n",
       "      <td>42.304688</td>\n",
       "      <td>17.500000</td>\n",
       "      <td>30.000000</td>\n",
       "      <td>39.218750</td>\n",
       "      <td>39.230769</td>\n",
       "      <td>...</td>\n",
       "      <td>5.000000</td>\n",
       "      <td>1.000000</td>\n",
       "      <td>1.000000</td>\n",
       "      <td>5.000000</td>\n",
       "      <td>44.720280</td>\n",
       "      <td>7.500000</td>\n",
       "      <td>37.500000</td>\n",
       "      <td>17.500000</td>\n",
       "      <td>30.769231</td>\n",
       "      <td>18.333333</td>\n",
       "    </tr>\n",
       "    <tr>\n",
       "      <th>25%</th>\n",
       "      <td>44.484536</td>\n",
       "      <td>44.484536</td>\n",
       "      <td>44.675325</td>\n",
       "      <td>42.345679</td>\n",
       "      <td>44.846939</td>\n",
       "      <td>42.304688</td>\n",
       "      <td>42.014925</td>\n",
       "      <td>43.000000</td>\n",
       "      <td>44.829268</td>\n",
       "      <td>43.654480</td>\n",
       "      <td>...</td>\n",
       "      <td>5.000000</td>\n",
       "      <td>1.000000</td>\n",
       "      <td>1.000000</td>\n",
       "      <td>8.000000</td>\n",
       "      <td>44.720280</td>\n",
       "      <td>37.625000</td>\n",
       "      <td>45.018450</td>\n",
       "      <td>43.385827</td>\n",
       "      <td>42.109375</td>\n",
       "      <td>45.979899</td>\n",
       "    </tr>\n",
       "    <tr>\n",
       "      <th>50%</th>\n",
       "      <td>47.600000</td>\n",
       "      <td>45.177665</td>\n",
       "      <td>45.529412</td>\n",
       "      <td>45.726496</td>\n",
       "      <td>44.846939</td>\n",
       "      <td>43.974359</td>\n",
       "      <td>42.014925</td>\n",
       "      <td>44.338624</td>\n",
       "      <td>44.829268</td>\n",
       "      <td>44.668246</td>\n",
       "      <td>...</td>\n",
       "      <td>6.000000</td>\n",
       "      <td>2.000000</td>\n",
       "      <td>2.000000</td>\n",
       "      <td>9.000000</td>\n",
       "      <td>44.720280</td>\n",
       "      <td>45.916667</td>\n",
       "      <td>45.018450</td>\n",
       "      <td>43.385827</td>\n",
       "      <td>42.735849</td>\n",
       "      <td>45.979899</td>\n",
       "    </tr>\n",
       "    <tr>\n",
       "      <th>75%</th>\n",
       "      <td>49.710145</td>\n",
       "      <td>45.177665</td>\n",
       "      <td>46.745283</td>\n",
       "      <td>47.187500</td>\n",
       "      <td>49.087302</td>\n",
       "      <td>50.000000</td>\n",
       "      <td>47.906977</td>\n",
       "      <td>45.379747</td>\n",
       "      <td>44.829268</td>\n",
       "      <td>44.668246</td>\n",
       "      <td>...</td>\n",
       "      <td>7.000000</td>\n",
       "      <td>3.000000</td>\n",
       "      <td>3.000000</td>\n",
       "      <td>10.000000</td>\n",
       "      <td>45.165563</td>\n",
       "      <td>55.416667</td>\n",
       "      <td>45.018450</td>\n",
       "      <td>49.629630</td>\n",
       "      <td>49.609929</td>\n",
       "      <td>45.979899</td>\n",
       "    </tr>\n",
       "    <tr>\n",
       "      <th>max</th>\n",
       "      <td>49.710145</td>\n",
       "      <td>45.177665</td>\n",
       "      <td>46.745283</td>\n",
       "      <td>47.187500</td>\n",
       "      <td>49.087302</td>\n",
       "      <td>50.000000</td>\n",
       "      <td>100.000000</td>\n",
       "      <td>70.000000</td>\n",
       "      <td>50.000000</td>\n",
       "      <td>44.668246</td>\n",
       "      <td>...</td>\n",
       "      <td>8.000000</td>\n",
       "      <td>5.000000</td>\n",
       "      <td>5.000000</td>\n",
       "      <td>10.000000</td>\n",
       "      <td>45.165563</td>\n",
       "      <td>76.666667</td>\n",
       "      <td>45.526316</td>\n",
       "      <td>65.625000</td>\n",
       "      <td>49.609929</td>\n",
       "      <td>59.523810</td>\n",
       "    </tr>\n",
       "  </tbody>\n",
       "</table>\n",
       "<p>8 rows × 42 columns</p>\n",
       "</div>"
      ],
      "text/plain": [
       "          TAMUNI    CAPITAL         P1         P2         P3         P4  \\\n",
       "count  74.000000  74.000000  74.000000  74.000000  74.000000  74.000000   \n",
       "mean   44.959880  44.980966  45.268079  45.151610  45.569219  45.578973   \n",
       "std     6.240269   0.314619   2.461718   1.846806   4.377762   3.255109   \n",
       "min    29.705882  44.484536  35.600000  42.345679  23.750000  42.304688   \n",
       "25%    44.484536  44.484536  44.675325  42.345679  44.846939  42.304688   \n",
       "50%    47.600000  45.177665  45.529412  45.726496  44.846939  43.974359   \n",
       "75%    49.710145  45.177665  46.745283  47.187500  49.087302  50.000000   \n",
       "max    49.710145  45.177665  46.745283  47.187500  49.087302  50.000000   \n",
       "\n",
       "             P601       P701         P8        P8A  ...      P1903      P1904  \\\n",
       "count   74.000000  74.000000  74.000000  74.000000  ...  74.000000  74.000000   \n",
       "mean    45.775516  43.520464  44.811252  43.654480  ...   5.945946   2.229730   \n",
       "std     11.233142   5.414870   3.207786   1.903825  ...   1.058454   1.429123   \n",
       "min     17.500000  30.000000  39.218750  39.230769  ...   5.000000   1.000000   \n",
       "25%     42.014925  43.000000  44.829268  43.654480  ...   5.000000   1.000000   \n",
       "50%     42.014925  44.338624  44.829268  44.668246  ...   6.000000   2.000000   \n",
       "75%     47.906977  45.379747  44.829268  44.668246  ...   7.000000   3.000000   \n",
       "max    100.000000  70.000000  50.000000  44.668246  ...   8.000000   5.000000   \n",
       "\n",
       "           P1905      P1906        P23        P24        P25       P25A  \\\n",
       "count  74.000000  74.000000  74.000000  74.000000  74.000000  74.000000   \n",
       "mean    2.297297   8.540541  44.912835  46.410089  44.971754  45.489908   \n",
       "std     1.487203   1.753190   0.222105  12.629043   0.894650   7.874646   \n",
       "min     1.000000   5.000000  44.720280   7.500000  37.500000  17.500000   \n",
       "25%     1.000000   8.000000  44.720280  37.625000  45.018450  43.385827   \n",
       "50%     2.000000   9.000000  44.720280  45.916667  45.018450  43.385827   \n",
       "75%     3.000000  10.000000  45.165563  55.416667  45.018450  49.629630   \n",
       "max     5.000000  10.000000  45.165563  76.666667  45.526316  65.625000   \n",
       "\n",
       "             P26        P27  \n",
       "count  74.000000  74.000000  \n",
       "mean   44.568004  45.649779  \n",
       "std     4.585021   6.730530  \n",
       "min    30.769231  18.333333  \n",
       "25%    42.109375  45.979899  \n",
       "50%    42.735849  45.979899  \n",
       "75%    49.609929  45.979899  \n",
       "max    49.609929  59.523810  \n",
       "\n",
       "[8 rows x 42 columns]"
      ]
     },
     "execution_count": 112,
     "metadata": {},
     "output_type": "execute_result"
    }
   ],
   "source": [
    "df_test.describe()"
   ]
  },
  {
   "cell_type": "code",
   "execution_count": null,
   "metadata": {
    "id": "RFXn9VfYx_I4"
   },
   "outputs": [],
   "source": []
  },
  {
   "cell_type": "markdown",
   "metadata": {
    "id": "hhhcfJfviYtL"
   },
   "source": [
    "Pasamos la columna objetivo a tipo entero. Definimos las matrices X e y de test."
   ]
  },
  {
   "cell_type": "code",
   "execution_count": 113,
   "metadata": {
    "executionInfo": {
     "elapsed": 228,
     "status": "ok",
     "timestamp": 1630930048450,
     "user": {
      "displayName": "Guillermo Barrio",
      "photoUrl": "",
      "userId": "06925154007558381895"
     },
     "user_tz": -120
    },
    "id": "UHRcF2BFx_GB"
   },
   "outputs": [],
   "source": [
    "df_test['P9'] = df_test['P9'].astype('int64')"
   ]
  },
  {
   "cell_type": "code",
   "execution_count": 114,
   "metadata": {
    "executionInfo": {
     "elapsed": 327,
     "status": "ok",
     "timestamp": 1630930050315,
     "user": {
      "displayName": "Guillermo Barrio",
      "photoUrl": "",
      "userId": "06925154007558381895"
     },
     "user_tz": -120
    },
    "id": "nGoqSXsIx_Di"
   },
   "outputs": [],
   "source": [
    "y_test = df_test['P9'].values"
   ]
  },
  {
   "cell_type": "code",
   "execution_count": 115,
   "metadata": {
    "executionInfo": {
     "elapsed": 2,
     "status": "ok",
     "timestamp": 1630930051961,
     "user": {
      "displayName": "Guillermo Barrio",
      "photoUrl": "",
      "userId": "06925154007558381895"
     },
     "user_tz": -120
    },
    "id": "nA2Dhzz9x_Ac"
   },
   "outputs": [],
   "source": [
    "X_test = df_test.drop(['P9'], axis = 1).values"
   ]
  },
  {
   "cell_type": "code",
   "execution_count": 116,
   "metadata": {
    "colab": {
     "base_uri": "https://localhost:8080/"
    },
    "executionInfo": {
     "elapsed": 265,
     "status": "ok",
     "timestamp": 1630930054246,
     "user": {
      "displayName": "Guillermo Barrio",
      "photoUrl": "",
      "userId": "06925154007558381895"
     },
     "user_tz": -120
    },
    "id": "LhegvkHfx-9o",
    "outputId": "02af6b6a-8a38-422d-abf4-b9ad7cfdaa41"
   },
   "outputs": [
    {
     "data": {
      "text/plain": [
       "(74,)"
      ]
     },
     "execution_count": 116,
     "metadata": {},
     "output_type": "execute_result"
    }
   ],
   "source": [
    "y_test.shape"
   ]
  },
  {
   "cell_type": "code",
   "execution_count": 117,
   "metadata": {
    "colab": {
     "base_uri": "https://localhost:8080/"
    },
    "executionInfo": {
     "elapsed": 240,
     "status": "ok",
     "timestamp": 1630930056097,
     "user": {
      "displayName": "Guillermo Barrio",
      "photoUrl": "",
      "userId": "06925154007558381895"
     },
     "user_tz": -120
    },
    "id": "5JCaPnhax-7B",
    "outputId": "676faf2b-3fce-47ba-8218-19b6406fb730"
   },
   "outputs": [
    {
     "data": {
      "text/plain": [
       "(74, 41)"
      ]
     },
     "execution_count": 117,
     "metadata": {},
     "output_type": "execute_result"
    }
   ],
   "source": [
    "X_test.shape"
   ]
  },
  {
   "cell_type": "code",
   "execution_count": null,
   "metadata": {
    "id": "Gepo6_5fx-4N"
   },
   "outputs": [],
   "source": []
  },
  {
   "cell_type": "markdown",
   "metadata": {
    "id": "yPyxU7W_iqD5"
   },
   "source": [
    "Antes de pasar a modelar, pasamos a ver la importancia de las distintas columnas. Vemos que las más importantes son las de recuerdo de voto 17A, político que considera más cercano, 13, partido que desearía ver ganador, 15, o la autoubicación, P8, aparte de las probabilidades de votar a los partidos (120x)."
   ]
  },
  {
   "cell_type": "code",
   "execution_count": 118,
   "metadata": {
    "executionInfo": {
     "elapsed": 358,
     "status": "ok",
     "timestamp": 1630930058275,
     "user": {
      "displayName": "Guillermo Barrio",
      "photoUrl": "",
      "userId": "06925154007558381895"
     },
     "user_tz": -120
    },
    "id": "7U-VN4G5yodh"
   },
   "outputs": [],
   "source": [
    "from sklearn.feature_selection import f_regression, mutual_info_regression"
   ]
  },
  {
   "cell_type": "code",
   "execution_count": 119,
   "metadata": {
    "executionInfo": {
     "elapsed": 233,
     "status": "ok",
     "timestamp": 1630930059998,
     "user": {
      "displayName": "Guillermo Barrio",
      "photoUrl": "",
      "userId": "06925154007558381895"
     },
     "user_tz": -120
    },
    "id": "-C3OnHFVyoat"
   },
   "outputs": [],
   "source": [
    "columnas = df_train.drop(['P9'], axis = 1).columns"
   ]
  },
  {
   "cell_type": "code",
   "execution_count": 120,
   "metadata": {
    "colab": {
     "base_uri": "https://localhost:8080/",
     "height": 380
    },
    "executionInfo": {
     "elapsed": 1297,
     "status": "ok",
     "timestamp": 1630930067939,
     "user": {
      "displayName": "Guillermo Barrio",
      "photoUrl": "",
      "userId": "06925154007558381895"
     },
     "user_tz": -120
    },
    "id": "tYjqXbxtyoYD",
    "outputId": "f541777c-76dd-4ea3-e432-fcc5498739b9"
   },
   "outputs": [
    {
     "data": {
      "image/png": "[encoded data removed]",
      "text/plain": [
       "<Figure size 1440x360 with 2 Axes>"
      ]
     },
     "metadata": {
      "needs_background": "light"
     },
     "output_type": "display_data"
    }
   ],
   "source": [
    "y = y_train    # nos quedamos con la 1ª columna, price\n",
    "X = X_train      # nos quedamos con el resto\n",
    "\n",
    "feature_names = columnas\n",
    "\n",
    "\n",
    "# do calculations\n",
    "f_test, _ = f_regression(X, y)\n",
    "f_test /= np.max(f_test)\n",
    "\n",
    "mi = mutual_info_regression(X, y)\n",
    "mi /= np.max(mi)\n",
    "\n",
    "# do some plotting\n",
    "plt.figure(figsize=(20, 5))\n",
    "\n",
    "plt.subplot(1,2,1)\n",
    "plt.bar(range(X.shape[1]),f_test,  align=\"center\")\n",
    "plt.xticks(range(X.shape[1]),feature_names, rotation = 90)\n",
    "plt.xlabel('features')\n",
    "plt.ylabel('Ranking')\n",
    "plt.title('$F-Test$ score')\n",
    "\n",
    "plt.subplot(1,2,2)\n",
    "plt.bar(range(X.shape[1]),mi, align=\"center\")\n",
    "plt.xticks(range(X.shape[1]),feature_names, rotation = 90)\n",
    "plt.xlabel('features')\n",
    "plt.ylabel('Ranking')\n",
    "plt.title('Mutual information score')\n",
    "\n",
    "plt.show()"
   ]
  },
  {
   "cell_type": "markdown",
   "metadata": {
    "id": "qUWo0p8sjohk"
   },
   "source": [
    "Pasamos a modelizar. Instanciamos un modelo random forest classifier, utilizando GridSearch con la variable de la profundidad. El número de estimadores lo fijamos en 200, habitual para 40-45 columna."
   ]
  },
  {
   "cell_type": "markdown",
   "metadata": {
    "id": "P5i7sFMrqY26"
   },
   "source": [
    "## Modelización con Random Forest Classifier"
   ]
  },
  {
   "cell_type": "code",
   "execution_count": 121,
   "metadata": {
    "executionInfo": {
     "elapsed": 433,
     "status": "ok",
     "timestamp": 1630930072698,
     "user": {
      "displayName": "Guillermo Barrio",
      "photoUrl": "",
      "userId": "06925154007558381895"
     },
     "user_tz": -120
    },
    "id": "lQG-ngTSyoVW"
   },
   "outputs": [],
   "source": [
    "from sklearn.model_selection import GridSearchCV\n",
    "from sklearn.ensemble import RandomForestClassifier"
   ]
  },
  {
   "cell_type": "code",
   "execution_count": 122,
   "metadata": {
    "colab": {
     "base_uri": "https://localhost:8080/",
     "height": 1000
    },
    "executionInfo": {
     "elapsed": 22572,
     "status": "ok",
     "timestamp": 1630930097139,
     "user": {
      "displayName": "Guillermo Barrio",
      "photoUrl": "",
      "userId": "06925154007558381895"
     },
     "user_tz": -120
    },
    "id": "8s_RKMYTyoSe",
    "outputId": "d2411b66-0143-44be-a366-c3b8ea691aa8"
   },
   "outputs": [
    {
     "name": "stderr",
     "output_type": "stream",
     "text": [
      "[Parallel(n_jobs=1)]: Using backend SequentialBackend with 1 concurrent workers.\n",
      "[Parallel(n_jobs=1)]: Done 200 out of 200 | elapsed:    0.0s finished\n",
      "[Parallel(n_jobs=1)]: Using backend SequentialBackend with 1 concurrent workers.\n",
      "[Parallel(n_jobs=1)]: Done 200 out of 200 | elapsed:    0.0s finished\n",
      "[Parallel(n_jobs=1)]: Using backend SequentialBackend with 1 concurrent workers.\n",
      "[Parallel(n_jobs=1)]: Done 200 out of 200 | elapsed:    0.0s finished\n",
      "[Parallel(n_jobs=1)]: Using backend SequentialBackend with 1 concurrent workers.\n",
      "[Parallel(n_jobs=1)]: Done 200 out of 200 | elapsed:    0.0s finished\n",
      "[Parallel(n_jobs=1)]: Using backend SequentialBackend with 1 concurrent workers.\n",
      "[Parallel(n_jobs=1)]: Done 200 out of 200 | elapsed:    0.0s finished\n",
      "[Parallel(n_jobs=1)]: Using backend SequentialBackend with 1 concurrent workers.\n",
      "[Parallel(n_jobs=1)]: Done 200 out of 200 | elapsed:    0.0s finished\n",
      "[Parallel(n_jobs=1)]: Using backend SequentialBackend with 1 concurrent workers.\n",
      "[Parallel(n_jobs=1)]: Done 200 out of 200 | elapsed:    0.0s finished\n",
      "[Parallel(n_jobs=1)]: Using backend SequentialBackend with 1 concurrent workers.\n",
      "[Parallel(n_jobs=1)]: Done 200 out of 200 | elapsed:    0.0s finished\n",
      "[Parallel(n_jobs=1)]: Using backend SequentialBackend with 1 concurrent workers.\n",
      "[Parallel(n_jobs=1)]: Done 200 out of 200 | elapsed:    0.0s finished\n",
      "[Parallel(n_jobs=1)]: Using backend SequentialBackend with 1 concurrent workers.\n",
      "[Parallel(n_jobs=1)]: Done 200 out of 200 | elapsed:    0.0s finished\n",
      "[Parallel(n_jobs=1)]: Using backend SequentialBackend with 1 concurrent workers.\n",
      "[Parallel(n_jobs=1)]: Done 200 out of 200 | elapsed:    0.0s finished\n",
      "[Parallel(n_jobs=1)]: Using backend SequentialBackend with 1 concurrent workers.\n",
      "[Parallel(n_jobs=1)]: Done 200 out of 200 | elapsed:    0.0s finished\n",
      "[Parallel(n_jobs=1)]: Using backend SequentialBackend with 1 concurrent workers.\n",
      "[Parallel(n_jobs=1)]: Done 200 out of 200 | elapsed:    0.0s finished\n",
      "[Parallel(n_jobs=1)]: Using backend SequentialBackend with 1 concurrent workers.\n",
      "[Parallel(n_jobs=1)]: Done 200 out of 200 | elapsed:    0.0s finished\n",
      "[Parallel(n_jobs=1)]: Using backend SequentialBackend with 1 concurrent workers.\n",
      "[Parallel(n_jobs=1)]: Done 200 out of 200 | elapsed:    0.0s finished\n",
      "[Parallel(n_jobs=1)]: Using backend SequentialBackend with 1 concurrent workers.\n",
      "[Parallel(n_jobs=1)]: Done 200 out of 200 | elapsed:    0.0s finished\n",
      "[Parallel(n_jobs=1)]: Using backend SequentialBackend with 1 concurrent workers.\n",
      "[Parallel(n_jobs=1)]: Done 200 out of 200 | elapsed:    0.0s finished\n",
      "[Parallel(n_jobs=1)]: Using backend SequentialBackend with 1 concurrent workers.\n",
      "[Parallel(n_jobs=1)]: Done 200 out of 200 | elapsed:    0.0s finished\n",
      "[Parallel(n_jobs=1)]: Using backend SequentialBackend with 1 concurrent workers.\n",
      "[Parallel(n_jobs=1)]: Done 200 out of 200 | elapsed:    0.0s finished\n",
      "[Parallel(n_jobs=1)]: Using backend SequentialBackend with 1 concurrent workers.\n",
      "[Parallel(n_jobs=1)]: Done 200 out of 200 | elapsed:    0.0s finished\n",
      "[Parallel(n_jobs=1)]: Using backend SequentialBackend with 1 concurrent workers.\n",
      "[Parallel(n_jobs=1)]: Done 200 out of 200 | elapsed:    0.0s finished\n",
      "[Parallel(n_jobs=1)]: Using backend SequentialBackend with 1 concurrent workers.\n",
      "[Parallel(n_jobs=1)]: Done 200 out of 200 | elapsed:    0.0s finished\n",
      "[Parallel(n_jobs=1)]: Using backend SequentialBackend with 1 concurrent workers.\n",
      "[Parallel(n_jobs=1)]: Done 200 out of 200 | elapsed:    0.0s finished\n",
      "[Parallel(n_jobs=1)]: Using backend SequentialBackend with 1 concurrent workers.\n",
      "[Parallel(n_jobs=1)]: Done 200 out of 200 | elapsed:    0.0s finished\n",
      "[Parallel(n_jobs=1)]: Using backend SequentialBackend with 1 concurrent workers.\n",
      "[Parallel(n_jobs=1)]: Done 200 out of 200 | elapsed:    0.0s finished\n",
      "[Parallel(n_jobs=1)]: Using backend SequentialBackend with 1 concurrent workers.\n",
      "[Parallel(n_jobs=1)]: Done 200 out of 200 | elapsed:    0.0s finished\n",
      "[Parallel(n_jobs=1)]: Using backend SequentialBackend with 1 concurrent workers.\n",
      "[Parallel(n_jobs=1)]: Done 200 out of 200 | elapsed:    0.0s finished\n",
      "[Parallel(n_jobs=1)]: Using backend SequentialBackend with 1 concurrent workers.\n",
      "[Parallel(n_jobs=1)]: Done 200 out of 200 | elapsed:    0.0s finished\n",
      "[Parallel(n_jobs=1)]: Using backend SequentialBackend with 1 concurrent workers.\n",
      "[Parallel(n_jobs=1)]: Done 200 out of 200 | elapsed:    0.0s finished\n",
      "[Parallel(n_jobs=1)]: Using backend SequentialBackend with 1 concurrent workers.\n",
      "[Parallel(n_jobs=1)]: Done 200 out of 200 | elapsed:    0.0s finished\n",
      "[Parallel(n_jobs=1)]: Using backend SequentialBackend with 1 concurrent workers.\n",
      "[Parallel(n_jobs=1)]: Done 200 out of 200 | elapsed:    0.1s finished\n",
      "[Parallel(n_jobs=1)]: Using backend SequentialBackend with 1 concurrent workers.\n",
      "[Parallel(n_jobs=1)]: Done 200 out of 200 | elapsed:    0.0s finished\n",
      "[Parallel(n_jobs=1)]: Using backend SequentialBackend with 1 concurrent workers.\n",
      "[Parallel(n_jobs=1)]: Done 200 out of 200 | elapsed:    0.0s finished\n",
      "[Parallel(n_jobs=1)]: Using backend SequentialBackend with 1 concurrent workers.\n",
      "[Parallel(n_jobs=1)]: Done 200 out of 200 | elapsed:    0.0s finished\n",
      "[Parallel(n_jobs=1)]: Using backend SequentialBackend with 1 concurrent workers.\n",
      "[Parallel(n_jobs=1)]: Done 200 out of 200 | elapsed:    0.1s finished\n",
      "[Parallel(n_jobs=1)]: Using backend SequentialBackend with 1 concurrent workers.\n",
      "[Parallel(n_jobs=1)]: Done 200 out of 200 | elapsed:    0.0s finished\n",
      "[Parallel(n_jobs=1)]: Using backend SequentialBackend with 1 concurrent workers.\n",
      "[Parallel(n_jobs=1)]: Done 200 out of 200 | elapsed:    0.1s finished\n",
      "[Parallel(n_jobs=1)]: Using backend SequentialBackend with 1 concurrent workers.\n",
      "[Parallel(n_jobs=1)]: Done 200 out of 200 | elapsed:    0.0s finished\n",
      "[Parallel(n_jobs=1)]: Using backend SequentialBackend with 1 concurrent workers.\n",
      "[Parallel(n_jobs=1)]: Done 200 out of 200 | elapsed:    0.1s finished\n",
      "[Parallel(n_jobs=1)]: Using backend SequentialBackend with 1 concurrent workers.\n",
      "[Parallel(n_jobs=1)]: Done 200 out of 200 | elapsed:    0.0s finished\n",
      "[Parallel(n_jobs=1)]: Using backend SequentialBackend with 1 concurrent workers.\n",
      "[Parallel(n_jobs=1)]: Done 200 out of 200 | elapsed:    0.0s finished\n",
      "[Parallel(n_jobs=1)]: Using backend SequentialBackend with 1 concurrent workers.\n",
      "[Parallel(n_jobs=1)]: Done 200 out of 200 | elapsed:    0.0s finished\n",
      "[Parallel(n_jobs=1)]: Using backend SequentialBackend with 1 concurrent workers.\n",
      "[Parallel(n_jobs=1)]: Done 200 out of 200 | elapsed:    0.0s finished\n",
      "[Parallel(n_jobs=1)]: Using backend SequentialBackend with 1 concurrent workers.\n",
      "[Parallel(n_jobs=1)]: Done 200 out of 200 | elapsed:    0.0s finished\n",
      "[Parallel(n_jobs=1)]: Using backend SequentialBackend with 1 concurrent workers.\n",
      "[Parallel(n_jobs=1)]: Done 200 out of 200 | elapsed:    0.0s finished\n",
      "[Parallel(n_jobs=1)]: Using backend SequentialBackend with 1 concurrent workers.\n",
      "[Parallel(n_jobs=1)]: Done 200 out of 200 | elapsed:    0.0s finished\n",
      "[Parallel(n_jobs=1)]: Using backend SequentialBackend with 1 concurrent workers.\n",
      "[Parallel(n_jobs=1)]: Done 200 out of 200 | elapsed:    0.1s finished\n",
      "[Parallel(n_jobs=1)]: Using backend SequentialBackend with 1 concurrent workers.\n",
      "[Parallel(n_jobs=1)]: Done 200 out of 200 | elapsed:    0.0s finished\n",
      "[Parallel(n_jobs=1)]: Using backend SequentialBackend with 1 concurrent workers.\n",
      "[Parallel(n_jobs=1)]: Done 200 out of 200 | elapsed:    0.0s finished\n",
      "[Parallel(n_jobs=1)]: Using backend SequentialBackend with 1 concurrent workers.\n",
      "[Parallel(n_jobs=1)]: Done 200 out of 200 | elapsed:    0.0s finished\n",
      "[Parallel(n_jobs=1)]: Using backend SequentialBackend with 1 concurrent workers.\n",
      "[Parallel(n_jobs=1)]: Done 200 out of 200 | elapsed:    0.0s finished\n",
      "[Parallel(n_jobs=1)]: Using backend SequentialBackend with 1 concurrent workers.\n",
      "[Parallel(n_jobs=1)]: Done 200 out of 200 | elapsed:    0.0s finished\n",
      "[Parallel(n_jobs=1)]: Using backend SequentialBackend with 1 concurrent workers.\n",
      "[Parallel(n_jobs=1)]: Done 200 out of 200 | elapsed:    0.0s finished\n",
      "[Parallel(n_jobs=1)]: Using backend SequentialBackend with 1 concurrent workers.\n",
      "[Parallel(n_jobs=1)]: Done 200 out of 200 | elapsed:    0.0s finished\n",
      "[Parallel(n_jobs=1)]: Using backend SequentialBackend with 1 concurrent workers.\n"
     ]
    },
    {
     "name": "stderr",
     "output_type": "stream",
     "text": [
      "[Parallel(n_jobs=1)]: Done 200 out of 200 | elapsed:    0.1s finished\n",
      "[Parallel(n_jobs=1)]: Using backend SequentialBackend with 1 concurrent workers.\n",
      "[Parallel(n_jobs=1)]: Done 200 out of 200 | elapsed:    0.0s finished\n",
      "[Parallel(n_jobs=1)]: Using backend SequentialBackend with 1 concurrent workers.\n",
      "[Parallel(n_jobs=1)]: Done 200 out of 200 | elapsed:    0.1s finished\n",
      "[Parallel(n_jobs=1)]: Using backend SequentialBackend with 1 concurrent workers.\n",
      "[Parallel(n_jobs=1)]: Done 200 out of 200 | elapsed:    0.0s finished\n",
      "[Parallel(n_jobs=1)]: Using backend SequentialBackend with 1 concurrent workers.\n",
      "[Parallel(n_jobs=1)]: Done 200 out of 200 | elapsed:    0.1s finished\n",
      "[Parallel(n_jobs=1)]: Using backend SequentialBackend with 1 concurrent workers.\n",
      "[Parallel(n_jobs=1)]: Done 200 out of 200 | elapsed:    0.0s finished\n",
      "[Parallel(n_jobs=1)]: Using backend SequentialBackend with 1 concurrent workers.\n",
      "[Parallel(n_jobs=1)]: Done 200 out of 200 | elapsed:    0.1s finished\n",
      "[Parallel(n_jobs=1)]: Using backend SequentialBackend with 1 concurrent workers.\n",
      "[Parallel(n_jobs=1)]: Done 200 out of 200 | elapsed:    0.0s finished\n",
      "[Parallel(n_jobs=1)]: Using backend SequentialBackend with 1 concurrent workers.\n",
      "[Parallel(n_jobs=1)]: Done 200 out of 200 | elapsed:    0.1s finished\n",
      "[Parallel(n_jobs=1)]: Using backend SequentialBackend with 1 concurrent workers.\n",
      "[Parallel(n_jobs=1)]: Done 200 out of 200 | elapsed:    0.0s finished\n",
      "[Parallel(n_jobs=1)]: Using backend SequentialBackend with 1 concurrent workers.\n",
      "[Parallel(n_jobs=1)]: Done 200 out of 200 | elapsed:    0.0s finished\n",
      "[Parallel(n_jobs=1)]: Using backend SequentialBackend with 1 concurrent workers.\n",
      "[Parallel(n_jobs=1)]: Done 200 out of 200 | elapsed:    0.0s finished\n",
      "[Parallel(n_jobs=1)]: Using backend SequentialBackend with 1 concurrent workers.\n",
      "[Parallel(n_jobs=1)]: Done 200 out of 200 | elapsed:    0.0s finished\n",
      "[Parallel(n_jobs=1)]: Using backend SequentialBackend with 1 concurrent workers.\n",
      "[Parallel(n_jobs=1)]: Done 200 out of 200 | elapsed:    0.0s finished\n",
      "[Parallel(n_jobs=1)]: Using backend SequentialBackend with 1 concurrent workers.\n",
      "[Parallel(n_jobs=1)]: Done 200 out of 200 | elapsed:    0.0s finished\n",
      "[Parallel(n_jobs=1)]: Using backend SequentialBackend with 1 concurrent workers.\n",
      "[Parallel(n_jobs=1)]: Done 200 out of 200 | elapsed:    0.0s finished\n",
      "[Parallel(n_jobs=1)]: Using backend SequentialBackend with 1 concurrent workers.\n",
      "[Parallel(n_jobs=1)]: Done 200 out of 200 | elapsed:    0.0s finished\n",
      "[Parallel(n_jobs=1)]: Using backend SequentialBackend with 1 concurrent workers.\n",
      "[Parallel(n_jobs=1)]: Done 200 out of 200 | elapsed:    0.0s finished\n",
      "[Parallel(n_jobs=1)]: Using backend SequentialBackend with 1 concurrent workers.\n",
      "[Parallel(n_jobs=1)]: Done 200 out of 200 | elapsed:    0.0s finished\n",
      "[Parallel(n_jobs=1)]: Using backend SequentialBackend with 1 concurrent workers.\n",
      "[Parallel(n_jobs=1)]: Done 200 out of 200 | elapsed:    0.0s finished\n",
      "[Parallel(n_jobs=1)]: Using backend SequentialBackend with 1 concurrent workers.\n",
      "[Parallel(n_jobs=1)]: Done 200 out of 200 | elapsed:    0.1s finished\n",
      "[Parallel(n_jobs=1)]: Using backend SequentialBackend with 1 concurrent workers.\n",
      "[Parallel(n_jobs=1)]: Done 200 out of 200 | elapsed:    0.0s finished\n",
      "[Parallel(n_jobs=1)]: Using backend SequentialBackend with 1 concurrent workers.\n",
      "[Parallel(n_jobs=1)]: Done 200 out of 200 | elapsed:    0.0s finished\n",
      "[Parallel(n_jobs=1)]: Using backend SequentialBackend with 1 concurrent workers.\n",
      "[Parallel(n_jobs=1)]: Done 200 out of 200 | elapsed:    0.0s finished\n",
      "[Parallel(n_jobs=1)]: Using backend SequentialBackend with 1 concurrent workers.\n",
      "[Parallel(n_jobs=1)]: Done 200 out of 200 | elapsed:    0.0s finished\n",
      "[Parallel(n_jobs=1)]: Using backend SequentialBackend with 1 concurrent workers.\n",
      "[Parallel(n_jobs=1)]: Done 200 out of 200 | elapsed:    0.0s finished\n",
      "[Parallel(n_jobs=1)]: Using backend SequentialBackend with 1 concurrent workers.\n",
      "[Parallel(n_jobs=1)]: Done 200 out of 200 | elapsed:    0.1s finished\n",
      "[Parallel(n_jobs=1)]: Using backend SequentialBackend with 1 concurrent workers.\n",
      "[Parallel(n_jobs=1)]: Done 200 out of 200 | elapsed:    0.0s finished\n",
      "[Parallel(n_jobs=1)]: Using backend SequentialBackend with 1 concurrent workers.\n",
      "[Parallel(n_jobs=1)]: Done 200 out of 200 | elapsed:    0.1s finished\n",
      "[Parallel(n_jobs=1)]: Using backend SequentialBackend with 1 concurrent workers.\n",
      "[Parallel(n_jobs=1)]: Done 200 out of 200 | elapsed:    0.0s finished\n",
      "[Parallel(n_jobs=1)]: Using backend SequentialBackend with 1 concurrent workers.\n",
      "[Parallel(n_jobs=1)]: Done 200 out of 200 | elapsed:    0.1s finished\n",
      "[Parallel(n_jobs=1)]: Using backend SequentialBackend with 1 concurrent workers.\n",
      "[Parallel(n_jobs=1)]: Done 200 out of 200 | elapsed:    0.0s finished\n",
      "[Parallel(n_jobs=1)]: Using backend SequentialBackend with 1 concurrent workers.\n",
      "[Parallel(n_jobs=1)]: Done 200 out of 200 | elapsed:    0.0s finished\n",
      "[Parallel(n_jobs=1)]: Using backend SequentialBackend with 1 concurrent workers.\n",
      "[Parallel(n_jobs=1)]: Done 200 out of 200 | elapsed:    0.0s finished\n",
      "[Parallel(n_jobs=1)]: Using backend SequentialBackend with 1 concurrent workers.\n",
      "[Parallel(n_jobs=1)]: Done 200 out of 200 | elapsed:    0.0s finished\n",
      "[Parallel(n_jobs=1)]: Using backend SequentialBackend with 1 concurrent workers.\n",
      "[Parallel(n_jobs=1)]: Done 200 out of 200 | elapsed:    0.0s finished\n",
      "[Parallel(n_jobs=1)]: Using backend SequentialBackend with 1 concurrent workers.\n",
      "[Parallel(n_jobs=1)]: Done 200 out of 200 | elapsed:    0.0s finished\n",
      "[Parallel(n_jobs=1)]: Using backend SequentialBackend with 1 concurrent workers.\n",
      "[Parallel(n_jobs=1)]: Done 200 out of 200 | elapsed:    0.0s finished\n",
      "[Parallel(n_jobs=1)]: Using backend SequentialBackend with 1 concurrent workers.\n",
      "[Parallel(n_jobs=1)]: Done 200 out of 200 | elapsed:    0.1s finished\n",
      "[Parallel(n_jobs=1)]: Using backend SequentialBackend with 1 concurrent workers.\n",
      "[Parallel(n_jobs=1)]: Done 200 out of 200 | elapsed:    0.0s finished\n",
      "[Parallel(n_jobs=1)]: Using backend SequentialBackend with 1 concurrent workers.\n",
      "[Parallel(n_jobs=1)]: Done 200 out of 200 | elapsed:    0.1s finished\n",
      "[Parallel(n_jobs=1)]: Using backend SequentialBackend with 1 concurrent workers.\n",
      "[Parallel(n_jobs=1)]: Done 200 out of 200 | elapsed:    0.0s finished\n",
      "[Parallel(n_jobs=1)]: Using backend SequentialBackend with 1 concurrent workers.\n",
      "[Parallel(n_jobs=1)]: Done 200 out of 200 | elapsed:    0.1s finished\n",
      "[Parallel(n_jobs=1)]: Using backend SequentialBackend with 1 concurrent workers.\n",
      "[Parallel(n_jobs=1)]: Done 200 out of 200 | elapsed:    0.0s finished\n",
      "[Parallel(n_jobs=1)]: Using backend SequentialBackend with 1 concurrent workers.\n",
      "[Parallel(n_jobs=1)]: Done 200 out of 200 | elapsed:    0.1s finished\n",
      "[Parallel(n_jobs=1)]: Using backend SequentialBackend with 1 concurrent workers.\n",
      "[Parallel(n_jobs=1)]: Done 200 out of 200 | elapsed:    0.0s finished\n",
      "[Parallel(n_jobs=1)]: Using backend SequentialBackend with 1 concurrent workers.\n",
      "[Parallel(n_jobs=1)]: Done 200 out of 200 | elapsed:    0.1s finished\n",
      "[Parallel(n_jobs=1)]: Using backend SequentialBackend with 1 concurrent workers.\n",
      "[Parallel(n_jobs=1)]: Done 200 out of 200 | elapsed:    0.0s finished\n",
      "[Parallel(n_jobs=1)]: Using backend SequentialBackend with 1 concurrent workers.\n",
      "[Parallel(n_jobs=1)]: Done 200 out of 200 | elapsed:    0.1s finished\n",
      "[Parallel(n_jobs=1)]: Using backend SequentialBackend with 1 concurrent workers.\n",
      "[Parallel(n_jobs=1)]: Done 200 out of 200 | elapsed:    0.0s finished\n",
      "[Parallel(n_jobs=1)]: Using backend SequentialBackend with 1 concurrent workers.\n",
      "[Parallel(n_jobs=1)]: Done 200 out of 200 | elapsed:    0.1s finished\n",
      "[Parallel(n_jobs=1)]: Using backend SequentialBackend with 1 concurrent workers.\n",
      "[Parallel(n_jobs=1)]: Done 200 out of 200 | elapsed:    0.0s finished\n",
      "[Parallel(n_jobs=1)]: Using backend SequentialBackend with 1 concurrent workers.\n",
      "[Parallel(n_jobs=1)]: Done 200 out of 200 | elapsed:    0.0s finished\n",
      "[Parallel(n_jobs=1)]: Using backend SequentialBackend with 1 concurrent workers.\n",
      "[Parallel(n_jobs=1)]: Done 200 out of 200 | elapsed:    0.0s finished\n",
      "[Parallel(n_jobs=1)]: Using backend SequentialBackend with 1 concurrent workers.\n",
      "[Parallel(n_jobs=1)]: Done 200 out of 200 | elapsed:    0.1s finished\n",
      "[Parallel(n_jobs=1)]: Using backend SequentialBackend with 1 concurrent workers.\n",
      "[Parallel(n_jobs=1)]: Done 200 out of 200 | elapsed:    0.0s finished\n",
      "[Parallel(n_jobs=1)]: Using backend SequentialBackend with 1 concurrent workers.\n"
     ]
    },
    {
     "name": "stderr",
     "output_type": "stream",
     "text": [
      "[Parallel(n_jobs=1)]: Done 200 out of 200 | elapsed:    0.0s finished\n",
      "[Parallel(n_jobs=1)]: Using backend SequentialBackend with 1 concurrent workers.\n",
      "[Parallel(n_jobs=1)]: Done 200 out of 200 | elapsed:    0.0s finished\n",
      "[Parallel(n_jobs=1)]: Using backend SequentialBackend with 1 concurrent workers.\n",
      "[Parallel(n_jobs=1)]: Done 200 out of 200 | elapsed:    0.1s finished\n",
      "[Parallel(n_jobs=1)]: Using backend SequentialBackend with 1 concurrent workers.\n",
      "[Parallel(n_jobs=1)]: Done 200 out of 200 | elapsed:    0.0s finished\n",
      "[Parallel(n_jobs=1)]: Using backend SequentialBackend with 1 concurrent workers.\n",
      "[Parallel(n_jobs=1)]: Done 200 out of 200 | elapsed:    0.0s finished\n",
      "[Parallel(n_jobs=1)]: Using backend SequentialBackend with 1 concurrent workers.\n",
      "[Parallel(n_jobs=1)]: Done 200 out of 200 | elapsed:    0.0s finished\n",
      "[Parallel(n_jobs=1)]: Using backend SequentialBackend with 1 concurrent workers.\n",
      "[Parallel(n_jobs=1)]: Done 200 out of 200 | elapsed:    0.1s finished\n",
      "[Parallel(n_jobs=1)]: Using backend SequentialBackend with 1 concurrent workers.\n",
      "[Parallel(n_jobs=1)]: Done 200 out of 200 | elapsed:    0.0s finished\n",
      "[Parallel(n_jobs=1)]: Using backend SequentialBackend with 1 concurrent workers.\n",
      "[Parallel(n_jobs=1)]: Done 200 out of 200 | elapsed:    0.1s finished\n",
      "[Parallel(n_jobs=1)]: Using backend SequentialBackend with 1 concurrent workers.\n",
      "[Parallel(n_jobs=1)]: Done 200 out of 200 | elapsed:    0.0s finished\n",
      "[Parallel(n_jobs=1)]: Using backend SequentialBackend with 1 concurrent workers.\n",
      "[Parallel(n_jobs=1)]: Done 200 out of 200 | elapsed:    0.1s finished\n",
      "[Parallel(n_jobs=1)]: Using backend SequentialBackend with 1 concurrent workers.\n",
      "[Parallel(n_jobs=1)]: Done 200 out of 200 | elapsed:    0.0s finished\n",
      "[Parallel(n_jobs=1)]: Using backend SequentialBackend with 1 concurrent workers.\n",
      "[Parallel(n_jobs=1)]: Done 200 out of 200 | elapsed:    0.1s finished\n",
      "[Parallel(n_jobs=1)]: Using backend SequentialBackend with 1 concurrent workers.\n",
      "[Parallel(n_jobs=1)]: Done 200 out of 200 | elapsed:    0.0s finished\n",
      "[Parallel(n_jobs=1)]: Using backend SequentialBackend with 1 concurrent workers.\n",
      "[Parallel(n_jobs=1)]: Done 200 out of 200 | elapsed:    0.0s finished\n",
      "[Parallel(n_jobs=1)]: Using backend SequentialBackend with 1 concurrent workers.\n",
      "[Parallel(n_jobs=1)]: Done 200 out of 200 | elapsed:    0.0s finished\n",
      "[Parallel(n_jobs=1)]: Using backend SequentialBackend with 1 concurrent workers.\n",
      "[Parallel(n_jobs=1)]: Done 200 out of 200 | elapsed:    0.1s finished\n",
      "[Parallel(n_jobs=1)]: Using backend SequentialBackend with 1 concurrent workers.\n",
      "[Parallel(n_jobs=1)]: Done 200 out of 200 | elapsed:    0.0s finished\n",
      "[Parallel(n_jobs=1)]: Using backend SequentialBackend with 1 concurrent workers.\n",
      "[Parallel(n_jobs=1)]: Done 200 out of 200 | elapsed:    0.0s finished\n",
      "[Parallel(n_jobs=1)]: Using backend SequentialBackend with 1 concurrent workers.\n",
      "[Parallel(n_jobs=1)]: Done 200 out of 200 | elapsed:    0.0s finished\n",
      "[Parallel(n_jobs=1)]: Using backend SequentialBackend with 1 concurrent workers.\n",
      "[Parallel(n_jobs=1)]: Done 200 out of 200 | elapsed:    0.1s finished\n",
      "[Parallel(n_jobs=1)]: Using backend SequentialBackend with 1 concurrent workers.\n",
      "[Parallel(n_jobs=1)]: Done 200 out of 200 | elapsed:    0.0s finished\n",
      "[Parallel(n_jobs=1)]: Using backend SequentialBackend with 1 concurrent workers.\n",
      "[Parallel(n_jobs=1)]: Done 200 out of 200 | elapsed:    0.0s finished\n",
      "[Parallel(n_jobs=1)]: Using backend SequentialBackend with 1 concurrent workers.\n",
      "[Parallel(n_jobs=1)]: Done 200 out of 200 | elapsed:    0.0s finished\n",
      "[Parallel(n_jobs=1)]: Using backend SequentialBackend with 1 concurrent workers.\n",
      "[Parallel(n_jobs=1)]: Done 200 out of 200 | elapsed:    0.1s finished\n",
      "[Parallel(n_jobs=1)]: Using backend SequentialBackend with 1 concurrent workers.\n",
      "[Parallel(n_jobs=1)]: Done 200 out of 200 | elapsed:    0.0s finished\n",
      "[Parallel(n_jobs=1)]: Using backend SequentialBackend with 1 concurrent workers.\n",
      "[Parallel(n_jobs=1)]: Done 200 out of 200 | elapsed:    0.0s finished\n",
      "[Parallel(n_jobs=1)]: Using backend SequentialBackend with 1 concurrent workers.\n",
      "[Parallel(n_jobs=1)]: Done 200 out of 200 | elapsed:    0.0s finished\n",
      "[Parallel(n_jobs=1)]: Using backend SequentialBackend with 1 concurrent workers.\n",
      "[Parallel(n_jobs=1)]: Done 200 out of 200 | elapsed:    0.1s finished\n",
      "[Parallel(n_jobs=1)]: Using backend SequentialBackend with 1 concurrent workers.\n",
      "[Parallel(n_jobs=1)]: Done 200 out of 200 | elapsed:    0.0s finished\n",
      "[Parallel(n_jobs=1)]: Using backend SequentialBackend with 1 concurrent workers.\n"
     ]
    },
    {
     "name": "stdout",
     "output_type": "stream",
     "text": [
      "best mean cross-validation score: 0.956\n",
      "best parameters: {'max_depth': 8}\n"
     ]
    },
    {
     "name": "stderr",
     "output_type": "stream",
     "text": [
      "[Parallel(n_jobs=1)]: Done 200 out of 200 | elapsed:    0.1s finished\n"
     ]
    },
    {
     "data": {
      "text/plain": [
       "Text(0, 0.5, '10-fold ACC')"
      ]
     },
     "execution_count": 122,
     "metadata": {},
     "output_type": "execute_result"
    },
    {
     "data": {
      "image/png": "[encoded data removed]",
      "text/plain": [
       "<Figure size 432x288 with 1 Axes>"
      ]
     },
     "metadata": {
      "needs_background": "light"
     },
     "output_type": "display_data"
    }
   ],
   "source": [
    "# grid search\n",
    "maxDepth = range(1,15, 1)\n",
    "tuned_parameters = {'max_depth': maxDepth}\n",
    "\n",
    "grid = GridSearchCV(RandomForestClassifier(random_state=0, n_estimators=200, max_features='sqrt', verbose = 1), \n",
    "                    param_grid=tuned_parameters,cv=5) \n",
    "grid.fit(X_train, y_train)\n",
    "\n",
    "print(\"best mean cross-validation score: {:.3f}\".format(grid.best_score_))\n",
    "print(\"best parameters: {}\".format(grid.best_params_))\n",
    "\n",
    "scores = np.array(grid.cv_results_['mean_test_score'])\n",
    "plt.plot(maxDepth,scores,'-o')\n",
    "plt.xlabel('max_depth')\n",
    "plt.ylabel('10-fold ACC')"
   ]
  },
  {
   "cell_type": "markdown",
   "metadata": {
    "id": "PrS3RWzGkaNT"
   },
   "source": [
    "Vemos que conseguimos un accuracy de 0.95 con apenas una profundidad de 4. Para evitar overfitting nos quedamos con este hiperparámetro. Haciendo el fit obtenemos un accuracy muy satisfactorio, de más del 90% en test!!"
   ]
  },
  {
   "cell_type": "code",
   "execution_count": 123,
   "metadata": {
    "colab": {
     "base_uri": "https://localhost:8080/"
    },
    "executionInfo": {
     "elapsed": 611,
     "status": "ok",
     "timestamp": 1630930171113,
     "user": {
      "displayName": "Guillermo Barrio",
      "photoUrl": "",
      "userId": "06925154007558381895"
     },
     "user_tz": -120
    },
    "id": "soxvKtPCyoQA",
    "outputId": "dbc3c03f-da6b-4251-c6e1-28d7cb90326f"
   },
   "outputs": [
    {
     "name": "stdout",
     "output_type": "stream",
     "text": [
      "Train:  0.9659863945578231\n",
      "Test:  0.9324324324324325\n"
     ]
    }
   ],
   "source": [
    "# maxDepthOptimo = grid.best_params_['max_depth']\n",
    "cis_malaga_model = RandomForestClassifier(max_depth = 4, n_estimators=200, max_features='sqrt').fit(X_train,y_train)\n",
    "\n",
    "print(\"Train: \",cis_malaga_model.score(X_train,y_train))\n",
    "print(\"Test: \",cis_malaga_model.score(X_test,y_test))"
   ]
  },
  {
   "cell_type": "code",
   "execution_count": null,
   "metadata": {
    "id": "cS5aqjF03qK1"
   },
   "outputs": [],
   "source": []
  },
  {
   "cell_type": "code",
   "execution_count": null,
   "metadata": {
    "id": "SfG1aZvR5dtF"
   },
   "outputs": [],
   "source": []
  },
  {
   "cell_type": "markdown",
   "metadata": {
    "id": "W2WFnqWFqhoE"
   },
   "source": [
    "## Producción - Estimación de la intención de voto"
   ]
  },
  {
   "cell_type": "markdown",
   "metadata": {
    "id": "8PgosTbwk8Zr"
   },
   "source": [
    "Ahora debemos utilizar nuestro modelo en aquellos registros donde NO tenemos la intención de voto. que seleccionamos del dataset completo de Málaga a continuación."
   ]
  },
  {
   "cell_type": "code",
   "execution_count": 124,
   "metadata": {
    "executionInfo": {
     "elapsed": 555,
     "status": "ok",
     "timestamp": 1630930177061,
     "user": {
      "displayName": "Guillermo Barrio",
      "photoUrl": "",
      "userId": "06925154007558381895"
     },
     "user_tz": -120
    },
    "id": "gHQIiVaB3qH7"
   },
   "outputs": [],
   "source": [
    "cis_malaga_producccion = cis_malaga[cis_malaga['P9'].isna()]"
   ]
  },
  {
   "cell_type": "code",
   "execution_count": 125,
   "metadata": {
    "colab": {
     "base_uri": "https://localhost:8080/",
     "height": 1000
    },
    "executionInfo": {
     "elapsed": 241,
     "status": "ok",
     "timestamp": 1630930179657,
     "user": {
      "displayName": "Guillermo Barrio",
      "photoUrl": "",
      "userId": "06925154007558381895"
     },
     "user_tz": -120
    },
    "id": "RSGF07ah3qE3",
    "outputId": "c4f5c927-d893-44bc-b686-9e7ef66467b7"
   },
   "outputs": [
    {
     "data": {
      "text/html": [
       "<div>\n",
       "<style scoped>\n",
       "    .dataframe tbody tr th:only-of-type {\n",
       "        vertical-align: middle;\n",
       "    }\n",
       "\n",
       "    .dataframe tbody tr th {\n",
       "        vertical-align: top;\n",
       "    }\n",
       "\n",
       "    .dataframe thead th {\n",
       "        text-align: right;\n",
       "    }\n",
       "</style>\n",
       "<table border=\"1\" class=\"dataframe\">\n",
       "  <thead>\n",
       "    <tr style=\"text-align: right;\">\n",
       "      <th></th>\n",
       "      <th>TAMUNI</th>\n",
       "      <th>CAPITAL</th>\n",
       "      <th>P1</th>\n",
       "      <th>P2</th>\n",
       "      <th>P3</th>\n",
       "      <th>P4</th>\n",
       "      <th>P601</th>\n",
       "      <th>P701</th>\n",
       "      <th>P8</th>\n",
       "      <th>P8A</th>\n",
       "      <th>...</th>\n",
       "      <th>P1903</th>\n",
       "      <th>P1904</th>\n",
       "      <th>P1905</th>\n",
       "      <th>P1906</th>\n",
       "      <th>P23</th>\n",
       "      <th>P24</th>\n",
       "      <th>P25</th>\n",
       "      <th>P25A</th>\n",
       "      <th>P26</th>\n",
       "      <th>P27</th>\n",
       "    </tr>\n",
       "  </thead>\n",
       "  <tbody>\n",
       "    <tr>\n",
       "      <th>9773</th>\n",
       "      <td>100.001 a 400.000 habitantes</td>\n",
       "      <td>Otros municipios</td>\n",
       "      <td>Poco</td>\n",
       "      <td>De vez en cuando</td>\n",
       "      <td>Regular</td>\n",
       "      <td>Buena</td>\n",
       "      <td>La corrupción y el fraude</td>\n",
       "      <td>Ninguno</td>\n",
       "      <td>Sí, con toda seguridad</td>\n",
       "      <td>No, no lo ha decidido aún</td>\n",
       "      <td>...</td>\n",
       "      <td>5</td>\n",
       "      <td>2</td>\n",
       "      <td>2</td>\n",
       "      <td>8</td>\n",
       "      <td>Mujer</td>\n",
       "      <td>26</td>\n",
       "      <td>Sí, ha ido a la escuela</td>\n",
       "      <td>Universitarios superiores (licenciatura, grado...</td>\n",
       "      <td>Trabaja</td>\n",
       "      <td>Agnóstico/a</td>\n",
       "    </tr>\n",
       "    <tr>\n",
       "      <th>9776</th>\n",
       "      <td>100.001 a 400.000 habitantes</td>\n",
       "      <td>Otros municipios</td>\n",
       "      <td>Bastante</td>\n",
       "      <td>De vez en cuando</td>\n",
       "      <td>Regular</td>\n",
       "      <td>Regular</td>\n",
       "      <td>La corrupción y el fraude</td>\n",
       "      <td>N.S.</td>\n",
       "      <td>Sí, con toda seguridad</td>\n",
       "      <td>No, no lo ha decidido aún</td>\n",
       "      <td>...</td>\n",
       "      <td>7</td>\n",
       "      <td>2</td>\n",
       "      <td>2</td>\n",
       "      <td>9</td>\n",
       "      <td>Mujer</td>\n",
       "      <td>48</td>\n",
       "      <td>Sí, ha ido a la escuela</td>\n",
       "      <td>Formación Profesional de Grado Superior (FP II)</td>\n",
       "      <td>Trabaja</td>\n",
       "      <td>Católico/a no practicante</td>\n",
       "    </tr>\n",
       "    <tr>\n",
       "      <th>9788</th>\n",
       "      <td>10.001 a 50.000 habitantes</td>\n",
       "      <td>Otros municipios</td>\n",
       "      <td>Nada</td>\n",
       "      <td>De vez en cuando</td>\n",
       "      <td>Muy mala</td>\n",
       "      <td>Regular</td>\n",
       "      <td>La corrupción y el fraude</td>\n",
       "      <td>Los/as políticos/as en general, los partidos y...</td>\n",
       "      <td>Sí, con toda seguridad</td>\n",
       "      <td>Sí, lo tiene decidido</td>\n",
       "      <td>...</td>\n",
       "      <td>5</td>\n",
       "      <td>3</td>\n",
       "      <td>2</td>\n",
       "      <td>9</td>\n",
       "      <td>Mujer</td>\n",
       "      <td>30</td>\n",
       "      <td>Sí, ha ido a la escuela</td>\n",
       "      <td>Bachillerato/COU/PREU (Bachillerato Superior, ...</td>\n",
       "      <td>Trabaja</td>\n",
       "      <td>Católico/a no practicante</td>\n",
       "    </tr>\n",
       "    <tr>\n",
       "      <th>9794</th>\n",
       "      <td>10.001 a 50.000 habitantes</td>\n",
       "      <td>Otros municipios</td>\n",
       "      <td>Poco</td>\n",
       "      <td>Rara vez</td>\n",
       "      <td>Regular</td>\n",
       "      <td>Mala</td>\n",
       "      <td>La corrupción y el fraude</td>\n",
       "      <td>La educación</td>\n",
       "      <td>Sí, con toda seguridad</td>\n",
       "      <td>No, no lo ha decidido aún</td>\n",
       "      <td>...</td>\n",
       "      <td>5</td>\n",
       "      <td>1</td>\n",
       "      <td>1</td>\n",
       "      <td>10</td>\n",
       "      <td>Hombre</td>\n",
       "      <td>21</td>\n",
       "      <td>Sí, ha ido a la escuela</td>\n",
       "      <td>Bachillerato/COU/PREU (Bachillerato Superior, ...</td>\n",
       "      <td>Estudiante</td>\n",
       "      <td>Católico/a no practicante</td>\n",
       "    </tr>\n",
       "    <tr>\n",
       "      <th>9797</th>\n",
       "      <td>10.001 a 50.000 habitantes</td>\n",
       "      <td>Otros municipios</td>\n",
       "      <td>Bastante</td>\n",
       "      <td>Rara vez</td>\n",
       "      <td>Muy mala</td>\n",
       "      <td>Mala</td>\n",
       "      <td>El paro</td>\n",
       "      <td>Ninguno</td>\n",
       "      <td>Probablemente sí</td>\n",
       "      <td>No, no lo ha decidido aún</td>\n",
       "      <td>...</td>\n",
       "      <td>7</td>\n",
       "      <td>2</td>\n",
       "      <td>2</td>\n",
       "      <td>10</td>\n",
       "      <td>Hombre</td>\n",
       "      <td>65</td>\n",
       "      <td>Sí, ha ido a la escuela</td>\n",
       "      <td>Universitarios superiores (licenciatura, grado...</td>\n",
       "      <td>Jubilado/a o pensionista (anteriormente ha tra...</td>\n",
       "      <td>Católico/a no practicante</td>\n",
       "    </tr>\n",
       "    <tr>\n",
       "      <th>...</th>\n",
       "      <td>...</td>\n",
       "      <td>...</td>\n",
       "      <td>...</td>\n",
       "      <td>...</td>\n",
       "      <td>...</td>\n",
       "      <td>...</td>\n",
       "      <td>...</td>\n",
       "      <td>...</td>\n",
       "      <td>...</td>\n",
       "      <td>...</td>\n",
       "      <td>...</td>\n",
       "      <td>...</td>\n",
       "      <td>...</td>\n",
       "      <td>...</td>\n",
       "      <td>...</td>\n",
       "      <td>...</td>\n",
       "      <td>...</td>\n",
       "      <td>...</td>\n",
       "      <td>...</td>\n",
       "      <td>...</td>\n",
       "      <td>...</td>\n",
       "    </tr>\n",
       "    <tr>\n",
       "      <th>10240</th>\n",
       "      <td>400.001 a 1.000.000 habitantes</td>\n",
       "      <td>Capital de provincia</td>\n",
       "      <td>Poco</td>\n",
       "      <td>De vez en cuando</td>\n",
       "      <td>Mala</td>\n",
       "      <td>Mala</td>\n",
       "      <td>El paro</td>\n",
       "      <td>Las pensiones</td>\n",
       "      <td>Sí, con toda seguridad</td>\n",
       "      <td>No, no lo ha decidido aún</td>\n",
       "      <td>...</td>\n",
       "      <td>4</td>\n",
       "      <td>2</td>\n",
       "      <td>3</td>\n",
       "      <td>8</td>\n",
       "      <td>Mujer</td>\n",
       "      <td>82</td>\n",
       "      <td>Sí, ha ido a la escuela</td>\n",
       "      <td>Primaria (enseñanza primaria o hasta 5º de EGB)</td>\n",
       "      <td>Pensionista (anteriormente no ha trabajado)</td>\n",
       "      <td>Católico/a no practicante</td>\n",
       "    </tr>\n",
       "    <tr>\n",
       "      <th>10241</th>\n",
       "      <td>400.001 a 1.000.000 habitantes</td>\n",
       "      <td>Capital de provincia</td>\n",
       "      <td>Poco</td>\n",
       "      <td>Habitualmente</td>\n",
       "      <td>Mala</td>\n",
       "      <td>Regular</td>\n",
       "      <td>La inseguridad ciudadana</td>\n",
       "      <td>Las pensiones</td>\n",
       "      <td>Sí, con toda seguridad</td>\n",
       "      <td>No, no lo ha decidido aún</td>\n",
       "      <td>...</td>\n",
       "      <td>6</td>\n",
       "      <td>2</td>\n",
       "      <td>2</td>\n",
       "      <td>8</td>\n",
       "      <td>Hombre</td>\n",
       "      <td>64</td>\n",
       "      <td>Sí, ha ido a la escuela</td>\n",
       "      <td>Bachillerato/COU/PREU (Bachillerato Superior, ...</td>\n",
       "      <td>Jubilado/a o pensionista (anteriormente ha tra...</td>\n",
       "      <td>Católico/a no practicante</td>\n",
       "    </tr>\n",
       "    <tr>\n",
       "      <th>10248</th>\n",
       "      <td>400.001 a 1.000.000 habitantes</td>\n",
       "      <td>Capital de provincia</td>\n",
       "      <td>Nada</td>\n",
       "      <td>De vez en cuando</td>\n",
       "      <td>Muy mala</td>\n",
       "      <td>Muy mala</td>\n",
       "      <td>Independencia de Cataluña</td>\n",
       "      <td>Los problemas relacionados con la calidad del ...</td>\n",
       "      <td>Sí, con toda seguridad</td>\n",
       "      <td>No, no lo ha decidido aún</td>\n",
       "      <td>...</td>\n",
       "      <td>6</td>\n",
       "      <td>3</td>\n",
       "      <td>4</td>\n",
       "      <td>9</td>\n",
       "      <td>Mujer</td>\n",
       "      <td>57</td>\n",
       "      <td>Sí, ha ido a la escuela</td>\n",
       "      <td>Primaria (enseñanza primaria o hasta 5º de EGB)</td>\n",
       "      <td>Trabaja</td>\n",
       "      <td>Católico/a no practicante</td>\n",
       "    </tr>\n",
       "    <tr>\n",
       "      <th>10249</th>\n",
       "      <td>400.001 a 1.000.000 habitantes</td>\n",
       "      <td>Capital de provincia</td>\n",
       "      <td>Bastante</td>\n",
       "      <td>De vez en cuando</td>\n",
       "      <td>Muy mala</td>\n",
       "      <td>Muy mala</td>\n",
       "      <td>Los/as políticos/as en general, los partidos y...</td>\n",
       "      <td>El paro</td>\n",
       "      <td>Sí, con toda seguridad</td>\n",
       "      <td>Sí, lo tiene decidido</td>\n",
       "      <td>...</td>\n",
       "      <td>7</td>\n",
       "      <td>1</td>\n",
       "      <td>3</td>\n",
       "      <td>8</td>\n",
       "      <td>Hombre</td>\n",
       "      <td>40</td>\n",
       "      <td>Sí, ha ido a la escuela</td>\n",
       "      <td>Universitarios superiores (licenciatura, grado...</td>\n",
       "      <td>Trabaja</td>\n",
       "      <td>Católico/a no practicante</td>\n",
       "    </tr>\n",
       "    <tr>\n",
       "      <th>10250</th>\n",
       "      <td>400.001 a 1.000.000 habitantes</td>\n",
       "      <td>Capital de provincia</td>\n",
       "      <td>Poco</td>\n",
       "      <td>Rara vez</td>\n",
       "      <td>Muy mala</td>\n",
       "      <td>Muy mala</td>\n",
       "      <td>Los/as políticos/as en general, los partidos y...</td>\n",
       "      <td>Las pensiones</td>\n",
       "      <td>Sí, con toda seguridad</td>\n",
       "      <td>No, no lo ha decidido aún</td>\n",
       "      <td>...</td>\n",
       "      <td>5</td>\n",
       "      <td>5</td>\n",
       "      <td>5</td>\n",
       "      <td>10</td>\n",
       "      <td>Mujer</td>\n",
       "      <td>71</td>\n",
       "      <td>Sí, ha ido a la escuela</td>\n",
       "      <td>Primaria (enseñanza primaria o hasta 5º de EGB)</td>\n",
       "      <td>Pensionista (anteriormente no ha trabajado)</td>\n",
       "      <td>Católico/a no practicante</td>\n",
       "    </tr>\n",
       "  </tbody>\n",
       "</table>\n",
       "<p>115 rows × 42 columns</p>\n",
       "</div>"
      ],
      "text/plain": [
       "                               TAMUNI               CAPITAL        P1  \\\n",
       "9773     100.001 a 400.000 habitantes      Otros municipios      Poco   \n",
       "9776     100.001 a 400.000 habitantes      Otros municipios  Bastante   \n",
       "9788       10.001 a 50.000 habitantes      Otros municipios      Nada   \n",
       "9794       10.001 a 50.000 habitantes      Otros municipios      Poco   \n",
       "9797       10.001 a 50.000 habitantes      Otros municipios  Bastante   \n",
       "...                               ...                   ...       ...   \n",
       "10240  400.001 a 1.000.000 habitantes  Capital de provincia      Poco   \n",
       "10241  400.001 a 1.000.000 habitantes  Capital de provincia      Poco   \n",
       "10248  400.001 a 1.000.000 habitantes  Capital de provincia      Nada   \n",
       "10249  400.001 a 1.000.000 habitantes  Capital de provincia  Bastante   \n",
       "10250  400.001 a 1.000.000 habitantes  Capital de provincia      Poco   \n",
       "\n",
       "                     P2        P3        P4  \\\n",
       "9773   De vez en cuando   Regular     Buena   \n",
       "9776   De vez en cuando   Regular   Regular   \n",
       "9788   De vez en cuando  Muy mala   Regular   \n",
       "9794           Rara vez   Regular      Mala   \n",
       "9797           Rara vez  Muy mala      Mala   \n",
       "...                 ...       ...       ...   \n",
       "10240  De vez en cuando      Mala      Mala   \n",
       "10241     Habitualmente      Mala   Regular   \n",
       "10248  De vez en cuando  Muy mala  Muy mala   \n",
       "10249  De vez en cuando  Muy mala  Muy mala   \n",
       "10250          Rara vez  Muy mala  Muy mala   \n",
       "\n",
       "                                                    P601  \\\n",
       "9773                           La corrupción y el fraude   \n",
       "9776                           La corrupción y el fraude   \n",
       "9788                           La corrupción y el fraude   \n",
       "9794                           La corrupción y el fraude   \n",
       "9797                                             El paro   \n",
       "...                                                  ...   \n",
       "10240                                            El paro   \n",
       "10241                           La inseguridad ciudadana   \n",
       "10248                          Independencia de Cataluña   \n",
       "10249  Los/as políticos/as en general, los partidos y...   \n",
       "10250  Los/as políticos/as en general, los partidos y...   \n",
       "\n",
       "                                                    P701  \\\n",
       "9773                                             Ninguno   \n",
       "9776                                                N.S.   \n",
       "9788   Los/as políticos/as en general, los partidos y...   \n",
       "9794                                        La educación   \n",
       "9797                                             Ninguno   \n",
       "...                                                  ...   \n",
       "10240                                      Las pensiones   \n",
       "10241                                      Las pensiones   \n",
       "10248  Los problemas relacionados con la calidad del ...   \n",
       "10249                                            El paro   \n",
       "10250                                      Las pensiones   \n",
       "\n",
       "                           P8                        P8A  ...  P1903  P1904  \\\n",
       "9773   Sí, con toda seguridad  No, no lo ha decidido aún  ...      5      2   \n",
       "9776   Sí, con toda seguridad  No, no lo ha decidido aún  ...      7      2   \n",
       "9788   Sí, con toda seguridad      Sí, lo tiene decidido  ...      5      3   \n",
       "9794   Sí, con toda seguridad  No, no lo ha decidido aún  ...      5      1   \n",
       "9797         Probablemente sí  No, no lo ha decidido aún  ...      7      2   \n",
       "...                       ...                        ...  ...    ...    ...   \n",
       "10240  Sí, con toda seguridad  No, no lo ha decidido aún  ...      4      2   \n",
       "10241  Sí, con toda seguridad  No, no lo ha decidido aún  ...      6      2   \n",
       "10248  Sí, con toda seguridad  No, no lo ha decidido aún  ...      6      3   \n",
       "10249  Sí, con toda seguridad      Sí, lo tiene decidido  ...      7      1   \n",
       "10250  Sí, con toda seguridad  No, no lo ha decidido aún  ...      5      5   \n",
       "\n",
       "       P1905  P1906     P23  P24                      P25  \\\n",
       "9773       2      8   Mujer   26  Sí, ha ido a la escuela   \n",
       "9776       2      9   Mujer   48  Sí, ha ido a la escuela   \n",
       "9788       2      9   Mujer   30  Sí, ha ido a la escuela   \n",
       "9794       1     10  Hombre   21  Sí, ha ido a la escuela   \n",
       "9797       2     10  Hombre   65  Sí, ha ido a la escuela   \n",
       "...      ...    ...     ...  ...                      ...   \n",
       "10240      3      8   Mujer   82  Sí, ha ido a la escuela   \n",
       "10241      2      8  Hombre   64  Sí, ha ido a la escuela   \n",
       "10248      4      9   Mujer   57  Sí, ha ido a la escuela   \n",
       "10249      3      8  Hombre   40  Sí, ha ido a la escuela   \n",
       "10250      5     10   Mujer   71  Sí, ha ido a la escuela   \n",
       "\n",
       "                                                    P25A  \\\n",
       "9773   Universitarios superiores (licenciatura, grado...   \n",
       "9776     Formación Profesional de Grado Superior (FP II)   \n",
       "9788   Bachillerato/COU/PREU (Bachillerato Superior, ...   \n",
       "9794   Bachillerato/COU/PREU (Bachillerato Superior, ...   \n",
       "9797   Universitarios superiores (licenciatura, grado...   \n",
       "...                                                  ...   \n",
       "10240    Primaria (enseñanza primaria o hasta 5º de EGB)   \n",
       "10241  Bachillerato/COU/PREU (Bachillerato Superior, ...   \n",
       "10248    Primaria (enseñanza primaria o hasta 5º de EGB)   \n",
       "10249  Universitarios superiores (licenciatura, grado...   \n",
       "10250    Primaria (enseñanza primaria o hasta 5º de EGB)   \n",
       "\n",
       "                                                     P26  \\\n",
       "9773                                             Trabaja   \n",
       "9776                                             Trabaja   \n",
       "9788                                             Trabaja   \n",
       "9794                                          Estudiante   \n",
       "9797   Jubilado/a o pensionista (anteriormente ha tra...   \n",
       "...                                                  ...   \n",
       "10240        Pensionista (anteriormente no ha trabajado)   \n",
       "10241  Jubilado/a o pensionista (anteriormente ha tra...   \n",
       "10248                                            Trabaja   \n",
       "10249                                            Trabaja   \n",
       "10250        Pensionista (anteriormente no ha trabajado)   \n",
       "\n",
       "                             P27  \n",
       "9773                 Agnóstico/a  \n",
       "9776   Católico/a no practicante  \n",
       "9788   Católico/a no practicante  \n",
       "9794   Católico/a no practicante  \n",
       "9797   Católico/a no practicante  \n",
       "...                          ...  \n",
       "10240  Católico/a no practicante  \n",
       "10241  Católico/a no practicante  \n",
       "10248  Católico/a no practicante  \n",
       "10249  Católico/a no practicante  \n",
       "10250  Católico/a no practicante  \n",
       "\n",
       "[115 rows x 42 columns]"
      ]
     },
     "execution_count": 125,
     "metadata": {},
     "output_type": "execute_result"
    }
   ],
   "source": [
    "cis_malaga_producccion"
   ]
  },
  {
   "cell_type": "code",
   "execution_count": null,
   "metadata": {
    "id": "iHG_wlhlyoNK"
   },
   "outputs": [],
   "source": []
  },
  {
   "cell_type": "markdown",
   "metadata": {
    "id": "hjQ9QEyClOPx"
   },
   "source": [
    "Por supuesto, debemos preparar este dataset como hemos hecho con el train y test. Comenzamos por el relleno de los nan, no incluyendo desde luego la columna P9."
   ]
  },
  {
   "cell_type": "code",
   "execution_count": 126,
   "metadata": {
    "executionInfo": {
     "elapsed": 228,
     "status": "ok",
     "timestamp": 1630930183447,
     "user": {
      "displayName": "Guillermo Barrio",
      "photoUrl": "",
      "userId": "06925154007558381895"
     },
     "user_tz": -120
    },
    "id": "YmUfjvW3yoKj"
   },
   "outputs": [],
   "source": [
    "for item in FillNA_num_mean:\n",
    "        \n",
    "    cis_malaga_producccion[item].fillna(cis_malaga_producccion[item].mean(), inplace=True)"
   ]
  },
  {
   "cell_type": "code",
   "execution_count": 127,
   "metadata": {
    "colab": {
     "base_uri": "https://localhost:8080/",
     "height": 317
    },
    "executionInfo": {
     "elapsed": 252,
     "status": "ok",
     "timestamp": 1630930185578,
     "user": {
      "displayName": "Guillermo Barrio",
      "photoUrl": "",
      "userId": "06925154007558381895"
     },
     "user_tz": -120
    },
    "id": "ZQib8b4fyoH2",
    "outputId": "e7539f2b-7038-436d-f18b-0d575cca91b2"
   },
   "outputs": [
    {
     "data": {
      "text/html": [
       "<div>\n",
       "<style scoped>\n",
       "    .dataframe tbody tr th:only-of-type {\n",
       "        vertical-align: middle;\n",
       "    }\n",
       "\n",
       "    .dataframe tbody tr th {\n",
       "        vertical-align: top;\n",
       "    }\n",
       "\n",
       "    .dataframe thead th {\n",
       "        text-align: right;\n",
       "    }\n",
       "</style>\n",
       "<table border=\"1\" class=\"dataframe\">\n",
       "  <thead>\n",
       "    <tr style=\"text-align: right;\">\n",
       "      <th></th>\n",
       "      <th>P9</th>\n",
       "      <th>P9A</th>\n",
       "      <th>P1001</th>\n",
       "      <th>P1002</th>\n",
       "      <th>P1003</th>\n",
       "      <th>P1004</th>\n",
       "      <th>P1005</th>\n",
       "      <th>P1006</th>\n",
       "      <th>P11</th>\n",
       "      <th>P1201</th>\n",
       "      <th>...</th>\n",
       "      <th>P14</th>\n",
       "      <th>P15</th>\n",
       "      <th>P17A</th>\n",
       "      <th>P18</th>\n",
       "      <th>P1901</th>\n",
       "      <th>P1902</th>\n",
       "      <th>P1903</th>\n",
       "      <th>P1904</th>\n",
       "      <th>P1905</th>\n",
       "      <th>P1906</th>\n",
       "    </tr>\n",
       "  </thead>\n",
       "  <tbody>\n",
       "    <tr>\n",
       "      <th>count</th>\n",
       "      <td>0.0</td>\n",
       "      <td>115.000000</td>\n",
       "      <td>115.000000</td>\n",
       "      <td>115.000000</td>\n",
       "      <td>115.000000</td>\n",
       "      <td>115.000000</td>\n",
       "      <td>115.000000</td>\n",
       "      <td>115.000000</td>\n",
       "      <td>115.000000</td>\n",
       "      <td>115.000000</td>\n",
       "      <td>...</td>\n",
       "      <td>115.000000</td>\n",
       "      <td>115.000000</td>\n",
       "      <td>115.000000</td>\n",
       "      <td>115.000000</td>\n",
       "      <td>115.000000</td>\n",
       "      <td>115.000000</td>\n",
       "      <td>115.000000</td>\n",
       "      <td>115.000000</td>\n",
       "      <td>115.000000</td>\n",
       "      <td>115.000000</td>\n",
       "    </tr>\n",
       "    <tr>\n",
       "      <th>mean</th>\n",
       "      <td>NaN</td>\n",
       "      <td>47.566372</td>\n",
       "      <td>3.573913</td>\n",
       "      <td>3.086957</td>\n",
       "      <td>3.382609</td>\n",
       "      <td>2.704348</td>\n",
       "      <td>2.841121</td>\n",
       "      <td>2.228070</td>\n",
       "      <td>8.008696</td>\n",
       "      <td>3.026087</td>\n",
       "      <td>...</td>\n",
       "      <td>36.695652</td>\n",
       "      <td>47.920354</td>\n",
       "      <td>46.250000</td>\n",
       "      <td>4.747826</td>\n",
       "      <td>3.782609</td>\n",
       "      <td>7.452174</td>\n",
       "      <td>6.026087</td>\n",
       "      <td>2.321739</td>\n",
       "      <td>2.617391</td>\n",
       "      <td>8.634783</td>\n",
       "    </tr>\n",
       "    <tr>\n",
       "      <th>std</th>\n",
       "      <td>NaN</td>\n",
       "      <td>12.177687</td>\n",
       "      <td>2.263598</td>\n",
       "      <td>1.875817</td>\n",
       "      <td>2.253974</td>\n",
       "      <td>2.038979</td>\n",
       "      <td>1.960798</td>\n",
       "      <td>1.882678</td>\n",
       "      <td>2.783081</td>\n",
       "      <td>2.814315</td>\n",
       "      <td>...</td>\n",
       "      <td>11.079596</td>\n",
       "      <td>17.392851</td>\n",
       "      <td>17.977508</td>\n",
       "      <td>1.176103</td>\n",
       "      <td>1.106461</td>\n",
       "      <td>1.265213</td>\n",
       "      <td>1.012734</td>\n",
       "      <td>1.188747</td>\n",
       "      <td>1.203668</td>\n",
       "      <td>1.326719</td>\n",
       "    </tr>\n",
       "    <tr>\n",
       "      <th>min</th>\n",
       "      <td>NaN</td>\n",
       "      <td>0.000000</td>\n",
       "      <td>1.000000</td>\n",
       "      <td>1.000000</td>\n",
       "      <td>1.000000</td>\n",
       "      <td>1.000000</td>\n",
       "      <td>1.000000</td>\n",
       "      <td>1.000000</td>\n",
       "      <td>0.000000</td>\n",
       "      <td>0.000000</td>\n",
       "      <td>...</td>\n",
       "      <td>30.000000</td>\n",
       "      <td>0.000000</td>\n",
       "      <td>0.000000</td>\n",
       "      <td>2.000000</td>\n",
       "      <td>1.000000</td>\n",
       "      <td>5.000000</td>\n",
       "      <td>4.000000</td>\n",
       "      <td>1.000000</td>\n",
       "      <td>1.000000</td>\n",
       "      <td>5.000000</td>\n",
       "    </tr>\n",
       "    <tr>\n",
       "      <th>25%</th>\n",
       "      <td>NaN</td>\n",
       "      <td>50.000000</td>\n",
       "      <td>1.000000</td>\n",
       "      <td>1.000000</td>\n",
       "      <td>1.000000</td>\n",
       "      <td>1.000000</td>\n",
       "      <td>1.000000</td>\n",
       "      <td>1.000000</td>\n",
       "      <td>7.000000</td>\n",
       "      <td>0.000000</td>\n",
       "      <td>...</td>\n",
       "      <td>30.000000</td>\n",
       "      <td>50.000000</td>\n",
       "      <td>30.000000</td>\n",
       "      <td>4.000000</td>\n",
       "      <td>3.000000</td>\n",
       "      <td>7.000000</td>\n",
       "      <td>5.000000</td>\n",
       "      <td>1.000000</td>\n",
       "      <td>2.000000</td>\n",
       "      <td>8.000000</td>\n",
       "    </tr>\n",
       "    <tr>\n",
       "      <th>50%</th>\n",
       "      <td>NaN</td>\n",
       "      <td>50.000000</td>\n",
       "      <td>3.000000</td>\n",
       "      <td>3.000000</td>\n",
       "      <td>3.000000</td>\n",
       "      <td>2.000000</td>\n",
       "      <td>2.841121</td>\n",
       "      <td>1.000000</td>\n",
       "      <td>9.000000</td>\n",
       "      <td>3.000000</td>\n",
       "      <td>...</td>\n",
       "      <td>30.000000</td>\n",
       "      <td>50.000000</td>\n",
       "      <td>46.250000</td>\n",
       "      <td>5.000000</td>\n",
       "      <td>4.000000</td>\n",
       "      <td>8.000000</td>\n",
       "      <td>6.000000</td>\n",
       "      <td>2.000000</td>\n",
       "      <td>3.000000</td>\n",
       "      <td>9.000000</td>\n",
       "    </tr>\n",
       "    <tr>\n",
       "      <th>75%</th>\n",
       "      <td>NaN</td>\n",
       "      <td>50.000000</td>\n",
       "      <td>5.000000</td>\n",
       "      <td>5.000000</td>\n",
       "      <td>5.000000</td>\n",
       "      <td>4.000000</td>\n",
       "      <td>4.000000</td>\n",
       "      <td>3.000000</td>\n",
       "      <td>10.000000</td>\n",
       "      <td>5.000000</td>\n",
       "      <td>...</td>\n",
       "      <td>50.000000</td>\n",
       "      <td>50.000000</td>\n",
       "      <td>60.000000</td>\n",
       "      <td>5.000000</td>\n",
       "      <td>5.000000</td>\n",
       "      <td>8.000000</td>\n",
       "      <td>7.000000</td>\n",
       "      <td>3.000000</td>\n",
       "      <td>3.000000</td>\n",
       "      <td>10.000000</td>\n",
       "    </tr>\n",
       "    <tr>\n",
       "      <th>max</th>\n",
       "      <td>NaN</td>\n",
       "      <td>65.000000</td>\n",
       "      <td>10.000000</td>\n",
       "      <td>7.000000</td>\n",
       "      <td>9.000000</td>\n",
       "      <td>10.000000</td>\n",
       "      <td>9.000000</td>\n",
       "      <td>10.000000</td>\n",
       "      <td>10.000000</td>\n",
       "      <td>10.000000</td>\n",
       "      <td>...</td>\n",
       "      <td>65.000000</td>\n",
       "      <td>100.000000</td>\n",
       "      <td>100.000000</td>\n",
       "      <td>9.000000</td>\n",
       "      <td>6.000000</td>\n",
       "      <td>10.000000</td>\n",
       "      <td>8.000000</td>\n",
       "      <td>5.000000</td>\n",
       "      <td>5.000000</td>\n",
       "      <td>10.000000</td>\n",
       "    </tr>\n",
       "  </tbody>\n",
       "</table>\n",
       "<p>8 rows × 26 columns</p>\n",
       "</div>"
      ],
      "text/plain": [
       "        P9         P9A       P1001       P1002       P1003       P1004  \\\n",
       "count  0.0  115.000000  115.000000  115.000000  115.000000  115.000000   \n",
       "mean   NaN   47.566372    3.573913    3.086957    3.382609    2.704348   \n",
       "std    NaN   12.177687    2.263598    1.875817    2.253974    2.038979   \n",
       "min    NaN    0.000000    1.000000    1.000000    1.000000    1.000000   \n",
       "25%    NaN   50.000000    1.000000    1.000000    1.000000    1.000000   \n",
       "50%    NaN   50.000000    3.000000    3.000000    3.000000    2.000000   \n",
       "75%    NaN   50.000000    5.000000    5.000000    5.000000    4.000000   \n",
       "max    NaN   65.000000   10.000000    7.000000    9.000000   10.000000   \n",
       "\n",
       "            P1005       P1006         P11       P1201  ...         P14  \\\n",
       "count  115.000000  115.000000  115.000000  115.000000  ...  115.000000   \n",
       "mean     2.841121    2.228070    8.008696    3.026087  ...   36.695652   \n",
       "std      1.960798    1.882678    2.783081    2.814315  ...   11.079596   \n",
       "min      1.000000    1.000000    0.000000    0.000000  ...   30.000000   \n",
       "25%      1.000000    1.000000    7.000000    0.000000  ...   30.000000   \n",
       "50%      2.841121    1.000000    9.000000    3.000000  ...   30.000000   \n",
       "75%      4.000000    3.000000   10.000000    5.000000  ...   50.000000   \n",
       "max      9.000000   10.000000   10.000000   10.000000  ...   65.000000   \n",
       "\n",
       "              P15        P17A         P18       P1901       P1902       P1903  \\\n",
       "count  115.000000  115.000000  115.000000  115.000000  115.000000  115.000000   \n",
       "mean    47.920354   46.250000    4.747826    3.782609    7.452174    6.026087   \n",
       "std     17.392851   17.977508    1.176103    1.106461    1.265213    1.012734   \n",
       "min      0.000000    0.000000    2.000000    1.000000    5.000000    4.000000   \n",
       "25%     50.000000   30.000000    4.000000    3.000000    7.000000    5.000000   \n",
       "50%     50.000000   46.250000    5.000000    4.000000    8.000000    6.000000   \n",
       "75%     50.000000   60.000000    5.000000    5.000000    8.000000    7.000000   \n",
       "max    100.000000  100.000000    9.000000    6.000000   10.000000    8.000000   \n",
       "\n",
       "            P1904       P1905       P1906  \n",
       "count  115.000000  115.000000  115.000000  \n",
       "mean     2.321739    2.617391    8.634783  \n",
       "std      1.188747    1.203668    1.326719  \n",
       "min      1.000000    1.000000    5.000000  \n",
       "25%      1.000000    2.000000    8.000000  \n",
       "50%      2.000000    3.000000    9.000000  \n",
       "75%      3.000000    3.000000   10.000000  \n",
       "max      5.000000    5.000000   10.000000  \n",
       "\n",
       "[8 rows x 26 columns]"
      ]
     },
     "execution_count": 127,
     "metadata": {},
     "output_type": "execute_result"
    }
   ],
   "source": [
    "cis_malaga_producccion.describe()"
   ]
  },
  {
   "cell_type": "code",
   "execution_count": null,
   "metadata": {
    "id": "PFrfzi_K77zX"
   },
   "outputs": [],
   "source": []
  },
  {
   "cell_type": "code",
   "execution_count": 128,
   "metadata": {
    "colab": {
     "base_uri": "https://localhost:8080/"
    },
    "executionInfo": {
     "elapsed": 227,
     "status": "ok",
     "timestamp": 1630930189104,
     "user": {
      "displayName": "Guillermo Barrio",
      "photoUrl": "",
      "userId": "06925154007558381895"
     },
     "user_tz": -120
    },
    "id": "g1I-OcpC77qH",
    "outputId": "a3e97528-9348-452a-b356-4afdd5c78bf7"
   },
   "outputs": [
    {
     "data": {
      "text/plain": [
       "Poco        47\n",
       "Nada        30\n",
       "Bastante    24\n",
       "Mucho       14\n",
       "N.C.         0\n",
       "Name: P1, dtype: int64"
      ]
     },
     "execution_count": 128,
     "metadata": {},
     "output_type": "execute_result"
    }
   ],
   "source": [
    "cis_malaga_producccion['P1'].value_counts()"
   ]
  },
  {
   "cell_type": "code",
   "execution_count": 129,
   "metadata": {
    "colab": {
     "base_uri": "https://localhost:8080/"
    },
    "executionInfo": {
     "elapsed": 240,
     "status": "ok",
     "timestamp": 1630930191365,
     "user": {
      "displayName": "Guillermo Barrio",
      "photoUrl": "",
      "userId": "06925154007558381895"
     },
     "user_tz": -120
    },
    "id": "kzJZwnOO8J1k",
    "outputId": "a35e4934-3d23-4b13-817d-4a6fdd47e4e1"
   },
   "outputs": [
    {
     "data": {
      "text/plain": [
       "P1\n",
       "Bastante    44.675325\n",
       "Mucho       35.600000\n",
       "N.C.        60.000000\n",
       "Nada        45.529412\n",
       "Poco        46.745283\n",
       "Name: P9, dtype: float64"
      ]
     },
     "execution_count": 129,
     "metadata": {},
     "output_type": "execute_result"
    }
   ],
   "source": [
    "mean_map1['P1']"
   ]
  },
  {
   "cell_type": "code",
   "execution_count": 130,
   "metadata": {
    "colab": {
     "base_uri": "https://localhost:8080/"
    },
    "executionInfo": {
     "elapsed": 244,
     "status": "ok",
     "timestamp": 1630930194385,
     "user": {
      "displayName": "Guillermo Barrio",
      "photoUrl": "",
      "userId": "06925154007558381895"
     },
     "user_tz": -120
    },
    "id": "pRcZC_D18lDK",
    "outputId": "110069f2-1deb-4d75-b8e9-cda1272fc9e5"
   },
   "outputs": [
    {
     "data": {
      "text/plain": [
       "46.745283    47\n",
       "45.529412    30\n",
       "44.675325    24\n",
       "35.600000    14\n",
       "60.000000     0\n",
       "Name: P1, dtype: int64"
      ]
     },
     "execution_count": 130,
     "metadata": {},
     "output_type": "execute_result"
    }
   ],
   "source": [
    "cis_malaga_producccion['P1'].map(mean_map1['P1']).value_counts()"
   ]
  },
  {
   "cell_type": "code",
   "execution_count": null,
   "metadata": {
    "id": "sI770_J08k-4"
   },
   "outputs": [],
   "source": []
  },
  {
   "cell_type": "markdown",
   "metadata": {
    "id": "DXe2n96XlfXJ"
   },
   "source": [
    "Pasamos a mapear las columnas categóricas con el mapeo del train. De nuevo, pasamos justo antes el tipo a object; sino nos encontramos con problemas."
   ]
  },
  {
   "cell_type": "code",
   "execution_count": 131,
   "metadata": {
    "executionInfo": {
     "elapsed": 248,
     "status": "ok",
     "timestamp": 1630930197273,
     "user": {
      "displayName": "Guillermo Barrio",
      "photoUrl": "",
      "userId": "06925154007558381895"
     },
     "user_tz": -120
    },
    "id": "-rESIEKoyoFL"
   },
   "outputs": [],
   "source": [
    "for c in categorical:\n",
    "    cis_malaga_producccion[c] = cis_malaga_producccion[c].astype('object').map(mean_map1[c])"
   ]
  },
  {
   "cell_type": "code",
   "execution_count": 132,
   "metadata": {
    "colab": {
     "base_uri": "https://localhost:8080/"
    },
    "executionInfo": {
     "elapsed": 261,
     "status": "ok",
     "timestamp": 1630930199491,
     "user": {
      "displayName": "Guillermo Barrio",
      "photoUrl": "",
      "userId": "06925154007558381895"
     },
     "user_tz": -120
    },
    "id": "7bBPi-TuyoCP",
    "outputId": "24a7fdfb-8fa9-4527-e397-088bc5d666c7"
   },
   "outputs": [
    {
     "data": {
      "text/plain": [
       "TAMUNI     float64\n",
       "CAPITAL    float64\n",
       "P1         float64\n",
       "P2         float64\n",
       "P3         float64\n",
       "P4         float64\n",
       "P601       float64\n",
       "P701       float64\n",
       "P8         float64\n",
       "P8A        float64\n",
       "P9         float64\n",
       "P9A        float64\n",
       "P1001        int64\n",
       "P1002      float64\n",
       "P1003        int64\n",
       "P1004        int64\n",
       "P1005      float64\n",
       "P1006      float64\n",
       "P11          int64\n",
       "P1201        int64\n",
       "P1202        int64\n",
       "P1203        int64\n",
       "P1204        int64\n",
       "P1205        int64\n",
       "P1206        int64\n",
       "P13        float64\n",
       "P14          int64\n",
       "P15        float64\n",
       "P17A       float64\n",
       "P18          int64\n",
       "P1901        int64\n",
       "P1902        int64\n",
       "P1903        int64\n",
       "P1904        int64\n",
       "P1905        int64\n",
       "P1906        int64\n",
       "P23        float64\n",
       "P24        float64\n",
       "P25        float64\n",
       "P25A       float64\n",
       "P26        float64\n",
       "P27        float64\n",
       "dtype: object"
      ]
     },
     "execution_count": 132,
     "metadata": {},
     "output_type": "execute_result"
    }
   ],
   "source": [
    "cis_malaga_producccion.dtypes"
   ]
  },
  {
   "cell_type": "code",
   "execution_count": null,
   "metadata": {
    "id": "VJXjsQ2R7KNG"
   },
   "outputs": [],
   "source": []
  },
  {
   "cell_type": "code",
   "execution_count": null,
   "metadata": {
    "id": "DS4SRK3S7KJv"
   },
   "outputs": [],
   "source": []
  },
  {
   "cell_type": "markdown",
   "metadata": {
    "id": "WBmeBln2luRx"
   },
   "source": [
    "Y finalmente nos encargamos de los nan de las columnas anteriormente categóricas."
   ]
  },
  {
   "cell_type": "code",
   "execution_count": 133,
   "metadata": {
    "executionInfo": {
     "elapsed": 228,
     "status": "ok",
     "timestamp": 1630930211316,
     "user": {
      "displayName": "Guillermo Barrio",
      "photoUrl": "",
      "userId": "06925154007558381895"
     },
     "user_tz": -120
    },
    "id": "pcYTNHo7yn_s"
   },
   "outputs": [],
   "source": [
    "for item in categorical:\n",
    "        \n",
    "    cis_malaga_producccion[item].fillna(cis_malaga_producccion[item].mean(), inplace=True)"
   ]
  },
  {
   "cell_type": "code",
   "execution_count": null,
   "metadata": {
    "id": "dP7BfRNjyn8-"
   },
   "outputs": [],
   "source": []
  },
  {
   "cell_type": "code",
   "execution_count": 134,
   "metadata": {
    "colab": {
     "base_uri": "https://localhost:8080/",
     "height": 317
    },
    "executionInfo": {
     "elapsed": 235,
     "status": "ok",
     "timestamp": 1630930213739,
     "user": {
      "displayName": "Guillermo Barrio",
      "photoUrl": "",
      "userId": "06925154007558381895"
     },
     "user_tz": -120
    },
    "id": "hzCuXl-1yn6A",
    "outputId": "2abf5bc0-2f31-48f0-db61-fd173762de87"
   },
   "outputs": [
    {
     "data": {
      "text/html": [
       "<div>\n",
       "<style scoped>\n",
       "    .dataframe tbody tr th:only-of-type {\n",
       "        vertical-align: middle;\n",
       "    }\n",
       "\n",
       "    .dataframe tbody tr th {\n",
       "        vertical-align: top;\n",
       "    }\n",
       "\n",
       "    .dataframe thead th {\n",
       "        text-align: right;\n",
       "    }\n",
       "</style>\n",
       "<table border=\"1\" class=\"dataframe\">\n",
       "  <thead>\n",
       "    <tr style=\"text-align: right;\">\n",
       "      <th></th>\n",
       "      <th>TAMUNI</th>\n",
       "      <th>CAPITAL</th>\n",
       "      <th>P1</th>\n",
       "      <th>P2</th>\n",
       "      <th>P3</th>\n",
       "      <th>P4</th>\n",
       "      <th>P601</th>\n",
       "      <th>P701</th>\n",
       "      <th>P8</th>\n",
       "      <th>P8A</th>\n",
       "      <th>...</th>\n",
       "      <th>P1903</th>\n",
       "      <th>P1904</th>\n",
       "      <th>P1905</th>\n",
       "      <th>P1906</th>\n",
       "      <th>P23</th>\n",
       "      <th>P24</th>\n",
       "      <th>P25</th>\n",
       "      <th>P25A</th>\n",
       "      <th>P26</th>\n",
       "      <th>P27</th>\n",
       "    </tr>\n",
       "  </thead>\n",
       "  <tbody>\n",
       "    <tr>\n",
       "      <th>count</th>\n",
       "      <td>115.000000</td>\n",
       "      <td>115.000000</td>\n",
       "      <td>115.000000</td>\n",
       "      <td>115.000000</td>\n",
       "      <td>115.000000</td>\n",
       "      <td>115.000000</td>\n",
       "      <td>115.000000</td>\n",
       "      <td>115.000000</td>\n",
       "      <td>115.000000</td>\n",
       "      <td>115.000000</td>\n",
       "      <td>...</td>\n",
       "      <td>115.000000</td>\n",
       "      <td>115.000000</td>\n",
       "      <td>115.000000</td>\n",
       "      <td>115.000000</td>\n",
       "      <td>115.000000</td>\n",
       "      <td>115.000000</td>\n",
       "      <td>115.000000</td>\n",
       "      <td>115.000000</td>\n",
       "      <td>115.000000</td>\n",
       "      <td>115.000000</td>\n",
       "    </tr>\n",
       "    <tr>\n",
       "      <th>mean</th>\n",
       "      <td>45.457820</td>\n",
       "      <td>44.761788</td>\n",
       "      <td>44.639291</td>\n",
       "      <td>44.886417</td>\n",
       "      <td>45.228190</td>\n",
       "      <td>44.778569</td>\n",
       "      <td>45.818552</td>\n",
       "      <td>45.138145</td>\n",
       "      <td>44.120359</td>\n",
       "      <td>40.968520</td>\n",
       "      <td>...</td>\n",
       "      <td>6.026087</td>\n",
       "      <td>2.321739</td>\n",
       "      <td>2.617391</td>\n",
       "      <td>8.634783</td>\n",
       "      <td>44.925497</td>\n",
       "      <td>46.883319</td>\n",
       "      <td>45.036270</td>\n",
       "      <td>47.832229</td>\n",
       "      <td>45.656299</td>\n",
       "      <td>45.687311</td>\n",
       "    </tr>\n",
       "    <tr>\n",
       "      <th>std</th>\n",
       "      <td>3.789047</td>\n",
       "      <td>0.341048</td>\n",
       "      <td>3.474441</td>\n",
       "      <td>1.766618</td>\n",
       "      <td>4.524440</td>\n",
       "      <td>3.069546</td>\n",
       "      <td>9.604523</td>\n",
       "      <td>6.339404</td>\n",
       "      <td>2.530035</td>\n",
       "      <td>2.338902</td>\n",
       "      <td>...</td>\n",
       "      <td>1.012734</td>\n",
       "      <td>1.188747</td>\n",
       "      <td>1.203668</td>\n",
       "      <td>1.326719</td>\n",
       "      <td>0.222930</td>\n",
       "      <td>13.534387</td>\n",
       "      <td>0.093448</td>\n",
       "      <td>8.378328</td>\n",
       "      <td>5.230042</td>\n",
       "      <td>5.557660</td>\n",
       "    </tr>\n",
       "    <tr>\n",
       "      <th>min</th>\n",
       "      <td>29.705882</td>\n",
       "      <td>44.484536</td>\n",
       "      <td>35.600000</td>\n",
       "      <td>42.345679</td>\n",
       "      <td>23.750000</td>\n",
       "      <td>42.304688</td>\n",
       "      <td>17.500000</td>\n",
       "      <td>30.000000</td>\n",
       "      <td>39.218750</td>\n",
       "      <td>39.230769</td>\n",
       "      <td>...</td>\n",
       "      <td>4.000000</td>\n",
       "      <td>1.000000</td>\n",
       "      <td>1.000000</td>\n",
       "      <td>5.000000</td>\n",
       "      <td>44.720280</td>\n",
       "      <td>7.500000</td>\n",
       "      <td>45.018450</td>\n",
       "      <td>30.000000</td>\n",
       "      <td>25.000000</td>\n",
       "      <td>18.333333</td>\n",
       "    </tr>\n",
       "    <tr>\n",
       "      <th>25%</th>\n",
       "      <td>44.484536</td>\n",
       "      <td>44.484536</td>\n",
       "      <td>44.675325</td>\n",
       "      <td>42.345679</td>\n",
       "      <td>44.846939</td>\n",
       "      <td>42.304688</td>\n",
       "      <td>42.014925</td>\n",
       "      <td>43.409091</td>\n",
       "      <td>44.829268</td>\n",
       "      <td>39.230769</td>\n",
       "      <td>...</td>\n",
       "      <td>5.000000</td>\n",
       "      <td>1.000000</td>\n",
       "      <td>2.000000</td>\n",
       "      <td>8.000000</td>\n",
       "      <td>44.720280</td>\n",
       "      <td>39.444444</td>\n",
       "      <td>45.018450</td>\n",
       "      <td>43.385827</td>\n",
       "      <td>42.109375</td>\n",
       "      <td>45.979899</td>\n",
       "    </tr>\n",
       "    <tr>\n",
       "      <th>50%</th>\n",
       "      <td>44.484536</td>\n",
       "      <td>44.484536</td>\n",
       "      <td>45.529412</td>\n",
       "      <td>45.726496</td>\n",
       "      <td>44.846939</td>\n",
       "      <td>43.974359</td>\n",
       "      <td>42.014925</td>\n",
       "      <td>44.629630</td>\n",
       "      <td>44.829268</td>\n",
       "      <td>39.230769</td>\n",
       "      <td>...</td>\n",
       "      <td>6.000000</td>\n",
       "      <td>2.000000</td>\n",
       "      <td>3.000000</td>\n",
       "      <td>9.000000</td>\n",
       "      <td>44.720280</td>\n",
       "      <td>46.000000</td>\n",
       "      <td>45.018450</td>\n",
       "      <td>49.629630</td>\n",
       "      <td>49.609929</td>\n",
       "      <td>45.979899</td>\n",
       "    </tr>\n",
       "    <tr>\n",
       "      <th>75%</th>\n",
       "      <td>48.500000</td>\n",
       "      <td>45.177665</td>\n",
       "      <td>46.745283</td>\n",
       "      <td>45.726496</td>\n",
       "      <td>49.087302</td>\n",
       "      <td>44.347826</td>\n",
       "      <td>47.906977</td>\n",
       "      <td>45.379747</td>\n",
       "      <td>44.829268</td>\n",
       "      <td>44.668246</td>\n",
       "      <td>...</td>\n",
       "      <td>7.000000</td>\n",
       "      <td>3.000000</td>\n",
       "      <td>3.000000</td>\n",
       "      <td>10.000000</td>\n",
       "      <td>45.165563</td>\n",
       "      <td>56.666667</td>\n",
       "      <td>45.018450</td>\n",
       "      <td>53.088235</td>\n",
       "      <td>49.609929</td>\n",
       "      <td>45.979899</td>\n",
       "    </tr>\n",
       "    <tr>\n",
       "      <th>max</th>\n",
       "      <td>49.710145</td>\n",
       "      <td>45.177665</td>\n",
       "      <td>46.745283</td>\n",
       "      <td>47.187500</td>\n",
       "      <td>49.087302</td>\n",
       "      <td>50.000000</td>\n",
       "      <td>100.000000</td>\n",
       "      <td>70.000000</td>\n",
       "      <td>50.000000</td>\n",
       "      <td>44.668246</td>\n",
       "      <td>...</td>\n",
       "      <td>8.000000</td>\n",
       "      <td>5.000000</td>\n",
       "      <td>5.000000</td>\n",
       "      <td>10.000000</td>\n",
       "      <td>45.165563</td>\n",
       "      <td>76.666667</td>\n",
       "      <td>45.526316</td>\n",
       "      <td>65.625000</td>\n",
       "      <td>49.609929</td>\n",
       "      <td>59.523810</td>\n",
       "    </tr>\n",
       "  </tbody>\n",
       "</table>\n",
       "<p>8 rows × 42 columns</p>\n",
       "</div>"
      ],
      "text/plain": [
       "           TAMUNI     CAPITAL          P1          P2          P3          P4  \\\n",
       "count  115.000000  115.000000  115.000000  115.000000  115.000000  115.000000   \n",
       "mean    45.457820   44.761788   44.639291   44.886417   45.228190   44.778569   \n",
       "std      3.789047    0.341048    3.474441    1.766618    4.524440    3.069546   \n",
       "min     29.705882   44.484536   35.600000   42.345679   23.750000   42.304688   \n",
       "25%     44.484536   44.484536   44.675325   42.345679   44.846939   42.304688   \n",
       "50%     44.484536   44.484536   45.529412   45.726496   44.846939   43.974359   \n",
       "75%     48.500000   45.177665   46.745283   45.726496   49.087302   44.347826   \n",
       "max     49.710145   45.177665   46.745283   47.187500   49.087302   50.000000   \n",
       "\n",
       "             P601        P701          P8         P8A  ...       P1903  \\\n",
       "count  115.000000  115.000000  115.000000  115.000000  ...  115.000000   \n",
       "mean    45.818552   45.138145   44.120359   40.968520  ...    6.026087   \n",
       "std      9.604523    6.339404    2.530035    2.338902  ...    1.012734   \n",
       "min     17.500000   30.000000   39.218750   39.230769  ...    4.000000   \n",
       "25%     42.014925   43.409091   44.829268   39.230769  ...    5.000000   \n",
       "50%     42.014925   44.629630   44.829268   39.230769  ...    6.000000   \n",
       "75%     47.906977   45.379747   44.829268   44.668246  ...    7.000000   \n",
       "max    100.000000   70.000000   50.000000   44.668246  ...    8.000000   \n",
       "\n",
       "            P1904       P1905       P1906         P23         P24         P25  \\\n",
       "count  115.000000  115.000000  115.000000  115.000000  115.000000  115.000000   \n",
       "mean     2.321739    2.617391    8.634783   44.925497   46.883319   45.036270   \n",
       "std      1.188747    1.203668    1.326719    0.222930   13.534387    0.093448   \n",
       "min      1.000000    1.000000    5.000000   44.720280    7.500000   45.018450   \n",
       "25%      1.000000    2.000000    8.000000   44.720280   39.444444   45.018450   \n",
       "50%      2.000000    3.000000    9.000000   44.720280   46.000000   45.018450   \n",
       "75%      3.000000    3.000000   10.000000   45.165563   56.666667   45.018450   \n",
       "max      5.000000    5.000000   10.000000   45.165563   76.666667   45.526316   \n",
       "\n",
       "             P25A         P26         P27  \n",
       "count  115.000000  115.000000  115.000000  \n",
       "mean    47.832229   45.656299   45.687311  \n",
       "std      8.378328    5.230042    5.557660  \n",
       "min     30.000000   25.000000   18.333333  \n",
       "25%     43.385827   42.109375   45.979899  \n",
       "50%     49.629630   49.609929   45.979899  \n",
       "75%     53.088235   49.609929   45.979899  \n",
       "max     65.625000   49.609929   59.523810  \n",
       "\n",
       "[8 rows x 42 columns]"
      ]
     },
     "execution_count": 134,
     "metadata": {},
     "output_type": "execute_result"
    }
   ],
   "source": [
    "cis_malaga_producccion.describe()"
   ]
  },
  {
   "cell_type": "code",
   "execution_count": null,
   "metadata": {
    "id": "FOp0U1qZyn3R"
   },
   "outputs": [],
   "source": []
  },
  {
   "cell_type": "markdown",
   "metadata": {
    "id": "rUTD7Kg5l2un"
   },
   "source": [
    "La matrix X, con la que haremos la predicción la definimos ahora quitando la columna P9, que es la que queremos predecir."
   ]
  },
  {
   "cell_type": "code",
   "execution_count": 135,
   "metadata": {
    "executionInfo": {
     "elapsed": 228,
     "status": "ok",
     "timestamp": 1630930295927,
     "user": {
      "displayName": "Guillermo Barrio",
      "photoUrl": "",
      "userId": "06925154007558381895"
     },
     "user_tz": -120
    },
    "id": "Uu3YKSAJyn0o"
   },
   "outputs": [],
   "source": [
    "X_prod = cis_malaga_producccion.drop(['P9'], axis = 1).values"
   ]
  },
  {
   "cell_type": "code",
   "execution_count": null,
   "metadata": {
    "id": "GOFjAWADBDIb"
   },
   "outputs": [],
   "source": []
  },
  {
   "cell_type": "markdown",
   "metadata": {
    "id": "W2WLveOwmA77"
   },
   "source": [
    "Y predecimos. Vemos que una gran cantidad de predicciones son 50, es decir, que estos encuestados finalmente no votarían."
   ]
  },
  {
   "cell_type": "code",
   "execution_count": 136,
   "metadata": {
    "executionInfo": {
     "elapsed": 243,
     "status": "ok",
     "timestamp": 1630930356727,
     "user": {
      "displayName": "Guillermo Barrio",
      "photoUrl": "",
      "userId": "06925154007558381895"
     },
     "user_tz": -120
    },
    "id": "zPCBY8LLBDEv"
   },
   "outputs": [],
   "source": [
    "y_prod = cis_malaga_model.predict(X_prod)"
   ]
  },
  {
   "cell_type": "code",
   "execution_count": 137,
   "metadata": {
    "colab": {
     "base_uri": "https://localhost:8080/"
    },
    "executionInfo": {
     "elapsed": 275,
     "status": "ok",
     "timestamp": 1630930363809,
     "user": {
      "displayName": "Guillermo Barrio",
      "photoUrl": "",
      "userId": "06925154007558381895"
     },
     "user_tz": -120
    },
    "id": "0V-bZPLdBDA3",
    "outputId": "9f8e18db-8770-40aa-ecbe-9d1bf95b6efd"
   },
   "outputs": [
    {
     "data": {
      "text/plain": [
       "array([ 50,  30,  50,  50,  50,  50,  60,  30,  50,  30,  50,  50,  50,\n",
       "        50,  50,  50,  30,  50,  50,  50,  50,  50,  50,  50,  50,  50,\n",
       "       100,  50,  50,  30,  30,  50,  50,  50,  50,  30,  70,  50,  50,\n",
       "        50,  30,  50,  50,  60,  50,  50,  30,  50,  50,  50,  30,  30,\n",
       "        30,  50,  50,   0,  50,  50,  50,   0,  50,  50,  50,  50,  50,\n",
       "        50,  60,  50,  50,  50,  50,  50,  70,  50,  50,  50,  50,  50,\n",
       "        50,  50,  30,  50,  50,  50,  50,  50,  30,  30,  30,  50,  30,\n",
       "        50,  30,  60,  50,  50,  50,  30,  50,  50,  50,  50,  50,  50,\n",
       "        50,  60, 100,   0,  50,  50,  30,  50,  50,  50,  50], dtype=int64)"
      ]
     },
     "execution_count": 137,
     "metadata": {},
     "output_type": "execute_result"
    }
   ],
   "source": [
    "y_prod"
   ]
  },
  {
   "cell_type": "code",
   "execution_count": null,
   "metadata": {
    "id": "7gaqu46sBC8p"
   },
   "outputs": [],
   "source": []
  },
  {
   "cell_type": "markdown",
   "metadata": {
    "id": "iR9D5FTtqqXI"
   },
   "source": [
    "## Estimación del voto de Málaga y comparación con el resultado real"
   ]
  },
  {
   "cell_type": "markdown",
   "metadata": {
    "id": "30y5RuOImMcE"
   },
   "source": [
    "Ahora rellenamos la columna P9 de este dataset, y la pasamos a enteros, aunque probablemente no hiciese falta."
   ]
  },
  {
   "cell_type": "code",
   "execution_count": 138,
   "metadata": {
    "executionInfo": {
     "elapsed": 227,
     "status": "ok",
     "timestamp": 1630930416690,
     "user": {
      "displayName": "Guillermo Barrio",
      "photoUrl": "",
      "userId": "06925154007558381895"
     },
     "user_tz": -120
    },
    "id": "jsVUyQ5dBC5W"
   },
   "outputs": [],
   "source": [
    "cis_malaga_producccion['P9'] = y_prod"
   ]
  },
  {
   "cell_type": "code",
   "execution_count": 139,
   "metadata": {
    "colab": {
     "base_uri": "https://localhost:8080/",
     "height": 439
    },
    "executionInfo": {
     "elapsed": 234,
     "status": "ok",
     "timestamp": 1630930424862,
     "user": {
      "displayName": "Guillermo Barrio",
      "photoUrl": "",
      "userId": "06925154007558381895"
     },
     "user_tz": -120
    },
    "id": "uUmc8801Bp6y",
    "outputId": "33d17868-2e4b-4efc-d111-632bb310ffc4"
   },
   "outputs": [
    {
     "data": {
      "text/html": [
       "<div>\n",
       "<style scoped>\n",
       "    .dataframe tbody tr th:only-of-type {\n",
       "        vertical-align: middle;\n",
       "    }\n",
       "\n",
       "    .dataframe tbody tr th {\n",
       "        vertical-align: top;\n",
       "    }\n",
       "\n",
       "    .dataframe thead th {\n",
       "        text-align: right;\n",
       "    }\n",
       "</style>\n",
       "<table border=\"1\" class=\"dataframe\">\n",
       "  <thead>\n",
       "    <tr style=\"text-align: right;\">\n",
       "      <th></th>\n",
       "      <th>TAMUNI</th>\n",
       "      <th>CAPITAL</th>\n",
       "      <th>P1</th>\n",
       "      <th>P2</th>\n",
       "      <th>P3</th>\n",
       "      <th>P4</th>\n",
       "      <th>P601</th>\n",
       "      <th>P701</th>\n",
       "      <th>P8</th>\n",
       "      <th>P8A</th>\n",
       "      <th>...</th>\n",
       "      <th>P1903</th>\n",
       "      <th>P1904</th>\n",
       "      <th>P1905</th>\n",
       "      <th>P1906</th>\n",
       "      <th>P23</th>\n",
       "      <th>P24</th>\n",
       "      <th>P25</th>\n",
       "      <th>P25A</th>\n",
       "      <th>P26</th>\n",
       "      <th>P27</th>\n",
       "    </tr>\n",
       "  </thead>\n",
       "  <tbody>\n",
       "    <tr>\n",
       "      <th>9773</th>\n",
       "      <td>47.600000</td>\n",
       "      <td>45.177665</td>\n",
       "      <td>46.745283</td>\n",
       "      <td>45.726496</td>\n",
       "      <td>39.435484</td>\n",
       "      <td>44.347826</td>\n",
       "      <td>40.365854</td>\n",
       "      <td>44.047619</td>\n",
       "      <td>44.829268</td>\n",
       "      <td>39.230769</td>\n",
       "      <td>...</td>\n",
       "      <td>5</td>\n",
       "      <td>2</td>\n",
       "      <td>2</td>\n",
       "      <td>8</td>\n",
       "      <td>44.720280</td>\n",
       "      <td>46.666667</td>\n",
       "      <td>45.01845</td>\n",
       "      <td>49.629630</td>\n",
       "      <td>49.609929</td>\n",
       "      <td>40.625000</td>\n",
       "    </tr>\n",
       "    <tr>\n",
       "      <th>9776</th>\n",
       "      <td>47.600000</td>\n",
       "      <td>45.177665</td>\n",
       "      <td>44.675325</td>\n",
       "      <td>45.726496</td>\n",
       "      <td>39.435484</td>\n",
       "      <td>42.304688</td>\n",
       "      <td>40.365854</td>\n",
       "      <td>34.666667</td>\n",
       "      <td>44.829268</td>\n",
       "      <td>39.230769</td>\n",
       "      <td>...</td>\n",
       "      <td>7</td>\n",
       "      <td>2</td>\n",
       "      <td>2</td>\n",
       "      <td>9</td>\n",
       "      <td>44.720280</td>\n",
       "      <td>53.333333</td>\n",
       "      <td>45.01845</td>\n",
       "      <td>65.625000</td>\n",
       "      <td>49.609929</td>\n",
       "      <td>45.979899</td>\n",
       "    </tr>\n",
       "    <tr>\n",
       "      <th>9788</th>\n",
       "      <td>48.500000</td>\n",
       "      <td>45.177665</td>\n",
       "      <td>45.529412</td>\n",
       "      <td>45.726496</td>\n",
       "      <td>49.087302</td>\n",
       "      <td>42.304688</td>\n",
       "      <td>40.365854</td>\n",
       "      <td>50.000000</td>\n",
       "      <td>44.829268</td>\n",
       "      <td>44.668246</td>\n",
       "      <td>...</td>\n",
       "      <td>5</td>\n",
       "      <td>3</td>\n",
       "      <td>2</td>\n",
       "      <td>9</td>\n",
       "      <td>44.720280</td>\n",
       "      <td>52.500000</td>\n",
       "      <td>45.01845</td>\n",
       "      <td>53.088235</td>\n",
       "      <td>49.609929</td>\n",
       "      <td>45.979899</td>\n",
       "    </tr>\n",
       "    <tr>\n",
       "      <th>9794</th>\n",
       "      <td>48.500000</td>\n",
       "      <td>45.177665</td>\n",
       "      <td>46.745283</td>\n",
       "      <td>42.345679</td>\n",
       "      <td>39.435484</td>\n",
       "      <td>43.974359</td>\n",
       "      <td>40.365854</td>\n",
       "      <td>41.250000</td>\n",
       "      <td>44.829268</td>\n",
       "      <td>39.230769</td>\n",
       "      <td>...</td>\n",
       "      <td>5</td>\n",
       "      <td>1</td>\n",
       "      <td>1</td>\n",
       "      <td>10</td>\n",
       "      <td>45.165563</td>\n",
       "      <td>15.000000</td>\n",
       "      <td>45.01845</td>\n",
       "      <td>53.088235</td>\n",
       "      <td>35.714286</td>\n",
       "      <td>45.979899</td>\n",
       "    </tr>\n",
       "    <tr>\n",
       "      <th>9797</th>\n",
       "      <td>48.500000</td>\n",
       "      <td>45.177665</td>\n",
       "      <td>44.675325</td>\n",
       "      <td>42.345679</td>\n",
       "      <td>49.087302</td>\n",
       "      <td>43.974359</td>\n",
       "      <td>42.014925</td>\n",
       "      <td>44.047619</td>\n",
       "      <td>39.218750</td>\n",
       "      <td>39.230769</td>\n",
       "      <td>...</td>\n",
       "      <td>7</td>\n",
       "      <td>2</td>\n",
       "      <td>2</td>\n",
       "      <td>10</td>\n",
       "      <td>45.165563</td>\n",
       "      <td>60.000000</td>\n",
       "      <td>45.01845</td>\n",
       "      <td>49.629630</td>\n",
       "      <td>42.109375</td>\n",
       "      <td>45.979899</td>\n",
       "    </tr>\n",
       "    <tr>\n",
       "      <th>...</th>\n",
       "      <td>...</td>\n",
       "      <td>...</td>\n",
       "      <td>...</td>\n",
       "      <td>...</td>\n",
       "      <td>...</td>\n",
       "      <td>...</td>\n",
       "      <td>...</td>\n",
       "      <td>...</td>\n",
       "      <td>...</td>\n",
       "      <td>...</td>\n",
       "      <td>...</td>\n",
       "      <td>...</td>\n",
       "      <td>...</td>\n",
       "      <td>...</td>\n",
       "      <td>...</td>\n",
       "      <td>...</td>\n",
       "      <td>...</td>\n",
       "      <td>...</td>\n",
       "      <td>...</td>\n",
       "      <td>...</td>\n",
       "      <td>...</td>\n",
       "    </tr>\n",
       "    <tr>\n",
       "      <th>10240</th>\n",
       "      <td>44.484536</td>\n",
       "      <td>44.484536</td>\n",
       "      <td>46.745283</td>\n",
       "      <td>45.726496</td>\n",
       "      <td>44.846939</td>\n",
       "      <td>43.974359</td>\n",
       "      <td>42.014925</td>\n",
       "      <td>44.629630</td>\n",
       "      <td>44.829268</td>\n",
       "      <td>39.230769</td>\n",
       "      <td>...</td>\n",
       "      <td>4</td>\n",
       "      <td>2</td>\n",
       "      <td>3</td>\n",
       "      <td>8</td>\n",
       "      <td>44.720280</td>\n",
       "      <td>23.750000</td>\n",
       "      <td>45.01845</td>\n",
       "      <td>35.200000</td>\n",
       "      <td>30.769231</td>\n",
       "      <td>45.979899</td>\n",
       "    </tr>\n",
       "    <tr>\n",
       "      <th>10241</th>\n",
       "      <td>44.484536</td>\n",
       "      <td>44.484536</td>\n",
       "      <td>46.745283</td>\n",
       "      <td>45.208333</td>\n",
       "      <td>44.846939</td>\n",
       "      <td>42.304688</td>\n",
       "      <td>80.000000</td>\n",
       "      <td>44.629630</td>\n",
       "      <td>44.829268</td>\n",
       "      <td>39.230769</td>\n",
       "      <td>...</td>\n",
       "      <td>6</td>\n",
       "      <td>2</td>\n",
       "      <td>2</td>\n",
       "      <td>8</td>\n",
       "      <td>45.165563</td>\n",
       "      <td>41.666667</td>\n",
       "      <td>45.01845</td>\n",
       "      <td>53.088235</td>\n",
       "      <td>42.109375</td>\n",
       "      <td>45.979899</td>\n",
       "    </tr>\n",
       "    <tr>\n",
       "      <th>10248</th>\n",
       "      <td>44.484536</td>\n",
       "      <td>44.484536</td>\n",
       "      <td>45.529412</td>\n",
       "      <td>45.726496</td>\n",
       "      <td>49.087302</td>\n",
       "      <td>50.000000</td>\n",
       "      <td>52.500000</td>\n",
       "      <td>40.535714</td>\n",
       "      <td>44.829268</td>\n",
       "      <td>39.230769</td>\n",
       "      <td>...</td>\n",
       "      <td>6</td>\n",
       "      <td>3</td>\n",
       "      <td>4</td>\n",
       "      <td>9</td>\n",
       "      <td>44.720280</td>\n",
       "      <td>43.750000</td>\n",
       "      <td>45.01845</td>\n",
       "      <td>35.200000</td>\n",
       "      <td>49.609929</td>\n",
       "      <td>45.979899</td>\n",
       "    </tr>\n",
       "    <tr>\n",
       "      <th>10249</th>\n",
       "      <td>44.484536</td>\n",
       "      <td>44.484536</td>\n",
       "      <td>44.675325</td>\n",
       "      <td>45.726496</td>\n",
       "      <td>49.087302</td>\n",
       "      <td>50.000000</td>\n",
       "      <td>47.906977</td>\n",
       "      <td>45.379747</td>\n",
       "      <td>44.829268</td>\n",
       "      <td>44.668246</td>\n",
       "      <td>...</td>\n",
       "      <td>7</td>\n",
       "      <td>1</td>\n",
       "      <td>3</td>\n",
       "      <td>8</td>\n",
       "      <td>45.165563</td>\n",
       "      <td>65.000000</td>\n",
       "      <td>45.01845</td>\n",
       "      <td>49.629630</td>\n",
       "      <td>49.609929</td>\n",
       "      <td>45.979899</td>\n",
       "    </tr>\n",
       "    <tr>\n",
       "      <th>10250</th>\n",
       "      <td>44.484536</td>\n",
       "      <td>44.484536</td>\n",
       "      <td>46.745283</td>\n",
       "      <td>42.345679</td>\n",
       "      <td>49.087302</td>\n",
       "      <td>50.000000</td>\n",
       "      <td>47.906977</td>\n",
       "      <td>44.629630</td>\n",
       "      <td>44.829268</td>\n",
       "      <td>39.230769</td>\n",
       "      <td>...</td>\n",
       "      <td>5</td>\n",
       "      <td>5</td>\n",
       "      <td>5</td>\n",
       "      <td>10</td>\n",
       "      <td>44.720280</td>\n",
       "      <td>30.000000</td>\n",
       "      <td>45.01845</td>\n",
       "      <td>35.200000</td>\n",
       "      <td>30.769231</td>\n",
       "      <td>45.979899</td>\n",
       "    </tr>\n",
       "  </tbody>\n",
       "</table>\n",
       "<p>115 rows × 42 columns</p>\n",
       "</div>"
      ],
      "text/plain": [
       "          TAMUNI    CAPITAL         P1         P2         P3         P4  \\\n",
       "9773   47.600000  45.177665  46.745283  45.726496  39.435484  44.347826   \n",
       "9776   47.600000  45.177665  44.675325  45.726496  39.435484  42.304688   \n",
       "9788   48.500000  45.177665  45.529412  45.726496  49.087302  42.304688   \n",
       "9794   48.500000  45.177665  46.745283  42.345679  39.435484  43.974359   \n",
       "9797   48.500000  45.177665  44.675325  42.345679  49.087302  43.974359   \n",
       "...          ...        ...        ...        ...        ...        ...   \n",
       "10240  44.484536  44.484536  46.745283  45.726496  44.846939  43.974359   \n",
       "10241  44.484536  44.484536  46.745283  45.208333  44.846939  42.304688   \n",
       "10248  44.484536  44.484536  45.529412  45.726496  49.087302  50.000000   \n",
       "10249  44.484536  44.484536  44.675325  45.726496  49.087302  50.000000   \n",
       "10250  44.484536  44.484536  46.745283  42.345679  49.087302  50.000000   \n",
       "\n",
       "            P601       P701         P8        P8A  ...  P1903  P1904  P1905  \\\n",
       "9773   40.365854  44.047619  44.829268  39.230769  ...      5      2      2   \n",
       "9776   40.365854  34.666667  44.829268  39.230769  ...      7      2      2   \n",
       "9788   40.365854  50.000000  44.829268  44.668246  ...      5      3      2   \n",
       "9794   40.365854  41.250000  44.829268  39.230769  ...      5      1      1   \n",
       "9797   42.014925  44.047619  39.218750  39.230769  ...      7      2      2   \n",
       "...          ...        ...        ...        ...  ...    ...    ...    ...   \n",
       "10240  42.014925  44.629630  44.829268  39.230769  ...      4      2      3   \n",
       "10241  80.000000  44.629630  44.829268  39.230769  ...      6      2      2   \n",
       "10248  52.500000  40.535714  44.829268  39.230769  ...      6      3      4   \n",
       "10249  47.906977  45.379747  44.829268  44.668246  ...      7      1      3   \n",
       "10250  47.906977  44.629630  44.829268  39.230769  ...      5      5      5   \n",
       "\n",
       "       P1906        P23        P24       P25       P25A        P26        P27  \n",
       "9773       8  44.720280  46.666667  45.01845  49.629630  49.609929  40.625000  \n",
       "9776       9  44.720280  53.333333  45.01845  65.625000  49.609929  45.979899  \n",
       "9788       9  44.720280  52.500000  45.01845  53.088235  49.609929  45.979899  \n",
       "9794      10  45.165563  15.000000  45.01845  53.088235  35.714286  45.979899  \n",
       "9797      10  45.165563  60.000000  45.01845  49.629630  42.109375  45.979899  \n",
       "...      ...        ...        ...       ...        ...        ...        ...  \n",
       "10240      8  44.720280  23.750000  45.01845  35.200000  30.769231  45.979899  \n",
       "10241      8  45.165563  41.666667  45.01845  53.088235  42.109375  45.979899  \n",
       "10248      9  44.720280  43.750000  45.01845  35.200000  49.609929  45.979899  \n",
       "10249      8  45.165563  65.000000  45.01845  49.629630  49.609929  45.979899  \n",
       "10250     10  44.720280  30.000000  45.01845  35.200000  30.769231  45.979899  \n",
       "\n",
       "[115 rows x 42 columns]"
      ]
     },
     "execution_count": 139,
     "metadata": {},
     "output_type": "execute_result"
    }
   ],
   "source": [
    "cis_malaga_producccion"
   ]
  },
  {
   "cell_type": "code",
   "execution_count": null,
   "metadata": {
    "id": "I4Y_HTh_Brdw"
   },
   "outputs": [],
   "source": []
  },
  {
   "cell_type": "code",
   "execution_count": 140,
   "metadata": {
    "executionInfo": {
     "elapsed": 227,
     "status": "ok",
     "timestamp": 1630930497068,
     "user": {
      "displayName": "Guillermo Barrio",
      "photoUrl": "",
      "userId": "06925154007558381895"
     },
     "user_tz": -120
    },
    "id": "4Y0yFrsnBrY9"
   },
   "outputs": [],
   "source": [
    "cis_malaga_producccion['P9'] = cis_malaga_producccion['P9'].astype('int64')"
   ]
  },
  {
   "cell_type": "code",
   "execution_count": 141,
   "metadata": {
    "colab": {
     "base_uri": "https://localhost:8080/",
     "height": 439
    },
    "executionInfo": {
     "elapsed": 234,
     "status": "ok",
     "timestamp": 1630930505022,
     "user": {
      "displayName": "Guillermo Barrio",
      "photoUrl": "",
      "userId": "06925154007558381895"
     },
     "user_tz": -120
    },
    "id": "ZOicBL0jBrVc",
    "outputId": "8e61f8d7-f7ce-4bd7-94e2-155f19fa9368"
   },
   "outputs": [
    {
     "data": {
      "text/html": [
       "<div>\n",
       "<style scoped>\n",
       "    .dataframe tbody tr th:only-of-type {\n",
       "        vertical-align: middle;\n",
       "    }\n",
       "\n",
       "    .dataframe tbody tr th {\n",
       "        vertical-align: top;\n",
       "    }\n",
       "\n",
       "    .dataframe thead th {\n",
       "        text-align: right;\n",
       "    }\n",
       "</style>\n",
       "<table border=\"1\" class=\"dataframe\">\n",
       "  <thead>\n",
       "    <tr style=\"text-align: right;\">\n",
       "      <th></th>\n",
       "      <th>TAMUNI</th>\n",
       "      <th>CAPITAL</th>\n",
       "      <th>P1</th>\n",
       "      <th>P2</th>\n",
       "      <th>P3</th>\n",
       "      <th>P4</th>\n",
       "      <th>P601</th>\n",
       "      <th>P701</th>\n",
       "      <th>P8</th>\n",
       "      <th>P8A</th>\n",
       "      <th>...</th>\n",
       "      <th>P1903</th>\n",
       "      <th>P1904</th>\n",
       "      <th>P1905</th>\n",
       "      <th>P1906</th>\n",
       "      <th>P23</th>\n",
       "      <th>P24</th>\n",
       "      <th>P25</th>\n",
       "      <th>P25A</th>\n",
       "      <th>P26</th>\n",
       "      <th>P27</th>\n",
       "    </tr>\n",
       "  </thead>\n",
       "  <tbody>\n",
       "    <tr>\n",
       "      <th>9773</th>\n",
       "      <td>47.600000</td>\n",
       "      <td>45.177665</td>\n",
       "      <td>46.745283</td>\n",
       "      <td>45.726496</td>\n",
       "      <td>39.435484</td>\n",
       "      <td>44.347826</td>\n",
       "      <td>40.365854</td>\n",
       "      <td>44.047619</td>\n",
       "      <td>44.829268</td>\n",
       "      <td>39.230769</td>\n",
       "      <td>...</td>\n",
       "      <td>5</td>\n",
       "      <td>2</td>\n",
       "      <td>2</td>\n",
       "      <td>8</td>\n",
       "      <td>44.720280</td>\n",
       "      <td>46.666667</td>\n",
       "      <td>45.01845</td>\n",
       "      <td>49.629630</td>\n",
       "      <td>49.609929</td>\n",
       "      <td>40.625000</td>\n",
       "    </tr>\n",
       "    <tr>\n",
       "      <th>9776</th>\n",
       "      <td>47.600000</td>\n",
       "      <td>45.177665</td>\n",
       "      <td>44.675325</td>\n",
       "      <td>45.726496</td>\n",
       "      <td>39.435484</td>\n",
       "      <td>42.304688</td>\n",
       "      <td>40.365854</td>\n",
       "      <td>34.666667</td>\n",
       "      <td>44.829268</td>\n",
       "      <td>39.230769</td>\n",
       "      <td>...</td>\n",
       "      <td>7</td>\n",
       "      <td>2</td>\n",
       "      <td>2</td>\n",
       "      <td>9</td>\n",
       "      <td>44.720280</td>\n",
       "      <td>53.333333</td>\n",
       "      <td>45.01845</td>\n",
       "      <td>65.625000</td>\n",
       "      <td>49.609929</td>\n",
       "      <td>45.979899</td>\n",
       "    </tr>\n",
       "    <tr>\n",
       "      <th>9788</th>\n",
       "      <td>48.500000</td>\n",
       "      <td>45.177665</td>\n",
       "      <td>45.529412</td>\n",
       "      <td>45.726496</td>\n",
       "      <td>49.087302</td>\n",
       "      <td>42.304688</td>\n",
       "      <td>40.365854</td>\n",
       "      <td>50.000000</td>\n",
       "      <td>44.829268</td>\n",
       "      <td>44.668246</td>\n",
       "      <td>...</td>\n",
       "      <td>5</td>\n",
       "      <td>3</td>\n",
       "      <td>2</td>\n",
       "      <td>9</td>\n",
       "      <td>44.720280</td>\n",
       "      <td>52.500000</td>\n",
       "      <td>45.01845</td>\n",
       "      <td>53.088235</td>\n",
       "      <td>49.609929</td>\n",
       "      <td>45.979899</td>\n",
       "    </tr>\n",
       "    <tr>\n",
       "      <th>9794</th>\n",
       "      <td>48.500000</td>\n",
       "      <td>45.177665</td>\n",
       "      <td>46.745283</td>\n",
       "      <td>42.345679</td>\n",
       "      <td>39.435484</td>\n",
       "      <td>43.974359</td>\n",
       "      <td>40.365854</td>\n",
       "      <td>41.250000</td>\n",
       "      <td>44.829268</td>\n",
       "      <td>39.230769</td>\n",
       "      <td>...</td>\n",
       "      <td>5</td>\n",
       "      <td>1</td>\n",
       "      <td>1</td>\n",
       "      <td>10</td>\n",
       "      <td>45.165563</td>\n",
       "      <td>15.000000</td>\n",
       "      <td>45.01845</td>\n",
       "      <td>53.088235</td>\n",
       "      <td>35.714286</td>\n",
       "      <td>45.979899</td>\n",
       "    </tr>\n",
       "    <tr>\n",
       "      <th>9797</th>\n",
       "      <td>48.500000</td>\n",
       "      <td>45.177665</td>\n",
       "      <td>44.675325</td>\n",
       "      <td>42.345679</td>\n",
       "      <td>49.087302</td>\n",
       "      <td>43.974359</td>\n",
       "      <td>42.014925</td>\n",
       "      <td>44.047619</td>\n",
       "      <td>39.218750</td>\n",
       "      <td>39.230769</td>\n",
       "      <td>...</td>\n",
       "      <td>7</td>\n",
       "      <td>2</td>\n",
       "      <td>2</td>\n",
       "      <td>10</td>\n",
       "      <td>45.165563</td>\n",
       "      <td>60.000000</td>\n",
       "      <td>45.01845</td>\n",
       "      <td>49.629630</td>\n",
       "      <td>42.109375</td>\n",
       "      <td>45.979899</td>\n",
       "    </tr>\n",
       "    <tr>\n",
       "      <th>...</th>\n",
       "      <td>...</td>\n",
       "      <td>...</td>\n",
       "      <td>...</td>\n",
       "      <td>...</td>\n",
       "      <td>...</td>\n",
       "      <td>...</td>\n",
       "      <td>...</td>\n",
       "      <td>...</td>\n",
       "      <td>...</td>\n",
       "      <td>...</td>\n",
       "      <td>...</td>\n",
       "      <td>...</td>\n",
       "      <td>...</td>\n",
       "      <td>...</td>\n",
       "      <td>...</td>\n",
       "      <td>...</td>\n",
       "      <td>...</td>\n",
       "      <td>...</td>\n",
       "      <td>...</td>\n",
       "      <td>...</td>\n",
       "      <td>...</td>\n",
       "    </tr>\n",
       "    <tr>\n",
       "      <th>10240</th>\n",
       "      <td>44.484536</td>\n",
       "      <td>44.484536</td>\n",
       "      <td>46.745283</td>\n",
       "      <td>45.726496</td>\n",
       "      <td>44.846939</td>\n",
       "      <td>43.974359</td>\n",
       "      <td>42.014925</td>\n",
       "      <td>44.629630</td>\n",
       "      <td>44.829268</td>\n",
       "      <td>39.230769</td>\n",
       "      <td>...</td>\n",
       "      <td>4</td>\n",
       "      <td>2</td>\n",
       "      <td>3</td>\n",
       "      <td>8</td>\n",
       "      <td>44.720280</td>\n",
       "      <td>23.750000</td>\n",
       "      <td>45.01845</td>\n",
       "      <td>35.200000</td>\n",
       "      <td>30.769231</td>\n",
       "      <td>45.979899</td>\n",
       "    </tr>\n",
       "    <tr>\n",
       "      <th>10241</th>\n",
       "      <td>44.484536</td>\n",
       "      <td>44.484536</td>\n",
       "      <td>46.745283</td>\n",
       "      <td>45.208333</td>\n",
       "      <td>44.846939</td>\n",
       "      <td>42.304688</td>\n",
       "      <td>80.000000</td>\n",
       "      <td>44.629630</td>\n",
       "      <td>44.829268</td>\n",
       "      <td>39.230769</td>\n",
       "      <td>...</td>\n",
       "      <td>6</td>\n",
       "      <td>2</td>\n",
       "      <td>2</td>\n",
       "      <td>8</td>\n",
       "      <td>45.165563</td>\n",
       "      <td>41.666667</td>\n",
       "      <td>45.01845</td>\n",
       "      <td>53.088235</td>\n",
       "      <td>42.109375</td>\n",
       "      <td>45.979899</td>\n",
       "    </tr>\n",
       "    <tr>\n",
       "      <th>10248</th>\n",
       "      <td>44.484536</td>\n",
       "      <td>44.484536</td>\n",
       "      <td>45.529412</td>\n",
       "      <td>45.726496</td>\n",
       "      <td>49.087302</td>\n",
       "      <td>50.000000</td>\n",
       "      <td>52.500000</td>\n",
       "      <td>40.535714</td>\n",
       "      <td>44.829268</td>\n",
       "      <td>39.230769</td>\n",
       "      <td>...</td>\n",
       "      <td>6</td>\n",
       "      <td>3</td>\n",
       "      <td>4</td>\n",
       "      <td>9</td>\n",
       "      <td>44.720280</td>\n",
       "      <td>43.750000</td>\n",
       "      <td>45.01845</td>\n",
       "      <td>35.200000</td>\n",
       "      <td>49.609929</td>\n",
       "      <td>45.979899</td>\n",
       "    </tr>\n",
       "    <tr>\n",
       "      <th>10249</th>\n",
       "      <td>44.484536</td>\n",
       "      <td>44.484536</td>\n",
       "      <td>44.675325</td>\n",
       "      <td>45.726496</td>\n",
       "      <td>49.087302</td>\n",
       "      <td>50.000000</td>\n",
       "      <td>47.906977</td>\n",
       "      <td>45.379747</td>\n",
       "      <td>44.829268</td>\n",
       "      <td>44.668246</td>\n",
       "      <td>...</td>\n",
       "      <td>7</td>\n",
       "      <td>1</td>\n",
       "      <td>3</td>\n",
       "      <td>8</td>\n",
       "      <td>45.165563</td>\n",
       "      <td>65.000000</td>\n",
       "      <td>45.01845</td>\n",
       "      <td>49.629630</td>\n",
       "      <td>49.609929</td>\n",
       "      <td>45.979899</td>\n",
       "    </tr>\n",
       "    <tr>\n",
       "      <th>10250</th>\n",
       "      <td>44.484536</td>\n",
       "      <td>44.484536</td>\n",
       "      <td>46.745283</td>\n",
       "      <td>42.345679</td>\n",
       "      <td>49.087302</td>\n",
       "      <td>50.000000</td>\n",
       "      <td>47.906977</td>\n",
       "      <td>44.629630</td>\n",
       "      <td>44.829268</td>\n",
       "      <td>39.230769</td>\n",
       "      <td>...</td>\n",
       "      <td>5</td>\n",
       "      <td>5</td>\n",
       "      <td>5</td>\n",
       "      <td>10</td>\n",
       "      <td>44.720280</td>\n",
       "      <td>30.000000</td>\n",
       "      <td>45.01845</td>\n",
       "      <td>35.200000</td>\n",
       "      <td>30.769231</td>\n",
       "      <td>45.979899</td>\n",
       "    </tr>\n",
       "  </tbody>\n",
       "</table>\n",
       "<p>115 rows × 42 columns</p>\n",
       "</div>"
      ],
      "text/plain": [
       "          TAMUNI    CAPITAL         P1         P2         P3         P4  \\\n",
       "9773   47.600000  45.177665  46.745283  45.726496  39.435484  44.347826   \n",
       "9776   47.600000  45.177665  44.675325  45.726496  39.435484  42.304688   \n",
       "9788   48.500000  45.177665  45.529412  45.726496  49.087302  42.304688   \n",
       "9794   48.500000  45.177665  46.745283  42.345679  39.435484  43.974359   \n",
       "9797   48.500000  45.177665  44.675325  42.345679  49.087302  43.974359   \n",
       "...          ...        ...        ...        ...        ...        ...   \n",
       "10240  44.484536  44.484536  46.745283  45.726496  44.846939  43.974359   \n",
       "10241  44.484536  44.484536  46.745283  45.208333  44.846939  42.304688   \n",
       "10248  44.484536  44.484536  45.529412  45.726496  49.087302  50.000000   \n",
       "10249  44.484536  44.484536  44.675325  45.726496  49.087302  50.000000   \n",
       "10250  44.484536  44.484536  46.745283  42.345679  49.087302  50.000000   \n",
       "\n",
       "            P601       P701         P8        P8A  ...  P1903  P1904  P1905  \\\n",
       "9773   40.365854  44.047619  44.829268  39.230769  ...      5      2      2   \n",
       "9776   40.365854  34.666667  44.829268  39.230769  ...      7      2      2   \n",
       "9788   40.365854  50.000000  44.829268  44.668246  ...      5      3      2   \n",
       "9794   40.365854  41.250000  44.829268  39.230769  ...      5      1      1   \n",
       "9797   42.014925  44.047619  39.218750  39.230769  ...      7      2      2   \n",
       "...          ...        ...        ...        ...  ...    ...    ...    ...   \n",
       "10240  42.014925  44.629630  44.829268  39.230769  ...      4      2      3   \n",
       "10241  80.000000  44.629630  44.829268  39.230769  ...      6      2      2   \n",
       "10248  52.500000  40.535714  44.829268  39.230769  ...      6      3      4   \n",
       "10249  47.906977  45.379747  44.829268  44.668246  ...      7      1      3   \n",
       "10250  47.906977  44.629630  44.829268  39.230769  ...      5      5      5   \n",
       "\n",
       "       P1906        P23        P24       P25       P25A        P26        P27  \n",
       "9773       8  44.720280  46.666667  45.01845  49.629630  49.609929  40.625000  \n",
       "9776       9  44.720280  53.333333  45.01845  65.625000  49.609929  45.979899  \n",
       "9788       9  44.720280  52.500000  45.01845  53.088235  49.609929  45.979899  \n",
       "9794      10  45.165563  15.000000  45.01845  53.088235  35.714286  45.979899  \n",
       "9797      10  45.165563  60.000000  45.01845  49.629630  42.109375  45.979899  \n",
       "...      ...        ...        ...       ...        ...        ...        ...  \n",
       "10240      8  44.720280  23.750000  45.01845  35.200000  30.769231  45.979899  \n",
       "10241      8  45.165563  41.666667  45.01845  53.088235  42.109375  45.979899  \n",
       "10248      9  44.720280  43.750000  45.01845  35.200000  49.609929  45.979899  \n",
       "10249      8  45.165563  65.000000  45.01845  49.629630  49.609929  45.979899  \n",
       "10250     10  44.720280  30.000000  45.01845  35.200000  30.769231  45.979899  \n",
       "\n",
       "[115 rows x 42 columns]"
      ]
     },
     "execution_count": 141,
     "metadata": {},
     "output_type": "execute_result"
    }
   ],
   "source": [
    "cis_malaga_producccion"
   ]
  },
  {
   "cell_type": "code",
   "execution_count": null,
   "metadata": {
    "id": "7HoMsWWHBp3y"
   },
   "outputs": [],
   "source": []
  },
  {
   "cell_type": "code",
   "execution_count": null,
   "metadata": {
    "id": "HjcA-7TFBp0_"
   },
   "outputs": [],
   "source": []
  },
  {
   "cell_type": "markdown",
   "metadata": {
    "id": "CxXyZh67mcpO"
   },
   "source": [
    "Ahora calcularemos nuestra predicción del resultado en Málaga. Comenzamos por crear un solo dataframe con los de train, test, y el predicho."
   ]
  },
  {
   "cell_type": "code",
   "execution_count": 142,
   "metadata": {
    "executionInfo": {
     "elapsed": 255,
     "status": "ok",
     "timestamp": 1630933841565,
     "user": {
      "displayName": "Guillermo Barrio",
      "photoUrl": "",
      "userId": "06925154007558381895"
     },
     "user_tz": -120
    },
    "id": "G2LVGdfHBpyQ"
   },
   "outputs": [],
   "source": [
    "df = df_train.append(df_test).append(cis_malaga_producccion)"
   ]
  },
  {
   "cell_type": "markdown",
   "metadata": {
    "id": "ZKpguE0pmt42"
   },
   "source": [
    "Nos quedamos solo con la columna de P9, y descartamos, para calcular porcentaje de voto, los registros de los encuestrados que no votan."
   ]
  },
  {
   "cell_type": "code",
   "execution_count": 143,
   "metadata": {
    "executionInfo": {
     "elapsed": 235,
     "status": "ok",
     "timestamp": 1630933843679,
     "user": {
      "displayName": "Guillermo Barrio",
      "photoUrl": "",
      "userId": "06925154007558381895"
     },
     "user_tz": -120
    },
    "id": "yF29bs8IBpvO"
   },
   "outputs": [],
   "source": [
    "df_simp = df[['P9']]"
   ]
  },
  {
   "cell_type": "code",
   "execution_count": 144,
   "metadata": {
    "executionInfo": {
     "elapsed": 239,
     "status": "ok",
     "timestamp": 1630933845703,
     "user": {
      "displayName": "Guillermo Barrio",
      "photoUrl": "",
      "userId": "06925154007558381895"
     },
     "user_tz": -120
    },
    "id": "b6AuiUWuBpsH"
   },
   "outputs": [],
   "source": [
    "df_simp = df_simp[df_simp['P9'] != 50]"
   ]
  },
  {
   "cell_type": "code",
   "execution_count": 145,
   "metadata": {
    "colab": {
     "base_uri": "https://localhost:8080/",
     "height": 419
    },
    "executionInfo": {
     "elapsed": 232,
     "status": "ok",
     "timestamp": 1630933847310,
     "user": {
      "displayName": "Guillermo Barrio",
      "photoUrl": "",
      "userId": "06925154007558381895"
     },
     "user_tz": -120
    },
    "id": "Za5QBdxGBppI",
    "outputId": "d092b545-d5d7-48c8-80df-a7397b92cdd7"
   },
   "outputs": [
    {
     "data": {
      "text/html": [
       "<div>\n",
       "<style scoped>\n",
       "    .dataframe tbody tr th:only-of-type {\n",
       "        vertical-align: middle;\n",
       "    }\n",
       "\n",
       "    .dataframe tbody tr th {\n",
       "        vertical-align: top;\n",
       "    }\n",
       "\n",
       "    .dataframe thead th {\n",
       "        text-align: right;\n",
       "    }\n",
       "</style>\n",
       "<table border=\"1\" class=\"dataframe\">\n",
       "  <thead>\n",
       "    <tr style=\"text-align: right;\">\n",
       "      <th></th>\n",
       "      <th>P9</th>\n",
       "    </tr>\n",
       "  </thead>\n",
       "  <tbody>\n",
       "    <tr>\n",
       "      <th>0</th>\n",
       "      <td>70</td>\n",
       "    </tr>\n",
       "    <tr>\n",
       "      <th>1</th>\n",
       "      <td>30</td>\n",
       "    </tr>\n",
       "    <tr>\n",
       "      <th>2</th>\n",
       "      <td>30</td>\n",
       "    </tr>\n",
       "    <tr>\n",
       "      <th>3</th>\n",
       "      <td>0</td>\n",
       "    </tr>\n",
       "    <tr>\n",
       "      <th>4</th>\n",
       "      <td>30</td>\n",
       "    </tr>\n",
       "    <tr>\n",
       "      <th>...</th>\n",
       "      <td>...</td>\n",
       "    </tr>\n",
       "    <tr>\n",
       "      <th>10209</th>\n",
       "      <td>30</td>\n",
       "    </tr>\n",
       "    <tr>\n",
       "      <th>10229</th>\n",
       "      <td>60</td>\n",
       "    </tr>\n",
       "    <tr>\n",
       "      <th>10230</th>\n",
       "      <td>100</td>\n",
       "    </tr>\n",
       "    <tr>\n",
       "      <th>10231</th>\n",
       "      <td>0</td>\n",
       "    </tr>\n",
       "    <tr>\n",
       "      <th>10240</th>\n",
       "      <td>30</td>\n",
       "    </tr>\n",
       "  </tbody>\n",
       "</table>\n",
       "<p>332 rows × 1 columns</p>\n",
       "</div>"
      ],
      "text/plain": [
       "        P9\n",
       "0       70\n",
       "1       30\n",
       "2       30\n",
       "3        0\n",
       "4       30\n",
       "...    ...\n",
       "10209   30\n",
       "10229   60\n",
       "10230  100\n",
       "10231    0\n",
       "10240   30\n",
       "\n",
       "[332 rows x 1 columns]"
      ]
     },
     "execution_count": 145,
     "metadata": {},
     "output_type": "execute_result"
    }
   ],
   "source": [
    "df_simp"
   ]
  },
  {
   "cell_type": "code",
   "execution_count": null,
   "metadata": {
    "id": "69QQ6E2IGPtM"
   },
   "outputs": [],
   "source": []
  },
  {
   "cell_type": "markdown",
   "metadata": {
    "id": "akyDh9xNm_0P"
   },
   "source": [
    "Para ganar en interpretabilidad, podemos deshacer el mapeo de los partidos, convirtiendo de nuevo los números en las siglas de estos. Calculamos los diccionarios inversos."
   ]
  },
  {
   "cell_type": "code",
   "execution_count": 146,
   "metadata": {
    "executionInfo": {
     "elapsed": 241,
     "status": "ok",
     "timestamp": 1630933850863,
     "user": {
      "displayName": "Guillermo Barrio",
      "photoUrl": "",
      "userId": "06925154007558381895"
     },
     "user_tz": -120
    },
    "id": "O3SEFO3cCfos"
   },
   "outputs": [],
   "source": [
    "cod_partidos_P9 = {'Unidas Podemos' : 0,\n",
    "                'Podemos' : 0,\n",
    "                'IU' : 5, \n",
    "                'Más País' : 15,\n",
    "                'PSOE' : 30,\n",
    "                'Ciudadanos' : 60,\n",
    "                'No votará' : 50,\n",
    "                'PP' : 70,\n",
    "                'VOX' : 100}"
   ]
  },
  {
   "cell_type": "code",
   "execution_count": 147,
   "metadata": {
    "executionInfo": {
     "elapsed": 223,
     "status": "ok",
     "timestamp": 1630933852995,
     "user": {
      "displayName": "Guillermo Barrio",
      "photoUrl": "",
      "userId": "06925154007558381895"
     },
     "user_tz": -120
    },
    "id": "qCVw79GyCflk"
   },
   "outputs": [],
   "source": [
    "cod_partidos_P9_inv = dict([(value, key) for key, value in cod_partidos_P9.items()])"
   ]
  },
  {
   "cell_type": "code",
   "execution_count": 148,
   "metadata": {
    "colab": {
     "base_uri": "https://localhost:8080/"
    },
    "executionInfo": {
     "elapsed": 257,
     "status": "ok",
     "timestamp": 1630933854509,
     "user": {
      "displayName": "Guillermo Barrio",
      "photoUrl": "",
      "userId": "06925154007558381895"
     },
     "user_tz": -120
    },
    "id": "yia-p9NrCfiv",
    "outputId": "8ab36563-9d06-4ba1-f45e-8b5cfcf0df95"
   },
   "outputs": [
    {
     "data": {
      "text/plain": [
       "{0: 'Podemos',\n",
       " 5: 'IU',\n",
       " 15: 'Más País',\n",
       " 30: 'PSOE',\n",
       " 60: 'Ciudadanos',\n",
       " 50: 'No votará',\n",
       " 70: 'PP',\n",
       " 100: 'VOX'}"
      ]
     },
     "execution_count": 148,
     "metadata": {},
     "output_type": "execute_result"
    }
   ],
   "source": [
    "cod_partidos_P9_inv"
   ]
  },
  {
   "cell_type": "markdown",
   "metadata": {
    "id": "uVB3ffeYnO5b"
   },
   "source": [
    "Vemos que la columna P9, el voto declarado y el predicho, indica un porcentaje de voto al PSOE del 45,9%."
   ]
  },
  {
   "cell_type": "code",
   "execution_count": 149,
   "metadata": {
    "executionInfo": {
     "elapsed": 229,
     "status": "ok",
     "timestamp": 1630933857033,
     "user": {
      "displayName": "Guillermo Barrio",
      "photoUrl": "",
      "userId": "06925154007558381895"
     },
     "user_tz": -120
    },
    "id": "2uE2uPHkCffo"
   },
   "outputs": [],
   "source": [
    "df_simp['P9'] = df_simp['P9'].map(cod_partidos_P9_inv)"
   ]
  },
  {
   "cell_type": "code",
   "execution_count": 150,
   "metadata": {
    "colab": {
     "base_uri": "https://localhost:8080/"
    },
    "executionInfo": {
     "elapsed": 431,
     "status": "ok",
     "timestamp": 1630933858766,
     "user": {
      "displayName": "Guillermo Barrio",
      "photoUrl": "",
      "userId": "06925154007558381895"
     },
     "user_tz": -120
    },
    "id": "igLvAeafCfav",
    "outputId": "c2f54ace-a16c-406b-e043-d513185764ee"
   },
   "outputs": [
    {
     "data": {
      "text/plain": [
       "PSOE          0.451807\n",
       "PP            0.171687\n",
       "Ciudadanos    0.126506\n",
       "Podemos       0.111446\n",
       "VOX           0.108434\n",
       "IU            0.021084\n",
       "Más País      0.009036\n",
       "Name: P9, dtype: float64"
      ]
     },
     "execution_count": 150,
     "metadata": {},
     "output_type": "execute_result"
    }
   ],
   "source": [
    "df_simp['P9'].value_counts() / df_simp['P9'].value_counts().sum()"
   ]
  },
  {
   "cell_type": "markdown",
   "metadata": {
    "id": "DTkYIbWinbQm"
   },
   "source": [
    "Metemos estos datos en un dataframe, y para mayor comodidad, debido a nuestra ignorancia, reestablecemos el índice."
   ]
  },
  {
   "cell_type": "code",
   "execution_count": 151,
   "metadata": {
    "executionInfo": {
     "elapsed": 245,
     "status": "ok",
     "timestamp": 1630933862763,
     "user": {
      "displayName": "Guillermo Barrio",
      "photoUrl": "",
      "userId": "06925154007558381895"
     },
     "user_tz": -120
    },
    "id": "yTKyGNOVCfXt"
   },
   "outputs": [],
   "source": [
    "df_N19_est = pd.DataFrame(df_simp['P9'].value_counts() / df_simp['P9'].value_counts().sum())"
   ]
  },
  {
   "cell_type": "code",
   "execution_count": 152,
   "metadata": {
    "colab": {
     "base_uri": "https://localhost:8080/",
     "height": 266
    },
    "executionInfo": {
     "elapsed": 259,
     "status": "ok",
     "timestamp": 1630933869314,
     "user": {
      "displayName": "Guillermo Barrio",
      "photoUrl": "",
      "userId": "06925154007558381895"
     },
     "user_tz": -120
    },
    "id": "MkqhPCeIHOwy",
    "outputId": "83d7137f-a08c-4495-f824-c1c67579e80e"
   },
   "outputs": [
    {
     "data": {
      "text/html": [
       "<div>\n",
       "<style scoped>\n",
       "    .dataframe tbody tr th:only-of-type {\n",
       "        vertical-align: middle;\n",
       "    }\n",
       "\n",
       "    .dataframe tbody tr th {\n",
       "        vertical-align: top;\n",
       "    }\n",
       "\n",
       "    .dataframe thead th {\n",
       "        text-align: right;\n",
       "    }\n",
       "</style>\n",
       "<table border=\"1\" class=\"dataframe\">\n",
       "  <thead>\n",
       "    <tr style=\"text-align: right;\">\n",
       "      <th></th>\n",
       "      <th>P9</th>\n",
       "    </tr>\n",
       "  </thead>\n",
       "  <tbody>\n",
       "    <tr>\n",
       "      <th>PSOE</th>\n",
       "      <td>0.451807</td>\n",
       "    </tr>\n",
       "    <tr>\n",
       "      <th>PP</th>\n",
       "      <td>0.171687</td>\n",
       "    </tr>\n",
       "    <tr>\n",
       "      <th>Ciudadanos</th>\n",
       "      <td>0.126506</td>\n",
       "    </tr>\n",
       "    <tr>\n",
       "      <th>Podemos</th>\n",
       "      <td>0.111446</td>\n",
       "    </tr>\n",
       "    <tr>\n",
       "      <th>VOX</th>\n",
       "      <td>0.108434</td>\n",
       "    </tr>\n",
       "    <tr>\n",
       "      <th>IU</th>\n",
       "      <td>0.021084</td>\n",
       "    </tr>\n",
       "    <tr>\n",
       "      <th>Más País</th>\n",
       "      <td>0.009036</td>\n",
       "    </tr>\n",
       "  </tbody>\n",
       "</table>\n",
       "</div>"
      ],
      "text/plain": [
       "                  P9\n",
       "PSOE        0.451807\n",
       "PP          0.171687\n",
       "Ciudadanos  0.126506\n",
       "Podemos     0.111446\n",
       "VOX         0.108434\n",
       "IU          0.021084\n",
       "Más País    0.009036"
      ]
     },
     "execution_count": 152,
     "metadata": {},
     "output_type": "execute_result"
    }
   ],
   "source": [
    "df_N19_est"
   ]
  },
  {
   "cell_type": "code",
   "execution_count": 153,
   "metadata": {
    "executionInfo": {
     "elapsed": 244,
     "status": "ok",
     "timestamp": 1630933897427,
     "user": {
      "displayName": "Guillermo Barrio",
      "photoUrl": "",
      "userId": "06925154007558381895"
     },
     "user_tz": -120
    },
    "id": "ZL2NIdwcO_C0"
   },
   "outputs": [],
   "source": [
    "df_N19_est = df_N19_est.reset_index()"
   ]
  },
  {
   "cell_type": "code",
   "execution_count": 154,
   "metadata": {
    "colab": {
     "base_uri": "https://localhost:8080/",
     "height": 266
    },
    "executionInfo": {
     "elapsed": 267,
     "status": "ok",
     "timestamp": 1630933911999,
     "user": {
      "displayName": "Guillermo Barrio",
      "photoUrl": "",
      "userId": "06925154007558381895"
     },
     "user_tz": -120
    },
    "id": "ikk9e-hPPFza",
    "outputId": "d3d6d9c5-a7c0-4074-c18c-e53e58a438b9"
   },
   "outputs": [
    {
     "data": {
      "text/html": [
       "<div>\n",
       "<style scoped>\n",
       "    .dataframe tbody tr th:only-of-type {\n",
       "        vertical-align: middle;\n",
       "    }\n",
       "\n",
       "    .dataframe tbody tr th {\n",
       "        vertical-align: top;\n",
       "    }\n",
       "\n",
       "    .dataframe thead th {\n",
       "        text-align: right;\n",
       "    }\n",
       "</style>\n",
       "<table border=\"1\" class=\"dataframe\">\n",
       "  <thead>\n",
       "    <tr style=\"text-align: right;\">\n",
       "      <th></th>\n",
       "      <th>index</th>\n",
       "      <th>P9</th>\n",
       "    </tr>\n",
       "  </thead>\n",
       "  <tbody>\n",
       "    <tr>\n",
       "      <th>0</th>\n",
       "      <td>PSOE</td>\n",
       "      <td>0.451807</td>\n",
       "    </tr>\n",
       "    <tr>\n",
       "      <th>1</th>\n",
       "      <td>PP</td>\n",
       "      <td>0.171687</td>\n",
       "    </tr>\n",
       "    <tr>\n",
       "      <th>2</th>\n",
       "      <td>Ciudadanos</td>\n",
       "      <td>0.126506</td>\n",
       "    </tr>\n",
       "    <tr>\n",
       "      <th>3</th>\n",
       "      <td>Podemos</td>\n",
       "      <td>0.111446</td>\n",
       "    </tr>\n",
       "    <tr>\n",
       "      <th>4</th>\n",
       "      <td>VOX</td>\n",
       "      <td>0.108434</td>\n",
       "    </tr>\n",
       "    <tr>\n",
       "      <th>5</th>\n",
       "      <td>IU</td>\n",
       "      <td>0.021084</td>\n",
       "    </tr>\n",
       "    <tr>\n",
       "      <th>6</th>\n",
       "      <td>Más País</td>\n",
       "      <td>0.009036</td>\n",
       "    </tr>\n",
       "  </tbody>\n",
       "</table>\n",
       "</div>"
      ],
      "text/plain": [
       "        index        P9\n",
       "0        PSOE  0.451807\n",
       "1          PP  0.171687\n",
       "2  Ciudadanos  0.126506\n",
       "3     Podemos  0.111446\n",
       "4         VOX  0.108434\n",
       "5          IU  0.021084\n",
       "6    Más País  0.009036"
      ]
     },
     "execution_count": 154,
     "metadata": {},
     "output_type": "execute_result"
    }
   ],
   "source": [
    "df_N19_est"
   ]
  },
  {
   "cell_type": "code",
   "execution_count": null,
   "metadata": {
    "id": "PKvIY8pDPFia"
   },
   "outputs": [],
   "source": []
  },
  {
   "cell_type": "markdown",
   "metadata": {
    "id": "qI9uHCZ4npbl"
   },
   "source": [
    "Ahora es cuando ajustamos por el hecho de que hubiese votantes con intención de votar a IU, que no se presenta. Lo que hacemos es sumar ese porcentaje de voto a Unidas Podemos, y eliminamos a continuación la fila de IU."
   ]
  },
  {
   "cell_type": "code",
   "execution_count": 155,
   "metadata": {
    "executionInfo": {
     "elapsed": 335,
     "status": "ok",
     "timestamp": 1630933959731,
     "user": {
      "displayName": "Guillermo Barrio",
      "photoUrl": "",
      "userId": "06925154007558381895"
     },
     "user_tz": -120
    },
    "id": "bZLdW7SOLI69"
   },
   "outputs": [],
   "source": [
    "df_N19_est['P9'][3] = df_N19_est['P9'][3] + df_N19_est['P9'][5]"
   ]
  },
  {
   "cell_type": "code",
   "execution_count": 156,
   "metadata": {
    "colab": {
     "base_uri": "https://localhost:8080/",
     "height": 266
    },
    "executionInfo": {
     "elapsed": 243,
     "status": "ok",
     "timestamp": 1630933968954,
     "user": {
      "displayName": "Guillermo Barrio",
      "photoUrl": "",
      "userId": "06925154007558381895"
     },
     "user_tz": -120
    },
    "id": "wH1jTrWMLIxV",
    "outputId": "d6b33635-e371-45a4-80f7-8672fbbe445e"
   },
   "outputs": [
    {
     "data": {
      "text/html": [
       "<div>\n",
       "<style scoped>\n",
       "    .dataframe tbody tr th:only-of-type {\n",
       "        vertical-align: middle;\n",
       "    }\n",
       "\n",
       "    .dataframe tbody tr th {\n",
       "        vertical-align: top;\n",
       "    }\n",
       "\n",
       "    .dataframe thead th {\n",
       "        text-align: right;\n",
       "    }\n",
       "</style>\n",
       "<table border=\"1\" class=\"dataframe\">\n",
       "  <thead>\n",
       "    <tr style=\"text-align: right;\">\n",
       "      <th></th>\n",
       "      <th>index</th>\n",
       "      <th>P9</th>\n",
       "    </tr>\n",
       "  </thead>\n",
       "  <tbody>\n",
       "    <tr>\n",
       "      <th>0</th>\n",
       "      <td>PSOE</td>\n",
       "      <td>0.451807</td>\n",
       "    </tr>\n",
       "    <tr>\n",
       "      <th>1</th>\n",
       "      <td>PP</td>\n",
       "      <td>0.171687</td>\n",
       "    </tr>\n",
       "    <tr>\n",
       "      <th>2</th>\n",
       "      <td>Ciudadanos</td>\n",
       "      <td>0.126506</td>\n",
       "    </tr>\n",
       "    <tr>\n",
       "      <th>3</th>\n",
       "      <td>Podemos</td>\n",
       "      <td>0.132530</td>\n",
       "    </tr>\n",
       "    <tr>\n",
       "      <th>4</th>\n",
       "      <td>VOX</td>\n",
       "      <td>0.108434</td>\n",
       "    </tr>\n",
       "    <tr>\n",
       "      <th>5</th>\n",
       "      <td>IU</td>\n",
       "      <td>0.021084</td>\n",
       "    </tr>\n",
       "    <tr>\n",
       "      <th>6</th>\n",
       "      <td>Más País</td>\n",
       "      <td>0.009036</td>\n",
       "    </tr>\n",
       "  </tbody>\n",
       "</table>\n",
       "</div>"
      ],
      "text/plain": [
       "        index        P9\n",
       "0        PSOE  0.451807\n",
       "1          PP  0.171687\n",
       "2  Ciudadanos  0.126506\n",
       "3     Podemos  0.132530\n",
       "4         VOX  0.108434\n",
       "5          IU  0.021084\n",
       "6    Más País  0.009036"
      ]
     },
     "execution_count": 156,
     "metadata": {},
     "output_type": "execute_result"
    }
   ],
   "source": [
    "df_N19_est"
   ]
  },
  {
   "cell_type": "code",
   "execution_count": 157,
   "metadata": {
    "executionInfo": {
     "elapsed": 228,
     "status": "ok",
     "timestamp": 1630934131649,
     "user": {
      "displayName": "Guillermo Barrio",
      "photoUrl": "",
      "userId": "06925154007558381895"
     },
     "user_tz": -120
    },
    "id": "VUX0yQ3xPe_b"
   },
   "outputs": [],
   "source": [
    "df_N19_est = df_N19_est.loc[df_N19_est['index'] != 'IU']"
   ]
  },
  {
   "cell_type": "code",
   "execution_count": 158,
   "metadata": {
    "colab": {
     "base_uri": "https://localhost:8080/",
     "height": 235
    },
    "executionInfo": {
     "elapsed": 225,
     "status": "ok",
     "timestamp": 1630934142313,
     "user": {
      "displayName": "Guillermo Barrio",
      "photoUrl": "",
      "userId": "06925154007558381895"
     },
     "user_tz": -120
    },
    "id": "RRV_ogT6P_CY",
    "outputId": "eaaf4b47-e67f-4b57-d941-4aa6ca5aad2c"
   },
   "outputs": [
    {
     "data": {
      "text/html": [
       "<div>\n",
       "<style scoped>\n",
       "    .dataframe tbody tr th:only-of-type {\n",
       "        vertical-align: middle;\n",
       "    }\n",
       "\n",
       "    .dataframe tbody tr th {\n",
       "        vertical-align: top;\n",
       "    }\n",
       "\n",
       "    .dataframe thead th {\n",
       "        text-align: right;\n",
       "    }\n",
       "</style>\n",
       "<table border=\"1\" class=\"dataframe\">\n",
       "  <thead>\n",
       "    <tr style=\"text-align: right;\">\n",
       "      <th></th>\n",
       "      <th>index</th>\n",
       "      <th>P9</th>\n",
       "    </tr>\n",
       "  </thead>\n",
       "  <tbody>\n",
       "    <tr>\n",
       "      <th>0</th>\n",
       "      <td>PSOE</td>\n",
       "      <td>0.451807</td>\n",
       "    </tr>\n",
       "    <tr>\n",
       "      <th>1</th>\n",
       "      <td>PP</td>\n",
       "      <td>0.171687</td>\n",
       "    </tr>\n",
       "    <tr>\n",
       "      <th>2</th>\n",
       "      <td>Ciudadanos</td>\n",
       "      <td>0.126506</td>\n",
       "    </tr>\n",
       "    <tr>\n",
       "      <th>3</th>\n",
       "      <td>Podemos</td>\n",
       "      <td>0.132530</td>\n",
       "    </tr>\n",
       "    <tr>\n",
       "      <th>4</th>\n",
       "      <td>VOX</td>\n",
       "      <td>0.108434</td>\n",
       "    </tr>\n",
       "    <tr>\n",
       "      <th>6</th>\n",
       "      <td>Más País</td>\n",
       "      <td>0.009036</td>\n",
       "    </tr>\n",
       "  </tbody>\n",
       "</table>\n",
       "</div>"
      ],
      "text/plain": [
       "        index        P9\n",
       "0        PSOE  0.451807\n",
       "1          PP  0.171687\n",
       "2  Ciudadanos  0.126506\n",
       "3     Podemos  0.132530\n",
       "4         VOX  0.108434\n",
       "6    Más País  0.009036"
      ]
     },
     "execution_count": 158,
     "metadata": {},
     "output_type": "execute_result"
    }
   ],
   "source": [
    "df_N19_est"
   ]
  },
  {
   "cell_type": "code",
   "execution_count": null,
   "metadata": {
    "id": "WMQbsU8oP--0"
   },
   "outputs": [],
   "source": []
  },
  {
   "cell_type": "code",
   "execution_count": null,
   "metadata": {
    "id": "8YGboijAP-5K"
   },
   "outputs": [],
   "source": []
  },
  {
   "cell_type": "markdown",
   "metadata": {
    "id": "lkKaeBVgn_yZ"
   },
   "source": [
    "Ahora tenemos que ver qué votaron los encuestados en las elecciones de abril, pregunta 17A, para poder apreciar el cambio de voto entre ambas elecciones. Procedemos a deshacer el mapeo, primero invirtiendo el diccionario utilizado."
   ]
  },
  {
   "cell_type": "code",
   "execution_count": 159,
   "metadata": {
    "executionInfo": {
     "elapsed": 257,
     "status": "ok",
     "timestamp": 1630934148487,
     "user": {
      "displayName": "Guillermo Barrio",
      "photoUrl": "",
      "userId": "06925154007558381895"
     },
     "user_tz": -120
    },
    "id": "WDn3yUBNJhvM"
   },
   "outputs": [],
   "source": [
    "cod_partidos = {'Unidas Podemos' : 0,\n",
    "                'Podemos' : 0,\n",
    "                'IU' : 5, \n",
    "                'Más País' : 15,\n",
    "                'PSOE' : 30,\n",
    "                'Ciudadanos' : 60,\n",
    "                'Ninguno' : 50,\n",
    "                'N.C.' : 50,\n",
    "                'N.S.' : 50,\n",
    "                'PP' : 65,\n",
    "                'VOX' : 100,\n",
    "                'Otro' : 50}"
   ]
  },
  {
   "cell_type": "code",
   "execution_count": 160,
   "metadata": {
    "executionInfo": {
     "elapsed": 569,
     "status": "ok",
     "timestamp": 1630934150990,
     "user": {
      "displayName": "Guillermo Barrio",
      "photoUrl": "",
      "userId": "06925154007558381895"
     },
     "user_tz": -120
    },
    "id": "v28qbvb6JhrG"
   },
   "outputs": [],
   "source": [
    "cod_partidos_inv = dict([(value, key) for key, value in cod_partidos.items()])"
   ]
  },
  {
   "cell_type": "code",
   "execution_count": null,
   "metadata": {
    "id": "xit3e8aDJhnF"
   },
   "outputs": [],
   "source": []
  },
  {
   "cell_type": "markdown",
   "metadata": {
    "id": "_UCFT7RDoUfK"
   },
   "source": [
    "Tras una serie de operacines vemos que un 42% de encuestados votó al PSOE en abril del 19."
   ]
  },
  {
   "cell_type": "code",
   "execution_count": 161,
   "metadata": {
    "executionInfo": {
     "elapsed": 264,
     "status": "ok",
     "timestamp": 1630934154427,
     "user": {
      "displayName": "Guillermo Barrio",
      "photoUrl": "",
      "userId": "06925154007558381895"
     },
     "user_tz": -120
    },
    "id": "juI14Zj9CfUj"
   },
   "outputs": [],
   "source": [
    "df_voto_decl_A19 = cis_malaga.loc[cis_malaga['P17A'].notna()]['P17A'].map(cod_partidos_inv).value_counts() / cis_malaga.loc[cis_malaga['P17A'].notna()]['P17A'].map(cod_partidos_inv).value_counts().sum()"
   ]
  },
  {
   "cell_type": "code",
   "execution_count": 162,
   "metadata": {
    "colab": {
     "base_uri": "https://localhost:8080/"
    },
    "executionInfo": {
     "elapsed": 238,
     "status": "ok",
     "timestamp": 1630934156541,
     "user": {
      "displayName": "Guillermo Barrio",
      "photoUrl": "",
      "userId": "06925154007558381895"
     },
     "user_tz": -120
    },
    "id": "DB7ro-S7Ijgg",
    "outputId": "d1ca9942-144c-489e-d91a-0b63a9af491f"
   },
   "outputs": [
    {
     "data": {
      "text/plain": [
       "PSOE          0.422572\n",
       "PP            0.170604\n",
       "Ciudadanos    0.146982\n",
       "Podemos       0.131234\n",
       "VOX           0.081365\n",
       "Otro          0.047244\n",
       "Name: P17A, dtype: float64"
      ]
     },
     "execution_count": 162,
     "metadata": {},
     "output_type": "execute_result"
    }
   ],
   "source": [
    "df_voto_decl_A19"
   ]
  },
  {
   "cell_type": "code",
   "execution_count": null,
   "metadata": {
    "id": "zOt06rUVJ310"
   },
   "outputs": [],
   "source": []
  },
  {
   "cell_type": "markdown",
   "metadata": {
    "id": "k69pJ-gDojdS"
   },
   "source": [
    "Introducimos los datos en otro dataframe, y quitamos los 'otros'. Esto puede no ser muy ortodoxo, pero pensamos que favorece al menos la comparación."
   ]
  },
  {
   "cell_type": "code",
   "execution_count": 163,
   "metadata": {
    "executionInfo": {
     "elapsed": 239,
     "status": "ok",
     "timestamp": 1630934178570,
     "user": {
      "displayName": "Guillermo Barrio",
      "photoUrl": "",
      "userId": "06925154007558381895"
     },
     "user_tz": -120
    },
    "id": "s16SUs8xJ3yv"
   },
   "outputs": [],
   "source": [
    "df_A19_decl = pd.DataFrame(df_voto_decl_A19).reset_index()"
   ]
  },
  {
   "cell_type": "code",
   "execution_count": 164,
   "metadata": {
    "colab": {
     "base_uri": "https://localhost:8080/",
     "height": 235
    },
    "executionInfo": {
     "elapsed": 235,
     "status": "ok",
     "timestamp": 1630934180241,
     "user": {
      "displayName": "Guillermo Barrio",
      "photoUrl": "",
      "userId": "06925154007558381895"
     },
     "user_tz": -120
    },
    "id": "AVWj2MihJ3vw",
    "outputId": "23f50d77-8a07-4c7e-bf9d-98c0aac980f2"
   },
   "outputs": [
    {
     "data": {
      "text/html": [
       "<div>\n",
       "<style scoped>\n",
       "    .dataframe tbody tr th:only-of-type {\n",
       "        vertical-align: middle;\n",
       "    }\n",
       "\n",
       "    .dataframe tbody tr th {\n",
       "        vertical-align: top;\n",
       "    }\n",
       "\n",
       "    .dataframe thead th {\n",
       "        text-align: right;\n",
       "    }\n",
       "</style>\n",
       "<table border=\"1\" class=\"dataframe\">\n",
       "  <thead>\n",
       "    <tr style=\"text-align: right;\">\n",
       "      <th></th>\n",
       "      <th>index</th>\n",
       "      <th>P17A</th>\n",
       "    </tr>\n",
       "  </thead>\n",
       "  <tbody>\n",
       "    <tr>\n",
       "      <th>0</th>\n",
       "      <td>PSOE</td>\n",
       "      <td>0.422572</td>\n",
       "    </tr>\n",
       "    <tr>\n",
       "      <th>1</th>\n",
       "      <td>PP</td>\n",
       "      <td>0.170604</td>\n",
       "    </tr>\n",
       "    <tr>\n",
       "      <th>2</th>\n",
       "      <td>Ciudadanos</td>\n",
       "      <td>0.146982</td>\n",
       "    </tr>\n",
       "    <tr>\n",
       "      <th>3</th>\n",
       "      <td>Podemos</td>\n",
       "      <td>0.131234</td>\n",
       "    </tr>\n",
       "    <tr>\n",
       "      <th>4</th>\n",
       "      <td>VOX</td>\n",
       "      <td>0.081365</td>\n",
       "    </tr>\n",
       "    <tr>\n",
       "      <th>5</th>\n",
       "      <td>Otro</td>\n",
       "      <td>0.047244</td>\n",
       "    </tr>\n",
       "  </tbody>\n",
       "</table>\n",
       "</div>"
      ],
      "text/plain": [
       "        index      P17A\n",
       "0        PSOE  0.422572\n",
       "1          PP  0.170604\n",
       "2  Ciudadanos  0.146982\n",
       "3     Podemos  0.131234\n",
       "4         VOX  0.081365\n",
       "5        Otro  0.047244"
      ]
     },
     "execution_count": 164,
     "metadata": {},
     "output_type": "execute_result"
    }
   ],
   "source": [
    "df_A19_decl"
   ]
  },
  {
   "cell_type": "code",
   "execution_count": 165,
   "metadata": {
    "executionInfo": {
     "elapsed": 226,
     "status": "ok",
     "timestamp": 1630934227647,
     "user": {
      "displayName": "Guillermo Barrio",
      "photoUrl": "",
      "userId": "06925154007558381895"
     },
     "user_tz": -120
    },
    "id": "rM_v3Q-yJ3sg"
   },
   "outputs": [],
   "source": [
    "df_A19_decl = df_A19_decl.loc[df_A19_decl['index'] != 'Otro']"
   ]
  },
  {
   "cell_type": "code",
   "execution_count": 166,
   "metadata": {
    "colab": {
     "base_uri": "https://localhost:8080/",
     "height": 204
    },
    "executionInfo": {
     "elapsed": 334,
     "status": "ok",
     "timestamp": 1630934229273,
     "user": {
      "displayName": "Guillermo Barrio",
      "photoUrl": "",
      "userId": "06925154007558381895"
     },
     "user_tz": -120
    },
    "id": "5iPakoH2J3gj",
    "outputId": "b415e44b-1fa6-424f-bf24-a37ad4cdd39c"
   },
   "outputs": [
    {
     "data": {
      "text/html": [
       "<div>\n",
       "<style scoped>\n",
       "    .dataframe tbody tr th:only-of-type {\n",
       "        vertical-align: middle;\n",
       "    }\n",
       "\n",
       "    .dataframe tbody tr th {\n",
       "        vertical-align: top;\n",
       "    }\n",
       "\n",
       "    .dataframe thead th {\n",
       "        text-align: right;\n",
       "    }\n",
       "</style>\n",
       "<table border=\"1\" class=\"dataframe\">\n",
       "  <thead>\n",
       "    <tr style=\"text-align: right;\">\n",
       "      <th></th>\n",
       "      <th>index</th>\n",
       "      <th>P17A</th>\n",
       "    </tr>\n",
       "  </thead>\n",
       "  <tbody>\n",
       "    <tr>\n",
       "      <th>0</th>\n",
       "      <td>PSOE</td>\n",
       "      <td>0.422572</td>\n",
       "    </tr>\n",
       "    <tr>\n",
       "      <th>1</th>\n",
       "      <td>PP</td>\n",
       "      <td>0.170604</td>\n",
       "    </tr>\n",
       "    <tr>\n",
       "      <th>2</th>\n",
       "      <td>Ciudadanos</td>\n",
       "      <td>0.146982</td>\n",
       "    </tr>\n",
       "    <tr>\n",
       "      <th>3</th>\n",
       "      <td>Podemos</td>\n",
       "      <td>0.131234</td>\n",
       "    </tr>\n",
       "    <tr>\n",
       "      <th>4</th>\n",
       "      <td>VOX</td>\n",
       "      <td>0.081365</td>\n",
       "    </tr>\n",
       "  </tbody>\n",
       "</table>\n",
       "</div>"
      ],
      "text/plain": [
       "        index      P17A\n",
       "0        PSOE  0.422572\n",
       "1          PP  0.170604\n",
       "2  Ciudadanos  0.146982\n",
       "3     Podemos  0.131234\n",
       "4         VOX  0.081365"
      ]
     },
     "execution_count": 166,
     "metadata": {},
     "output_type": "execute_result"
    }
   ],
   "source": [
    "df_A19_decl"
   ]
  },
  {
   "cell_type": "markdown",
   "metadata": {
    "id": "80E3sh6Zo1e_"
   },
   "source": [
    "Ahora hacemos un merge con ambas df."
   ]
  },
  {
   "cell_type": "code",
   "execution_count": 167,
   "metadata": {
    "executionInfo": {
     "elapsed": 237,
     "status": "ok",
     "timestamp": 1630934388096,
     "user": {
      "displayName": "Guillermo Barrio",
      "photoUrl": "",
      "userId": "06925154007558381895"
     },
     "user_tz": -120
    },
    "id": "L67Z3lRkIjYP"
   },
   "outputs": [],
   "source": [
    "df = df_N19_est.merge(df_A19_decl, how = 'left', on = 'index')"
   ]
  },
  {
   "cell_type": "code",
   "execution_count": 168,
   "metadata": {
    "colab": {
     "base_uri": "https://localhost:8080/",
     "height": 235
    },
    "executionInfo": {
     "elapsed": 235,
     "status": "ok",
     "timestamp": 1630934389542,
     "user": {
      "displayName": "Guillermo Barrio",
      "photoUrl": "",
      "userId": "06925154007558381895"
     },
     "user_tz": -120
    },
    "id": "KvGyjY60GukO",
    "outputId": "791d6ee4-ca90-4921-ef12-8b808433dbe9"
   },
   "outputs": [
    {
     "data": {
      "text/html": [
       "<div>\n",
       "<style scoped>\n",
       "    .dataframe tbody tr th:only-of-type {\n",
       "        vertical-align: middle;\n",
       "    }\n",
       "\n",
       "    .dataframe tbody tr th {\n",
       "        vertical-align: top;\n",
       "    }\n",
       "\n",
       "    .dataframe thead th {\n",
       "        text-align: right;\n",
       "    }\n",
       "</style>\n",
       "<table border=\"1\" class=\"dataframe\">\n",
       "  <thead>\n",
       "    <tr style=\"text-align: right;\">\n",
       "      <th></th>\n",
       "      <th>index</th>\n",
       "      <th>P9</th>\n",
       "      <th>P17A</th>\n",
       "    </tr>\n",
       "  </thead>\n",
       "  <tbody>\n",
       "    <tr>\n",
       "      <th>0</th>\n",
       "      <td>PSOE</td>\n",
       "      <td>0.451807</td>\n",
       "      <td>0.422572</td>\n",
       "    </tr>\n",
       "    <tr>\n",
       "      <th>1</th>\n",
       "      <td>PP</td>\n",
       "      <td>0.171687</td>\n",
       "      <td>0.170604</td>\n",
       "    </tr>\n",
       "    <tr>\n",
       "      <th>2</th>\n",
       "      <td>Ciudadanos</td>\n",
       "      <td>0.126506</td>\n",
       "      <td>0.146982</td>\n",
       "    </tr>\n",
       "    <tr>\n",
       "      <th>3</th>\n",
       "      <td>Podemos</td>\n",
       "      <td>0.132530</td>\n",
       "      <td>0.131234</td>\n",
       "    </tr>\n",
       "    <tr>\n",
       "      <th>4</th>\n",
       "      <td>VOX</td>\n",
       "      <td>0.108434</td>\n",
       "      <td>0.081365</td>\n",
       "    </tr>\n",
       "    <tr>\n",
       "      <th>5</th>\n",
       "      <td>Más País</td>\n",
       "      <td>0.009036</td>\n",
       "      <td>NaN</td>\n",
       "    </tr>\n",
       "  </tbody>\n",
       "</table>\n",
       "</div>"
      ],
      "text/plain": [
       "        index        P9      P17A\n",
       "0        PSOE  0.451807  0.422572\n",
       "1          PP  0.171687  0.170604\n",
       "2  Ciudadanos  0.126506  0.146982\n",
       "3     Podemos  0.132530  0.131234\n",
       "4         VOX  0.108434  0.081365\n",
       "5    Más País  0.009036       NaN"
      ]
     },
     "execution_count": 168,
     "metadata": {},
     "output_type": "execute_result"
    }
   ],
   "source": [
    "df"
   ]
  },
  {
   "cell_type": "code",
   "execution_count": null,
   "metadata": {
    "id": "MLWRwL90GuaD"
   },
   "outputs": [],
   "source": []
  },
  {
   "cell_type": "markdown",
   "metadata": {
    "id": "Q-euwQTLo6tT"
   },
   "source": [
    "Debemos partir del resultado real de las elecciones de abril en Málaga, que introducimos con los valores en orden."
   ]
  },
  {
   "cell_type": "code",
   "execution_count": 169,
   "metadata": {
    "executionInfo": {
     "elapsed": 248,
     "status": "ok",
     "timestamp": 1630934681970,
     "user": {
      "displayName": "Guillermo Barrio",
      "photoUrl": "",
      "userId": "06925154007558381895"
     },
     "user_tz": -120
    },
    "id": "bet5lMmKGuVP"
   },
   "outputs": [],
   "source": [
    "df['Resultado_A19'] = [0.3084, 0.1771, 0.1951, 0.1449, 0.1399, 0]"
   ]
  },
  {
   "cell_type": "code",
   "execution_count": 170,
   "metadata": {
    "colab": {
     "base_uri": "https://localhost:8080/",
     "height": 235
    },
    "executionInfo": {
     "elapsed": 547,
     "status": "ok",
     "timestamp": 1630934689944,
     "user": {
      "displayName": "Guillermo Barrio",
      "photoUrl": "",
      "userId": "06925154007558381895"
     },
     "user_tz": -120
    },
    "id": "rRauJkECCfRz",
    "outputId": "95cbfcf2-a6f5-415b-cac1-c0b50f1c0ae7"
   },
   "outputs": [
    {
     "data": {
      "text/html": [
       "<div>\n",
       "<style scoped>\n",
       "    .dataframe tbody tr th:only-of-type {\n",
       "        vertical-align: middle;\n",
       "    }\n",
       "\n",
       "    .dataframe tbody tr th {\n",
       "        vertical-align: top;\n",
       "    }\n",
       "\n",
       "    .dataframe thead th {\n",
       "        text-align: right;\n",
       "    }\n",
       "</style>\n",
       "<table border=\"1\" class=\"dataframe\">\n",
       "  <thead>\n",
       "    <tr style=\"text-align: right;\">\n",
       "      <th></th>\n",
       "      <th>index</th>\n",
       "      <th>P9</th>\n",
       "      <th>P17A</th>\n",
       "      <th>Resultado_A19</th>\n",
       "    </tr>\n",
       "  </thead>\n",
       "  <tbody>\n",
       "    <tr>\n",
       "      <th>0</th>\n",
       "      <td>PSOE</td>\n",
       "      <td>0.451807</td>\n",
       "      <td>0.422572</td>\n",
       "      <td>0.3084</td>\n",
       "    </tr>\n",
       "    <tr>\n",
       "      <th>1</th>\n",
       "      <td>PP</td>\n",
       "      <td>0.171687</td>\n",
       "      <td>0.170604</td>\n",
       "      <td>0.1771</td>\n",
       "    </tr>\n",
       "    <tr>\n",
       "      <th>2</th>\n",
       "      <td>Ciudadanos</td>\n",
       "      <td>0.126506</td>\n",
       "      <td>0.146982</td>\n",
       "      <td>0.1951</td>\n",
       "    </tr>\n",
       "    <tr>\n",
       "      <th>3</th>\n",
       "      <td>Podemos</td>\n",
       "      <td>0.132530</td>\n",
       "      <td>0.131234</td>\n",
       "      <td>0.1449</td>\n",
       "    </tr>\n",
       "    <tr>\n",
       "      <th>4</th>\n",
       "      <td>VOX</td>\n",
       "      <td>0.108434</td>\n",
       "      <td>0.081365</td>\n",
       "      <td>0.1399</td>\n",
       "    </tr>\n",
       "    <tr>\n",
       "      <th>5</th>\n",
       "      <td>Más País</td>\n",
       "      <td>0.009036</td>\n",
       "      <td>NaN</td>\n",
       "      <td>0.0000</td>\n",
       "    </tr>\n",
       "  </tbody>\n",
       "</table>\n",
       "</div>"
      ],
      "text/plain": [
       "        index        P9      P17A  Resultado_A19\n",
       "0        PSOE  0.451807  0.422572         0.3084\n",
       "1          PP  0.171687  0.170604         0.1771\n",
       "2  Ciudadanos  0.126506  0.146982         0.1951\n",
       "3     Podemos  0.132530  0.131234         0.1449\n",
       "4         VOX  0.108434  0.081365         0.1399\n",
       "5    Más País  0.009036       NaN         0.0000"
      ]
     },
     "execution_count": 170,
     "metadata": {},
     "output_type": "execute_result"
    }
   ],
   "source": [
    "df"
   ]
  },
  {
   "cell_type": "markdown",
   "metadata": {
    "id": "2F3rYxm5pI0E"
   },
   "source": [
    "Ahora hacemos la estimación, que es sumando al resultado de abril la variación entre lo que declaran los encuestados que votaron entonces, y lo que dicen, y estimamos, que harán en noviembre."
   ]
  },
  {
   "cell_type": "code",
   "execution_count": 171,
   "metadata": {
    "executionInfo": {
     "elapsed": 229,
     "status": "ok",
     "timestamp": 1630934857664,
     "user": {
      "displayName": "Guillermo Barrio",
      "photoUrl": "",
      "userId": "06925154007558381895"
     },
     "user_tz": -120
    },
    "id": "tTlRh-AFCfOd"
   },
   "outputs": [],
   "source": [
    "df['Resultado_estimado_N19'] =  df['Resultado_A19'] + df['P9'] - df['P17A'] \n",
    "df['Resultado_estimado_N19'][5] = df['P9'][5]"
   ]
  },
  {
   "cell_type": "code",
   "execution_count": 172,
   "metadata": {
    "colab": {
     "base_uri": "https://localhost:8080/",
     "height": 235
    },
    "executionInfo": {
     "elapsed": 301,
     "status": "ok",
     "timestamp": 1630934859345,
     "user": {
      "displayName": "Guillermo Barrio",
      "photoUrl": "",
      "userId": "06925154007558381895"
     },
     "user_tz": -120
    },
    "id": "dKoymwn7CfLw",
    "outputId": "ed09e354-d55d-4fd7-d6ec-5504b2246188"
   },
   "outputs": [
    {
     "data": {
      "text/html": [
       "<div>\n",
       "<style scoped>\n",
       "    .dataframe tbody tr th:only-of-type {\n",
       "        vertical-align: middle;\n",
       "    }\n",
       "\n",
       "    .dataframe tbody tr th {\n",
       "        vertical-align: top;\n",
       "    }\n",
       "\n",
       "    .dataframe thead th {\n",
       "        text-align: right;\n",
       "    }\n",
       "</style>\n",
       "<table border=\"1\" class=\"dataframe\">\n",
       "  <thead>\n",
       "    <tr style=\"text-align: right;\">\n",
       "      <th></th>\n",
       "      <th>index</th>\n",
       "      <th>P9</th>\n",
       "      <th>P17A</th>\n",
       "      <th>Resultado_A19</th>\n",
       "      <th>Resultado_estimado_N19</th>\n",
       "    </tr>\n",
       "  </thead>\n",
       "  <tbody>\n",
       "    <tr>\n",
       "      <th>0</th>\n",
       "      <td>PSOE</td>\n",
       "      <td>0.451807</td>\n",
       "      <td>0.422572</td>\n",
       "      <td>0.3084</td>\n",
       "      <td>0.337635</td>\n",
       "    </tr>\n",
       "    <tr>\n",
       "      <th>1</th>\n",
       "      <td>PP</td>\n",
       "      <td>0.171687</td>\n",
       "      <td>0.170604</td>\n",
       "      <td>0.1771</td>\n",
       "      <td>0.178183</td>\n",
       "    </tr>\n",
       "    <tr>\n",
       "      <th>2</th>\n",
       "      <td>Ciudadanos</td>\n",
       "      <td>0.126506</td>\n",
       "      <td>0.146982</td>\n",
       "      <td>0.1951</td>\n",
       "      <td>0.174624</td>\n",
       "    </tr>\n",
       "    <tr>\n",
       "      <th>3</th>\n",
       "      <td>Podemos</td>\n",
       "      <td>0.132530</td>\n",
       "      <td>0.131234</td>\n",
       "      <td>0.1449</td>\n",
       "      <td>0.146197</td>\n",
       "    </tr>\n",
       "    <tr>\n",
       "      <th>4</th>\n",
       "      <td>VOX</td>\n",
       "      <td>0.108434</td>\n",
       "      <td>0.081365</td>\n",
       "      <td>0.1399</td>\n",
       "      <td>0.166969</td>\n",
       "    </tr>\n",
       "    <tr>\n",
       "      <th>5</th>\n",
       "      <td>Más País</td>\n",
       "      <td>0.009036</td>\n",
       "      <td>NaN</td>\n",
       "      <td>0.0000</td>\n",
       "      <td>0.009036</td>\n",
       "    </tr>\n",
       "  </tbody>\n",
       "</table>\n",
       "</div>"
      ],
      "text/plain": [
       "        index        P9      P17A  Resultado_A19  Resultado_estimado_N19\n",
       "0        PSOE  0.451807  0.422572         0.3084                0.337635\n",
       "1          PP  0.171687  0.170604         0.1771                0.178183\n",
       "2  Ciudadanos  0.126506  0.146982         0.1951                0.174624\n",
       "3     Podemos  0.132530  0.131234         0.1449                0.146197\n",
       "4         VOX  0.108434  0.081365         0.1399                0.166969\n",
       "5    Más País  0.009036       NaN         0.0000                0.009036"
      ]
     },
     "execution_count": 172,
     "metadata": {},
     "output_type": "execute_result"
    }
   ],
   "source": [
    "df"
   ]
  },
  {
   "cell_type": "markdown",
   "metadata": {
    "id": "kDMDLlSQpYpg"
   },
   "source": [
    "Introducimos ahora los resultados reales de noviembre."
   ]
  },
  {
   "cell_type": "code",
   "execution_count": 173,
   "metadata": {
    "executionInfo": {
     "elapsed": 712,
     "status": "ok",
     "timestamp": 1630934918457,
     "user": {
      "displayName": "Guillermo Barrio",
      "photoUrl": "",
      "userId": "06925154007558381895"
     },
     "user_tz": -120
    },
    "id": "vNqySm7TRvM-"
   },
   "outputs": [],
   "source": [
    "df['Resultado_Real_N19'] = [0.3031, 0.218, 0.0895, 0.1307, 0.2168, 0.0189]"
   ]
  },
  {
   "cell_type": "code",
   "execution_count": 174,
   "metadata": {
    "colab": {
     "base_uri": "https://localhost:8080/",
     "height": 235
    },
    "executionInfo": {
     "elapsed": 239,
     "status": "ok",
     "timestamp": 1630934927735,
     "user": {
      "displayName": "Guillermo Barrio",
      "photoUrl": "",
      "userId": "06925154007558381895"
     },
     "user_tz": -120
    },
    "id": "Y8b3ATlHRvJq",
    "outputId": "6d789a99-e9f6-49ec-aa2b-cb5356604cbb"
   },
   "outputs": [
    {
     "data": {
      "text/html": [
       "<div>\n",
       "<style scoped>\n",
       "    .dataframe tbody tr th:only-of-type {\n",
       "        vertical-align: middle;\n",
       "    }\n",
       "\n",
       "    .dataframe tbody tr th {\n",
       "        vertical-align: top;\n",
       "    }\n",
       "\n",
       "    .dataframe thead th {\n",
       "        text-align: right;\n",
       "    }\n",
       "</style>\n",
       "<table border=\"1\" class=\"dataframe\">\n",
       "  <thead>\n",
       "    <tr style=\"text-align: right;\">\n",
       "      <th></th>\n",
       "      <th>index</th>\n",
       "      <th>P9</th>\n",
       "      <th>P17A</th>\n",
       "      <th>Resultado_A19</th>\n",
       "      <th>Resultado_estimado_N19</th>\n",
       "      <th>Resultado_Real_N19</th>\n",
       "    </tr>\n",
       "  </thead>\n",
       "  <tbody>\n",
       "    <tr>\n",
       "      <th>0</th>\n",
       "      <td>PSOE</td>\n",
       "      <td>0.451807</td>\n",
       "      <td>0.422572</td>\n",
       "      <td>0.3084</td>\n",
       "      <td>0.337635</td>\n",
       "      <td>0.3031</td>\n",
       "    </tr>\n",
       "    <tr>\n",
       "      <th>1</th>\n",
       "      <td>PP</td>\n",
       "      <td>0.171687</td>\n",
       "      <td>0.170604</td>\n",
       "      <td>0.1771</td>\n",
       "      <td>0.178183</td>\n",
       "      <td>0.2180</td>\n",
       "    </tr>\n",
       "    <tr>\n",
       "      <th>2</th>\n",
       "      <td>Ciudadanos</td>\n",
       "      <td>0.126506</td>\n",
       "      <td>0.146982</td>\n",
       "      <td>0.1951</td>\n",
       "      <td>0.174624</td>\n",
       "      <td>0.0895</td>\n",
       "    </tr>\n",
       "    <tr>\n",
       "      <th>3</th>\n",
       "      <td>Podemos</td>\n",
       "      <td>0.132530</td>\n",
       "      <td>0.131234</td>\n",
       "      <td>0.1449</td>\n",
       "      <td>0.146197</td>\n",
       "      <td>0.1307</td>\n",
       "    </tr>\n",
       "    <tr>\n",
       "      <th>4</th>\n",
       "      <td>VOX</td>\n",
       "      <td>0.108434</td>\n",
       "      <td>0.081365</td>\n",
       "      <td>0.1399</td>\n",
       "      <td>0.166969</td>\n",
       "      <td>0.2168</td>\n",
       "    </tr>\n",
       "    <tr>\n",
       "      <th>5</th>\n",
       "      <td>Más País</td>\n",
       "      <td>0.009036</td>\n",
       "      <td>NaN</td>\n",
       "      <td>0.0000</td>\n",
       "      <td>0.009036</td>\n",
       "      <td>0.0189</td>\n",
       "    </tr>\n",
       "  </tbody>\n",
       "</table>\n",
       "</div>"
      ],
      "text/plain": [
       "        index        P9      P17A  Resultado_A19  Resultado_estimado_N19  \\\n",
       "0        PSOE  0.451807  0.422572         0.3084                0.337635   \n",
       "1          PP  0.171687  0.170604         0.1771                0.178183   \n",
       "2  Ciudadanos  0.126506  0.146982         0.1951                0.174624   \n",
       "3     Podemos  0.132530  0.131234         0.1449                0.146197   \n",
       "4         VOX  0.108434  0.081365         0.1399                0.166969   \n",
       "5    Más País  0.009036       NaN         0.0000                0.009036   \n",
       "\n",
       "   Resultado_Real_N19  \n",
       "0              0.3031  \n",
       "1              0.2180  \n",
       "2              0.0895  \n",
       "3              0.1307  \n",
       "4              0.2168  \n",
       "5              0.0189  "
      ]
     },
     "execution_count": 174,
     "metadata": {},
     "output_type": "execute_result"
    }
   ],
   "source": [
    "df"
   ]
  },
  {
   "cell_type": "code",
   "execution_count": 175,
   "metadata": {
    "executionInfo": {
     "elapsed": 238,
     "status": "ok",
     "timestamp": 1630934998212,
     "user": {
      "displayName": "Guillermo Barrio",
      "photoUrl": "",
      "userId": "06925154007558381895"
     },
     "user_tz": -120
    },
    "id": "qjhvkX6hRvG5"
   },
   "outputs": [],
   "source": [
    "df['Dif_Real-Estimado'] = df['Resultado_Real_N19'] - df['Resultado_estimado_N19']"
   ]
  },
  {
   "cell_type": "markdown",
   "metadata": {
    "id": "Pj840Z53pgZh"
   },
   "source": [
    "Y nos encontrmos que, efectivamente, en línea con el sesgo del CIS a nivel nacional, el Centro sobrevaloró fuertemente al PSOE y especialmente a Cs, e infravaloró tanto al PP como claramente a Vox."
   ]
  },
  {
   "cell_type": "code",
   "execution_count": 185,
   "metadata": {
    "colab": {
     "base_uri": "https://localhost:8080/",
     "height": 235
    },
    "executionInfo": {
     "elapsed": 230,
     "status": "ok",
     "timestamp": 1630935003214,
     "user": {
      "displayName": "Guillermo Barrio",
      "photoUrl": "",
      "userId": "06925154007558381895"
     },
     "user_tz": -120
    },
    "id": "sApjYAeXRvDi",
    "outputId": "93ceaf16-a99c-4970-cd84-8cf108a14891"
   },
   "outputs": [
    {
     "data": {
      "text/html": [
       "<div>\n",
       "<style scoped>\n",
       "    .dataframe tbody tr th:only-of-type {\n",
       "        vertical-align: middle;\n",
       "    }\n",
       "\n",
       "    .dataframe tbody tr th {\n",
       "        vertical-align: top;\n",
       "    }\n",
       "\n",
       "    .dataframe thead th {\n",
       "        text-align: right;\n",
       "    }\n",
       "</style>\n",
       "<table border=\"1\" class=\"dataframe\">\n",
       "  <thead>\n",
       "    <tr style=\"text-align: right;\">\n",
       "      <th></th>\n",
       "      <th>index</th>\n",
       "      <th>Intencion_voto</th>\n",
       "      <th>Recuerdo_voto</th>\n",
       "      <th>Resultado_A19</th>\n",
       "      <th>Resultado_estimado_N19</th>\n",
       "      <th>Resultado_Real_N19</th>\n",
       "      <th>Dif_Real-Estimado</th>\n",
       "    </tr>\n",
       "  </thead>\n",
       "  <tbody>\n",
       "    <tr>\n",
       "      <th>0</th>\n",
       "      <td>PSOE</td>\n",
       "      <td>0.451807</td>\n",
       "      <td>0.422572</td>\n",
       "      <td>0.3084</td>\n",
       "      <td>0.337635</td>\n",
       "      <td>0.3031</td>\n",
       "      <td>-0.034535</td>\n",
       "    </tr>\n",
       "    <tr>\n",
       "      <th>1</th>\n",
       "      <td>PP</td>\n",
       "      <td>0.171687</td>\n",
       "      <td>0.170604</td>\n",
       "      <td>0.1771</td>\n",
       "      <td>0.178183</td>\n",
       "      <td>0.2180</td>\n",
       "      <td>0.039817</td>\n",
       "    </tr>\n",
       "    <tr>\n",
       "      <th>2</th>\n",
       "      <td>Ciudadanos</td>\n",
       "      <td>0.126506</td>\n",
       "      <td>0.146982</td>\n",
       "      <td>0.1951</td>\n",
       "      <td>0.174624</td>\n",
       "      <td>0.0895</td>\n",
       "      <td>-0.085124</td>\n",
       "    </tr>\n",
       "    <tr>\n",
       "      <th>3</th>\n",
       "      <td>Podemos</td>\n",
       "      <td>0.132530</td>\n",
       "      <td>0.131234</td>\n",
       "      <td>0.1449</td>\n",
       "      <td>0.146197</td>\n",
       "      <td>0.1307</td>\n",
       "      <td>-0.015497</td>\n",
       "    </tr>\n",
       "    <tr>\n",
       "      <th>4</th>\n",
       "      <td>VOX</td>\n",
       "      <td>0.108434</td>\n",
       "      <td>0.081365</td>\n",
       "      <td>0.1399</td>\n",
       "      <td>0.166969</td>\n",
       "      <td>0.2168</td>\n",
       "      <td>0.049831</td>\n",
       "    </tr>\n",
       "    <tr>\n",
       "      <th>5</th>\n",
       "      <td>Más País</td>\n",
       "      <td>0.009036</td>\n",
       "      <td>NaN</td>\n",
       "      <td>0.0000</td>\n",
       "      <td>0.009036</td>\n",
       "      <td>0.0189</td>\n",
       "      <td>0.009864</td>\n",
       "    </tr>\n",
       "  </tbody>\n",
       "</table>\n",
       "</div>"
      ],
      "text/plain": [
       "        index  Intencion_voto  Recuerdo_voto  Resultado_A19  \\\n",
       "0        PSOE        0.451807       0.422572         0.3084   \n",
       "1          PP        0.171687       0.170604         0.1771   \n",
       "2  Ciudadanos        0.126506       0.146982         0.1951   \n",
       "3     Podemos        0.132530       0.131234         0.1449   \n",
       "4         VOX        0.108434       0.081365         0.1399   \n",
       "5    Más País        0.009036            NaN         0.0000   \n",
       "\n",
       "   Resultado_estimado_N19  Resultado_Real_N19  Dif_Real-Estimado  \n",
       "0                0.337635              0.3031          -0.034535  \n",
       "1                0.178183              0.2180           0.039817  \n",
       "2                0.174624              0.0895          -0.085124  \n",
       "3                0.146197              0.1307          -0.015497  \n",
       "4                0.166969              0.2168           0.049831  \n",
       "5                0.009036              0.0189           0.009864  "
      ]
     },
     "execution_count": 185,
     "metadata": {},
     "output_type": "execute_result"
    }
   ],
   "source": [
    "df"
   ]
  },
  {
   "cell_type": "code",
   "execution_count": 180,
   "metadata": {},
   "outputs": [],
   "source": [
    "df = df.rename(columns={'P9': 'Intencion_voto', 'P17A': 'Recuerdo_voto'})"
   ]
  },
  {
   "cell_type": "code",
   "execution_count": 206,
   "metadata": {},
   "outputs": [
    {
     "data": {
      "text/html": [
       "<div>\n",
       "<style scoped>\n",
       "    .dataframe tbody tr th:only-of-type {\n",
       "        vertical-align: middle;\n",
       "    }\n",
       "\n",
       "    .dataframe tbody tr th {\n",
       "        vertical-align: top;\n",
       "    }\n",
       "\n",
       "    .dataframe thead th {\n",
       "        text-align: right;\n",
       "    }\n",
       "</style>\n",
       "<table border=\"1\" class=\"dataframe\">\n",
       "  <thead>\n",
       "    <tr style=\"text-align: right;\">\n",
       "      <th></th>\n",
       "      <th>index</th>\n",
       "      <th>Intencion_voto</th>\n",
       "      <th>Recuerdo_voto</th>\n",
       "      <th>Resultado_A19</th>\n",
       "      <th>Resultado_estimado_N19</th>\n",
       "      <th>Resultado_Real_N19</th>\n",
       "      <th>Dif_Real-Estimado</th>\n",
       "    </tr>\n",
       "  </thead>\n",
       "  <tbody>\n",
       "    <tr>\n",
       "      <th>0</th>\n",
       "      <td>PSOE</td>\n",
       "      <td>0.451807</td>\n",
       "      <td>0.422572</td>\n",
       "      <td>0.3084</td>\n",
       "      <td>0.337635</td>\n",
       "      <td>0.3031</td>\n",
       "      <td>-0.034535</td>\n",
       "    </tr>\n",
       "    <tr>\n",
       "      <th>1</th>\n",
       "      <td>PP</td>\n",
       "      <td>0.171687</td>\n",
       "      <td>0.170604</td>\n",
       "      <td>0.1771</td>\n",
       "      <td>0.178183</td>\n",
       "      <td>0.2180</td>\n",
       "      <td>0.039817</td>\n",
       "    </tr>\n",
       "    <tr>\n",
       "      <th>2</th>\n",
       "      <td>Ciudadanos</td>\n",
       "      <td>0.126506</td>\n",
       "      <td>0.146982</td>\n",
       "      <td>0.1951</td>\n",
       "      <td>0.174624</td>\n",
       "      <td>0.0895</td>\n",
       "      <td>-0.085124</td>\n",
       "    </tr>\n",
       "    <tr>\n",
       "      <th>3</th>\n",
       "      <td>Podemos</td>\n",
       "      <td>0.132530</td>\n",
       "      <td>0.131234</td>\n",
       "      <td>0.1449</td>\n",
       "      <td>0.146197</td>\n",
       "      <td>0.1307</td>\n",
       "      <td>-0.015497</td>\n",
       "    </tr>\n",
       "    <tr>\n",
       "      <th>4</th>\n",
       "      <td>VOX</td>\n",
       "      <td>0.108434</td>\n",
       "      <td>0.081365</td>\n",
       "      <td>0.1399</td>\n",
       "      <td>0.166969</td>\n",
       "      <td>0.2168</td>\n",
       "      <td>0.049831</td>\n",
       "    </tr>\n",
       "    <tr>\n",
       "      <th>5</th>\n",
       "      <td>Más País</td>\n",
       "      <td>0.009036</td>\n",
       "      <td>NaN</td>\n",
       "      <td>0.0000</td>\n",
       "      <td>0.009036</td>\n",
       "      <td>0.0189</td>\n",
       "      <td>0.009864</td>\n",
       "    </tr>\n",
       "  </tbody>\n",
       "</table>\n",
       "</div>"
      ],
      "text/plain": [
       "        index  Intencion_voto  Recuerdo_voto  Resultado_A19  \\\n",
       "0        PSOE        0.451807       0.422572         0.3084   \n",
       "1          PP        0.171687       0.170604         0.1771   \n",
       "2  Ciudadanos        0.126506       0.146982         0.1951   \n",
       "3     Podemos        0.132530       0.131234         0.1449   \n",
       "4         VOX        0.108434       0.081365         0.1399   \n",
       "5    Más País        0.009036            NaN         0.0000   \n",
       "\n",
       "   Resultado_estimado_N19  Resultado_Real_N19  Dif_Real-Estimado  \n",
       "0                0.337635              0.3031          -0.034535  \n",
       "1                0.178183              0.2180           0.039817  \n",
       "2                0.174624              0.0895          -0.085124  \n",
       "3                0.146197              0.1307          -0.015497  \n",
       "4                0.166969              0.2168           0.049831  \n",
       "5                0.009036              0.0189           0.009864  "
      ]
     },
     "execution_count": 206,
     "metadata": {},
     "output_type": "execute_result"
    }
   ],
   "source": [
    "df.to_csv('CISResult.csv', header= True)\n",
    "df"
   ]
  },
  {
   "cell_type": "code",
   "execution_count": null,
   "metadata": {},
   "outputs": [],
   "source": []
  },
  {
   "cell_type": "code",
   "execution_count": 226,
   "metadata": {},
   "outputs": [],
   "source": [
    "#para guardar el archivo en s3:\n",
    "\n",
    "from botocore.exceptions import ClientError\n",
    "\n",
    "s3_client = boto3.client(\n",
    "    's3',\n",
    "    aws_access_key_id='xxxxxxxx',\n",
    "    aws_secret_access_key='xxxxxxxxxx',    \n",
    ")\n",
    "\n",
    "def upload_file(file_name, bucket, object_name=None):\n",
    "    \"\"\"Subir un archivo a un bucket\n",
    "    :param file_name: archivo que hay que subir\n",
    "    :param bucket: Bucket al que hay que subirlo\n",
    "    :param object_name: S3 object name. Incluye la carpeta en la que hay que guardarlo. si no hay no se pone nada\n",
    "    :return: True si sube el archivo, else False\n",
    "    \"\"\"\n",
    "\n",
    "    # If S3 object_name was not specified, use file_name\n",
    "    if object_name is None:\n",
    "        object_name = file_name\n",
    "\n",
    "    # Upload the file\n",
    "    #s3_client = boto3.client('s3')\n",
    "    try:\n",
    "        response = s3_client.upload_file(file_name, bucket, object_name)\n",
    "    except ClientError as e:\n",
    "        logging.error(e)\n",
    "        return False\n",
    "    return True"
   ]
  },
  {
   "cell_type": "code",
   "execution_count": 225,
   "metadata": {},
   "outputs": [
    {
     "data": {
      "text/plain": [
       "True"
      ]
     },
     "execution_count": 225,
     "metadata": {},
     "output_type": "execute_result"
    }
   ],
   "source": [
    "upload_file('CISResult.csv',\n",
    "            'electomedia',\n",
    "            object_name = \"EstimacionOtrasFuentes/\" + 'CISResult.csv'\n",
    "           )"
   ]
  },
  {
   "cell_type": "code",
   "execution_count": null,
   "metadata": {},
   "outputs": [],
   "source": []
  }
 ],
 "metadata": {
  "colab": {
   "authorship_tag": "ABX9TyPOOTOet+mCXafwWU93Q/x4",
   "collapsed_sections": [],
   "mount_file_id": "1EKJk-lO7E1EdNoG5iWUotCgQBBLXHgPU",
   "name": "CIS_N19_def.ipynb",
   "provenance": []
  },
  "kernelspec": {
   "display_name": "Python 3",
   "language": "python",
   "name": "python3"
  },
  "language_info": {
   "codemirror_mode": {
    "name": "ipython",
    "version": 3
   },
   "file_extension": ".py",
   "mimetype": "text/x-python",
   "name": "python",
   "nbconvert_exporter": "python",
   "pygments_lexer": "ipython3",
   "version": "3.8.3"
  }
 },
 "nbformat": 4,
 "nbformat_minor": 1
}
