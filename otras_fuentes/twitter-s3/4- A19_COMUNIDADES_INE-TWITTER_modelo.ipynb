{
 "cells": [
  {
   "cell_type": "markdown",
   "metadata": {
    "id": "9dKq5wpT9uef"
   },
   "source": [
    "# Correlación de tweets y voto en abril de 2019"
   ]
  },
  {
   "cell_type": "markdown",
   "metadata": {
    "id": "OtSirtqV95nV"
   },
   "source": [
    "En este cuaderno intentamos buscar alguna correlación entre la positividad de los tweets sobre los distintos partidos políticos justo con anterioridad a las elecciones de abril de 2019, y el voto de los electores en esos comicios.\n",
    "\n",
    "El cálculo de la positividad de los tweets ya ha sido calculado en un cuaderno anterior por CCAA, y esa es, lógicamente, la distribución que tendremos en el voto en las elecciones.\n",
    "\n",
    "Estudiaremos las posibles correlaciones de la positividad de los tweets primero con las diferencia de porcentaje de voto entre PSOE y PP, y a continuación con el porcentaje de voto a Vox."
   ]
  },
  {
   "cell_type": "markdown",
   "metadata": {
    "id": "vR2s6COtGpxN"
   },
   "source": [
    "## Carga y preparación de dataset conjunto de voto y tweets"
   ]
  },
  {
   "cell_type": "markdown",
   "metadata": {
    "id": "_LkEgtda-ivs"
   },
   "source": [
    "Comenzamos cargando las librerías necesarias y el dataset de las elecciones de abril de 2019."
   ]
  },
  {
   "cell_type": "code",
   "execution_count": 1,
   "metadata": {
    "executionInfo": {
     "elapsed": 492,
     "status": "ok",
     "timestamp": 1631275627918,
     "user": {
      "displayName": "Guillermo Barrio",
      "photoUrl": "https://lh3.googleusercontent.com/a/default-user=s64",
      "userId": "06925154007558381895"
     },
     "user_tz": -120
    },
    "id": "-RVlEP28jAJT"
   },
   "outputs": [],
   "source": [
    "import pandas as pd\n",
    "pd.set_option('display.max_rows', None)\n",
    "pd.set_option('display.max_columns', None)\n",
    "pd.set_option('display.max_colwidth', None)"
   ]
  },
  {
   "cell_type": "code",
   "execution_count": 2,
   "metadata": {
    "executionInfo": {
     "elapsed": 292,
     "status": "ok",
     "timestamp": 1631278728408,
     "user": {
      "displayName": "Guillermo Barrio",
      "photoUrl": "https://lh3.googleusercontent.com/a/default-user=s64",
      "userId": "06925154007558381895"
     },
     "user_tz": -120
    },
    "id": "6BUv9zj9yPgG"
   },
   "outputs": [],
   "source": [
    "import numpy as np\n",
    "\n",
    "import matplotlib.pyplot as plt\n",
    "from matplotlib.colors import ListedColormap\n",
    "%matplotlib inline\n",
    "\n",
    "cm = plt.cm.RdBu\n",
    "cm_bright = ListedColormap(['#FF0000', '#0000FF'])\n",
    "\n",
    "import warnings\n",
    "warnings.filterwarnings('ignore')"
   ]
  },
  {
   "cell_type": "code",
   "execution_count": 3,
   "metadata": {
    "colab": {
     "base_uri": "https://localhost:8080/"
    },
    "executionInfo": {
     "elapsed": 41646,
     "status": "ok",
     "timestamp": 1631275624186,
     "user": {
      "displayName": "Guillermo Barrio",
      "photoUrl": "https://lh3.googleusercontent.com/a/default-user=s64",
      "userId": "06925154007558381895"
     },
     "user_tz": -120
    },
    "id": "JgZ6i3P4mEZ_",
    "outputId": "a87085f9-f9eb-4a52-f90c-e170e7068e5c"
   },
   "outputs": [],
   "source": [
    "import boto3\n",
    "\n",
    "BUCKET_NAME = 'electomedia' \n",
    "\n",
    "# sustituir por credenciales de acceso. \n",
    "s3 = boto3.resource('s3', aws_access_key_id = 'XXXX', \n",
    "                          aws_secret_access_key= 'XXXXXXX')"
   ]
  },
  {
   "cell_type": "code",
   "execution_count": 4,
   "metadata": {},
   "outputs": [],
   "source": [
    "import botocore.exceptions\n",
    "\n",
    "KEY = 'datos-elecciones-generales-unificados/gen_A19_unif_cols_prov_copia.txt' \n",
    "\n",
    "try:\n",
    " \n",
    "  s3.Bucket(BUCKET_NAME).download_file(KEY, 'gen_A19_unif_cols_prov_copia.txt')\n",
    "\n",
    "except botocore.exceptions.ClientError as e:\n",
    "    if e.response['Error']['Code'] == \"404\":\n",
    "        print(\"The object does not exist.\")\n",
    "    else:\n",
    "        raise\n",
    "    "
   ]
  },
  {
   "cell_type": "code",
   "execution_count": 5,
   "metadata": {
    "executionInfo": {
     "elapsed": 831,
     "status": "ok",
     "timestamp": 1631275653876,
     "user": {
      "displayName": "Guillermo Barrio",
      "photoUrl": "https://lh3.googleusercontent.com/a/default-user=s64",
      "userId": "06925154007558381895"
     },
     "user_tz": -120
    },
    "id": "BCH2E2cfjAJX"
   },
   "outputs": [],
   "source": [
    "cols_str = {'cod_ccaa' : 'str', 'cod_prov' : 'str', 'cod_mun' : 'str', 'cod_sec' : 'str', 'cod_grupo' : 'str'}"
   ]
  },
  {
   "cell_type": "code",
   "execution_count": 6,
   "metadata": {
    "executionInfo": {
     "elapsed": 2507,
     "status": "ok",
     "timestamp": 1631275661852,
     "user": {
      "displayName": "Guillermo Barrio",
      "photoUrl": "https://lh3.googleusercontent.com/a/default-user=s64",
      "userId": "06925154007558381895"
     },
     "user_tz": -120
    },
    "id": "q_1NI2f7jAJX"
   },
   "outputs": [],
   "source": [
    "df_secciones = pd.read_csv('gen_A19_unif_cols_prov_copia.txt', dtype = cols_str)"
   ]
  },
  {
   "cell_type": "code",
   "execution_count": 7,
   "metadata": {
    "colab": {
     "base_uri": "https://localhost:8080/",
     "height": 1000
    },
    "executionInfo": {
     "elapsed": 8,
     "status": "ok",
     "timestamp": 1631275666215,
     "user": {
      "displayName": "Guillermo Barrio",
      "photoUrl": "https://lh3.googleusercontent.com/a/default-user=s64",
      "userId": "06925154007558381895"
     },
     "user_tz": -120
    },
    "id": "TyEB_nAEjAJY",
    "outputId": "6152a7e4-279b-4a2a-e718-5e04970ca1c5"
   },
   "outputs": [
    {
     "data": {
      "text/html": [
       "<div>\n",
       "<style scoped>\n",
       "    .dataframe tbody tr th:only-of-type {\n",
       "        vertical-align: middle;\n",
       "    }\n",
       "\n",
       "    .dataframe tbody tr th {\n",
       "        vertical-align: top;\n",
       "    }\n",
       "\n",
       "    .dataframe thead th {\n",
       "        text-align: right;\n",
       "    }\n",
       "</style>\n",
       "<table border=\"1\" class=\"dataframe\">\n",
       "  <thead>\n",
       "    <tr style=\"text-align: right;\">\n",
       "      <th></th>\n",
       "      <th>Sección</th>\n",
       "      <th>cod_ccaa</th>\n",
       "      <th>cod_prov</th>\n",
       "      <th>cod_mun</th>\n",
       "      <th>cod_sec</th>\n",
       "      <th>CCAA</th>\n",
       "      <th>Provincia</th>\n",
       "      <th>Municipio</th>\n",
       "      <th>Censo_Esc</th>\n",
       "      <th>Votos_Total</th>\n",
       "      <th>Participación</th>\n",
       "      <th>Nulos</th>\n",
       "      <th>Votos_Válidos</th>\n",
       "      <th>Blanco</th>\n",
       "      <th>V_Cand</th>\n",
       "      <th>PP</th>\n",
       "      <th>PSOE</th>\n",
       "      <th>Cs</th>\n",
       "      <th>UP</th>\n",
       "      <th>IU</th>\n",
       "      <th>VOX</th>\n",
       "      <th>UPyD</th>\n",
       "      <th>MP</th>\n",
       "      <th>CiU</th>\n",
       "      <th>ERC</th>\n",
       "      <th>JxC</th>\n",
       "      <th>CUP</th>\n",
       "      <th>DiL</th>\n",
       "      <th>PNV</th>\n",
       "      <th>Bildu</th>\n",
       "      <th>Amaiur</th>\n",
       "      <th>CC</th>\n",
       "      <th>FA</th>\n",
       "      <th>TE</th>\n",
       "      <th>BNG</th>\n",
       "      <th>PRC</th>\n",
       "      <th>GBai</th>\n",
       "      <th>Compromis</th>\n",
       "      <th>PACMA</th>\n",
       "      <th>Otros</th>\n",
       "      <th>% PP</th>\n",
       "      <th>% PSOE</th>\n",
       "      <th>% UP</th>\n",
       "      <th>% Vox</th>\n",
       "      <th>% Cs</th>\n",
       "      <th>% IU</th>\n",
       "      <th>Ganador</th>\n",
       "      <th>Segundo</th>\n",
       "      <th>Tercero</th>\n",
       "      <th>Cuarto</th>\n",
       "      <th>Quinto</th>\n",
       "      <th>0-4</th>\n",
       "      <th>5-9</th>\n",
       "      <th>10-14</th>\n",
       "      <th>15-19</th>\n",
       "      <th>20-24</th>\n",
       "      <th>25-29</th>\n",
       "      <th>30-34</th>\n",
       "      <th>35-39</th>\n",
       "      <th>40-44</th>\n",
       "      <th>45-49</th>\n",
       "      <th>50-54</th>\n",
       "      <th>55-59</th>\n",
       "      <th>60-64</th>\n",
       "      <th>65-69</th>\n",
       "      <th>70-74</th>\n",
       "      <th>75-79</th>\n",
       "      <th>80-84</th>\n",
       "      <th>85-89</th>\n",
       "      <th>90-94</th>\n",
       "      <th>95-99</th>\n",
       "      <th>100 y más</th>\n",
       "      <th>Población Total</th>\n",
       "      <th>Hombres</th>\n",
       "      <th>Mujeres</th>\n",
       "      <th>% mayores 65 años</th>\n",
       "      <th>% 20-64 años</th>\n",
       "      <th>% menores 19 años</th>\n",
       "      <th>Afiliados SS Minicipio</th>\n",
       "      <th>% Afiliados SS autónomos</th>\n",
       "      <th>% Afiliados SS / Población</th>\n",
       "      <th>Paro Registrado Municipio</th>\n",
       "      <th>% Paro Hombres</th>\n",
       "      <th>% Paro mayores 45</th>\n",
       "      <th>% Paro s/ Afiliados SS Municipio</th>\n",
       "      <th>Renta persona 2017</th>\n",
       "      <th>Renta persona 2015</th>\n",
       "      <th>Renta hogar 2017</th>\n",
       "      <th>Renta hogar 2015</th>\n",
       "      <th>Renta Salarios 2018</th>\n",
       "      <th>Renta Salarios 2015</th>\n",
       "      <th>Renta Pensiones 2018</th>\n",
       "      <th>Renta Pensiones 2015</th>\n",
       "      <th>Renta Desempleo 2018</th>\n",
       "      <th>Renta Desempleo 2015</th>\n",
       "      <th>dict_res</th>\n",
       "      <th>dict_res_ord</th>\n",
       "      <th>cod_grupo</th>\n",
       "    </tr>\n",
       "  </thead>\n",
       "  <tbody>\n",
       "    <tr>\n",
       "      <th>0</th>\n",
       "      <td>022019041010400101001</td>\n",
       "      <td>01</td>\n",
       "      <td>04</td>\n",
       "      <td>04001</td>\n",
       "      <td>0400101001</td>\n",
       "      <td>Andalucía</td>\n",
       "      <td>Almería</td>\n",
       "      <td>Abla</td>\n",
       "      <td>1014</td>\n",
       "      <td>768</td>\n",
       "      <td>0.757396</td>\n",
       "      <td>5</td>\n",
       "      <td>763</td>\n",
       "      <td>9</td>\n",
       "      <td>754</td>\n",
       "      <td>149</td>\n",
       "      <td>326</td>\n",
       "      <td>131</td>\n",
       "      <td>44</td>\n",
       "      <td>0</td>\n",
       "      <td>88</td>\n",
       "      <td>0</td>\n",
       "      <td>0</td>\n",
       "      <td>0</td>\n",
       "      <td>0</td>\n",
       "      <td>0</td>\n",
       "      <td>0</td>\n",
       "      <td>0</td>\n",
       "      <td>0</td>\n",
       "      <td>2</td>\n",
       "      <td>0</td>\n",
       "      <td>0</td>\n",
       "      <td>0</td>\n",
       "      <td>0</td>\n",
       "      <td>0</td>\n",
       "      <td>0</td>\n",
       "      <td>0</td>\n",
       "      <td>0</td>\n",
       "      <td>12</td>\n",
       "      <td>2</td>\n",
       "      <td>0.195282</td>\n",
       "      <td>0.427261</td>\n",
       "      <td>0.057667</td>\n",
       "      <td>0.115334</td>\n",
       "      <td>0.171691</td>\n",
       "      <td>0.0</td>\n",
       "      <td>PSOE</td>\n",
       "      <td>PP</td>\n",
       "      <td>Cs</td>\n",
       "      <td>VOX</td>\n",
       "      <td>UP</td>\n",
       "      <td>39</td>\n",
       "      <td>42</td>\n",
       "      <td>47</td>\n",
       "      <td>47</td>\n",
       "      <td>70</td>\n",
       "      <td>72</td>\n",
       "      <td>73</td>\n",
       "      <td>80</td>\n",
       "      <td>89</td>\n",
       "      <td>81</td>\n",
       "      <td>94</td>\n",
       "      <td>87</td>\n",
       "      <td>91</td>\n",
       "      <td>77</td>\n",
       "      <td>72</td>\n",
       "      <td>42</td>\n",
       "      <td>67</td>\n",
       "      <td>56</td>\n",
       "      <td>19</td>\n",
       "      <td>4</td>\n",
       "      <td>0</td>\n",
       "      <td>1249</td>\n",
       "      <td>635</td>\n",
       "      <td>614</td>\n",
       "      <td>0.269816</td>\n",
       "      <td>0.590072</td>\n",
       "      <td>0.140112</td>\n",
       "      <td>291.0</td>\n",
       "      <td>0.243986</td>\n",
       "      <td>0.232986</td>\n",
       "      <td>143.0</td>\n",
       "      <td>0.419580</td>\n",
       "      <td>0.559441</td>\n",
       "      <td>0.329493</td>\n",
       "      <td>9159.0</td>\n",
       "      <td>8788.0</td>\n",
       "      <td>20172.0</td>\n",
       "      <td>19546.0</td>\n",
       "      <td>5574.0</td>\n",
       "      <td>4833.0</td>\n",
       "      <td>3286.0</td>\n",
       "      <td>3082.0</td>\n",
       "      <td>403.0</td>\n",
       "      <td>471.0</td>\n",
       "      <td>{'PP': 149, 'PSOE': 326, 'Cs': 131, 'UP': 44, 'IU': 0, 'VOX': 88, 'UPyD': 0, 'MP': 0, 'CiU': 0, 'ERC': 0, 'JxC': 0, 'CUP': 0, 'DiL': 0, 'PNV': 0, 'Bildu': 2, 'Amaiur': 0, 'CC': 0, 'FA': 0, 'TE': 0, 'BNG': 0, 'PRC': 0, 'GBai': 0, 'Compromis': 0, 'PACMA': 12, 'Otros': 2}</td>\n",
       "      <td>[('PSOE', 326), ('PP', 149), ('Cs', 131), ('VOX', 88), ('UP', 44), ('PACMA', 12), ('Bildu', 2), ('Otros', 2), ('IU', 0), ('UPyD', 0), ('MP', 0), ('CiU', 0), ('ERC', 0), ('JxC', 0), ('CUP', 0), ('DiL', 0), ('PNV', 0), ('Amaiur', 0), ('CC', 0), ('FA', 0), ('TE', 0), ('BNG', 0), ('PRC', 0), ('GBai', 0), ('Compromis', 0)]</td>\n",
       "      <td>0400101</td>\n",
       "    </tr>\n",
       "    <tr>\n",
       "      <th>1</th>\n",
       "      <td>022019041010400201001</td>\n",
       "      <td>01</td>\n",
       "      <td>04</td>\n",
       "      <td>04002</td>\n",
       "      <td>0400201001</td>\n",
       "      <td>Andalucía</td>\n",
       "      <td>Almería</td>\n",
       "      <td>Abrucena</td>\n",
       "      <td>1039</td>\n",
       "      <td>798</td>\n",
       "      <td>0.768046</td>\n",
       "      <td>6</td>\n",
       "      <td>792</td>\n",
       "      <td>7</td>\n",
       "      <td>785</td>\n",
       "      <td>127</td>\n",
       "      <td>380</td>\n",
       "      <td>91</td>\n",
       "      <td>60</td>\n",
       "      <td>0</td>\n",
       "      <td>113</td>\n",
       "      <td>0</td>\n",
       "      <td>0</td>\n",
       "      <td>0</td>\n",
       "      <td>0</td>\n",
       "      <td>0</td>\n",
       "      <td>0</td>\n",
       "      <td>0</td>\n",
       "      <td>0</td>\n",
       "      <td>3</td>\n",
       "      <td>0</td>\n",
       "      <td>0</td>\n",
       "      <td>0</td>\n",
       "      <td>0</td>\n",
       "      <td>0</td>\n",
       "      <td>0</td>\n",
       "      <td>0</td>\n",
       "      <td>0</td>\n",
       "      <td>7</td>\n",
       "      <td>4</td>\n",
       "      <td>0.160354</td>\n",
       "      <td>0.479798</td>\n",
       "      <td>0.075758</td>\n",
       "      <td>0.142677</td>\n",
       "      <td>0.114899</td>\n",
       "      <td>0.0</td>\n",
       "      <td>PSOE</td>\n",
       "      <td>PP</td>\n",
       "      <td>VOX</td>\n",
       "      <td>Cs</td>\n",
       "      <td>UP</td>\n",
       "      <td>30</td>\n",
       "      <td>30</td>\n",
       "      <td>33</td>\n",
       "      <td>41</td>\n",
       "      <td>71</td>\n",
       "      <td>79</td>\n",
       "      <td>60</td>\n",
       "      <td>75</td>\n",
       "      <td>70</td>\n",
       "      <td>70</td>\n",
       "      <td>108</td>\n",
       "      <td>101</td>\n",
       "      <td>99</td>\n",
       "      <td>86</td>\n",
       "      <td>61</td>\n",
       "      <td>64</td>\n",
       "      <td>61</td>\n",
       "      <td>46</td>\n",
       "      <td>14</td>\n",
       "      <td>2</td>\n",
       "      <td>1</td>\n",
       "      <td>1202</td>\n",
       "      <td>637</td>\n",
       "      <td>565</td>\n",
       "      <td>0.278702</td>\n",
       "      <td>0.609817</td>\n",
       "      <td>0.111481</td>\n",
       "      <td>323.0</td>\n",
       "      <td>0.238390</td>\n",
       "      <td>0.268719</td>\n",
       "      <td>158.0</td>\n",
       "      <td>0.367089</td>\n",
       "      <td>0.601266</td>\n",
       "      <td>0.328482</td>\n",
       "      <td>8827.0</td>\n",
       "      <td>8107.0</td>\n",
       "      <td>17841.0</td>\n",
       "      <td>17115.0</td>\n",
       "      <td>4640.0</td>\n",
       "      <td>4048.0</td>\n",
       "      <td>3418.0</td>\n",
       "      <td>2770.0</td>\n",
       "      <td>568.0</td>\n",
       "      <td>620.0</td>\n",
       "      <td>{'PP': 127, 'PSOE': 380, 'Cs': 91, 'UP': 60, 'IU': 0, 'VOX': 113, 'UPyD': 0, 'MP': 0, 'CiU': 0, 'ERC': 0, 'JxC': 0, 'CUP': 0, 'DiL': 0, 'PNV': 0, 'Bildu': 3, 'Amaiur': 0, 'CC': 0, 'FA': 0, 'TE': 0, 'BNG': 0, 'PRC': 0, 'GBai': 0, 'Compromis': 0, 'PACMA': 7, 'Otros': 4}</td>\n",
       "      <td>[('PSOE', 380), ('PP', 127), ('VOX', 113), ('Cs', 91), ('UP', 60), ('PACMA', 7), ('Otros', 4), ('Bildu', 3), ('IU', 0), ('UPyD', 0), ('MP', 0), ('CiU', 0), ('ERC', 0), ('JxC', 0), ('CUP', 0), ('DiL', 0), ('PNV', 0), ('Amaiur', 0), ('CC', 0), ('FA', 0), ('TE', 0), ('BNG', 0), ('PRC', 0), ('GBai', 0), ('Compromis', 0)]</td>\n",
       "      <td>0400201</td>\n",
       "    </tr>\n",
       "    <tr>\n",
       "      <th>2</th>\n",
       "      <td>022019041010400301001</td>\n",
       "      <td>01</td>\n",
       "      <td>04</td>\n",
       "      <td>04003</td>\n",
       "      <td>0400301001</td>\n",
       "      <td>Andalucía</td>\n",
       "      <td>Almería</td>\n",
       "      <td>Adra</td>\n",
       "      <td>671</td>\n",
       "      <td>519</td>\n",
       "      <td>0.773472</td>\n",
       "      <td>4</td>\n",
       "      <td>515</td>\n",
       "      <td>1</td>\n",
       "      <td>514</td>\n",
       "      <td>162</td>\n",
       "      <td>131</td>\n",
       "      <td>68</td>\n",
       "      <td>44</td>\n",
       "      <td>0</td>\n",
       "      <td>103</td>\n",
       "      <td>0</td>\n",
       "      <td>0</td>\n",
       "      <td>0</td>\n",
       "      <td>0</td>\n",
       "      <td>0</td>\n",
       "      <td>0</td>\n",
       "      <td>0</td>\n",
       "      <td>0</td>\n",
       "      <td>1</td>\n",
       "      <td>0</td>\n",
       "      <td>0</td>\n",
       "      <td>0</td>\n",
       "      <td>0</td>\n",
       "      <td>0</td>\n",
       "      <td>0</td>\n",
       "      <td>0</td>\n",
       "      <td>0</td>\n",
       "      <td>5</td>\n",
       "      <td>0</td>\n",
       "      <td>0.314563</td>\n",
       "      <td>0.254369</td>\n",
       "      <td>0.085437</td>\n",
       "      <td>0.200000</td>\n",
       "      <td>0.132039</td>\n",
       "      <td>0.0</td>\n",
       "      <td>PP</td>\n",
       "      <td>PSOE</td>\n",
       "      <td>VOX</td>\n",
       "      <td>Cs</td>\n",
       "      <td>UP</td>\n",
       "      <td>36</td>\n",
       "      <td>28</td>\n",
       "      <td>44</td>\n",
       "      <td>40</td>\n",
       "      <td>63</td>\n",
       "      <td>64</td>\n",
       "      <td>54</td>\n",
       "      <td>54</td>\n",
       "      <td>54</td>\n",
       "      <td>61</td>\n",
       "      <td>82</td>\n",
       "      <td>75</td>\n",
       "      <td>67</td>\n",
       "      <td>48</td>\n",
       "      <td>37</td>\n",
       "      <td>40</td>\n",
       "      <td>26</td>\n",
       "      <td>15</td>\n",
       "      <td>3</td>\n",
       "      <td>1</td>\n",
       "      <td>0</td>\n",
       "      <td>892</td>\n",
       "      <td>435</td>\n",
       "      <td>457</td>\n",
       "      <td>0.190583</td>\n",
       "      <td>0.643498</td>\n",
       "      <td>0.165919</td>\n",
       "      <td>7571.0</td>\n",
       "      <td>0.393871</td>\n",
       "      <td>8.487668</td>\n",
       "      <td>3036.0</td>\n",
       "      <td>0.399868</td>\n",
       "      <td>0.459157</td>\n",
       "      <td>0.286226</td>\n",
       "      <td>8965.0</td>\n",
       "      <td>8267.0</td>\n",
       "      <td>26498.0</td>\n",
       "      <td>24688.0</td>\n",
       "      <td>5121.0</td>\n",
       "      <td>4795.0</td>\n",
       "      <td>2499.0</td>\n",
       "      <td>2301.0</td>\n",
       "      <td>337.0</td>\n",
       "      <td>333.0</td>\n",
       "      <td>{'PP': 162, 'PSOE': 131, 'Cs': 68, 'UP': 44, 'IU': 0, 'VOX': 103, 'UPyD': 0, 'MP': 0, 'CiU': 0, 'ERC': 0, 'JxC': 0, 'CUP': 0, 'DiL': 0, 'PNV': 0, 'Bildu': 1, 'Amaiur': 0, 'CC': 0, 'FA': 0, 'TE': 0, 'BNG': 0, 'PRC': 0, 'GBai': 0, 'Compromis': 0, 'PACMA': 5, 'Otros': 0}</td>\n",
       "      <td>[('PP', 162), ('PSOE', 131), ('VOX', 103), ('Cs', 68), ('UP', 44), ('PACMA', 5), ('Bildu', 1), ('IU', 0), ('UPyD', 0), ('MP', 0), ('CiU', 0), ('ERC', 0), ('JxC', 0), ('CUP', 0), ('DiL', 0), ('PNV', 0), ('Amaiur', 0), ('CC', 0), ('FA', 0), ('TE', 0), ('BNG', 0), ('PRC', 0), ('GBai', 0), ('Compromis', 0), ('Otros', 0)]</td>\n",
       "      <td>0400301</td>\n",
       "    </tr>\n",
       "    <tr>\n",
       "      <th>3</th>\n",
       "      <td>022019041010400301002</td>\n",
       "      <td>01</td>\n",
       "      <td>04</td>\n",
       "      <td>04003</td>\n",
       "      <td>0400301002</td>\n",
       "      <td>Andalucía</td>\n",
       "      <td>Almería</td>\n",
       "      <td>Adra</td>\n",
       "      <td>1282</td>\n",
       "      <td>954</td>\n",
       "      <td>0.744150</td>\n",
       "      <td>13</td>\n",
       "      <td>941</td>\n",
       "      <td>7</td>\n",
       "      <td>934</td>\n",
       "      <td>239</td>\n",
       "      <td>241</td>\n",
       "      <td>166</td>\n",
       "      <td>62</td>\n",
       "      <td>0</td>\n",
       "      <td>218</td>\n",
       "      <td>0</td>\n",
       "      <td>0</td>\n",
       "      <td>0</td>\n",
       "      <td>0</td>\n",
       "      <td>0</td>\n",
       "      <td>0</td>\n",
       "      <td>0</td>\n",
       "      <td>0</td>\n",
       "      <td>1</td>\n",
       "      <td>0</td>\n",
       "      <td>0</td>\n",
       "      <td>0</td>\n",
       "      <td>0</td>\n",
       "      <td>0</td>\n",
       "      <td>0</td>\n",
       "      <td>0</td>\n",
       "      <td>0</td>\n",
       "      <td>6</td>\n",
       "      <td>1</td>\n",
       "      <td>0.253985</td>\n",
       "      <td>0.256111</td>\n",
       "      <td>0.065887</td>\n",
       "      <td>0.231668</td>\n",
       "      <td>0.176408</td>\n",
       "      <td>0.0</td>\n",
       "      <td>PSOE</td>\n",
       "      <td>PP</td>\n",
       "      <td>VOX</td>\n",
       "      <td>Cs</td>\n",
       "      <td>UP</td>\n",
       "      <td>108</td>\n",
       "      <td>101</td>\n",
       "      <td>113</td>\n",
       "      <td>91</td>\n",
       "      <td>101</td>\n",
       "      <td>93</td>\n",
       "      <td>108</td>\n",
       "      <td>158</td>\n",
       "      <td>162</td>\n",
       "      <td>150</td>\n",
       "      <td>140</td>\n",
       "      <td>119</td>\n",
       "      <td>103</td>\n",
       "      <td>67</td>\n",
       "      <td>49</td>\n",
       "      <td>37</td>\n",
       "      <td>30</td>\n",
       "      <td>14</td>\n",
       "      <td>7</td>\n",
       "      <td>1</td>\n",
       "      <td>0</td>\n",
       "      <td>1752</td>\n",
       "      <td>865</td>\n",
       "      <td>887</td>\n",
       "      <td>0.117009</td>\n",
       "      <td>0.647260</td>\n",
       "      <td>0.235731</td>\n",
       "      <td>7571.0</td>\n",
       "      <td>0.393871</td>\n",
       "      <td>4.321347</td>\n",
       "      <td>3036.0</td>\n",
       "      <td>0.399868</td>\n",
       "      <td>0.459157</td>\n",
       "      <td>0.286226</td>\n",
       "      <td>8599.0</td>\n",
       "      <td>7941.0</td>\n",
       "      <td>25677.0</td>\n",
       "      <td>23400.0</td>\n",
       "      <td>5381.0</td>\n",
       "      <td>4837.0</td>\n",
       "      <td>1815.0</td>\n",
       "      <td>1724.0</td>\n",
       "      <td>343.0</td>\n",
       "      <td>464.0</td>\n",
       "      <td>{'PP': 239, 'PSOE': 241, 'Cs': 166, 'UP': 62, 'IU': 0, 'VOX': 218, 'UPyD': 0, 'MP': 0, 'CiU': 0, 'ERC': 0, 'JxC': 0, 'CUP': 0, 'DiL': 0, 'PNV': 0, 'Bildu': 1, 'Amaiur': 0, 'CC': 0, 'FA': 0, 'TE': 0, 'BNG': 0, 'PRC': 0, 'GBai': 0, 'Compromis': 0, 'PACMA': 6, 'Otros': 1}</td>\n",
       "      <td>[('PSOE', 241), ('PP', 239), ('VOX', 218), ('Cs', 166), ('UP', 62), ('PACMA', 6), ('Bildu', 1), ('Otros', 1), ('IU', 0), ('UPyD', 0), ('MP', 0), ('CiU', 0), ('ERC', 0), ('JxC', 0), ('CUP', 0), ('DiL', 0), ('PNV', 0), ('Amaiur', 0), ('CC', 0), ('FA', 0), ('TE', 0), ('BNG', 0), ('PRC', 0), ('GBai', 0), ('Compromis', 0)]</td>\n",
       "      <td>0400301</td>\n",
       "    </tr>\n",
       "    <tr>\n",
       "      <th>4</th>\n",
       "      <td>022019041010400301003</td>\n",
       "      <td>01</td>\n",
       "      <td>04</td>\n",
       "      <td>04003</td>\n",
       "      <td>0400301003</td>\n",
       "      <td>Andalucía</td>\n",
       "      <td>Almería</td>\n",
       "      <td>Adra</td>\n",
       "      <td>1535</td>\n",
       "      <td>1087</td>\n",
       "      <td>0.708143</td>\n",
       "      <td>20</td>\n",
       "      <td>1067</td>\n",
       "      <td>6</td>\n",
       "      <td>1061</td>\n",
       "      <td>274</td>\n",
       "      <td>252</td>\n",
       "      <td>170</td>\n",
       "      <td>67</td>\n",
       "      <td>0</td>\n",
       "      <td>282</td>\n",
       "      <td>0</td>\n",
       "      <td>0</td>\n",
       "      <td>0</td>\n",
       "      <td>0</td>\n",
       "      <td>0</td>\n",
       "      <td>0</td>\n",
       "      <td>0</td>\n",
       "      <td>0</td>\n",
       "      <td>2</td>\n",
       "      <td>0</td>\n",
       "      <td>0</td>\n",
       "      <td>0</td>\n",
       "      <td>0</td>\n",
       "      <td>0</td>\n",
       "      <td>0</td>\n",
       "      <td>0</td>\n",
       "      <td>0</td>\n",
       "      <td>12</td>\n",
       "      <td>2</td>\n",
       "      <td>0.256795</td>\n",
       "      <td>0.236176</td>\n",
       "      <td>0.062793</td>\n",
       "      <td>0.264292</td>\n",
       "      <td>0.159325</td>\n",
       "      <td>0.0</td>\n",
       "      <td>VOX</td>\n",
       "      <td>PP</td>\n",
       "      <td>PSOE</td>\n",
       "      <td>Cs</td>\n",
       "      <td>UP</td>\n",
       "      <td>133</td>\n",
       "      <td>129</td>\n",
       "      <td>144</td>\n",
       "      <td>148</td>\n",
       "      <td>117</td>\n",
       "      <td>155</td>\n",
       "      <td>189</td>\n",
       "      <td>178</td>\n",
       "      <td>215</td>\n",
       "      <td>227</td>\n",
       "      <td>164</td>\n",
       "      <td>110</td>\n",
       "      <td>96</td>\n",
       "      <td>61</td>\n",
       "      <td>58</td>\n",
       "      <td>41</td>\n",
       "      <td>40</td>\n",
       "      <td>27</td>\n",
       "      <td>4</td>\n",
       "      <td>4</td>\n",
       "      <td>0</td>\n",
       "      <td>2240</td>\n",
       "      <td>1094</td>\n",
       "      <td>1146</td>\n",
       "      <td>0.104911</td>\n",
       "      <td>0.647768</td>\n",
       "      <td>0.247321</td>\n",
       "      <td>7571.0</td>\n",
       "      <td>0.393871</td>\n",
       "      <td>3.379911</td>\n",
       "      <td>3036.0</td>\n",
       "      <td>0.399868</td>\n",
       "      <td>0.459157</td>\n",
       "      <td>0.286226</td>\n",
       "      <td>8076.0</td>\n",
       "      <td>7150.0</td>\n",
       "      <td>22051.0</td>\n",
       "      <td>19687.0</td>\n",
       "      <td>5224.0</td>\n",
       "      <td>4044.0</td>\n",
       "      <td>1170.0</td>\n",
       "      <td>1198.0</td>\n",
       "      <td>416.0</td>\n",
       "      <td>476.0</td>\n",
       "      <td>{'PP': 274, 'PSOE': 252, 'Cs': 170, 'UP': 67, 'IU': 0, 'VOX': 282, 'UPyD': 0, 'MP': 0, 'CiU': 0, 'ERC': 0, 'JxC': 0, 'CUP': 0, 'DiL': 0, 'PNV': 0, 'Bildu': 2, 'Amaiur': 0, 'CC': 0, 'FA': 0, 'TE': 0, 'BNG': 0, 'PRC': 0, 'GBai': 0, 'Compromis': 0, 'PACMA': 12, 'Otros': 2}</td>\n",
       "      <td>[('VOX', 282), ('PP', 274), ('PSOE', 252), ('Cs', 170), ('UP', 67), ('PACMA', 12), ('Bildu', 2), ('Otros', 2), ('IU', 0), ('UPyD', 0), ('MP', 0), ('CiU', 0), ('ERC', 0), ('JxC', 0), ('CUP', 0), ('DiL', 0), ('PNV', 0), ('Amaiur', 0), ('CC', 0), ('FA', 0), ('TE', 0), ('BNG', 0), ('PRC', 0), ('GBai', 0), ('Compromis', 0)]</td>\n",
       "      <td>0400301</td>\n",
       "    </tr>\n",
       "  </tbody>\n",
       "</table>\n",
       "</div>"
      ],
      "text/plain": [
       "                 Sección cod_ccaa cod_prov cod_mun     cod_sec       CCAA  \\\n",
       "0  022019041010400101001       01       04   04001  0400101001  Andalucía   \n",
       "1  022019041010400201001       01       04   04002  0400201001  Andalucía   \n",
       "2  022019041010400301001       01       04   04003  0400301001  Andalucía   \n",
       "3  022019041010400301002       01       04   04003  0400301002  Andalucía   \n",
       "4  022019041010400301003       01       04   04003  0400301003  Andalucía   \n",
       "\n",
       "  Provincia Municipio  Censo_Esc  Votos_Total  Participación  Nulos  \\\n",
       "0   Almería      Abla       1014          768       0.757396      5   \n",
       "1   Almería  Abrucena       1039          798       0.768046      6   \n",
       "2   Almería      Adra        671          519       0.773472      4   \n",
       "3   Almería      Adra       1282          954       0.744150     13   \n",
       "4   Almería      Adra       1535         1087       0.708143     20   \n",
       "\n",
       "   Votos_Válidos  Blanco  V_Cand   PP  PSOE   Cs  UP  IU  VOX  UPyD  MP  CiU  \\\n",
       "0            763       9     754  149   326  131  44   0   88     0   0    0   \n",
       "1            792       7     785  127   380   91  60   0  113     0   0    0   \n",
       "2            515       1     514  162   131   68  44   0  103     0   0    0   \n",
       "3            941       7     934  239   241  166  62   0  218     0   0    0   \n",
       "4           1067       6    1061  274   252  170  67   0  282     0   0    0   \n",
       "\n",
       "   ERC  JxC  CUP  DiL  PNV  Bildu  Amaiur  CC  FA  TE  BNG  PRC  GBai  \\\n",
       "0    0    0    0    0    0      2       0   0   0   0    0    0     0   \n",
       "1    0    0    0    0    0      3       0   0   0   0    0    0     0   \n",
       "2    0    0    0    0    0      1       0   0   0   0    0    0     0   \n",
       "3    0    0    0    0    0      1       0   0   0   0    0    0     0   \n",
       "4    0    0    0    0    0      2       0   0   0   0    0    0     0   \n",
       "\n",
       "   Compromis  PACMA  Otros      % PP    % PSOE      % UP     % Vox      % Cs  \\\n",
       "0          0     12      2  0.195282  0.427261  0.057667  0.115334  0.171691   \n",
       "1          0      7      4  0.160354  0.479798  0.075758  0.142677  0.114899   \n",
       "2          0      5      0  0.314563  0.254369  0.085437  0.200000  0.132039   \n",
       "3          0      6      1  0.253985  0.256111  0.065887  0.231668  0.176408   \n",
       "4          0     12      2  0.256795  0.236176  0.062793  0.264292  0.159325   \n",
       "\n",
       "   % IU Ganador Segundo Tercero Cuarto Quinto  0-4  5-9  10-14  15-19  20-24  \\\n",
       "0   0.0    PSOE      PP      Cs    VOX     UP   39   42     47     47     70   \n",
       "1   0.0    PSOE      PP     VOX     Cs     UP   30   30     33     41     71   \n",
       "2   0.0      PP    PSOE     VOX     Cs     UP   36   28     44     40     63   \n",
       "3   0.0    PSOE      PP     VOX     Cs     UP  108  101    113     91    101   \n",
       "4   0.0     VOX      PP    PSOE     Cs     UP  133  129    144    148    117   \n",
       "\n",
       "   25-29  30-34  35-39  40-44  45-49  50-54  55-59  60-64  65-69  70-74  \\\n",
       "0     72     73     80     89     81     94     87     91     77     72   \n",
       "1     79     60     75     70     70    108    101     99     86     61   \n",
       "2     64     54     54     54     61     82     75     67     48     37   \n",
       "3     93    108    158    162    150    140    119    103     67     49   \n",
       "4    155    189    178    215    227    164    110     96     61     58   \n",
       "\n",
       "   75-79  80-84  85-89  90-94  95-99  100 y más  Población Total  Hombres  \\\n",
       "0     42     67     56     19      4          0             1249      635   \n",
       "1     64     61     46     14      2          1             1202      637   \n",
       "2     40     26     15      3      1          0              892      435   \n",
       "3     37     30     14      7      1          0             1752      865   \n",
       "4     41     40     27      4      4          0             2240     1094   \n",
       "\n",
       "   Mujeres  % mayores 65 años  % 20-64 años  % menores 19 años  \\\n",
       "0      614           0.269816      0.590072           0.140112   \n",
       "1      565           0.278702      0.609817           0.111481   \n",
       "2      457           0.190583      0.643498           0.165919   \n",
       "3      887           0.117009      0.647260           0.235731   \n",
       "4     1146           0.104911      0.647768           0.247321   \n",
       "\n",
       "   Afiliados SS Minicipio  % Afiliados SS autónomos  \\\n",
       "0                   291.0                  0.243986   \n",
       "1                   323.0                  0.238390   \n",
       "2                  7571.0                  0.393871   \n",
       "3                  7571.0                  0.393871   \n",
       "4                  7571.0                  0.393871   \n",
       "\n",
       "   % Afiliados SS / Población  Paro Registrado Municipio  % Paro Hombres  \\\n",
       "0                    0.232986                      143.0        0.419580   \n",
       "1                    0.268719                      158.0        0.367089   \n",
       "2                    8.487668                     3036.0        0.399868   \n",
       "3                    4.321347                     3036.0        0.399868   \n",
       "4                    3.379911                     3036.0        0.399868   \n",
       "\n",
       "   % Paro mayores 45  % Paro s/ Afiliados SS Municipio  Renta persona 2017  \\\n",
       "0           0.559441                          0.329493              9159.0   \n",
       "1           0.601266                          0.328482              8827.0   \n",
       "2           0.459157                          0.286226              8965.0   \n",
       "3           0.459157                          0.286226              8599.0   \n",
       "4           0.459157                          0.286226              8076.0   \n",
       "\n",
       "   Renta persona 2015  Renta hogar 2017  Renta hogar 2015  \\\n",
       "0              8788.0           20172.0           19546.0   \n",
       "1              8107.0           17841.0           17115.0   \n",
       "2              8267.0           26498.0           24688.0   \n",
       "3              7941.0           25677.0           23400.0   \n",
       "4              7150.0           22051.0           19687.0   \n",
       "\n",
       "   Renta Salarios 2018  Renta Salarios 2015  Renta Pensiones 2018  \\\n",
       "0               5574.0               4833.0                3286.0   \n",
       "1               4640.0               4048.0                3418.0   \n",
       "2               5121.0               4795.0                2499.0   \n",
       "3               5381.0               4837.0                1815.0   \n",
       "4               5224.0               4044.0                1170.0   \n",
       "\n",
       "   Renta Pensiones 2015  Renta Desempleo 2018  Renta Desempleo 2015  \\\n",
       "0                3082.0                 403.0                 471.0   \n",
       "1                2770.0                 568.0                 620.0   \n",
       "2                2301.0                 337.0                 333.0   \n",
       "3                1724.0                 343.0                 464.0   \n",
       "4                1198.0                 416.0                 476.0   \n",
       "\n",
       "                                                                                                                                                                                                                                                                         dict_res  \\\n",
       "0   {'PP': 149, 'PSOE': 326, 'Cs': 131, 'UP': 44, 'IU': 0, 'VOX': 88, 'UPyD': 0, 'MP': 0, 'CiU': 0, 'ERC': 0, 'JxC': 0, 'CUP': 0, 'DiL': 0, 'PNV': 0, 'Bildu': 2, 'Amaiur': 0, 'CC': 0, 'FA': 0, 'TE': 0, 'BNG': 0, 'PRC': 0, 'GBai': 0, 'Compromis': 0, 'PACMA': 12, 'Otros': 2}   \n",
       "1    {'PP': 127, 'PSOE': 380, 'Cs': 91, 'UP': 60, 'IU': 0, 'VOX': 113, 'UPyD': 0, 'MP': 0, 'CiU': 0, 'ERC': 0, 'JxC': 0, 'CUP': 0, 'DiL': 0, 'PNV': 0, 'Bildu': 3, 'Amaiur': 0, 'CC': 0, 'FA': 0, 'TE': 0, 'BNG': 0, 'PRC': 0, 'GBai': 0, 'Compromis': 0, 'PACMA': 7, 'Otros': 4}   \n",
       "2    {'PP': 162, 'PSOE': 131, 'Cs': 68, 'UP': 44, 'IU': 0, 'VOX': 103, 'UPyD': 0, 'MP': 0, 'CiU': 0, 'ERC': 0, 'JxC': 0, 'CUP': 0, 'DiL': 0, 'PNV': 0, 'Bildu': 1, 'Amaiur': 0, 'CC': 0, 'FA': 0, 'TE': 0, 'BNG': 0, 'PRC': 0, 'GBai': 0, 'Compromis': 0, 'PACMA': 5, 'Otros': 0}   \n",
       "3   {'PP': 239, 'PSOE': 241, 'Cs': 166, 'UP': 62, 'IU': 0, 'VOX': 218, 'UPyD': 0, 'MP': 0, 'CiU': 0, 'ERC': 0, 'JxC': 0, 'CUP': 0, 'DiL': 0, 'PNV': 0, 'Bildu': 1, 'Amaiur': 0, 'CC': 0, 'FA': 0, 'TE': 0, 'BNG': 0, 'PRC': 0, 'GBai': 0, 'Compromis': 0, 'PACMA': 6, 'Otros': 1}   \n",
       "4  {'PP': 274, 'PSOE': 252, 'Cs': 170, 'UP': 67, 'IU': 0, 'VOX': 282, 'UPyD': 0, 'MP': 0, 'CiU': 0, 'ERC': 0, 'JxC': 0, 'CUP': 0, 'DiL': 0, 'PNV': 0, 'Bildu': 2, 'Amaiur': 0, 'CC': 0, 'FA': 0, 'TE': 0, 'BNG': 0, 'PRC': 0, 'GBai': 0, 'Compromis': 0, 'PACMA': 12, 'Otros': 2}   \n",
       "\n",
       "                                                                                                                                                                                                                                                                                                                       dict_res_ord  \\\n",
       "0   [('PSOE', 326), ('PP', 149), ('Cs', 131), ('VOX', 88), ('UP', 44), ('PACMA', 12), ('Bildu', 2), ('Otros', 2), ('IU', 0), ('UPyD', 0), ('MP', 0), ('CiU', 0), ('ERC', 0), ('JxC', 0), ('CUP', 0), ('DiL', 0), ('PNV', 0), ('Amaiur', 0), ('CC', 0), ('FA', 0), ('TE', 0), ('BNG', 0), ('PRC', 0), ('GBai', 0), ('Compromis', 0)]   \n",
       "1    [('PSOE', 380), ('PP', 127), ('VOX', 113), ('Cs', 91), ('UP', 60), ('PACMA', 7), ('Otros', 4), ('Bildu', 3), ('IU', 0), ('UPyD', 0), ('MP', 0), ('CiU', 0), ('ERC', 0), ('JxC', 0), ('CUP', 0), ('DiL', 0), ('PNV', 0), ('Amaiur', 0), ('CC', 0), ('FA', 0), ('TE', 0), ('BNG', 0), ('PRC', 0), ('GBai', 0), ('Compromis', 0)]   \n",
       "2    [('PP', 162), ('PSOE', 131), ('VOX', 103), ('Cs', 68), ('UP', 44), ('PACMA', 5), ('Bildu', 1), ('IU', 0), ('UPyD', 0), ('MP', 0), ('CiU', 0), ('ERC', 0), ('JxC', 0), ('CUP', 0), ('DiL', 0), ('PNV', 0), ('Amaiur', 0), ('CC', 0), ('FA', 0), ('TE', 0), ('BNG', 0), ('PRC', 0), ('GBai', 0), ('Compromis', 0), ('Otros', 0)]   \n",
       "3   [('PSOE', 241), ('PP', 239), ('VOX', 218), ('Cs', 166), ('UP', 62), ('PACMA', 6), ('Bildu', 1), ('Otros', 1), ('IU', 0), ('UPyD', 0), ('MP', 0), ('CiU', 0), ('ERC', 0), ('JxC', 0), ('CUP', 0), ('DiL', 0), ('PNV', 0), ('Amaiur', 0), ('CC', 0), ('FA', 0), ('TE', 0), ('BNG', 0), ('PRC', 0), ('GBai', 0), ('Compromis', 0)]   \n",
       "4  [('VOX', 282), ('PP', 274), ('PSOE', 252), ('Cs', 170), ('UP', 67), ('PACMA', 12), ('Bildu', 2), ('Otros', 2), ('IU', 0), ('UPyD', 0), ('MP', 0), ('CiU', 0), ('ERC', 0), ('JxC', 0), ('CUP', 0), ('DiL', 0), ('PNV', 0), ('Amaiur', 0), ('CC', 0), ('FA', 0), ('TE', 0), ('BNG', 0), ('PRC', 0), ('GBai', 0), ('Compromis', 0)]   \n",
       "\n",
       "  cod_grupo  \n",
       "0   0400101  \n",
       "1   0400201  \n",
       "2   0400301  \n",
       "3   0400301  \n",
       "4   0400301  "
      ]
     },
     "execution_count": 7,
     "metadata": {},
     "output_type": "execute_result"
    }
   ],
   "source": [
    "df_secciones.head()"
   ]
  },
  {
   "cell_type": "code",
   "execution_count": null,
   "metadata": {
    "id": "CI9cohELmprQ"
   },
   "outputs": [],
   "source": []
  },
  {
   "cell_type": "code",
   "execution_count": 8,
   "metadata": {
    "colab": {
     "base_uri": "https://localhost:8080/"
    },
    "executionInfo": {
     "elapsed": 253,
     "status": "ok",
     "timestamp": 1631275678865,
     "user": {
      "displayName": "Guillermo Barrio",
      "photoUrl": "https://lh3.googleusercontent.com/a/default-user=s64",
      "userId": "06925154007558381895"
     },
     "user_tz": -120
    },
    "id": "aRL28vh7jAJZ",
    "outputId": "afa9f510-cbd5-41b9-c65f-92f72f00fd36"
   },
   "outputs": [
    {
     "data": {
      "text/plain": [
       "Andalucía               5981\n",
       "Cataluña                5071\n",
       "Galicia                 4417\n",
       "Castilla - La Mancha    3543\n",
       "La Rioja                3472\n",
       "Extremadura             2169\n",
       "Castilla y León         1948\n",
       "Murcia                  1711\n",
       "Aragón                  1450\n",
       "Canarias                1381\n",
       "Navarra                 1225\n",
       "C. Valenciana            965\n",
       "Asturias                 850\n",
       "'Islas Baleares'         662\n",
       "Madrid                   562\n",
       "Cantabria                467\n",
       "País Vasco               343\n",
       "Ceuta                     56\n",
       "Melilla                   44\n",
       "Name: CCAA, dtype: int64"
      ]
     },
     "execution_count": 8,
     "metadata": {},
     "output_type": "execute_result"
    }
   ],
   "source": [
    "df_secciones.CCAA.value_counts()"
   ]
  },
  {
   "cell_type": "code",
   "execution_count": 9,
   "metadata": {
    "colab": {
     "base_uri": "https://localhost:8080/"
    },
    "executionInfo": {
     "elapsed": 331,
     "status": "ok",
     "timestamp": 1631275681535,
     "user": {
      "displayName": "Guillermo Barrio",
      "photoUrl": "https://lh3.googleusercontent.com/a/default-user=s64",
      "userId": "06925154007558381895"
     },
     "user_tz": -120
    },
    "id": "wM4iD0BCjAJZ",
    "outputId": "5a542bbe-2a21-4e70-c3ce-b5f88136f1c7"
   },
   "outputs": [
    {
     "data": {
      "text/plain": [
       "Index(['Sección', 'cod_ccaa', 'cod_prov', 'cod_mun', 'cod_sec', 'CCAA',\n",
       "       'Provincia', 'Municipio', 'Censo_Esc', 'Votos_Total', 'Participación',\n",
       "       'Nulos', 'Votos_Válidos', 'Blanco', 'V_Cand', 'PP', 'PSOE', 'Cs', 'UP',\n",
       "       'IU', 'VOX', 'UPyD', 'MP', 'CiU', 'ERC', 'JxC', 'CUP', 'DiL', 'PNV',\n",
       "       'Bildu', 'Amaiur', 'CC', 'FA', 'TE', 'BNG', 'PRC', 'GBai', 'Compromis',\n",
       "       'PACMA', 'Otros', '% PP', '% PSOE', '% UP', '% Vox', '% Cs', '% IU',\n",
       "       'Ganador', 'Segundo', 'Tercero', 'Cuarto', 'Quinto', '0-4', '5-9',\n",
       "       '10-14', '15-19', '20-24', '25-29', '30-34', '35-39', '40-44', '45-49',\n",
       "       '50-54', '55-59', '60-64', '65-69', '70-74', '75-79', '80-84', '85-89',\n",
       "       '90-94', '95-99', '100 y más', 'Población Total', 'Hombres', 'Mujeres',\n",
       "       '% mayores 65 años', '% 20-64 años', '% menores 19 años',\n",
       "       'Afiliados SS Minicipio', '% Afiliados SS autónomos',\n",
       "       '% Afiliados SS / Población', 'Paro Registrado Municipio',\n",
       "       '% Paro Hombres', '% Paro mayores 45',\n",
       "       '% Paro s/ Afiliados SS Municipio', 'Renta persona 2017',\n",
       "       'Renta persona 2015', 'Renta hogar 2017', 'Renta hogar 2015',\n",
       "       'Renta Salarios 2018', 'Renta Salarios 2015', 'Renta Pensiones 2018',\n",
       "       'Renta Pensiones 2015', 'Renta Desempleo 2018', 'Renta Desempleo 2015',\n",
       "       'dict_res', 'dict_res_ord', 'cod_grupo'],\n",
       "      dtype='object')"
      ]
     },
     "execution_count": 9,
     "metadata": {},
     "output_type": "execute_result"
    }
   ],
   "source": [
    "df_secciones.columns"
   ]
  },
  {
   "cell_type": "code",
   "execution_count": null,
   "metadata": {
    "id": "HSR-0o4e-1gV"
   },
   "outputs": [],
   "source": []
  },
  {
   "cell_type": "markdown",
   "metadata": {
    "id": "_pTx3Slz-0fH"
   },
   "source": [
    "Tenemos que calcular el porcentaje de voto por CCAA, por lo que comenzamos a agruparlo. Tenemos que basarnos en los datos absolutos de los votos, descartando el resto de columnas."
   ]
  },
  {
   "cell_type": "code",
   "execution_count": 10,
   "metadata": {
    "executionInfo": {
     "elapsed": 348,
     "status": "ok",
     "timestamp": 1631275683979,
     "user": {
      "displayName": "Guillermo Barrio",
      "photoUrl": "https://lh3.googleusercontent.com/a/default-user=s64",
      "userId": "06925154007558381895"
     },
     "user_tz": -120
    },
    "id": "tw9RSajLjAJa"
   },
   "outputs": [],
   "source": [
    "columnas_validas= ['Sección','CCAA','Votos_Total','PP', 'PSOE', 'Cs', 'UP', 'VOX']"
   ]
  },
  {
   "cell_type": "code",
   "execution_count": 11,
   "metadata": {
    "executionInfo": {
     "elapsed": 267,
     "status": "ok",
     "timestamp": 1631276302034,
     "user": {
      "displayName": "Guillermo Barrio",
      "photoUrl": "https://lh3.googleusercontent.com/a/default-user=s64",
      "userId": "06925154007558381895"
     },
     "user_tz": -120
    },
    "id": "KTAzczVZjAJb"
   },
   "outputs": [],
   "source": [
    "df=df_secciones[columnas_validas]"
   ]
  },
  {
   "cell_type": "code",
   "execution_count": 12,
   "metadata": {
    "colab": {
     "base_uri": "https://localhost:8080/"
    },
    "executionInfo": {
     "elapsed": 249,
     "status": "ok",
     "timestamp": 1631276304131,
     "user": {
      "displayName": "Guillermo Barrio",
      "photoUrl": "https://lh3.googleusercontent.com/a/default-user=s64",
      "userId": "06925154007558381895"
     },
     "user_tz": -120
    },
    "id": "aik3KoLwjAJb",
    "outputId": "b24eb938-7938-42bc-9099-20c7b5e475ce"
   },
   "outputs": [
    {
     "name": "stdout",
     "output_type": "stream",
     "text": [
      "<class 'pandas.core.frame.DataFrame'>\n",
      "RangeIndex: 36317 entries, 0 to 36316\n",
      "Data columns (total 8 columns):\n",
      " #   Column       Non-Null Count  Dtype \n",
      "---  ------       --------------  ----- \n",
      " 0   Sección      36317 non-null  object\n",
      " 1   CCAA         36317 non-null  object\n",
      " 2   Votos_Total  36317 non-null  int64 \n",
      " 3   PP           36317 non-null  int64 \n",
      " 4   PSOE         36317 non-null  int64 \n",
      " 5   Cs           36317 non-null  int64 \n",
      " 6   UP           36317 non-null  int64 \n",
      " 7   VOX          36317 non-null  int64 \n",
      "dtypes: int64(6), object(2)\n",
      "memory usage: 2.2+ MB\n"
     ]
    }
   ],
   "source": [
    "df.info()"
   ]
  },
  {
   "cell_type": "code",
   "execution_count": null,
   "metadata": {
    "id": "E-n0NfI3_NN_"
   },
   "outputs": [],
   "source": []
  },
  {
   "cell_type": "markdown",
   "metadata": {
    "id": "TXxvh49o_G_t"
   },
   "source": [
    "Hacemos el groupby por comunidades autónomas."
   ]
  },
  {
   "cell_type": "code",
   "execution_count": 13,
   "metadata": {
    "executionInfo": {
     "elapsed": 2,
     "status": "ok",
     "timestamp": 1631276306839,
     "user": {
      "displayName": "Guillermo Barrio",
      "photoUrl": "https://lh3.googleusercontent.com/a/default-user=s64",
      "userId": "06925154007558381895"
     },
     "user_tz": -120
    },
    "id": "3-WTub_wjAJc"
   },
   "outputs": [],
   "source": [
    "df=df.groupby(['CCAA'], as_index=False).sum()"
   ]
  },
  {
   "cell_type": "code",
   "execution_count": 14,
   "metadata": {
    "colab": {
     "base_uri": "https://localhost:8080/"
    },
    "executionInfo": {
     "elapsed": 249,
     "status": "ok",
     "timestamp": 1631276308781,
     "user": {
      "displayName": "Guillermo Barrio",
      "photoUrl": "https://lh3.googleusercontent.com/a/default-user=s64",
      "userId": "06925154007558381895"
     },
     "user_tz": -120
    },
    "id": "ULKJfRzpjAJc",
    "outputId": "3cbc9686-9932-422a-948e-5c38cc36f707"
   },
   "outputs": [
    {
     "name": "stdout",
     "output_type": "stream",
     "text": [
      "<class 'pandas.core.frame.DataFrame'>\n",
      "Int64Index: 19 entries, 0 to 18\n",
      "Data columns (total 7 columns):\n",
      " #   Column       Non-Null Count  Dtype \n",
      "---  ------       --------------  ----- \n",
      " 0   CCAA         19 non-null     object\n",
      " 1   Votos_Total  19 non-null     int64 \n",
      " 2   PP           19 non-null     int64 \n",
      " 3   PSOE         19 non-null     int64 \n",
      " 4   Cs           19 non-null     int64 \n",
      " 5   UP           19 non-null     int64 \n",
      " 6   VOX          19 non-null     int64 \n",
      "dtypes: int64(6), object(1)\n",
      "memory usage: 1.2+ KB\n"
     ]
    }
   ],
   "source": [
    "df.info()"
   ]
  },
  {
   "cell_type": "code",
   "execution_count": null,
   "metadata": {
    "id": "EaAVvHoM_O5E"
   },
   "outputs": [],
   "source": []
  },
  {
   "cell_type": "markdown",
   "metadata": {
    "id": "kj-aTZeD_PQM"
   },
   "source": [
    "Reformamos los nombres de las CCAA para que coincidan con los presentes en el dataset de la positividad de los tweets."
   ]
  },
  {
   "cell_type": "code",
   "execution_count": 15,
   "metadata": {
    "executionInfo": {
     "elapsed": 278,
     "status": "ok",
     "timestamp": 1631276312045,
     "user": {
      "displayName": "Guillermo Barrio",
      "photoUrl": "https://lh3.googleusercontent.com/a/default-user=s64",
      "userId": "06925154007558381895"
     },
     "user_tz": -120
    },
    "id": "UXzuFKIdjAJd"
   },
   "outputs": [],
   "source": [
    "df['CCAA'] = df['CCAA'].replace({'''Islas Baleares''': 'baleares', 'Andalucía': 'andalucia', 'Aragón': 'aragon', 'Asturias': 'asturias','C. Valenciana': 'comunidadvalenciana','Canarias': 'canarias','Cantabria': 'cantabria','Castilla - La Mancha': 'castillalamancha','Castilla y León': 'castillaleon','Cataluña': 'catalunya','Ceuta': 'ceuta','Extremadura': 'extremadura','Galicia': 'galicia','La Rioja': 'larioja','Madrid': 'madrid','Melilla': 'melilla','Murcia': 'murcia','Navarra': 'navarra','País Vasco': 'euskadi'})\n",
    "df['CCAA'] = df['CCAA'].replace({'\\'Islas Baleares\\'': 'baleares'})"
   ]
  },
  {
   "cell_type": "code",
   "execution_count": 16,
   "metadata": {
    "colab": {
     "base_uri": "https://localhost:8080/",
     "height": 638
    },
    "executionInfo": {
     "elapsed": 273,
     "status": "ok",
     "timestamp": 1631276314095,
     "user": {
      "displayName": "Guillermo Barrio",
      "photoUrl": "https://lh3.googleusercontent.com/a/default-user=s64",
      "userId": "06925154007558381895"
     },
     "user_tz": -120
    },
    "id": "OPqlJ32rjAJd",
    "outputId": "c27ca99f-2c38-4425-b259-fc6b296b78d6"
   },
   "outputs": [
    {
     "data": {
      "text/html": [
       "<div>\n",
       "<style scoped>\n",
       "    .dataframe tbody tr th:only-of-type {\n",
       "        vertical-align: middle;\n",
       "    }\n",
       "\n",
       "    .dataframe tbody tr th {\n",
       "        vertical-align: top;\n",
       "    }\n",
       "\n",
       "    .dataframe thead th {\n",
       "        text-align: right;\n",
       "    }\n",
       "</style>\n",
       "<table border=\"1\" class=\"dataframe\">\n",
       "  <thead>\n",
       "    <tr style=\"text-align: right;\">\n",
       "      <th></th>\n",
       "      <th>CCAA</th>\n",
       "      <th>Votos_Total</th>\n",
       "      <th>PP</th>\n",
       "      <th>PSOE</th>\n",
       "      <th>Cs</th>\n",
       "      <th>UP</th>\n",
       "      <th>VOX</th>\n",
       "    </tr>\n",
       "  </thead>\n",
       "  <tbody>\n",
       "    <tr>\n",
       "      <th>0</th>\n",
       "      <td>baleares</td>\n",
       "      <td>522993</td>\n",
       "      <td>87173</td>\n",
       "      <td>136399</td>\n",
       "      <td>90202</td>\n",
       "      <td>92268</td>\n",
       "      <td>58439</td>\n",
       "    </tr>\n",
       "    <tr>\n",
       "      <th>1</th>\n",
       "      <td>andalucia</td>\n",
       "      <td>4630265</td>\n",
       "      <td>785511</td>\n",
       "      <td>1564206</td>\n",
       "      <td>808971</td>\n",
       "      <td>651480</td>\n",
       "      <td>611249</td>\n",
       "    </tr>\n",
       "    <tr>\n",
       "      <th>2</th>\n",
       "      <td>aragon</td>\n",
       "      <td>762588</td>\n",
       "      <td>142806</td>\n",
       "      <td>239379</td>\n",
       "      <td>154894</td>\n",
       "      <td>102290</td>\n",
       "      <td>92074</td>\n",
       "    </tr>\n",
       "    <tr>\n",
       "      <th>3</th>\n",
       "      <td>asturias</td>\n",
       "      <td>628445</td>\n",
       "      <td>111341</td>\n",
       "      <td>205917</td>\n",
       "      <td>103864</td>\n",
       "      <td>106630</td>\n",
       "      <td>71454</td>\n",
       "    </tr>\n",
       "    <tr>\n",
       "      <th>4</th>\n",
       "      <td>comunidadvalenciana</td>\n",
       "      <td>666243</td>\n",
       "      <td>140249</td>\n",
       "      <td>249555</td>\n",
       "      <td>117720</td>\n",
       "      <td>62222</td>\n",
       "      <td>70611</td>\n",
       "    </tr>\n",
       "    <tr>\n",
       "      <th>5</th>\n",
       "      <td>canarias</td>\n",
       "      <td>1071879</td>\n",
       "      <td>164500</td>\n",
       "      <td>294931</td>\n",
       "      <td>155303</td>\n",
       "      <td>166470</td>\n",
       "      <td>69384</td>\n",
       "    </tr>\n",
       "    <tr>\n",
       "      <th>6</th>\n",
       "      <td>cantabria</td>\n",
       "      <td>361057</td>\n",
       "      <td>77535</td>\n",
       "      <td>90010</td>\n",
       "      <td>54077</td>\n",
       "      <td>36518</td>\n",
       "      <td>39933</td>\n",
       "    </tr>\n",
       "    <tr>\n",
       "      <th>7</th>\n",
       "      <td>castillalamancha</td>\n",
       "      <td>1533328</td>\n",
       "      <td>394197</td>\n",
       "      <td>450536</td>\n",
       "      <td>286002</td>\n",
       "      <td>157198</td>\n",
       "      <td>186037</td>\n",
       "    </tr>\n",
       "    <tr>\n",
       "      <th>8</th>\n",
       "      <td>castillaleon</td>\n",
       "      <td>1201398</td>\n",
       "      <td>268791</td>\n",
       "      <td>383536</td>\n",
       "      <td>207021</td>\n",
       "      <td>120225</td>\n",
       "      <td>181143</td>\n",
       "    </tr>\n",
       "    <tr>\n",
       "      <th>9</th>\n",
       "      <td>catalunya</td>\n",
       "      <td>4148683</td>\n",
       "      <td>200084</td>\n",
       "      <td>958738</td>\n",
       "      <td>477110</td>\n",
       "      <td>613238</td>\n",
       "      <td>148157</td>\n",
       "    </tr>\n",
       "    <tr>\n",
       "      <th>10</th>\n",
       "      <td>ceuta</td>\n",
       "      <td>38342</td>\n",
       "      <td>8123</td>\n",
       "      <td>13766</td>\n",
       "      <td>4530</td>\n",
       "      <td>1822</td>\n",
       "      <td>9079</td>\n",
       "    </tr>\n",
       "    <tr>\n",
       "      <th>11</th>\n",
       "      <td>extremadura</td>\n",
       "      <td>1657491</td>\n",
       "      <td>447559</td>\n",
       "      <td>524916</td>\n",
       "      <td>182731</td>\n",
       "      <td>254323</td>\n",
       "      <td>86166</td>\n",
       "    </tr>\n",
       "    <tr>\n",
       "      <th>12</th>\n",
       "      <td>galicia</td>\n",
       "      <td>3787554</td>\n",
       "      <td>700811</td>\n",
       "      <td>1024711</td>\n",
       "      <td>786265</td>\n",
       "      <td>609567</td>\n",
       "      <td>520453</td>\n",
       "    </tr>\n",
       "    <tr>\n",
       "      <th>13</th>\n",
       "      <td>larioja</td>\n",
       "      <td>2708312</td>\n",
       "      <td>497789</td>\n",
       "      <td>744103</td>\n",
       "      <td>481739</td>\n",
       "      <td>381194</td>\n",
       "      <td>322050</td>\n",
       "    </tr>\n",
       "    <tr>\n",
       "      <th>14</th>\n",
       "      <td>madrid</td>\n",
       "      <td>369163</td>\n",
       "      <td>107112</td>\n",
       "      <td>94174</td>\n",
       "      <td>0</td>\n",
       "      <td>68159</td>\n",
       "      <td>17638</td>\n",
       "    </tr>\n",
       "    <tr>\n",
       "      <th>15</th>\n",
       "      <td>melilla</td>\n",
       "      <td>34068</td>\n",
       "      <td>8085</td>\n",
       "      <td>6986</td>\n",
       "      <td>4351</td>\n",
       "      <td>1291</td>\n",
       "      <td>5804</td>\n",
       "    </tr>\n",
       "    <tr>\n",
       "      <th>16</th>\n",
       "      <td>murcia</td>\n",
       "      <td>1279990</td>\n",
       "      <td>94524</td>\n",
       "      <td>252765</td>\n",
       "      <td>39963</td>\n",
       "      <td>223540</td>\n",
       "      <td>28005</td>\n",
       "    </tr>\n",
       "    <tr>\n",
       "      <th>17</th>\n",
       "      <td>navarra</td>\n",
       "      <td>775480</td>\n",
       "      <td>179889</td>\n",
       "      <td>189979</td>\n",
       "      <td>149979</td>\n",
       "      <td>79685</td>\n",
       "      <td>142989</td>\n",
       "    </tr>\n",
       "    <tr>\n",
       "      <th>18</th>\n",
       "      <td>euskadi</td>\n",
       "      <td>182504</td>\n",
       "      <td>47747</td>\n",
       "      <td>57060</td>\n",
       "      <td>32063</td>\n",
       "      <td>21214</td>\n",
       "      <td>16157</td>\n",
       "    </tr>\n",
       "  </tbody>\n",
       "</table>\n",
       "</div>"
      ],
      "text/plain": [
       "                   CCAA  Votos_Total      PP     PSOE      Cs      UP     VOX\n",
       "0              baleares       522993   87173   136399   90202   92268   58439\n",
       "1             andalucia      4630265  785511  1564206  808971  651480  611249\n",
       "2                aragon       762588  142806   239379  154894  102290   92074\n",
       "3              asturias       628445  111341   205917  103864  106630   71454\n",
       "4   comunidadvalenciana       666243  140249   249555  117720   62222   70611\n",
       "5              canarias      1071879  164500   294931  155303  166470   69384\n",
       "6             cantabria       361057   77535    90010   54077   36518   39933\n",
       "7      castillalamancha      1533328  394197   450536  286002  157198  186037\n",
       "8          castillaleon      1201398  268791   383536  207021  120225  181143\n",
       "9             catalunya      4148683  200084   958738  477110  613238  148157\n",
       "10                ceuta        38342    8123    13766    4530    1822    9079\n",
       "11          extremadura      1657491  447559   524916  182731  254323   86166\n",
       "12              galicia      3787554  700811  1024711  786265  609567  520453\n",
       "13              larioja      2708312  497789   744103  481739  381194  322050\n",
       "14               madrid       369163  107112    94174       0   68159   17638\n",
       "15              melilla        34068    8085     6986    4351    1291    5804\n",
       "16               murcia      1279990   94524   252765   39963  223540   28005\n",
       "17              navarra       775480  179889   189979  149979   79685  142989\n",
       "18              euskadi       182504   47747    57060   32063   21214   16157"
      ]
     },
     "execution_count": 16,
     "metadata": {},
     "output_type": "execute_result"
    }
   ],
   "source": [
    "df"
   ]
  },
  {
   "cell_type": "code",
   "execution_count": null,
   "metadata": {
    "id": "ZpCqq7tk_YJN"
   },
   "outputs": [],
   "source": []
  },
  {
   "cell_type": "markdown",
   "metadata": {
    "id": "pIKReU7k_YgG"
   },
   "source": [
    "Ahora calculamos los porcentajes de voto de los distintos partidos."
   ]
  },
  {
   "cell_type": "code",
   "execution_count": 17,
   "metadata": {
    "executionInfo": {
     "elapsed": 2,
     "status": "ok",
     "timestamp": 1631276316758,
     "user": {
      "displayName": "Guillermo Barrio",
      "photoUrl": "https://lh3.googleusercontent.com/a/default-user=s64",
      "userId": "06925154007558381895"
     },
     "user_tz": -120
    },
    "id": "sRVIIyaGjAJe"
   },
   "outputs": [],
   "source": [
    "df['%PP']=df['PP']/df['Votos_Total']*100\n",
    "df['%PSOE']=df['PSOE']/df['Votos_Total']*100\n",
    "df['%Cs']=df['Cs']/df['Votos_Total']*100\n",
    "df['%UP']=df['UP']/df['Votos_Total']*100\n",
    "df['%VOX']=df['VOX']/df['Votos_Total']*100"
   ]
  },
  {
   "cell_type": "code",
   "execution_count": 18,
   "metadata": {
    "colab": {
     "base_uri": "https://localhost:8080/",
     "height": 204
    },
    "executionInfo": {
     "elapsed": 17,
     "status": "ok",
     "timestamp": 1631276318815,
     "user": {
      "displayName": "Guillermo Barrio",
      "photoUrl": "https://lh3.googleusercontent.com/a/default-user=s64",
      "userId": "06925154007558381895"
     },
     "user_tz": -120
    },
    "id": "_k6oDXFajAJe",
    "outputId": "6bac0c2f-1fb5-41a8-8367-7c47139dea15"
   },
   "outputs": [
    {
     "data": {
      "text/html": [
       "<div>\n",
       "<style scoped>\n",
       "    .dataframe tbody tr th:only-of-type {\n",
       "        vertical-align: middle;\n",
       "    }\n",
       "\n",
       "    .dataframe tbody tr th {\n",
       "        vertical-align: top;\n",
       "    }\n",
       "\n",
       "    .dataframe thead th {\n",
       "        text-align: right;\n",
       "    }\n",
       "</style>\n",
       "<table border=\"1\" class=\"dataframe\">\n",
       "  <thead>\n",
       "    <tr style=\"text-align: right;\">\n",
       "      <th></th>\n",
       "      <th>CCAA</th>\n",
       "      <th>Votos_Total</th>\n",
       "      <th>PP</th>\n",
       "      <th>PSOE</th>\n",
       "      <th>Cs</th>\n",
       "      <th>UP</th>\n",
       "      <th>VOX</th>\n",
       "      <th>%PP</th>\n",
       "      <th>%PSOE</th>\n",
       "      <th>%Cs</th>\n",
       "      <th>%UP</th>\n",
       "      <th>%VOX</th>\n",
       "    </tr>\n",
       "  </thead>\n",
       "  <tbody>\n",
       "    <tr>\n",
       "      <th>0</th>\n",
       "      <td>baleares</td>\n",
       "      <td>522993</td>\n",
       "      <td>87173</td>\n",
       "      <td>136399</td>\n",
       "      <td>90202</td>\n",
       "      <td>92268</td>\n",
       "      <td>58439</td>\n",
       "      <td>16.668101</td>\n",
       "      <td>26.080464</td>\n",
       "      <td>17.247267</td>\n",
       "      <td>17.642301</td>\n",
       "      <td>11.173955</td>\n",
       "    </tr>\n",
       "    <tr>\n",
       "      <th>1</th>\n",
       "      <td>andalucia</td>\n",
       "      <td>4630265</td>\n",
       "      <td>785511</td>\n",
       "      <td>1564206</td>\n",
       "      <td>808971</td>\n",
       "      <td>651480</td>\n",
       "      <td>611249</td>\n",
       "      <td>16.964709</td>\n",
       "      <td>33.782213</td>\n",
       "      <td>17.471376</td>\n",
       "      <td>14.070037</td>\n",
       "      <td>13.201167</td>\n",
       "    </tr>\n",
       "    <tr>\n",
       "      <th>2</th>\n",
       "      <td>aragon</td>\n",
       "      <td>762588</td>\n",
       "      <td>142806</td>\n",
       "      <td>239379</td>\n",
       "      <td>154894</td>\n",
       "      <td>102290</td>\n",
       "      <td>92074</td>\n",
       "      <td>18.726495</td>\n",
       "      <td>31.390344</td>\n",
       "      <td>20.311623</td>\n",
       "      <td>13.413534</td>\n",
       "      <td>12.073885</td>\n",
       "    </tr>\n",
       "    <tr>\n",
       "      <th>3</th>\n",
       "      <td>asturias</td>\n",
       "      <td>628445</td>\n",
       "      <td>111341</td>\n",
       "      <td>205917</td>\n",
       "      <td>103864</td>\n",
       "      <td>106630</td>\n",
       "      <td>71454</td>\n",
       "      <td>17.716904</td>\n",
       "      <td>32.766113</td>\n",
       "      <td>16.527142</td>\n",
       "      <td>16.967276</td>\n",
       "      <td>11.369969</td>\n",
       "    </tr>\n",
       "    <tr>\n",
       "      <th>4</th>\n",
       "      <td>comunidadvalenciana</td>\n",
       "      <td>666243</td>\n",
       "      <td>140249</td>\n",
       "      <td>249555</td>\n",
       "      <td>117720</td>\n",
       "      <td>62222</td>\n",
       "      <td>70611</td>\n",
       "      <td>21.050728</td>\n",
       "      <td>37.457054</td>\n",
       "      <td>17.669229</td>\n",
       "      <td>9.339235</td>\n",
       "      <td>10.598385</td>\n",
       "    </tr>\n",
       "  </tbody>\n",
       "</table>\n",
       "</div>"
      ],
      "text/plain": [
       "                  CCAA  Votos_Total      PP     PSOE      Cs      UP     VOX  \\\n",
       "0             baleares       522993   87173   136399   90202   92268   58439   \n",
       "1            andalucia      4630265  785511  1564206  808971  651480  611249   \n",
       "2               aragon       762588  142806   239379  154894  102290   92074   \n",
       "3             asturias       628445  111341   205917  103864  106630   71454   \n",
       "4  comunidadvalenciana       666243  140249   249555  117720   62222   70611   \n",
       "\n",
       "         %PP      %PSOE        %Cs        %UP       %VOX  \n",
       "0  16.668101  26.080464  17.247267  17.642301  11.173955  \n",
       "1  16.964709  33.782213  17.471376  14.070037  13.201167  \n",
       "2  18.726495  31.390344  20.311623  13.413534  12.073885  \n",
       "3  17.716904  32.766113  16.527142  16.967276  11.369969  \n",
       "4  21.050728  37.457054  17.669229   9.339235  10.598385  "
      ]
     },
     "execution_count": 18,
     "metadata": {},
     "output_type": "execute_result"
    }
   ],
   "source": [
    "df.head()"
   ]
  },
  {
   "cell_type": "code",
   "execution_count": null,
   "metadata": {
    "id": "ci_P9lMJ_gVC"
   },
   "outputs": [],
   "source": []
  },
  {
   "cell_type": "markdown",
   "metadata": {
    "id": "8L58ClCn_goF"
   },
   "source": [
    "Ya con los porcentajes de votos calculados, los datos absolutos no nos sirven de mucho, así que los eliminamos."
   ]
  },
  {
   "cell_type": "code",
   "execution_count": 19,
   "metadata": {
    "executionInfo": {
     "elapsed": 313,
     "status": "ok",
     "timestamp": 1631276321648,
     "user": {
      "displayName": "Guillermo Barrio",
      "photoUrl": "https://lh3.googleusercontent.com/a/default-user=s64",
      "userId": "06925154007558381895"
     },
     "user_tz": -120
    },
    "id": "E5qhn7SZjAJe"
   },
   "outputs": [],
   "source": [
    "df_porcentaje_voto=df.drop(['Votos_Total','PP', 'PSOE', 'Cs', 'UP', 'VOX'],axis=1)"
   ]
  },
  {
   "cell_type": "code",
   "execution_count": 20,
   "metadata": {
    "colab": {
     "base_uri": "https://localhost:8080/",
     "height": 638
    },
    "executionInfo": {
     "elapsed": 397,
     "status": "ok",
     "timestamp": 1631276323843,
     "user": {
      "displayName": "Guillermo Barrio",
      "photoUrl": "https://lh3.googleusercontent.com/a/default-user=s64",
      "userId": "06925154007558381895"
     },
     "user_tz": -120
    },
    "id": "WwsYCXJAjAJf",
    "outputId": "8c29fa2e-68a6-4276-8d69-9246d0e56549"
   },
   "outputs": [
    {
     "data": {
      "text/html": [
       "<div>\n",
       "<style scoped>\n",
       "    .dataframe tbody tr th:only-of-type {\n",
       "        vertical-align: middle;\n",
       "    }\n",
       "\n",
       "    .dataframe tbody tr th {\n",
       "        vertical-align: top;\n",
       "    }\n",
       "\n",
       "    .dataframe thead th {\n",
       "        text-align: right;\n",
       "    }\n",
       "</style>\n",
       "<table border=\"1\" class=\"dataframe\">\n",
       "  <thead>\n",
       "    <tr style=\"text-align: right;\">\n",
       "      <th></th>\n",
       "      <th>CCAA</th>\n",
       "      <th>%PP</th>\n",
       "      <th>%PSOE</th>\n",
       "      <th>%Cs</th>\n",
       "      <th>%UP</th>\n",
       "      <th>%VOX</th>\n",
       "    </tr>\n",
       "  </thead>\n",
       "  <tbody>\n",
       "    <tr>\n",
       "      <th>0</th>\n",
       "      <td>baleares</td>\n",
       "      <td>16.668101</td>\n",
       "      <td>26.080464</td>\n",
       "      <td>17.247267</td>\n",
       "      <td>17.642301</td>\n",
       "      <td>11.173955</td>\n",
       "    </tr>\n",
       "    <tr>\n",
       "      <th>1</th>\n",
       "      <td>andalucia</td>\n",
       "      <td>16.964709</td>\n",
       "      <td>33.782213</td>\n",
       "      <td>17.471376</td>\n",
       "      <td>14.070037</td>\n",
       "      <td>13.201167</td>\n",
       "    </tr>\n",
       "    <tr>\n",
       "      <th>2</th>\n",
       "      <td>aragon</td>\n",
       "      <td>18.726495</td>\n",
       "      <td>31.390344</td>\n",
       "      <td>20.311623</td>\n",
       "      <td>13.413534</td>\n",
       "      <td>12.073885</td>\n",
       "    </tr>\n",
       "    <tr>\n",
       "      <th>3</th>\n",
       "      <td>asturias</td>\n",
       "      <td>17.716904</td>\n",
       "      <td>32.766113</td>\n",
       "      <td>16.527142</td>\n",
       "      <td>16.967276</td>\n",
       "      <td>11.369969</td>\n",
       "    </tr>\n",
       "    <tr>\n",
       "      <th>4</th>\n",
       "      <td>comunidadvalenciana</td>\n",
       "      <td>21.050728</td>\n",
       "      <td>37.457054</td>\n",
       "      <td>17.669229</td>\n",
       "      <td>9.339235</td>\n",
       "      <td>10.598385</td>\n",
       "    </tr>\n",
       "    <tr>\n",
       "      <th>5</th>\n",
       "      <td>canarias</td>\n",
       "      <td>15.346882</td>\n",
       "      <td>27.515326</td>\n",
       "      <td>14.488856</td>\n",
       "      <td>15.530671</td>\n",
       "      <td>6.473119</td>\n",
       "    </tr>\n",
       "    <tr>\n",
       "      <th>6</th>\n",
       "      <td>cantabria</td>\n",
       "      <td>21.474449</td>\n",
       "      <td>24.929582</td>\n",
       "      <td>14.977414</td>\n",
       "      <td>10.114192</td>\n",
       "      <td>11.060027</td>\n",
       "    </tr>\n",
       "    <tr>\n",
       "      <th>7</th>\n",
       "      <td>castillalamancha</td>\n",
       "      <td>25.708589</td>\n",
       "      <td>29.382885</td>\n",
       "      <td>18.652369</td>\n",
       "      <td>10.252079</td>\n",
       "      <td>12.132890</td>\n",
       "    </tr>\n",
       "    <tr>\n",
       "      <th>8</th>\n",
       "      <td>castillaleon</td>\n",
       "      <td>22.373185</td>\n",
       "      <td>31.924142</td>\n",
       "      <td>17.231675</td>\n",
       "      <td>10.007092</td>\n",
       "      <td>15.077684</td>\n",
       "    </tr>\n",
       "    <tr>\n",
       "      <th>9</th>\n",
       "      <td>catalunya</td>\n",
       "      <td>4.822832</td>\n",
       "      <td>23.109454</td>\n",
       "      <td>11.500276</td>\n",
       "      <td>14.781510</td>\n",
       "      <td>3.571182</td>\n",
       "    </tr>\n",
       "    <tr>\n",
       "      <th>10</th>\n",
       "      <td>ceuta</td>\n",
       "      <td>21.185645</td>\n",
       "      <td>35.903187</td>\n",
       "      <td>11.814720</td>\n",
       "      <td>4.751969</td>\n",
       "      <td>23.678994</td>\n",
       "    </tr>\n",
       "    <tr>\n",
       "      <th>11</th>\n",
       "      <td>extremadura</td>\n",
       "      <td>27.002198</td>\n",
       "      <td>31.669312</td>\n",
       "      <td>11.024555</td>\n",
       "      <td>15.343854</td>\n",
       "      <td>5.198580</td>\n",
       "    </tr>\n",
       "    <tr>\n",
       "      <th>12</th>\n",
       "      <td>galicia</td>\n",
       "      <td>18.502997</td>\n",
       "      <td>27.054690</td>\n",
       "      <td>20.759176</td>\n",
       "      <td>16.093949</td>\n",
       "      <td>13.741137</td>\n",
       "    </tr>\n",
       "    <tr>\n",
       "      <th>13</th>\n",
       "      <td>larioja</td>\n",
       "      <td>18.380046</td>\n",
       "      <td>27.474789</td>\n",
       "      <td>17.787426</td>\n",
       "      <td>14.074966</td>\n",
       "      <td>11.891171</td>\n",
       "    </tr>\n",
       "    <tr>\n",
       "      <th>14</th>\n",
       "      <td>madrid</td>\n",
       "      <td>29.014825</td>\n",
       "      <td>25.510141</td>\n",
       "      <td>0.000000</td>\n",
       "      <td>18.463118</td>\n",
       "      <td>4.777835</td>\n",
       "    </tr>\n",
       "    <tr>\n",
       "      <th>15</th>\n",
       "      <td>melilla</td>\n",
       "      <td>23.731948</td>\n",
       "      <td>20.506047</td>\n",
       "      <td>12.771516</td>\n",
       "      <td>3.789480</td>\n",
       "      <td>17.036515</td>\n",
       "    </tr>\n",
       "    <tr>\n",
       "      <th>16</th>\n",
       "      <td>murcia</td>\n",
       "      <td>7.384745</td>\n",
       "      <td>19.747420</td>\n",
       "      <td>3.122134</td>\n",
       "      <td>17.464199</td>\n",
       "      <td>2.187908</td>\n",
       "    </tr>\n",
       "    <tr>\n",
       "      <th>17</th>\n",
       "      <td>navarra</td>\n",
       "      <td>23.197117</td>\n",
       "      <td>24.498246</td>\n",
       "      <td>19.340151</td>\n",
       "      <td>10.275571</td>\n",
       "      <td>18.438773</td>\n",
       "    </tr>\n",
       "    <tr>\n",
       "      <th>18</th>\n",
       "      <td>euskadi</td>\n",
       "      <td>26.162166</td>\n",
       "      <td>31.265068</td>\n",
       "      <td>17.568382</td>\n",
       "      <td>11.623855</td>\n",
       "      <td>8.852957</td>\n",
       "    </tr>\n",
       "  </tbody>\n",
       "</table>\n",
       "</div>"
      ],
      "text/plain": [
       "                   CCAA        %PP      %PSOE        %Cs        %UP       %VOX\n",
       "0              baleares  16.668101  26.080464  17.247267  17.642301  11.173955\n",
       "1             andalucia  16.964709  33.782213  17.471376  14.070037  13.201167\n",
       "2                aragon  18.726495  31.390344  20.311623  13.413534  12.073885\n",
       "3              asturias  17.716904  32.766113  16.527142  16.967276  11.369969\n",
       "4   comunidadvalenciana  21.050728  37.457054  17.669229   9.339235  10.598385\n",
       "5              canarias  15.346882  27.515326  14.488856  15.530671   6.473119\n",
       "6             cantabria  21.474449  24.929582  14.977414  10.114192  11.060027\n",
       "7      castillalamancha  25.708589  29.382885  18.652369  10.252079  12.132890\n",
       "8          castillaleon  22.373185  31.924142  17.231675  10.007092  15.077684\n",
       "9             catalunya   4.822832  23.109454  11.500276  14.781510   3.571182\n",
       "10                ceuta  21.185645  35.903187  11.814720   4.751969  23.678994\n",
       "11          extremadura  27.002198  31.669312  11.024555  15.343854   5.198580\n",
       "12              galicia  18.502997  27.054690  20.759176  16.093949  13.741137\n",
       "13              larioja  18.380046  27.474789  17.787426  14.074966  11.891171\n",
       "14               madrid  29.014825  25.510141   0.000000  18.463118   4.777835\n",
       "15              melilla  23.731948  20.506047  12.771516   3.789480  17.036515\n",
       "16               murcia   7.384745  19.747420   3.122134  17.464199   2.187908\n",
       "17              navarra  23.197117  24.498246  19.340151  10.275571  18.438773\n",
       "18              euskadi  26.162166  31.265068  17.568382  11.623855   8.852957"
      ]
     },
     "execution_count": 20,
     "metadata": {},
     "output_type": "execute_result"
    }
   ],
   "source": [
    "df_porcentaje_voto\n"
   ]
  },
  {
   "cell_type": "code",
   "execution_count": null,
   "metadata": {
    "id": "IluC0Dy5_qAg"
   },
   "outputs": [],
   "source": []
  },
  {
   "cell_type": "markdown",
   "metadata": {
    "id": "UFjIFk9O_qcY"
   },
   "source": [
    "Ahora bien, ha existido una confusión entre los códigos de las CCAA del Ministerio del Interior y los del INE, por lo que tenemos que corrgir la columna de las CCAA en el dataset electoral. Lo arreglamos utilizando un diccionario para hacer el mapeo."
   ]
  },
  {
   "cell_type": "code",
   "execution_count": 21,
   "metadata": {
    "executionInfo": {
     "elapsed": 245,
     "status": "ok",
     "timestamp": 1631276326959,
     "user": {
      "displayName": "Guillermo Barrio",
      "photoUrl": "https://lh3.googleusercontent.com/a/default-user=s64",
      "userId": "06925154007558381895"
     },
     "user_tz": -120
    },
    "id": "hPjI9xb1pyQm"
   },
   "outputs": [],
   "source": [
    "mapeo_ccaa = {\n",
    "    'andalucia' : 'andalucia',\n",
    "    'ceuta' : 'ceuta',\n",
    "    'melilla' : 'melilla',\n",
    "    'galicia' : 'madrid',\n",
    "    'asturias' : 'asturias',\n",
    "    'aragon': 'aragon',\n",
    "    'canarias' : 'canarias',\n",
    "    'cantabria' : 'cantabria',\n",
    "    'madrid' : 'navarra',\n",
    "    'navarra' : 'murcia',\n",
    "    'murcia' : 'euskadi',\n",
    "    'euskadi' : 'larioja',\n",
    "    'larioja' : 'comunidadvalenciana',\n",
    "    'comunidadvalenciana' : 'extremadura',\n",
    "    'extremadura' : 'galicia',\n",
    "    'castillaleon' : 'castillalamancha',\n",
    "    'castillalamancha' : 'castillaleon',\n",
    "    'baleares' : 'baleares',\n",
    "    'catalunya' : 'catalunya'\n",
    "}"
   ]
  },
  {
   "cell_type": "markdown",
   "metadata": {
    "id": "KVh3xI7wAC8-"
   },
   "source": [
    "Y hacemos el mapeo."
   ]
  },
  {
   "cell_type": "code",
   "execution_count": 22,
   "metadata": {
    "executionInfo": {
     "elapsed": 245,
     "status": "ok",
     "timestamp": 1631276329419,
     "user": {
      "displayName": "Guillermo Barrio",
      "photoUrl": "https://lh3.googleusercontent.com/a/default-user=s64",
      "userId": "06925154007558381895"
     },
     "user_tz": -120
    },
    "id": "P4vRgrDepyNH"
   },
   "outputs": [],
   "source": [
    "df_porcentaje_voto['CCAA'] = df_porcentaje_voto['CCAA'].map(mapeo_ccaa)"
   ]
  },
  {
   "cell_type": "code",
   "execution_count": null,
   "metadata": {
    "id": "95VUl82hpyKw"
   },
   "outputs": [],
   "source": []
  },
  {
   "cell_type": "code",
   "execution_count": 23,
   "metadata": {
    "colab": {
     "base_uri": "https://localhost:8080/",
     "height": 638
    },
    "executionInfo": {
     "elapsed": 5,
     "status": "ok",
     "timestamp": 1631276331721,
     "user": {
      "displayName": "Guillermo Barrio",
      "photoUrl": "https://lh3.googleusercontent.com/a/default-user=s64",
      "userId": "06925154007558381895"
     },
     "user_tz": -120
    },
    "id": "0_nNdrp7pyGn",
    "outputId": "43e86b91-af44-40d6-9681-1c2ed173fbdd"
   },
   "outputs": [
    {
     "data": {
      "text/html": [
       "<div>\n",
       "<style scoped>\n",
       "    .dataframe tbody tr th:only-of-type {\n",
       "        vertical-align: middle;\n",
       "    }\n",
       "\n",
       "    .dataframe tbody tr th {\n",
       "        vertical-align: top;\n",
       "    }\n",
       "\n",
       "    .dataframe thead th {\n",
       "        text-align: right;\n",
       "    }\n",
       "</style>\n",
       "<table border=\"1\" class=\"dataframe\">\n",
       "  <thead>\n",
       "    <tr style=\"text-align: right;\">\n",
       "      <th></th>\n",
       "      <th>CCAA</th>\n",
       "      <th>%PP</th>\n",
       "      <th>%PSOE</th>\n",
       "      <th>%Cs</th>\n",
       "      <th>%UP</th>\n",
       "      <th>%VOX</th>\n",
       "    </tr>\n",
       "  </thead>\n",
       "  <tbody>\n",
       "    <tr>\n",
       "      <th>0</th>\n",
       "      <td>baleares</td>\n",
       "      <td>16.668101</td>\n",
       "      <td>26.080464</td>\n",
       "      <td>17.247267</td>\n",
       "      <td>17.642301</td>\n",
       "      <td>11.173955</td>\n",
       "    </tr>\n",
       "    <tr>\n",
       "      <th>1</th>\n",
       "      <td>andalucia</td>\n",
       "      <td>16.964709</td>\n",
       "      <td>33.782213</td>\n",
       "      <td>17.471376</td>\n",
       "      <td>14.070037</td>\n",
       "      <td>13.201167</td>\n",
       "    </tr>\n",
       "    <tr>\n",
       "      <th>2</th>\n",
       "      <td>aragon</td>\n",
       "      <td>18.726495</td>\n",
       "      <td>31.390344</td>\n",
       "      <td>20.311623</td>\n",
       "      <td>13.413534</td>\n",
       "      <td>12.073885</td>\n",
       "    </tr>\n",
       "    <tr>\n",
       "      <th>3</th>\n",
       "      <td>asturias</td>\n",
       "      <td>17.716904</td>\n",
       "      <td>32.766113</td>\n",
       "      <td>16.527142</td>\n",
       "      <td>16.967276</td>\n",
       "      <td>11.369969</td>\n",
       "    </tr>\n",
       "    <tr>\n",
       "      <th>4</th>\n",
       "      <td>extremadura</td>\n",
       "      <td>21.050728</td>\n",
       "      <td>37.457054</td>\n",
       "      <td>17.669229</td>\n",
       "      <td>9.339235</td>\n",
       "      <td>10.598385</td>\n",
       "    </tr>\n",
       "    <tr>\n",
       "      <th>5</th>\n",
       "      <td>canarias</td>\n",
       "      <td>15.346882</td>\n",
       "      <td>27.515326</td>\n",
       "      <td>14.488856</td>\n",
       "      <td>15.530671</td>\n",
       "      <td>6.473119</td>\n",
       "    </tr>\n",
       "    <tr>\n",
       "      <th>6</th>\n",
       "      <td>cantabria</td>\n",
       "      <td>21.474449</td>\n",
       "      <td>24.929582</td>\n",
       "      <td>14.977414</td>\n",
       "      <td>10.114192</td>\n",
       "      <td>11.060027</td>\n",
       "    </tr>\n",
       "    <tr>\n",
       "      <th>7</th>\n",
       "      <td>castillaleon</td>\n",
       "      <td>25.708589</td>\n",
       "      <td>29.382885</td>\n",
       "      <td>18.652369</td>\n",
       "      <td>10.252079</td>\n",
       "      <td>12.132890</td>\n",
       "    </tr>\n",
       "    <tr>\n",
       "      <th>8</th>\n",
       "      <td>castillalamancha</td>\n",
       "      <td>22.373185</td>\n",
       "      <td>31.924142</td>\n",
       "      <td>17.231675</td>\n",
       "      <td>10.007092</td>\n",
       "      <td>15.077684</td>\n",
       "    </tr>\n",
       "    <tr>\n",
       "      <th>9</th>\n",
       "      <td>catalunya</td>\n",
       "      <td>4.822832</td>\n",
       "      <td>23.109454</td>\n",
       "      <td>11.500276</td>\n",
       "      <td>14.781510</td>\n",
       "      <td>3.571182</td>\n",
       "    </tr>\n",
       "    <tr>\n",
       "      <th>10</th>\n",
       "      <td>ceuta</td>\n",
       "      <td>21.185645</td>\n",
       "      <td>35.903187</td>\n",
       "      <td>11.814720</td>\n",
       "      <td>4.751969</td>\n",
       "      <td>23.678994</td>\n",
       "    </tr>\n",
       "    <tr>\n",
       "      <th>11</th>\n",
       "      <td>galicia</td>\n",
       "      <td>27.002198</td>\n",
       "      <td>31.669312</td>\n",
       "      <td>11.024555</td>\n",
       "      <td>15.343854</td>\n",
       "      <td>5.198580</td>\n",
       "    </tr>\n",
       "    <tr>\n",
       "      <th>12</th>\n",
       "      <td>madrid</td>\n",
       "      <td>18.502997</td>\n",
       "      <td>27.054690</td>\n",
       "      <td>20.759176</td>\n",
       "      <td>16.093949</td>\n",
       "      <td>13.741137</td>\n",
       "    </tr>\n",
       "    <tr>\n",
       "      <th>13</th>\n",
       "      <td>comunidadvalenciana</td>\n",
       "      <td>18.380046</td>\n",
       "      <td>27.474789</td>\n",
       "      <td>17.787426</td>\n",
       "      <td>14.074966</td>\n",
       "      <td>11.891171</td>\n",
       "    </tr>\n",
       "    <tr>\n",
       "      <th>14</th>\n",
       "      <td>navarra</td>\n",
       "      <td>29.014825</td>\n",
       "      <td>25.510141</td>\n",
       "      <td>0.000000</td>\n",
       "      <td>18.463118</td>\n",
       "      <td>4.777835</td>\n",
       "    </tr>\n",
       "    <tr>\n",
       "      <th>15</th>\n",
       "      <td>melilla</td>\n",
       "      <td>23.731948</td>\n",
       "      <td>20.506047</td>\n",
       "      <td>12.771516</td>\n",
       "      <td>3.789480</td>\n",
       "      <td>17.036515</td>\n",
       "    </tr>\n",
       "    <tr>\n",
       "      <th>16</th>\n",
       "      <td>euskadi</td>\n",
       "      <td>7.384745</td>\n",
       "      <td>19.747420</td>\n",
       "      <td>3.122134</td>\n",
       "      <td>17.464199</td>\n",
       "      <td>2.187908</td>\n",
       "    </tr>\n",
       "    <tr>\n",
       "      <th>17</th>\n",
       "      <td>murcia</td>\n",
       "      <td>23.197117</td>\n",
       "      <td>24.498246</td>\n",
       "      <td>19.340151</td>\n",
       "      <td>10.275571</td>\n",
       "      <td>18.438773</td>\n",
       "    </tr>\n",
       "    <tr>\n",
       "      <th>18</th>\n",
       "      <td>larioja</td>\n",
       "      <td>26.162166</td>\n",
       "      <td>31.265068</td>\n",
       "      <td>17.568382</td>\n",
       "      <td>11.623855</td>\n",
       "      <td>8.852957</td>\n",
       "    </tr>\n",
       "  </tbody>\n",
       "</table>\n",
       "</div>"
      ],
      "text/plain": [
       "                   CCAA        %PP      %PSOE        %Cs        %UP       %VOX\n",
       "0              baleares  16.668101  26.080464  17.247267  17.642301  11.173955\n",
       "1             andalucia  16.964709  33.782213  17.471376  14.070037  13.201167\n",
       "2                aragon  18.726495  31.390344  20.311623  13.413534  12.073885\n",
       "3              asturias  17.716904  32.766113  16.527142  16.967276  11.369969\n",
       "4           extremadura  21.050728  37.457054  17.669229   9.339235  10.598385\n",
       "5              canarias  15.346882  27.515326  14.488856  15.530671   6.473119\n",
       "6             cantabria  21.474449  24.929582  14.977414  10.114192  11.060027\n",
       "7          castillaleon  25.708589  29.382885  18.652369  10.252079  12.132890\n",
       "8      castillalamancha  22.373185  31.924142  17.231675  10.007092  15.077684\n",
       "9             catalunya   4.822832  23.109454  11.500276  14.781510   3.571182\n",
       "10                ceuta  21.185645  35.903187  11.814720   4.751969  23.678994\n",
       "11              galicia  27.002198  31.669312  11.024555  15.343854   5.198580\n",
       "12               madrid  18.502997  27.054690  20.759176  16.093949  13.741137\n",
       "13  comunidadvalenciana  18.380046  27.474789  17.787426  14.074966  11.891171\n",
       "14              navarra  29.014825  25.510141   0.000000  18.463118   4.777835\n",
       "15              melilla  23.731948  20.506047  12.771516   3.789480  17.036515\n",
       "16              euskadi   7.384745  19.747420   3.122134  17.464199   2.187908\n",
       "17               murcia  23.197117  24.498246  19.340151  10.275571  18.438773\n",
       "18              larioja  26.162166  31.265068  17.568382  11.623855   8.852957"
      ]
     },
     "execution_count": 23,
     "metadata": {},
     "output_type": "execute_result"
    }
   ],
   "source": [
    "df_porcentaje_voto"
   ]
  },
  {
   "cell_type": "code",
   "execution_count": null,
   "metadata": {
    "id": "vCCwibROpyDH"
   },
   "outputs": [],
   "source": []
  },
  {
   "cell_type": "markdown",
   "metadata": {
    "id": "_xVqO2dCAHsE"
   },
   "source": [
    "Guardamos el dataset de voto por CCAA correcto, y continuamos con nuestro análisis."
   ]
  },
  {
   "cell_type": "code",
   "execution_count": 24,
   "metadata": {
    "executionInfo": {
     "elapsed": 250,
     "status": "ok",
     "timestamp": 1631276338062,
     "user": {
      "displayName": "Guillermo Barrio",
      "photoUrl": "https://lh3.googleusercontent.com/a/default-user=s64",
      "userId": "06925154007558381895"
     },
     "user_tz": -120
    },
    "id": "W1AKsilAjAJf"
   },
   "outputs": [],
   "source": [
    "# Export dataframe into a CSV\n",
    "df_porcentaje_voto.to_csv('porcentaje_voto_ccaa.csv', sep=',', index=False)"
   ]
  },
  {
   "cell_type": "code",
   "execution_count": null,
   "metadata": {},
   "outputs": [],
   "source": []
  },
  {
   "cell_type": "code",
   "execution_count": 25,
   "metadata": {},
   "outputs": [],
   "source": [
    "#para guardar el archivo en s3:\n",
    "\n",
    "from botocore.exceptions import ClientError\n",
    "\n",
    "s3_client = boto3.client(\n",
    "    's3',\n",
    "    aws_access_key_id='XXXXXXXX',\n",
    "    aws_secret_access_key='XXXXXXXXXX',    \n",
    ")\n",
    "\n",
    "def upload_file(file_name, bucket, object_name=None):\n",
    "    \"\"\"Subir un archivo a un bucket\n",
    "    :param file_name: archivo que hay que subir\n",
    "    :param bucket: Bucket al que hay que subirlo\n",
    "    :param object_name: S3 object name. Incluye la carpeta en la que hay que guardarlo. si no hay no se pone nada\n",
    "    :return: True si sube el archivo, else False\n",
    "    \"\"\"\n",
    "\n",
    "    # If S3 object_name was not specified, use file_name\n",
    "    if object_name is None:\n",
    "        object_name = file_name\n",
    "\n",
    "    # Upload the file\n",
    "    #s3_client = boto3.client('s3')\n",
    "    try:\n",
    "        response = s3_client.upload_file(file_name, bucket, object_name)\n",
    "    except ClientError as e:\n",
    "        logging.error(e)\n",
    "        return False\n",
    "    return True"
   ]
  },
  {
   "cell_type": "code",
   "execution_count": 26,
   "metadata": {},
   "outputs": [
    {
     "data": {
      "text/plain": [
       "True"
      ]
     },
     "execution_count": 26,
     "metadata": {},
     "output_type": "execute_result"
    }
   ],
   "source": [
    "upload_file('porcentaje_voto_ccaa.csv',\n",
    "            'electomedia',\n",
    "            object_name = \"datos-elecciones-generales-unificados/\" + 'porcentaje_voto_ccaa.csv'\n",
    "           )"
   ]
  },
  {
   "cell_type": "code",
   "execution_count": 27,
   "metadata": {
    "colab": {
     "base_uri": "https://localhost:8080/",
     "height": 638
    },
    "executionInfo": {
     "elapsed": 28,
     "status": "ok",
     "timestamp": 1631276339522,
     "user": {
      "displayName": "Guillermo Barrio",
      "photoUrl": "https://lh3.googleusercontent.com/a/default-user=s64",
      "userId": "06925154007558381895"
     },
     "user_tz": -120
    },
    "id": "rsEDl-vimZf2",
    "outputId": "32fd50a1-d64c-43ba-8254-d0f494748976"
   },
   "outputs": [
    {
     "data": {
      "text/html": [
       "<div>\n",
       "<style scoped>\n",
       "    .dataframe tbody tr th:only-of-type {\n",
       "        vertical-align: middle;\n",
       "    }\n",
       "\n",
       "    .dataframe tbody tr th {\n",
       "        vertical-align: top;\n",
       "    }\n",
       "\n",
       "    .dataframe thead th {\n",
       "        text-align: right;\n",
       "    }\n",
       "</style>\n",
       "<table border=\"1\" class=\"dataframe\">\n",
       "  <thead>\n",
       "    <tr style=\"text-align: right;\">\n",
       "      <th></th>\n",
       "      <th>CCAA</th>\n",
       "      <th>%PP</th>\n",
       "      <th>%PSOE</th>\n",
       "      <th>%Cs</th>\n",
       "      <th>%UP</th>\n",
       "      <th>%VOX</th>\n",
       "    </tr>\n",
       "  </thead>\n",
       "  <tbody>\n",
       "    <tr>\n",
       "      <th>0</th>\n",
       "      <td>baleares</td>\n",
       "      <td>16.668101</td>\n",
       "      <td>26.080464</td>\n",
       "      <td>17.247267</td>\n",
       "      <td>17.642301</td>\n",
       "      <td>11.173955</td>\n",
       "    </tr>\n",
       "    <tr>\n",
       "      <th>1</th>\n",
       "      <td>andalucia</td>\n",
       "      <td>16.964709</td>\n",
       "      <td>33.782213</td>\n",
       "      <td>17.471376</td>\n",
       "      <td>14.070037</td>\n",
       "      <td>13.201167</td>\n",
       "    </tr>\n",
       "    <tr>\n",
       "      <th>2</th>\n",
       "      <td>aragon</td>\n",
       "      <td>18.726495</td>\n",
       "      <td>31.390344</td>\n",
       "      <td>20.311623</td>\n",
       "      <td>13.413534</td>\n",
       "      <td>12.073885</td>\n",
       "    </tr>\n",
       "    <tr>\n",
       "      <th>3</th>\n",
       "      <td>asturias</td>\n",
       "      <td>17.716904</td>\n",
       "      <td>32.766113</td>\n",
       "      <td>16.527142</td>\n",
       "      <td>16.967276</td>\n",
       "      <td>11.369969</td>\n",
       "    </tr>\n",
       "    <tr>\n",
       "      <th>4</th>\n",
       "      <td>extremadura</td>\n",
       "      <td>21.050728</td>\n",
       "      <td>37.457054</td>\n",
       "      <td>17.669229</td>\n",
       "      <td>9.339235</td>\n",
       "      <td>10.598385</td>\n",
       "    </tr>\n",
       "    <tr>\n",
       "      <th>5</th>\n",
       "      <td>canarias</td>\n",
       "      <td>15.346882</td>\n",
       "      <td>27.515326</td>\n",
       "      <td>14.488856</td>\n",
       "      <td>15.530671</td>\n",
       "      <td>6.473119</td>\n",
       "    </tr>\n",
       "    <tr>\n",
       "      <th>6</th>\n",
       "      <td>cantabria</td>\n",
       "      <td>21.474449</td>\n",
       "      <td>24.929582</td>\n",
       "      <td>14.977414</td>\n",
       "      <td>10.114192</td>\n",
       "      <td>11.060027</td>\n",
       "    </tr>\n",
       "    <tr>\n",
       "      <th>7</th>\n",
       "      <td>castillaleon</td>\n",
       "      <td>25.708589</td>\n",
       "      <td>29.382885</td>\n",
       "      <td>18.652369</td>\n",
       "      <td>10.252079</td>\n",
       "      <td>12.132890</td>\n",
       "    </tr>\n",
       "    <tr>\n",
       "      <th>8</th>\n",
       "      <td>castillalamancha</td>\n",
       "      <td>22.373185</td>\n",
       "      <td>31.924142</td>\n",
       "      <td>17.231675</td>\n",
       "      <td>10.007092</td>\n",
       "      <td>15.077684</td>\n",
       "    </tr>\n",
       "    <tr>\n",
       "      <th>9</th>\n",
       "      <td>catalunya</td>\n",
       "      <td>4.822832</td>\n",
       "      <td>23.109454</td>\n",
       "      <td>11.500276</td>\n",
       "      <td>14.781510</td>\n",
       "      <td>3.571182</td>\n",
       "    </tr>\n",
       "    <tr>\n",
       "      <th>10</th>\n",
       "      <td>ceuta</td>\n",
       "      <td>21.185645</td>\n",
       "      <td>35.903187</td>\n",
       "      <td>11.814720</td>\n",
       "      <td>4.751969</td>\n",
       "      <td>23.678994</td>\n",
       "    </tr>\n",
       "    <tr>\n",
       "      <th>11</th>\n",
       "      <td>galicia</td>\n",
       "      <td>27.002198</td>\n",
       "      <td>31.669312</td>\n",
       "      <td>11.024555</td>\n",
       "      <td>15.343854</td>\n",
       "      <td>5.198580</td>\n",
       "    </tr>\n",
       "    <tr>\n",
       "      <th>12</th>\n",
       "      <td>madrid</td>\n",
       "      <td>18.502997</td>\n",
       "      <td>27.054690</td>\n",
       "      <td>20.759176</td>\n",
       "      <td>16.093949</td>\n",
       "      <td>13.741137</td>\n",
       "    </tr>\n",
       "    <tr>\n",
       "      <th>13</th>\n",
       "      <td>comunidadvalenciana</td>\n",
       "      <td>18.380046</td>\n",
       "      <td>27.474789</td>\n",
       "      <td>17.787426</td>\n",
       "      <td>14.074966</td>\n",
       "      <td>11.891171</td>\n",
       "    </tr>\n",
       "    <tr>\n",
       "      <th>14</th>\n",
       "      <td>navarra</td>\n",
       "      <td>29.014825</td>\n",
       "      <td>25.510141</td>\n",
       "      <td>0.000000</td>\n",
       "      <td>18.463118</td>\n",
       "      <td>4.777835</td>\n",
       "    </tr>\n",
       "    <tr>\n",
       "      <th>15</th>\n",
       "      <td>melilla</td>\n",
       "      <td>23.731948</td>\n",
       "      <td>20.506047</td>\n",
       "      <td>12.771516</td>\n",
       "      <td>3.789480</td>\n",
       "      <td>17.036515</td>\n",
       "    </tr>\n",
       "    <tr>\n",
       "      <th>16</th>\n",
       "      <td>euskadi</td>\n",
       "      <td>7.384745</td>\n",
       "      <td>19.747420</td>\n",
       "      <td>3.122134</td>\n",
       "      <td>17.464199</td>\n",
       "      <td>2.187908</td>\n",
       "    </tr>\n",
       "    <tr>\n",
       "      <th>17</th>\n",
       "      <td>murcia</td>\n",
       "      <td>23.197117</td>\n",
       "      <td>24.498246</td>\n",
       "      <td>19.340151</td>\n",
       "      <td>10.275571</td>\n",
       "      <td>18.438773</td>\n",
       "    </tr>\n",
       "    <tr>\n",
       "      <th>18</th>\n",
       "      <td>larioja</td>\n",
       "      <td>26.162166</td>\n",
       "      <td>31.265068</td>\n",
       "      <td>17.568382</td>\n",
       "      <td>11.623855</td>\n",
       "      <td>8.852957</td>\n",
       "    </tr>\n",
       "  </tbody>\n",
       "</table>\n",
       "</div>"
      ],
      "text/plain": [
       "                   CCAA        %PP      %PSOE        %Cs        %UP       %VOX\n",
       "0              baleares  16.668101  26.080464  17.247267  17.642301  11.173955\n",
       "1             andalucia  16.964709  33.782213  17.471376  14.070037  13.201167\n",
       "2                aragon  18.726495  31.390344  20.311623  13.413534  12.073885\n",
       "3              asturias  17.716904  32.766113  16.527142  16.967276  11.369969\n",
       "4           extremadura  21.050728  37.457054  17.669229   9.339235  10.598385\n",
       "5              canarias  15.346882  27.515326  14.488856  15.530671   6.473119\n",
       "6             cantabria  21.474449  24.929582  14.977414  10.114192  11.060027\n",
       "7          castillaleon  25.708589  29.382885  18.652369  10.252079  12.132890\n",
       "8      castillalamancha  22.373185  31.924142  17.231675  10.007092  15.077684\n",
       "9             catalunya   4.822832  23.109454  11.500276  14.781510   3.571182\n",
       "10                ceuta  21.185645  35.903187  11.814720   4.751969  23.678994\n",
       "11              galicia  27.002198  31.669312  11.024555  15.343854   5.198580\n",
       "12               madrid  18.502997  27.054690  20.759176  16.093949  13.741137\n",
       "13  comunidadvalenciana  18.380046  27.474789  17.787426  14.074966  11.891171\n",
       "14              navarra  29.014825  25.510141   0.000000  18.463118   4.777835\n",
       "15              melilla  23.731948  20.506047  12.771516   3.789480  17.036515\n",
       "16              euskadi   7.384745  19.747420   3.122134  17.464199   2.187908\n",
       "17               murcia  23.197117  24.498246  19.340151  10.275571  18.438773\n",
       "18              larioja  26.162166  31.265068  17.568382  11.623855   8.852957"
      ]
     },
     "execution_count": 27,
     "metadata": {},
     "output_type": "execute_result"
    }
   ],
   "source": [
    "df_porcentaje_voto"
   ]
  },
  {
   "cell_type": "code",
   "execution_count": null,
   "metadata": {
    "id": "W4nD8eKemZbm"
   },
   "outputs": [],
   "source": []
  },
  {
   "cell_type": "markdown",
   "metadata": {
    "id": "0va-J4A6ARk2"
   },
   "source": [
    "Cargamos el dataset del sentimiento (positividad) de los tweets a los partidos."
   ]
  },
  {
   "cell_type": "code",
   "execution_count": 28,
   "metadata": {},
   "outputs": [],
   "source": [
    "import botocore.exceptions\n",
    "\n",
    "KEY = 'EstimacionOtrasFuentes/df_tweets_def_unique.csv' \n",
    "\n",
    "try:\n",
    " \n",
    "  s3.Bucket(BUCKET_NAME).download_file(KEY, 'df_tweets_def_unique.csv')\n",
    "\n",
    "except botocore.exceptions.ClientError as e:\n",
    "    if e.response['Error']['Code'] == \"404\":\n",
    "        print(\"The object does not exist.\")\n",
    "    else:\n",
    "        raise\n",
    "    "
   ]
  },
  {
   "cell_type": "code",
   "execution_count": 29,
   "metadata": {
    "executionInfo": {
     "elapsed": 279,
     "status": "ok",
     "timestamp": 1631276342719,
     "user": {
      "displayName": "Guillermo Barrio",
      "photoUrl": "https://lh3.googleusercontent.com/a/default-user=s64",
      "userId": "06925154007558381895"
     },
     "user_tz": -120
    },
    "id": "BCxupHMvnDIb"
   },
   "outputs": [],
   "source": [
    "tweets = pd.read_csv('df_tweets_def_unique.csv')"
   ]
  },
  {
   "cell_type": "code",
   "execution_count": 30,
   "metadata": {
    "colab": {
     "base_uri": "https://localhost:8080/",
     "height": 675
    },
    "executionInfo": {
     "elapsed": 6,
     "status": "ok",
     "timestamp": 1631276344339,
     "user": {
      "displayName": "Guillermo Barrio",
      "photoUrl": "https://lh3.googleusercontent.com/a/default-user=s64",
      "userId": "06925154007558381895"
     },
     "user_tz": -120
    },
    "id": "WyxF44FwnDE7",
    "outputId": "b9f9db54-516e-4e3c-9661-0babb6b230bf"
   },
   "outputs": [
    {
     "data": {
      "text/html": [
       "<div>\n",
       "<style scoped>\n",
       "    .dataframe tbody tr th:only-of-type {\n",
       "        vertical-align: middle;\n",
       "    }\n",
       "\n",
       "    .dataframe tbody tr th {\n",
       "        vertical-align: top;\n",
       "    }\n",
       "\n",
       "    .dataframe thead th {\n",
       "        text-align: right;\n",
       "    }\n",
       "</style>\n",
       "<table border=\"1\" class=\"dataframe\">\n",
       "  <thead>\n",
       "    <tr style=\"text-align: right;\">\n",
       "      <th></th>\n",
       "      <th>Unnamed: 0</th>\n",
       "      <th>CCAA</th>\n",
       "      <th>puntuacion_tweets</th>\n",
       "      <th>tweets_pos_psoe</th>\n",
       "      <th>tweets_pos_UP</th>\n",
       "      <th>tweets_pos_vox</th>\n",
       "      <th>tweets_pos_Cs</th>\n",
       "      <th>tweets_pos_PP</th>\n",
       "      <th>total_tweets_positivos</th>\n",
       "      <th>sum_tweets_sent</th>\n",
       "      <th>%posPP</th>\n",
       "      <th>%posUP</th>\n",
       "      <th>%posPSOE</th>\n",
       "      <th>%posCs</th>\n",
       "      <th>%posVOX</th>\n",
       "    </tr>\n",
       "  </thead>\n",
       "  <tbody>\n",
       "    <tr>\n",
       "      <th>0</th>\n",
       "      <td>0</td>\n",
       "      <td>andalucia</td>\n",
       "      <td>4333.0</td>\n",
       "      <td>521.0</td>\n",
       "      <td>413.0</td>\n",
       "      <td>948.0</td>\n",
       "      <td>181.0</td>\n",
       "      <td>248.0</td>\n",
       "      <td>2311.0</td>\n",
       "      <td>12399</td>\n",
       "      <td>2.000161</td>\n",
       "      <td>3.330914</td>\n",
       "      <td>4.201952</td>\n",
       "      <td>1.459795</td>\n",
       "      <td>7.645778</td>\n",
       "    </tr>\n",
       "    <tr>\n",
       "      <th>1</th>\n",
       "      <td>1</td>\n",
       "      <td>aragon</td>\n",
       "      <td>608.0</td>\n",
       "      <td>59.0</td>\n",
       "      <td>71.0</td>\n",
       "      <td>139.0</td>\n",
       "      <td>31.0</td>\n",
       "      <td>20.0</td>\n",
       "      <td>320.0</td>\n",
       "      <td>1783</td>\n",
       "      <td>1.121705</td>\n",
       "      <td>3.982053</td>\n",
       "      <td>3.309030</td>\n",
       "      <td>1.738643</td>\n",
       "      <td>7.795850</td>\n",
       "    </tr>\n",
       "    <tr>\n",
       "      <th>2</th>\n",
       "      <td>2</td>\n",
       "      <td>asturias</td>\n",
       "      <td>652.0</td>\n",
       "      <td>79.0</td>\n",
       "      <td>74.0</td>\n",
       "      <td>130.0</td>\n",
       "      <td>19.0</td>\n",
       "      <td>41.0</td>\n",
       "      <td>343.0</td>\n",
       "      <td>1920</td>\n",
       "      <td>2.135417</td>\n",
       "      <td>3.854167</td>\n",
       "      <td>4.114583</td>\n",
       "      <td>0.989583</td>\n",
       "      <td>6.770833</td>\n",
       "    </tr>\n",
       "    <tr>\n",
       "      <th>3</th>\n",
       "      <td>3</td>\n",
       "      <td>baleares</td>\n",
       "      <td>913.0</td>\n",
       "      <td>94.0</td>\n",
       "      <td>82.0</td>\n",
       "      <td>179.0</td>\n",
       "      <td>48.0</td>\n",
       "      <td>85.0</td>\n",
       "      <td>488.0</td>\n",
       "      <td>2758</td>\n",
       "      <td>3.081943</td>\n",
       "      <td>2.973169</td>\n",
       "      <td>3.408267</td>\n",
       "      <td>1.740392</td>\n",
       "      <td>6.490210</td>\n",
       "    </tr>\n",
       "    <tr>\n",
       "      <th>4</th>\n",
       "      <td>4</td>\n",
       "      <td>canarias</td>\n",
       "      <td>620.0</td>\n",
       "      <td>81.0</td>\n",
       "      <td>72.0</td>\n",
       "      <td>113.0</td>\n",
       "      <td>24.0</td>\n",
       "      <td>36.0</td>\n",
       "      <td>326.0</td>\n",
       "      <td>1861</td>\n",
       "      <td>1.934444</td>\n",
       "      <td>3.868888</td>\n",
       "      <td>4.352499</td>\n",
       "      <td>1.289629</td>\n",
       "      <td>6.072004</td>\n",
       "    </tr>\n",
       "    <tr>\n",
       "      <th>5</th>\n",
       "      <td>5</td>\n",
       "      <td>cantabria</td>\n",
       "      <td>240.0</td>\n",
       "      <td>23.0</td>\n",
       "      <td>21.0</td>\n",
       "      <td>54.0</td>\n",
       "      <td>12.0</td>\n",
       "      <td>16.0</td>\n",
       "      <td>126.0</td>\n",
       "      <td>744</td>\n",
       "      <td>2.150538</td>\n",
       "      <td>2.822581</td>\n",
       "      <td>3.091398</td>\n",
       "      <td>1.612903</td>\n",
       "      <td>7.258065</td>\n",
       "    </tr>\n",
       "    <tr>\n",
       "      <th>6</th>\n",
       "      <td>6</td>\n",
       "      <td>castillalamancha</td>\n",
       "      <td>716.0</td>\n",
       "      <td>78.0</td>\n",
       "      <td>65.0</td>\n",
       "      <td>133.0</td>\n",
       "      <td>43.0</td>\n",
       "      <td>59.0</td>\n",
       "      <td>378.0</td>\n",
       "      <td>2073</td>\n",
       "      <td>2.846117</td>\n",
       "      <td>3.135552</td>\n",
       "      <td>3.762663</td>\n",
       "      <td>2.074288</td>\n",
       "      <td>6.415822</td>\n",
       "    </tr>\n",
       "    <tr>\n",
       "      <th>7</th>\n",
       "      <td>7</td>\n",
       "      <td>castillaleon</td>\n",
       "      <td>1186.0</td>\n",
       "      <td>141.0</td>\n",
       "      <td>104.0</td>\n",
       "      <td>187.0</td>\n",
       "      <td>70.0</td>\n",
       "      <td>105.0</td>\n",
       "      <td>607.0</td>\n",
       "      <td>3284</td>\n",
       "      <td>3.197320</td>\n",
       "      <td>3.166870</td>\n",
       "      <td>4.293544</td>\n",
       "      <td>2.131547</td>\n",
       "      <td>5.694275</td>\n",
       "    </tr>\n",
       "    <tr>\n",
       "      <th>8</th>\n",
       "      <td>8</td>\n",
       "      <td>catalunya</td>\n",
       "      <td>4253.0</td>\n",
       "      <td>394.0</td>\n",
       "      <td>394.0</td>\n",
       "      <td>854.0</td>\n",
       "      <td>298.0</td>\n",
       "      <td>309.0</td>\n",
       "      <td>2249.0</td>\n",
       "      <td>11933</td>\n",
       "      <td>2.589458</td>\n",
       "      <td>3.301768</td>\n",
       "      <td>3.301768</td>\n",
       "      <td>2.497276</td>\n",
       "      <td>7.156624</td>\n",
       "    </tr>\n",
       "    <tr>\n",
       "      <th>9</th>\n",
       "      <td>9</td>\n",
       "      <td>ceuta</td>\n",
       "      <td>24.0</td>\n",
       "      <td>3.0</td>\n",
       "      <td>2.0</td>\n",
       "      <td>9.0</td>\n",
       "      <td>1.0</td>\n",
       "      <td>1.0</td>\n",
       "      <td>16.0</td>\n",
       "      <td>106</td>\n",
       "      <td>0.943396</td>\n",
       "      <td>1.886792</td>\n",
       "      <td>2.830189</td>\n",
       "      <td>0.943396</td>\n",
       "      <td>8.490566</td>\n",
       "    </tr>\n",
       "    <tr>\n",
       "      <th>10</th>\n",
       "      <td>10</td>\n",
       "      <td>comunidadvalenciana</td>\n",
       "      <td>2078.0</td>\n",
       "      <td>215.0</td>\n",
       "      <td>190.0</td>\n",
       "      <td>465.0</td>\n",
       "      <td>99.0</td>\n",
       "      <td>130.0</td>\n",
       "      <td>1099.0</td>\n",
       "      <td>5844</td>\n",
       "      <td>2.224504</td>\n",
       "      <td>3.251198</td>\n",
       "      <td>3.678987</td>\n",
       "      <td>1.694045</td>\n",
       "      <td>7.956879</td>\n",
       "    </tr>\n",
       "    <tr>\n",
       "      <th>11</th>\n",
       "      <td>11</td>\n",
       "      <td>euskadi</td>\n",
       "      <td>682.0</td>\n",
       "      <td>63.0</td>\n",
       "      <td>99.0</td>\n",
       "      <td>136.0</td>\n",
       "      <td>20.0</td>\n",
       "      <td>42.0</td>\n",
       "      <td>360.0</td>\n",
       "      <td>2049</td>\n",
       "      <td>2.049780</td>\n",
       "      <td>4.831625</td>\n",
       "      <td>3.074671</td>\n",
       "      <td>0.976086</td>\n",
       "      <td>6.637384</td>\n",
       "    </tr>\n",
       "    <tr>\n",
       "      <th>12</th>\n",
       "      <td>12</td>\n",
       "      <td>extremadura</td>\n",
       "      <td>371.0</td>\n",
       "      <td>60.0</td>\n",
       "      <td>30.0</td>\n",
       "      <td>64.0</td>\n",
       "      <td>16.0</td>\n",
       "      <td>27.0</td>\n",
       "      <td>197.0</td>\n",
       "      <td>1093</td>\n",
       "      <td>2.470265</td>\n",
       "      <td>2.744739</td>\n",
       "      <td>5.489478</td>\n",
       "      <td>1.463861</td>\n",
       "      <td>5.855444</td>\n",
       "    </tr>\n",
       "    <tr>\n",
       "      <th>13</th>\n",
       "      <td>13</td>\n",
       "      <td>galicia</td>\n",
       "      <td>1294.0</td>\n",
       "      <td>153.0</td>\n",
       "      <td>127.0</td>\n",
       "      <td>269.0</td>\n",
       "      <td>43.0</td>\n",
       "      <td>84.0</td>\n",
       "      <td>676.0</td>\n",
       "      <td>3785</td>\n",
       "      <td>2.219287</td>\n",
       "      <td>3.355350</td>\n",
       "      <td>4.042272</td>\n",
       "      <td>1.136063</td>\n",
       "      <td>7.107001</td>\n",
       "    </tr>\n",
       "    <tr>\n",
       "      <th>14</th>\n",
       "      <td>14</td>\n",
       "      <td>larioja</td>\n",
       "      <td>132.0</td>\n",
       "      <td>13.0</td>\n",
       "      <td>12.0</td>\n",
       "      <td>16.0</td>\n",
       "      <td>15.0</td>\n",
       "      <td>12.0</td>\n",
       "      <td>68.0</td>\n",
       "      <td>446</td>\n",
       "      <td>2.690583</td>\n",
       "      <td>2.690583</td>\n",
       "      <td>2.914798</td>\n",
       "      <td>3.363229</td>\n",
       "      <td>3.587444</td>\n",
       "    </tr>\n",
       "    <tr>\n",
       "      <th>15</th>\n",
       "      <td>15</td>\n",
       "      <td>madrid</td>\n",
       "      <td>6407.0</td>\n",
       "      <td>647.0</td>\n",
       "      <td>678.0</td>\n",
       "      <td>1271.0</td>\n",
       "      <td>328.0</td>\n",
       "      <td>438.0</td>\n",
       "      <td>3362.0</td>\n",
       "      <td>18480</td>\n",
       "      <td>2.370130</td>\n",
       "      <td>3.668831</td>\n",
       "      <td>3.501082</td>\n",
       "      <td>1.774892</td>\n",
       "      <td>6.877706</td>\n",
       "    </tr>\n",
       "    <tr>\n",
       "      <th>16</th>\n",
       "      <td>16</td>\n",
       "      <td>melilla</td>\n",
       "      <td>60.0</td>\n",
       "      <td>11.0</td>\n",
       "      <td>4.0</td>\n",
       "      <td>6.0</td>\n",
       "      <td>2.0</td>\n",
       "      <td>12.0</td>\n",
       "      <td>35.0</td>\n",
       "      <td>144</td>\n",
       "      <td>8.333333</td>\n",
       "      <td>2.777778</td>\n",
       "      <td>7.638889</td>\n",
       "      <td>1.388889</td>\n",
       "      <td>4.166667</td>\n",
       "    </tr>\n",
       "    <tr>\n",
       "      <th>17</th>\n",
       "      <td>17</td>\n",
       "      <td>murcia</td>\n",
       "      <td>688.0</td>\n",
       "      <td>72.0</td>\n",
       "      <td>50.0</td>\n",
       "      <td>139.0</td>\n",
       "      <td>35.0</td>\n",
       "      <td>67.0</td>\n",
       "      <td>363.0</td>\n",
       "      <td>1961</td>\n",
       "      <td>3.416624</td>\n",
       "      <td>2.549720</td>\n",
       "      <td>3.671596</td>\n",
       "      <td>1.784804</td>\n",
       "      <td>7.088220</td>\n",
       "    </tr>\n",
       "    <tr>\n",
       "      <th>18</th>\n",
       "      <td>18</td>\n",
       "      <td>navarra</td>\n",
       "      <td>196.0</td>\n",
       "      <td>22.0</td>\n",
       "      <td>25.0</td>\n",
       "      <td>37.0</td>\n",
       "      <td>6.0</td>\n",
       "      <td>8.0</td>\n",
       "      <td>98.0</td>\n",
       "      <td>548</td>\n",
       "      <td>1.459854</td>\n",
       "      <td>4.562044</td>\n",
       "      <td>4.014599</td>\n",
       "      <td>1.094891</td>\n",
       "      <td>6.751825</td>\n",
       "    </tr>\n",
       "  </tbody>\n",
       "</table>\n",
       "</div>"
      ],
      "text/plain": [
       "    Unnamed: 0                 CCAA  puntuacion_tweets  tweets_pos_psoe  \\\n",
       "0            0            andalucia             4333.0            521.0   \n",
       "1            1               aragon              608.0             59.0   \n",
       "2            2             asturias              652.0             79.0   \n",
       "3            3             baleares              913.0             94.0   \n",
       "4            4             canarias              620.0             81.0   \n",
       "5            5            cantabria              240.0             23.0   \n",
       "6            6     castillalamancha              716.0             78.0   \n",
       "7            7         castillaleon             1186.0            141.0   \n",
       "8            8            catalunya             4253.0            394.0   \n",
       "9            9                ceuta               24.0              3.0   \n",
       "10          10  comunidadvalenciana             2078.0            215.0   \n",
       "11          11              euskadi              682.0             63.0   \n",
       "12          12          extremadura              371.0             60.0   \n",
       "13          13              galicia             1294.0            153.0   \n",
       "14          14              larioja              132.0             13.0   \n",
       "15          15               madrid             6407.0            647.0   \n",
       "16          16              melilla               60.0             11.0   \n",
       "17          17               murcia              688.0             72.0   \n",
       "18          18              navarra              196.0             22.0   \n",
       "\n",
       "    tweets_pos_UP  tweets_pos_vox  tweets_pos_Cs  tweets_pos_PP  \\\n",
       "0           413.0           948.0          181.0          248.0   \n",
       "1            71.0           139.0           31.0           20.0   \n",
       "2            74.0           130.0           19.0           41.0   \n",
       "3            82.0           179.0           48.0           85.0   \n",
       "4            72.0           113.0           24.0           36.0   \n",
       "5            21.0            54.0           12.0           16.0   \n",
       "6            65.0           133.0           43.0           59.0   \n",
       "7           104.0           187.0           70.0          105.0   \n",
       "8           394.0           854.0          298.0          309.0   \n",
       "9             2.0             9.0            1.0            1.0   \n",
       "10          190.0           465.0           99.0          130.0   \n",
       "11           99.0           136.0           20.0           42.0   \n",
       "12           30.0            64.0           16.0           27.0   \n",
       "13          127.0           269.0           43.0           84.0   \n",
       "14           12.0            16.0           15.0           12.0   \n",
       "15          678.0          1271.0          328.0          438.0   \n",
       "16            4.0             6.0            2.0           12.0   \n",
       "17           50.0           139.0           35.0           67.0   \n",
       "18           25.0            37.0            6.0            8.0   \n",
       "\n",
       "    total_tweets_positivos  sum_tweets_sent    %posPP    %posUP  %posPSOE  \\\n",
       "0                   2311.0            12399  2.000161  3.330914  4.201952   \n",
       "1                    320.0             1783  1.121705  3.982053  3.309030   \n",
       "2                    343.0             1920  2.135417  3.854167  4.114583   \n",
       "3                    488.0             2758  3.081943  2.973169  3.408267   \n",
       "4                    326.0             1861  1.934444  3.868888  4.352499   \n",
       "5                    126.0              744  2.150538  2.822581  3.091398   \n",
       "6                    378.0             2073  2.846117  3.135552  3.762663   \n",
       "7                    607.0             3284  3.197320  3.166870  4.293544   \n",
       "8                   2249.0            11933  2.589458  3.301768  3.301768   \n",
       "9                     16.0              106  0.943396  1.886792  2.830189   \n",
       "10                  1099.0             5844  2.224504  3.251198  3.678987   \n",
       "11                   360.0             2049  2.049780  4.831625  3.074671   \n",
       "12                   197.0             1093  2.470265  2.744739  5.489478   \n",
       "13                   676.0             3785  2.219287  3.355350  4.042272   \n",
       "14                    68.0              446  2.690583  2.690583  2.914798   \n",
       "15                  3362.0            18480  2.370130  3.668831  3.501082   \n",
       "16                    35.0              144  8.333333  2.777778  7.638889   \n",
       "17                   363.0             1961  3.416624  2.549720  3.671596   \n",
       "18                    98.0              548  1.459854  4.562044  4.014599   \n",
       "\n",
       "      %posCs   %posVOX  \n",
       "0   1.459795  7.645778  \n",
       "1   1.738643  7.795850  \n",
       "2   0.989583  6.770833  \n",
       "3   1.740392  6.490210  \n",
       "4   1.289629  6.072004  \n",
       "5   1.612903  7.258065  \n",
       "6   2.074288  6.415822  \n",
       "7   2.131547  5.694275  \n",
       "8   2.497276  7.156624  \n",
       "9   0.943396  8.490566  \n",
       "10  1.694045  7.956879  \n",
       "11  0.976086  6.637384  \n",
       "12  1.463861  5.855444  \n",
       "13  1.136063  7.107001  \n",
       "14  3.363229  3.587444  \n",
       "15  1.774892  6.877706  \n",
       "16  1.388889  4.166667  \n",
       "17  1.784804  7.088220  \n",
       "18  1.094891  6.751825  "
      ]
     },
     "execution_count": 30,
     "metadata": {},
     "output_type": "execute_result"
    }
   ],
   "source": [
    "tweets"
   ]
  },
  {
   "cell_type": "code",
   "execution_count": null,
   "metadata": {
    "id": "T6LFU2a8nDB7"
   },
   "outputs": [],
   "source": []
  },
  {
   "cell_type": "markdown",
   "metadata": {
    "id": "sZzn-3UbAaJe"
   },
   "source": [
    "Como pasaba con las columnas del dataset electoral, nos quedamos con los porcentajes a cada partido."
   ]
  },
  {
   "cell_type": "code",
   "execution_count": 31,
   "metadata": {
    "colab": {
     "base_uri": "https://localhost:8080/"
    },
    "executionInfo": {
     "elapsed": 244,
     "status": "ok",
     "timestamp": 1631276353128,
     "user": {
      "displayName": "Guillermo Barrio",
      "photoUrl": "https://lh3.googleusercontent.com/a/default-user=s64",
      "userId": "06925154007558381895"
     },
     "user_tz": -120
    },
    "id": "9aeSOFMCnC-7",
    "outputId": "95148051-f896-47c1-b21b-7ccc9d59e847"
   },
   "outputs": [
    {
     "data": {
      "text/plain": [
       "Index(['Unnamed: 0', 'CCAA', 'puntuacion_tweets', 'tweets_pos_psoe',\n",
       "       'tweets_pos_UP', 'tweets_pos_vox', 'tweets_pos_Cs', 'tweets_pos_PP',\n",
       "       'total_tweets_positivos', 'sum_tweets_sent', '%posPP', '%posUP',\n",
       "       '%posPSOE', '%posCs', '%posVOX'],\n",
       "      dtype='object')"
      ]
     },
     "execution_count": 31,
     "metadata": {},
     "output_type": "execute_result"
    }
   ],
   "source": [
    "tweets.columns"
   ]
  },
  {
   "cell_type": "code",
   "execution_count": 32,
   "metadata": {
    "executionInfo": {
     "elapsed": 2,
     "status": "ok",
     "timestamp": 1631276354593,
     "user": {
      "displayName": "Guillermo Barrio",
      "photoUrl": "https://lh3.googleusercontent.com/a/default-user=s64",
      "userId": "06925154007558381895"
     },
     "user_tz": -120
    },
    "id": "iPaV7RV8mZYM"
   },
   "outputs": [],
   "source": [
    "cols_tweets = ['CCAA', '%posPP', '%posUP',\n",
    "       '%posPSOE', '%posCs', '%posVOX']"
   ]
  },
  {
   "cell_type": "code",
   "execution_count": 33,
   "metadata": {
    "executionInfo": {
     "elapsed": 257,
     "status": "ok",
     "timestamp": 1631276356701,
     "user": {
      "displayName": "Guillermo Barrio",
      "photoUrl": "https://lh3.googleusercontent.com/a/default-user=s64",
      "userId": "06925154007558381895"
     },
     "user_tz": -120
    },
    "id": "GK4VXWhLmZUi"
   },
   "outputs": [],
   "source": [
    "tweets_simp = tweets[cols_tweets]"
   ]
  },
  {
   "cell_type": "code",
   "execution_count": 34,
   "metadata": {
    "colab": {
     "base_uri": "https://localhost:8080/",
     "height": 638
    },
    "executionInfo": {
     "elapsed": 268,
     "status": "ok",
     "timestamp": 1631276358137,
     "user": {
      "displayName": "Guillermo Barrio",
      "photoUrl": "https://lh3.googleusercontent.com/a/default-user=s64",
      "userId": "06925154007558381895"
     },
     "user_tz": -120
    },
    "id": "9j9su-AGmZI7",
    "outputId": "ef2d355c-0184-494b-96f0-247452f655f8"
   },
   "outputs": [
    {
     "data": {
      "text/html": [
       "<div>\n",
       "<style scoped>\n",
       "    .dataframe tbody tr th:only-of-type {\n",
       "        vertical-align: middle;\n",
       "    }\n",
       "\n",
       "    .dataframe tbody tr th {\n",
       "        vertical-align: top;\n",
       "    }\n",
       "\n",
       "    .dataframe thead th {\n",
       "        text-align: right;\n",
       "    }\n",
       "</style>\n",
       "<table border=\"1\" class=\"dataframe\">\n",
       "  <thead>\n",
       "    <tr style=\"text-align: right;\">\n",
       "      <th></th>\n",
       "      <th>CCAA</th>\n",
       "      <th>%posPP</th>\n",
       "      <th>%posUP</th>\n",
       "      <th>%posPSOE</th>\n",
       "      <th>%posCs</th>\n",
       "      <th>%posVOX</th>\n",
       "    </tr>\n",
       "  </thead>\n",
       "  <tbody>\n",
       "    <tr>\n",
       "      <th>0</th>\n",
       "      <td>andalucia</td>\n",
       "      <td>2.000161</td>\n",
       "      <td>3.330914</td>\n",
       "      <td>4.201952</td>\n",
       "      <td>1.459795</td>\n",
       "      <td>7.645778</td>\n",
       "    </tr>\n",
       "    <tr>\n",
       "      <th>1</th>\n",
       "      <td>aragon</td>\n",
       "      <td>1.121705</td>\n",
       "      <td>3.982053</td>\n",
       "      <td>3.309030</td>\n",
       "      <td>1.738643</td>\n",
       "      <td>7.795850</td>\n",
       "    </tr>\n",
       "    <tr>\n",
       "      <th>2</th>\n",
       "      <td>asturias</td>\n",
       "      <td>2.135417</td>\n",
       "      <td>3.854167</td>\n",
       "      <td>4.114583</td>\n",
       "      <td>0.989583</td>\n",
       "      <td>6.770833</td>\n",
       "    </tr>\n",
       "    <tr>\n",
       "      <th>3</th>\n",
       "      <td>baleares</td>\n",
       "      <td>3.081943</td>\n",
       "      <td>2.973169</td>\n",
       "      <td>3.408267</td>\n",
       "      <td>1.740392</td>\n",
       "      <td>6.490210</td>\n",
       "    </tr>\n",
       "    <tr>\n",
       "      <th>4</th>\n",
       "      <td>canarias</td>\n",
       "      <td>1.934444</td>\n",
       "      <td>3.868888</td>\n",
       "      <td>4.352499</td>\n",
       "      <td>1.289629</td>\n",
       "      <td>6.072004</td>\n",
       "    </tr>\n",
       "    <tr>\n",
       "      <th>5</th>\n",
       "      <td>cantabria</td>\n",
       "      <td>2.150538</td>\n",
       "      <td>2.822581</td>\n",
       "      <td>3.091398</td>\n",
       "      <td>1.612903</td>\n",
       "      <td>7.258065</td>\n",
       "    </tr>\n",
       "    <tr>\n",
       "      <th>6</th>\n",
       "      <td>castillalamancha</td>\n",
       "      <td>2.846117</td>\n",
       "      <td>3.135552</td>\n",
       "      <td>3.762663</td>\n",
       "      <td>2.074288</td>\n",
       "      <td>6.415822</td>\n",
       "    </tr>\n",
       "    <tr>\n",
       "      <th>7</th>\n",
       "      <td>castillaleon</td>\n",
       "      <td>3.197320</td>\n",
       "      <td>3.166870</td>\n",
       "      <td>4.293544</td>\n",
       "      <td>2.131547</td>\n",
       "      <td>5.694275</td>\n",
       "    </tr>\n",
       "    <tr>\n",
       "      <th>8</th>\n",
       "      <td>catalunya</td>\n",
       "      <td>2.589458</td>\n",
       "      <td>3.301768</td>\n",
       "      <td>3.301768</td>\n",
       "      <td>2.497276</td>\n",
       "      <td>7.156624</td>\n",
       "    </tr>\n",
       "    <tr>\n",
       "      <th>9</th>\n",
       "      <td>ceuta</td>\n",
       "      <td>0.943396</td>\n",
       "      <td>1.886792</td>\n",
       "      <td>2.830189</td>\n",
       "      <td>0.943396</td>\n",
       "      <td>8.490566</td>\n",
       "    </tr>\n",
       "    <tr>\n",
       "      <th>10</th>\n",
       "      <td>comunidadvalenciana</td>\n",
       "      <td>2.224504</td>\n",
       "      <td>3.251198</td>\n",
       "      <td>3.678987</td>\n",
       "      <td>1.694045</td>\n",
       "      <td>7.956879</td>\n",
       "    </tr>\n",
       "    <tr>\n",
       "      <th>11</th>\n",
       "      <td>euskadi</td>\n",
       "      <td>2.049780</td>\n",
       "      <td>4.831625</td>\n",
       "      <td>3.074671</td>\n",
       "      <td>0.976086</td>\n",
       "      <td>6.637384</td>\n",
       "    </tr>\n",
       "    <tr>\n",
       "      <th>12</th>\n",
       "      <td>extremadura</td>\n",
       "      <td>2.470265</td>\n",
       "      <td>2.744739</td>\n",
       "      <td>5.489478</td>\n",
       "      <td>1.463861</td>\n",
       "      <td>5.855444</td>\n",
       "    </tr>\n",
       "    <tr>\n",
       "      <th>13</th>\n",
       "      <td>galicia</td>\n",
       "      <td>2.219287</td>\n",
       "      <td>3.355350</td>\n",
       "      <td>4.042272</td>\n",
       "      <td>1.136063</td>\n",
       "      <td>7.107001</td>\n",
       "    </tr>\n",
       "    <tr>\n",
       "      <th>14</th>\n",
       "      <td>larioja</td>\n",
       "      <td>2.690583</td>\n",
       "      <td>2.690583</td>\n",
       "      <td>2.914798</td>\n",
       "      <td>3.363229</td>\n",
       "      <td>3.587444</td>\n",
       "    </tr>\n",
       "    <tr>\n",
       "      <th>15</th>\n",
       "      <td>madrid</td>\n",
       "      <td>2.370130</td>\n",
       "      <td>3.668831</td>\n",
       "      <td>3.501082</td>\n",
       "      <td>1.774892</td>\n",
       "      <td>6.877706</td>\n",
       "    </tr>\n",
       "    <tr>\n",
       "      <th>16</th>\n",
       "      <td>melilla</td>\n",
       "      <td>8.333333</td>\n",
       "      <td>2.777778</td>\n",
       "      <td>7.638889</td>\n",
       "      <td>1.388889</td>\n",
       "      <td>4.166667</td>\n",
       "    </tr>\n",
       "    <tr>\n",
       "      <th>17</th>\n",
       "      <td>murcia</td>\n",
       "      <td>3.416624</td>\n",
       "      <td>2.549720</td>\n",
       "      <td>3.671596</td>\n",
       "      <td>1.784804</td>\n",
       "      <td>7.088220</td>\n",
       "    </tr>\n",
       "    <tr>\n",
       "      <th>18</th>\n",
       "      <td>navarra</td>\n",
       "      <td>1.459854</td>\n",
       "      <td>4.562044</td>\n",
       "      <td>4.014599</td>\n",
       "      <td>1.094891</td>\n",
       "      <td>6.751825</td>\n",
       "    </tr>\n",
       "  </tbody>\n",
       "</table>\n",
       "</div>"
      ],
      "text/plain": [
       "                   CCAA    %posPP    %posUP  %posPSOE    %posCs   %posVOX\n",
       "0             andalucia  2.000161  3.330914  4.201952  1.459795  7.645778\n",
       "1                aragon  1.121705  3.982053  3.309030  1.738643  7.795850\n",
       "2              asturias  2.135417  3.854167  4.114583  0.989583  6.770833\n",
       "3              baleares  3.081943  2.973169  3.408267  1.740392  6.490210\n",
       "4              canarias  1.934444  3.868888  4.352499  1.289629  6.072004\n",
       "5             cantabria  2.150538  2.822581  3.091398  1.612903  7.258065\n",
       "6      castillalamancha  2.846117  3.135552  3.762663  2.074288  6.415822\n",
       "7          castillaleon  3.197320  3.166870  4.293544  2.131547  5.694275\n",
       "8             catalunya  2.589458  3.301768  3.301768  2.497276  7.156624\n",
       "9                 ceuta  0.943396  1.886792  2.830189  0.943396  8.490566\n",
       "10  comunidadvalenciana  2.224504  3.251198  3.678987  1.694045  7.956879\n",
       "11              euskadi  2.049780  4.831625  3.074671  0.976086  6.637384\n",
       "12          extremadura  2.470265  2.744739  5.489478  1.463861  5.855444\n",
       "13              galicia  2.219287  3.355350  4.042272  1.136063  7.107001\n",
       "14              larioja  2.690583  2.690583  2.914798  3.363229  3.587444\n",
       "15               madrid  2.370130  3.668831  3.501082  1.774892  6.877706\n",
       "16              melilla  8.333333  2.777778  7.638889  1.388889  4.166667\n",
       "17               murcia  3.416624  2.549720  3.671596  1.784804  7.088220\n",
       "18              navarra  1.459854  4.562044  4.014599  1.094891  6.751825"
      ]
     },
     "execution_count": 34,
     "metadata": {},
     "output_type": "execute_result"
    }
   ],
   "source": [
    "tweets_simp"
   ]
  },
  {
   "cell_type": "code",
   "execution_count": null,
   "metadata": {
    "id": "BQ9bYhEzn5a9"
   },
   "outputs": [],
   "source": []
  },
  {
   "cell_type": "markdown",
   "metadata": {
    "id": "eM1FQ_ORAjev"
   },
   "source": [
    "Ahora, evidentemente, hacemos un merge de ambos dataset en función de la columna de la CCAA."
   ]
  },
  {
   "cell_type": "code",
   "execution_count": 35,
   "metadata": {
    "executionInfo": {
     "elapsed": 234,
     "status": "ok",
     "timestamp": 1631276361706,
     "user": {
      "displayName": "Guillermo Barrio",
      "photoUrl": "https://lh3.googleusercontent.com/a/default-user=s64",
      "userId": "06925154007558381895"
     },
     "user_tz": -120
    },
    "id": "GcChkOrLn5Xw"
   },
   "outputs": [],
   "source": [
    "votos_tweets = df_porcentaje_voto.merge(tweets_simp, on = 'CCAA', how = 'left')"
   ]
  },
  {
   "cell_type": "code",
   "execution_count": null,
   "metadata": {
    "id": "sto9TT-Hn5VN"
   },
   "outputs": [],
   "source": []
  },
  {
   "cell_type": "code",
   "execution_count": 36,
   "metadata": {
    "colab": {
     "base_uri": "https://localhost:8080/",
     "height": 638
    },
    "executionInfo": {
     "elapsed": 279,
     "status": "ok",
     "timestamp": 1631276363504,
     "user": {
      "displayName": "Guillermo Barrio",
      "photoUrl": "https://lh3.googleusercontent.com/a/default-user=s64",
      "userId": "06925154007558381895"
     },
     "user_tz": -120
    },
    "id": "DpJvH1UHn5TK",
    "outputId": "26ade509-25a3-4fc9-91ec-ea2464c0f39f"
   },
   "outputs": [
    {
     "data": {
      "text/html": [
       "<div>\n",
       "<style scoped>\n",
       "    .dataframe tbody tr th:only-of-type {\n",
       "        vertical-align: middle;\n",
       "    }\n",
       "\n",
       "    .dataframe tbody tr th {\n",
       "        vertical-align: top;\n",
       "    }\n",
       "\n",
       "    .dataframe thead th {\n",
       "        text-align: right;\n",
       "    }\n",
       "</style>\n",
       "<table border=\"1\" class=\"dataframe\">\n",
       "  <thead>\n",
       "    <tr style=\"text-align: right;\">\n",
       "      <th></th>\n",
       "      <th>CCAA</th>\n",
       "      <th>%PP</th>\n",
       "      <th>%PSOE</th>\n",
       "      <th>%Cs</th>\n",
       "      <th>%UP</th>\n",
       "      <th>%VOX</th>\n",
       "      <th>%posPP</th>\n",
       "      <th>%posUP</th>\n",
       "      <th>%posPSOE</th>\n",
       "      <th>%posCs</th>\n",
       "      <th>%posVOX</th>\n",
       "    </tr>\n",
       "  </thead>\n",
       "  <tbody>\n",
       "    <tr>\n",
       "      <th>0</th>\n",
       "      <td>baleares</td>\n",
       "      <td>16.668101</td>\n",
       "      <td>26.080464</td>\n",
       "      <td>17.247267</td>\n",
       "      <td>17.642301</td>\n",
       "      <td>11.173955</td>\n",
       "      <td>3.081943</td>\n",
       "      <td>2.973169</td>\n",
       "      <td>3.408267</td>\n",
       "      <td>1.740392</td>\n",
       "      <td>6.490210</td>\n",
       "    </tr>\n",
       "    <tr>\n",
       "      <th>1</th>\n",
       "      <td>andalucia</td>\n",
       "      <td>16.964709</td>\n",
       "      <td>33.782213</td>\n",
       "      <td>17.471376</td>\n",
       "      <td>14.070037</td>\n",
       "      <td>13.201167</td>\n",
       "      <td>2.000161</td>\n",
       "      <td>3.330914</td>\n",
       "      <td>4.201952</td>\n",
       "      <td>1.459795</td>\n",
       "      <td>7.645778</td>\n",
       "    </tr>\n",
       "    <tr>\n",
       "      <th>2</th>\n",
       "      <td>aragon</td>\n",
       "      <td>18.726495</td>\n",
       "      <td>31.390344</td>\n",
       "      <td>20.311623</td>\n",
       "      <td>13.413534</td>\n",
       "      <td>12.073885</td>\n",
       "      <td>1.121705</td>\n",
       "      <td>3.982053</td>\n",
       "      <td>3.309030</td>\n",
       "      <td>1.738643</td>\n",
       "      <td>7.795850</td>\n",
       "    </tr>\n",
       "    <tr>\n",
       "      <th>3</th>\n",
       "      <td>asturias</td>\n",
       "      <td>17.716904</td>\n",
       "      <td>32.766113</td>\n",
       "      <td>16.527142</td>\n",
       "      <td>16.967276</td>\n",
       "      <td>11.369969</td>\n",
       "      <td>2.135417</td>\n",
       "      <td>3.854167</td>\n",
       "      <td>4.114583</td>\n",
       "      <td>0.989583</td>\n",
       "      <td>6.770833</td>\n",
       "    </tr>\n",
       "    <tr>\n",
       "      <th>4</th>\n",
       "      <td>extremadura</td>\n",
       "      <td>21.050728</td>\n",
       "      <td>37.457054</td>\n",
       "      <td>17.669229</td>\n",
       "      <td>9.339235</td>\n",
       "      <td>10.598385</td>\n",
       "      <td>2.470265</td>\n",
       "      <td>2.744739</td>\n",
       "      <td>5.489478</td>\n",
       "      <td>1.463861</td>\n",
       "      <td>5.855444</td>\n",
       "    </tr>\n",
       "    <tr>\n",
       "      <th>5</th>\n",
       "      <td>canarias</td>\n",
       "      <td>15.346882</td>\n",
       "      <td>27.515326</td>\n",
       "      <td>14.488856</td>\n",
       "      <td>15.530671</td>\n",
       "      <td>6.473119</td>\n",
       "      <td>1.934444</td>\n",
       "      <td>3.868888</td>\n",
       "      <td>4.352499</td>\n",
       "      <td>1.289629</td>\n",
       "      <td>6.072004</td>\n",
       "    </tr>\n",
       "    <tr>\n",
       "      <th>6</th>\n",
       "      <td>cantabria</td>\n",
       "      <td>21.474449</td>\n",
       "      <td>24.929582</td>\n",
       "      <td>14.977414</td>\n",
       "      <td>10.114192</td>\n",
       "      <td>11.060027</td>\n",
       "      <td>2.150538</td>\n",
       "      <td>2.822581</td>\n",
       "      <td>3.091398</td>\n",
       "      <td>1.612903</td>\n",
       "      <td>7.258065</td>\n",
       "    </tr>\n",
       "    <tr>\n",
       "      <th>7</th>\n",
       "      <td>castillaleon</td>\n",
       "      <td>25.708589</td>\n",
       "      <td>29.382885</td>\n",
       "      <td>18.652369</td>\n",
       "      <td>10.252079</td>\n",
       "      <td>12.132890</td>\n",
       "      <td>3.197320</td>\n",
       "      <td>3.166870</td>\n",
       "      <td>4.293544</td>\n",
       "      <td>2.131547</td>\n",
       "      <td>5.694275</td>\n",
       "    </tr>\n",
       "    <tr>\n",
       "      <th>8</th>\n",
       "      <td>castillalamancha</td>\n",
       "      <td>22.373185</td>\n",
       "      <td>31.924142</td>\n",
       "      <td>17.231675</td>\n",
       "      <td>10.007092</td>\n",
       "      <td>15.077684</td>\n",
       "      <td>2.846117</td>\n",
       "      <td>3.135552</td>\n",
       "      <td>3.762663</td>\n",
       "      <td>2.074288</td>\n",
       "      <td>6.415822</td>\n",
       "    </tr>\n",
       "    <tr>\n",
       "      <th>9</th>\n",
       "      <td>catalunya</td>\n",
       "      <td>4.822832</td>\n",
       "      <td>23.109454</td>\n",
       "      <td>11.500276</td>\n",
       "      <td>14.781510</td>\n",
       "      <td>3.571182</td>\n",
       "      <td>2.589458</td>\n",
       "      <td>3.301768</td>\n",
       "      <td>3.301768</td>\n",
       "      <td>2.497276</td>\n",
       "      <td>7.156624</td>\n",
       "    </tr>\n",
       "    <tr>\n",
       "      <th>10</th>\n",
       "      <td>ceuta</td>\n",
       "      <td>21.185645</td>\n",
       "      <td>35.903187</td>\n",
       "      <td>11.814720</td>\n",
       "      <td>4.751969</td>\n",
       "      <td>23.678994</td>\n",
       "      <td>0.943396</td>\n",
       "      <td>1.886792</td>\n",
       "      <td>2.830189</td>\n",
       "      <td>0.943396</td>\n",
       "      <td>8.490566</td>\n",
       "    </tr>\n",
       "    <tr>\n",
       "      <th>11</th>\n",
       "      <td>galicia</td>\n",
       "      <td>27.002198</td>\n",
       "      <td>31.669312</td>\n",
       "      <td>11.024555</td>\n",
       "      <td>15.343854</td>\n",
       "      <td>5.198580</td>\n",
       "      <td>2.219287</td>\n",
       "      <td>3.355350</td>\n",
       "      <td>4.042272</td>\n",
       "      <td>1.136063</td>\n",
       "      <td>7.107001</td>\n",
       "    </tr>\n",
       "    <tr>\n",
       "      <th>12</th>\n",
       "      <td>madrid</td>\n",
       "      <td>18.502997</td>\n",
       "      <td>27.054690</td>\n",
       "      <td>20.759176</td>\n",
       "      <td>16.093949</td>\n",
       "      <td>13.741137</td>\n",
       "      <td>2.370130</td>\n",
       "      <td>3.668831</td>\n",
       "      <td>3.501082</td>\n",
       "      <td>1.774892</td>\n",
       "      <td>6.877706</td>\n",
       "    </tr>\n",
       "    <tr>\n",
       "      <th>13</th>\n",
       "      <td>comunidadvalenciana</td>\n",
       "      <td>18.380046</td>\n",
       "      <td>27.474789</td>\n",
       "      <td>17.787426</td>\n",
       "      <td>14.074966</td>\n",
       "      <td>11.891171</td>\n",
       "      <td>2.224504</td>\n",
       "      <td>3.251198</td>\n",
       "      <td>3.678987</td>\n",
       "      <td>1.694045</td>\n",
       "      <td>7.956879</td>\n",
       "    </tr>\n",
       "    <tr>\n",
       "      <th>14</th>\n",
       "      <td>navarra</td>\n",
       "      <td>29.014825</td>\n",
       "      <td>25.510141</td>\n",
       "      <td>0.000000</td>\n",
       "      <td>18.463118</td>\n",
       "      <td>4.777835</td>\n",
       "      <td>1.459854</td>\n",
       "      <td>4.562044</td>\n",
       "      <td>4.014599</td>\n",
       "      <td>1.094891</td>\n",
       "      <td>6.751825</td>\n",
       "    </tr>\n",
       "    <tr>\n",
       "      <th>15</th>\n",
       "      <td>melilla</td>\n",
       "      <td>23.731948</td>\n",
       "      <td>20.506047</td>\n",
       "      <td>12.771516</td>\n",
       "      <td>3.789480</td>\n",
       "      <td>17.036515</td>\n",
       "      <td>8.333333</td>\n",
       "      <td>2.777778</td>\n",
       "      <td>7.638889</td>\n",
       "      <td>1.388889</td>\n",
       "      <td>4.166667</td>\n",
       "    </tr>\n",
       "    <tr>\n",
       "      <th>16</th>\n",
       "      <td>euskadi</td>\n",
       "      <td>7.384745</td>\n",
       "      <td>19.747420</td>\n",
       "      <td>3.122134</td>\n",
       "      <td>17.464199</td>\n",
       "      <td>2.187908</td>\n",
       "      <td>2.049780</td>\n",
       "      <td>4.831625</td>\n",
       "      <td>3.074671</td>\n",
       "      <td>0.976086</td>\n",
       "      <td>6.637384</td>\n",
       "    </tr>\n",
       "    <tr>\n",
       "      <th>17</th>\n",
       "      <td>murcia</td>\n",
       "      <td>23.197117</td>\n",
       "      <td>24.498246</td>\n",
       "      <td>19.340151</td>\n",
       "      <td>10.275571</td>\n",
       "      <td>18.438773</td>\n",
       "      <td>3.416624</td>\n",
       "      <td>2.549720</td>\n",
       "      <td>3.671596</td>\n",
       "      <td>1.784804</td>\n",
       "      <td>7.088220</td>\n",
       "    </tr>\n",
       "    <tr>\n",
       "      <th>18</th>\n",
       "      <td>larioja</td>\n",
       "      <td>26.162166</td>\n",
       "      <td>31.265068</td>\n",
       "      <td>17.568382</td>\n",
       "      <td>11.623855</td>\n",
       "      <td>8.852957</td>\n",
       "      <td>2.690583</td>\n",
       "      <td>2.690583</td>\n",
       "      <td>2.914798</td>\n",
       "      <td>3.363229</td>\n",
       "      <td>3.587444</td>\n",
       "    </tr>\n",
       "  </tbody>\n",
       "</table>\n",
       "</div>"
      ],
      "text/plain": [
       "                   CCAA        %PP      %PSOE        %Cs        %UP  \\\n",
       "0              baleares  16.668101  26.080464  17.247267  17.642301   \n",
       "1             andalucia  16.964709  33.782213  17.471376  14.070037   \n",
       "2                aragon  18.726495  31.390344  20.311623  13.413534   \n",
       "3              asturias  17.716904  32.766113  16.527142  16.967276   \n",
       "4           extremadura  21.050728  37.457054  17.669229   9.339235   \n",
       "5              canarias  15.346882  27.515326  14.488856  15.530671   \n",
       "6             cantabria  21.474449  24.929582  14.977414  10.114192   \n",
       "7          castillaleon  25.708589  29.382885  18.652369  10.252079   \n",
       "8      castillalamancha  22.373185  31.924142  17.231675  10.007092   \n",
       "9             catalunya   4.822832  23.109454  11.500276  14.781510   \n",
       "10                ceuta  21.185645  35.903187  11.814720   4.751969   \n",
       "11              galicia  27.002198  31.669312  11.024555  15.343854   \n",
       "12               madrid  18.502997  27.054690  20.759176  16.093949   \n",
       "13  comunidadvalenciana  18.380046  27.474789  17.787426  14.074966   \n",
       "14              navarra  29.014825  25.510141   0.000000  18.463118   \n",
       "15              melilla  23.731948  20.506047  12.771516   3.789480   \n",
       "16              euskadi   7.384745  19.747420   3.122134  17.464199   \n",
       "17               murcia  23.197117  24.498246  19.340151  10.275571   \n",
       "18              larioja  26.162166  31.265068  17.568382  11.623855   \n",
       "\n",
       "         %VOX    %posPP    %posUP  %posPSOE    %posCs   %posVOX  \n",
       "0   11.173955  3.081943  2.973169  3.408267  1.740392  6.490210  \n",
       "1   13.201167  2.000161  3.330914  4.201952  1.459795  7.645778  \n",
       "2   12.073885  1.121705  3.982053  3.309030  1.738643  7.795850  \n",
       "3   11.369969  2.135417  3.854167  4.114583  0.989583  6.770833  \n",
       "4   10.598385  2.470265  2.744739  5.489478  1.463861  5.855444  \n",
       "5    6.473119  1.934444  3.868888  4.352499  1.289629  6.072004  \n",
       "6   11.060027  2.150538  2.822581  3.091398  1.612903  7.258065  \n",
       "7   12.132890  3.197320  3.166870  4.293544  2.131547  5.694275  \n",
       "8   15.077684  2.846117  3.135552  3.762663  2.074288  6.415822  \n",
       "9    3.571182  2.589458  3.301768  3.301768  2.497276  7.156624  \n",
       "10  23.678994  0.943396  1.886792  2.830189  0.943396  8.490566  \n",
       "11   5.198580  2.219287  3.355350  4.042272  1.136063  7.107001  \n",
       "12  13.741137  2.370130  3.668831  3.501082  1.774892  6.877706  \n",
       "13  11.891171  2.224504  3.251198  3.678987  1.694045  7.956879  \n",
       "14   4.777835  1.459854  4.562044  4.014599  1.094891  6.751825  \n",
       "15  17.036515  8.333333  2.777778  7.638889  1.388889  4.166667  \n",
       "16   2.187908  2.049780  4.831625  3.074671  0.976086  6.637384  \n",
       "17  18.438773  3.416624  2.549720  3.671596  1.784804  7.088220  \n",
       "18   8.852957  2.690583  2.690583  2.914798  3.363229  3.587444  "
      ]
     },
     "execution_count": 36,
     "metadata": {},
     "output_type": "execute_result"
    }
   ],
   "source": [
    "votos_tweets"
   ]
  },
  {
   "cell_type": "code",
   "execution_count": null,
   "metadata": {
    "id": "fi3Va__WAse1"
   },
   "outputs": [],
   "source": []
  },
  {
   "cell_type": "code",
   "execution_count": null,
   "metadata": {
    "id": "fSFWGhtIArt7"
   },
   "outputs": [],
   "source": []
  },
  {
   "cell_type": "code",
   "execution_count": null,
   "metadata": {
    "id": "gXSwWh-2ArsN"
   },
   "outputs": [],
   "source": []
  },
  {
   "cell_type": "markdown",
   "metadata": {
    "id": "1pY81HRBG3CY"
   },
   "source": [
    "## Correlación dif. PSOE-PP y positividad de tweets"
   ]
  },
  {
   "cell_type": "markdown",
   "metadata": {
    "id": "or-xNdOJAtS2"
   },
   "source": [
    "Con el dataset completo, ya podemos comenzar a analizar. Lo primero es definir nuestra variable objetivo, que será la diferencia de voto entre PSOE y PP."
   ]
  },
  {
   "cell_type": "code",
   "execution_count": 37,
   "metadata": {
    "executionInfo": {
     "elapsed": 263,
     "status": "ok",
     "timestamp": 1631276367475,
     "user": {
      "displayName": "Guillermo Barrio",
      "photoUrl": "https://lh3.googleusercontent.com/a/default-user=s64",
      "userId": "06925154007558381895"
     },
     "user_tz": -120
    },
    "id": "_vzgC3Mpn5QX"
   },
   "outputs": [],
   "source": [
    "votos_tweets['dif_PSOE_PP'] = votos_tweets['%PSOE'] - votos_tweets['%PP']"
   ]
  },
  {
   "cell_type": "code",
   "execution_count": 38,
   "metadata": {
    "colab": {
     "base_uri": "https://localhost:8080/",
     "height": 638
    },
    "executionInfo": {
     "elapsed": 413,
     "status": "ok",
     "timestamp": 1631276369130,
     "user": {
      "displayName": "Guillermo Barrio",
      "photoUrl": "https://lh3.googleusercontent.com/a/default-user=s64",
      "userId": "06925154007558381895"
     },
     "user_tz": -120
    },
    "id": "yuRp8YRIn5N_",
    "outputId": "41e8f61a-9910-4b0a-e5c5-aaf0dae04033"
   },
   "outputs": [
    {
     "data": {
      "text/html": [
       "<div>\n",
       "<style scoped>\n",
       "    .dataframe tbody tr th:only-of-type {\n",
       "        vertical-align: middle;\n",
       "    }\n",
       "\n",
       "    .dataframe tbody tr th {\n",
       "        vertical-align: top;\n",
       "    }\n",
       "\n",
       "    .dataframe thead th {\n",
       "        text-align: right;\n",
       "    }\n",
       "</style>\n",
       "<table border=\"1\" class=\"dataframe\">\n",
       "  <thead>\n",
       "    <tr style=\"text-align: right;\">\n",
       "      <th></th>\n",
       "      <th>CCAA</th>\n",
       "      <th>%PP</th>\n",
       "      <th>%PSOE</th>\n",
       "      <th>%Cs</th>\n",
       "      <th>%UP</th>\n",
       "      <th>%VOX</th>\n",
       "      <th>%posPP</th>\n",
       "      <th>%posUP</th>\n",
       "      <th>%posPSOE</th>\n",
       "      <th>%posCs</th>\n",
       "      <th>%posVOX</th>\n",
       "      <th>dif_PSOE_PP</th>\n",
       "    </tr>\n",
       "  </thead>\n",
       "  <tbody>\n",
       "    <tr>\n",
       "      <th>0</th>\n",
       "      <td>baleares</td>\n",
       "      <td>16.668101</td>\n",
       "      <td>26.080464</td>\n",
       "      <td>17.247267</td>\n",
       "      <td>17.642301</td>\n",
       "      <td>11.173955</td>\n",
       "      <td>3.081943</td>\n",
       "      <td>2.973169</td>\n",
       "      <td>3.408267</td>\n",
       "      <td>1.740392</td>\n",
       "      <td>6.490210</td>\n",
       "      <td>9.412363</td>\n",
       "    </tr>\n",
       "    <tr>\n",
       "      <th>1</th>\n",
       "      <td>andalucia</td>\n",
       "      <td>16.964709</td>\n",
       "      <td>33.782213</td>\n",
       "      <td>17.471376</td>\n",
       "      <td>14.070037</td>\n",
       "      <td>13.201167</td>\n",
       "      <td>2.000161</td>\n",
       "      <td>3.330914</td>\n",
       "      <td>4.201952</td>\n",
       "      <td>1.459795</td>\n",
       "      <td>7.645778</td>\n",
       "      <td>16.817504</td>\n",
       "    </tr>\n",
       "    <tr>\n",
       "      <th>2</th>\n",
       "      <td>aragon</td>\n",
       "      <td>18.726495</td>\n",
       "      <td>31.390344</td>\n",
       "      <td>20.311623</td>\n",
       "      <td>13.413534</td>\n",
       "      <td>12.073885</td>\n",
       "      <td>1.121705</td>\n",
       "      <td>3.982053</td>\n",
       "      <td>3.309030</td>\n",
       "      <td>1.738643</td>\n",
       "      <td>7.795850</td>\n",
       "      <td>12.663850</td>\n",
       "    </tr>\n",
       "    <tr>\n",
       "      <th>3</th>\n",
       "      <td>asturias</td>\n",
       "      <td>17.716904</td>\n",
       "      <td>32.766113</td>\n",
       "      <td>16.527142</td>\n",
       "      <td>16.967276</td>\n",
       "      <td>11.369969</td>\n",
       "      <td>2.135417</td>\n",
       "      <td>3.854167</td>\n",
       "      <td>4.114583</td>\n",
       "      <td>0.989583</td>\n",
       "      <td>6.770833</td>\n",
       "      <td>15.049209</td>\n",
       "    </tr>\n",
       "    <tr>\n",
       "      <th>4</th>\n",
       "      <td>extremadura</td>\n",
       "      <td>21.050728</td>\n",
       "      <td>37.457054</td>\n",
       "      <td>17.669229</td>\n",
       "      <td>9.339235</td>\n",
       "      <td>10.598385</td>\n",
       "      <td>2.470265</td>\n",
       "      <td>2.744739</td>\n",
       "      <td>5.489478</td>\n",
       "      <td>1.463861</td>\n",
       "      <td>5.855444</td>\n",
       "      <td>16.406326</td>\n",
       "    </tr>\n",
       "    <tr>\n",
       "      <th>5</th>\n",
       "      <td>canarias</td>\n",
       "      <td>15.346882</td>\n",
       "      <td>27.515326</td>\n",
       "      <td>14.488856</td>\n",
       "      <td>15.530671</td>\n",
       "      <td>6.473119</td>\n",
       "      <td>1.934444</td>\n",
       "      <td>3.868888</td>\n",
       "      <td>4.352499</td>\n",
       "      <td>1.289629</td>\n",
       "      <td>6.072004</td>\n",
       "      <td>12.168444</td>\n",
       "    </tr>\n",
       "    <tr>\n",
       "      <th>6</th>\n",
       "      <td>cantabria</td>\n",
       "      <td>21.474449</td>\n",
       "      <td>24.929582</td>\n",
       "      <td>14.977414</td>\n",
       "      <td>10.114192</td>\n",
       "      <td>11.060027</td>\n",
       "      <td>2.150538</td>\n",
       "      <td>2.822581</td>\n",
       "      <td>3.091398</td>\n",
       "      <td>1.612903</td>\n",
       "      <td>7.258065</td>\n",
       "      <td>3.455133</td>\n",
       "    </tr>\n",
       "    <tr>\n",
       "      <th>7</th>\n",
       "      <td>castillaleon</td>\n",
       "      <td>25.708589</td>\n",
       "      <td>29.382885</td>\n",
       "      <td>18.652369</td>\n",
       "      <td>10.252079</td>\n",
       "      <td>12.132890</td>\n",
       "      <td>3.197320</td>\n",
       "      <td>3.166870</td>\n",
       "      <td>4.293544</td>\n",
       "      <td>2.131547</td>\n",
       "      <td>5.694275</td>\n",
       "      <td>3.674295</td>\n",
       "    </tr>\n",
       "    <tr>\n",
       "      <th>8</th>\n",
       "      <td>castillalamancha</td>\n",
       "      <td>22.373185</td>\n",
       "      <td>31.924142</td>\n",
       "      <td>17.231675</td>\n",
       "      <td>10.007092</td>\n",
       "      <td>15.077684</td>\n",
       "      <td>2.846117</td>\n",
       "      <td>3.135552</td>\n",
       "      <td>3.762663</td>\n",
       "      <td>2.074288</td>\n",
       "      <td>6.415822</td>\n",
       "      <td>9.550956</td>\n",
       "    </tr>\n",
       "    <tr>\n",
       "      <th>9</th>\n",
       "      <td>catalunya</td>\n",
       "      <td>4.822832</td>\n",
       "      <td>23.109454</td>\n",
       "      <td>11.500276</td>\n",
       "      <td>14.781510</td>\n",
       "      <td>3.571182</td>\n",
       "      <td>2.589458</td>\n",
       "      <td>3.301768</td>\n",
       "      <td>3.301768</td>\n",
       "      <td>2.497276</td>\n",
       "      <td>7.156624</td>\n",
       "      <td>18.286623</td>\n",
       "    </tr>\n",
       "    <tr>\n",
       "      <th>10</th>\n",
       "      <td>ceuta</td>\n",
       "      <td>21.185645</td>\n",
       "      <td>35.903187</td>\n",
       "      <td>11.814720</td>\n",
       "      <td>4.751969</td>\n",
       "      <td>23.678994</td>\n",
       "      <td>0.943396</td>\n",
       "      <td>1.886792</td>\n",
       "      <td>2.830189</td>\n",
       "      <td>0.943396</td>\n",
       "      <td>8.490566</td>\n",
       "      <td>14.717542</td>\n",
       "    </tr>\n",
       "    <tr>\n",
       "      <th>11</th>\n",
       "      <td>galicia</td>\n",
       "      <td>27.002198</td>\n",
       "      <td>31.669312</td>\n",
       "      <td>11.024555</td>\n",
       "      <td>15.343854</td>\n",
       "      <td>5.198580</td>\n",
       "      <td>2.219287</td>\n",
       "      <td>3.355350</td>\n",
       "      <td>4.042272</td>\n",
       "      <td>1.136063</td>\n",
       "      <td>7.107001</td>\n",
       "      <td>4.667114</td>\n",
       "    </tr>\n",
       "    <tr>\n",
       "      <th>12</th>\n",
       "      <td>madrid</td>\n",
       "      <td>18.502997</td>\n",
       "      <td>27.054690</td>\n",
       "      <td>20.759176</td>\n",
       "      <td>16.093949</td>\n",
       "      <td>13.741137</td>\n",
       "      <td>2.370130</td>\n",
       "      <td>3.668831</td>\n",
       "      <td>3.501082</td>\n",
       "      <td>1.774892</td>\n",
       "      <td>6.877706</td>\n",
       "      <td>8.551693</td>\n",
       "    </tr>\n",
       "    <tr>\n",
       "      <th>13</th>\n",
       "      <td>comunidadvalenciana</td>\n",
       "      <td>18.380046</td>\n",
       "      <td>27.474789</td>\n",
       "      <td>17.787426</td>\n",
       "      <td>14.074966</td>\n",
       "      <td>11.891171</td>\n",
       "      <td>2.224504</td>\n",
       "      <td>3.251198</td>\n",
       "      <td>3.678987</td>\n",
       "      <td>1.694045</td>\n",
       "      <td>7.956879</td>\n",
       "      <td>9.094742</td>\n",
       "    </tr>\n",
       "    <tr>\n",
       "      <th>14</th>\n",
       "      <td>navarra</td>\n",
       "      <td>29.014825</td>\n",
       "      <td>25.510141</td>\n",
       "      <td>0.000000</td>\n",
       "      <td>18.463118</td>\n",
       "      <td>4.777835</td>\n",
       "      <td>1.459854</td>\n",
       "      <td>4.562044</td>\n",
       "      <td>4.014599</td>\n",
       "      <td>1.094891</td>\n",
       "      <td>6.751825</td>\n",
       "      <td>-3.504685</td>\n",
       "    </tr>\n",
       "    <tr>\n",
       "      <th>15</th>\n",
       "      <td>melilla</td>\n",
       "      <td>23.731948</td>\n",
       "      <td>20.506047</td>\n",
       "      <td>12.771516</td>\n",
       "      <td>3.789480</td>\n",
       "      <td>17.036515</td>\n",
       "      <td>8.333333</td>\n",
       "      <td>2.777778</td>\n",
       "      <td>7.638889</td>\n",
       "      <td>1.388889</td>\n",
       "      <td>4.166667</td>\n",
       "      <td>-3.225901</td>\n",
       "    </tr>\n",
       "    <tr>\n",
       "      <th>16</th>\n",
       "      <td>euskadi</td>\n",
       "      <td>7.384745</td>\n",
       "      <td>19.747420</td>\n",
       "      <td>3.122134</td>\n",
       "      <td>17.464199</td>\n",
       "      <td>2.187908</td>\n",
       "      <td>2.049780</td>\n",
       "      <td>4.831625</td>\n",
       "      <td>3.074671</td>\n",
       "      <td>0.976086</td>\n",
       "      <td>6.637384</td>\n",
       "      <td>12.362675</td>\n",
       "    </tr>\n",
       "    <tr>\n",
       "      <th>17</th>\n",
       "      <td>murcia</td>\n",
       "      <td>23.197117</td>\n",
       "      <td>24.498246</td>\n",
       "      <td>19.340151</td>\n",
       "      <td>10.275571</td>\n",
       "      <td>18.438773</td>\n",
       "      <td>3.416624</td>\n",
       "      <td>2.549720</td>\n",
       "      <td>3.671596</td>\n",
       "      <td>1.784804</td>\n",
       "      <td>7.088220</td>\n",
       "      <td>1.301130</td>\n",
       "    </tr>\n",
       "    <tr>\n",
       "      <th>18</th>\n",
       "      <td>larioja</td>\n",
       "      <td>26.162166</td>\n",
       "      <td>31.265068</td>\n",
       "      <td>17.568382</td>\n",
       "      <td>11.623855</td>\n",
       "      <td>8.852957</td>\n",
       "      <td>2.690583</td>\n",
       "      <td>2.690583</td>\n",
       "      <td>2.914798</td>\n",
       "      <td>3.363229</td>\n",
       "      <td>3.587444</td>\n",
       "      <td>5.102902</td>\n",
       "    </tr>\n",
       "  </tbody>\n",
       "</table>\n",
       "</div>"
      ],
      "text/plain": [
       "                   CCAA        %PP      %PSOE        %Cs        %UP  \\\n",
       "0              baleares  16.668101  26.080464  17.247267  17.642301   \n",
       "1             andalucia  16.964709  33.782213  17.471376  14.070037   \n",
       "2                aragon  18.726495  31.390344  20.311623  13.413534   \n",
       "3              asturias  17.716904  32.766113  16.527142  16.967276   \n",
       "4           extremadura  21.050728  37.457054  17.669229   9.339235   \n",
       "5              canarias  15.346882  27.515326  14.488856  15.530671   \n",
       "6             cantabria  21.474449  24.929582  14.977414  10.114192   \n",
       "7          castillaleon  25.708589  29.382885  18.652369  10.252079   \n",
       "8      castillalamancha  22.373185  31.924142  17.231675  10.007092   \n",
       "9             catalunya   4.822832  23.109454  11.500276  14.781510   \n",
       "10                ceuta  21.185645  35.903187  11.814720   4.751969   \n",
       "11              galicia  27.002198  31.669312  11.024555  15.343854   \n",
       "12               madrid  18.502997  27.054690  20.759176  16.093949   \n",
       "13  comunidadvalenciana  18.380046  27.474789  17.787426  14.074966   \n",
       "14              navarra  29.014825  25.510141   0.000000  18.463118   \n",
       "15              melilla  23.731948  20.506047  12.771516   3.789480   \n",
       "16              euskadi   7.384745  19.747420   3.122134  17.464199   \n",
       "17               murcia  23.197117  24.498246  19.340151  10.275571   \n",
       "18              larioja  26.162166  31.265068  17.568382  11.623855   \n",
       "\n",
       "         %VOX    %posPP    %posUP  %posPSOE    %posCs   %posVOX  dif_PSOE_PP  \n",
       "0   11.173955  3.081943  2.973169  3.408267  1.740392  6.490210     9.412363  \n",
       "1   13.201167  2.000161  3.330914  4.201952  1.459795  7.645778    16.817504  \n",
       "2   12.073885  1.121705  3.982053  3.309030  1.738643  7.795850    12.663850  \n",
       "3   11.369969  2.135417  3.854167  4.114583  0.989583  6.770833    15.049209  \n",
       "4   10.598385  2.470265  2.744739  5.489478  1.463861  5.855444    16.406326  \n",
       "5    6.473119  1.934444  3.868888  4.352499  1.289629  6.072004    12.168444  \n",
       "6   11.060027  2.150538  2.822581  3.091398  1.612903  7.258065     3.455133  \n",
       "7   12.132890  3.197320  3.166870  4.293544  2.131547  5.694275     3.674295  \n",
       "8   15.077684  2.846117  3.135552  3.762663  2.074288  6.415822     9.550956  \n",
       "9    3.571182  2.589458  3.301768  3.301768  2.497276  7.156624    18.286623  \n",
       "10  23.678994  0.943396  1.886792  2.830189  0.943396  8.490566    14.717542  \n",
       "11   5.198580  2.219287  3.355350  4.042272  1.136063  7.107001     4.667114  \n",
       "12  13.741137  2.370130  3.668831  3.501082  1.774892  6.877706     8.551693  \n",
       "13  11.891171  2.224504  3.251198  3.678987  1.694045  7.956879     9.094742  \n",
       "14   4.777835  1.459854  4.562044  4.014599  1.094891  6.751825    -3.504685  \n",
       "15  17.036515  8.333333  2.777778  7.638889  1.388889  4.166667    -3.225901  \n",
       "16   2.187908  2.049780  4.831625  3.074671  0.976086  6.637384    12.362675  \n",
       "17  18.438773  3.416624  2.549720  3.671596  1.784804  7.088220     1.301130  \n",
       "18   8.852957  2.690583  2.690583  2.914798  3.363229  3.587444     5.102902  "
      ]
     },
     "execution_count": 38,
     "metadata": {},
     "output_type": "execute_result"
    }
   ],
   "source": [
    "votos_tweets"
   ]
  },
  {
   "cell_type": "code",
   "execution_count": null,
   "metadata": {
    "id": "lc4Xgue7n5L5"
   },
   "outputs": [],
   "source": []
  },
  {
   "cell_type": "markdown",
   "metadata": {
    "id": "WmSt3raMA6XM"
   },
   "source": [
    "Obviamente, no vamos a utilizar las columnas de porcentaje de voto, sino solo aquellas de la positividad de los tweets a cada partido."
   ]
  },
  {
   "cell_type": "code",
   "execution_count": 39,
   "metadata": {
    "colab": {
     "base_uri": "https://localhost:8080/"
    },
    "executionInfo": {
     "elapsed": 247,
     "status": "ok",
     "timestamp": 1631276439675,
     "user": {
      "displayName": "Guillermo Barrio",
      "photoUrl": "https://lh3.googleusercontent.com/a/default-user=s64",
      "userId": "06925154007558381895"
     },
     "user_tz": -120
    },
    "id": "qc82T7_ups6_",
    "outputId": "d406632a-1681-4092-b44f-4444d19bcb99"
   },
   "outputs": [
    {
     "data": {
      "text/plain": [
       "Index(['CCAA', '%PP', '%PSOE', '%Cs', '%UP', '%VOX', '%posPP', '%posUP',\n",
       "       '%posPSOE', '%posCs', '%posVOX', 'dif_PSOE_PP'],\n",
       "      dtype='object')"
      ]
     },
     "execution_count": 39,
     "metadata": {},
     "output_type": "execute_result"
    }
   ],
   "source": [
    "votos_tweets.columns"
   ]
  },
  {
   "cell_type": "code",
   "execution_count": 40,
   "metadata": {
    "executionInfo": {
     "elapsed": 241,
     "status": "ok",
     "timestamp": 1631276474794,
     "user": {
      "displayName": "Guillermo Barrio",
      "photoUrl": "https://lh3.googleusercontent.com/a/default-user=s64",
      "userId": "06925154007558381895"
     },
     "user_tz": -120
    },
    "id": "oRbupV65n5Ik"
   },
   "outputs": [],
   "source": [
    "votos_tweets_model = votos_tweets[[ '%posPP', '%posUP',\n",
    "       '%posPSOE', '%posCs', '%posVOX', 'dif_PSOE_PP']]"
   ]
  },
  {
   "cell_type": "code",
   "execution_count": 41,
   "metadata": {
    "colab": {
     "base_uri": "https://localhost:8080/",
     "height": 638
    },
    "executionInfo": {
     "elapsed": 293,
     "status": "ok",
     "timestamp": 1631276482407,
     "user": {
      "displayName": "Guillermo Barrio",
      "photoUrl": "https://lh3.googleusercontent.com/a/default-user=s64",
      "userId": "06925154007558381895"
     },
     "user_tz": -120
    },
    "id": "F8YNmOrNn5GE",
    "outputId": "43f3217c-71a1-412b-ef24-907a17756efd"
   },
   "outputs": [
    {
     "data": {
      "text/html": [
       "<div>\n",
       "<style scoped>\n",
       "    .dataframe tbody tr th:only-of-type {\n",
       "        vertical-align: middle;\n",
       "    }\n",
       "\n",
       "    .dataframe tbody tr th {\n",
       "        vertical-align: top;\n",
       "    }\n",
       "\n",
       "    .dataframe thead th {\n",
       "        text-align: right;\n",
       "    }\n",
       "</style>\n",
       "<table border=\"1\" class=\"dataframe\">\n",
       "  <thead>\n",
       "    <tr style=\"text-align: right;\">\n",
       "      <th></th>\n",
       "      <th>%posPP</th>\n",
       "      <th>%posUP</th>\n",
       "      <th>%posPSOE</th>\n",
       "      <th>%posCs</th>\n",
       "      <th>%posVOX</th>\n",
       "      <th>dif_PSOE_PP</th>\n",
       "    </tr>\n",
       "  </thead>\n",
       "  <tbody>\n",
       "    <tr>\n",
       "      <th>0</th>\n",
       "      <td>3.081943</td>\n",
       "      <td>2.973169</td>\n",
       "      <td>3.408267</td>\n",
       "      <td>1.740392</td>\n",
       "      <td>6.490210</td>\n",
       "      <td>9.412363</td>\n",
       "    </tr>\n",
       "    <tr>\n",
       "      <th>1</th>\n",
       "      <td>2.000161</td>\n",
       "      <td>3.330914</td>\n",
       "      <td>4.201952</td>\n",
       "      <td>1.459795</td>\n",
       "      <td>7.645778</td>\n",
       "      <td>16.817504</td>\n",
       "    </tr>\n",
       "    <tr>\n",
       "      <th>2</th>\n",
       "      <td>1.121705</td>\n",
       "      <td>3.982053</td>\n",
       "      <td>3.309030</td>\n",
       "      <td>1.738643</td>\n",
       "      <td>7.795850</td>\n",
       "      <td>12.663850</td>\n",
       "    </tr>\n",
       "    <tr>\n",
       "      <th>3</th>\n",
       "      <td>2.135417</td>\n",
       "      <td>3.854167</td>\n",
       "      <td>4.114583</td>\n",
       "      <td>0.989583</td>\n",
       "      <td>6.770833</td>\n",
       "      <td>15.049209</td>\n",
       "    </tr>\n",
       "    <tr>\n",
       "      <th>4</th>\n",
       "      <td>2.470265</td>\n",
       "      <td>2.744739</td>\n",
       "      <td>5.489478</td>\n",
       "      <td>1.463861</td>\n",
       "      <td>5.855444</td>\n",
       "      <td>16.406326</td>\n",
       "    </tr>\n",
       "    <tr>\n",
       "      <th>5</th>\n",
       "      <td>1.934444</td>\n",
       "      <td>3.868888</td>\n",
       "      <td>4.352499</td>\n",
       "      <td>1.289629</td>\n",
       "      <td>6.072004</td>\n",
       "      <td>12.168444</td>\n",
       "    </tr>\n",
       "    <tr>\n",
       "      <th>6</th>\n",
       "      <td>2.150538</td>\n",
       "      <td>2.822581</td>\n",
       "      <td>3.091398</td>\n",
       "      <td>1.612903</td>\n",
       "      <td>7.258065</td>\n",
       "      <td>3.455133</td>\n",
       "    </tr>\n",
       "    <tr>\n",
       "      <th>7</th>\n",
       "      <td>3.197320</td>\n",
       "      <td>3.166870</td>\n",
       "      <td>4.293544</td>\n",
       "      <td>2.131547</td>\n",
       "      <td>5.694275</td>\n",
       "      <td>3.674295</td>\n",
       "    </tr>\n",
       "    <tr>\n",
       "      <th>8</th>\n",
       "      <td>2.846117</td>\n",
       "      <td>3.135552</td>\n",
       "      <td>3.762663</td>\n",
       "      <td>2.074288</td>\n",
       "      <td>6.415822</td>\n",
       "      <td>9.550956</td>\n",
       "    </tr>\n",
       "    <tr>\n",
       "      <th>9</th>\n",
       "      <td>2.589458</td>\n",
       "      <td>3.301768</td>\n",
       "      <td>3.301768</td>\n",
       "      <td>2.497276</td>\n",
       "      <td>7.156624</td>\n",
       "      <td>18.286623</td>\n",
       "    </tr>\n",
       "    <tr>\n",
       "      <th>10</th>\n",
       "      <td>0.943396</td>\n",
       "      <td>1.886792</td>\n",
       "      <td>2.830189</td>\n",
       "      <td>0.943396</td>\n",
       "      <td>8.490566</td>\n",
       "      <td>14.717542</td>\n",
       "    </tr>\n",
       "    <tr>\n",
       "      <th>11</th>\n",
       "      <td>2.219287</td>\n",
       "      <td>3.355350</td>\n",
       "      <td>4.042272</td>\n",
       "      <td>1.136063</td>\n",
       "      <td>7.107001</td>\n",
       "      <td>4.667114</td>\n",
       "    </tr>\n",
       "    <tr>\n",
       "      <th>12</th>\n",
       "      <td>2.370130</td>\n",
       "      <td>3.668831</td>\n",
       "      <td>3.501082</td>\n",
       "      <td>1.774892</td>\n",
       "      <td>6.877706</td>\n",
       "      <td>8.551693</td>\n",
       "    </tr>\n",
       "    <tr>\n",
       "      <th>13</th>\n",
       "      <td>2.224504</td>\n",
       "      <td>3.251198</td>\n",
       "      <td>3.678987</td>\n",
       "      <td>1.694045</td>\n",
       "      <td>7.956879</td>\n",
       "      <td>9.094742</td>\n",
       "    </tr>\n",
       "    <tr>\n",
       "      <th>14</th>\n",
       "      <td>1.459854</td>\n",
       "      <td>4.562044</td>\n",
       "      <td>4.014599</td>\n",
       "      <td>1.094891</td>\n",
       "      <td>6.751825</td>\n",
       "      <td>-3.504685</td>\n",
       "    </tr>\n",
       "    <tr>\n",
       "      <th>15</th>\n",
       "      <td>8.333333</td>\n",
       "      <td>2.777778</td>\n",
       "      <td>7.638889</td>\n",
       "      <td>1.388889</td>\n",
       "      <td>4.166667</td>\n",
       "      <td>-3.225901</td>\n",
       "    </tr>\n",
       "    <tr>\n",
       "      <th>16</th>\n",
       "      <td>2.049780</td>\n",
       "      <td>4.831625</td>\n",
       "      <td>3.074671</td>\n",
       "      <td>0.976086</td>\n",
       "      <td>6.637384</td>\n",
       "      <td>12.362675</td>\n",
       "    </tr>\n",
       "    <tr>\n",
       "      <th>17</th>\n",
       "      <td>3.416624</td>\n",
       "      <td>2.549720</td>\n",
       "      <td>3.671596</td>\n",
       "      <td>1.784804</td>\n",
       "      <td>7.088220</td>\n",
       "      <td>1.301130</td>\n",
       "    </tr>\n",
       "    <tr>\n",
       "      <th>18</th>\n",
       "      <td>2.690583</td>\n",
       "      <td>2.690583</td>\n",
       "      <td>2.914798</td>\n",
       "      <td>3.363229</td>\n",
       "      <td>3.587444</td>\n",
       "      <td>5.102902</td>\n",
       "    </tr>\n",
       "  </tbody>\n",
       "</table>\n",
       "</div>"
      ],
      "text/plain": [
       "      %posPP    %posUP  %posPSOE    %posCs   %posVOX  dif_PSOE_PP\n",
       "0   3.081943  2.973169  3.408267  1.740392  6.490210     9.412363\n",
       "1   2.000161  3.330914  4.201952  1.459795  7.645778    16.817504\n",
       "2   1.121705  3.982053  3.309030  1.738643  7.795850    12.663850\n",
       "3   2.135417  3.854167  4.114583  0.989583  6.770833    15.049209\n",
       "4   2.470265  2.744739  5.489478  1.463861  5.855444    16.406326\n",
       "5   1.934444  3.868888  4.352499  1.289629  6.072004    12.168444\n",
       "6   2.150538  2.822581  3.091398  1.612903  7.258065     3.455133\n",
       "7   3.197320  3.166870  4.293544  2.131547  5.694275     3.674295\n",
       "8   2.846117  3.135552  3.762663  2.074288  6.415822     9.550956\n",
       "9   2.589458  3.301768  3.301768  2.497276  7.156624    18.286623\n",
       "10  0.943396  1.886792  2.830189  0.943396  8.490566    14.717542\n",
       "11  2.219287  3.355350  4.042272  1.136063  7.107001     4.667114\n",
       "12  2.370130  3.668831  3.501082  1.774892  6.877706     8.551693\n",
       "13  2.224504  3.251198  3.678987  1.694045  7.956879     9.094742\n",
       "14  1.459854  4.562044  4.014599  1.094891  6.751825    -3.504685\n",
       "15  8.333333  2.777778  7.638889  1.388889  4.166667    -3.225901\n",
       "16  2.049780  4.831625  3.074671  0.976086  6.637384    12.362675\n",
       "17  3.416624  2.549720  3.671596  1.784804  7.088220     1.301130\n",
       "18  2.690583  2.690583  2.914798  3.363229  3.587444     5.102902"
      ]
     },
     "execution_count": 41,
     "metadata": {},
     "output_type": "execute_result"
    }
   ],
   "source": [
    "votos_tweets_model"
   ]
  },
  {
   "cell_type": "code",
   "execution_count": null,
   "metadata": {
    "id": "dohaaCzvn5C0"
   },
   "outputs": [],
   "source": []
  },
  {
   "cell_type": "code",
   "execution_count": null,
   "metadata": {
    "id": "SpI20kPFBF5Y"
   },
   "outputs": [],
   "source": []
  },
  {
   "cell_type": "markdown",
   "metadata": {
    "id": "bpt_nQkTBGhA"
   },
   "source": [
    "Ya podemos proceder a dividir nuestro dataset en train y test. Como las filas son las CCAA, solo tenemos 19, con lo que el train trandrá unos 14 elementos, y el test 5. Nos quedamos con el train."
   ]
  },
  {
   "cell_type": "code",
   "execution_count": 42,
   "metadata": {
    "colab": {
     "base_uri": "https://localhost:8080/"
    },
    "executionInfo": {
     "elapsed": 513,
     "status": "ok",
     "timestamp": 1631279114693,
     "user": {
      "displayName": "Guillermo Barrio",
      "photoUrl": "https://lh3.googleusercontent.com/a/default-user=s64",
      "userId": "06925154007558381895"
     },
     "user_tz": -120
    },
    "id": "SWHYYNOIn4_o",
    "outputId": "993e51b3-e418-48c6-9e4e-5d48b6efd88b"
   },
   "outputs": [
    {
     "name": "stdout",
     "output_type": "stream",
     "text": [
      "Dimensiones del dataset de training: (14, 6)\n",
      "Dimensiones del dataset de test: (5, 6)\n"
     ]
    }
   ],
   "source": [
    "from sklearn.model_selection import train_test_split\n",
    "\n",
    "train, test = train_test_split(votos_tweets_model, test_size=0.25, shuffle=True, random_state=1)\n",
    "\n",
    "print(f'Dimensiones del dataset de training: {train.shape}')\n",
    "print(f'Dimensiones del dataset de test: {test.shape}')\n",
    "\n",
    "# Guardamos\n",
    "train.to_csv('train_twitter.csv', index=False)\n",
    "test.to_csv('test_twitter.csv', index=False)\n",
    "\n",
    "# A partir de este momento cargamos el dataset de train y trabajamos ÚNICAMENTE con él. \n",
    "\n",
    "df_train = pd.read_csv('train_twitter.csv')"
   ]
  },
  {
   "cell_type": "code",
   "execution_count": null,
   "metadata": {
    "id": "80UCN2sFn48F"
   },
   "outputs": [],
   "source": []
  },
  {
   "cell_type": "code",
   "execution_count": 43,
   "metadata": {
    "colab": {
     "base_uri": "https://localhost:8080/",
     "height": 483
    },
    "executionInfo": {
     "elapsed": 273,
     "status": "ok",
     "timestamp": 1631279118127,
     "user": {
      "displayName": "Guillermo Barrio",
      "photoUrl": "https://lh3.googleusercontent.com/a/default-user=s64",
      "userId": "06925154007558381895"
     },
     "user_tz": -120
    },
    "id": "jf4yMriIqOQM",
    "outputId": "a4e56655-9d06-4209-f28f-fb2a9b696aac"
   },
   "outputs": [
    {
     "data": {
      "text/html": [
       "<div>\n",
       "<style scoped>\n",
       "    .dataframe tbody tr th:only-of-type {\n",
       "        vertical-align: middle;\n",
       "    }\n",
       "\n",
       "    .dataframe tbody tr th {\n",
       "        vertical-align: top;\n",
       "    }\n",
       "\n",
       "    .dataframe thead th {\n",
       "        text-align: right;\n",
       "    }\n",
       "</style>\n",
       "<table border=\"1\" class=\"dataframe\">\n",
       "  <thead>\n",
       "    <tr style=\"text-align: right;\">\n",
       "      <th></th>\n",
       "      <th>%posPP</th>\n",
       "      <th>%posUP</th>\n",
       "      <th>%posPSOE</th>\n",
       "      <th>%posCs</th>\n",
       "      <th>%posVOX</th>\n",
       "      <th>dif_PSOE_PP</th>\n",
       "    </tr>\n",
       "  </thead>\n",
       "  <tbody>\n",
       "    <tr>\n",
       "      <th>0</th>\n",
       "      <td>1.459854</td>\n",
       "      <td>4.562044</td>\n",
       "      <td>4.014599</td>\n",
       "      <td>1.094891</td>\n",
       "      <td>6.751825</td>\n",
       "      <td>-3.504685</td>\n",
       "    </tr>\n",
       "    <tr>\n",
       "      <th>1</th>\n",
       "      <td>2.470265</td>\n",
       "      <td>2.744739</td>\n",
       "      <td>5.489478</td>\n",
       "      <td>1.463861</td>\n",
       "      <td>5.855444</td>\n",
       "      <td>16.406326</td>\n",
       "    </tr>\n",
       "    <tr>\n",
       "      <th>2</th>\n",
       "      <td>2.049780</td>\n",
       "      <td>4.831625</td>\n",
       "      <td>3.074671</td>\n",
       "      <td>0.976086</td>\n",
       "      <td>6.637384</td>\n",
       "      <td>12.362675</td>\n",
       "    </tr>\n",
       "    <tr>\n",
       "      <th>3</th>\n",
       "      <td>3.197320</td>\n",
       "      <td>3.166870</td>\n",
       "      <td>4.293544</td>\n",
       "      <td>2.131547</td>\n",
       "      <td>5.694275</td>\n",
       "      <td>3.674295</td>\n",
       "    </tr>\n",
       "    <tr>\n",
       "      <th>4</th>\n",
       "      <td>2.000161</td>\n",
       "      <td>3.330914</td>\n",
       "      <td>4.201952</td>\n",
       "      <td>1.459795</td>\n",
       "      <td>7.645778</td>\n",
       "      <td>16.817504</td>\n",
       "    </tr>\n",
       "    <tr>\n",
       "      <th>5</th>\n",
       "      <td>2.224504</td>\n",
       "      <td>3.251198</td>\n",
       "      <td>3.678987</td>\n",
       "      <td>1.694045</td>\n",
       "      <td>7.956879</td>\n",
       "      <td>9.094742</td>\n",
       "    </tr>\n",
       "    <tr>\n",
       "      <th>6</th>\n",
       "      <td>3.081943</td>\n",
       "      <td>2.973169</td>\n",
       "      <td>3.408267</td>\n",
       "      <td>1.740392</td>\n",
       "      <td>6.490210</td>\n",
       "      <td>9.412363</td>\n",
       "    </tr>\n",
       "    <tr>\n",
       "      <th>7</th>\n",
       "      <td>2.690583</td>\n",
       "      <td>2.690583</td>\n",
       "      <td>2.914798</td>\n",
       "      <td>3.363229</td>\n",
       "      <td>3.587444</td>\n",
       "      <td>5.102902</td>\n",
       "    </tr>\n",
       "    <tr>\n",
       "      <th>8</th>\n",
       "      <td>3.416624</td>\n",
       "      <td>2.549720</td>\n",
       "      <td>3.671596</td>\n",
       "      <td>1.784804</td>\n",
       "      <td>7.088220</td>\n",
       "      <td>1.301130</td>\n",
       "    </tr>\n",
       "    <tr>\n",
       "      <th>9</th>\n",
       "      <td>2.589458</td>\n",
       "      <td>3.301768</td>\n",
       "      <td>3.301768</td>\n",
       "      <td>2.497276</td>\n",
       "      <td>7.156624</td>\n",
       "      <td>18.286623</td>\n",
       "    </tr>\n",
       "    <tr>\n",
       "      <th>10</th>\n",
       "      <td>2.846117</td>\n",
       "      <td>3.135552</td>\n",
       "      <td>3.762663</td>\n",
       "      <td>2.074288</td>\n",
       "      <td>6.415822</td>\n",
       "      <td>9.550956</td>\n",
       "    </tr>\n",
       "    <tr>\n",
       "      <th>11</th>\n",
       "      <td>2.370130</td>\n",
       "      <td>3.668831</td>\n",
       "      <td>3.501082</td>\n",
       "      <td>1.774892</td>\n",
       "      <td>6.877706</td>\n",
       "      <td>8.551693</td>\n",
       "    </tr>\n",
       "    <tr>\n",
       "      <th>12</th>\n",
       "      <td>2.219287</td>\n",
       "      <td>3.355350</td>\n",
       "      <td>4.042272</td>\n",
       "      <td>1.136063</td>\n",
       "      <td>7.107001</td>\n",
       "      <td>4.667114</td>\n",
       "    </tr>\n",
       "    <tr>\n",
       "      <th>13</th>\n",
       "      <td>1.934444</td>\n",
       "      <td>3.868888</td>\n",
       "      <td>4.352499</td>\n",
       "      <td>1.289629</td>\n",
       "      <td>6.072004</td>\n",
       "      <td>12.168444</td>\n",
       "    </tr>\n",
       "  </tbody>\n",
       "</table>\n",
       "</div>"
      ],
      "text/plain": [
       "      %posPP    %posUP  %posPSOE    %posCs   %posVOX  dif_PSOE_PP\n",
       "0   1.459854  4.562044  4.014599  1.094891  6.751825    -3.504685\n",
       "1   2.470265  2.744739  5.489478  1.463861  5.855444    16.406326\n",
       "2   2.049780  4.831625  3.074671  0.976086  6.637384    12.362675\n",
       "3   3.197320  3.166870  4.293544  2.131547  5.694275     3.674295\n",
       "4   2.000161  3.330914  4.201952  1.459795  7.645778    16.817504\n",
       "5   2.224504  3.251198  3.678987  1.694045  7.956879     9.094742\n",
       "6   3.081943  2.973169  3.408267  1.740392  6.490210     9.412363\n",
       "7   2.690583  2.690583  2.914798  3.363229  3.587444     5.102902\n",
       "8   3.416624  2.549720  3.671596  1.784804  7.088220     1.301130\n",
       "9   2.589458  3.301768  3.301768  2.497276  7.156624    18.286623\n",
       "10  2.846117  3.135552  3.762663  2.074288  6.415822     9.550956\n",
       "11  2.370130  3.668831  3.501082  1.774892  6.877706     8.551693\n",
       "12  2.219287  3.355350  4.042272  1.136063  7.107001     4.667114\n",
       "13  1.934444  3.868888  4.352499  1.289629  6.072004    12.168444"
      ]
     },
     "execution_count": 43,
     "metadata": {},
     "output_type": "execute_result"
    }
   ],
   "source": [
    "df_train"
   ]
  },
  {
   "cell_type": "code",
   "execution_count": null,
   "metadata": {
    "id": "LsBE3e_dqONQ"
   },
   "outputs": [],
   "source": []
  },
  {
   "cell_type": "markdown",
   "metadata": {
    "id": "euGBZdE7Bd5u"
   },
   "source": [
    "Ahora calculamos las correlaciones entre columnas. No parece muy esperanzador, ya que ninguna parece correlacinada con la objetivo. Curiosa la correlación entra la positividad de los tweets del PP y Cs."
   ]
  },
  {
   "cell_type": "code",
   "execution_count": 44,
   "metadata": {
    "colab": {
     "base_uri": "https://localhost:8080/",
     "height": 592
    },
    "executionInfo": {
     "elapsed": 295,
     "status": "ok",
     "timestamp": 1631279125400,
     "user": {
      "displayName": "Guillermo Barrio",
      "photoUrl": "https://lh3.googleusercontent.com/a/default-user=s64",
      "userId": "06925154007558381895"
     },
     "user_tz": -120
    },
    "id": "AbSotCQZyFO0",
    "outputId": "e75238cf-9883-4b69-ba67-b945b695bda8"
   },
   "outputs": [
    {
     "data": {
      "image/png": "[encoded data removed]",
      "text/plain": [
       "<Figure size 864x720 with 2 Axes>"
      ]
     },
     "metadata": {
      "needs_background": "light"
     },
     "output_type": "display_data"
    }
   ],
   "source": [
    "import seaborn as sns\n",
    "\n",
    "# Compute the correlation matrix\n",
    "corr = np.abs(df_train).corr()\n",
    "\n",
    "# Generate a mask for the upper triangle\n",
    "mask = np.zeros_like(corr, dtype=np.bool)\n",
    "mask[np.triu_indices_from(mask)] = True\n",
    "\n",
    "# Set up the matplotlib figure\n",
    "f, ax = plt.subplots(figsize=(12, 10))\n",
    "\n",
    "# Draw the heatmap with the mask and correct aspect ratio\n",
    "sns.heatmap(corr, mask=mask,vmin = 0.0, vmax=1.0, center=0.5,\n",
    "            linewidths=.1, cmap=\"YlGnBu\", cbar_kws={\"shrink\": .8})\n",
    "\n",
    "plt.show()"
   ]
  },
  {
   "cell_type": "code",
   "execution_count": null,
   "metadata": {
    "id": "o0SpH2c7yFLD"
   },
   "outputs": [],
   "source": []
  },
  {
   "cell_type": "markdown",
   "metadata": {
    "id": "VvJdpSOSBzkN"
   },
   "source": [
    "Ahora simplemente definimos el vector 'y' y la matriz X del dataset de train."
   ]
  },
  {
   "cell_type": "code",
   "execution_count": 45,
   "metadata": {
    "executionInfo": {
     "elapsed": 274,
     "status": "ok",
     "timestamp": 1631279137086,
     "user": {
      "displayName": "Guillermo Barrio",
      "photoUrl": "https://lh3.googleusercontent.com/a/default-user=s64",
      "userId": "06925154007558381895"
     },
     "user_tz": -120
    },
    "id": "yo2xquOCqOHH"
   },
   "outputs": [],
   "source": [
    "y_train = df_train['dif_PSOE_PP'].values"
   ]
  },
  {
   "cell_type": "code",
   "execution_count": 46,
   "metadata": {
    "executionInfo": {
     "elapsed": 2,
     "status": "ok",
     "timestamp": 1631279138768,
     "user": {
      "displayName": "Guillermo Barrio",
      "photoUrl": "https://lh3.googleusercontent.com/a/default-user=s64",
      "userId": "06925154007558381895"
     },
     "user_tz": -120
    },
    "id": "3xNkTqbiqODP"
   },
   "outputs": [],
   "source": [
    "X_train = df_train.drop(columns = ['dif_PSOE_PP']).values"
   ]
  },
  {
   "cell_type": "code",
   "execution_count": 47,
   "metadata": {
    "colab": {
     "base_uri": "https://localhost:8080/"
    },
    "executionInfo": {
     "elapsed": 269,
     "status": "ok",
     "timestamp": 1631279141017,
     "user": {
      "displayName": "Guillermo Barrio",
      "photoUrl": "https://lh3.googleusercontent.com/a/default-user=s64",
      "userId": "06925154007558381895"
     },
     "user_tz": -120
    },
    "id": "7v9JlPNyqOAi",
    "outputId": "b5ea970c-7ae3-468a-cc4f-f1c57ff201a1"
   },
   "outputs": [
    {
     "data": {
      "text/plain": [
       "array([[1.45985401, 4.5620438 , 4.01459854, 1.09489051, 6.75182482],\n",
       "       [2.47026532, 2.74473925, 5.4894785 , 1.46386093, 5.85544373],\n",
       "       [2.04978038, 4.83162518, 3.07467057, 0.9760859 , 6.63738409],\n",
       "       [3.19732034, 3.16686967, 4.29354446, 2.13154689, 5.69427527],\n",
       "       [2.0001613 , 3.33091378, 4.20195177, 1.45979514, 7.64577789],\n",
       "       [2.22450376, 3.25119781, 3.678987  , 1.69404517, 7.95687885],\n",
       "       [3.08194344, 2.97316896, 3.40826686, 1.74039159, 6.4902103 ],\n",
       "       [2.69058296, 2.69058296, 2.91479821, 3.3632287 , 3.58744395],\n",
       "       [3.41662417, 2.54971953, 3.67159612, 1.78480367, 7.0882203 ],\n",
       "       [2.58945781, 3.30176821, 3.30176821, 2.49727646, 7.15662449],\n",
       "       [2.84611674, 3.13555234, 3.76266281, 2.07428847, 6.41582248],\n",
       "       [2.37012987, 3.66883117, 3.50108225, 1.77489177, 6.87770563],\n",
       "       [2.21928666, 3.35535007, 4.04227213, 1.13606341, 7.10700132],\n",
       "       [1.93444385, 3.86888769, 4.35249866, 1.28962923, 6.0720043 ]])"
      ]
     },
     "execution_count": 47,
     "metadata": {},
     "output_type": "execute_result"
    }
   ],
   "source": [
    "X_train"
   ]
  },
  {
   "cell_type": "code",
   "execution_count": null,
   "metadata": {
    "id": "_XN5aJ8yr1Lq"
   },
   "outputs": [],
   "source": []
  },
  {
   "cell_type": "code",
   "execution_count": null,
   "metadata": {
    "id": "HPz5hiYXr1Ii"
   },
   "outputs": [],
   "source": []
  },
  {
   "cell_type": "markdown",
   "metadata": {
    "id": "qDs1m7jLB95m"
   },
   "source": [
    "Ahora vamos con el dataset de test. Lo cierto es que no hemos hecho ninguna transformación al de train, así que a éste tampoco. Definimos 'y' y la matriz X de test."
   ]
  },
  {
   "cell_type": "code",
   "execution_count": 48,
   "metadata": {
    "executionInfo": {
     "elapsed": 376,
     "status": "ok",
     "timestamp": 1631279143785,
     "user": {
      "displayName": "Guillermo Barrio",
      "photoUrl": "https://lh3.googleusercontent.com/a/default-user=s64",
      "userId": "06925154007558381895"
     },
     "user_tz": -120
    },
    "id": "ZHbmdldPr1Gb"
   },
   "outputs": [],
   "source": [
    "df_test = pd.read_csv('test_twitter.csv')"
   ]
  },
  {
   "cell_type": "code",
   "execution_count": 49,
   "metadata": {
    "colab": {
     "base_uri": "https://localhost:8080/",
     "height": 204
    },
    "executionInfo": {
     "elapsed": 6,
     "status": "ok",
     "timestamp": 1631279146107,
     "user": {
      "displayName": "Guillermo Barrio",
      "photoUrl": "https://lh3.googleusercontent.com/a/default-user=s64",
      "userId": "06925154007558381895"
     },
     "user_tz": -120
    },
    "id": "Zrv9EUozv7xN",
    "outputId": "f74ebfce-d250-4fe4-a773-7743c739b368"
   },
   "outputs": [
    {
     "data": {
      "text/html": [
       "<div>\n",
       "<style scoped>\n",
       "    .dataframe tbody tr th:only-of-type {\n",
       "        vertical-align: middle;\n",
       "    }\n",
       "\n",
       "    .dataframe tbody tr th {\n",
       "        vertical-align: top;\n",
       "    }\n",
       "\n",
       "    .dataframe thead th {\n",
       "        text-align: right;\n",
       "    }\n",
       "</style>\n",
       "<table border=\"1\" class=\"dataframe\">\n",
       "  <thead>\n",
       "    <tr style=\"text-align: right;\">\n",
       "      <th></th>\n",
       "      <th>%posPP</th>\n",
       "      <th>%posUP</th>\n",
       "      <th>%posPSOE</th>\n",
       "      <th>%posCs</th>\n",
       "      <th>%posVOX</th>\n",
       "      <th>dif_PSOE_PP</th>\n",
       "    </tr>\n",
       "  </thead>\n",
       "  <tbody>\n",
       "    <tr>\n",
       "      <th>0</th>\n",
       "      <td>2.135417</td>\n",
       "      <td>3.854167</td>\n",
       "      <td>4.114583</td>\n",
       "      <td>0.989583</td>\n",
       "      <td>6.770833</td>\n",
       "      <td>15.049209</td>\n",
       "    </tr>\n",
       "    <tr>\n",
       "      <th>1</th>\n",
       "      <td>8.333333</td>\n",
       "      <td>2.777778</td>\n",
       "      <td>7.638889</td>\n",
       "      <td>1.388889</td>\n",
       "      <td>4.166667</td>\n",
       "      <td>-3.225901</td>\n",
       "    </tr>\n",
       "    <tr>\n",
       "      <th>2</th>\n",
       "      <td>2.150538</td>\n",
       "      <td>2.822581</td>\n",
       "      <td>3.091398</td>\n",
       "      <td>1.612903</td>\n",
       "      <td>7.258065</td>\n",
       "      <td>3.455133</td>\n",
       "    </tr>\n",
       "    <tr>\n",
       "      <th>3</th>\n",
       "      <td>0.943396</td>\n",
       "      <td>1.886792</td>\n",
       "      <td>2.830189</td>\n",
       "      <td>0.943396</td>\n",
       "      <td>8.490566</td>\n",
       "      <td>14.717542</td>\n",
       "    </tr>\n",
       "    <tr>\n",
       "      <th>4</th>\n",
       "      <td>1.121705</td>\n",
       "      <td>3.982053</td>\n",
       "      <td>3.309030</td>\n",
       "      <td>1.738643</td>\n",
       "      <td>7.795850</td>\n",
       "      <td>12.663850</td>\n",
       "    </tr>\n",
       "  </tbody>\n",
       "</table>\n",
       "</div>"
      ],
      "text/plain": [
       "     %posPP    %posUP  %posPSOE    %posCs   %posVOX  dif_PSOE_PP\n",
       "0  2.135417  3.854167  4.114583  0.989583  6.770833    15.049209\n",
       "1  8.333333  2.777778  7.638889  1.388889  4.166667    -3.225901\n",
       "2  2.150538  2.822581  3.091398  1.612903  7.258065     3.455133\n",
       "3  0.943396  1.886792  2.830189  0.943396  8.490566    14.717542\n",
       "4  1.121705  3.982053  3.309030  1.738643  7.795850    12.663850"
      ]
     },
     "execution_count": 49,
     "metadata": {},
     "output_type": "execute_result"
    }
   ],
   "source": [
    "df_test"
   ]
  },
  {
   "cell_type": "code",
   "execution_count": 50,
   "metadata": {
    "executionInfo": {
     "elapsed": 282,
     "status": "ok",
     "timestamp": 1631279148639,
     "user": {
      "displayName": "Guillermo Barrio",
      "photoUrl": "https://lh3.googleusercontent.com/a/default-user=s64",
      "userId": "06925154007558381895"
     },
     "user_tz": -120
    },
    "id": "CZ1NABgFr1C0"
   },
   "outputs": [],
   "source": [
    "y_test = df_test['dif_PSOE_PP'].values"
   ]
  },
  {
   "cell_type": "code",
   "execution_count": 51,
   "metadata": {
    "executionInfo": {
     "elapsed": 272,
     "status": "ok",
     "timestamp": 1631279150798,
     "user": {
      "displayName": "Guillermo Barrio",
      "photoUrl": "https://lh3.googleusercontent.com/a/default-user=s64",
      "userId": "06925154007558381895"
     },
     "user_tz": -120
    },
    "id": "EgdrY8prr1Aw"
   },
   "outputs": [],
   "source": [
    "X_test = df_test.drop(columns = ['dif_PSOE_PP']).values"
   ]
  },
  {
   "cell_type": "code",
   "execution_count": null,
   "metadata": {
    "id": "n4EpTAYzr09c"
   },
   "outputs": [],
   "source": []
  },
  {
   "cell_type": "markdown",
   "metadata": {
    "id": "dxLzXAzOCpTr"
   },
   "source": [
    "Aplicamos por fin un modelo simple de regresión lineal, para lo cual cargamos las librerías necesarias."
   ]
  },
  {
   "cell_type": "code",
   "execution_count": 52,
   "metadata": {
    "executionInfo": {
     "elapsed": 242,
     "status": "ok",
     "timestamp": 1631279153305,
     "user": {
      "displayName": "Guillermo Barrio",
      "photoUrl": "https://lh3.googleusercontent.com/a/default-user=s64",
      "userId": "06925154007558381895"
     },
     "user_tz": -120
    },
    "id": "FDtFI7JCr06N"
   },
   "outputs": [],
   "source": [
    "from sklearn import linear_model\n",
    "from sklearn.metrics import mean_squared_error, r2_score"
   ]
  },
  {
   "cell_type": "code",
   "execution_count": null,
   "metadata": {
    "id": "1Pw9esRor03B"
   },
   "outputs": [],
   "source": []
  },
  {
   "cell_type": "markdown",
   "metadata": {
    "id": "7P05S_7hCzaj"
   },
   "source": [
    "Instanciamos el modelo..."
   ]
  },
  {
   "cell_type": "code",
   "execution_count": 53,
   "metadata": {
    "executionInfo": {
     "elapsed": 452,
     "status": "ok",
     "timestamp": 1631279156143,
     "user": {
      "displayName": "Guillermo Barrio",
      "photoUrl": "https://lh3.googleusercontent.com/a/default-user=s64",
      "userId": "06925154007558381895"
     },
     "user_tz": -120
    },
    "id": "i45uudnCr0zh"
   },
   "outputs": [],
   "source": [
    "regresion_tweets = linear_model.LinearRegression()"
   ]
  },
  {
   "cell_type": "markdown",
   "metadata": {
    "id": "Q-NmkQgIC29A"
   },
   "source": [
    "...hacemos el fit..."
   ]
  },
  {
   "cell_type": "code",
   "execution_count": 54,
   "metadata": {
    "colab": {
     "base_uri": "https://localhost:8080/"
    },
    "executionInfo": {
     "elapsed": 252,
     "status": "ok",
     "timestamp": 1631279157743,
     "user": {
      "displayName": "Guillermo Barrio",
      "photoUrl": "https://lh3.googleusercontent.com/a/default-user=s64",
      "userId": "06925154007558381895"
     },
     "user_tz": -120
    },
    "id": "j4bWOR3OuemJ",
    "outputId": "00a3cbd9-a500-4650-fb38-0d76ba5b36f0"
   },
   "outputs": [
    {
     "data": {
      "text/plain": [
       "LinearRegression()"
      ]
     },
     "execution_count": 54,
     "metadata": {},
     "output_type": "execute_result"
    }
   ],
   "source": [
    "regresion_tweets.fit(X_train, y_train)"
   ]
  },
  {
   "cell_type": "code",
   "execution_count": null,
   "metadata": {
    "id": "13UgMYLNuei4"
   },
   "outputs": [],
   "source": []
  },
  {
   "cell_type": "markdown",
   "metadata": {
    "id": "E5WnsNFWC6Lf"
   },
   "source": [
    "...calculamos las predicciones para el test..."
   ]
  },
  {
   "cell_type": "code",
   "execution_count": 55,
   "metadata": {
    "executionInfo": {
     "elapsed": 248,
     "status": "ok",
     "timestamp": 1631279160322,
     "user": {
      "displayName": "Guillermo Barrio",
      "photoUrl": "https://lh3.googleusercontent.com/a/default-user=s64",
      "userId": "06925154007558381895"
     },
     "user_tz": -120
    },
    "id": "IZoZFGkIueg2"
   },
   "outputs": [],
   "source": [
    "regresion_tweets_pred = regresion_tweets.predict(X_test)"
   ]
  },
  {
   "cell_type": "code",
   "execution_count": 56,
   "metadata": {
    "colab": {
     "base_uri": "https://localhost:8080/"
    },
    "executionInfo": {
     "elapsed": 408,
     "status": "ok",
     "timestamp": 1631279162419,
     "user": {
      "displayName": "Guillermo Barrio",
      "photoUrl": "https://lh3.googleusercontent.com/a/default-user=s64",
      "userId": "06925154007558381895"
     },
     "user_tz": -120
    },
    "id": "pKc-kwlGuee7",
    "outputId": "c3f82bb8-d613-4b4d-d462-0bb6c50d8f57"
   },
   "outputs": [
    {
     "data": {
      "text/plain": [
       "array([ 7.3410872 ,  1.31710127,  7.91377132,  8.5317814 , 13.12412005])"
      ]
     },
     "execution_count": 56,
     "metadata": {},
     "output_type": "execute_result"
    }
   ],
   "source": [
    "regresion_tweets_pred"
   ]
  },
  {
   "cell_type": "code",
   "execution_count": null,
   "metadata": {
    "id": "EZ1gqo31DCio"
   },
   "outputs": [],
   "source": []
  },
  {
   "cell_type": "markdown",
   "metadata": {
    "id": "D-5UIZO7DA-V"
   },
   "source": [
    "Y hallamos las métricas del MSE y el R2. no son maravillosas pero son mejor de lo que esperábamos, sobre todo dada la literatura. \n",
    "\n",
    "Pero sí que llegamos a una conclusión: la diferencia de voto entre PP y PSOE en las elecciones de abril de 2019 NO se explica por la positividad de los tweets previos a estos comicios."
   ]
  },
  {
   "cell_type": "code",
   "execution_count": 57,
   "metadata": {
    "colab": {
     "base_uri": "https://localhost:8080/"
    },
    "executionInfo": {
     "elapsed": 252,
     "status": "ok",
     "timestamp": 1631279165364,
     "user": {
      "displayName": "Guillermo Barrio",
      "photoUrl": "https://lh3.googleusercontent.com/a/default-user=s64",
      "userId": "06925154007558381895"
     },
     "user_tz": -120
    },
    "id": "8925dLz_ueau",
    "outputId": "7459883d-e2fb-4f02-c72a-5ab733903f76"
   },
   "outputs": [
    {
     "name": "stdout",
     "output_type": "stream",
     "text": [
      "Coefficients: \n",
      " [-1.99475815  0.50297586  3.10953812  5.07189012  2.34372093]\n",
      "Mean squared error: 27.68\n",
      "Coefficient of determination: 0.47\n"
     ]
    }
   ],
   "source": [
    "print('Coefficients: \\n', regresion_tweets.coef_)\n",
    "# The mean squared error\n",
    "print('Mean squared error: %.2f'\n",
    "      % mean_squared_error(y_test, regresion_tweets_pred))\n",
    "# The coefficient of determination: 1 is perfect prediction\n",
    "print('Coefficient of determination: %.2f'\n",
    "      % r2_score(y_test, regresion_tweets_pred))\n"
   ]
  },
  {
   "cell_type": "code",
   "execution_count": null,
   "metadata": {
    "id": "HAFmfHxUueXn"
   },
   "outputs": [],
   "source": []
  },
  {
   "cell_type": "code",
   "execution_count": null,
   "metadata": {
    "id": "Pf1N5Si9ueSc"
   },
   "outputs": [],
   "source": []
  },
  {
   "cell_type": "markdown",
   "metadata": {
    "id": "2ESTFcIWHKWI"
   },
   "source": [
    "## Correlación porcentaje de Vox y positividad de tweets"
   ]
  },
  {
   "cell_type": "markdown",
   "metadata": {
    "id": "_TZayvxeDdEm"
   },
   "source": [
    "No nos demos por vencidos. Podemos intentar ver si la positividad de los tweets puede explicar el porcentaje obtenido por Vox en las elecciones."
   ]
  },
  {
   "cell_type": "code",
   "execution_count": 58,
   "metadata": {
    "colab": {
     "base_uri": "https://localhost:8080/",
     "height": 638
    },
    "executionInfo": {
     "elapsed": 268,
     "status": "ok",
     "timestamp": 1631278436859,
     "user": {
      "displayName": "Guillermo Barrio",
      "photoUrl": "https://lh3.googleusercontent.com/a/default-user=s64",
      "userId": "06925154007558381895"
     },
     "user_tz": -120
    },
    "id": "_RO6Xl08wyhh",
    "outputId": "7f239e3f-e5d2-40f8-c659-0da18f35938f"
   },
   "outputs": [
    {
     "data": {
      "text/html": [
       "<div>\n",
       "<style scoped>\n",
       "    .dataframe tbody tr th:only-of-type {\n",
       "        vertical-align: middle;\n",
       "    }\n",
       "\n",
       "    .dataframe tbody tr th {\n",
       "        vertical-align: top;\n",
       "    }\n",
       "\n",
       "    .dataframe thead th {\n",
       "        text-align: right;\n",
       "    }\n",
       "</style>\n",
       "<table border=\"1\" class=\"dataframe\">\n",
       "  <thead>\n",
       "    <tr style=\"text-align: right;\">\n",
       "      <th></th>\n",
       "      <th>CCAA</th>\n",
       "      <th>%PP</th>\n",
       "      <th>%PSOE</th>\n",
       "      <th>%Cs</th>\n",
       "      <th>%UP</th>\n",
       "      <th>%VOX</th>\n",
       "      <th>%posPP</th>\n",
       "      <th>%posUP</th>\n",
       "      <th>%posPSOE</th>\n",
       "      <th>%posCs</th>\n",
       "      <th>%posVOX</th>\n",
       "      <th>dif_PSOE_PP</th>\n",
       "    </tr>\n",
       "  </thead>\n",
       "  <tbody>\n",
       "    <tr>\n",
       "      <th>0</th>\n",
       "      <td>baleares</td>\n",
       "      <td>16.668101</td>\n",
       "      <td>26.080464</td>\n",
       "      <td>17.247267</td>\n",
       "      <td>17.642301</td>\n",
       "      <td>11.173955</td>\n",
       "      <td>3.081943</td>\n",
       "      <td>2.973169</td>\n",
       "      <td>3.408267</td>\n",
       "      <td>1.740392</td>\n",
       "      <td>6.490210</td>\n",
       "      <td>9.412363</td>\n",
       "    </tr>\n",
       "    <tr>\n",
       "      <th>1</th>\n",
       "      <td>andalucia</td>\n",
       "      <td>16.964709</td>\n",
       "      <td>33.782213</td>\n",
       "      <td>17.471376</td>\n",
       "      <td>14.070037</td>\n",
       "      <td>13.201167</td>\n",
       "      <td>2.000161</td>\n",
       "      <td>3.330914</td>\n",
       "      <td>4.201952</td>\n",
       "      <td>1.459795</td>\n",
       "      <td>7.645778</td>\n",
       "      <td>16.817504</td>\n",
       "    </tr>\n",
       "    <tr>\n",
       "      <th>2</th>\n",
       "      <td>aragon</td>\n",
       "      <td>18.726495</td>\n",
       "      <td>31.390344</td>\n",
       "      <td>20.311623</td>\n",
       "      <td>13.413534</td>\n",
       "      <td>12.073885</td>\n",
       "      <td>1.121705</td>\n",
       "      <td>3.982053</td>\n",
       "      <td>3.309030</td>\n",
       "      <td>1.738643</td>\n",
       "      <td>7.795850</td>\n",
       "      <td>12.663850</td>\n",
       "    </tr>\n",
       "    <tr>\n",
       "      <th>3</th>\n",
       "      <td>asturias</td>\n",
       "      <td>17.716904</td>\n",
       "      <td>32.766113</td>\n",
       "      <td>16.527142</td>\n",
       "      <td>16.967276</td>\n",
       "      <td>11.369969</td>\n",
       "      <td>2.135417</td>\n",
       "      <td>3.854167</td>\n",
       "      <td>4.114583</td>\n",
       "      <td>0.989583</td>\n",
       "      <td>6.770833</td>\n",
       "      <td>15.049209</td>\n",
       "    </tr>\n",
       "    <tr>\n",
       "      <th>4</th>\n",
       "      <td>extremadura</td>\n",
       "      <td>21.050728</td>\n",
       "      <td>37.457054</td>\n",
       "      <td>17.669229</td>\n",
       "      <td>9.339235</td>\n",
       "      <td>10.598385</td>\n",
       "      <td>2.470265</td>\n",
       "      <td>2.744739</td>\n",
       "      <td>5.489478</td>\n",
       "      <td>1.463861</td>\n",
       "      <td>5.855444</td>\n",
       "      <td>16.406326</td>\n",
       "    </tr>\n",
       "    <tr>\n",
       "      <th>5</th>\n",
       "      <td>canarias</td>\n",
       "      <td>15.346882</td>\n",
       "      <td>27.515326</td>\n",
       "      <td>14.488856</td>\n",
       "      <td>15.530671</td>\n",
       "      <td>6.473119</td>\n",
       "      <td>1.934444</td>\n",
       "      <td>3.868888</td>\n",
       "      <td>4.352499</td>\n",
       "      <td>1.289629</td>\n",
       "      <td>6.072004</td>\n",
       "      <td>12.168444</td>\n",
       "    </tr>\n",
       "    <tr>\n",
       "      <th>6</th>\n",
       "      <td>cantabria</td>\n",
       "      <td>21.474449</td>\n",
       "      <td>24.929582</td>\n",
       "      <td>14.977414</td>\n",
       "      <td>10.114192</td>\n",
       "      <td>11.060027</td>\n",
       "      <td>2.150538</td>\n",
       "      <td>2.822581</td>\n",
       "      <td>3.091398</td>\n",
       "      <td>1.612903</td>\n",
       "      <td>7.258065</td>\n",
       "      <td>3.455133</td>\n",
       "    </tr>\n",
       "    <tr>\n",
       "      <th>7</th>\n",
       "      <td>castillaleon</td>\n",
       "      <td>25.708589</td>\n",
       "      <td>29.382885</td>\n",
       "      <td>18.652369</td>\n",
       "      <td>10.252079</td>\n",
       "      <td>12.132890</td>\n",
       "      <td>3.197320</td>\n",
       "      <td>3.166870</td>\n",
       "      <td>4.293544</td>\n",
       "      <td>2.131547</td>\n",
       "      <td>5.694275</td>\n",
       "      <td>3.674295</td>\n",
       "    </tr>\n",
       "    <tr>\n",
       "      <th>8</th>\n",
       "      <td>castillalamancha</td>\n",
       "      <td>22.373185</td>\n",
       "      <td>31.924142</td>\n",
       "      <td>17.231675</td>\n",
       "      <td>10.007092</td>\n",
       "      <td>15.077684</td>\n",
       "      <td>2.846117</td>\n",
       "      <td>3.135552</td>\n",
       "      <td>3.762663</td>\n",
       "      <td>2.074288</td>\n",
       "      <td>6.415822</td>\n",
       "      <td>9.550956</td>\n",
       "    </tr>\n",
       "    <tr>\n",
       "      <th>9</th>\n",
       "      <td>catalunya</td>\n",
       "      <td>4.822832</td>\n",
       "      <td>23.109454</td>\n",
       "      <td>11.500276</td>\n",
       "      <td>14.781510</td>\n",
       "      <td>3.571182</td>\n",
       "      <td>2.589458</td>\n",
       "      <td>3.301768</td>\n",
       "      <td>3.301768</td>\n",
       "      <td>2.497276</td>\n",
       "      <td>7.156624</td>\n",
       "      <td>18.286623</td>\n",
       "    </tr>\n",
       "    <tr>\n",
       "      <th>10</th>\n",
       "      <td>ceuta</td>\n",
       "      <td>21.185645</td>\n",
       "      <td>35.903187</td>\n",
       "      <td>11.814720</td>\n",
       "      <td>4.751969</td>\n",
       "      <td>23.678994</td>\n",
       "      <td>0.943396</td>\n",
       "      <td>1.886792</td>\n",
       "      <td>2.830189</td>\n",
       "      <td>0.943396</td>\n",
       "      <td>8.490566</td>\n",
       "      <td>14.717542</td>\n",
       "    </tr>\n",
       "    <tr>\n",
       "      <th>11</th>\n",
       "      <td>galicia</td>\n",
       "      <td>27.002198</td>\n",
       "      <td>31.669312</td>\n",
       "      <td>11.024555</td>\n",
       "      <td>15.343854</td>\n",
       "      <td>5.198580</td>\n",
       "      <td>2.219287</td>\n",
       "      <td>3.355350</td>\n",
       "      <td>4.042272</td>\n",
       "      <td>1.136063</td>\n",
       "      <td>7.107001</td>\n",
       "      <td>4.667114</td>\n",
       "    </tr>\n",
       "    <tr>\n",
       "      <th>12</th>\n",
       "      <td>madrid</td>\n",
       "      <td>18.502997</td>\n",
       "      <td>27.054690</td>\n",
       "      <td>20.759176</td>\n",
       "      <td>16.093949</td>\n",
       "      <td>13.741137</td>\n",
       "      <td>2.370130</td>\n",
       "      <td>3.668831</td>\n",
       "      <td>3.501082</td>\n",
       "      <td>1.774892</td>\n",
       "      <td>6.877706</td>\n",
       "      <td>8.551693</td>\n",
       "    </tr>\n",
       "    <tr>\n",
       "      <th>13</th>\n",
       "      <td>comunidadvalenciana</td>\n",
       "      <td>18.380046</td>\n",
       "      <td>27.474789</td>\n",
       "      <td>17.787426</td>\n",
       "      <td>14.074966</td>\n",
       "      <td>11.891171</td>\n",
       "      <td>2.224504</td>\n",
       "      <td>3.251198</td>\n",
       "      <td>3.678987</td>\n",
       "      <td>1.694045</td>\n",
       "      <td>7.956879</td>\n",
       "      <td>9.094742</td>\n",
       "    </tr>\n",
       "    <tr>\n",
       "      <th>14</th>\n",
       "      <td>navarra</td>\n",
       "      <td>29.014825</td>\n",
       "      <td>25.510141</td>\n",
       "      <td>0.000000</td>\n",
       "      <td>18.463118</td>\n",
       "      <td>4.777835</td>\n",
       "      <td>1.459854</td>\n",
       "      <td>4.562044</td>\n",
       "      <td>4.014599</td>\n",
       "      <td>1.094891</td>\n",
       "      <td>6.751825</td>\n",
       "      <td>-3.504685</td>\n",
       "    </tr>\n",
       "    <tr>\n",
       "      <th>15</th>\n",
       "      <td>melilla</td>\n",
       "      <td>23.731948</td>\n",
       "      <td>20.506047</td>\n",
       "      <td>12.771516</td>\n",
       "      <td>3.789480</td>\n",
       "      <td>17.036515</td>\n",
       "      <td>8.333333</td>\n",
       "      <td>2.777778</td>\n",
       "      <td>7.638889</td>\n",
       "      <td>1.388889</td>\n",
       "      <td>4.166667</td>\n",
       "      <td>-3.225901</td>\n",
       "    </tr>\n",
       "    <tr>\n",
       "      <th>16</th>\n",
       "      <td>euskadi</td>\n",
       "      <td>7.384745</td>\n",
       "      <td>19.747420</td>\n",
       "      <td>3.122134</td>\n",
       "      <td>17.464199</td>\n",
       "      <td>2.187908</td>\n",
       "      <td>2.049780</td>\n",
       "      <td>4.831625</td>\n",
       "      <td>3.074671</td>\n",
       "      <td>0.976086</td>\n",
       "      <td>6.637384</td>\n",
       "      <td>12.362675</td>\n",
       "    </tr>\n",
       "    <tr>\n",
       "      <th>17</th>\n",
       "      <td>murcia</td>\n",
       "      <td>23.197117</td>\n",
       "      <td>24.498246</td>\n",
       "      <td>19.340151</td>\n",
       "      <td>10.275571</td>\n",
       "      <td>18.438773</td>\n",
       "      <td>3.416624</td>\n",
       "      <td>2.549720</td>\n",
       "      <td>3.671596</td>\n",
       "      <td>1.784804</td>\n",
       "      <td>7.088220</td>\n",
       "      <td>1.301130</td>\n",
       "    </tr>\n",
       "    <tr>\n",
       "      <th>18</th>\n",
       "      <td>larioja</td>\n",
       "      <td>26.162166</td>\n",
       "      <td>31.265068</td>\n",
       "      <td>17.568382</td>\n",
       "      <td>11.623855</td>\n",
       "      <td>8.852957</td>\n",
       "      <td>2.690583</td>\n",
       "      <td>2.690583</td>\n",
       "      <td>2.914798</td>\n",
       "      <td>3.363229</td>\n",
       "      <td>3.587444</td>\n",
       "      <td>5.102902</td>\n",
       "    </tr>\n",
       "  </tbody>\n",
       "</table>\n",
       "</div>"
      ],
      "text/plain": [
       "                   CCAA        %PP      %PSOE        %Cs        %UP  \\\n",
       "0              baleares  16.668101  26.080464  17.247267  17.642301   \n",
       "1             andalucia  16.964709  33.782213  17.471376  14.070037   \n",
       "2                aragon  18.726495  31.390344  20.311623  13.413534   \n",
       "3              asturias  17.716904  32.766113  16.527142  16.967276   \n",
       "4           extremadura  21.050728  37.457054  17.669229   9.339235   \n",
       "5              canarias  15.346882  27.515326  14.488856  15.530671   \n",
       "6             cantabria  21.474449  24.929582  14.977414  10.114192   \n",
       "7          castillaleon  25.708589  29.382885  18.652369  10.252079   \n",
       "8      castillalamancha  22.373185  31.924142  17.231675  10.007092   \n",
       "9             catalunya   4.822832  23.109454  11.500276  14.781510   \n",
       "10                ceuta  21.185645  35.903187  11.814720   4.751969   \n",
       "11              galicia  27.002198  31.669312  11.024555  15.343854   \n",
       "12               madrid  18.502997  27.054690  20.759176  16.093949   \n",
       "13  comunidadvalenciana  18.380046  27.474789  17.787426  14.074966   \n",
       "14              navarra  29.014825  25.510141   0.000000  18.463118   \n",
       "15              melilla  23.731948  20.506047  12.771516   3.789480   \n",
       "16              euskadi   7.384745  19.747420   3.122134  17.464199   \n",
       "17               murcia  23.197117  24.498246  19.340151  10.275571   \n",
       "18              larioja  26.162166  31.265068  17.568382  11.623855   \n",
       "\n",
       "         %VOX    %posPP    %posUP  %posPSOE    %posCs   %posVOX  dif_PSOE_PP  \n",
       "0   11.173955  3.081943  2.973169  3.408267  1.740392  6.490210     9.412363  \n",
       "1   13.201167  2.000161  3.330914  4.201952  1.459795  7.645778    16.817504  \n",
       "2   12.073885  1.121705  3.982053  3.309030  1.738643  7.795850    12.663850  \n",
       "3   11.369969  2.135417  3.854167  4.114583  0.989583  6.770833    15.049209  \n",
       "4   10.598385  2.470265  2.744739  5.489478  1.463861  5.855444    16.406326  \n",
       "5    6.473119  1.934444  3.868888  4.352499  1.289629  6.072004    12.168444  \n",
       "6   11.060027  2.150538  2.822581  3.091398  1.612903  7.258065     3.455133  \n",
       "7   12.132890  3.197320  3.166870  4.293544  2.131547  5.694275     3.674295  \n",
       "8   15.077684  2.846117  3.135552  3.762663  2.074288  6.415822     9.550956  \n",
       "9    3.571182  2.589458  3.301768  3.301768  2.497276  7.156624    18.286623  \n",
       "10  23.678994  0.943396  1.886792  2.830189  0.943396  8.490566    14.717542  \n",
       "11   5.198580  2.219287  3.355350  4.042272  1.136063  7.107001     4.667114  \n",
       "12  13.741137  2.370130  3.668831  3.501082  1.774892  6.877706     8.551693  \n",
       "13  11.891171  2.224504  3.251198  3.678987  1.694045  7.956879     9.094742  \n",
       "14   4.777835  1.459854  4.562044  4.014599  1.094891  6.751825    -3.504685  \n",
       "15  17.036515  8.333333  2.777778  7.638889  1.388889  4.166667    -3.225901  \n",
       "16   2.187908  2.049780  4.831625  3.074671  0.976086  6.637384    12.362675  \n",
       "17  18.438773  3.416624  2.549720  3.671596  1.784804  7.088220     1.301130  \n",
       "18   8.852957  2.690583  2.690583  2.914798  3.363229  3.587444     5.102902  "
      ]
     },
     "execution_count": 58,
     "metadata": {},
     "output_type": "execute_result"
    }
   ],
   "source": [
    "votos_tweets"
   ]
  },
  {
   "cell_type": "code",
   "execution_count": null,
   "metadata": {
    "id": "7DLTuZslwybl"
   },
   "outputs": [],
   "source": []
  },
  {
   "cell_type": "markdown",
   "metadata": {
    "id": "-zDeThhXDtt1"
   },
   "source": [
    "Ahora la columna del porcentaje de voto de Vox es directamente nuestra variable objetivo. El resto de columnas son las positividades de los tweets."
   ]
  },
  {
   "cell_type": "code",
   "execution_count": 59,
   "metadata": {
    "colab": {
     "base_uri": "https://localhost:8080/"
    },
    "executionInfo": {
     "elapsed": 257,
     "status": "ok",
     "timestamp": 1631279322303,
     "user": {
      "displayName": "Guillermo Barrio",
      "photoUrl": "https://lh3.googleusercontent.com/a/default-user=s64",
      "userId": "06925154007558381895"
     },
     "user_tz": -120
    },
    "id": "Rr3s59sN0vJ9",
    "outputId": "f3a2a249-623e-4c36-9337-43cec55455b9"
   },
   "outputs": [
    {
     "data": {
      "text/plain": [
       "Index(['CCAA', '%PP', '%PSOE', '%Cs', '%UP', '%VOX', '%posPP', '%posUP',\n",
       "       '%posPSOE', '%posCs', '%posVOX', 'dif_PSOE_PP'],\n",
       "      dtype='object')"
      ]
     },
     "execution_count": 59,
     "metadata": {},
     "output_type": "execute_result"
    }
   ],
   "source": [
    "votos_tweets.columns"
   ]
  },
  {
   "cell_type": "code",
   "execution_count": 60,
   "metadata": {
    "executionInfo": {
     "elapsed": 243,
     "status": "ok",
     "timestamp": 1631279378476,
     "user": {
      "displayName": "Guillermo Barrio",
      "photoUrl": "https://lh3.googleusercontent.com/a/default-user=s64",
      "userId": "06925154007558381895"
     },
     "user_tz": -120
    },
    "id": "oMn6zr4vwyYS"
   },
   "outputs": [],
   "source": [
    "votos_tweets_model_vox = votos_tweets[[ '%posPP', '%posUP',\n",
    "       '%posPSOE', '%posCs', '%posVOX', '%VOX']]"
   ]
  },
  {
   "cell_type": "code",
   "execution_count": 61,
   "metadata": {
    "colab": {
     "base_uri": "https://localhost:8080/",
     "height": 638
    },
    "executionInfo": {
     "elapsed": 499,
     "status": "ok",
     "timestamp": 1631279389255,
     "user": {
      "displayName": "Guillermo Barrio",
      "photoUrl": "https://lh3.googleusercontent.com/a/default-user=s64",
      "userId": "06925154007558381895"
     },
     "user_tz": -120
    },
    "id": "-QHi1auPwyVd",
    "outputId": "2926a67e-ecfa-4c95-e193-d96064333a78"
   },
   "outputs": [
    {
     "data": {
      "text/html": [
       "<div>\n",
       "<style scoped>\n",
       "    .dataframe tbody tr th:only-of-type {\n",
       "        vertical-align: middle;\n",
       "    }\n",
       "\n",
       "    .dataframe tbody tr th {\n",
       "        vertical-align: top;\n",
       "    }\n",
       "\n",
       "    .dataframe thead th {\n",
       "        text-align: right;\n",
       "    }\n",
       "</style>\n",
       "<table border=\"1\" class=\"dataframe\">\n",
       "  <thead>\n",
       "    <tr style=\"text-align: right;\">\n",
       "      <th></th>\n",
       "      <th>%posPP</th>\n",
       "      <th>%posUP</th>\n",
       "      <th>%posPSOE</th>\n",
       "      <th>%posCs</th>\n",
       "      <th>%posVOX</th>\n",
       "      <th>%VOX</th>\n",
       "    </tr>\n",
       "  </thead>\n",
       "  <tbody>\n",
       "    <tr>\n",
       "      <th>0</th>\n",
       "      <td>3.081943</td>\n",
       "      <td>2.973169</td>\n",
       "      <td>3.408267</td>\n",
       "      <td>1.740392</td>\n",
       "      <td>6.490210</td>\n",
       "      <td>11.173955</td>\n",
       "    </tr>\n",
       "    <tr>\n",
       "      <th>1</th>\n",
       "      <td>2.000161</td>\n",
       "      <td>3.330914</td>\n",
       "      <td>4.201952</td>\n",
       "      <td>1.459795</td>\n",
       "      <td>7.645778</td>\n",
       "      <td>13.201167</td>\n",
       "    </tr>\n",
       "    <tr>\n",
       "      <th>2</th>\n",
       "      <td>1.121705</td>\n",
       "      <td>3.982053</td>\n",
       "      <td>3.309030</td>\n",
       "      <td>1.738643</td>\n",
       "      <td>7.795850</td>\n",
       "      <td>12.073885</td>\n",
       "    </tr>\n",
       "    <tr>\n",
       "      <th>3</th>\n",
       "      <td>2.135417</td>\n",
       "      <td>3.854167</td>\n",
       "      <td>4.114583</td>\n",
       "      <td>0.989583</td>\n",
       "      <td>6.770833</td>\n",
       "      <td>11.369969</td>\n",
       "    </tr>\n",
       "    <tr>\n",
       "      <th>4</th>\n",
       "      <td>2.470265</td>\n",
       "      <td>2.744739</td>\n",
       "      <td>5.489478</td>\n",
       "      <td>1.463861</td>\n",
       "      <td>5.855444</td>\n",
       "      <td>10.598385</td>\n",
       "    </tr>\n",
       "    <tr>\n",
       "      <th>5</th>\n",
       "      <td>1.934444</td>\n",
       "      <td>3.868888</td>\n",
       "      <td>4.352499</td>\n",
       "      <td>1.289629</td>\n",
       "      <td>6.072004</td>\n",
       "      <td>6.473119</td>\n",
       "    </tr>\n",
       "    <tr>\n",
       "      <th>6</th>\n",
       "      <td>2.150538</td>\n",
       "      <td>2.822581</td>\n",
       "      <td>3.091398</td>\n",
       "      <td>1.612903</td>\n",
       "      <td>7.258065</td>\n",
       "      <td>11.060027</td>\n",
       "    </tr>\n",
       "    <tr>\n",
       "      <th>7</th>\n",
       "      <td>3.197320</td>\n",
       "      <td>3.166870</td>\n",
       "      <td>4.293544</td>\n",
       "      <td>2.131547</td>\n",
       "      <td>5.694275</td>\n",
       "      <td>12.132890</td>\n",
       "    </tr>\n",
       "    <tr>\n",
       "      <th>8</th>\n",
       "      <td>2.846117</td>\n",
       "      <td>3.135552</td>\n",
       "      <td>3.762663</td>\n",
       "      <td>2.074288</td>\n",
       "      <td>6.415822</td>\n",
       "      <td>15.077684</td>\n",
       "    </tr>\n",
       "    <tr>\n",
       "      <th>9</th>\n",
       "      <td>2.589458</td>\n",
       "      <td>3.301768</td>\n",
       "      <td>3.301768</td>\n",
       "      <td>2.497276</td>\n",
       "      <td>7.156624</td>\n",
       "      <td>3.571182</td>\n",
       "    </tr>\n",
       "    <tr>\n",
       "      <th>10</th>\n",
       "      <td>0.943396</td>\n",
       "      <td>1.886792</td>\n",
       "      <td>2.830189</td>\n",
       "      <td>0.943396</td>\n",
       "      <td>8.490566</td>\n",
       "      <td>23.678994</td>\n",
       "    </tr>\n",
       "    <tr>\n",
       "      <th>11</th>\n",
       "      <td>2.219287</td>\n",
       "      <td>3.355350</td>\n",
       "      <td>4.042272</td>\n",
       "      <td>1.136063</td>\n",
       "      <td>7.107001</td>\n",
       "      <td>5.198580</td>\n",
       "    </tr>\n",
       "    <tr>\n",
       "      <th>12</th>\n",
       "      <td>2.370130</td>\n",
       "      <td>3.668831</td>\n",
       "      <td>3.501082</td>\n",
       "      <td>1.774892</td>\n",
       "      <td>6.877706</td>\n",
       "      <td>13.741137</td>\n",
       "    </tr>\n",
       "    <tr>\n",
       "      <th>13</th>\n",
       "      <td>2.224504</td>\n",
       "      <td>3.251198</td>\n",
       "      <td>3.678987</td>\n",
       "      <td>1.694045</td>\n",
       "      <td>7.956879</td>\n",
       "      <td>11.891171</td>\n",
       "    </tr>\n",
       "    <tr>\n",
       "      <th>14</th>\n",
       "      <td>1.459854</td>\n",
       "      <td>4.562044</td>\n",
       "      <td>4.014599</td>\n",
       "      <td>1.094891</td>\n",
       "      <td>6.751825</td>\n",
       "      <td>4.777835</td>\n",
       "    </tr>\n",
       "    <tr>\n",
       "      <th>15</th>\n",
       "      <td>8.333333</td>\n",
       "      <td>2.777778</td>\n",
       "      <td>7.638889</td>\n",
       "      <td>1.388889</td>\n",
       "      <td>4.166667</td>\n",
       "      <td>17.036515</td>\n",
       "    </tr>\n",
       "    <tr>\n",
       "      <th>16</th>\n",
       "      <td>2.049780</td>\n",
       "      <td>4.831625</td>\n",
       "      <td>3.074671</td>\n",
       "      <td>0.976086</td>\n",
       "      <td>6.637384</td>\n",
       "      <td>2.187908</td>\n",
       "    </tr>\n",
       "    <tr>\n",
       "      <th>17</th>\n",
       "      <td>3.416624</td>\n",
       "      <td>2.549720</td>\n",
       "      <td>3.671596</td>\n",
       "      <td>1.784804</td>\n",
       "      <td>7.088220</td>\n",
       "      <td>18.438773</td>\n",
       "    </tr>\n",
       "    <tr>\n",
       "      <th>18</th>\n",
       "      <td>2.690583</td>\n",
       "      <td>2.690583</td>\n",
       "      <td>2.914798</td>\n",
       "      <td>3.363229</td>\n",
       "      <td>3.587444</td>\n",
       "      <td>8.852957</td>\n",
       "    </tr>\n",
       "  </tbody>\n",
       "</table>\n",
       "</div>"
      ],
      "text/plain": [
       "      %posPP    %posUP  %posPSOE    %posCs   %posVOX       %VOX\n",
       "0   3.081943  2.973169  3.408267  1.740392  6.490210  11.173955\n",
       "1   2.000161  3.330914  4.201952  1.459795  7.645778  13.201167\n",
       "2   1.121705  3.982053  3.309030  1.738643  7.795850  12.073885\n",
       "3   2.135417  3.854167  4.114583  0.989583  6.770833  11.369969\n",
       "4   2.470265  2.744739  5.489478  1.463861  5.855444  10.598385\n",
       "5   1.934444  3.868888  4.352499  1.289629  6.072004   6.473119\n",
       "6   2.150538  2.822581  3.091398  1.612903  7.258065  11.060027\n",
       "7   3.197320  3.166870  4.293544  2.131547  5.694275  12.132890\n",
       "8   2.846117  3.135552  3.762663  2.074288  6.415822  15.077684\n",
       "9   2.589458  3.301768  3.301768  2.497276  7.156624   3.571182\n",
       "10  0.943396  1.886792  2.830189  0.943396  8.490566  23.678994\n",
       "11  2.219287  3.355350  4.042272  1.136063  7.107001   5.198580\n",
       "12  2.370130  3.668831  3.501082  1.774892  6.877706  13.741137\n",
       "13  2.224504  3.251198  3.678987  1.694045  7.956879  11.891171\n",
       "14  1.459854  4.562044  4.014599  1.094891  6.751825   4.777835\n",
       "15  8.333333  2.777778  7.638889  1.388889  4.166667  17.036515\n",
       "16  2.049780  4.831625  3.074671  0.976086  6.637384   2.187908\n",
       "17  3.416624  2.549720  3.671596  1.784804  7.088220  18.438773\n",
       "18  2.690583  2.690583  2.914798  3.363229  3.587444   8.852957"
      ]
     },
     "execution_count": 61,
     "metadata": {},
     "output_type": "execute_result"
    }
   ],
   "source": [
    "votos_tweets_model_vox "
   ]
  },
  {
   "cell_type": "code",
   "execution_count": null,
   "metadata": {
    "id": "3oCRcRnGwySc"
   },
   "outputs": [],
   "source": []
  },
  {
   "cell_type": "markdown",
   "metadata": {
    "id": "t8JDKeCND9bd"
   },
   "source": [
    "Y hacemos el split entre train y test, quedándonos de nuevo con el train."
   ]
  },
  {
   "cell_type": "code",
   "execution_count": 63,
   "metadata": {
    "colab": {
     "base_uri": "https://localhost:8080/"
    },
    "executionInfo": {
     "elapsed": 284,
     "status": "ok",
     "timestamp": 1631279484367,
     "user": {
      "displayName": "Guillermo Barrio",
      "photoUrl": "https://lh3.googleusercontent.com/a/default-user=s64",
      "userId": "06925154007558381895"
     },
     "user_tz": -120
    },
    "id": "tp50GeAPwyPT",
    "outputId": "f1e2c534-b246-49f4-cf27-64fbe73f0c2b"
   },
   "outputs": [
    {
     "name": "stdout",
     "output_type": "stream",
     "text": [
      "Dimensiones del dataset de training: (14, 6)\n",
      "Dimensiones del dataset de test: (5, 6)\n"
     ]
    }
   ],
   "source": [
    "from sklearn.model_selection import train_test_split\n",
    "\n",
    "train, test = train_test_split(votos_tweets_model_vox, test_size=0.25, shuffle=True, random_state=1)\n",
    "\n",
    "print(f'Dimensiones del dataset de training: {train.shape}')\n",
    "print(f'Dimensiones del dataset de test: {test.shape}')\n",
    "\n",
    "# Guardamos\n",
    "train.to_csv('train_twitter_vox.csv', index=False)\n",
    "test.to_csv('test_twitter_vox.csv', index=False)\n",
    "\n",
    "# A partir de este momento cargamos el dataset de train y trabajamos ÚNICAMENTE con él. \n",
    "\n",
    "df_train = pd.read_csv('train_twitter_vox.csv')"
   ]
  },
  {
   "cell_type": "code",
   "execution_count": null,
   "metadata": {
    "id": "PZJebd9hwyL2"
   },
   "outputs": [],
   "source": []
  },
  {
   "cell_type": "markdown",
   "metadata": {
    "id": "YMDJv7DMEKUZ"
   },
   "source": [
    "Definimos el vector 'y' y la matrix X del dataset de train."
   ]
  },
  {
   "cell_type": "code",
   "execution_count": 64,
   "metadata": {
    "executionInfo": {
     "elapsed": 253,
     "status": "ok",
     "timestamp": 1631279642699,
     "user": {
      "displayName": "Guillermo Barrio",
      "photoUrl": "https://lh3.googleusercontent.com/a/default-user=s64",
      "userId": "06925154007558381895"
     },
     "user_tz": -120
    },
    "id": "olXzd5PIuePL"
   },
   "outputs": [],
   "source": [
    "y_train = df_train['%VOX'].values\n",
    "X_train = df_train.drop(columns = ['%VOX']).values"
   ]
  },
  {
   "cell_type": "code",
   "execution_count": null,
   "metadata": {
    "id": "3kfNMnyA1VCq"
   },
   "outputs": [],
   "source": []
  },
  {
   "cell_type": "markdown",
   "metadata": {
    "id": "9lLONZdLESb5"
   },
   "source": [
    "Intentamos ver las correlaciones entre columnas. A primera vista sí parece haber relaciones mayores con nuestra variable objetivo, pero cuando imprimimos los números, no son nada del otro jueves."
   ]
  },
  {
   "cell_type": "code",
   "execution_count": 65,
   "metadata": {
    "colab": {
     "base_uri": "https://localhost:8080/",
     "height": 592
    },
    "executionInfo": {
     "elapsed": 343,
     "status": "ok",
     "timestamp": 1631279557919,
     "user": {
      "displayName": "Guillermo Barrio",
      "photoUrl": "https://lh3.googleusercontent.com/a/default-user=s64",
      "userId": "06925154007558381895"
     },
     "user_tz": -120
    },
    "id": "Xlf8f8Y71U_N",
    "outputId": "565f40f0-e3c4-484d-8977-feda314ec7cc"
   },
   "outputs": [
    {
     "data": {
      "image/png": "[encoded data removed]",
      "text/plain": [
       "<Figure size 864x720 with 2 Axes>"
      ]
     },
     "metadata": {
      "needs_background": "light"
     },
     "output_type": "display_data"
    }
   ],
   "source": [
    "import seaborn as sns\n",
    "\n",
    "# Compute the correlation matrix\n",
    "corr = np.abs(df_train).corr()\n",
    "\n",
    "# Generate a mask for the upper triangle\n",
    "mask = np.zeros_like(corr, dtype=np.bool)\n",
    "mask[np.triu_indices_from(mask)] = True\n",
    "\n",
    "# Set up the matplotlib figure\n",
    "f, ax = plt.subplots(figsize=(12, 10))\n",
    "\n",
    "# Draw the heatmap with the mask and correct aspect ratio\n",
    "sns.heatmap(corr, mask=mask,vmin = 0.0, vmax=1.0, center=0.5,\n",
    "            linewidths=.1, cmap=\"YlGnBu\", cbar_kws={\"shrink\": .8})\n",
    "\n",
    "plt.show()"
   ]
  },
  {
   "cell_type": "code",
   "execution_count": null,
   "metadata": {
    "id": "_hiyTh041U9S"
   },
   "outputs": [],
   "source": []
  },
  {
   "cell_type": "code",
   "execution_count": 66,
   "metadata": {
    "executionInfo": {
     "elapsed": 267,
     "status": "ok",
     "timestamp": 1631280568131,
     "user": {
      "displayName": "Guillermo Barrio",
      "photoUrl": "https://lh3.googleusercontent.com/a/default-user=s64",
      "userId": "06925154007558381895"
     },
     "user_tz": -120
    },
    "id": "QXSWlmA45fob"
   },
   "outputs": [],
   "source": [
    "corr = np.abs(df_train).corr()"
   ]
  },
  {
   "cell_type": "code",
   "execution_count": 67,
   "metadata": {
    "colab": {
     "base_uri": "https://localhost:8080/",
     "height": 235
    },
    "executionInfo": {
     "elapsed": 261,
     "status": "ok",
     "timestamp": 1631280573516,
     "user": {
      "displayName": "Guillermo Barrio",
      "photoUrl": "https://lh3.googleusercontent.com/a/default-user=s64",
      "userId": "06925154007558381895"
     },
     "user_tz": -120
    },
    "id": "kmSj4JpD5flM",
    "outputId": "d1fb7176-f794-4ba5-ce5c-195a3e6cf540"
   },
   "outputs": [
    {
     "data": {
      "text/html": [
       "<div>\n",
       "<style scoped>\n",
       "    .dataframe tbody tr th:only-of-type {\n",
       "        vertical-align: middle;\n",
       "    }\n",
       "\n",
       "    .dataframe tbody tr th {\n",
       "        vertical-align: top;\n",
       "    }\n",
       "\n",
       "    .dataframe thead th {\n",
       "        text-align: right;\n",
       "    }\n",
       "</style>\n",
       "<table border=\"1\" class=\"dataframe\">\n",
       "  <thead>\n",
       "    <tr style=\"text-align: right;\">\n",
       "      <th></th>\n",
       "      <th>%posPP</th>\n",
       "      <th>%posUP</th>\n",
       "      <th>%posPSOE</th>\n",
       "      <th>%posCs</th>\n",
       "      <th>%posVOX</th>\n",
       "      <th>%VOX</th>\n",
       "    </tr>\n",
       "  </thead>\n",
       "  <tbody>\n",
       "    <tr>\n",
       "      <th>%posPP</th>\n",
       "      <td>1.000000</td>\n",
       "      <td>-0.743672</td>\n",
       "      <td>-0.145427</td>\n",
       "      <td>0.538466</td>\n",
       "      <td>-0.240762</td>\n",
       "      <td>0.605402</td>\n",
       "    </tr>\n",
       "    <tr>\n",
       "      <th>%posUP</th>\n",
       "      <td>-0.743672</td>\n",
       "      <td>1.000000</td>\n",
       "      <td>-0.158187</td>\n",
       "      <td>-0.598088</td>\n",
       "      <td>0.242924</td>\n",
       "      <td>-0.649048</td>\n",
       "    </tr>\n",
       "    <tr>\n",
       "      <th>%posPSOE</th>\n",
       "      <td>-0.145427</td>\n",
       "      <td>-0.158187</td>\n",
       "      <td>1.000000</td>\n",
       "      <td>-0.413330</td>\n",
       "      <td>0.080638</td>\n",
       "      <td>0.149151</td>\n",
       "    </tr>\n",
       "    <tr>\n",
       "      <th>%posCs</th>\n",
       "      <td>0.538466</td>\n",
       "      <td>-0.598088</td>\n",
       "      <td>-0.413330</td>\n",
       "      <td>1.000000</td>\n",
       "      <td>-0.596831</td>\n",
       "      <td>0.229268</td>\n",
       "    </tr>\n",
       "    <tr>\n",
       "      <th>%posVOX</th>\n",
       "      <td>-0.240762</td>\n",
       "      <td>0.242924</td>\n",
       "      <td>0.080638</td>\n",
       "      <td>-0.596831</td>\n",
       "      <td>1.000000</td>\n",
       "      <td>0.085949</td>\n",
       "    </tr>\n",
       "    <tr>\n",
       "      <th>%VOX</th>\n",
       "      <td>0.605402</td>\n",
       "      <td>-0.649048</td>\n",
       "      <td>0.149151</td>\n",
       "      <td>0.229268</td>\n",
       "      <td>0.085949</td>\n",
       "      <td>1.000000</td>\n",
       "    </tr>\n",
       "  </tbody>\n",
       "</table>\n",
       "</div>"
      ],
      "text/plain": [
       "            %posPP    %posUP  %posPSOE    %posCs   %posVOX      %VOX\n",
       "%posPP    1.000000 -0.743672 -0.145427  0.538466 -0.240762  0.605402\n",
       "%posUP   -0.743672  1.000000 -0.158187 -0.598088  0.242924 -0.649048\n",
       "%posPSOE -0.145427 -0.158187  1.000000 -0.413330  0.080638  0.149151\n",
       "%posCs    0.538466 -0.598088 -0.413330  1.000000 -0.596831  0.229268\n",
       "%posVOX  -0.240762  0.242924  0.080638 -0.596831  1.000000  0.085949\n",
       "%VOX      0.605402 -0.649048  0.149151  0.229268  0.085949  1.000000"
      ]
     },
     "execution_count": 67,
     "metadata": {},
     "output_type": "execute_result"
    }
   ],
   "source": [
    "corr"
   ]
  },
  {
   "cell_type": "code",
   "execution_count": null,
   "metadata": {
    "id": "3lMWwibe5fiW"
   },
   "outputs": [],
   "source": []
  },
  {
   "cell_type": "code",
   "execution_count": null,
   "metadata": {
    "id": "v5AKfhBE5fcX"
   },
   "outputs": [],
   "source": []
  },
  {
   "cell_type": "markdown",
   "metadata": {
    "id": "O5z12DZcEvev"
   },
   "source": [
    "Ahora cargamos el dataset de test, y simplemente definimos sus vectores y matrices para aplicar luego en el modelo."
   ]
  },
  {
   "cell_type": "code",
   "execution_count": 68,
   "metadata": {
    "executionInfo": {
     "elapsed": 387,
     "status": "ok",
     "timestamp": 1631279674060,
     "user": {
      "displayName": "Guillermo Barrio",
      "photoUrl": "https://lh3.googleusercontent.com/a/default-user=s64",
      "userId": "06925154007558381895"
     },
     "user_tz": -120
    },
    "id": "nSySzfxD1U27"
   },
   "outputs": [],
   "source": [
    "df_test = pd.read_csv('test_twitter_vox.csv')"
   ]
  },
  {
   "cell_type": "code",
   "execution_count": 69,
   "metadata": {
    "executionInfo": {
     "elapsed": 303,
     "status": "ok",
     "timestamp": 1631279726888,
     "user": {
      "displayName": "Guillermo Barrio",
      "photoUrl": "https://lh3.googleusercontent.com/a/default-user=s64",
      "userId": "06925154007558381895"
     },
     "user_tz": -120
    },
    "id": "dv-nT-xF1U1P"
   },
   "outputs": [],
   "source": [
    "y_test = df_test['%VOX'].values\n",
    "X_test = df_test.drop(columns = ['%VOX']).values"
   ]
  },
  {
   "cell_type": "code",
   "execution_count": null,
   "metadata": {
    "id": "JgywcElb1UzY"
   },
   "outputs": [],
   "source": []
  },
  {
   "cell_type": "markdown",
   "metadata": {
    "id": "cPcLFGuFE7lq"
   },
   "source": [
    "Instanciamos y entrenamos un nuevo modelo, a ver qué sale..."
   ]
  },
  {
   "cell_type": "code",
   "execution_count": 70,
   "metadata": {
    "colab": {
     "base_uri": "https://localhost:8080/"
    },
    "executionInfo": {
     "elapsed": 253,
     "status": "ok",
     "timestamp": 1631279800915,
     "user": {
      "displayName": "Guillermo Barrio",
      "photoUrl": "https://lh3.googleusercontent.com/a/default-user=s64",
      "userId": "06925154007558381895"
     },
     "user_tz": -120
    },
    "id": "1TAhaRgx1Ut3",
    "outputId": "6859d267-c8a9-490a-d33c-30c25b06062f"
   },
   "outputs": [
    {
     "data": {
      "text/plain": [
       "LinearRegression()"
      ]
     },
     "execution_count": 70,
     "metadata": {},
     "output_type": "execute_result"
    }
   ],
   "source": [
    "regresion_tweets_vox = linear_model.LinearRegression()\n",
    "regresion_tweets_vox.fit(X_train, y_train)"
   ]
  },
  {
   "cell_type": "markdown",
   "metadata": {
    "id": "AsJfB5UVFCii"
   },
   "source": [
    "...hacemos la predicción..."
   ]
  },
  {
   "cell_type": "code",
   "execution_count": 71,
   "metadata": {
    "executionInfo": {
     "elapsed": 246,
     "status": "ok",
     "timestamp": 1631279837627,
     "user": {
      "displayName": "Guillermo Barrio",
      "photoUrl": "https://lh3.googleusercontent.com/a/default-user=s64",
      "userId": "06925154007558381895"
     },
     "user_tz": -120
    },
    "id": "se2tZTY81UqW"
   },
   "outputs": [],
   "source": [
    "regresion_tweets_pred_vox = regresion_tweets_vox.predict(X_test)"
   ]
  },
  {
   "cell_type": "markdown",
   "metadata": {
    "id": "tZQ1QlotFGnk"
   },
   "source": [
    "... y vemos lo buena que es. Vaya, es nefasta.\n",
    "\n",
    "El voto a Vox no puede ser explicado por los tweets faborables a tal o cual partido."
   ]
  },
  {
   "cell_type": "code",
   "execution_count": 72,
   "metadata": {
    "colab": {
     "base_uri": "https://localhost:8080/"
    },
    "executionInfo": {
     "elapsed": 476,
     "status": "ok",
     "timestamp": 1631279874465,
     "user": {
      "displayName": "Guillermo Barrio",
      "photoUrl": "https://lh3.googleusercontent.com/a/default-user=s64",
      "userId": "06925154007558381895"
     },
     "user_tz": -120
    },
    "id": "vocdg8_61UnU",
    "outputId": "18b1cb95-4d1c-4cb5-b521-461d5dabb4c7"
   },
   "outputs": [
    {
     "name": "stdout",
     "output_type": "stream",
     "text": [
      "Coefficients: \n",
      " [ 3.25286469 -3.31566376  0.61393996 -0.50426382  1.08469314]\n",
      "Mean squared error: 80.42\n",
      "Coefficient of determination: -2.44\n"
     ]
    }
   ],
   "source": [
    "print('Coefficients: \\n', regresion_tweets_vox.coef_)\n",
    "# The mean squared error\n",
    "print('Mean squared error: %.2f'\n",
    "      % mean_squared_error(y_test, regresion_tweets_pred_vox))\n",
    "# The coefficient of determination: 1 is perfect prediction\n",
    "print('Coefficient of determination: %.2f'\n",
    "      % r2_score(y_test, regresion_tweets_pred_vox))"
   ]
  },
  {
   "cell_type": "code",
   "execution_count": null,
   "metadata": {
    "id": "52F2UCdF1Ufd"
   },
   "outputs": [],
   "source": []
  },
  {
   "cell_type": "code",
   "execution_count": null,
   "metadata": {
    "id": "ZorOYZkyEmrg"
   },
   "outputs": [],
   "source": []
  },
  {
   "cell_type": "markdown",
   "metadata": {
    "id": "RWziApgHEnB5"
   },
   "source": [
    "Hacemos un último intento. Vimos que la correlación con los votos a Vox estaba algo más correlacionado con las positidades de los tweets a PP y PSOE. Tomamos pues estas dos columnas.\n",
    "\n",
    "Modificamos las matrices X de train y test."
   ]
  },
  {
   "cell_type": "code",
   "execution_count": 73,
   "metadata": {
    "executionInfo": {
     "elapsed": 261,
     "status": "ok",
     "timestamp": 1631280307344,
     "user": {
      "displayName": "Guillermo Barrio",
      "photoUrl": "https://lh3.googleusercontent.com/a/default-user=s64",
      "userId": "06925154007558381895"
     },
     "user_tz": -120
    },
    "id": "3YI2BNfx3a2W"
   },
   "outputs": [],
   "source": [
    "X_train = df_train[['%posPP', '%posPSOE']].values"
   ]
  },
  {
   "cell_type": "code",
   "execution_count": 74,
   "metadata": {
    "executionInfo": {
     "elapsed": 273,
     "status": "ok",
     "timestamp": 1631280477306,
     "user": {
      "displayName": "Guillermo Barrio",
      "photoUrl": "https://lh3.googleusercontent.com/a/default-user=s64",
      "userId": "06925154007558381895"
     },
     "user_tz": -120
    },
    "id": "z_ApbGdr3av9"
   },
   "outputs": [],
   "source": [
    "X_test = df_test[['%posPP', '%posPSOE']].values"
   ]
  },
  {
   "cell_type": "code",
   "execution_count": 75,
   "metadata": {
    "colab": {
     "base_uri": "https://localhost:8080/"
    },
    "executionInfo": {
     "elapsed": 293,
     "status": "ok",
     "timestamp": 1631280479507,
     "user": {
      "displayName": "Guillermo Barrio",
      "photoUrl": "https://lh3.googleusercontent.com/a/default-user=s64",
      "userId": "06925154007558381895"
     },
     "user_tz": -120
    },
    "id": "Ey8-tfap3ar5",
    "outputId": "8de4f792-9d26-4385-da5e-60834df1dc15"
   },
   "outputs": [
    {
     "data": {
      "text/plain": [
       "(14, 2)"
      ]
     },
     "execution_count": 75,
     "metadata": {},
     "output_type": "execute_result"
    }
   ],
   "source": [
    "X_train.shape"
   ]
  },
  {
   "cell_type": "code",
   "execution_count": 76,
   "metadata": {
    "colab": {
     "base_uri": "https://localhost:8080/"
    },
    "executionInfo": {
     "elapsed": 236,
     "status": "ok",
     "timestamp": 1631280481100,
     "user": {
      "displayName": "Guillermo Barrio",
      "photoUrl": "https://lh3.googleusercontent.com/a/default-user=s64",
      "userId": "06925154007558381895"
     },
     "user_tz": -120
    },
    "id": "dgjxGXj95F8G",
    "outputId": "28e19c25-b1ab-4ada-b9a1-744d455b38b9"
   },
   "outputs": [
    {
     "data": {
      "text/plain": [
       "(5, 2)"
      ]
     },
     "execution_count": 76,
     "metadata": {},
     "output_type": "execute_result"
    }
   ],
   "source": [
    "X_test.shape"
   ]
  },
  {
   "cell_type": "code",
   "execution_count": null,
   "metadata": {
    "id": "L5EklkLeFy2j"
   },
   "outputs": [],
   "source": []
  },
  {
   "cell_type": "markdown",
   "metadata": {
    "id": "E4e6-oDYFzaZ"
   },
   "source": [
    "Instanciamos el modelo y hacemos el entrenamiento."
   ]
  },
  {
   "cell_type": "code",
   "execution_count": 77,
   "metadata": {
    "colab": {
     "base_uri": "https://localhost:8080/"
    },
    "executionInfo": {
     "elapsed": 319,
     "status": "ok",
     "timestamp": 1631280483376,
     "user": {
      "displayName": "Guillermo Barrio",
      "photoUrl": "https://lh3.googleusercontent.com/a/default-user=s64",
      "userId": "06925154007558381895"
     },
     "user_tz": -120
    },
    "id": "3S2igxkI3akX",
    "outputId": "cb8963b4-39ca-49df-9fd4-23805bf698b6"
   },
   "outputs": [
    {
     "data": {
      "text/plain": [
       "LinearRegression()"
      ]
     },
     "execution_count": 77,
     "metadata": {},
     "output_type": "execute_result"
    }
   ],
   "source": [
    "regresion_tweets_vox = linear_model.LinearRegression()\n",
    "regresion_tweets_vox.fit(X_train, y_train)"
   ]
  },
  {
   "cell_type": "markdown",
   "metadata": {
    "id": "Dtp1lEx_GERv"
   },
   "source": [
    "Calculamos las predicciones..."
   ]
  },
  {
   "cell_type": "code",
   "execution_count": 78,
   "metadata": {
    "executionInfo": {
     "elapsed": 264,
     "status": "ok",
     "timestamp": 1631280485589,
     "user": {
      "displayName": "Guillermo Barrio",
      "photoUrl": "https://lh3.googleusercontent.com/a/default-user=s64",
      "userId": "06925154007558381895"
     },
     "user_tz": -120
    },
    "id": "EWDX9Y8D3ahl"
   },
   "outputs": [],
   "source": [
    "regresion_tweets_pred_vox = regresion_tweets_vox.predict(X_test)"
   ]
  },
  {
   "cell_type": "code",
   "execution_count": null,
   "metadata": {
    "id": "rhx1kMOsGQ97"
   },
   "outputs": [],
   "source": []
  },
  {
   "cell_type": "markdown",
   "metadata": {
    "id": "KWTJcXTiGHdG"
   },
   "source": [
    "... que resultan ser otro desastre. No parece haber relación pues entre positividad de los tweets y el voto en unas elecciones."
   ]
  },
  {
   "cell_type": "code",
   "execution_count": 79,
   "metadata": {
    "colab": {
     "base_uri": "https://localhost:8080/"
    },
    "executionInfo": {
     "elapsed": 310,
     "status": "ok",
     "timestamp": 1631280487696,
     "user": {
      "displayName": "Guillermo Barrio",
      "photoUrl": "https://lh3.googleusercontent.com/a/default-user=s64",
      "userId": "06925154007558381895"
     },
     "user_tz": -120
    },
    "id": "QIZLEo2m3aes",
    "outputId": "2921cb39-8aca-457f-c87e-7943322552bb"
   },
   "outputs": [
    {
     "name": "stdout",
     "output_type": "stream",
     "text": [
      "Coefficients: \n",
      " [5.63323892 1.78327905]\n",
      "Mean squared error: 358.94\n",
      "Coefficient of determination: -14.38\n"
     ]
    }
   ],
   "source": [
    "print('Coefficients: \\n', regresion_tweets_vox.coef_)\n",
    "# The mean squared error\n",
    "print('Mean squared error: %.2f'\n",
    "      % mean_squared_error(y_test, regresion_tweets_pred_vox))\n",
    "# The coefficient of determination: 1 is perfect prediction\n",
    "print('Coefficient of determination: %.2f'\n",
    "      % r2_score(y_test, regresion_tweets_pred_vox))"
   ]
  },
  {
   "cell_type": "code",
   "execution_count": null,
   "metadata": {
    "id": "D2n6M94M3abO"
   },
   "outputs": [],
   "source": []
  },
  {
   "cell_type": "code",
   "execution_count": null,
   "metadata": {
    "id": "adF4L_183aX3"
   },
   "outputs": [],
   "source": []
  },
  {
   "cell_type": "code",
   "execution_count": null,
   "metadata": {
    "id": "e_5u5siX1UQo"
   },
   "outputs": [],
   "source": []
  },
  {
   "cell_type": "code",
   "execution_count": null,
   "metadata": {
    "id": "LwENg4be1UNa"
   },
   "outputs": [],
   "source": []
  }
 ],
 "metadata": {
  "colab": {
   "collapsed_sections": [],
   "name": "gen_A19_unif_cols_prov_copia_eva_COMUNIDADES_TWITTER_mod.ipynb",
   "provenance": []
  },
  "kernelspec": {
   "display_name": "Python 3",
   "language": "python",
   "name": "python3"
  },
  "language_info": {
   "codemirror_mode": {
    "name": "ipython",
    "version": 3
   },
   "file_extension": ".py",
   "mimetype": "text/x-python",
   "name": "python",
   "nbconvert_exporter": "python",
   "pygments_lexer": "ipython3",
   "version": "3.8.3"
  }
 },
 "nbformat": 4,
 "nbformat_minor": 1
}
