{
 "cells": [
  {
   "cell_type": "markdown",
   "metadata": {
    "id": "Jc1W5gWyqSdL"
   },
   "source": [
    "# Reforma del fichero de equivalencia de secciones\n",
    "\n"
   ]
  },
  {
   "cell_type": "markdown",
   "metadata": {
    "id": "PJPN4XcSqji3"
   },
   "source": [
    "Este cuaderno simplemente corrige el hecho de que el código de las CCAA utilizado por el INE y el Ministerio del Interior no coincide. Ello causó que tengamos que cambiar los códigos de las secciones que definimos en el cuaderno original de su equivalencia en las distintas elecciones.\n",
    "\n",
    "Afortunadamente, podemos corregir esta circunstacia mediante métodos de strings, sin que haya que utilizar de nuevo Geopandas.\n",
    "\n",
    "No nos detendremos en demasía en este cuaderno, simplemente lo que hace es un mapeo con los códigos de las CCAA correctos, definiendo unas nuevas columnas, y guardando de nuevo el dataset con otro nombre."
   ]
  },
  {
   "cell_type": "code",
   "execution_count": 1,
   "metadata": {
    "id": "_CpRs-W08eGM"
   },
   "outputs": [],
   "source": [
    "import pandas as pd\n",
    "import numpy as np"
   ]
  },
  {
   "cell_type": "code",
   "execution_count": null,
   "metadata": {
    "id": "bvJPnNSr8oLu"
   },
   "outputs": [],
   "source": [
    "equiv_secciones = pd.read_csv('similitud_secciones_def.csv', dtype = 'str')"
   ]
  },
  {
   "cell_type": "code",
   "execution_count": null,
   "metadata": {
    "colab": {
     "base_uri": "https://localhost:8080/",
     "height": 419
    },
    "executionInfo": {
     "elapsed": 288,
     "status": "ok",
     "timestamp": 1629717856258,
     "user": {
      "displayName": "Guillermo Barrio",
      "photoUrl": "",
      "userId": "06925154007558381895"
     },
     "user_tz": -120
    },
    "id": "TIOkhbdt8oD9",
    "outputId": "59b616ed-8d57-4fb9-8e7d-1aa63e2c0275"
   },
   "outputs": [
    {
     "data": {
      "text/html": [
       "<div>\n",
       "<style scoped>\n",
       "    .dataframe tbody tr th:only-of-type {\n",
       "        vertical-align: middle;\n",
       "    }\n",
       "\n",
       "    .dataframe tbody tr th {\n",
       "        vertical-align: top;\n",
       "    }\n",
       "\n",
       "    .dataframe thead th {\n",
       "        text-align: right;\n",
       "    }\n",
       "</style>\n",
       "<table border=\"1\" class=\"dataframe\">\n",
       "  <thead>\n",
       "    <tr style=\"text-align: right;\">\n",
       "      <th></th>\n",
       "      <th>cod_sec</th>\n",
       "      <th>CUSEC</th>\n",
       "      <th>CUMUN</th>\n",
       "      <th>CPRO</th>\n",
       "      <th>Elección</th>\n",
       "      <th>cercana N11</th>\n",
       "      <th>cercana D15</th>\n",
       "      <th>cercana J16</th>\n",
       "      <th>cercana A19</th>\n",
       "      <th>cercana N19</th>\n",
       "    </tr>\n",
       "  </thead>\n",
       "  <tbody>\n",
       "    <tr>\n",
       "      <th>0</th>\n",
       "      <td>022019041160100901001</td>\n",
       "      <td>0100901001</td>\n",
       "      <td>01009</td>\n",
       "      <td>01</td>\n",
       "      <td>02201904</td>\n",
       "      <td>022011111160100901001</td>\n",
       "      <td>022015121160100901001</td>\n",
       "      <td>022016061160100901001</td>\n",
       "      <td>022019041160100901001</td>\n",
       "      <td>022019111160100901001</td>\n",
       "    </tr>\n",
       "    <tr>\n",
       "      <th>1</th>\n",
       "      <td>022019041160101001002</td>\n",
       "      <td>0101001002</td>\n",
       "      <td>01010</td>\n",
       "      <td>01</td>\n",
       "      <td>02201904</td>\n",
       "      <td>022011111160101001002</td>\n",
       "      <td>022015121160101001002</td>\n",
       "      <td>022016061160101001002</td>\n",
       "      <td>022019041160101001002</td>\n",
       "      <td>022019111160101001002</td>\n",
       "    </tr>\n",
       "    <tr>\n",
       "      <th>2</th>\n",
       "      <td>022019041160103101001</td>\n",
       "      <td>0103101001</td>\n",
       "      <td>01031</td>\n",
       "      <td>01</td>\n",
       "      <td>02201904</td>\n",
       "      <td>022011111160103101001</td>\n",
       "      <td>022015121160103101001</td>\n",
       "      <td>022016061160103101001</td>\n",
       "      <td>022019041160103101001</td>\n",
       "      <td>022019111160103101001</td>\n",
       "    </tr>\n",
       "    <tr>\n",
       "      <th>3</th>\n",
       "      <td>022019041160103301001</td>\n",
       "      <td>0103301001</td>\n",
       "      <td>01033</td>\n",
       "      <td>01</td>\n",
       "      <td>02201904</td>\n",
       "      <td>022011111160103301001</td>\n",
       "      <td>022015121160103301001</td>\n",
       "      <td>022016061160103301001</td>\n",
       "      <td>022019041160103301001</td>\n",
       "      <td>022019111160103301001</td>\n",
       "    </tr>\n",
       "    <tr>\n",
       "      <th>4</th>\n",
       "      <td>022019041160103701001</td>\n",
       "      <td>0103701001</td>\n",
       "      <td>01037</td>\n",
       "      <td>01</td>\n",
       "      <td>02201904</td>\n",
       "      <td>022011111160103701001</td>\n",
       "      <td>022015121160103701001</td>\n",
       "      <td>022016061160103701001</td>\n",
       "      <td>022019041160103701001</td>\n",
       "      <td>022019111160103701001</td>\n",
       "    </tr>\n",
       "    <tr>\n",
       "      <th>...</th>\n",
       "      <td>...</td>\n",
       "      <td>...</td>\n",
       "      <td>...</td>\n",
       "      <td>...</td>\n",
       "      <td>...</td>\n",
       "      <td>...</td>\n",
       "      <td>...</td>\n",
       "      <td>...</td>\n",
       "      <td>...</td>\n",
       "      <td>...</td>\n",
       "    </tr>\n",
       "    <tr>\n",
       "      <th>181034</th>\n",
       "      <td>022011111195200108010</td>\n",
       "      <td>5200108010</td>\n",
       "      <td>52001</td>\n",
       "      <td>52</td>\n",
       "      <td>02201111</td>\n",
       "      <td>022011111195200108010</td>\n",
       "      <td>022015121195200108010</td>\n",
       "      <td>022016061195200108010</td>\n",
       "      <td>022019041195200108010</td>\n",
       "      <td>022019111195200108010</td>\n",
       "    </tr>\n",
       "    <tr>\n",
       "      <th>181035</th>\n",
       "      <td>022011111195200108011</td>\n",
       "      <td>5200108011</td>\n",
       "      <td>52001</td>\n",
       "      <td>52</td>\n",
       "      <td>02201111</td>\n",
       "      <td>022011111195200108011</td>\n",
       "      <td>022015121195200108011</td>\n",
       "      <td>022016061195200108011</td>\n",
       "      <td>022019041195200108011</td>\n",
       "      <td>022019111195200108011</td>\n",
       "    </tr>\n",
       "    <tr>\n",
       "      <th>181036</th>\n",
       "      <td>022011111195200108012</td>\n",
       "      <td>5200108012</td>\n",
       "      <td>52001</td>\n",
       "      <td>52</td>\n",
       "      <td>02201111</td>\n",
       "      <td>022011111195200108012</td>\n",
       "      <td>022015121195200108012</td>\n",
       "      <td>022016061195200108012</td>\n",
       "      <td>022019041195200108012</td>\n",
       "      <td>022019111195200108012</td>\n",
       "    </tr>\n",
       "    <tr>\n",
       "      <th>181037</th>\n",
       "      <td>022011111195200108013</td>\n",
       "      <td>5200108013</td>\n",
       "      <td>52001</td>\n",
       "      <td>52</td>\n",
       "      <td>02201111</td>\n",
       "      <td>022011111195200108013</td>\n",
       "      <td>022015121195200108013</td>\n",
       "      <td>022016061195200108013</td>\n",
       "      <td>022019041195200108013</td>\n",
       "      <td>022019111195200108013</td>\n",
       "    </tr>\n",
       "    <tr>\n",
       "      <th>181038</th>\n",
       "      <td>022011111195200108014</td>\n",
       "      <td>5200108014</td>\n",
       "      <td>52001</td>\n",
       "      <td>52</td>\n",
       "      <td>02201111</td>\n",
       "      <td>022011111195200108014</td>\n",
       "      <td>022015121195200108014</td>\n",
       "      <td>022016061195200108014</td>\n",
       "      <td>022019041195200108014</td>\n",
       "      <td>022019111195200108014</td>\n",
       "    </tr>\n",
       "  </tbody>\n",
       "</table>\n",
       "<p>181039 rows × 10 columns</p>\n",
       "</div>"
      ],
      "text/plain": [
       "                      cod_sec  ...            cercana N19\n",
       "0       022019041160100901001  ...  022019111160100901001\n",
       "1       022019041160101001002  ...  022019111160101001002\n",
       "2       022019041160103101001  ...  022019111160103101001\n",
       "3       022019041160103301001  ...  022019111160103301001\n",
       "4       022019041160103701001  ...  022019111160103701001\n",
       "...                       ...  ...                    ...\n",
       "181034  022011111195200108010  ...  022019111195200108010\n",
       "181035  022011111195200108011  ...  022019111195200108011\n",
       "181036  022011111195200108012  ...  022019111195200108012\n",
       "181037  022011111195200108013  ...  022019111195200108013\n",
       "181038  022011111195200108014  ...  022019111195200108014\n",
       "\n",
       "[181039 rows x 10 columns]"
      ]
     },
     "execution_count": 3,
     "metadata": {},
     "output_type": "execute_result"
    }
   ],
   "source": [
    "equiv_secciones"
   ]
  },
  {
   "cell_type": "code",
   "execution_count": null,
   "metadata": {
    "id": "7z1MtBJ28n4O"
   },
   "outputs": [],
   "source": []
  },
  {
   "cell_type": "code",
   "execution_count": null,
   "metadata": {
    "id": "Ww7VNIul9GZQ"
   },
   "outputs": [],
   "source": [
    "map_ccaa = {'01' : '01',\n",
    "            '02' : '02',\n",
    "            '03' : '03',\n",
    "            '04' : '04',\n",
    "            '05' : '05',\n",
    "            '06' : '06',\n",
    "            '07' : '08',\n",
    "            '08' : '07',\n",
    "            '09' : '09',\n",
    "            '10' : '17',\n",
    "            '11' : '10',\n",
    "            '12' : '11',\n",
    "            '13' : '12',\n",
    "            '14' : '15',\n",
    "            '15' : '13',\n",
    "            '16' : '14',\n",
    "            '17' : '16',\n",
    "            '18' : '18',\n",
    "            '19' : '19'  }"
   ]
  },
  {
   "cell_type": "code",
   "execution_count": null,
   "metadata": {
    "colab": {
     "base_uri": "https://localhost:8080/"
    },
    "executionInfo": {
     "elapsed": 3,
     "status": "ok",
     "timestamp": 1629717861219,
     "user": {
      "displayName": "Guillermo Barrio",
      "photoUrl": "",
      "userId": "06925154007558381895"
     },
     "user_tz": -120
    },
    "id": "cMfc5brE9GUe",
    "outputId": "a1c42a64-9105-4dcd-c848-b379eee4426e"
   },
   "outputs": [
    {
     "data": {
      "text/plain": [
       "dict"
      ]
     },
     "execution_count": 5,
     "metadata": {},
     "output_type": "execute_result"
    }
   ],
   "source": [
    "type(map_ccaa)"
   ]
  },
  {
   "cell_type": "code",
   "execution_count": null,
   "metadata": {
    "id": "3qaL9ews-icQ"
   },
   "outputs": [],
   "source": [
    "equiv_secciones['cod_ccaa_orig'] = equiv_secciones['cod_sec'].str[9:11]"
   ]
  },
  {
   "cell_type": "code",
   "execution_count": null,
   "metadata": {
    "colab": {
     "base_uri": "https://localhost:8080/",
     "height": 419
    },
    "executionInfo": {
     "elapsed": 225,
     "status": "ok",
     "timestamp": 1629717866050,
     "user": {
      "displayName": "Guillermo Barrio",
      "photoUrl": "",
      "userId": "06925154007558381895"
     },
     "user_tz": -120
    },
    "id": "zknIOOJE-iPI",
    "outputId": "0a190346-772a-4819-fafb-b49e4cf93366"
   },
   "outputs": [
    {
     "data": {
      "text/html": [
       "<div>\n",
       "<style scoped>\n",
       "    .dataframe tbody tr th:only-of-type {\n",
       "        vertical-align: middle;\n",
       "    }\n",
       "\n",
       "    .dataframe tbody tr th {\n",
       "        vertical-align: top;\n",
       "    }\n",
       "\n",
       "    .dataframe thead th {\n",
       "        text-align: right;\n",
       "    }\n",
       "</style>\n",
       "<table border=\"1\" class=\"dataframe\">\n",
       "  <thead>\n",
       "    <tr style=\"text-align: right;\">\n",
       "      <th></th>\n",
       "      <th>cod_sec</th>\n",
       "      <th>CUSEC</th>\n",
       "      <th>CUMUN</th>\n",
       "      <th>CPRO</th>\n",
       "      <th>Elección</th>\n",
       "      <th>cercana N11</th>\n",
       "      <th>cercana D15</th>\n",
       "      <th>cercana J16</th>\n",
       "      <th>cercana A19</th>\n",
       "      <th>cercana N19</th>\n",
       "      <th>cod_ccaa_orig</th>\n",
       "    </tr>\n",
       "  </thead>\n",
       "  <tbody>\n",
       "    <tr>\n",
       "      <th>0</th>\n",
       "      <td>022019041160100901001</td>\n",
       "      <td>0100901001</td>\n",
       "      <td>01009</td>\n",
       "      <td>01</td>\n",
       "      <td>02201904</td>\n",
       "      <td>022011111160100901001</td>\n",
       "      <td>022015121160100901001</td>\n",
       "      <td>022016061160100901001</td>\n",
       "      <td>022019041160100901001</td>\n",
       "      <td>022019111160100901001</td>\n",
       "      <td>16</td>\n",
       "    </tr>\n",
       "    <tr>\n",
       "      <th>1</th>\n",
       "      <td>022019041160101001002</td>\n",
       "      <td>0101001002</td>\n",
       "      <td>01010</td>\n",
       "      <td>01</td>\n",
       "      <td>02201904</td>\n",
       "      <td>022011111160101001002</td>\n",
       "      <td>022015121160101001002</td>\n",
       "      <td>022016061160101001002</td>\n",
       "      <td>022019041160101001002</td>\n",
       "      <td>022019111160101001002</td>\n",
       "      <td>16</td>\n",
       "    </tr>\n",
       "    <tr>\n",
       "      <th>2</th>\n",
       "      <td>022019041160103101001</td>\n",
       "      <td>0103101001</td>\n",
       "      <td>01031</td>\n",
       "      <td>01</td>\n",
       "      <td>02201904</td>\n",
       "      <td>022011111160103101001</td>\n",
       "      <td>022015121160103101001</td>\n",
       "      <td>022016061160103101001</td>\n",
       "      <td>022019041160103101001</td>\n",
       "      <td>022019111160103101001</td>\n",
       "      <td>16</td>\n",
       "    </tr>\n",
       "    <tr>\n",
       "      <th>3</th>\n",
       "      <td>022019041160103301001</td>\n",
       "      <td>0103301001</td>\n",
       "      <td>01033</td>\n",
       "      <td>01</td>\n",
       "      <td>02201904</td>\n",
       "      <td>022011111160103301001</td>\n",
       "      <td>022015121160103301001</td>\n",
       "      <td>022016061160103301001</td>\n",
       "      <td>022019041160103301001</td>\n",
       "      <td>022019111160103301001</td>\n",
       "      <td>16</td>\n",
       "    </tr>\n",
       "    <tr>\n",
       "      <th>4</th>\n",
       "      <td>022019041160103701001</td>\n",
       "      <td>0103701001</td>\n",
       "      <td>01037</td>\n",
       "      <td>01</td>\n",
       "      <td>02201904</td>\n",
       "      <td>022011111160103701001</td>\n",
       "      <td>022015121160103701001</td>\n",
       "      <td>022016061160103701001</td>\n",
       "      <td>022019041160103701001</td>\n",
       "      <td>022019111160103701001</td>\n",
       "      <td>16</td>\n",
       "    </tr>\n",
       "    <tr>\n",
       "      <th>...</th>\n",
       "      <td>...</td>\n",
       "      <td>...</td>\n",
       "      <td>...</td>\n",
       "      <td>...</td>\n",
       "      <td>...</td>\n",
       "      <td>...</td>\n",
       "      <td>...</td>\n",
       "      <td>...</td>\n",
       "      <td>...</td>\n",
       "      <td>...</td>\n",
       "      <td>...</td>\n",
       "    </tr>\n",
       "    <tr>\n",
       "      <th>181034</th>\n",
       "      <td>022011111195200108010</td>\n",
       "      <td>5200108010</td>\n",
       "      <td>52001</td>\n",
       "      <td>52</td>\n",
       "      <td>02201111</td>\n",
       "      <td>022011111195200108010</td>\n",
       "      <td>022015121195200108010</td>\n",
       "      <td>022016061195200108010</td>\n",
       "      <td>022019041195200108010</td>\n",
       "      <td>022019111195200108010</td>\n",
       "      <td>19</td>\n",
       "    </tr>\n",
       "    <tr>\n",
       "      <th>181035</th>\n",
       "      <td>022011111195200108011</td>\n",
       "      <td>5200108011</td>\n",
       "      <td>52001</td>\n",
       "      <td>52</td>\n",
       "      <td>02201111</td>\n",
       "      <td>022011111195200108011</td>\n",
       "      <td>022015121195200108011</td>\n",
       "      <td>022016061195200108011</td>\n",
       "      <td>022019041195200108011</td>\n",
       "      <td>022019111195200108011</td>\n",
       "      <td>19</td>\n",
       "    </tr>\n",
       "    <tr>\n",
       "      <th>181036</th>\n",
       "      <td>022011111195200108012</td>\n",
       "      <td>5200108012</td>\n",
       "      <td>52001</td>\n",
       "      <td>52</td>\n",
       "      <td>02201111</td>\n",
       "      <td>022011111195200108012</td>\n",
       "      <td>022015121195200108012</td>\n",
       "      <td>022016061195200108012</td>\n",
       "      <td>022019041195200108012</td>\n",
       "      <td>022019111195200108012</td>\n",
       "      <td>19</td>\n",
       "    </tr>\n",
       "    <tr>\n",
       "      <th>181037</th>\n",
       "      <td>022011111195200108013</td>\n",
       "      <td>5200108013</td>\n",
       "      <td>52001</td>\n",
       "      <td>52</td>\n",
       "      <td>02201111</td>\n",
       "      <td>022011111195200108013</td>\n",
       "      <td>022015121195200108013</td>\n",
       "      <td>022016061195200108013</td>\n",
       "      <td>022019041195200108013</td>\n",
       "      <td>022019111195200108013</td>\n",
       "      <td>19</td>\n",
       "    </tr>\n",
       "    <tr>\n",
       "      <th>181038</th>\n",
       "      <td>022011111195200108014</td>\n",
       "      <td>5200108014</td>\n",
       "      <td>52001</td>\n",
       "      <td>52</td>\n",
       "      <td>02201111</td>\n",
       "      <td>022011111195200108014</td>\n",
       "      <td>022015121195200108014</td>\n",
       "      <td>022016061195200108014</td>\n",
       "      <td>022019041195200108014</td>\n",
       "      <td>022019111195200108014</td>\n",
       "      <td>19</td>\n",
       "    </tr>\n",
       "  </tbody>\n",
       "</table>\n",
       "<p>181039 rows × 11 columns</p>\n",
       "</div>"
      ],
      "text/plain": [
       "                      cod_sec       CUSEC  ...            cercana N19 cod_ccaa_orig\n",
       "0       022019041160100901001  0100901001  ...  022019111160100901001            16\n",
       "1       022019041160101001002  0101001002  ...  022019111160101001002            16\n",
       "2       022019041160103101001  0103101001  ...  022019111160103101001            16\n",
       "3       022019041160103301001  0103301001  ...  022019111160103301001            16\n",
       "4       022019041160103701001  0103701001  ...  022019111160103701001            16\n",
       "...                       ...         ...  ...                    ...           ...\n",
       "181034  022011111195200108010  5200108010  ...  022019111195200108010            19\n",
       "181035  022011111195200108011  5200108011  ...  022019111195200108011            19\n",
       "181036  022011111195200108012  5200108012  ...  022019111195200108012            19\n",
       "181037  022011111195200108013  5200108013  ...  022019111195200108013            19\n",
       "181038  022011111195200108014  5200108014  ...  022019111195200108014            19\n",
       "\n",
       "[181039 rows x 11 columns]"
      ]
     },
     "execution_count": 7,
     "metadata": {},
     "output_type": "execute_result"
    }
   ],
   "source": [
    "equiv_secciones"
   ]
  },
  {
   "cell_type": "code",
   "execution_count": null,
   "metadata": {
    "id": "c_1uEY98Abc5"
   },
   "outputs": [],
   "source": []
  },
  {
   "cell_type": "code",
   "execution_count": null,
   "metadata": {
    "colab": {
     "base_uri": "https://localhost:8080/"
    },
    "executionInfo": {
     "elapsed": 205,
     "status": "ok",
     "timestamp": 1629717868854,
     "user": {
      "displayName": "Guillermo Barrio",
      "photoUrl": "",
      "userId": "06925154007558381895"
     },
     "user_tz": -120
    },
    "id": "6OLPTxK4AbaI",
    "outputId": "dbaacc06-ea4f-4848-98fe-ca0e4a4f9b27"
   },
   "outputs": [
    {
     "data": {
      "text/plain": [
       "01    5922.2\n",
       "09    5051.4\n",
       "13    4357.4\n",
       "07    3546.6\n",
       "10    3473.0\n",
       "12    2194.0\n",
       "08    1948.6\n",
       "16    1726.2\n",
       "02    1449.4\n",
       "05    1365.2\n",
       "14    1226.8\n",
       "11     966.2\n",
       "03     863.4\n",
       "04     652.0\n",
       "15     561.2\n",
       "06     466.6\n",
       "17     339.6\n",
       "18      54.6\n",
       "19      43.4\n",
       "Name: cod_ccaa_orig, dtype: float64"
      ]
     },
     "execution_count": 8,
     "metadata": {},
     "output_type": "execute_result"
    }
   ],
   "source": [
    "equiv_secciones['cod_ccaa_orig'].value_counts()/5"
   ]
  },
  {
   "cell_type": "code",
   "execution_count": null,
   "metadata": {
    "id": "6JRsIrpzAbXh"
   },
   "outputs": [],
   "source": []
  },
  {
   "cell_type": "code",
   "execution_count": null,
   "metadata": {
    "id": "MW4k7nJiAbUz"
   },
   "outputs": [],
   "source": [
    "equiv_secciones['cod_ccaa_ref'] = equiv_secciones['cod_ccaa_orig'].map(map_ccaa)"
   ]
  },
  {
   "cell_type": "code",
   "execution_count": null,
   "metadata": {
    "id": "Echciri1AbSK"
   },
   "outputs": [],
   "source": []
  },
  {
   "cell_type": "code",
   "execution_count": null,
   "metadata": {
    "colab": {
     "base_uri": "https://localhost:8080/"
    },
    "executionInfo": {
     "elapsed": 204,
     "status": "ok",
     "timestamp": 1629717873628,
     "user": {
      "displayName": "Guillermo Barrio",
      "photoUrl": "",
      "userId": "06925154007558381895"
     },
     "user_tz": -120
    },
    "id": "D8P-IDbyAbPR",
    "outputId": "3f0e85a8-8598-4197-ec84-050975d02b27"
   },
   "outputs": [
    {
     "data": {
      "text/plain": [
       "01    5922.2\n",
       "09    5051.4\n",
       "12    4357.4\n",
       "08    3546.6\n",
       "17    3473.0\n",
       "11    2194.0\n",
       "07    1948.6\n",
       "14    1726.2\n",
       "02    1449.4\n",
       "05    1365.2\n",
       "15    1226.8\n",
       "10     966.2\n",
       "03     863.4\n",
       "04     652.0\n",
       "13     561.2\n",
       "06     466.6\n",
       "16     339.6\n",
       "18      54.6\n",
       "19      43.4\n",
       "Name: cod_ccaa_ref, dtype: float64"
      ]
     },
     "execution_count": 10,
     "metadata": {},
     "output_type": "execute_result"
    }
   ],
   "source": [
    "equiv_secciones['cod_ccaa_ref'].value_counts()/5"
   ]
  },
  {
   "cell_type": "code",
   "execution_count": null,
   "metadata": {
    "id": "_J5kpr0fAbMZ"
   },
   "outputs": [],
   "source": []
  },
  {
   "cell_type": "code",
   "execution_count": null,
   "metadata": {
    "id": "3YFrvrRoAbJx"
   },
   "outputs": [],
   "source": []
  },
  {
   "cell_type": "code",
   "execution_count": null,
   "metadata": {
    "id": "IgeKEGYbBd0K"
   },
   "outputs": [],
   "source": [
    "equiv_secciones['cercana N11_ref'] = ''"
   ]
  },
  {
   "cell_type": "code",
   "execution_count": null,
   "metadata": {
    "id": "SaipaTSxBdwS"
   },
   "outputs": [],
   "source": [
    "equiv_secciones['cercana D15_ref'] = ''\n",
    "equiv_secciones['cercana J16_ref'] = ''\n",
    "equiv_secciones['cercana A19_ref'] = ''\n",
    "equiv_secciones['cercana N19_ref'] = ''"
   ]
  },
  {
   "cell_type": "code",
   "execution_count": null,
   "metadata": {
    "id": "qYcEi5T9BdsK"
   },
   "outputs": [],
   "source": [
    "equiv_secciones['cercana N11_ref'] = equiv_secciones['cercana N11'].str[0:9] + equiv_secciones['cod_ccaa_ref'] + equiv_secciones['cercana N11'].str[11:]"
   ]
  },
  {
   "cell_type": "code",
   "execution_count": null,
   "metadata": {
    "colab": {
     "base_uri": "https://localhost:8080/",
     "height": 456
    },
    "executionInfo": {
     "elapsed": 253,
     "status": "ok",
     "timestamp": 1629717883758,
     "user": {
      "displayName": "Guillermo Barrio",
      "photoUrl": "",
      "userId": "06925154007558381895"
     },
     "user_tz": -120
    },
    "id": "vlBqie2LC8ux",
    "outputId": "5cbaf265-b3ca-444c-ade9-1449a2321eb8"
   },
   "outputs": [
    {
     "data": {
      "text/html": [
       "<div>\n",
       "<style scoped>\n",
       "    .dataframe tbody tr th:only-of-type {\n",
       "        vertical-align: middle;\n",
       "    }\n",
       "\n",
       "    .dataframe tbody tr th {\n",
       "        vertical-align: top;\n",
       "    }\n",
       "\n",
       "    .dataframe thead th {\n",
       "        text-align: right;\n",
       "    }\n",
       "</style>\n",
       "<table border=\"1\" class=\"dataframe\">\n",
       "  <thead>\n",
       "    <tr style=\"text-align: right;\">\n",
       "      <th></th>\n",
       "      <th>cod_sec</th>\n",
       "      <th>CUSEC</th>\n",
       "      <th>CUMUN</th>\n",
       "      <th>CPRO</th>\n",
       "      <th>Elección</th>\n",
       "      <th>cercana N11</th>\n",
       "      <th>cercana D15</th>\n",
       "      <th>cercana J16</th>\n",
       "      <th>cercana A19</th>\n",
       "      <th>cercana N19</th>\n",
       "      <th>cod_ccaa_orig</th>\n",
       "      <th>cod_ccaa_ref</th>\n",
       "      <th>cercana N11_ref</th>\n",
       "      <th>cercana D15_ref</th>\n",
       "      <th>cercana J16_ref</th>\n",
       "      <th>cercana A19_ref</th>\n",
       "      <th>cercana N19_ref</th>\n",
       "    </tr>\n",
       "  </thead>\n",
       "  <tbody>\n",
       "    <tr>\n",
       "      <th>0</th>\n",
       "      <td>022019041160100901001</td>\n",
       "      <td>0100901001</td>\n",
       "      <td>01009</td>\n",
       "      <td>01</td>\n",
       "      <td>02201904</td>\n",
       "      <td>022011111160100901001</td>\n",
       "      <td>022015121160100901001</td>\n",
       "      <td>022016061160100901001</td>\n",
       "      <td>022019041160100901001</td>\n",
       "      <td>022019111160100901001</td>\n",
       "      <td>16</td>\n",
       "      <td>14</td>\n",
       "      <td>022011111140100901001</td>\n",
       "      <td></td>\n",
       "      <td></td>\n",
       "      <td></td>\n",
       "      <td></td>\n",
       "    </tr>\n",
       "    <tr>\n",
       "      <th>1</th>\n",
       "      <td>022019041160101001002</td>\n",
       "      <td>0101001002</td>\n",
       "      <td>01010</td>\n",
       "      <td>01</td>\n",
       "      <td>02201904</td>\n",
       "      <td>022011111160101001002</td>\n",
       "      <td>022015121160101001002</td>\n",
       "      <td>022016061160101001002</td>\n",
       "      <td>022019041160101001002</td>\n",
       "      <td>022019111160101001002</td>\n",
       "      <td>16</td>\n",
       "      <td>14</td>\n",
       "      <td>022011111140101001002</td>\n",
       "      <td></td>\n",
       "      <td></td>\n",
       "      <td></td>\n",
       "      <td></td>\n",
       "    </tr>\n",
       "    <tr>\n",
       "      <th>2</th>\n",
       "      <td>022019041160103101001</td>\n",
       "      <td>0103101001</td>\n",
       "      <td>01031</td>\n",
       "      <td>01</td>\n",
       "      <td>02201904</td>\n",
       "      <td>022011111160103101001</td>\n",
       "      <td>022015121160103101001</td>\n",
       "      <td>022016061160103101001</td>\n",
       "      <td>022019041160103101001</td>\n",
       "      <td>022019111160103101001</td>\n",
       "      <td>16</td>\n",
       "      <td>14</td>\n",
       "      <td>022011111140103101001</td>\n",
       "      <td></td>\n",
       "      <td></td>\n",
       "      <td></td>\n",
       "      <td></td>\n",
       "    </tr>\n",
       "    <tr>\n",
       "      <th>3</th>\n",
       "      <td>022019041160103301001</td>\n",
       "      <td>0103301001</td>\n",
       "      <td>01033</td>\n",
       "      <td>01</td>\n",
       "      <td>02201904</td>\n",
       "      <td>022011111160103301001</td>\n",
       "      <td>022015121160103301001</td>\n",
       "      <td>022016061160103301001</td>\n",
       "      <td>022019041160103301001</td>\n",
       "      <td>022019111160103301001</td>\n",
       "      <td>16</td>\n",
       "      <td>14</td>\n",
       "      <td>022011111140103301001</td>\n",
       "      <td></td>\n",
       "      <td></td>\n",
       "      <td></td>\n",
       "      <td></td>\n",
       "    </tr>\n",
       "    <tr>\n",
       "      <th>4</th>\n",
       "      <td>022019041160103701001</td>\n",
       "      <td>0103701001</td>\n",
       "      <td>01037</td>\n",
       "      <td>01</td>\n",
       "      <td>02201904</td>\n",
       "      <td>022011111160103701001</td>\n",
       "      <td>022015121160103701001</td>\n",
       "      <td>022016061160103701001</td>\n",
       "      <td>022019041160103701001</td>\n",
       "      <td>022019111160103701001</td>\n",
       "      <td>16</td>\n",
       "      <td>14</td>\n",
       "      <td>022011111140103701001</td>\n",
       "      <td></td>\n",
       "      <td></td>\n",
       "      <td></td>\n",
       "      <td></td>\n",
       "    </tr>\n",
       "    <tr>\n",
       "      <th>...</th>\n",
       "      <td>...</td>\n",
       "      <td>...</td>\n",
       "      <td>...</td>\n",
       "      <td>...</td>\n",
       "      <td>...</td>\n",
       "      <td>...</td>\n",
       "      <td>...</td>\n",
       "      <td>...</td>\n",
       "      <td>...</td>\n",
       "      <td>...</td>\n",
       "      <td>...</td>\n",
       "      <td>...</td>\n",
       "      <td>...</td>\n",
       "      <td>...</td>\n",
       "      <td>...</td>\n",
       "      <td>...</td>\n",
       "      <td>...</td>\n",
       "    </tr>\n",
       "    <tr>\n",
       "      <th>181034</th>\n",
       "      <td>022011111195200108010</td>\n",
       "      <td>5200108010</td>\n",
       "      <td>52001</td>\n",
       "      <td>52</td>\n",
       "      <td>02201111</td>\n",
       "      <td>022011111195200108010</td>\n",
       "      <td>022015121195200108010</td>\n",
       "      <td>022016061195200108010</td>\n",
       "      <td>022019041195200108010</td>\n",
       "      <td>022019111195200108010</td>\n",
       "      <td>19</td>\n",
       "      <td>19</td>\n",
       "      <td>022011111195200108010</td>\n",
       "      <td></td>\n",
       "      <td></td>\n",
       "      <td></td>\n",
       "      <td></td>\n",
       "    </tr>\n",
       "    <tr>\n",
       "      <th>181035</th>\n",
       "      <td>022011111195200108011</td>\n",
       "      <td>5200108011</td>\n",
       "      <td>52001</td>\n",
       "      <td>52</td>\n",
       "      <td>02201111</td>\n",
       "      <td>022011111195200108011</td>\n",
       "      <td>022015121195200108011</td>\n",
       "      <td>022016061195200108011</td>\n",
       "      <td>022019041195200108011</td>\n",
       "      <td>022019111195200108011</td>\n",
       "      <td>19</td>\n",
       "      <td>19</td>\n",
       "      <td>022011111195200108011</td>\n",
       "      <td></td>\n",
       "      <td></td>\n",
       "      <td></td>\n",
       "      <td></td>\n",
       "    </tr>\n",
       "    <tr>\n",
       "      <th>181036</th>\n",
       "      <td>022011111195200108012</td>\n",
       "      <td>5200108012</td>\n",
       "      <td>52001</td>\n",
       "      <td>52</td>\n",
       "      <td>02201111</td>\n",
       "      <td>022011111195200108012</td>\n",
       "      <td>022015121195200108012</td>\n",
       "      <td>022016061195200108012</td>\n",
       "      <td>022019041195200108012</td>\n",
       "      <td>022019111195200108012</td>\n",
       "      <td>19</td>\n",
       "      <td>19</td>\n",
       "      <td>022011111195200108012</td>\n",
       "      <td></td>\n",
       "      <td></td>\n",
       "      <td></td>\n",
       "      <td></td>\n",
       "    </tr>\n",
       "    <tr>\n",
       "      <th>181037</th>\n",
       "      <td>022011111195200108013</td>\n",
       "      <td>5200108013</td>\n",
       "      <td>52001</td>\n",
       "      <td>52</td>\n",
       "      <td>02201111</td>\n",
       "      <td>022011111195200108013</td>\n",
       "      <td>022015121195200108013</td>\n",
       "      <td>022016061195200108013</td>\n",
       "      <td>022019041195200108013</td>\n",
       "      <td>022019111195200108013</td>\n",
       "      <td>19</td>\n",
       "      <td>19</td>\n",
       "      <td>022011111195200108013</td>\n",
       "      <td></td>\n",
       "      <td></td>\n",
       "      <td></td>\n",
       "      <td></td>\n",
       "    </tr>\n",
       "    <tr>\n",
       "      <th>181038</th>\n",
       "      <td>022011111195200108014</td>\n",
       "      <td>5200108014</td>\n",
       "      <td>52001</td>\n",
       "      <td>52</td>\n",
       "      <td>02201111</td>\n",
       "      <td>022011111195200108014</td>\n",
       "      <td>022015121195200108014</td>\n",
       "      <td>022016061195200108014</td>\n",
       "      <td>022019041195200108014</td>\n",
       "      <td>022019111195200108014</td>\n",
       "      <td>19</td>\n",
       "      <td>19</td>\n",
       "      <td>022011111195200108014</td>\n",
       "      <td></td>\n",
       "      <td></td>\n",
       "      <td></td>\n",
       "      <td></td>\n",
       "    </tr>\n",
       "  </tbody>\n",
       "</table>\n",
       "<p>181039 rows × 17 columns</p>\n",
       "</div>"
      ],
      "text/plain": [
       "                      cod_sec       CUSEC  ... cercana A19_ref cercana N19_ref\n",
       "0       022019041160100901001  0100901001  ...                                \n",
       "1       022019041160101001002  0101001002  ...                                \n",
       "2       022019041160103101001  0103101001  ...                                \n",
       "3       022019041160103301001  0103301001  ...                                \n",
       "4       022019041160103701001  0103701001  ...                                \n",
       "...                       ...         ...  ...             ...             ...\n",
       "181034  022011111195200108010  5200108010  ...                                \n",
       "181035  022011111195200108011  5200108011  ...                                \n",
       "181036  022011111195200108012  5200108012  ...                                \n",
       "181037  022011111195200108013  5200108013  ...                                \n",
       "181038  022011111195200108014  5200108014  ...                                \n",
       "\n",
       "[181039 rows x 17 columns]"
      ]
     },
     "execution_count": 14,
     "metadata": {},
     "output_type": "execute_result"
    }
   ],
   "source": [
    "equiv_secciones"
   ]
  },
  {
   "cell_type": "code",
   "execution_count": null,
   "metadata": {
    "id": "ZHptbjeUBdfr"
   },
   "outputs": [],
   "source": []
  },
  {
   "cell_type": "code",
   "execution_count": null,
   "metadata": {
    "id": "1NOG77DBDQdT"
   },
   "outputs": [],
   "source": [
    "02 201111 1 14 0100901001"
   ]
  },
  {
   "cell_type": "code",
   "execution_count": null,
   "metadata": {
    "id": "nNIFABkSDQaU"
   },
   "outputs": [],
   "source": [
    "02 201111 1 16 0100901001"
   ]
  },
  {
   "cell_type": "code",
   "execution_count": null,
   "metadata": {
    "id": "LJBl5mgKDQU0"
   },
   "outputs": [],
   "source": [
    "equiv_secciones['cercana D15_ref'] = equiv_secciones['cercana D15'].str[0:9] + equiv_secciones['cod_ccaa_ref'] + equiv_secciones['cercana D15'].str[11:]"
   ]
  },
  {
   "cell_type": "code",
   "execution_count": null,
   "metadata": {
    "id": "b5VgZc_RDQR8"
   },
   "outputs": [],
   "source": [
    "equiv_secciones['cercana J16_ref'] = equiv_secciones['cercana J16'].str[0:9] + equiv_secciones['cod_ccaa_ref'] + equiv_secciones['cercana J16'].str[11:]"
   ]
  },
  {
   "cell_type": "code",
   "execution_count": null,
   "metadata": {
    "id": "lFadK6g2DQJz"
   },
   "outputs": [],
   "source": [
    "equiv_secciones['cercana A19_ref'] = equiv_secciones['cercana A19'].str[0:9] + equiv_secciones['cod_ccaa_ref'] + equiv_secciones['cercana A19'].str[11:]"
   ]
  },
  {
   "cell_type": "code",
   "execution_count": null,
   "metadata": {
    "id": "NSRQhTqnDQHW"
   },
   "outputs": [],
   "source": [
    "equiv_secciones['cercana N19_ref'] = equiv_secciones['cercana N19'].str[0:9] + equiv_secciones['cod_ccaa_ref'] + equiv_secciones['cercana N19'].str[11:]"
   ]
  },
  {
   "cell_type": "code",
   "execution_count": null,
   "metadata": {
    "id": "2XT5sPGJDQET"
   },
   "outputs": [],
   "source": [
    "equiv_secciones['cod_sec_ref'] = ''"
   ]
  },
  {
   "cell_type": "code",
   "execution_count": null,
   "metadata": {
    "id": "iTf0-zlODQAW"
   },
   "outputs": [],
   "source": [
    "equiv_secciones['cod_sec_ref'] = equiv_secciones['cod_sec'].str[0:9] + equiv_secciones['cod_ccaa_ref'] + equiv_secciones['cod_sec'].str[11:]"
   ]
  },
  {
   "cell_type": "code",
   "execution_count": null,
   "metadata": {
    "id": "_7vnIdbUFB3F"
   },
   "outputs": [],
   "source": []
  },
  {
   "cell_type": "code",
   "execution_count": null,
   "metadata": {
    "id": "N_sqNxFqFBzm"
   },
   "outputs": [],
   "source": []
  },
  {
   "cell_type": "code",
   "execution_count": null,
   "metadata": {
    "id": "FppKMWFJEGws"
   },
   "outputs": [],
   "source": [
    "strings = {'Sección' : 'str', 'cod_ccaa' : 'str', 'cod_prov' : 'str', 'cod_mun' : 'str', 'cod_sec' : 'str'}"
   ]
  },
  {
   "cell_type": "code",
   "execution_count": null,
   "metadata": {
    "id": "AV8gd9V6EGt0"
   },
   "outputs": [],
   "source": [
    "df_eleccion_J16 = pd.read_csv('gen_J16_unif_cols_prov.txt', dtype = strings)"
   ]
  },
  {
   "cell_type": "code",
   "execution_count": null,
   "metadata": {
    "id": "u3nQh_hsEGrE"
   },
   "outputs": [],
   "source": []
  },
  {
   "cell_type": "code",
   "execution_count": null,
   "metadata": {
    "id": "1Jziud4mFRB3"
   },
   "outputs": [],
   "source": [
    "secciones_J16 = equiv_secciones.loc[equiv_secciones['Elección'] == '02201606']"
   ]
  },
  {
   "cell_type": "code",
   "execution_count": null,
   "metadata": {
    "colab": {
     "base_uri": "https://localhost:8080/",
     "height": 439
    },
    "executionInfo": {
     "elapsed": 207,
     "status": "ok",
     "timestamp": 1629717918505,
     "user": {
      "displayName": "Guillermo Barrio",
      "photoUrl": "",
      "userId": "06925154007558381895"
     },
     "user_tz": -120
    },
    "id": "w7XKqAZ-FRwd",
    "outputId": "573e10f3-200d-49bd-e896-e05430ee37d6"
   },
   "outputs": [
    {
     "data": {
      "text/html": [
       "<div>\n",
       "<style scoped>\n",
       "    .dataframe tbody tr th:only-of-type {\n",
       "        vertical-align: middle;\n",
       "    }\n",
       "\n",
       "    .dataframe tbody tr th {\n",
       "        vertical-align: top;\n",
       "    }\n",
       "\n",
       "    .dataframe thead th {\n",
       "        text-align: right;\n",
       "    }\n",
       "</style>\n",
       "<table border=\"1\" class=\"dataframe\">\n",
       "  <thead>\n",
       "    <tr style=\"text-align: right;\">\n",
       "      <th></th>\n",
       "      <th>cod_sec</th>\n",
       "      <th>CUSEC</th>\n",
       "      <th>CUMUN</th>\n",
       "      <th>CPRO</th>\n",
       "      <th>Elección</th>\n",
       "      <th>cercana N11</th>\n",
       "      <th>cercana D15</th>\n",
       "      <th>cercana J16</th>\n",
       "      <th>cercana A19</th>\n",
       "      <th>cercana N19</th>\n",
       "      <th>cod_ccaa_orig</th>\n",
       "      <th>cod_ccaa_ref</th>\n",
       "      <th>cercana N11_ref</th>\n",
       "      <th>cercana D15_ref</th>\n",
       "      <th>cercana J16_ref</th>\n",
       "      <th>cercana A19_ref</th>\n",
       "      <th>cercana N19_ref</th>\n",
       "      <th>cod_sec_ref</th>\n",
       "    </tr>\n",
       "  </thead>\n",
       "  <tbody>\n",
       "    <tr>\n",
       "      <th>72634</th>\n",
       "      <td>022016061160100101001</td>\n",
       "      <td>0100101001</td>\n",
       "      <td>01001</td>\n",
       "      <td>01</td>\n",
       "      <td>02201606</td>\n",
       "      <td>022011111160100101001</td>\n",
       "      <td>022015121160100101001</td>\n",
       "      <td>022016061160100101001</td>\n",
       "      <td>022019041160100101002</td>\n",
       "      <td>022019111160100101002</td>\n",
       "      <td>16</td>\n",
       "      <td>14</td>\n",
       "      <td>022011111140100101001</td>\n",
       "      <td>022015121140100101001</td>\n",
       "      <td>022016061140100101001</td>\n",
       "      <td>022019041140100101002</td>\n",
       "      <td>022019111140100101002</td>\n",
       "      <td>022016061140100101001</td>\n",
       "    </tr>\n",
       "    <tr>\n",
       "      <th>72635</th>\n",
       "      <td>022016061160100101002</td>\n",
       "      <td>0100101002</td>\n",
       "      <td>01001</td>\n",
       "      <td>01</td>\n",
       "      <td>02201606</td>\n",
       "      <td>022011111160100101001</td>\n",
       "      <td>022015121160100101002</td>\n",
       "      <td>022016061160100101002</td>\n",
       "      <td>022019041160100101001</td>\n",
       "      <td>022019111160100101001</td>\n",
       "      <td>16</td>\n",
       "      <td>14</td>\n",
       "      <td>022011111140100101001</td>\n",
       "      <td>022015121140100101002</td>\n",
       "      <td>022016061140100101002</td>\n",
       "      <td>022019041140100101001</td>\n",
       "      <td>022019111140100101001</td>\n",
       "      <td>022016061140100101002</td>\n",
       "    </tr>\n",
       "    <tr>\n",
       "      <th>72636</th>\n",
       "      <td>022016061160100201001</td>\n",
       "      <td>0100201001</td>\n",
       "      <td>01002</td>\n",
       "      <td>01</td>\n",
       "      <td>02201606</td>\n",
       "      <td>022011111160100201001</td>\n",
       "      <td>022015121160100201001</td>\n",
       "      <td>022016061160100201001</td>\n",
       "      <td>022019041160100201001</td>\n",
       "      <td>022019111160100201001</td>\n",
       "      <td>16</td>\n",
       "      <td>14</td>\n",
       "      <td>022011111140100201001</td>\n",
       "      <td>022015121140100201001</td>\n",
       "      <td>022016061140100201001</td>\n",
       "      <td>022019041140100201001</td>\n",
       "      <td>022019111140100201001</td>\n",
       "      <td>022016061140100201001</td>\n",
       "    </tr>\n",
       "    <tr>\n",
       "      <th>72637</th>\n",
       "      <td>022016061160100201002</td>\n",
       "      <td>0100201002</td>\n",
       "      <td>01002</td>\n",
       "      <td>01</td>\n",
       "      <td>02201606</td>\n",
       "      <td>022011111160100201002</td>\n",
       "      <td>022015121160100201002</td>\n",
       "      <td>022016061160100201002</td>\n",
       "      <td>022019041160100201002</td>\n",
       "      <td>022019111160100201002</td>\n",
       "      <td>16</td>\n",
       "      <td>14</td>\n",
       "      <td>022011111140100201002</td>\n",
       "      <td>022015121140100201002</td>\n",
       "      <td>022016061140100201002</td>\n",
       "      <td>022019041140100201002</td>\n",
       "      <td>022019111140100201002</td>\n",
       "      <td>022016061140100201002</td>\n",
       "    </tr>\n",
       "    <tr>\n",
       "      <th>72638</th>\n",
       "      <td>022016061160100201003</td>\n",
       "      <td>0100201003</td>\n",
       "      <td>01002</td>\n",
       "      <td>01</td>\n",
       "      <td>02201606</td>\n",
       "      <td>022011111160100201003</td>\n",
       "      <td>022015121160100201003</td>\n",
       "      <td>022016061160100201003</td>\n",
       "      <td>022019041160100201003</td>\n",
       "      <td>022019111160100201003</td>\n",
       "      <td>16</td>\n",
       "      <td>14</td>\n",
       "      <td>022011111140100201003</td>\n",
       "      <td>022015121140100201003</td>\n",
       "      <td>022016061140100201003</td>\n",
       "      <td>022019041140100201003</td>\n",
       "      <td>022019111140100201003</td>\n",
       "      <td>022016061140100201003</td>\n",
       "    </tr>\n",
       "    <tr>\n",
       "      <th>...</th>\n",
       "      <td>...</td>\n",
       "      <td>...</td>\n",
       "      <td>...</td>\n",
       "      <td>...</td>\n",
       "      <td>...</td>\n",
       "      <td>...</td>\n",
       "      <td>...</td>\n",
       "      <td>...</td>\n",
       "      <td>...</td>\n",
       "      <td>...</td>\n",
       "      <td>...</td>\n",
       "      <td>...</td>\n",
       "      <td>...</td>\n",
       "      <td>...</td>\n",
       "      <td>...</td>\n",
       "      <td>...</td>\n",
       "      <td>...</td>\n",
       "      <td>...</td>\n",
       "    </tr>\n",
       "    <tr>\n",
       "      <th>108844</th>\n",
       "      <td>022016061195200108011</td>\n",
       "      <td>5200108011</td>\n",
       "      <td>52001</td>\n",
       "      <td>52</td>\n",
       "      <td>02201606</td>\n",
       "      <td>022011111195200108011</td>\n",
       "      <td>022015121195200108011</td>\n",
       "      <td>022016061195200108011</td>\n",
       "      <td>022019041195200108011</td>\n",
       "      <td>022019111195200108011</td>\n",
       "      <td>19</td>\n",
       "      <td>19</td>\n",
       "      <td>022011111195200108011</td>\n",
       "      <td>022015121195200108011</td>\n",
       "      <td>022016061195200108011</td>\n",
       "      <td>022019041195200108011</td>\n",
       "      <td>022019111195200108011</td>\n",
       "      <td>022016061195200108011</td>\n",
       "    </tr>\n",
       "    <tr>\n",
       "      <th>108845</th>\n",
       "      <td>022016061195200108012</td>\n",
       "      <td>5200108012</td>\n",
       "      <td>52001</td>\n",
       "      <td>52</td>\n",
       "      <td>02201606</td>\n",
       "      <td>022011111195200108012</td>\n",
       "      <td>022015121195200108012</td>\n",
       "      <td>022016061195200108012</td>\n",
       "      <td>022019041195200108012</td>\n",
       "      <td>022019111195200108012</td>\n",
       "      <td>19</td>\n",
       "      <td>19</td>\n",
       "      <td>022011111195200108012</td>\n",
       "      <td>022015121195200108012</td>\n",
       "      <td>022016061195200108012</td>\n",
       "      <td>022019041195200108012</td>\n",
       "      <td>022019111195200108012</td>\n",
       "      <td>022016061195200108012</td>\n",
       "    </tr>\n",
       "    <tr>\n",
       "      <th>108846</th>\n",
       "      <td>022016061195200108013</td>\n",
       "      <td>5200108013</td>\n",
       "      <td>52001</td>\n",
       "      <td>52</td>\n",
       "      <td>02201606</td>\n",
       "      <td>022011111195200108013</td>\n",
       "      <td>022015121195200108013</td>\n",
       "      <td>022016061195200108013</td>\n",
       "      <td>022019041195200108013</td>\n",
       "      <td>022019111195200108013</td>\n",
       "      <td>19</td>\n",
       "      <td>19</td>\n",
       "      <td>022011111195200108013</td>\n",
       "      <td>022015121195200108013</td>\n",
       "      <td>022016061195200108013</td>\n",
       "      <td>022019041195200108013</td>\n",
       "      <td>022019111195200108013</td>\n",
       "      <td>022016061195200108013</td>\n",
       "    </tr>\n",
       "    <tr>\n",
       "      <th>108847</th>\n",
       "      <td>022016061195200108014</td>\n",
       "      <td>5200108014</td>\n",
       "      <td>52001</td>\n",
       "      <td>52</td>\n",
       "      <td>02201606</td>\n",
       "      <td>022011111195200108014</td>\n",
       "      <td>022015121195200108014</td>\n",
       "      <td>022016061195200108014</td>\n",
       "      <td>022019041195200108014</td>\n",
       "      <td>022019111195200108014</td>\n",
       "      <td>19</td>\n",
       "      <td>19</td>\n",
       "      <td>022011111195200108014</td>\n",
       "      <td>022015121195200108014</td>\n",
       "      <td>022016061195200108014</td>\n",
       "      <td>022019041195200108014</td>\n",
       "      <td>022019111195200108014</td>\n",
       "      <td>022016061195200108014</td>\n",
       "    </tr>\n",
       "    <tr>\n",
       "      <th>108848</th>\n",
       "      <td>022016061195200108015</td>\n",
       "      <td>5200108015</td>\n",
       "      <td>52001</td>\n",
       "      <td>52</td>\n",
       "      <td>02201606</td>\n",
       "      <td>022011111195200108007</td>\n",
       "      <td>022015121195200108015</td>\n",
       "      <td>022016061195200108015</td>\n",
       "      <td>022019041195200108015</td>\n",
       "      <td>022019111195200108015</td>\n",
       "      <td>19</td>\n",
       "      <td>19</td>\n",
       "      <td>022011111195200108007</td>\n",
       "      <td>022015121195200108015</td>\n",
       "      <td>022016061195200108015</td>\n",
       "      <td>022019041195200108015</td>\n",
       "      <td>022019111195200108015</td>\n",
       "      <td>022016061195200108015</td>\n",
       "    </tr>\n",
       "  </tbody>\n",
       "</table>\n",
       "<p>36215 rows × 18 columns</p>\n",
       "</div>"
      ],
      "text/plain": [
       "                      cod_sec  ...            cod_sec_ref\n",
       "72634   022016061160100101001  ...  022016061140100101001\n",
       "72635   022016061160100101002  ...  022016061140100101002\n",
       "72636   022016061160100201001  ...  022016061140100201001\n",
       "72637   022016061160100201002  ...  022016061140100201002\n",
       "72638   022016061160100201003  ...  022016061140100201003\n",
       "...                       ...  ...                    ...\n",
       "108844  022016061195200108011  ...  022016061195200108011\n",
       "108845  022016061195200108012  ...  022016061195200108012\n",
       "108846  022016061195200108013  ...  022016061195200108013\n",
       "108847  022016061195200108014  ...  022016061195200108014\n",
       "108848  022016061195200108015  ...  022016061195200108015\n",
       "\n",
       "[36215 rows x 18 columns]"
      ]
     },
     "execution_count": 24,
     "metadata": {},
     "output_type": "execute_result"
    }
   ],
   "source": [
    "secciones_J16"
   ]
  },
  {
   "cell_type": "code",
   "execution_count": null,
   "metadata": {
    "colab": {
     "base_uri": "https://localhost:8080/"
    },
    "executionInfo": {
     "elapsed": 199,
     "status": "ok",
     "timestamp": 1629717924278,
     "user": {
      "displayName": "Guillermo Barrio",
      "photoUrl": "",
      "userId": "06925154007558381895"
     },
     "user_tz": -120
    },
    "id": "HbmENBbMEGoV",
    "outputId": "6c3e584a-8011-463b-8a0f-3b22218c79d9"
   },
   "outputs": [
    {
     "data": {
      "text/plain": [
       "25"
      ]
     },
     "execution_count": 25,
     "metadata": {},
     "output_type": "execute_result"
    }
   ],
   "source": [
    "len(set(secciones_J16['cercana J16_ref'].unique()) - set(df_eleccion_J16['Sección'].unique()))"
   ]
  },
  {
   "cell_type": "code",
   "execution_count": null,
   "metadata": {
    "id": "oYkp779WEGlN"
   },
   "outputs": [],
   "source": []
  },
  {
   "cell_type": "code",
   "execution_count": null,
   "metadata": {
    "id": "pLbDBI4yEGim"
   },
   "outputs": [],
   "source": [
    "df_eleccion_A19 = pd.read_csv('gen_A19_unif_cols_prov.txt', dtype = strings)"
   ]
  },
  {
   "cell_type": "code",
   "execution_count": null,
   "metadata": {
    "id": "tTXnYHsYEGeM"
   },
   "outputs": [],
   "source": [
    "secciones_A19 = equiv_secciones.loc[equiv_secciones['Elección'] == '02201904']"
   ]
  },
  {
   "cell_type": "code",
   "execution_count": null,
   "metadata": {
    "id": "7c0cAdonEGaU"
   },
   "outputs": [],
   "source": []
  },
  {
   "cell_type": "code",
   "execution_count": null,
   "metadata": {
    "colab": {
     "base_uri": "https://localhost:8080/"
    },
    "executionInfo": {
     "elapsed": 198,
     "status": "ok",
     "timestamp": 1629717932956,
     "user": {
      "displayName": "Guillermo Barrio",
      "photoUrl": "",
      "userId": "06925154007558381895"
     },
     "user_tz": -120
    },
    "id": "iqsdOANxGUpK",
    "outputId": "5a20071a-aee6-4721-a759-1161454af5d7"
   },
   "outputs": [
    {
     "data": {
      "text/plain": [
       "0"
      ]
     },
     "execution_count": 28,
     "metadata": {},
     "output_type": "execute_result"
    }
   ],
   "source": [
    "len(set(secciones_A19['cercana A19_ref'].unique()) - set(df_eleccion_A19['Sección'].unique()))"
   ]
  },
  {
   "cell_type": "code",
   "execution_count": null,
   "metadata": {
    "id": "-IT__gHDGUmG"
   },
   "outputs": [],
   "source": []
  },
  {
   "cell_type": "code",
   "execution_count": null,
   "metadata": {
    "colab": {
     "base_uri": "https://localhost:8080/"
    },
    "executionInfo": {
     "elapsed": 360,
     "status": "ok",
     "timestamp": 1629717935544,
     "user": {
      "displayName": "Guillermo Barrio",
      "photoUrl": "",
      "userId": "06925154007558381895"
     },
     "user_tz": -120
    },
    "id": "gbs627RgGUi-",
    "outputId": "c3549fc1-346a-4db3-8f99-bd73d3f5386a"
   },
   "outputs": [
    {
     "data": {
      "text/plain": [
       "0"
      ]
     },
     "execution_count": 29,
     "metadata": {},
     "output_type": "execute_result"
    }
   ],
   "source": [
    "len(set(df_eleccion_A19['Sección'].unique()) - set(secciones_A19['cercana A19_ref'].unique()))"
   ]
  },
  {
   "cell_type": "code",
   "execution_count": null,
   "metadata": {
    "id": "bKLOoJCuGUgG"
   },
   "outputs": [],
   "source": []
  },
  {
   "cell_type": "code",
   "execution_count": null,
   "metadata": {
    "colab": {
     "base_uri": "https://localhost:8080/"
    },
    "executionInfo": {
     "elapsed": 204,
     "status": "ok",
     "timestamp": 1629717937911,
     "user": {
      "displayName": "Guillermo Barrio",
      "photoUrl": "",
      "userId": "06925154007558381895"
     },
     "user_tz": -120
    },
    "id": "uPf_cub0HN_G",
    "outputId": "495fecac-937d-498d-cdd5-ce587e4deffd"
   },
   "outputs": [
    {
     "data": {
      "text/plain": [
       "Index(['cod_sec', 'CUSEC', 'CUMUN', 'CPRO', 'Elección', 'cercana N11',\n",
       "       'cercana D15', 'cercana J16', 'cercana A19', 'cercana N19',\n",
       "       'cod_ccaa_orig', 'cod_ccaa_ref', 'cercana N11_ref', 'cercana D15_ref',\n",
       "       'cercana J16_ref', 'cercana A19_ref', 'cercana N19_ref', 'cod_sec_ref'],\n",
       "      dtype='object')"
      ]
     },
     "execution_count": 30,
     "metadata": {},
     "output_type": "execute_result"
    }
   ],
   "source": [
    "equiv_secciones.columns"
   ]
  },
  {
   "cell_type": "code",
   "execution_count": null,
   "metadata": {
    "id": "T_t9EMf1HN3v"
   },
   "outputs": [],
   "source": []
  },
  {
   "cell_type": "code",
   "execution_count": null,
   "metadata": {
    "id": "pU19KkDpGUc_"
   },
   "outputs": [],
   "source": [
    "similitud_secciones_def_REF = equiv_secciones[['cod_sec_ref', 'CUSEC', 'CUMUN', 'CPRO', 'Elección', 'cod_ccaa_orig', 'cod_ccaa_ref', 'cercana N11_ref', 'cercana D15_ref',\n",
    "       'cercana J16_ref', 'cercana A19_ref', 'cercana N19_ref' ]]"
   ]
  },
  {
   "cell_type": "code",
   "execution_count": null,
   "metadata": {
    "id": "Om9NrQh4H_cv"
   },
   "outputs": [],
   "source": []
  },
  {
   "cell_type": "code",
   "execution_count": null,
   "metadata": {
    "colab": {
     "base_uri": "https://localhost:8080/",
     "height": 439
    },
    "executionInfo": {
     "elapsed": 192,
     "status": "ok",
     "timestamp": 1629717944043,
     "user": {
      "displayName": "Guillermo Barrio",
      "photoUrl": "",
      "userId": "06925154007558381895"
     },
     "user_tz": -120
    },
    "id": "dZCJTKLeH_aJ",
    "outputId": "60b0912d-3a76-4191-f2e8-8e0fd635668a"
   },
   "outputs": [
    {
     "data": {
      "text/html": [
       "<div>\n",
       "<style scoped>\n",
       "    .dataframe tbody tr th:only-of-type {\n",
       "        vertical-align: middle;\n",
       "    }\n",
       "\n",
       "    .dataframe tbody tr th {\n",
       "        vertical-align: top;\n",
       "    }\n",
       "\n",
       "    .dataframe thead th {\n",
       "        text-align: right;\n",
       "    }\n",
       "</style>\n",
       "<table border=\"1\" class=\"dataframe\">\n",
       "  <thead>\n",
       "    <tr style=\"text-align: right;\">\n",
       "      <th></th>\n",
       "      <th>cod_sec_ref</th>\n",
       "      <th>CUSEC</th>\n",
       "      <th>CUMUN</th>\n",
       "      <th>CPRO</th>\n",
       "      <th>Elección</th>\n",
       "      <th>cod_ccaa_orig</th>\n",
       "      <th>cod_ccaa_ref</th>\n",
       "      <th>cercana N11_ref</th>\n",
       "      <th>cercana D15_ref</th>\n",
       "      <th>cercana J16_ref</th>\n",
       "      <th>cercana A19_ref</th>\n",
       "      <th>cercana N19_ref</th>\n",
       "    </tr>\n",
       "  </thead>\n",
       "  <tbody>\n",
       "    <tr>\n",
       "      <th>0</th>\n",
       "      <td>022019041140100901001</td>\n",
       "      <td>0100901001</td>\n",
       "      <td>01009</td>\n",
       "      <td>01</td>\n",
       "      <td>02201904</td>\n",
       "      <td>16</td>\n",
       "      <td>14</td>\n",
       "      <td>022011111140100901001</td>\n",
       "      <td>022015121140100901001</td>\n",
       "      <td>022016061140100901001</td>\n",
       "      <td>022019041140100901001</td>\n",
       "      <td>022019111140100901001</td>\n",
       "    </tr>\n",
       "    <tr>\n",
       "      <th>1</th>\n",
       "      <td>022019041140101001002</td>\n",
       "      <td>0101001002</td>\n",
       "      <td>01010</td>\n",
       "      <td>01</td>\n",
       "      <td>02201904</td>\n",
       "      <td>16</td>\n",
       "      <td>14</td>\n",
       "      <td>022011111140101001002</td>\n",
       "      <td>022015121140101001002</td>\n",
       "      <td>022016061140101001002</td>\n",
       "      <td>022019041140101001002</td>\n",
       "      <td>022019111140101001002</td>\n",
       "    </tr>\n",
       "    <tr>\n",
       "      <th>2</th>\n",
       "      <td>022019041140103101001</td>\n",
       "      <td>0103101001</td>\n",
       "      <td>01031</td>\n",
       "      <td>01</td>\n",
       "      <td>02201904</td>\n",
       "      <td>16</td>\n",
       "      <td>14</td>\n",
       "      <td>022011111140103101001</td>\n",
       "      <td>022015121140103101001</td>\n",
       "      <td>022016061140103101001</td>\n",
       "      <td>022019041140103101001</td>\n",
       "      <td>022019111140103101001</td>\n",
       "    </tr>\n",
       "    <tr>\n",
       "      <th>3</th>\n",
       "      <td>022019041140103301001</td>\n",
       "      <td>0103301001</td>\n",
       "      <td>01033</td>\n",
       "      <td>01</td>\n",
       "      <td>02201904</td>\n",
       "      <td>16</td>\n",
       "      <td>14</td>\n",
       "      <td>022011111140103301001</td>\n",
       "      <td>022015121140103301001</td>\n",
       "      <td>022016061140103301001</td>\n",
       "      <td>022019041140103301001</td>\n",
       "      <td>022019111140103301001</td>\n",
       "    </tr>\n",
       "    <tr>\n",
       "      <th>4</th>\n",
       "      <td>022019041140103701001</td>\n",
       "      <td>0103701001</td>\n",
       "      <td>01037</td>\n",
       "      <td>01</td>\n",
       "      <td>02201904</td>\n",
       "      <td>16</td>\n",
       "      <td>14</td>\n",
       "      <td>022011111140103701001</td>\n",
       "      <td>022015121140103701001</td>\n",
       "      <td>022016061140103701001</td>\n",
       "      <td>022019041140103701001</td>\n",
       "      <td>022019111140103701001</td>\n",
       "    </tr>\n",
       "    <tr>\n",
       "      <th>...</th>\n",
       "      <td>...</td>\n",
       "      <td>...</td>\n",
       "      <td>...</td>\n",
       "      <td>...</td>\n",
       "      <td>...</td>\n",
       "      <td>...</td>\n",
       "      <td>...</td>\n",
       "      <td>...</td>\n",
       "      <td>...</td>\n",
       "      <td>...</td>\n",
       "      <td>...</td>\n",
       "      <td>...</td>\n",
       "    </tr>\n",
       "    <tr>\n",
       "      <th>181034</th>\n",
       "      <td>022011111195200108010</td>\n",
       "      <td>5200108010</td>\n",
       "      <td>52001</td>\n",
       "      <td>52</td>\n",
       "      <td>02201111</td>\n",
       "      <td>19</td>\n",
       "      <td>19</td>\n",
       "      <td>022011111195200108010</td>\n",
       "      <td>022015121195200108010</td>\n",
       "      <td>022016061195200108010</td>\n",
       "      <td>022019041195200108010</td>\n",
       "      <td>022019111195200108010</td>\n",
       "    </tr>\n",
       "    <tr>\n",
       "      <th>181035</th>\n",
       "      <td>022011111195200108011</td>\n",
       "      <td>5200108011</td>\n",
       "      <td>52001</td>\n",
       "      <td>52</td>\n",
       "      <td>02201111</td>\n",
       "      <td>19</td>\n",
       "      <td>19</td>\n",
       "      <td>022011111195200108011</td>\n",
       "      <td>022015121195200108011</td>\n",
       "      <td>022016061195200108011</td>\n",
       "      <td>022019041195200108011</td>\n",
       "      <td>022019111195200108011</td>\n",
       "    </tr>\n",
       "    <tr>\n",
       "      <th>181036</th>\n",
       "      <td>022011111195200108012</td>\n",
       "      <td>5200108012</td>\n",
       "      <td>52001</td>\n",
       "      <td>52</td>\n",
       "      <td>02201111</td>\n",
       "      <td>19</td>\n",
       "      <td>19</td>\n",
       "      <td>022011111195200108012</td>\n",
       "      <td>022015121195200108012</td>\n",
       "      <td>022016061195200108012</td>\n",
       "      <td>022019041195200108012</td>\n",
       "      <td>022019111195200108012</td>\n",
       "    </tr>\n",
       "    <tr>\n",
       "      <th>181037</th>\n",
       "      <td>022011111195200108013</td>\n",
       "      <td>5200108013</td>\n",
       "      <td>52001</td>\n",
       "      <td>52</td>\n",
       "      <td>02201111</td>\n",
       "      <td>19</td>\n",
       "      <td>19</td>\n",
       "      <td>022011111195200108013</td>\n",
       "      <td>022015121195200108013</td>\n",
       "      <td>022016061195200108013</td>\n",
       "      <td>022019041195200108013</td>\n",
       "      <td>022019111195200108013</td>\n",
       "    </tr>\n",
       "    <tr>\n",
       "      <th>181038</th>\n",
       "      <td>022011111195200108014</td>\n",
       "      <td>5200108014</td>\n",
       "      <td>52001</td>\n",
       "      <td>52</td>\n",
       "      <td>02201111</td>\n",
       "      <td>19</td>\n",
       "      <td>19</td>\n",
       "      <td>022011111195200108014</td>\n",
       "      <td>022015121195200108014</td>\n",
       "      <td>022016061195200108014</td>\n",
       "      <td>022019041195200108014</td>\n",
       "      <td>022019111195200108014</td>\n",
       "    </tr>\n",
       "  </tbody>\n",
       "</table>\n",
       "<p>181039 rows × 12 columns</p>\n",
       "</div>"
      ],
      "text/plain": [
       "                  cod_sec_ref  ...        cercana N19_ref\n",
       "0       022019041140100901001  ...  022019111140100901001\n",
       "1       022019041140101001002  ...  022019111140101001002\n",
       "2       022019041140103101001  ...  022019111140103101001\n",
       "3       022019041140103301001  ...  022019111140103301001\n",
       "4       022019041140103701001  ...  022019111140103701001\n",
       "...                       ...  ...                    ...\n",
       "181034  022011111195200108010  ...  022019111195200108010\n",
       "181035  022011111195200108011  ...  022019111195200108011\n",
       "181036  022011111195200108012  ...  022019111195200108012\n",
       "181037  022011111195200108013  ...  022019111195200108013\n",
       "181038  022011111195200108014  ...  022019111195200108014\n",
       "\n",
       "[181039 rows x 12 columns]"
      ]
     },
     "execution_count": 32,
     "metadata": {},
     "output_type": "execute_result"
    }
   ],
   "source": [
    "similitud_secciones_def_REF "
   ]
  },
  {
   "cell_type": "code",
   "execution_count": null,
   "metadata": {
    "id": "uixIWBZIH_XI"
   },
   "outputs": [],
   "source": []
  },
  {
   "cell_type": "code",
   "execution_count": null,
   "metadata": {
    "id": "rSNCYZKdH_UI"
   },
   "outputs": [],
   "source": [
    "similitud_secciones_def_REF.to_csv('similitud_secciones_def_REF.csv', index = False)"
   ]
  }
 ],
 "metadata": {
  "colab": {
   "authorship_tag": "ABX9TyNrpekAZZimX6SQQdBw7GMT",
   "collapsed_sections": [],
   "mount_file_id": "1et0SxpCvJ6Anuec0182jsMSm80hDqXtW",
   "name": "Evolución_secciones_reformado.ipynb",
   "provenance": []
  },
  "kernelspec": {
   "display_name": "Python 3",
   "language": "python",
   "name": "python3"
  },
  "language_info": {
   "codemirror_mode": {
    "name": "ipython",
    "version": 3
   },
   "file_extension": ".py",
   "mimetype": "text/x-python",
   "name": "python",
   "nbconvert_exporter": "python",
   "pygments_lexer": "ipython3",
   "version": "3.8.3"
  }
 },
 "nbformat": 4,
 "nbformat_minor": 1
}
